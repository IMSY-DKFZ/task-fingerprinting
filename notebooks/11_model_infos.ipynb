{
 "cells": [
  {
   "metadata": {},
   "cell_type": "markdown",
   "source": [
    "## Information on neural architectures\n",
    "\n",
    "This notebook produces Tab. 1 of the Extended Data. It aggregates information of the neural architectures used (specifically in the first transfer scenario)."
   ],
   "id": "3b476493b259e79c"
  },
  {
   "cell_type": "code",
   "id": "initial_id",
   "metadata": {
    "collapsed": true,
    "ExecuteTime": {
     "end_time": "2024-10-15T11:03:17.950633Z",
     "start_time": "2024-10-15T11:03:14.541960Z"
    }
   },
   "source": [
    "import  pandas as pd\n",
    "import humanize\n",
    "from mml.core.models.timm import TimmGenericModel\n",
    "from mml_tf.paths import DATA_PATH, FIG_PATH"
   ],
   "outputs": [],
   "execution_count": 1
  },
  {
   "metadata": {
    "ExecuteTime": {
     "end_time": "2024-10-15T11:04:29.407087Z",
     "start_time": "2024-10-15T11:04:29.403136Z"
    }
   },
   "cell_type": "code",
   "source": "archs = ['tf_efficientnet_b2', 'tf_efficientnet_b2_ap', 'tf_efficientnet_b2_ns', 'tf_efficientnet_cc_b0_4e', 'swsl_resnet50', 'ssl_resnext50_32x4d', 'regnetx_032', 'regnety_032', 'rexnet_100', 'ecaresnet50d', 'cspdarknet53', 'mixnet_l', 'cspresnext50', 'cspresnet50', 'ese_vovnet39b', 'resnest50d', 'hrnet_w18', 'skresnet34', 'mobilenetv3_large_100', 'res2net50_26w_4s', 'resnet34']",
   "id": "9134faef938ab31",
   "outputs": [],
   "execution_count": 5
  },
  {
   "metadata": {},
   "cell_type": "markdown",
   "source": "Note that multiple updates of the timm library changed weights and other minor details. We try to extract ImageNet performance on respective older reports.",
   "id": "57d14d0dce53f005"
  },
  {
   "metadata": {
    "ExecuteTime": {
     "end_time": "2024-10-15T11:05:43.783981Z",
     "start_time": "2024-10-15T11:05:43.774005Z"
    }
   },
   "cell_type": "code",
   "source": [
    "results2020 = pd.read_csv(DATA_PATH / 'results-imagenet-b496b7bde9861b8736c6ef74c735313e20058252.csv', index_col=0)\n",
    "results2022 = pd.read_csv(DATA_PATH / 'results-imagenet-960f5f92e645a8d02757bf32fa680499127d2c98.csv', index_col=0)"
   ],
   "id": "b238284ea41e48a9",
   "outputs": [],
   "execution_count": 6
  },
  {
   "metadata": {
    "ExecuteTime": {
     "end_time": "2024-10-15T11:03:31.107041Z",
     "start_time": "2024-10-15T11:03:22.202575Z"
    }
   },
   "cell_type": "code",
   "source": [
    "arch_infos = {}\n",
    "for arch_name in archs:\n",
    "    res_df = results2022 if arch_name not in results2020.index else results2020\n",
    "    _info = {'Accuracy': res_df.at[arch_name,'top1'], 'params (reported)': res_df.at[arch_name,'param_count']}\n",
    "    m = TimmGenericModel(name=arch_name, pretrained=True, drop_rate=0.)\n",
    "    _info['measured params'] = humanize.intword(m.train().count_parameters(only_trainable=True)['backbone'])\n",
    "    _info['hub_id'] = m.backbone.default_cfg['hf_hub_id']\n",
    "    arch_infos[arch_name] = _info\n",
    "info_df = pd.DataFrame(arch_infos)\n"
   ],
   "id": "aafacea5245e672e",
   "outputs": [
    {
     "name": "stderr",
     "output_type": "stream",
     "text": [
      "/home/scholzpa/miniconda3/envs/mml/lib/python3.8/site-packages/timm/models/_factory.py:114: UserWarning: Mapping deprecated model name tf_efficientnet_b2_ap to current tf_efficientnet_b2.ap_in1k.\n",
      "  model = create_fn(\n",
      "/home/scholzpa/miniconda3/envs/mml/lib/python3.8/site-packages/timm/models/_factory.py:114: UserWarning: Mapping deprecated model name tf_efficientnet_b2_ns to current tf_efficientnet_b2.ns_jft_in1k.\n",
      "  model = create_fn(\n",
      "/home/scholzpa/miniconda3/envs/mml/lib/python3.8/site-packages/timm/models/_factory.py:114: UserWarning: Mapping deprecated model name swsl_resnet50 to current resnet50.fb_swsl_ig1b_ft_in1k.\n",
      "  model = create_fn(\n",
      "/home/scholzpa/miniconda3/envs/mml/lib/python3.8/site-packages/timm/models/_factory.py:114: UserWarning: Mapping deprecated model name ssl_resnext50_32x4d to current resnext50_32x4d.fb_ssl_yfcc100m_ft_in1k.\n",
      "  model = create_fn(\n"
     ]
    }
   ],
   "execution_count": 4
  },
  {
   "metadata": {
    "ExecuteTime": {
     "end_time": "2024-10-15T11:05:49.044953Z",
     "start_time": "2024-10-15T11:05:49.033107Z"
    }
   },
   "cell_type": "code",
   "source": "info_df.T",
   "id": "ac157a56ea9c3200",
   "outputs": [
    {
     "data": {
      "text/plain": [
       "                         Accuracy params (reported) measured params  \\\n",
       "tf_efficientnet_b2         80.086              9.11     7.7 million   \n",
       "tf_efficientnet_b2_ap        80.3              9.11     7.7 million   \n",
       "tf_efficientnet_b2_ns       82.38              9.11     7.7 million   \n",
       "tf_efficientnet_cc_b0_4e   77.306             13.31    12.0 million   \n",
       "swsl_resnet50              81.166             25.56    23.5 million   \n",
       "ssl_resnext50_32x4d        80.318             25.03    23.0 million   \n",
       "regnetx_032                78.172              15.3    14.3 million   \n",
       "regnety_032                78.886             19.44    17.9 million   \n",
       "rexnet_100                 77.858               4.8     3.5 million   \n",
       "ecaresnet50d               80.592             25.58    23.5 million   \n",
       "cspdarknet53               80.058             27.64    26.6 million   \n",
       "mixnet_l                   78.976              7.33     5.8 million   \n",
       "cspresnext50                80.04             20.57    18.5 million   \n",
       "cspresnet50                79.574             21.62    20.6 million   \n",
       "ese_vovnet39b               79.32             24.57    23.5 million   \n",
       "resnest50d                 80.974             27.48    25.4 million   \n",
       "hrnet_w18                  76.758              21.3    19.3 million   \n",
       "skresnet34                 76.912             22.28    21.8 million   \n",
       "mobilenetv3_large_100      75.766              5.48     4.2 million   \n",
       "res2net50_26w_4s           77.964              25.7    23.7 million   \n",
       "resnet34                    75.11              21.8    21.3 million   \n",
       "\n",
       "                                                                hub_id  \n",
       "tf_efficientnet_b2                 timm/tf_efficientnet_b2.ns_jft_in1k  \n",
       "tf_efficientnet_b2_ap                  timm/tf_efficientnet_b2.ap_in1k  \n",
       "tf_efficientnet_b2_ns              timm/tf_efficientnet_b2.ns_jft_in1k  \n",
       "tf_efficientnet_cc_b0_4e            timm/tf_efficientnet_cc_b0_4e.in1k  \n",
       "swsl_resnet50                       timm/resnet50.fb_swsl_ig1b_ft_in1k  \n",
       "ssl_resnext50_32x4d       timm/resnext50_32x4d.fb_ssl_yfcc100m_ft_in1k  \n",
       "regnetx_032                                  timm/regnetx_032.tv2_in1k  \n",
       "regnety_032                                   timm/regnety_032.ra_in1k  \n",
       "rexnet_100                                    timm/rexnet_100.nav_in1k  \n",
       "ecaresnet50d                               timm/ecaresnet50d.miil_in1k  \n",
       "cspdarknet53                                 timm/cspdarknet53.ra_in1k  \n",
       "mixnet_l                                         timm/mixnet_l.ft_in1k  \n",
       "cspresnext50                                 timm/cspresnext50.ra_in1k  \n",
       "cspresnet50                                   timm/cspresnet50.ra_in1k  \n",
       "ese_vovnet39b                               timm/ese_vovnet39b.ra_in1k  \n",
       "resnest50d                                        timm/resnest50d.in1k  \n",
       "hrnet_w18                                   timm/hrnet_w18.ms_aug_in1k  \n",
       "skresnet34                                     timm/skresnet34.ra_in1k  \n",
       "mobilenetv3_large_100               timm/mobilenetv3_large_100.ra_in1k  \n",
       "res2net50_26w_4s                            timm/res2net50_26w_4s.in1k  \n",
       "resnet34                                         timm/resnet34.a1_in1k  "
      ],
      "text/html": [
       "<div>\n",
       "<style scoped>\n",
       "    .dataframe tbody tr th:only-of-type {\n",
       "        vertical-align: middle;\n",
       "    }\n",
       "\n",
       "    .dataframe tbody tr th {\n",
       "        vertical-align: top;\n",
       "    }\n",
       "\n",
       "    .dataframe thead th {\n",
       "        text-align: right;\n",
       "    }\n",
       "</style>\n",
       "<table border=\"1\" class=\"dataframe\">\n",
       "  <thead>\n",
       "    <tr style=\"text-align: right;\">\n",
       "      <th></th>\n",
       "      <th>Accuracy</th>\n",
       "      <th>params (reported)</th>\n",
       "      <th>measured params</th>\n",
       "      <th>hub_id</th>\n",
       "    </tr>\n",
       "  </thead>\n",
       "  <tbody>\n",
       "    <tr>\n",
       "      <th>tf_efficientnet_b2</th>\n",
       "      <td>80.086</td>\n",
       "      <td>9.11</td>\n",
       "      <td>7.7 million</td>\n",
       "      <td>timm/tf_efficientnet_b2.ns_jft_in1k</td>\n",
       "    </tr>\n",
       "    <tr>\n",
       "      <th>tf_efficientnet_b2_ap</th>\n",
       "      <td>80.3</td>\n",
       "      <td>9.11</td>\n",
       "      <td>7.7 million</td>\n",
       "      <td>timm/tf_efficientnet_b2.ap_in1k</td>\n",
       "    </tr>\n",
       "    <tr>\n",
       "      <th>tf_efficientnet_b2_ns</th>\n",
       "      <td>82.38</td>\n",
       "      <td>9.11</td>\n",
       "      <td>7.7 million</td>\n",
       "      <td>timm/tf_efficientnet_b2.ns_jft_in1k</td>\n",
       "    </tr>\n",
       "    <tr>\n",
       "      <th>tf_efficientnet_cc_b0_4e</th>\n",
       "      <td>77.306</td>\n",
       "      <td>13.31</td>\n",
       "      <td>12.0 million</td>\n",
       "      <td>timm/tf_efficientnet_cc_b0_4e.in1k</td>\n",
       "    </tr>\n",
       "    <tr>\n",
       "      <th>swsl_resnet50</th>\n",
       "      <td>81.166</td>\n",
       "      <td>25.56</td>\n",
       "      <td>23.5 million</td>\n",
       "      <td>timm/resnet50.fb_swsl_ig1b_ft_in1k</td>\n",
       "    </tr>\n",
       "    <tr>\n",
       "      <th>ssl_resnext50_32x4d</th>\n",
       "      <td>80.318</td>\n",
       "      <td>25.03</td>\n",
       "      <td>23.0 million</td>\n",
       "      <td>timm/resnext50_32x4d.fb_ssl_yfcc100m_ft_in1k</td>\n",
       "    </tr>\n",
       "    <tr>\n",
       "      <th>regnetx_032</th>\n",
       "      <td>78.172</td>\n",
       "      <td>15.3</td>\n",
       "      <td>14.3 million</td>\n",
       "      <td>timm/regnetx_032.tv2_in1k</td>\n",
       "    </tr>\n",
       "    <tr>\n",
       "      <th>regnety_032</th>\n",
       "      <td>78.886</td>\n",
       "      <td>19.44</td>\n",
       "      <td>17.9 million</td>\n",
       "      <td>timm/regnety_032.ra_in1k</td>\n",
       "    </tr>\n",
       "    <tr>\n",
       "      <th>rexnet_100</th>\n",
       "      <td>77.858</td>\n",
       "      <td>4.8</td>\n",
       "      <td>3.5 million</td>\n",
       "      <td>timm/rexnet_100.nav_in1k</td>\n",
       "    </tr>\n",
       "    <tr>\n",
       "      <th>ecaresnet50d</th>\n",
       "      <td>80.592</td>\n",
       "      <td>25.58</td>\n",
       "      <td>23.5 million</td>\n",
       "      <td>timm/ecaresnet50d.miil_in1k</td>\n",
       "    </tr>\n",
       "    <tr>\n",
       "      <th>cspdarknet53</th>\n",
       "      <td>80.058</td>\n",
       "      <td>27.64</td>\n",
       "      <td>26.6 million</td>\n",
       "      <td>timm/cspdarknet53.ra_in1k</td>\n",
       "    </tr>\n",
       "    <tr>\n",
       "      <th>mixnet_l</th>\n",
       "      <td>78.976</td>\n",
       "      <td>7.33</td>\n",
       "      <td>5.8 million</td>\n",
       "      <td>timm/mixnet_l.ft_in1k</td>\n",
       "    </tr>\n",
       "    <tr>\n",
       "      <th>cspresnext50</th>\n",
       "      <td>80.04</td>\n",
       "      <td>20.57</td>\n",
       "      <td>18.5 million</td>\n",
       "      <td>timm/cspresnext50.ra_in1k</td>\n",
       "    </tr>\n",
       "    <tr>\n",
       "      <th>cspresnet50</th>\n",
       "      <td>79.574</td>\n",
       "      <td>21.62</td>\n",
       "      <td>20.6 million</td>\n",
       "      <td>timm/cspresnet50.ra_in1k</td>\n",
       "    </tr>\n",
       "    <tr>\n",
       "      <th>ese_vovnet39b</th>\n",
       "      <td>79.32</td>\n",
       "      <td>24.57</td>\n",
       "      <td>23.5 million</td>\n",
       "      <td>timm/ese_vovnet39b.ra_in1k</td>\n",
       "    </tr>\n",
       "    <tr>\n",
       "      <th>resnest50d</th>\n",
       "      <td>80.974</td>\n",
       "      <td>27.48</td>\n",
       "      <td>25.4 million</td>\n",
       "      <td>timm/resnest50d.in1k</td>\n",
       "    </tr>\n",
       "    <tr>\n",
       "      <th>hrnet_w18</th>\n",
       "      <td>76.758</td>\n",
       "      <td>21.3</td>\n",
       "      <td>19.3 million</td>\n",
       "      <td>timm/hrnet_w18.ms_aug_in1k</td>\n",
       "    </tr>\n",
       "    <tr>\n",
       "      <th>skresnet34</th>\n",
       "      <td>76.912</td>\n",
       "      <td>22.28</td>\n",
       "      <td>21.8 million</td>\n",
       "      <td>timm/skresnet34.ra_in1k</td>\n",
       "    </tr>\n",
       "    <tr>\n",
       "      <th>mobilenetv3_large_100</th>\n",
       "      <td>75.766</td>\n",
       "      <td>5.48</td>\n",
       "      <td>4.2 million</td>\n",
       "      <td>timm/mobilenetv3_large_100.ra_in1k</td>\n",
       "    </tr>\n",
       "    <tr>\n",
       "      <th>res2net50_26w_4s</th>\n",
       "      <td>77.964</td>\n",
       "      <td>25.7</td>\n",
       "      <td>23.7 million</td>\n",
       "      <td>timm/res2net50_26w_4s.in1k</td>\n",
       "    </tr>\n",
       "    <tr>\n",
       "      <th>resnet34</th>\n",
       "      <td>75.11</td>\n",
       "      <td>21.8</td>\n",
       "      <td>21.3 million</td>\n",
       "      <td>timm/resnet34.a1_in1k</td>\n",
       "    </tr>\n",
       "  </tbody>\n",
       "</table>\n",
       "</div>"
      ]
     },
     "execution_count": 7,
     "metadata": {},
     "output_type": "execute_result"
    }
   ],
   "execution_count": 7
  },
  {
   "metadata": {},
   "cell_type": "markdown",
   "source": "The difference between reported and measures parameters should be the final classification layer which makes up roughly n_features x n_classes parameters ~ 1,000 x 1,000 ~ 1 million (plus biases, but n_features varies between architectures). We report the measured parameters without the classification head.",
   "id": "e798fbcbff09060b"
  },
  {
   "metadata": {
    "ExecuteTime": {
     "end_time": "2024-10-15T11:08:10.000790Z",
     "start_time": "2024-10-15T11:08:09.995879Z"
    }
   },
   "cell_type": "code",
   "source": "info_df.to_csv(FIG_PATH / 'model_infos.csv')",
   "id": "8cc6c86259ef7ea4",
   "outputs": [],
   "execution_count": 8
  },
  {
   "metadata": {},
   "cell_type": "code",
   "outputs": [],
   "execution_count": null,
   "source": "",
   "id": "cf180c6fa08b6646"
  }
 ],
 "metadata": {
  "kernelspec": {
   "display_name": "Python 3",
   "language": "python",
   "name": "python3"
  },
  "language_info": {
   "codemirror_mode": {
    "name": "ipython",
    "version": 2
   },
   "file_extension": ".py",
   "mimetype": "text/x-python",
   "name": "python",
   "nbconvert_exporter": "python",
   "pygments_lexer": "ipython2",
   "version": "2.7.6"
  }
 },
 "nbformat": 4,
 "nbformat_minor": 5
}
