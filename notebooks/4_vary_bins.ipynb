{
 "cells": [
  {
   "metadata": {},
   "cell_type": "markdown",
   "source": "",
   "id": "fe82cbb1523a498d"
  },
  {
   "metadata": {},
   "cell_type": "markdown",
   "source": [
    "## Varying the number of bins for bKLD\n",
    "\n",
    "Additional experiments with respect to hyperparameter b."
   ],
   "id": "2dd66d9f247d8d56"
  },
  {
   "cell_type": "code",
   "id": "initial_id",
   "metadata": {
    "collapsed": true,
    "ExecuteTime": {
     "end_time": "2024-10-10T21:43:48.696377Z",
     "start_time": "2024-10-10T21:43:24.113021Z"
    }
   },
   "source": [
    "import mml.interactive\n",
    "from pathlib import Path\n",
    "mml.interactive.init()\n",
    "import pandas as pd\n",
    "from mml_tf.aggregate import AggregateStrategy\n",
    "from mml_tf.distances import LoadCachedDistances\n",
    "from mml_tf.evaluation import get_evaluations\n",
    "from mml_tf.experiments import EXPERIMENTS, METRICS\n",
    "from mml_tf.visualization import init_colors, get_exp_color\n",
    "import plotly.express as px"
   ],
   "outputs": [
    {
     "name": "stderr",
     "output_type": "stream",
     "text": [
      "/home/scholzpa/Documents/development/gitlab/mml/src/mml/interactive/__init__.py:49: UserWarning: Did not provide a \"env_path\", neither found set \"MML_ENV_PATH\" variable, you might need to provide \"env_path\" to \"init\" in order to use \"mml\" interactively in a jupyter/ipython setting.\n",
      "  warnings.warn(\n",
      "/home/scholzpa/miniconda3/envs/mml/lib/python3.8/site-packages/kornia/feature/lightglue.py:44: FutureWarning: `torch.cuda.amp.custom_fwd(args...)` is deprecated. Please use `torch.amp.custom_fwd(args..., device_type='cuda')` instead.\n",
      "  @torch.cuda.amp.custom_fwd(cast_inputs=torch.float32)\n"
     ]
    },
    {
     "name": "stdout",
     "output_type": "stream",
     "text": [
      " _____ ______   _____ ______   ___\n",
      "|\\   _ \\  _   \\|\\   _ \\  _   \\|\\  \\\n",
      "\\ \\  \\\\\\__\\ \\  \\ \\  \\\\\\__\\ \\  \\ \\  \\\n",
      " \\ \\  \\\\|__| \\  \\ \\  \\\\|__| \\  \\ \\  \\\n",
      "  \\ \\  \\    \\ \\  \\ \\  \\    \\ \\  \\ \\  \\____\n",
      "   \\ \\__\\    \\ \\__\\ \\__\\    \\ \\__\\ \\_______\\\n",
      "    \\|__|     \\|__|\\|__|     \\|__|\\|_______|\n",
      "         ____  _  _    __  _  _  ____  _  _\n",
      "        (  _ \\( \\/ )  (  )( \\/ )/ ___)( \\/ )\n",
      "         ) _ ( )  /    )( / \\/ \\\\___ \\ )  /\n",
      "        (____/(__/    (__)\\_)(_/(____/(__/\n",
      "Interactive MML API initialized.\n"
     ]
    }
   ],
   "execution_count": 1
  },
  {
   "metadata": {
    "ExecuteTime": {
     "end_time": "2024-10-10T21:43:48.705360Z",
     "start_time": "2024-10-10T21:43:48.701405Z"
    }
   },
   "cell_type": "code",
   "source": [
    "init_colors(exp=EXPERIMENTS, distance_measures=[])\n",
    "color_map = {exp: get_exp_color(exp) for exp in EXPERIMENTS}"
   ],
   "id": "28da1786584bc24e",
   "outputs": [],
   "execution_count": 2
  },
  {
   "metadata": {
    "ExecuteTime": {
     "end_time": "2024-10-10T21:43:48.757086Z",
     "start_time": "2024-10-10T21:43:48.753996Z"
    }
   },
   "cell_type": "code",
   "source": "bin_range = [10, 25, 50, 75, 100, 250, 500, 750, 1000]",
   "id": "4306e617d4c88dd0",
   "outputs": [],
   "execution_count": 3
  },
  {
   "metadata": {
    "ExecuteTime": {
     "end_time": "2024-10-10T21:45:52.296407Z",
     "start_time": "2024-10-10T21:45:52.064632Z"
    }
   },
   "cell_type": "code",
   "source": [
    "all_distances = []\n",
    "for n_bins in bin_range:\n",
    "    all_distances.append(LoadCachedDistances(f'KLD-PP:NS-W:TS-{n_bins}-BINS'))\n",
    "    all_distances.append(LoadCachedDistances(f'KLD-PP:NS-W:SN-{n_bins}-BINS'))\n",
    "    all_distances.append(LoadCachedDistances(f'KLD-PP:NS-{n_bins}-BINS'))"
   ],
   "id": "f965d4b72382aa48",
   "outputs": [],
   "execution_count": 9
  },
  {
   "metadata": {
    "ExecuteTime": {
     "end_time": "2024-10-10T21:46:55.200731Z",
     "start_time": "2024-10-10T21:45:53.132782Z"
    }
   },
   "cell_type": "code",
   "source": [
    "full_evaluations = get_evaluations(all_distances=all_distances, aggregates=[AggregateStrategy.MEAN], metrics=METRICS,\n",
    "                                   experiments=EXPERIMENTS, top_meta_metrics=['regret', 'rank', 'gain', 'delta'],\n",
    "                                   top_mode='avg')"
   ],
   "id": "3ce5039d06dace24",
   "outputs": [
    {
     "name": "stderr",
     "output_type": "stream",
     "text": [
      "Calculating...: 100%|██████████| 9288/9288 [01:02<00:00, 149.80it/s]\n"
     ]
    }
   ],
   "execution_count": 10
  },
  {
   "metadata": {
    "ExecuteTime": {
     "end_time": "2024-10-10T21:48:55.768663Z",
     "start_time": "2024-10-10T21:48:55.655819Z"
    }
   },
   "cell_type": "code",
   "source": [
    "bin_plot_rows = []\n",
    "for group_values, group_df in full_evaluations.groupby(['exp', 'distances', 'meta metric']):\n",
    "    exp, distances, meta = group_values\n",
    "    n_bins = int(distances.split('-')[-2])\n",
    "    weighting = 'unweighted'\n",
    "    if '-W:TS-' in distances:\n",
    "        weighting = 'target'\n",
    "    if '-W:SN-' in distances:\n",
    "        weighting = 'source'\n",
    "    if meta == 'regret':\n",
    "        mean = (1 - group_df['score']).mean()\n",
    "        std = (1 - group_df['score']).std()\n",
    "    else:\n",
    "        mean = group_df['score'].mean()\n",
    "        std = group_df['score'].std()\n",
    "    bin_plot_rows.append({'exp': exp, 'weighting': weighting, 'bins': n_bins, 'meta': meta, 'mean': mean, 'std': std})\n",
    "bin_plot_df = pd.DataFrame(bin_plot_rows).sort_values('bins')\n",
    "bin_plot_df['upper'] = bin_plot_df['mean'] + bin_plot_df['std']\n",
    "bin_plot_df['lower'] = bin_plot_df['mean'] - bin_plot_df['std']"
   ],
   "id": "dae6df20b4031e5d",
   "outputs": [],
   "execution_count": 11
  },
  {
   "metadata": {
    "ExecuteTime": {
     "end_time": "2024-10-10T21:53:15.481854Z",
     "start_time": "2024-10-10T21:53:15.474590Z"
    }
   },
   "cell_type": "code",
   "source": [
    "def get_bins_plot(meta_metric: str, add_std: bool = False):\n",
    "    df = bin_plot_df[(bin_plot_df['meta'] == meta_metric) & (bin_plot_df['bins'] != 0)]\n",
    "    fig = px.line(df, x='bins', y='mean', color='exp', template='plotly', color_discrete_map=color_map, facet_col='weighting', \n",
    "                  category_orders={'exp': EXPERIMENTS}, markers=True, labels={'exp': 'Scenario', 'mean': meta_metric},\n",
    "                  log_x=True)\n",
    "    x = df['bins'].sort_values().unique().tolist()\n",
    "    x_rev = x[::-1]\n",
    "    for exp in EXPERIMENTS:\n",
    "        if add_std:\n",
    "            # add shaded areas for uncertainty over target tasks\n",
    "            y_upper = df[df['exp'] == exp].sort_values(by='bins')['upper'].values.tolist()\n",
    "            y_lower = df[df['exp'] == exp].sort_values(by='bins', ascending=False)['lower'].values.tolist()\n",
    "            fig.add_scatter(x=x + x_rev, y=y_upper + y_lower, fill='toself', showlegend=False, name=exp + 'std',\n",
    "                            line_color='rgba(255,255,255,0)',\n",
    "                            fillcolor=get_exp_color(exp=exp, opacity=0.15))\n",
    "    return fig"
   ],
   "id": "b6da92749ef55f8c",
   "outputs": [],
   "execution_count": 19
  },
  {
   "metadata": {
    "ExecuteTime": {
     "end_time": "2024-10-10T21:53:17.186424Z",
     "start_time": "2024-10-10T21:53:17.124456Z"
    }
   },
   "cell_type": "code",
   "source": "get_bins_plot('weightedtau')",
   "id": "b919052d5d64af01",
   "outputs": [
    {
     "data": {
      "application/vnd.plotly.v1+json": {
       "data": [
        {
         "hovertemplate": "Scenario=Model<br>Architecture<br>weighting=unweighted<br>bins=%{x}<br>weightedtau=%{y}<extra></extra>",
         "legendgroup": "Model<br>Architecture",
         "line": {
          "color": "rgb(230, 25, 75)",
          "dash": "solid"
         },
         "marker": {
          "symbol": "circle"
         },
         "mode": "lines+markers",
         "name": "Model<br>Architecture",
         "orientation": "v",
         "showlegend": true,
         "x": [
          10,
          25,
          50,
          75,
          100,
          250,
          500,
          750,
          1000
         ],
         "xaxis": "x",
         "y": [
          0.038805106861613446,
          0.03589487382049443,
          0.03053123077465699,
          0.031106156018508593,
          0.03186085029867516,
          0.028453273625506016,
          0.025997824808743106,
          0.026350606247897524,
          0.025796743828921952
         ],
         "yaxis": "y",
         "type": "scatter"
        },
        {
         "hovertemplate": "Scenario=Model<br>Architecture<br>weighting=source<br>bins=%{x}<br>weightedtau=%{y}<extra></extra>",
         "legendgroup": "Model<br>Architecture",
         "line": {
          "color": "rgb(230, 25, 75)",
          "dash": "solid"
         },
         "marker": {
          "symbol": "circle"
         },
         "mode": "lines+markers",
         "name": "Model<br>Architecture",
         "orientation": "v",
         "showlegend": false,
         "x": [
          10,
          25,
          50,
          75,
          100,
          250,
          500,
          750,
          1000
         ],
         "xaxis": "x2",
         "y": [
          0.009857362926393779,
          0.016811428009103256,
          0.026352574345830236,
          0.03375346376636903,
          0.03488002258997495,
          0.02618220782046166,
          0.02748888114036704,
          0.028504901369780785,
          0.02705433168641176
         ],
         "yaxis": "y2",
         "type": "scatter"
        },
        {
         "hovertemplate": "Scenario=Model<br>Architecture<br>weighting=target<br>bins=%{x}<br>weightedtau=%{y}<extra></extra>",
         "legendgroup": "Model<br>Architecture",
         "line": {
          "color": "rgb(230, 25, 75)",
          "dash": "solid"
         },
         "marker": {
          "symbol": "circle"
         },
         "mode": "lines+markers",
         "name": "Model<br>Architecture",
         "orientation": "v",
         "showlegend": false,
         "x": [
          10,
          25,
          50,
          75,
          100,
          250,
          500,
          750,
          1000
         ],
         "xaxis": "x3",
         "y": [
          0.026989599174162025,
          0.028107221425077097,
          0.031201518220490363,
          0.02885687147181973,
          0.02852977123450975,
          0.025163368351438495,
          0.028244681540299875,
          0.02816652563753157,
          0.0276725917493817
         ],
         "yaxis": "y3",
         "type": "scatter"
        },
        {
         "hovertemplate": "Scenario=Pretraining<br>Data<br>weighting=unweighted<br>bins=%{x}<br>weightedtau=%{y}<extra></extra>",
         "legendgroup": "Pretraining<br>Data",
         "line": {
          "color": "rgb(67, 99, 216)",
          "dash": "solid"
         },
         "marker": {
          "symbol": "circle"
         },
         "mode": "lines+markers",
         "name": "Pretraining<br>Data",
         "orientation": "v",
         "showlegend": true,
         "x": [
          10,
          25,
          50,
          75,
          100,
          250,
          500,
          750,
          1000
         ],
         "xaxis": "x",
         "y": [
          0.1828558418192812,
          0.17113534528593186,
          0.1602847024158851,
          0.1538235381200661,
          0.15266145519800223,
          0.1491395076382359,
          0.1487785842442994,
          0.14801654236342554,
          0.14688236588730996
         ],
         "yaxis": "y",
         "type": "scatter"
        },
        {
         "hovertemplate": "Scenario=Pretraining<br>Data<br>weighting=source<br>bins=%{x}<br>weightedtau=%{y}<extra></extra>",
         "legendgroup": "Pretraining<br>Data",
         "line": {
          "color": "rgb(67, 99, 216)",
          "dash": "solid"
         },
         "marker": {
          "symbol": "circle"
         },
         "mode": "lines+markers",
         "name": "Pretraining<br>Data",
         "orientation": "v",
         "showlegend": false,
         "x": [
          10,
          25,
          50,
          75,
          100,
          250,
          500,
          750,
          1000
         ],
         "xaxis": "x2",
         "y": [
          0.15179146918025935,
          0.12878640937347843,
          0.08598651517537943,
          0.043018363462166434,
          0.028683633992199344,
          -0.0048585095605809345,
          -0.010956700107579868,
          -0.009543805648732258,
          -0.001077653032950662
         ],
         "yaxis": "y2",
         "type": "scatter"
        },
        {
         "hovertemplate": "Scenario=Pretraining<br>Data<br>weighting=target<br>bins=%{x}<br>weightedtau=%{y}<extra></extra>",
         "legendgroup": "Pretraining<br>Data",
         "line": {
          "color": "rgb(67, 99, 216)",
          "dash": "solid"
         },
         "marker": {
          "symbol": "circle"
         },
         "mode": "lines+markers",
         "name": "Pretraining<br>Data",
         "orientation": "v",
         "showlegend": false,
         "x": [
          10,
          25,
          50,
          75,
          100,
          250,
          500,
          750,
          1000
         ],
         "xaxis": "x3",
         "y": [
          0.17777283253354645,
          0.16563052155237606,
          0.15617044935094934,
          0.1527769776135508,
          0.14967637131742625,
          0.14413966405283477,
          0.13907720905182286,
          0.1370510381684142,
          0.13685054077832542
         ],
         "yaxis": "y3",
         "type": "scatter"
        },
        {
         "hovertemplate": "Scenario=Augmentation<br>Policy<br>weighting=unweighted<br>bins=%{x}<br>weightedtau=%{y}<extra></extra>",
         "legendgroup": "Augmentation<br>Policy",
         "line": {
          "color": "rgb(245, 130, 49)",
          "dash": "solid"
         },
         "marker": {
          "symbol": "circle"
         },
         "mode": "lines+markers",
         "name": "Augmentation<br>Policy",
         "orientation": "v",
         "showlegend": true,
         "x": [
          10,
          25,
          50,
          75,
          100,
          250,
          500,
          750,
          1000
         ],
         "xaxis": "x",
         "y": [
          0.167818737005239,
          0.16325139136275119,
          0.16259165483722504,
          0.16090482183980578,
          0.1594723426517723,
          0.1522517030174976,
          0.15091031581130981,
          0.14624106181029817,
          0.14450537479528608
         ],
         "yaxis": "y",
         "type": "scatter"
        },
        {
         "hovertemplate": "Scenario=Augmentation<br>Policy<br>weighting=source<br>bins=%{x}<br>weightedtau=%{y}<extra></extra>",
         "legendgroup": "Augmentation<br>Policy",
         "line": {
          "color": "rgb(245, 130, 49)",
          "dash": "solid"
         },
         "marker": {
          "symbol": "circle"
         },
         "mode": "lines+markers",
         "name": "Augmentation<br>Policy",
         "orientation": "v",
         "showlegend": false,
         "x": [
          10,
          25,
          50,
          75,
          100,
          250,
          500,
          750,
          1000
         ],
         "xaxis": "x2",
         "y": [
          0.10089868494967313,
          0.09186035578235302,
          0.09158020637430588,
          0.07915086997167496,
          0.07557041463475068,
          0.04290116332248048,
          0.03658091493631287,
          0.029686976575289205,
          0.027340917589022008
         ],
         "yaxis": "y2",
         "type": "scatter"
        },
        {
         "hovertemplate": "Scenario=Augmentation<br>Policy<br>weighting=target<br>bins=%{x}<br>weightedtau=%{y}<extra></extra>",
         "legendgroup": "Augmentation<br>Policy",
         "line": {
          "color": "rgb(245, 130, 49)",
          "dash": "solid"
         },
         "marker": {
          "symbol": "circle"
         },
         "mode": "lines+markers",
         "name": "Augmentation<br>Policy",
         "orientation": "v",
         "showlegend": false,
         "x": [
          10,
          25,
          50,
          75,
          100,
          250,
          500,
          750,
          1000
         ],
         "xaxis": "x3",
         "y": [
          0.15545827467414045,
          0.1566116244233395,
          0.1520230447798914,
          0.15102085486119418,
          0.14856562959661948,
          0.13860993763142304,
          0.13171350243638769,
          0.1291679572105024,
          0.12830390669132413
         ],
         "yaxis": "y3",
         "type": "scatter"
        },
        {
         "hovertemplate": "Scenario=Co-Training<br>Data<br>weighting=unweighted<br>bins=%{x}<br>weightedtau=%{y}<extra></extra>",
         "legendgroup": "Co-Training<br>Data",
         "line": {
          "color": "rgb(145, 30, 180)",
          "dash": "solid"
         },
         "marker": {
          "symbol": "circle"
         },
         "mode": "lines+markers",
         "name": "Co-Training<br>Data",
         "orientation": "v",
         "showlegend": true,
         "x": [
          10,
          25,
          50,
          75,
          100,
          250,
          500,
          750,
          1000
         ],
         "xaxis": "x",
         "y": [
          -1.8310083582249067E-6,
          6.111820199522157E-4,
          -0.0032224913626120624,
          -0.007402788134271316,
          -0.005962496532305654,
          -0.007590993071434306,
          -0.010804435204697734,
          -0.013161358800540882,
          -0.013835118933012813
         ],
         "yaxis": "y",
         "type": "scatter"
        },
        {
         "hovertemplate": "Scenario=Co-Training<br>Data<br>weighting=source<br>bins=%{x}<br>weightedtau=%{y}<extra></extra>",
         "legendgroup": "Co-Training<br>Data",
         "line": {
          "color": "rgb(145, 30, 180)",
          "dash": "solid"
         },
         "marker": {
          "symbol": "circle"
         },
         "mode": "lines+markers",
         "name": "Co-Training<br>Data",
         "orientation": "v",
         "showlegend": false,
         "x": [
          10,
          25,
          50,
          75,
          100,
          250,
          500,
          750,
          1000
         ],
         "xaxis": "x2",
         "y": [
          -0.027100477225878633,
          -0.03281115160991063,
          -0.02756109793274753,
          -0.023505473916807507,
          -0.01753266418194988,
          -0.0031455667999629113,
          0.012082528999955808,
          0.018073866125127135,
          0.02044307017808799
         ],
         "yaxis": "y2",
         "type": "scatter"
        },
        {
         "hovertemplate": "Scenario=Co-Training<br>Data<br>weighting=target<br>bins=%{x}<br>weightedtau=%{y}<extra></extra>",
         "legendgroup": "Co-Training<br>Data",
         "line": {
          "color": "rgb(145, 30, 180)",
          "dash": "solid"
         },
         "marker": {
          "symbol": "circle"
         },
         "mode": "lines+markers",
         "name": "Co-Training<br>Data",
         "orientation": "v",
         "showlegend": false,
         "x": [
          10,
          25,
          50,
          75,
          100,
          250,
          500,
          750,
          1000
         ],
         "xaxis": "x3",
         "y": [
          -0.007942383189295306,
          -0.009315049190297577,
          -0.006900402268251556,
          -0.007710851643171997,
          -0.008997708695253234,
          -0.014126534027187257,
          -0.019796130163193072,
          -0.020728667608880272,
          -0.021314641404165648
         ],
         "yaxis": "y3",
         "type": "scatter"
        }
       ],
       "layout": {
        "template": {
         "data": {
          "barpolar": [
           {
            "marker": {
             "line": {
              "color": "#E5ECF6",
              "width": 0.5
             },
             "pattern": {
              "fillmode": "overlay",
              "size": 10,
              "solidity": 0.2
             }
            },
            "type": "barpolar"
           }
          ],
          "bar": [
           {
            "error_x": {
             "color": "#2a3f5f"
            },
            "error_y": {
             "color": "#2a3f5f"
            },
            "marker": {
             "line": {
              "color": "#E5ECF6",
              "width": 0.5
             },
             "pattern": {
              "fillmode": "overlay",
              "size": 10,
              "solidity": 0.2
             }
            },
            "type": "bar"
           }
          ],
          "carpet": [
           {
            "aaxis": {
             "endlinecolor": "#2a3f5f",
             "gridcolor": "white",
             "linecolor": "white",
             "minorgridcolor": "white",
             "startlinecolor": "#2a3f5f"
            },
            "baxis": {
             "endlinecolor": "#2a3f5f",
             "gridcolor": "white",
             "linecolor": "white",
             "minorgridcolor": "white",
             "startlinecolor": "#2a3f5f"
            },
            "type": "carpet"
           }
          ],
          "choropleth": [
           {
            "colorbar": {
             "outlinewidth": 0,
             "ticks": ""
            },
            "type": "choropleth"
           }
          ],
          "contourcarpet": [
           {
            "colorbar": {
             "outlinewidth": 0,
             "ticks": ""
            },
            "type": "contourcarpet"
           }
          ],
          "contour": [
           {
            "colorbar": {
             "outlinewidth": 0,
             "ticks": ""
            },
            "colorscale": [
             [
              0.0,
              "#0d0887"
             ],
             [
              0.1111111111111111,
              "#46039f"
             ],
             [
              0.2222222222222222,
              "#7201a8"
             ],
             [
              0.3333333333333333,
              "#9c179e"
             ],
             [
              0.4444444444444444,
              "#bd3786"
             ],
             [
              0.5555555555555556,
              "#d8576b"
             ],
             [
              0.6666666666666666,
              "#ed7953"
             ],
             [
              0.7777777777777778,
              "#fb9f3a"
             ],
             [
              0.8888888888888888,
              "#fdca26"
             ],
             [
              1.0,
              "#f0f921"
             ]
            ],
            "type": "contour"
           }
          ],
          "heatmapgl": [
           {
            "colorbar": {
             "outlinewidth": 0,
             "ticks": ""
            },
            "colorscale": [
             [
              0.0,
              "#0d0887"
             ],
             [
              0.1111111111111111,
              "#46039f"
             ],
             [
              0.2222222222222222,
              "#7201a8"
             ],
             [
              0.3333333333333333,
              "#9c179e"
             ],
             [
              0.4444444444444444,
              "#bd3786"
             ],
             [
              0.5555555555555556,
              "#d8576b"
             ],
             [
              0.6666666666666666,
              "#ed7953"
             ],
             [
              0.7777777777777778,
              "#fb9f3a"
             ],
             [
              0.8888888888888888,
              "#fdca26"
             ],
             [
              1.0,
              "#f0f921"
             ]
            ],
            "type": "heatmapgl"
           }
          ],
          "heatmap": [
           {
            "colorbar": {
             "outlinewidth": 0,
             "ticks": ""
            },
            "colorscale": [
             [
              0.0,
              "#0d0887"
             ],
             [
              0.1111111111111111,
              "#46039f"
             ],
             [
              0.2222222222222222,
              "#7201a8"
             ],
             [
              0.3333333333333333,
              "#9c179e"
             ],
             [
              0.4444444444444444,
              "#bd3786"
             ],
             [
              0.5555555555555556,
              "#d8576b"
             ],
             [
              0.6666666666666666,
              "#ed7953"
             ],
             [
              0.7777777777777778,
              "#fb9f3a"
             ],
             [
              0.8888888888888888,
              "#fdca26"
             ],
             [
              1.0,
              "#f0f921"
             ]
            ],
            "type": "heatmap"
           }
          ],
          "histogram2dcontour": [
           {
            "colorbar": {
             "outlinewidth": 0,
             "ticks": ""
            },
            "colorscale": [
             [
              0.0,
              "#0d0887"
             ],
             [
              0.1111111111111111,
              "#46039f"
             ],
             [
              0.2222222222222222,
              "#7201a8"
             ],
             [
              0.3333333333333333,
              "#9c179e"
             ],
             [
              0.4444444444444444,
              "#bd3786"
             ],
             [
              0.5555555555555556,
              "#d8576b"
             ],
             [
              0.6666666666666666,
              "#ed7953"
             ],
             [
              0.7777777777777778,
              "#fb9f3a"
             ],
             [
              0.8888888888888888,
              "#fdca26"
             ],
             [
              1.0,
              "#f0f921"
             ]
            ],
            "type": "histogram2dcontour"
           }
          ],
          "histogram2d": [
           {
            "colorbar": {
             "outlinewidth": 0,
             "ticks": ""
            },
            "colorscale": [
             [
              0.0,
              "#0d0887"
             ],
             [
              0.1111111111111111,
              "#46039f"
             ],
             [
              0.2222222222222222,
              "#7201a8"
             ],
             [
              0.3333333333333333,
              "#9c179e"
             ],
             [
              0.4444444444444444,
              "#bd3786"
             ],
             [
              0.5555555555555556,
              "#d8576b"
             ],
             [
              0.6666666666666666,
              "#ed7953"
             ],
             [
              0.7777777777777778,
              "#fb9f3a"
             ],
             [
              0.8888888888888888,
              "#fdca26"
             ],
             [
              1.0,
              "#f0f921"
             ]
            ],
            "type": "histogram2d"
           }
          ],
          "histogram": [
           {
            "marker": {
             "pattern": {
              "fillmode": "overlay",
              "size": 10,
              "solidity": 0.2
             }
            },
            "type": "histogram"
           }
          ],
          "mesh3d": [
           {
            "colorbar": {
             "outlinewidth": 0,
             "ticks": ""
            },
            "type": "mesh3d"
           }
          ],
          "parcoords": [
           {
            "line": {
             "colorbar": {
              "outlinewidth": 0,
              "ticks": ""
             }
            },
            "type": "parcoords"
           }
          ],
          "pie": [
           {
            "automargin": true,
            "type": "pie"
           }
          ],
          "scatter3d": [
           {
            "line": {
             "colorbar": {
              "outlinewidth": 0,
              "ticks": ""
             }
            },
            "marker": {
             "colorbar": {
              "outlinewidth": 0,
              "ticks": ""
             }
            },
            "type": "scatter3d"
           }
          ],
          "scattercarpet": [
           {
            "marker": {
             "colorbar": {
              "outlinewidth": 0,
              "ticks": ""
             }
            },
            "type": "scattercarpet"
           }
          ],
          "scattergeo": [
           {
            "marker": {
             "colorbar": {
              "outlinewidth": 0,
              "ticks": ""
             }
            },
            "type": "scattergeo"
           }
          ],
          "scattergl": [
           {
            "marker": {
             "colorbar": {
              "outlinewidth": 0,
              "ticks": ""
             }
            },
            "type": "scattergl"
           }
          ],
          "scattermapbox": [
           {
            "marker": {
             "colorbar": {
              "outlinewidth": 0,
              "ticks": ""
             }
            },
            "type": "scattermapbox"
           }
          ],
          "scatterpolargl": [
           {
            "marker": {
             "colorbar": {
              "outlinewidth": 0,
              "ticks": ""
             }
            },
            "type": "scatterpolargl"
           }
          ],
          "scatterpolar": [
           {
            "marker": {
             "colorbar": {
              "outlinewidth": 0,
              "ticks": ""
             }
            },
            "type": "scatterpolar"
           }
          ],
          "scatter": [
           {
            "fillpattern": {
             "fillmode": "overlay",
             "size": 10,
             "solidity": 0.2
            },
            "type": "scatter"
           }
          ],
          "scatterternary": [
           {
            "marker": {
             "colorbar": {
              "outlinewidth": 0,
              "ticks": ""
             }
            },
            "type": "scatterternary"
           }
          ],
          "surface": [
           {
            "colorbar": {
             "outlinewidth": 0,
             "ticks": ""
            },
            "colorscale": [
             [
              0.0,
              "#0d0887"
             ],
             [
              0.1111111111111111,
              "#46039f"
             ],
             [
              0.2222222222222222,
              "#7201a8"
             ],
             [
              0.3333333333333333,
              "#9c179e"
             ],
             [
              0.4444444444444444,
              "#bd3786"
             ],
             [
              0.5555555555555556,
              "#d8576b"
             ],
             [
              0.6666666666666666,
              "#ed7953"
             ],
             [
              0.7777777777777778,
              "#fb9f3a"
             ],
             [
              0.8888888888888888,
              "#fdca26"
             ],
             [
              1.0,
              "#f0f921"
             ]
            ],
            "type": "surface"
           }
          ],
          "table": [
           {
            "cells": {
             "fill": {
              "color": "#EBF0F8"
             },
             "line": {
              "color": "white"
             }
            },
            "header": {
             "fill": {
              "color": "#C8D4E3"
             },
             "line": {
              "color": "white"
             }
            },
            "type": "table"
           }
          ]
         },
         "layout": {
          "annotationdefaults": {
           "arrowcolor": "#2a3f5f",
           "arrowhead": 0,
           "arrowwidth": 1
          },
          "autotypenumbers": "strict",
          "coloraxis": {
           "colorbar": {
            "outlinewidth": 0,
            "ticks": ""
           }
          },
          "colorscale": {
           "diverging": [
            [
             0,
             "#8e0152"
            ],
            [
             0.1,
             "#c51b7d"
            ],
            [
             0.2,
             "#de77ae"
            ],
            [
             0.3,
             "#f1b6da"
            ],
            [
             0.4,
             "#fde0ef"
            ],
            [
             0.5,
             "#f7f7f7"
            ],
            [
             0.6,
             "#e6f5d0"
            ],
            [
             0.7,
             "#b8e186"
            ],
            [
             0.8,
             "#7fbc41"
            ],
            [
             0.9,
             "#4d9221"
            ],
            [
             1,
             "#276419"
            ]
           ],
           "sequential": [
            [
             0.0,
             "#0d0887"
            ],
            [
             0.1111111111111111,
             "#46039f"
            ],
            [
             0.2222222222222222,
             "#7201a8"
            ],
            [
             0.3333333333333333,
             "#9c179e"
            ],
            [
             0.4444444444444444,
             "#bd3786"
            ],
            [
             0.5555555555555556,
             "#d8576b"
            ],
            [
             0.6666666666666666,
             "#ed7953"
            ],
            [
             0.7777777777777778,
             "#fb9f3a"
            ],
            [
             0.8888888888888888,
             "#fdca26"
            ],
            [
             1.0,
             "#f0f921"
            ]
           ],
           "sequentialminus": [
            [
             0.0,
             "#0d0887"
            ],
            [
             0.1111111111111111,
             "#46039f"
            ],
            [
             0.2222222222222222,
             "#7201a8"
            ],
            [
             0.3333333333333333,
             "#9c179e"
            ],
            [
             0.4444444444444444,
             "#bd3786"
            ],
            [
             0.5555555555555556,
             "#d8576b"
            ],
            [
             0.6666666666666666,
             "#ed7953"
            ],
            [
             0.7777777777777778,
             "#fb9f3a"
            ],
            [
             0.8888888888888888,
             "#fdca26"
            ],
            [
             1.0,
             "#f0f921"
            ]
           ]
          },
          "colorway": [
           "#636efa",
           "#EF553B",
           "#00cc96",
           "#ab63fa",
           "#FFA15A",
           "#19d3f3",
           "#FF6692",
           "#B6E880",
           "#FF97FF",
           "#FECB52"
          ],
          "font": {
           "color": "#2a3f5f"
          },
          "geo": {
           "bgcolor": "white",
           "lakecolor": "white",
           "landcolor": "#E5ECF6",
           "showlakes": true,
           "showland": true,
           "subunitcolor": "white"
          },
          "hoverlabel": {
           "align": "left"
          },
          "hovermode": "closest",
          "mapbox": {
           "style": "light"
          },
          "paper_bgcolor": "white",
          "plot_bgcolor": "#E5ECF6",
          "polar": {
           "angularaxis": {
            "gridcolor": "white",
            "linecolor": "white",
            "ticks": ""
           },
           "bgcolor": "#E5ECF6",
           "radialaxis": {
            "gridcolor": "white",
            "linecolor": "white",
            "ticks": ""
           }
          },
          "scene": {
           "xaxis": {
            "backgroundcolor": "#E5ECF6",
            "gridcolor": "white",
            "gridwidth": 2,
            "linecolor": "white",
            "showbackground": true,
            "ticks": "",
            "zerolinecolor": "white"
           },
           "yaxis": {
            "backgroundcolor": "#E5ECF6",
            "gridcolor": "white",
            "gridwidth": 2,
            "linecolor": "white",
            "showbackground": true,
            "ticks": "",
            "zerolinecolor": "white"
           },
           "zaxis": {
            "backgroundcolor": "#E5ECF6",
            "gridcolor": "white",
            "gridwidth": 2,
            "linecolor": "white",
            "showbackground": true,
            "ticks": "",
            "zerolinecolor": "white"
           }
          },
          "shapedefaults": {
           "line": {
            "color": "#2a3f5f"
           }
          },
          "ternary": {
           "aaxis": {
            "gridcolor": "white",
            "linecolor": "white",
            "ticks": ""
           },
           "baxis": {
            "gridcolor": "white",
            "linecolor": "white",
            "ticks": ""
           },
           "bgcolor": "#E5ECF6",
           "caxis": {
            "gridcolor": "white",
            "linecolor": "white",
            "ticks": ""
           }
          },
          "title": {
           "x": 0.05
          },
          "xaxis": {
           "automargin": true,
           "gridcolor": "white",
           "linecolor": "white",
           "ticks": "",
           "title": {
            "standoff": 15
           },
           "zerolinecolor": "white",
           "zerolinewidth": 2
          },
          "yaxis": {
           "automargin": true,
           "gridcolor": "white",
           "linecolor": "white",
           "ticks": "",
           "title": {
            "standoff": 15
           },
           "zerolinecolor": "white",
           "zerolinewidth": 2
          }
         }
        },
        "xaxis": {
         "anchor": "y",
         "domain": [
          0.0,
          0.31999999999999995
         ],
         "title": {
          "text": "bins"
         },
         "type": "log"
        },
        "yaxis": {
         "anchor": "x",
         "domain": [
          0.0,
          1.0
         ],
         "title": {
          "text": "weightedtau"
         }
        },
        "xaxis2": {
         "anchor": "y2",
         "domain": [
          0.33999999999999997,
          0.6599999999999999
         ],
         "matches": "x",
         "title": {
          "text": "bins"
         },
         "type": "log"
        },
        "yaxis2": {
         "anchor": "x2",
         "domain": [
          0.0,
          1.0
         ],
         "matches": "y",
         "showticklabels": false
        },
        "xaxis3": {
         "anchor": "y3",
         "domain": [
          0.6799999999999999,
          0.9999999999999999
         ],
         "matches": "x",
         "title": {
          "text": "bins"
         },
         "type": "log"
        },
        "yaxis3": {
         "anchor": "x3",
         "domain": [
          0.0,
          1.0
         ],
         "matches": "y",
         "showticklabels": false
        },
        "annotations": [
         {
          "font": {},
          "showarrow": false,
          "text": "weighting=unweighted",
          "x": 0.15999999999999998,
          "xanchor": "center",
          "xref": "paper",
          "y": 1.0,
          "yanchor": "bottom",
          "yref": "paper"
         },
         {
          "font": {},
          "showarrow": false,
          "text": "weighting=source",
          "x": 0.49999999999999994,
          "xanchor": "center",
          "xref": "paper",
          "y": 1.0,
          "yanchor": "bottom",
          "yref": "paper"
         },
         {
          "font": {},
          "showarrow": false,
          "text": "weighting=target",
          "x": 0.8399999999999999,
          "xanchor": "center",
          "xref": "paper",
          "y": 1.0,
          "yanchor": "bottom",
          "yref": "paper"
         }
        ],
        "legend": {
         "title": {
          "text": "Scenario"
         },
         "tracegroupgap": 0
        },
        "margin": {
         "t": 60
        }
       },
       "config": {
        "plotlyServerURL": "https://plot.ly"
       }
      },
      "text/html": [
       "<div>                            <div id=\"0000924e-85e1-4e3c-a882-c72a2f6689e0\" class=\"plotly-graph-div\" style=\"height:525px; width:100%;\"></div>            <script type=\"text/javascript\">                require([\"plotly\"], function(Plotly) {                    window.PLOTLYENV=window.PLOTLYENV || {};                                    if (document.getElementById(\"0000924e-85e1-4e3c-a882-c72a2f6689e0\")) {                    Plotly.newPlot(                        \"0000924e-85e1-4e3c-a882-c72a2f6689e0\",                        [{\"hovertemplate\":\"Scenario=Model\\u003cbr\\u003eArchitecture\\u003cbr\\u003eweighting=unweighted\\u003cbr\\u003ebins=%{x}\\u003cbr\\u003eweightedtau=%{y}\\u003cextra\\u003e\\u003c\\u002fextra\\u003e\",\"legendgroup\":\"Model\\u003cbr\\u003eArchitecture\",\"line\":{\"color\":\"rgb(230, 25, 75)\",\"dash\":\"solid\"},\"marker\":{\"symbol\":\"circle\"},\"mode\":\"lines+markers\",\"name\":\"Model\\u003cbr\\u003eArchitecture\",\"orientation\":\"v\",\"showlegend\":true,\"x\":[10,25,50,75,100,250,500,750,1000],\"xaxis\":\"x\",\"y\":[0.038805106861613446,0.03589487382049443,0.03053123077465699,0.031106156018508593,0.03186085029867516,0.028453273625506016,0.025997824808743106,0.026350606247897524,0.025796743828921952],\"yaxis\":\"y\",\"type\":\"scatter\"},{\"hovertemplate\":\"Scenario=Model\\u003cbr\\u003eArchitecture\\u003cbr\\u003eweighting=source\\u003cbr\\u003ebins=%{x}\\u003cbr\\u003eweightedtau=%{y}\\u003cextra\\u003e\\u003c\\u002fextra\\u003e\",\"legendgroup\":\"Model\\u003cbr\\u003eArchitecture\",\"line\":{\"color\":\"rgb(230, 25, 75)\",\"dash\":\"solid\"},\"marker\":{\"symbol\":\"circle\"},\"mode\":\"lines+markers\",\"name\":\"Model\\u003cbr\\u003eArchitecture\",\"orientation\":\"v\",\"showlegend\":false,\"x\":[10,25,50,75,100,250,500,750,1000],\"xaxis\":\"x2\",\"y\":[0.009857362926393779,0.016811428009103256,0.026352574345830236,0.03375346376636903,0.03488002258997495,0.02618220782046166,0.02748888114036704,0.028504901369780785,0.02705433168641176],\"yaxis\":\"y2\",\"type\":\"scatter\"},{\"hovertemplate\":\"Scenario=Model\\u003cbr\\u003eArchitecture\\u003cbr\\u003eweighting=target\\u003cbr\\u003ebins=%{x}\\u003cbr\\u003eweightedtau=%{y}\\u003cextra\\u003e\\u003c\\u002fextra\\u003e\",\"legendgroup\":\"Model\\u003cbr\\u003eArchitecture\",\"line\":{\"color\":\"rgb(230, 25, 75)\",\"dash\":\"solid\"},\"marker\":{\"symbol\":\"circle\"},\"mode\":\"lines+markers\",\"name\":\"Model\\u003cbr\\u003eArchitecture\",\"orientation\":\"v\",\"showlegend\":false,\"x\":[10,25,50,75,100,250,500,750,1000],\"xaxis\":\"x3\",\"y\":[0.026989599174162025,0.028107221425077097,0.031201518220490363,0.02885687147181973,0.02852977123450975,0.025163368351438495,0.028244681540299875,0.02816652563753157,0.0276725917493817],\"yaxis\":\"y3\",\"type\":\"scatter\"},{\"hovertemplate\":\"Scenario=Pretraining\\u003cbr\\u003eData\\u003cbr\\u003eweighting=unweighted\\u003cbr\\u003ebins=%{x}\\u003cbr\\u003eweightedtau=%{y}\\u003cextra\\u003e\\u003c\\u002fextra\\u003e\",\"legendgroup\":\"Pretraining\\u003cbr\\u003eData\",\"line\":{\"color\":\"rgb(67, 99, 216)\",\"dash\":\"solid\"},\"marker\":{\"symbol\":\"circle\"},\"mode\":\"lines+markers\",\"name\":\"Pretraining\\u003cbr\\u003eData\",\"orientation\":\"v\",\"showlegend\":true,\"x\":[10,25,50,75,100,250,500,750,1000],\"xaxis\":\"x\",\"y\":[0.1828558418192812,0.17113534528593186,0.1602847024158851,0.1538235381200661,0.15266145519800223,0.1491395076382359,0.1487785842442994,0.14801654236342554,0.14688236588730996],\"yaxis\":\"y\",\"type\":\"scatter\"},{\"hovertemplate\":\"Scenario=Pretraining\\u003cbr\\u003eData\\u003cbr\\u003eweighting=source\\u003cbr\\u003ebins=%{x}\\u003cbr\\u003eweightedtau=%{y}\\u003cextra\\u003e\\u003c\\u002fextra\\u003e\",\"legendgroup\":\"Pretraining\\u003cbr\\u003eData\",\"line\":{\"color\":\"rgb(67, 99, 216)\",\"dash\":\"solid\"},\"marker\":{\"symbol\":\"circle\"},\"mode\":\"lines+markers\",\"name\":\"Pretraining\\u003cbr\\u003eData\",\"orientation\":\"v\",\"showlegend\":false,\"x\":[10,25,50,75,100,250,500,750,1000],\"xaxis\":\"x2\",\"y\":[0.15179146918025935,0.12878640937347843,0.08598651517537943,0.043018363462166434,0.028683633992199344,-0.0048585095605809345,-0.010956700107579868,-0.009543805648732258,-0.001077653032950662],\"yaxis\":\"y2\",\"type\":\"scatter\"},{\"hovertemplate\":\"Scenario=Pretraining\\u003cbr\\u003eData\\u003cbr\\u003eweighting=target\\u003cbr\\u003ebins=%{x}\\u003cbr\\u003eweightedtau=%{y}\\u003cextra\\u003e\\u003c\\u002fextra\\u003e\",\"legendgroup\":\"Pretraining\\u003cbr\\u003eData\",\"line\":{\"color\":\"rgb(67, 99, 216)\",\"dash\":\"solid\"},\"marker\":{\"symbol\":\"circle\"},\"mode\":\"lines+markers\",\"name\":\"Pretraining\\u003cbr\\u003eData\",\"orientation\":\"v\",\"showlegend\":false,\"x\":[10,25,50,75,100,250,500,750,1000],\"xaxis\":\"x3\",\"y\":[0.17777283253354645,0.16563052155237606,0.15617044935094934,0.1527769776135508,0.14967637131742625,0.14413966405283477,0.13907720905182286,0.1370510381684142,0.13685054077832542],\"yaxis\":\"y3\",\"type\":\"scatter\"},{\"hovertemplate\":\"Scenario=Augmentation\\u003cbr\\u003ePolicy\\u003cbr\\u003eweighting=unweighted\\u003cbr\\u003ebins=%{x}\\u003cbr\\u003eweightedtau=%{y}\\u003cextra\\u003e\\u003c\\u002fextra\\u003e\",\"legendgroup\":\"Augmentation\\u003cbr\\u003ePolicy\",\"line\":{\"color\":\"rgb(245, 130, 49)\",\"dash\":\"solid\"},\"marker\":{\"symbol\":\"circle\"},\"mode\":\"lines+markers\",\"name\":\"Augmentation\\u003cbr\\u003ePolicy\",\"orientation\":\"v\",\"showlegend\":true,\"x\":[10,25,50,75,100,250,500,750,1000],\"xaxis\":\"x\",\"y\":[0.167818737005239,0.16325139136275119,0.16259165483722504,0.16090482183980578,0.1594723426517723,0.1522517030174976,0.15091031581130981,0.14624106181029817,0.14450537479528608],\"yaxis\":\"y\",\"type\":\"scatter\"},{\"hovertemplate\":\"Scenario=Augmentation\\u003cbr\\u003ePolicy\\u003cbr\\u003eweighting=source\\u003cbr\\u003ebins=%{x}\\u003cbr\\u003eweightedtau=%{y}\\u003cextra\\u003e\\u003c\\u002fextra\\u003e\",\"legendgroup\":\"Augmentation\\u003cbr\\u003ePolicy\",\"line\":{\"color\":\"rgb(245, 130, 49)\",\"dash\":\"solid\"},\"marker\":{\"symbol\":\"circle\"},\"mode\":\"lines+markers\",\"name\":\"Augmentation\\u003cbr\\u003ePolicy\",\"orientation\":\"v\",\"showlegend\":false,\"x\":[10,25,50,75,100,250,500,750,1000],\"xaxis\":\"x2\",\"y\":[0.10089868494967313,0.09186035578235302,0.09158020637430588,0.07915086997167496,0.07557041463475068,0.04290116332248048,0.03658091493631287,0.029686976575289205,0.027340917589022008],\"yaxis\":\"y2\",\"type\":\"scatter\"},{\"hovertemplate\":\"Scenario=Augmentation\\u003cbr\\u003ePolicy\\u003cbr\\u003eweighting=target\\u003cbr\\u003ebins=%{x}\\u003cbr\\u003eweightedtau=%{y}\\u003cextra\\u003e\\u003c\\u002fextra\\u003e\",\"legendgroup\":\"Augmentation\\u003cbr\\u003ePolicy\",\"line\":{\"color\":\"rgb(245, 130, 49)\",\"dash\":\"solid\"},\"marker\":{\"symbol\":\"circle\"},\"mode\":\"lines+markers\",\"name\":\"Augmentation\\u003cbr\\u003ePolicy\",\"orientation\":\"v\",\"showlegend\":false,\"x\":[10,25,50,75,100,250,500,750,1000],\"xaxis\":\"x3\",\"y\":[0.15545827467414045,0.1566116244233395,0.1520230447798914,0.15102085486119418,0.14856562959661948,0.13860993763142304,0.13171350243638769,0.1291679572105024,0.12830390669132413],\"yaxis\":\"y3\",\"type\":\"scatter\"},{\"hovertemplate\":\"Scenario=Co-Training\\u003cbr\\u003eData\\u003cbr\\u003eweighting=unweighted\\u003cbr\\u003ebins=%{x}\\u003cbr\\u003eweightedtau=%{y}\\u003cextra\\u003e\\u003c\\u002fextra\\u003e\",\"legendgroup\":\"Co-Training\\u003cbr\\u003eData\",\"line\":{\"color\":\"rgb(145, 30, 180)\",\"dash\":\"solid\"},\"marker\":{\"symbol\":\"circle\"},\"mode\":\"lines+markers\",\"name\":\"Co-Training\\u003cbr\\u003eData\",\"orientation\":\"v\",\"showlegend\":true,\"x\":[10,25,50,75,100,250,500,750,1000],\"xaxis\":\"x\",\"y\":[-1.8310083582249067e-6,0.0006111820199522157,-0.0032224913626120624,-0.007402788134271316,-0.005962496532305654,-0.007590993071434306,-0.010804435204697734,-0.013161358800540882,-0.013835118933012813],\"yaxis\":\"y\",\"type\":\"scatter\"},{\"hovertemplate\":\"Scenario=Co-Training\\u003cbr\\u003eData\\u003cbr\\u003eweighting=source\\u003cbr\\u003ebins=%{x}\\u003cbr\\u003eweightedtau=%{y}\\u003cextra\\u003e\\u003c\\u002fextra\\u003e\",\"legendgroup\":\"Co-Training\\u003cbr\\u003eData\",\"line\":{\"color\":\"rgb(145, 30, 180)\",\"dash\":\"solid\"},\"marker\":{\"symbol\":\"circle\"},\"mode\":\"lines+markers\",\"name\":\"Co-Training\\u003cbr\\u003eData\",\"orientation\":\"v\",\"showlegend\":false,\"x\":[10,25,50,75,100,250,500,750,1000],\"xaxis\":\"x2\",\"y\":[-0.027100477225878633,-0.03281115160991063,-0.02756109793274753,-0.023505473916807507,-0.01753266418194988,-0.0031455667999629113,0.012082528999955808,0.018073866125127135,0.02044307017808799],\"yaxis\":\"y2\",\"type\":\"scatter\"},{\"hovertemplate\":\"Scenario=Co-Training\\u003cbr\\u003eData\\u003cbr\\u003eweighting=target\\u003cbr\\u003ebins=%{x}\\u003cbr\\u003eweightedtau=%{y}\\u003cextra\\u003e\\u003c\\u002fextra\\u003e\",\"legendgroup\":\"Co-Training\\u003cbr\\u003eData\",\"line\":{\"color\":\"rgb(145, 30, 180)\",\"dash\":\"solid\"},\"marker\":{\"symbol\":\"circle\"},\"mode\":\"lines+markers\",\"name\":\"Co-Training\\u003cbr\\u003eData\",\"orientation\":\"v\",\"showlegend\":false,\"x\":[10,25,50,75,100,250,500,750,1000],\"xaxis\":\"x3\",\"y\":[-0.007942383189295306,-0.009315049190297577,-0.006900402268251556,-0.007710851643171997,-0.008997708695253234,-0.014126534027187257,-0.019796130163193072,-0.020728667608880272,-0.021314641404165648],\"yaxis\":\"y3\",\"type\":\"scatter\"}],                        {\"template\":{\"data\":{\"barpolar\":[{\"marker\":{\"line\":{\"color\":\"#E5ECF6\",\"width\":0.5},\"pattern\":{\"fillmode\":\"overlay\",\"size\":10,\"solidity\":0.2}},\"type\":\"barpolar\"}],\"bar\":[{\"error_x\":{\"color\":\"#2a3f5f\"},\"error_y\":{\"color\":\"#2a3f5f\"},\"marker\":{\"line\":{\"color\":\"#E5ECF6\",\"width\":0.5},\"pattern\":{\"fillmode\":\"overlay\",\"size\":10,\"solidity\":0.2}},\"type\":\"bar\"}],\"carpet\":[{\"aaxis\":{\"endlinecolor\":\"#2a3f5f\",\"gridcolor\":\"white\",\"linecolor\":\"white\",\"minorgridcolor\":\"white\",\"startlinecolor\":\"#2a3f5f\"},\"baxis\":{\"endlinecolor\":\"#2a3f5f\",\"gridcolor\":\"white\",\"linecolor\":\"white\",\"minorgridcolor\":\"white\",\"startlinecolor\":\"#2a3f5f\"},\"type\":\"carpet\"}],\"choropleth\":[{\"colorbar\":{\"outlinewidth\":0,\"ticks\":\"\"},\"type\":\"choropleth\"}],\"contourcarpet\":[{\"colorbar\":{\"outlinewidth\":0,\"ticks\":\"\"},\"type\":\"contourcarpet\"}],\"contour\":[{\"colorbar\":{\"outlinewidth\":0,\"ticks\":\"\"},\"colorscale\":[[0.0,\"#0d0887\"],[0.1111111111111111,\"#46039f\"],[0.2222222222222222,\"#7201a8\"],[0.3333333333333333,\"#9c179e\"],[0.4444444444444444,\"#bd3786\"],[0.5555555555555556,\"#d8576b\"],[0.6666666666666666,\"#ed7953\"],[0.7777777777777778,\"#fb9f3a\"],[0.8888888888888888,\"#fdca26\"],[1.0,\"#f0f921\"]],\"type\":\"contour\"}],\"heatmapgl\":[{\"colorbar\":{\"outlinewidth\":0,\"ticks\":\"\"},\"colorscale\":[[0.0,\"#0d0887\"],[0.1111111111111111,\"#46039f\"],[0.2222222222222222,\"#7201a8\"],[0.3333333333333333,\"#9c179e\"],[0.4444444444444444,\"#bd3786\"],[0.5555555555555556,\"#d8576b\"],[0.6666666666666666,\"#ed7953\"],[0.7777777777777778,\"#fb9f3a\"],[0.8888888888888888,\"#fdca26\"],[1.0,\"#f0f921\"]],\"type\":\"heatmapgl\"}],\"heatmap\":[{\"colorbar\":{\"outlinewidth\":0,\"ticks\":\"\"},\"colorscale\":[[0.0,\"#0d0887\"],[0.1111111111111111,\"#46039f\"],[0.2222222222222222,\"#7201a8\"],[0.3333333333333333,\"#9c179e\"],[0.4444444444444444,\"#bd3786\"],[0.5555555555555556,\"#d8576b\"],[0.6666666666666666,\"#ed7953\"],[0.7777777777777778,\"#fb9f3a\"],[0.8888888888888888,\"#fdca26\"],[1.0,\"#f0f921\"]],\"type\":\"heatmap\"}],\"histogram2dcontour\":[{\"colorbar\":{\"outlinewidth\":0,\"ticks\":\"\"},\"colorscale\":[[0.0,\"#0d0887\"],[0.1111111111111111,\"#46039f\"],[0.2222222222222222,\"#7201a8\"],[0.3333333333333333,\"#9c179e\"],[0.4444444444444444,\"#bd3786\"],[0.5555555555555556,\"#d8576b\"],[0.6666666666666666,\"#ed7953\"],[0.7777777777777778,\"#fb9f3a\"],[0.8888888888888888,\"#fdca26\"],[1.0,\"#f0f921\"]],\"type\":\"histogram2dcontour\"}],\"histogram2d\":[{\"colorbar\":{\"outlinewidth\":0,\"ticks\":\"\"},\"colorscale\":[[0.0,\"#0d0887\"],[0.1111111111111111,\"#46039f\"],[0.2222222222222222,\"#7201a8\"],[0.3333333333333333,\"#9c179e\"],[0.4444444444444444,\"#bd3786\"],[0.5555555555555556,\"#d8576b\"],[0.6666666666666666,\"#ed7953\"],[0.7777777777777778,\"#fb9f3a\"],[0.8888888888888888,\"#fdca26\"],[1.0,\"#f0f921\"]],\"type\":\"histogram2d\"}],\"histogram\":[{\"marker\":{\"pattern\":{\"fillmode\":\"overlay\",\"size\":10,\"solidity\":0.2}},\"type\":\"histogram\"}],\"mesh3d\":[{\"colorbar\":{\"outlinewidth\":0,\"ticks\":\"\"},\"type\":\"mesh3d\"}],\"parcoords\":[{\"line\":{\"colorbar\":{\"outlinewidth\":0,\"ticks\":\"\"}},\"type\":\"parcoords\"}],\"pie\":[{\"automargin\":true,\"type\":\"pie\"}],\"scatter3d\":[{\"line\":{\"colorbar\":{\"outlinewidth\":0,\"ticks\":\"\"}},\"marker\":{\"colorbar\":{\"outlinewidth\":0,\"ticks\":\"\"}},\"type\":\"scatter3d\"}],\"scattercarpet\":[{\"marker\":{\"colorbar\":{\"outlinewidth\":0,\"ticks\":\"\"}},\"type\":\"scattercarpet\"}],\"scattergeo\":[{\"marker\":{\"colorbar\":{\"outlinewidth\":0,\"ticks\":\"\"}},\"type\":\"scattergeo\"}],\"scattergl\":[{\"marker\":{\"colorbar\":{\"outlinewidth\":0,\"ticks\":\"\"}},\"type\":\"scattergl\"}],\"scattermapbox\":[{\"marker\":{\"colorbar\":{\"outlinewidth\":0,\"ticks\":\"\"}},\"type\":\"scattermapbox\"}],\"scatterpolargl\":[{\"marker\":{\"colorbar\":{\"outlinewidth\":0,\"ticks\":\"\"}},\"type\":\"scatterpolargl\"}],\"scatterpolar\":[{\"marker\":{\"colorbar\":{\"outlinewidth\":0,\"ticks\":\"\"}},\"type\":\"scatterpolar\"}],\"scatter\":[{\"fillpattern\":{\"fillmode\":\"overlay\",\"size\":10,\"solidity\":0.2},\"type\":\"scatter\"}],\"scatterternary\":[{\"marker\":{\"colorbar\":{\"outlinewidth\":0,\"ticks\":\"\"}},\"type\":\"scatterternary\"}],\"surface\":[{\"colorbar\":{\"outlinewidth\":0,\"ticks\":\"\"},\"colorscale\":[[0.0,\"#0d0887\"],[0.1111111111111111,\"#46039f\"],[0.2222222222222222,\"#7201a8\"],[0.3333333333333333,\"#9c179e\"],[0.4444444444444444,\"#bd3786\"],[0.5555555555555556,\"#d8576b\"],[0.6666666666666666,\"#ed7953\"],[0.7777777777777778,\"#fb9f3a\"],[0.8888888888888888,\"#fdca26\"],[1.0,\"#f0f921\"]],\"type\":\"surface\"}],\"table\":[{\"cells\":{\"fill\":{\"color\":\"#EBF0F8\"},\"line\":{\"color\":\"white\"}},\"header\":{\"fill\":{\"color\":\"#C8D4E3\"},\"line\":{\"color\":\"white\"}},\"type\":\"table\"}]},\"layout\":{\"annotationdefaults\":{\"arrowcolor\":\"#2a3f5f\",\"arrowhead\":0,\"arrowwidth\":1},\"autotypenumbers\":\"strict\",\"coloraxis\":{\"colorbar\":{\"outlinewidth\":0,\"ticks\":\"\"}},\"colorscale\":{\"diverging\":[[0,\"#8e0152\"],[0.1,\"#c51b7d\"],[0.2,\"#de77ae\"],[0.3,\"#f1b6da\"],[0.4,\"#fde0ef\"],[0.5,\"#f7f7f7\"],[0.6,\"#e6f5d0\"],[0.7,\"#b8e186\"],[0.8,\"#7fbc41\"],[0.9,\"#4d9221\"],[1,\"#276419\"]],\"sequential\":[[0.0,\"#0d0887\"],[0.1111111111111111,\"#46039f\"],[0.2222222222222222,\"#7201a8\"],[0.3333333333333333,\"#9c179e\"],[0.4444444444444444,\"#bd3786\"],[0.5555555555555556,\"#d8576b\"],[0.6666666666666666,\"#ed7953\"],[0.7777777777777778,\"#fb9f3a\"],[0.8888888888888888,\"#fdca26\"],[1.0,\"#f0f921\"]],\"sequentialminus\":[[0.0,\"#0d0887\"],[0.1111111111111111,\"#46039f\"],[0.2222222222222222,\"#7201a8\"],[0.3333333333333333,\"#9c179e\"],[0.4444444444444444,\"#bd3786\"],[0.5555555555555556,\"#d8576b\"],[0.6666666666666666,\"#ed7953\"],[0.7777777777777778,\"#fb9f3a\"],[0.8888888888888888,\"#fdca26\"],[1.0,\"#f0f921\"]]},\"colorway\":[\"#636efa\",\"#EF553B\",\"#00cc96\",\"#ab63fa\",\"#FFA15A\",\"#19d3f3\",\"#FF6692\",\"#B6E880\",\"#FF97FF\",\"#FECB52\"],\"font\":{\"color\":\"#2a3f5f\"},\"geo\":{\"bgcolor\":\"white\",\"lakecolor\":\"white\",\"landcolor\":\"#E5ECF6\",\"showlakes\":true,\"showland\":true,\"subunitcolor\":\"white\"},\"hoverlabel\":{\"align\":\"left\"},\"hovermode\":\"closest\",\"mapbox\":{\"style\":\"light\"},\"paper_bgcolor\":\"white\",\"plot_bgcolor\":\"#E5ECF6\",\"polar\":{\"angularaxis\":{\"gridcolor\":\"white\",\"linecolor\":\"white\",\"ticks\":\"\"},\"bgcolor\":\"#E5ECF6\",\"radialaxis\":{\"gridcolor\":\"white\",\"linecolor\":\"white\",\"ticks\":\"\"}},\"scene\":{\"xaxis\":{\"backgroundcolor\":\"#E5ECF6\",\"gridcolor\":\"white\",\"gridwidth\":2,\"linecolor\":\"white\",\"showbackground\":true,\"ticks\":\"\",\"zerolinecolor\":\"white\"},\"yaxis\":{\"backgroundcolor\":\"#E5ECF6\",\"gridcolor\":\"white\",\"gridwidth\":2,\"linecolor\":\"white\",\"showbackground\":true,\"ticks\":\"\",\"zerolinecolor\":\"white\"},\"zaxis\":{\"backgroundcolor\":\"#E5ECF6\",\"gridcolor\":\"white\",\"gridwidth\":2,\"linecolor\":\"white\",\"showbackground\":true,\"ticks\":\"\",\"zerolinecolor\":\"white\"}},\"shapedefaults\":{\"line\":{\"color\":\"#2a3f5f\"}},\"ternary\":{\"aaxis\":{\"gridcolor\":\"white\",\"linecolor\":\"white\",\"ticks\":\"\"},\"baxis\":{\"gridcolor\":\"white\",\"linecolor\":\"white\",\"ticks\":\"\"},\"bgcolor\":\"#E5ECF6\",\"caxis\":{\"gridcolor\":\"white\",\"linecolor\":\"white\",\"ticks\":\"\"}},\"title\":{\"x\":0.05},\"xaxis\":{\"automargin\":true,\"gridcolor\":\"white\",\"linecolor\":\"white\",\"ticks\":\"\",\"title\":{\"standoff\":15},\"zerolinecolor\":\"white\",\"zerolinewidth\":2},\"yaxis\":{\"automargin\":true,\"gridcolor\":\"white\",\"linecolor\":\"white\",\"ticks\":\"\",\"title\":{\"standoff\":15},\"zerolinecolor\":\"white\",\"zerolinewidth\":2}}},\"xaxis\":{\"anchor\":\"y\",\"domain\":[0.0,0.31999999999999995],\"title\":{\"text\":\"bins\"},\"type\":\"log\"},\"yaxis\":{\"anchor\":\"x\",\"domain\":[0.0,1.0],\"title\":{\"text\":\"weightedtau\"}},\"xaxis2\":{\"anchor\":\"y2\",\"domain\":[0.33999999999999997,0.6599999999999999],\"matches\":\"x\",\"title\":{\"text\":\"bins\"},\"type\":\"log\"},\"yaxis2\":{\"anchor\":\"x2\",\"domain\":[0.0,1.0],\"matches\":\"y\",\"showticklabels\":false},\"xaxis3\":{\"anchor\":\"y3\",\"domain\":[0.6799999999999999,0.9999999999999999],\"matches\":\"x\",\"title\":{\"text\":\"bins\"},\"type\":\"log\"},\"yaxis3\":{\"anchor\":\"x3\",\"domain\":[0.0,1.0],\"matches\":\"y\",\"showticklabels\":false},\"annotations\":[{\"font\":{},\"showarrow\":false,\"text\":\"weighting=unweighted\",\"x\":0.15999999999999998,\"xanchor\":\"center\",\"xref\":\"paper\",\"y\":1.0,\"yanchor\":\"bottom\",\"yref\":\"paper\"},{\"font\":{},\"showarrow\":false,\"text\":\"weighting=source\",\"x\":0.49999999999999994,\"xanchor\":\"center\",\"xref\":\"paper\",\"y\":1.0,\"yanchor\":\"bottom\",\"yref\":\"paper\"},{\"font\":{},\"showarrow\":false,\"text\":\"weighting=target\",\"x\":0.8399999999999999,\"xanchor\":\"center\",\"xref\":\"paper\",\"y\":1.0,\"yanchor\":\"bottom\",\"yref\":\"paper\"}],\"legend\":{\"title\":{\"text\":\"Scenario\"},\"tracegroupgap\":0},\"margin\":{\"t\":60}},                        {\"responsive\": true}                    ).then(function(){\n",
       "                            \n",
       "var gd = document.getElementById('0000924e-85e1-4e3c-a882-c72a2f6689e0');\n",
       "var x = new MutationObserver(function (mutations, observer) {{\n",
       "        var display = window.getComputedStyle(gd).display;\n",
       "        if (!display || display === 'none') {{\n",
       "            console.log([gd, 'removed!']);\n",
       "            Plotly.purge(gd);\n",
       "            observer.disconnect();\n",
       "        }}\n",
       "}});\n",
       "\n",
       "// Listen for the removal of the full notebook cells\n",
       "var notebookContainer = gd.closest('#notebook-container');\n",
       "if (notebookContainer) {{\n",
       "    x.observe(notebookContainer, {childList: true});\n",
       "}}\n",
       "\n",
       "// Listen for the clearing of the current output cell\n",
       "var outputEl = gd.closest('.output');\n",
       "if (outputEl) {{\n",
       "    x.observe(outputEl, {childList: true});\n",
       "}}\n",
       "\n",
       "                        })                };                });            </script>        </div>"
      ]
     },
     "metadata": {},
     "output_type": "display_data"
    }
   ],
   "execution_count": 20
  },
  {
   "metadata": {},
   "cell_type": "markdown",
   "source": "With respect to weightedtau the pretraining data and augmentation policy scenarios would have profited from a lower number of bins. ",
   "id": "c267352a30d626dd"
  },
  {
   "metadata": {
    "ExecuteTime": {
     "end_time": "2024-10-10T21:57:10.164361Z",
     "start_time": "2024-10-10T21:57:10.094630Z"
    }
   },
   "cell_type": "code",
   "source": "get_bins_plot('rank')",
   "id": "eb36b012f6ddde3d",
   "outputs": [
    {
     "data": {
      "application/vnd.plotly.v1+json": {
       "data": [
        {
         "hovertemplate": "Scenario=Model<br>Architecture<br>weighting=source<br>bins=%{x}<br>rank=%{y}<extra></extra>",
         "legendgroup": "Model<br>Architecture",
         "line": {
          "color": "rgb(230, 25, 75)",
          "dash": "solid"
         },
         "marker": {
          "symbol": "circle"
         },
         "mode": "lines+markers",
         "name": "Model<br>Architecture",
         "orientation": "v",
         "showlegend": true,
         "x": [
          10,
          25,
          50,
          75,
          100,
          250,
          500,
          750,
          1000
         ],
         "xaxis": "x",
         "y": [
          0.4846430114752348,
          0.5070197107225104,
          0.5490300040254714,
          0.5383453684916326,
          0.5290225029939475,
          0.5417640268761221,
          0.5305025982931217,
          0.5363081622382206,
          0.5355329684397709
         ],
         "yaxis": "y",
         "type": "scatter"
        },
        {
         "hovertemplate": "Scenario=Model<br>Architecture<br>weighting=target<br>bins=%{x}<br>rank=%{y}<extra></extra>",
         "legendgroup": "Model<br>Architecture",
         "line": {
          "color": "rgb(230, 25, 75)",
          "dash": "solid"
         },
         "marker": {
          "symbol": "circle"
         },
         "mode": "lines+markers",
         "name": "Model<br>Architecture",
         "orientation": "v",
         "showlegend": false,
         "x": [
          10,
          25,
          50,
          75,
          100,
          250,
          500,
          750,
          1000
         ],
         "xaxis": "x2",
         "y": [
          0.4748047399837784,
          0.4776960684059461,
          0.48255507301217004,
          0.4782224940082058,
          0.48256911637808403,
          0.48254143088528223,
          0.48445172988860447,
          0.4804650189251493,
          0.4822368904644627
         ],
         "yaxis": "y2",
         "type": "scatter"
        },
        {
         "hovertemplate": "Scenario=Model<br>Architecture<br>weighting=unweighted<br>bins=%{x}<br>rank=%{y}<extra></extra>",
         "legendgroup": "Model<br>Architecture",
         "line": {
          "color": "rgb(230, 25, 75)",
          "dash": "solid"
         },
         "marker": {
          "symbol": "circle"
         },
         "mode": "lines+markers",
         "name": "Model<br>Architecture",
         "orientation": "v",
         "showlegend": false,
         "x": [
          10,
          25,
          50,
          75,
          100,
          250,
          500,
          750,
          1000
         ],
         "xaxis": "x3",
         "y": [
          0.48433788743401385,
          0.4829442748674994,
          0.4822798230402569,
          0.4771287164230228,
          0.48161376625690977,
          0.48201540652204855,
          0.4826244873636874,
          0.4859467464999002,
          0.4846732138310186
         ],
         "yaxis": "y3",
         "type": "scatter"
        },
        {
         "hovertemplate": "Scenario=Pretraining<br>Data<br>weighting=source<br>bins=%{x}<br>rank=%{y}<extra></extra>",
         "legendgroup": "Pretraining<br>Data",
         "line": {
          "color": "rgb(67, 99, 216)",
          "dash": "solid"
         },
         "marker": {
          "symbol": "circle"
         },
         "mode": "lines+markers",
         "name": "Pretraining<br>Data",
         "orientation": "v",
         "showlegend": true,
         "x": [
          10,
          25,
          50,
          75,
          100,
          250,
          500,
          750,
          1000
         ],
         "xaxis": "x",
         "y": [
          0.6873243472394479,
          0.672077665486194,
          0.5833672864564396,
          0.536251669292707,
          0.5296847398308296,
          0.5008782543692416,
          0.5223267003365327,
          0.5185665070414557,
          0.5236052667313782
         ],
         "yaxis": "y",
         "type": "scatter"
        },
        {
         "hovertemplate": "Scenario=Pretraining<br>Data<br>weighting=target<br>bins=%{x}<br>rank=%{y}<extra></extra>",
         "legendgroup": "Pretraining<br>Data",
         "line": {
          "color": "rgb(67, 99, 216)",
          "dash": "solid"
         },
         "marker": {
          "symbol": "circle"
         },
         "mode": "lines+markers",
         "name": "Pretraining<br>Data",
         "orientation": "v",
         "showlegend": false,
         "x": [
          10,
          25,
          50,
          75,
          100,
          250,
          500,
          750,
          1000
         ],
         "xaxis": "x2",
         "y": [
          0.6818303636362633,
          0.6684662953935295,
          0.6644474853079854,
          0.6736149945766068,
          0.6768265117416123,
          0.6750269547094973,
          0.6742517609110477,
          0.6750269547094971,
          0.6754699225943255
         ],
         "yaxis": "y2",
         "type": "scatter"
        },
        {
         "hovertemplate": "Scenario=Pretraining<br>Data<br>weighting=unweighted<br>bins=%{x}<br>rank=%{y}<extra></extra>",
         "legendgroup": "Pretraining<br>Data",
         "line": {
          "color": "rgb(67, 99, 216)",
          "dash": "solid"
         },
         "marker": {
          "symbol": "circle"
         },
         "mode": "lines+markers",
         "name": "Pretraining<br>Data",
         "orientation": "v",
         "showlegend": false,
         "x": [
          10,
          25,
          50,
          75,
          100,
          250,
          500,
          750,
          1000
         ],
         "xaxis": "x3",
         "y": [
          0.6459106435406078,
          0.6609262116148209,
          0.6583237752914544,
          0.6550897887409864,
          0.661457452085394,
          0.6754422371015237,
          0.6771587376552335,
          0.674196389925444,
          0.6708187598036279
         ],
         "yaxis": "y3",
         "type": "scatter"
        },
        {
         "hovertemplate": "Scenario=Augmentation<br>Policy<br>weighting=source<br>bins=%{x}<br>rank=%{y}<extra></extra>",
         "legendgroup": "Augmentation<br>Policy",
         "line": {
          "color": "rgb(245, 130, 49)",
          "dash": "solid"
         },
         "marker": {
          "symbol": "circle"
         },
         "mode": "lines+markers",
         "name": "Augmentation<br>Policy",
         "orientation": "v",
         "showlegend": true,
         "x": [
          10,
          25,
          50,
          75,
          100,
          250,
          500,
          750,
          1000
         ],
         "xaxis": "x",
         "y": [
          0.5705222944754342,
          0.5720887316333779,
          0.585977482163982,
          0.5702496871467619,
          0.5659338457218587,
          0.5433040640155108,
          0.547546279965826,
          0.5321900599584434,
          0.5319685760160291
         ],
         "yaxis": "y",
         "type": "scatter"
        },
        {
         "hovertemplate": "Scenario=Augmentation<br>Policy<br>weighting=target<br>bins=%{x}<br>rank=%{y}<extra></extra>",
         "legendgroup": "Augmentation<br>Policy",
         "line": {
          "color": "rgb(245, 130, 49)",
          "dash": "solid"
         },
         "marker": {
          "symbol": "circle"
         },
         "mode": "lines+markers",
         "name": "Augmentation<br>Policy",
         "orientation": "v",
         "showlegend": false,
         "x": [
          10,
          25,
          50,
          75,
          100,
          250,
          500,
          750,
          1000
         ],
         "xaxis": "x2",
         "y": [
          0.5824884824274664,
          0.579013752461331,
          0.5721830592807895,
          0.5758479765453023,
          0.5788656952606954,
          0.5800838569439734,
          0.5799177439871628,
          0.577093823721382,
          0.5761525169661218
         ],
         "yaxis": "y2",
         "type": "scatter"
        },
        {
         "hovertemplate": "Scenario=Augmentation<br>Policy<br>weighting=unweighted<br>bins=%{x}<br>rank=%{y}<extra></extra>",
         "legendgroup": "Augmentation<br>Policy",
         "line": {
          "color": "rgb(245, 130, 49)",
          "dash": "solid"
         },
         "marker": {
          "symbol": "circle"
         },
         "mode": "lines+markers",
         "name": "Augmentation<br>Policy",
         "orientation": "v",
         "showlegend": false,
         "x": [
          10,
          25,
          50,
          75,
          100,
          250,
          500,
          750,
          1000
         ],
         "xaxis": "x3",
         "y": [
          0.5765029080647435,
          0.5716799055420444,
          0.5815636264722768,
          0.5776924723483421,
          0.576612738129073,
          0.5755434361244827,
          0.5757095490812933,
          0.5709476443193887,
          0.5713906122042169
         ],
         "yaxis": "y3",
         "type": "scatter"
        },
        {
         "hovertemplate": "Scenario=Co-Training<br>Data<br>weighting=source<br>bins=%{x}<br>rank=%{y}<extra></extra>",
         "legendgroup": "Co-Training<br>Data",
         "line": {
          "color": "rgb(145, 30, 180)",
          "dash": "solid"
         },
         "marker": {
          "symbol": "circle"
         },
         "mode": "lines+markers",
         "name": "Co-Training<br>Data",
         "orientation": "v",
         "showlegend": true,
         "x": [
          10,
          25,
          50,
          75,
          100,
          250,
          500,
          750,
          1000
         ],
         "xaxis": "x",
         "y": [
          0.4954252399120082,
          0.47145441801398724,
          0.48862284100072184,
          0.5110884354460241,
          0.507726022219938,
          0.5032298458643426,
          0.5178305441057784,
          0.5192383094670323,
          0.5183523736973755
         ],
         "yaxis": "y",
         "type": "scatter"
        },
        {
         "hovertemplate": "Scenario=Co-Training<br>Data<br>weighting=target<br>bins=%{x}<br>rank=%{y}<extra></extra>",
         "legendgroup": "Co-Training<br>Data",
         "line": {
          "color": "rgb(145, 30, 180)",
          "dash": "solid"
         },
         "marker": {
          "symbol": "circle"
         },
         "mode": "lines+markers",
         "name": "Co-Training<br>Data",
         "orientation": "v",
         "showlegend": false,
         "x": [
          10,
          25,
          50,
          75,
          100,
          250,
          500,
          750,
          1000
         ],
         "xaxis": "x2",
         "y": [
          0.4979810230795203,
          0.5046066831177183,
          0.5057622515129228,
          0.5166205820375828,
          0.5200812686378044,
          0.513685919800595,
          0.5107512575636072,
          0.5172850338648253,
          0.5165652110519792
         ],
         "yaxis": "y2",
         "type": "scatter"
        },
        {
         "hovertemplate": "Scenario=Co-Training<br>Data<br>weighting=unweighted<br>bins=%{x}<br>rank=%{y}<extra></extra>",
         "legendgroup": "Co-Training<br>Data",
         "line": {
          "color": "rgb(145, 30, 180)",
          "dash": "solid"
         },
         "marker": {
          "symbol": "circle"
         },
         "mode": "lines+markers",
         "name": "Co-Training<br>Data",
         "orientation": "v",
         "showlegend": false,
         "x": [
          10,
          25,
          50,
          75,
          100,
          250,
          500,
          750,
          1000
         ],
         "xaxis": "x3",
         "y": [
          0.5045921655602281,
          0.5076039386427798,
          0.5110092542573977,
          0.5137079879470313,
          0.5132096490765994,
          0.5236526972092329,
          0.5258675366333746,
          0.5230436163675939,
          0.527639408172688
         ],
         "yaxis": "y3",
         "type": "scatter"
        }
       ],
       "layout": {
        "template": {
         "data": {
          "barpolar": [
           {
            "marker": {
             "line": {
              "color": "#E5ECF6",
              "width": 0.5
             },
             "pattern": {
              "fillmode": "overlay",
              "size": 10,
              "solidity": 0.2
             }
            },
            "type": "barpolar"
           }
          ],
          "bar": [
           {
            "error_x": {
             "color": "#2a3f5f"
            },
            "error_y": {
             "color": "#2a3f5f"
            },
            "marker": {
             "line": {
              "color": "#E5ECF6",
              "width": 0.5
             },
             "pattern": {
              "fillmode": "overlay",
              "size": 10,
              "solidity": 0.2
             }
            },
            "type": "bar"
           }
          ],
          "carpet": [
           {
            "aaxis": {
             "endlinecolor": "#2a3f5f",
             "gridcolor": "white",
             "linecolor": "white",
             "minorgridcolor": "white",
             "startlinecolor": "#2a3f5f"
            },
            "baxis": {
             "endlinecolor": "#2a3f5f",
             "gridcolor": "white",
             "linecolor": "white",
             "minorgridcolor": "white",
             "startlinecolor": "#2a3f5f"
            },
            "type": "carpet"
           }
          ],
          "choropleth": [
           {
            "colorbar": {
             "outlinewidth": 0,
             "ticks": ""
            },
            "type": "choropleth"
           }
          ],
          "contourcarpet": [
           {
            "colorbar": {
             "outlinewidth": 0,
             "ticks": ""
            },
            "type": "contourcarpet"
           }
          ],
          "contour": [
           {
            "colorbar": {
             "outlinewidth": 0,
             "ticks": ""
            },
            "colorscale": [
             [
              0.0,
              "#0d0887"
             ],
             [
              0.1111111111111111,
              "#46039f"
             ],
             [
              0.2222222222222222,
              "#7201a8"
             ],
             [
              0.3333333333333333,
              "#9c179e"
             ],
             [
              0.4444444444444444,
              "#bd3786"
             ],
             [
              0.5555555555555556,
              "#d8576b"
             ],
             [
              0.6666666666666666,
              "#ed7953"
             ],
             [
              0.7777777777777778,
              "#fb9f3a"
             ],
             [
              0.8888888888888888,
              "#fdca26"
             ],
             [
              1.0,
              "#f0f921"
             ]
            ],
            "type": "contour"
           }
          ],
          "heatmapgl": [
           {
            "colorbar": {
             "outlinewidth": 0,
             "ticks": ""
            },
            "colorscale": [
             [
              0.0,
              "#0d0887"
             ],
             [
              0.1111111111111111,
              "#46039f"
             ],
             [
              0.2222222222222222,
              "#7201a8"
             ],
             [
              0.3333333333333333,
              "#9c179e"
             ],
             [
              0.4444444444444444,
              "#bd3786"
             ],
             [
              0.5555555555555556,
              "#d8576b"
             ],
             [
              0.6666666666666666,
              "#ed7953"
             ],
             [
              0.7777777777777778,
              "#fb9f3a"
             ],
             [
              0.8888888888888888,
              "#fdca26"
             ],
             [
              1.0,
              "#f0f921"
             ]
            ],
            "type": "heatmapgl"
           }
          ],
          "heatmap": [
           {
            "colorbar": {
             "outlinewidth": 0,
             "ticks": ""
            },
            "colorscale": [
             [
              0.0,
              "#0d0887"
             ],
             [
              0.1111111111111111,
              "#46039f"
             ],
             [
              0.2222222222222222,
              "#7201a8"
             ],
             [
              0.3333333333333333,
              "#9c179e"
             ],
             [
              0.4444444444444444,
              "#bd3786"
             ],
             [
              0.5555555555555556,
              "#d8576b"
             ],
             [
              0.6666666666666666,
              "#ed7953"
             ],
             [
              0.7777777777777778,
              "#fb9f3a"
             ],
             [
              0.8888888888888888,
              "#fdca26"
             ],
             [
              1.0,
              "#f0f921"
             ]
            ],
            "type": "heatmap"
           }
          ],
          "histogram2dcontour": [
           {
            "colorbar": {
             "outlinewidth": 0,
             "ticks": ""
            },
            "colorscale": [
             [
              0.0,
              "#0d0887"
             ],
             [
              0.1111111111111111,
              "#46039f"
             ],
             [
              0.2222222222222222,
              "#7201a8"
             ],
             [
              0.3333333333333333,
              "#9c179e"
             ],
             [
              0.4444444444444444,
              "#bd3786"
             ],
             [
              0.5555555555555556,
              "#d8576b"
             ],
             [
              0.6666666666666666,
              "#ed7953"
             ],
             [
              0.7777777777777778,
              "#fb9f3a"
             ],
             [
              0.8888888888888888,
              "#fdca26"
             ],
             [
              1.0,
              "#f0f921"
             ]
            ],
            "type": "histogram2dcontour"
           }
          ],
          "histogram2d": [
           {
            "colorbar": {
             "outlinewidth": 0,
             "ticks": ""
            },
            "colorscale": [
             [
              0.0,
              "#0d0887"
             ],
             [
              0.1111111111111111,
              "#46039f"
             ],
             [
              0.2222222222222222,
              "#7201a8"
             ],
             [
              0.3333333333333333,
              "#9c179e"
             ],
             [
              0.4444444444444444,
              "#bd3786"
             ],
             [
              0.5555555555555556,
              "#d8576b"
             ],
             [
              0.6666666666666666,
              "#ed7953"
             ],
             [
              0.7777777777777778,
              "#fb9f3a"
             ],
             [
              0.8888888888888888,
              "#fdca26"
             ],
             [
              1.0,
              "#f0f921"
             ]
            ],
            "type": "histogram2d"
           }
          ],
          "histogram": [
           {
            "marker": {
             "pattern": {
              "fillmode": "overlay",
              "size": 10,
              "solidity": 0.2
             }
            },
            "type": "histogram"
           }
          ],
          "mesh3d": [
           {
            "colorbar": {
             "outlinewidth": 0,
             "ticks": ""
            },
            "type": "mesh3d"
           }
          ],
          "parcoords": [
           {
            "line": {
             "colorbar": {
              "outlinewidth": 0,
              "ticks": ""
             }
            },
            "type": "parcoords"
           }
          ],
          "pie": [
           {
            "automargin": true,
            "type": "pie"
           }
          ],
          "scatter3d": [
           {
            "line": {
             "colorbar": {
              "outlinewidth": 0,
              "ticks": ""
             }
            },
            "marker": {
             "colorbar": {
              "outlinewidth": 0,
              "ticks": ""
             }
            },
            "type": "scatter3d"
           }
          ],
          "scattercarpet": [
           {
            "marker": {
             "colorbar": {
              "outlinewidth": 0,
              "ticks": ""
             }
            },
            "type": "scattercarpet"
           }
          ],
          "scattergeo": [
           {
            "marker": {
             "colorbar": {
              "outlinewidth": 0,
              "ticks": ""
             }
            },
            "type": "scattergeo"
           }
          ],
          "scattergl": [
           {
            "marker": {
             "colorbar": {
              "outlinewidth": 0,
              "ticks": ""
             }
            },
            "type": "scattergl"
           }
          ],
          "scattermapbox": [
           {
            "marker": {
             "colorbar": {
              "outlinewidth": 0,
              "ticks": ""
             }
            },
            "type": "scattermapbox"
           }
          ],
          "scatterpolargl": [
           {
            "marker": {
             "colorbar": {
              "outlinewidth": 0,
              "ticks": ""
             }
            },
            "type": "scatterpolargl"
           }
          ],
          "scatterpolar": [
           {
            "marker": {
             "colorbar": {
              "outlinewidth": 0,
              "ticks": ""
             }
            },
            "type": "scatterpolar"
           }
          ],
          "scatter": [
           {
            "fillpattern": {
             "fillmode": "overlay",
             "size": 10,
             "solidity": 0.2
            },
            "type": "scatter"
           }
          ],
          "scatterternary": [
           {
            "marker": {
             "colorbar": {
              "outlinewidth": 0,
              "ticks": ""
             }
            },
            "type": "scatterternary"
           }
          ],
          "surface": [
           {
            "colorbar": {
             "outlinewidth": 0,
             "ticks": ""
            },
            "colorscale": [
             [
              0.0,
              "#0d0887"
             ],
             [
              0.1111111111111111,
              "#46039f"
             ],
             [
              0.2222222222222222,
              "#7201a8"
             ],
             [
              0.3333333333333333,
              "#9c179e"
             ],
             [
              0.4444444444444444,
              "#bd3786"
             ],
             [
              0.5555555555555556,
              "#d8576b"
             ],
             [
              0.6666666666666666,
              "#ed7953"
             ],
             [
              0.7777777777777778,
              "#fb9f3a"
             ],
             [
              0.8888888888888888,
              "#fdca26"
             ],
             [
              1.0,
              "#f0f921"
             ]
            ],
            "type": "surface"
           }
          ],
          "table": [
           {
            "cells": {
             "fill": {
              "color": "#EBF0F8"
             },
             "line": {
              "color": "white"
             }
            },
            "header": {
             "fill": {
              "color": "#C8D4E3"
             },
             "line": {
              "color": "white"
             }
            },
            "type": "table"
           }
          ]
         },
         "layout": {
          "annotationdefaults": {
           "arrowcolor": "#2a3f5f",
           "arrowhead": 0,
           "arrowwidth": 1
          },
          "autotypenumbers": "strict",
          "coloraxis": {
           "colorbar": {
            "outlinewidth": 0,
            "ticks": ""
           }
          },
          "colorscale": {
           "diverging": [
            [
             0,
             "#8e0152"
            ],
            [
             0.1,
             "#c51b7d"
            ],
            [
             0.2,
             "#de77ae"
            ],
            [
             0.3,
             "#f1b6da"
            ],
            [
             0.4,
             "#fde0ef"
            ],
            [
             0.5,
             "#f7f7f7"
            ],
            [
             0.6,
             "#e6f5d0"
            ],
            [
             0.7,
             "#b8e186"
            ],
            [
             0.8,
             "#7fbc41"
            ],
            [
             0.9,
             "#4d9221"
            ],
            [
             1,
             "#276419"
            ]
           ],
           "sequential": [
            [
             0.0,
             "#0d0887"
            ],
            [
             0.1111111111111111,
             "#46039f"
            ],
            [
             0.2222222222222222,
             "#7201a8"
            ],
            [
             0.3333333333333333,
             "#9c179e"
            ],
            [
             0.4444444444444444,
             "#bd3786"
            ],
            [
             0.5555555555555556,
             "#d8576b"
            ],
            [
             0.6666666666666666,
             "#ed7953"
            ],
            [
             0.7777777777777778,
             "#fb9f3a"
            ],
            [
             0.8888888888888888,
             "#fdca26"
            ],
            [
             1.0,
             "#f0f921"
            ]
           ],
           "sequentialminus": [
            [
             0.0,
             "#0d0887"
            ],
            [
             0.1111111111111111,
             "#46039f"
            ],
            [
             0.2222222222222222,
             "#7201a8"
            ],
            [
             0.3333333333333333,
             "#9c179e"
            ],
            [
             0.4444444444444444,
             "#bd3786"
            ],
            [
             0.5555555555555556,
             "#d8576b"
            ],
            [
             0.6666666666666666,
             "#ed7953"
            ],
            [
             0.7777777777777778,
             "#fb9f3a"
            ],
            [
             0.8888888888888888,
             "#fdca26"
            ],
            [
             1.0,
             "#f0f921"
            ]
           ]
          },
          "colorway": [
           "#636efa",
           "#EF553B",
           "#00cc96",
           "#ab63fa",
           "#FFA15A",
           "#19d3f3",
           "#FF6692",
           "#B6E880",
           "#FF97FF",
           "#FECB52"
          ],
          "font": {
           "color": "#2a3f5f"
          },
          "geo": {
           "bgcolor": "white",
           "lakecolor": "white",
           "landcolor": "#E5ECF6",
           "showlakes": true,
           "showland": true,
           "subunitcolor": "white"
          },
          "hoverlabel": {
           "align": "left"
          },
          "hovermode": "closest",
          "mapbox": {
           "style": "light"
          },
          "paper_bgcolor": "white",
          "plot_bgcolor": "#E5ECF6",
          "polar": {
           "angularaxis": {
            "gridcolor": "white",
            "linecolor": "white",
            "ticks": ""
           },
           "bgcolor": "#E5ECF6",
           "radialaxis": {
            "gridcolor": "white",
            "linecolor": "white",
            "ticks": ""
           }
          },
          "scene": {
           "xaxis": {
            "backgroundcolor": "#E5ECF6",
            "gridcolor": "white",
            "gridwidth": 2,
            "linecolor": "white",
            "showbackground": true,
            "ticks": "",
            "zerolinecolor": "white"
           },
           "yaxis": {
            "backgroundcolor": "#E5ECF6",
            "gridcolor": "white",
            "gridwidth": 2,
            "linecolor": "white",
            "showbackground": true,
            "ticks": "",
            "zerolinecolor": "white"
           },
           "zaxis": {
            "backgroundcolor": "#E5ECF6",
            "gridcolor": "white",
            "gridwidth": 2,
            "linecolor": "white",
            "showbackground": true,
            "ticks": "",
            "zerolinecolor": "white"
           }
          },
          "shapedefaults": {
           "line": {
            "color": "#2a3f5f"
           }
          },
          "ternary": {
           "aaxis": {
            "gridcolor": "white",
            "linecolor": "white",
            "ticks": ""
           },
           "baxis": {
            "gridcolor": "white",
            "linecolor": "white",
            "ticks": ""
           },
           "bgcolor": "#E5ECF6",
           "caxis": {
            "gridcolor": "white",
            "linecolor": "white",
            "ticks": ""
           }
          },
          "title": {
           "x": 0.05
          },
          "xaxis": {
           "automargin": true,
           "gridcolor": "white",
           "linecolor": "white",
           "ticks": "",
           "title": {
            "standoff": 15
           },
           "zerolinecolor": "white",
           "zerolinewidth": 2
          },
          "yaxis": {
           "automargin": true,
           "gridcolor": "white",
           "linecolor": "white",
           "ticks": "",
           "title": {
            "standoff": 15
           },
           "zerolinecolor": "white",
           "zerolinewidth": 2
          }
         }
        },
        "xaxis": {
         "anchor": "y",
         "domain": [
          0.0,
          0.31999999999999995
         ],
         "title": {
          "text": "bins"
         },
         "type": "log"
        },
        "yaxis": {
         "anchor": "x",
         "domain": [
          0.0,
          1.0
         ],
         "title": {
          "text": "rank"
         }
        },
        "xaxis2": {
         "anchor": "y2",
         "domain": [
          0.33999999999999997,
          0.6599999999999999
         ],
         "matches": "x",
         "title": {
          "text": "bins"
         },
         "type": "log"
        },
        "yaxis2": {
         "anchor": "x2",
         "domain": [
          0.0,
          1.0
         ],
         "matches": "y",
         "showticklabels": false
        },
        "xaxis3": {
         "anchor": "y3",
         "domain": [
          0.6799999999999999,
          0.9999999999999999
         ],
         "matches": "x",
         "title": {
          "text": "bins"
         },
         "type": "log"
        },
        "yaxis3": {
         "anchor": "x3",
         "domain": [
          0.0,
          1.0
         ],
         "matches": "y",
         "showticklabels": false
        },
        "annotations": [
         {
          "font": {},
          "showarrow": false,
          "text": "weighting=source",
          "x": 0.15999999999999998,
          "xanchor": "center",
          "xref": "paper",
          "y": 1.0,
          "yanchor": "bottom",
          "yref": "paper"
         },
         {
          "font": {},
          "showarrow": false,
          "text": "weighting=target",
          "x": 0.49999999999999994,
          "xanchor": "center",
          "xref": "paper",
          "y": 1.0,
          "yanchor": "bottom",
          "yref": "paper"
         },
         {
          "font": {},
          "showarrow": false,
          "text": "weighting=unweighted",
          "x": 0.8399999999999999,
          "xanchor": "center",
          "xref": "paper",
          "y": 1.0,
          "yanchor": "bottom",
          "yref": "paper"
         }
        ],
        "legend": {
         "title": {
          "text": "Scenario"
         },
         "tracegroupgap": 0
        },
        "margin": {
         "t": 60
        }
       },
       "config": {
        "plotlyServerURL": "https://plot.ly"
       }
      },
      "text/html": [
       "<div>                            <div id=\"8412f248-f490-4d1a-bd9a-b8387248b602\" class=\"plotly-graph-div\" style=\"height:525px; width:100%;\"></div>            <script type=\"text/javascript\">                require([\"plotly\"], function(Plotly) {                    window.PLOTLYENV=window.PLOTLYENV || {};                                    if (document.getElementById(\"8412f248-f490-4d1a-bd9a-b8387248b602\")) {                    Plotly.newPlot(                        \"8412f248-f490-4d1a-bd9a-b8387248b602\",                        [{\"hovertemplate\":\"Scenario=Model\\u003cbr\\u003eArchitecture\\u003cbr\\u003eweighting=source\\u003cbr\\u003ebins=%{x}\\u003cbr\\u003erank=%{y}\\u003cextra\\u003e\\u003c\\u002fextra\\u003e\",\"legendgroup\":\"Model\\u003cbr\\u003eArchitecture\",\"line\":{\"color\":\"rgb(230, 25, 75)\",\"dash\":\"solid\"},\"marker\":{\"symbol\":\"circle\"},\"mode\":\"lines+markers\",\"name\":\"Model\\u003cbr\\u003eArchitecture\",\"orientation\":\"v\",\"showlegend\":true,\"x\":[10,25,50,75,100,250,500,750,1000],\"xaxis\":\"x\",\"y\":[0.4846430114752348,0.5070197107225104,0.5490300040254714,0.5383453684916326,0.5290225029939475,0.5417640268761221,0.5305025982931217,0.5363081622382206,0.5355329684397709],\"yaxis\":\"y\",\"type\":\"scatter\"},{\"hovertemplate\":\"Scenario=Model\\u003cbr\\u003eArchitecture\\u003cbr\\u003eweighting=target\\u003cbr\\u003ebins=%{x}\\u003cbr\\u003erank=%{y}\\u003cextra\\u003e\\u003c\\u002fextra\\u003e\",\"legendgroup\":\"Model\\u003cbr\\u003eArchitecture\",\"line\":{\"color\":\"rgb(230, 25, 75)\",\"dash\":\"solid\"},\"marker\":{\"symbol\":\"circle\"},\"mode\":\"lines+markers\",\"name\":\"Model\\u003cbr\\u003eArchitecture\",\"orientation\":\"v\",\"showlegend\":false,\"x\":[10,25,50,75,100,250,500,750,1000],\"xaxis\":\"x2\",\"y\":[0.4748047399837784,0.4776960684059461,0.48255507301217004,0.4782224940082058,0.48256911637808403,0.48254143088528223,0.48445172988860447,0.4804650189251493,0.4822368904644627],\"yaxis\":\"y2\",\"type\":\"scatter\"},{\"hovertemplate\":\"Scenario=Model\\u003cbr\\u003eArchitecture\\u003cbr\\u003eweighting=unweighted\\u003cbr\\u003ebins=%{x}\\u003cbr\\u003erank=%{y}\\u003cextra\\u003e\\u003c\\u002fextra\\u003e\",\"legendgroup\":\"Model\\u003cbr\\u003eArchitecture\",\"line\":{\"color\":\"rgb(230, 25, 75)\",\"dash\":\"solid\"},\"marker\":{\"symbol\":\"circle\"},\"mode\":\"lines+markers\",\"name\":\"Model\\u003cbr\\u003eArchitecture\",\"orientation\":\"v\",\"showlegend\":false,\"x\":[10,25,50,75,100,250,500,750,1000],\"xaxis\":\"x3\",\"y\":[0.48433788743401385,0.4829442748674994,0.4822798230402569,0.4771287164230228,0.48161376625690977,0.48201540652204855,0.4826244873636874,0.4859467464999002,0.4846732138310186],\"yaxis\":\"y3\",\"type\":\"scatter\"},{\"hovertemplate\":\"Scenario=Pretraining\\u003cbr\\u003eData\\u003cbr\\u003eweighting=source\\u003cbr\\u003ebins=%{x}\\u003cbr\\u003erank=%{y}\\u003cextra\\u003e\\u003c\\u002fextra\\u003e\",\"legendgroup\":\"Pretraining\\u003cbr\\u003eData\",\"line\":{\"color\":\"rgb(67, 99, 216)\",\"dash\":\"solid\"},\"marker\":{\"symbol\":\"circle\"},\"mode\":\"lines+markers\",\"name\":\"Pretraining\\u003cbr\\u003eData\",\"orientation\":\"v\",\"showlegend\":true,\"x\":[10,25,50,75,100,250,500,750,1000],\"xaxis\":\"x\",\"y\":[0.6873243472394479,0.672077665486194,0.5833672864564396,0.536251669292707,0.5296847398308296,0.5008782543692416,0.5223267003365327,0.5185665070414557,0.5236052667313782],\"yaxis\":\"y\",\"type\":\"scatter\"},{\"hovertemplate\":\"Scenario=Pretraining\\u003cbr\\u003eData\\u003cbr\\u003eweighting=target\\u003cbr\\u003ebins=%{x}\\u003cbr\\u003erank=%{y}\\u003cextra\\u003e\\u003c\\u002fextra\\u003e\",\"legendgroup\":\"Pretraining\\u003cbr\\u003eData\",\"line\":{\"color\":\"rgb(67, 99, 216)\",\"dash\":\"solid\"},\"marker\":{\"symbol\":\"circle\"},\"mode\":\"lines+markers\",\"name\":\"Pretraining\\u003cbr\\u003eData\",\"orientation\":\"v\",\"showlegend\":false,\"x\":[10,25,50,75,100,250,500,750,1000],\"xaxis\":\"x2\",\"y\":[0.6818303636362633,0.6684662953935295,0.6644474853079854,0.6736149945766068,0.6768265117416123,0.6750269547094973,0.6742517609110477,0.6750269547094971,0.6754699225943255],\"yaxis\":\"y2\",\"type\":\"scatter\"},{\"hovertemplate\":\"Scenario=Pretraining\\u003cbr\\u003eData\\u003cbr\\u003eweighting=unweighted\\u003cbr\\u003ebins=%{x}\\u003cbr\\u003erank=%{y}\\u003cextra\\u003e\\u003c\\u002fextra\\u003e\",\"legendgroup\":\"Pretraining\\u003cbr\\u003eData\",\"line\":{\"color\":\"rgb(67, 99, 216)\",\"dash\":\"solid\"},\"marker\":{\"symbol\":\"circle\"},\"mode\":\"lines+markers\",\"name\":\"Pretraining\\u003cbr\\u003eData\",\"orientation\":\"v\",\"showlegend\":false,\"x\":[10,25,50,75,100,250,500,750,1000],\"xaxis\":\"x3\",\"y\":[0.6459106435406078,0.6609262116148209,0.6583237752914544,0.6550897887409864,0.661457452085394,0.6754422371015237,0.6771587376552335,0.674196389925444,0.6708187598036279],\"yaxis\":\"y3\",\"type\":\"scatter\"},{\"hovertemplate\":\"Scenario=Augmentation\\u003cbr\\u003ePolicy\\u003cbr\\u003eweighting=source\\u003cbr\\u003ebins=%{x}\\u003cbr\\u003erank=%{y}\\u003cextra\\u003e\\u003c\\u002fextra\\u003e\",\"legendgroup\":\"Augmentation\\u003cbr\\u003ePolicy\",\"line\":{\"color\":\"rgb(245, 130, 49)\",\"dash\":\"solid\"},\"marker\":{\"symbol\":\"circle\"},\"mode\":\"lines+markers\",\"name\":\"Augmentation\\u003cbr\\u003ePolicy\",\"orientation\":\"v\",\"showlegend\":true,\"x\":[10,25,50,75,100,250,500,750,1000],\"xaxis\":\"x\",\"y\":[0.5705222944754342,0.5720887316333779,0.585977482163982,0.5702496871467619,0.5659338457218587,0.5433040640155108,0.547546279965826,0.5321900599584434,0.5319685760160291],\"yaxis\":\"y\",\"type\":\"scatter\"},{\"hovertemplate\":\"Scenario=Augmentation\\u003cbr\\u003ePolicy\\u003cbr\\u003eweighting=target\\u003cbr\\u003ebins=%{x}\\u003cbr\\u003erank=%{y}\\u003cextra\\u003e\\u003c\\u002fextra\\u003e\",\"legendgroup\":\"Augmentation\\u003cbr\\u003ePolicy\",\"line\":{\"color\":\"rgb(245, 130, 49)\",\"dash\":\"solid\"},\"marker\":{\"symbol\":\"circle\"},\"mode\":\"lines+markers\",\"name\":\"Augmentation\\u003cbr\\u003ePolicy\",\"orientation\":\"v\",\"showlegend\":false,\"x\":[10,25,50,75,100,250,500,750,1000],\"xaxis\":\"x2\",\"y\":[0.5824884824274664,0.579013752461331,0.5721830592807895,0.5758479765453023,0.5788656952606954,0.5800838569439734,0.5799177439871628,0.577093823721382,0.5761525169661218],\"yaxis\":\"y2\",\"type\":\"scatter\"},{\"hovertemplate\":\"Scenario=Augmentation\\u003cbr\\u003ePolicy\\u003cbr\\u003eweighting=unweighted\\u003cbr\\u003ebins=%{x}\\u003cbr\\u003erank=%{y}\\u003cextra\\u003e\\u003c\\u002fextra\\u003e\",\"legendgroup\":\"Augmentation\\u003cbr\\u003ePolicy\",\"line\":{\"color\":\"rgb(245, 130, 49)\",\"dash\":\"solid\"},\"marker\":{\"symbol\":\"circle\"},\"mode\":\"lines+markers\",\"name\":\"Augmentation\\u003cbr\\u003ePolicy\",\"orientation\":\"v\",\"showlegend\":false,\"x\":[10,25,50,75,100,250,500,750,1000],\"xaxis\":\"x3\",\"y\":[0.5765029080647435,0.5716799055420444,0.5815636264722768,0.5776924723483421,0.576612738129073,0.5755434361244827,0.5757095490812933,0.5709476443193887,0.5713906122042169],\"yaxis\":\"y3\",\"type\":\"scatter\"},{\"hovertemplate\":\"Scenario=Co-Training\\u003cbr\\u003eData\\u003cbr\\u003eweighting=source\\u003cbr\\u003ebins=%{x}\\u003cbr\\u003erank=%{y}\\u003cextra\\u003e\\u003c\\u002fextra\\u003e\",\"legendgroup\":\"Co-Training\\u003cbr\\u003eData\",\"line\":{\"color\":\"rgb(145, 30, 180)\",\"dash\":\"solid\"},\"marker\":{\"symbol\":\"circle\"},\"mode\":\"lines+markers\",\"name\":\"Co-Training\\u003cbr\\u003eData\",\"orientation\":\"v\",\"showlegend\":true,\"x\":[10,25,50,75,100,250,500,750,1000],\"xaxis\":\"x\",\"y\":[0.4954252399120082,0.47145441801398724,0.48862284100072184,0.5110884354460241,0.507726022219938,0.5032298458643426,0.5178305441057784,0.5192383094670323,0.5183523736973755],\"yaxis\":\"y\",\"type\":\"scatter\"},{\"hovertemplate\":\"Scenario=Co-Training\\u003cbr\\u003eData\\u003cbr\\u003eweighting=target\\u003cbr\\u003ebins=%{x}\\u003cbr\\u003erank=%{y}\\u003cextra\\u003e\\u003c\\u002fextra\\u003e\",\"legendgroup\":\"Co-Training\\u003cbr\\u003eData\",\"line\":{\"color\":\"rgb(145, 30, 180)\",\"dash\":\"solid\"},\"marker\":{\"symbol\":\"circle\"},\"mode\":\"lines+markers\",\"name\":\"Co-Training\\u003cbr\\u003eData\",\"orientation\":\"v\",\"showlegend\":false,\"x\":[10,25,50,75,100,250,500,750,1000],\"xaxis\":\"x2\",\"y\":[0.4979810230795203,0.5046066831177183,0.5057622515129228,0.5166205820375828,0.5200812686378044,0.513685919800595,0.5107512575636072,0.5172850338648253,0.5165652110519792],\"yaxis\":\"y2\",\"type\":\"scatter\"},{\"hovertemplate\":\"Scenario=Co-Training\\u003cbr\\u003eData\\u003cbr\\u003eweighting=unweighted\\u003cbr\\u003ebins=%{x}\\u003cbr\\u003erank=%{y}\\u003cextra\\u003e\\u003c\\u002fextra\\u003e\",\"legendgroup\":\"Co-Training\\u003cbr\\u003eData\",\"line\":{\"color\":\"rgb(145, 30, 180)\",\"dash\":\"solid\"},\"marker\":{\"symbol\":\"circle\"},\"mode\":\"lines+markers\",\"name\":\"Co-Training\\u003cbr\\u003eData\",\"orientation\":\"v\",\"showlegend\":false,\"x\":[10,25,50,75,100,250,500,750,1000],\"xaxis\":\"x3\",\"y\":[0.5045921655602281,0.5076039386427798,0.5110092542573977,0.5137079879470313,0.5132096490765994,0.5236526972092329,0.5258675366333746,0.5230436163675939,0.527639408172688],\"yaxis\":\"y3\",\"type\":\"scatter\"}],                        {\"template\":{\"data\":{\"barpolar\":[{\"marker\":{\"line\":{\"color\":\"#E5ECF6\",\"width\":0.5},\"pattern\":{\"fillmode\":\"overlay\",\"size\":10,\"solidity\":0.2}},\"type\":\"barpolar\"}],\"bar\":[{\"error_x\":{\"color\":\"#2a3f5f\"},\"error_y\":{\"color\":\"#2a3f5f\"},\"marker\":{\"line\":{\"color\":\"#E5ECF6\",\"width\":0.5},\"pattern\":{\"fillmode\":\"overlay\",\"size\":10,\"solidity\":0.2}},\"type\":\"bar\"}],\"carpet\":[{\"aaxis\":{\"endlinecolor\":\"#2a3f5f\",\"gridcolor\":\"white\",\"linecolor\":\"white\",\"minorgridcolor\":\"white\",\"startlinecolor\":\"#2a3f5f\"},\"baxis\":{\"endlinecolor\":\"#2a3f5f\",\"gridcolor\":\"white\",\"linecolor\":\"white\",\"minorgridcolor\":\"white\",\"startlinecolor\":\"#2a3f5f\"},\"type\":\"carpet\"}],\"choropleth\":[{\"colorbar\":{\"outlinewidth\":0,\"ticks\":\"\"},\"type\":\"choropleth\"}],\"contourcarpet\":[{\"colorbar\":{\"outlinewidth\":0,\"ticks\":\"\"},\"type\":\"contourcarpet\"}],\"contour\":[{\"colorbar\":{\"outlinewidth\":0,\"ticks\":\"\"},\"colorscale\":[[0.0,\"#0d0887\"],[0.1111111111111111,\"#46039f\"],[0.2222222222222222,\"#7201a8\"],[0.3333333333333333,\"#9c179e\"],[0.4444444444444444,\"#bd3786\"],[0.5555555555555556,\"#d8576b\"],[0.6666666666666666,\"#ed7953\"],[0.7777777777777778,\"#fb9f3a\"],[0.8888888888888888,\"#fdca26\"],[1.0,\"#f0f921\"]],\"type\":\"contour\"}],\"heatmapgl\":[{\"colorbar\":{\"outlinewidth\":0,\"ticks\":\"\"},\"colorscale\":[[0.0,\"#0d0887\"],[0.1111111111111111,\"#46039f\"],[0.2222222222222222,\"#7201a8\"],[0.3333333333333333,\"#9c179e\"],[0.4444444444444444,\"#bd3786\"],[0.5555555555555556,\"#d8576b\"],[0.6666666666666666,\"#ed7953\"],[0.7777777777777778,\"#fb9f3a\"],[0.8888888888888888,\"#fdca26\"],[1.0,\"#f0f921\"]],\"type\":\"heatmapgl\"}],\"heatmap\":[{\"colorbar\":{\"outlinewidth\":0,\"ticks\":\"\"},\"colorscale\":[[0.0,\"#0d0887\"],[0.1111111111111111,\"#46039f\"],[0.2222222222222222,\"#7201a8\"],[0.3333333333333333,\"#9c179e\"],[0.4444444444444444,\"#bd3786\"],[0.5555555555555556,\"#d8576b\"],[0.6666666666666666,\"#ed7953\"],[0.7777777777777778,\"#fb9f3a\"],[0.8888888888888888,\"#fdca26\"],[1.0,\"#f0f921\"]],\"type\":\"heatmap\"}],\"histogram2dcontour\":[{\"colorbar\":{\"outlinewidth\":0,\"ticks\":\"\"},\"colorscale\":[[0.0,\"#0d0887\"],[0.1111111111111111,\"#46039f\"],[0.2222222222222222,\"#7201a8\"],[0.3333333333333333,\"#9c179e\"],[0.4444444444444444,\"#bd3786\"],[0.5555555555555556,\"#d8576b\"],[0.6666666666666666,\"#ed7953\"],[0.7777777777777778,\"#fb9f3a\"],[0.8888888888888888,\"#fdca26\"],[1.0,\"#f0f921\"]],\"type\":\"histogram2dcontour\"}],\"histogram2d\":[{\"colorbar\":{\"outlinewidth\":0,\"ticks\":\"\"},\"colorscale\":[[0.0,\"#0d0887\"],[0.1111111111111111,\"#46039f\"],[0.2222222222222222,\"#7201a8\"],[0.3333333333333333,\"#9c179e\"],[0.4444444444444444,\"#bd3786\"],[0.5555555555555556,\"#d8576b\"],[0.6666666666666666,\"#ed7953\"],[0.7777777777777778,\"#fb9f3a\"],[0.8888888888888888,\"#fdca26\"],[1.0,\"#f0f921\"]],\"type\":\"histogram2d\"}],\"histogram\":[{\"marker\":{\"pattern\":{\"fillmode\":\"overlay\",\"size\":10,\"solidity\":0.2}},\"type\":\"histogram\"}],\"mesh3d\":[{\"colorbar\":{\"outlinewidth\":0,\"ticks\":\"\"},\"type\":\"mesh3d\"}],\"parcoords\":[{\"line\":{\"colorbar\":{\"outlinewidth\":0,\"ticks\":\"\"}},\"type\":\"parcoords\"}],\"pie\":[{\"automargin\":true,\"type\":\"pie\"}],\"scatter3d\":[{\"line\":{\"colorbar\":{\"outlinewidth\":0,\"ticks\":\"\"}},\"marker\":{\"colorbar\":{\"outlinewidth\":0,\"ticks\":\"\"}},\"type\":\"scatter3d\"}],\"scattercarpet\":[{\"marker\":{\"colorbar\":{\"outlinewidth\":0,\"ticks\":\"\"}},\"type\":\"scattercarpet\"}],\"scattergeo\":[{\"marker\":{\"colorbar\":{\"outlinewidth\":0,\"ticks\":\"\"}},\"type\":\"scattergeo\"}],\"scattergl\":[{\"marker\":{\"colorbar\":{\"outlinewidth\":0,\"ticks\":\"\"}},\"type\":\"scattergl\"}],\"scattermapbox\":[{\"marker\":{\"colorbar\":{\"outlinewidth\":0,\"ticks\":\"\"}},\"type\":\"scattermapbox\"}],\"scatterpolargl\":[{\"marker\":{\"colorbar\":{\"outlinewidth\":0,\"ticks\":\"\"}},\"type\":\"scatterpolargl\"}],\"scatterpolar\":[{\"marker\":{\"colorbar\":{\"outlinewidth\":0,\"ticks\":\"\"}},\"type\":\"scatterpolar\"}],\"scatter\":[{\"fillpattern\":{\"fillmode\":\"overlay\",\"size\":10,\"solidity\":0.2},\"type\":\"scatter\"}],\"scatterternary\":[{\"marker\":{\"colorbar\":{\"outlinewidth\":0,\"ticks\":\"\"}},\"type\":\"scatterternary\"}],\"surface\":[{\"colorbar\":{\"outlinewidth\":0,\"ticks\":\"\"},\"colorscale\":[[0.0,\"#0d0887\"],[0.1111111111111111,\"#46039f\"],[0.2222222222222222,\"#7201a8\"],[0.3333333333333333,\"#9c179e\"],[0.4444444444444444,\"#bd3786\"],[0.5555555555555556,\"#d8576b\"],[0.6666666666666666,\"#ed7953\"],[0.7777777777777778,\"#fb9f3a\"],[0.8888888888888888,\"#fdca26\"],[1.0,\"#f0f921\"]],\"type\":\"surface\"}],\"table\":[{\"cells\":{\"fill\":{\"color\":\"#EBF0F8\"},\"line\":{\"color\":\"white\"}},\"header\":{\"fill\":{\"color\":\"#C8D4E3\"},\"line\":{\"color\":\"white\"}},\"type\":\"table\"}]},\"layout\":{\"annotationdefaults\":{\"arrowcolor\":\"#2a3f5f\",\"arrowhead\":0,\"arrowwidth\":1},\"autotypenumbers\":\"strict\",\"coloraxis\":{\"colorbar\":{\"outlinewidth\":0,\"ticks\":\"\"}},\"colorscale\":{\"diverging\":[[0,\"#8e0152\"],[0.1,\"#c51b7d\"],[0.2,\"#de77ae\"],[0.3,\"#f1b6da\"],[0.4,\"#fde0ef\"],[0.5,\"#f7f7f7\"],[0.6,\"#e6f5d0\"],[0.7,\"#b8e186\"],[0.8,\"#7fbc41\"],[0.9,\"#4d9221\"],[1,\"#276419\"]],\"sequential\":[[0.0,\"#0d0887\"],[0.1111111111111111,\"#46039f\"],[0.2222222222222222,\"#7201a8\"],[0.3333333333333333,\"#9c179e\"],[0.4444444444444444,\"#bd3786\"],[0.5555555555555556,\"#d8576b\"],[0.6666666666666666,\"#ed7953\"],[0.7777777777777778,\"#fb9f3a\"],[0.8888888888888888,\"#fdca26\"],[1.0,\"#f0f921\"]],\"sequentialminus\":[[0.0,\"#0d0887\"],[0.1111111111111111,\"#46039f\"],[0.2222222222222222,\"#7201a8\"],[0.3333333333333333,\"#9c179e\"],[0.4444444444444444,\"#bd3786\"],[0.5555555555555556,\"#d8576b\"],[0.6666666666666666,\"#ed7953\"],[0.7777777777777778,\"#fb9f3a\"],[0.8888888888888888,\"#fdca26\"],[1.0,\"#f0f921\"]]},\"colorway\":[\"#636efa\",\"#EF553B\",\"#00cc96\",\"#ab63fa\",\"#FFA15A\",\"#19d3f3\",\"#FF6692\",\"#B6E880\",\"#FF97FF\",\"#FECB52\"],\"font\":{\"color\":\"#2a3f5f\"},\"geo\":{\"bgcolor\":\"white\",\"lakecolor\":\"white\",\"landcolor\":\"#E5ECF6\",\"showlakes\":true,\"showland\":true,\"subunitcolor\":\"white\"},\"hoverlabel\":{\"align\":\"left\"},\"hovermode\":\"closest\",\"mapbox\":{\"style\":\"light\"},\"paper_bgcolor\":\"white\",\"plot_bgcolor\":\"#E5ECF6\",\"polar\":{\"angularaxis\":{\"gridcolor\":\"white\",\"linecolor\":\"white\",\"ticks\":\"\"},\"bgcolor\":\"#E5ECF6\",\"radialaxis\":{\"gridcolor\":\"white\",\"linecolor\":\"white\",\"ticks\":\"\"}},\"scene\":{\"xaxis\":{\"backgroundcolor\":\"#E5ECF6\",\"gridcolor\":\"white\",\"gridwidth\":2,\"linecolor\":\"white\",\"showbackground\":true,\"ticks\":\"\",\"zerolinecolor\":\"white\"},\"yaxis\":{\"backgroundcolor\":\"#E5ECF6\",\"gridcolor\":\"white\",\"gridwidth\":2,\"linecolor\":\"white\",\"showbackground\":true,\"ticks\":\"\",\"zerolinecolor\":\"white\"},\"zaxis\":{\"backgroundcolor\":\"#E5ECF6\",\"gridcolor\":\"white\",\"gridwidth\":2,\"linecolor\":\"white\",\"showbackground\":true,\"ticks\":\"\",\"zerolinecolor\":\"white\"}},\"shapedefaults\":{\"line\":{\"color\":\"#2a3f5f\"}},\"ternary\":{\"aaxis\":{\"gridcolor\":\"white\",\"linecolor\":\"white\",\"ticks\":\"\"},\"baxis\":{\"gridcolor\":\"white\",\"linecolor\":\"white\",\"ticks\":\"\"},\"bgcolor\":\"#E5ECF6\",\"caxis\":{\"gridcolor\":\"white\",\"linecolor\":\"white\",\"ticks\":\"\"}},\"title\":{\"x\":0.05},\"xaxis\":{\"automargin\":true,\"gridcolor\":\"white\",\"linecolor\":\"white\",\"ticks\":\"\",\"title\":{\"standoff\":15},\"zerolinecolor\":\"white\",\"zerolinewidth\":2},\"yaxis\":{\"automargin\":true,\"gridcolor\":\"white\",\"linecolor\":\"white\",\"ticks\":\"\",\"title\":{\"standoff\":15},\"zerolinecolor\":\"white\",\"zerolinewidth\":2}}},\"xaxis\":{\"anchor\":\"y\",\"domain\":[0.0,0.31999999999999995],\"title\":{\"text\":\"bins\"},\"type\":\"log\"},\"yaxis\":{\"anchor\":\"x\",\"domain\":[0.0,1.0],\"title\":{\"text\":\"rank\"}},\"xaxis2\":{\"anchor\":\"y2\",\"domain\":[0.33999999999999997,0.6599999999999999],\"matches\":\"x\",\"title\":{\"text\":\"bins\"},\"type\":\"log\"},\"yaxis2\":{\"anchor\":\"x2\",\"domain\":[0.0,1.0],\"matches\":\"y\",\"showticklabels\":false},\"xaxis3\":{\"anchor\":\"y3\",\"domain\":[0.6799999999999999,0.9999999999999999],\"matches\":\"x\",\"title\":{\"text\":\"bins\"},\"type\":\"log\"},\"yaxis3\":{\"anchor\":\"x3\",\"domain\":[0.0,1.0],\"matches\":\"y\",\"showticklabels\":false},\"annotations\":[{\"font\":{},\"showarrow\":false,\"text\":\"weighting=source\",\"x\":0.15999999999999998,\"xanchor\":\"center\",\"xref\":\"paper\",\"y\":1.0,\"yanchor\":\"bottom\",\"yref\":\"paper\"},{\"font\":{},\"showarrow\":false,\"text\":\"weighting=target\",\"x\":0.49999999999999994,\"xanchor\":\"center\",\"xref\":\"paper\",\"y\":1.0,\"yanchor\":\"bottom\",\"yref\":\"paper\"},{\"font\":{},\"showarrow\":false,\"text\":\"weighting=unweighted\",\"x\":0.8399999999999999,\"xanchor\":\"center\",\"xref\":\"paper\",\"y\":1.0,\"yanchor\":\"bottom\",\"yref\":\"paper\"}],\"legend\":{\"title\":{\"text\":\"Scenario\"},\"tracegroupgap\":0},\"margin\":{\"t\":60}},                        {\"responsive\": true}                    ).then(function(){\n",
       "                            \n",
       "var gd = document.getElementById('8412f248-f490-4d1a-bd9a-b8387248b602');\n",
       "var x = new MutationObserver(function (mutations, observer) {{\n",
       "        var display = window.getComputedStyle(gd).display;\n",
       "        if (!display || display === 'none') {{\n",
       "            console.log([gd, 'removed!']);\n",
       "            Plotly.purge(gd);\n",
       "            observer.disconnect();\n",
       "        }}\n",
       "}});\n",
       "\n",
       "// Listen for the removal of the full notebook cells\n",
       "var notebookContainer = gd.closest('#notebook-container');\n",
       "if (notebookContainer) {{\n",
       "    x.observe(notebookContainer, {childList: true});\n",
       "}}\n",
       "\n",
       "// Listen for the clearing of the current output cell\n",
       "var outputEl = gd.closest('.output');\n",
       "if (outputEl) {{\n",
       "    x.observe(outputEl, {childList: true});\n",
       "}}\n",
       "\n",
       "                        })                };                });            </script>        </div>"
      ]
     },
     "metadata": {},
     "output_type": "display_data"
    }
   ],
   "execution_count": 24
  },
  {
   "metadata": {},
   "cell_type": "markdown",
   "source": "With respect to percentile there seems to be a trend towards more bins (except for the source weighted variant in combination with pretraining data & augmentation policy scenario.",
   "id": "32c37aaf7dc15fb1"
  },
  {
   "metadata": {
    "ExecuteTime": {
     "end_time": "2024-10-10T21:59:36.116821Z",
     "start_time": "2024-10-10T21:59:36.053171Z"
    }
   },
   "cell_type": "code",
   "source": "get_bins_plot('regret')",
   "id": "f6b02db9bd41bca4",
   "outputs": [
    {
     "data": {
      "application/vnd.plotly.v1+json": {
       "data": [
        {
         "hovertemplate": "Scenario=Model<br>Architecture<br>weighting=source<br>bins=%{x}<br>regret=%{y}<extra></extra>",
         "legendgroup": "Model<br>Architecture",
         "line": {
          "color": "rgb(230, 25, 75)",
          "dash": "solid"
         },
         "marker": {
          "symbol": "circle"
         },
         "mode": "lines+markers",
         "name": "Model<br>Architecture",
         "orientation": "v",
         "showlegend": true,
         "x": [
          10,
          25,
          50,
          75,
          100,
          250,
          500,
          750,
          1000
         ],
         "xaxis": "x",
         "y": [
          0.20867655421783424,
          0.18857461401731138,
          0.17729264591076602,
          0.17711655668981183,
          0.17976468207371588,
          0.1725971873091208,
          0.17630443205724708,
          0.1753656062732685,
          0.17643123072085407
         ],
         "yaxis": "y",
         "type": "scatter"
        },
        {
         "hovertemplate": "Scenario=Model<br>Architecture<br>weighting=target<br>bins=%{x}<br>regret=%{y}<extra></extra>",
         "legendgroup": "Model<br>Architecture",
         "line": {
          "color": "rgb(230, 25, 75)",
          "dash": "solid"
         },
         "marker": {
          "symbol": "circle"
         },
         "mode": "lines+markers",
         "name": "Model<br>Architecture",
         "orientation": "v",
         "showlegend": false,
         "x": [
          10,
          25,
          50,
          75,
          100,
          250,
          500,
          750,
          1000
         ],
         "xaxis": "x2",
         "y": [
          0.21213506467521734,
          0.20995447594855007,
          0.20758976754511121,
          0.208928731824103,
          0.20794856886365573,
          0.20645123045894428,
          0.20582443765407013,
          0.20709332011337134,
          0.2069455030818663
         ],
         "yaxis": "y2",
         "type": "scatter"
        },
        {
         "hovertemplate": "Scenario=Model<br>Architecture<br>weighting=unweighted<br>bins=%{x}<br>regret=%{y}<extra></extra>",
         "legendgroup": "Model<br>Architecture",
         "line": {
          "color": "rgb(230, 25, 75)",
          "dash": "solid"
         },
         "marker": {
          "symbol": "circle"
         },
         "mode": "lines+markers",
         "name": "Model<br>Architecture",
         "orientation": "v",
         "showlegend": false,
         "x": [
          10,
          25,
          50,
          75,
          100,
          250,
          500,
          750,
          1000
         ],
         "xaxis": "x3",
         "y": [
          0.2067054506243984,
          0.20773438653986345,
          0.20828629016580533,
          0.20879585286664834,
          0.2074814308640789,
          0.2076137192956459,
          0.20655191809682127,
          0.20515314450227032,
          0.20587760245486567
         ],
         "yaxis": "y3",
         "type": "scatter"
        },
        {
         "hovertemplate": "Scenario=Pretraining<br>Data<br>weighting=source<br>bins=%{x}<br>regret=%{y}<extra></extra>",
         "legendgroup": "Pretraining<br>Data",
         "line": {
          "color": "rgb(67, 99, 216)",
          "dash": "solid"
         },
         "marker": {
          "symbol": "circle"
         },
         "mode": "lines+markers",
         "name": "Pretraining<br>Data",
         "orientation": "v",
         "showlegend": true,
         "x": [
          10,
          25,
          50,
          75,
          100,
          250,
          500,
          750,
          1000
         ],
         "xaxis": "x",
         "y": [
          0.18255109199578862,
          0.18646886466058862,
          0.20709065207320757,
          0.2148153194561617,
          0.21714114678245527,
          0.22201759100007037,
          0.21878387085995865,
          0.2200978799288641,
          0.21883298288636763
         ],
         "yaxis": "y",
         "type": "scatter"
        },
        {
         "hovertemplate": "Scenario=Pretraining<br>Data<br>weighting=target<br>bins=%{x}<br>regret=%{y}<extra></extra>",
         "legendgroup": "Pretraining<br>Data",
         "line": {
          "color": "rgb(67, 99, 216)",
          "dash": "solid"
         },
         "marker": {
          "symbol": "circle"
         },
         "mode": "lines+markers",
         "name": "Pretraining<br>Data",
         "orientation": "v",
         "showlegend": false,
         "x": [
          10,
          25,
          50,
          75,
          100,
          250,
          500,
          750,
          1000
         ],
         "xaxis": "x2",
         "y": [
          0.19061240016602005,
          0.1974720210307593,
          0.19675168946962115,
          0.1926671467601663,
          0.1914303669655615,
          0.19221055034954734,
          0.19247424976609787,
          0.19244172476018076,
          0.19234475474584545
         ],
         "yaxis": "y2",
         "type": "scatter"
        },
        {
         "hovertemplate": "Scenario=Pretraining<br>Data<br>weighting=unweighted<br>bins=%{x}<br>regret=%{y}<extra></extra>",
         "legendgroup": "Pretraining<br>Data",
         "line": {
          "color": "rgb(67, 99, 216)",
          "dash": "solid"
         },
         "marker": {
          "symbol": "circle"
         },
         "mode": "lines+markers",
         "name": "Pretraining<br>Data",
         "orientation": "v",
         "showlegend": false,
         "x": [
          10,
          25,
          50,
          75,
          100,
          250,
          500,
          750,
          1000
         ],
         "xaxis": "x3",
         "y": [
          0.20492839572775692,
          0.2008856403402958,
          0.200065043207546,
          0.20061335810990702,
          0.19837119806153722,
          0.1917663243989291,
          0.19113641876787862,
          0.19278501322606767,
          0.19387804129748154
         ],
         "yaxis": "y3",
         "type": "scatter"
        },
        {
         "hovertemplate": "Scenario=Augmentation<br>Policy<br>weighting=source<br>bins=%{x}<br>regret=%{y}<extra></extra>",
         "legendgroup": "Augmentation<br>Policy",
         "line": {
          "color": "rgb(245, 130, 49)",
          "dash": "solid"
         },
         "marker": {
          "symbol": "circle"
         },
         "mode": "lines+markers",
         "name": "Augmentation<br>Policy",
         "orientation": "v",
         "showlegend": true,
         "x": [
          10,
          25,
          50,
          75,
          100,
          250,
          500,
          750,
          1000
         ],
         "xaxis": "x",
         "y": [
          0.17108145918063905,
          0.16551419061593844,
          0.1563226723897789,
          0.15952329086273748,
          0.16037548319908185,
          0.16936837092021964,
          0.16876677447412736,
          0.17261044323421132,
          0.17099008055575093
         ],
         "yaxis": "y",
         "type": "scatter"
        },
        {
         "hovertemplate": "Scenario=Augmentation<br>Policy<br>weighting=target<br>bins=%{x}<br>regret=%{y}<extra></extra>",
         "legendgroup": "Augmentation<br>Policy",
         "line": {
          "color": "rgb(245, 130, 49)",
          "dash": "solid"
         },
         "marker": {
          "symbol": "circle"
         },
         "mode": "lines+markers",
         "name": "Augmentation<br>Policy",
         "orientation": "v",
         "showlegend": false,
         "x": [
          10,
          25,
          50,
          75,
          100,
          250,
          500,
          750,
          1000
         ],
         "xaxis": "x2",
         "y": [
          0.16422037154436722,
          0.16648756289535557,
          0.16738786031172034,
          0.16637426321959065,
          0.16566933391523628,
          0.16502018057224457,
          0.1647853352126336,
          0.16561232237158183,
          0.165717097137741
         ],
         "yaxis": "y2",
         "type": "scatter"
        },
        {
         "hovertemplate": "Scenario=Augmentation<br>Policy<br>weighting=unweighted<br>bins=%{x}<br>regret=%{y}<extra></extra>",
         "legendgroup": "Augmentation<br>Policy",
         "line": {
          "color": "rgb(245, 130, 49)",
          "dash": "solid"
         },
         "marker": {
          "symbol": "circle"
         },
         "mode": "lines+markers",
         "name": "Augmentation<br>Policy",
         "orientation": "v",
         "showlegend": false,
         "x": [
          10,
          25,
          50,
          75,
          100,
          250,
          500,
          750,
          1000
         ],
         "xaxis": "x3",
         "y": [
          0.16598596422211775,
          0.1691628512356768,
          0.16444757261401166,
          0.1650052039726205,
          0.16626735488148547,
          0.16590194820576964,
          0.16368673942682688,
          0.16782730674630245,
          0.16746420944249094
         ],
         "yaxis": "y3",
         "type": "scatter"
        },
        {
         "hovertemplate": "Scenario=Co-Training<br>Data<br>weighting=source<br>bins=%{x}<br>regret=%{y}<extra></extra>",
         "legendgroup": "Co-Training<br>Data",
         "line": {
          "color": "rgb(145, 30, 180)",
          "dash": "solid"
         },
         "marker": {
          "symbol": "circle"
         },
         "mode": "lines+markers",
         "name": "Co-Training<br>Data",
         "orientation": "v",
         "showlegend": true,
         "x": [
          10,
          25,
          50,
          75,
          100,
          250,
          500,
          750,
          1000
         ],
         "xaxis": "x",
         "y": [
          0.18424594028229588,
          0.19468460823483505,
          0.19222261359378343,
          0.1884170368865294,
          0.1887151495557668,
          0.1870567100711447,
          0.18436496447504164,
          0.1844730811193133,
          0.1841701719885986
         ],
         "yaxis": "y",
         "type": "scatter"
        },
        {
         "hovertemplate": "Scenario=Co-Training<br>Data<br>weighting=target<br>bins=%{x}<br>regret=%{y}<extra></extra>",
         "legendgroup": "Co-Training<br>Data",
         "line": {
          "color": "rgb(145, 30, 180)",
          "dash": "solid"
         },
         "marker": {
          "symbol": "circle"
         },
         "mode": "lines+markers",
         "name": "Co-Training<br>Data",
         "orientation": "v",
         "showlegend": false,
         "x": [
          10,
          25,
          50,
          75,
          100,
          250,
          500,
          750,
          1000
         ],
         "xaxis": "x2",
         "y": [
          0.1851581785464467,
          0.18250170459401985,
          0.18087371842124533,
          0.17632033098358693,
          0.17524400187111375,
          0.17737898569209548,
          0.17836868368765096,
          0.17709065647750347,
          0.17715316369409156
         ],
         "yaxis": "y2",
         "type": "scatter"
        },
        {
         "hovertemplate": "Scenario=Co-Training<br>Data<br>weighting=unweighted<br>bins=%{x}<br>regret=%{y}<extra></extra>",
         "legendgroup": "Co-Training<br>Data",
         "line": {
          "color": "rgb(145, 30, 180)",
          "dash": "solid"
         },
         "marker": {
          "symbol": "circle"
         },
         "mode": "lines+markers",
         "name": "Co-Training<br>Data",
         "orientation": "v",
         "showlegend": false,
         "x": [
          10,
          25,
          50,
          75,
          100,
          250,
          500,
          750,
          1000
         ],
         "xaxis": "x3",
         "y": [
          0.18277574138213,
          0.18130511399288468,
          0.18014033338724425,
          0.17646914021182958,
          0.17672547306722988,
          0.17377873419614084,
          0.17423634739580846,
          0.17547503331490685,
          0.1735783082608401
         ],
         "yaxis": "y3",
         "type": "scatter"
        }
       ],
       "layout": {
        "template": {
         "data": {
          "barpolar": [
           {
            "marker": {
             "line": {
              "color": "#E5ECF6",
              "width": 0.5
             },
             "pattern": {
              "fillmode": "overlay",
              "size": 10,
              "solidity": 0.2
             }
            },
            "type": "barpolar"
           }
          ],
          "bar": [
           {
            "error_x": {
             "color": "#2a3f5f"
            },
            "error_y": {
             "color": "#2a3f5f"
            },
            "marker": {
             "line": {
              "color": "#E5ECF6",
              "width": 0.5
             },
             "pattern": {
              "fillmode": "overlay",
              "size": 10,
              "solidity": 0.2
             }
            },
            "type": "bar"
           }
          ],
          "carpet": [
           {
            "aaxis": {
             "endlinecolor": "#2a3f5f",
             "gridcolor": "white",
             "linecolor": "white",
             "minorgridcolor": "white",
             "startlinecolor": "#2a3f5f"
            },
            "baxis": {
             "endlinecolor": "#2a3f5f",
             "gridcolor": "white",
             "linecolor": "white",
             "minorgridcolor": "white",
             "startlinecolor": "#2a3f5f"
            },
            "type": "carpet"
           }
          ],
          "choropleth": [
           {
            "colorbar": {
             "outlinewidth": 0,
             "ticks": ""
            },
            "type": "choropleth"
           }
          ],
          "contourcarpet": [
           {
            "colorbar": {
             "outlinewidth": 0,
             "ticks": ""
            },
            "type": "contourcarpet"
           }
          ],
          "contour": [
           {
            "colorbar": {
             "outlinewidth": 0,
             "ticks": ""
            },
            "colorscale": [
             [
              0.0,
              "#0d0887"
             ],
             [
              0.1111111111111111,
              "#46039f"
             ],
             [
              0.2222222222222222,
              "#7201a8"
             ],
             [
              0.3333333333333333,
              "#9c179e"
             ],
             [
              0.4444444444444444,
              "#bd3786"
             ],
             [
              0.5555555555555556,
              "#d8576b"
             ],
             [
              0.6666666666666666,
              "#ed7953"
             ],
             [
              0.7777777777777778,
              "#fb9f3a"
             ],
             [
              0.8888888888888888,
              "#fdca26"
             ],
             [
              1.0,
              "#f0f921"
             ]
            ],
            "type": "contour"
           }
          ],
          "heatmapgl": [
           {
            "colorbar": {
             "outlinewidth": 0,
             "ticks": ""
            },
            "colorscale": [
             [
              0.0,
              "#0d0887"
             ],
             [
              0.1111111111111111,
              "#46039f"
             ],
             [
              0.2222222222222222,
              "#7201a8"
             ],
             [
              0.3333333333333333,
              "#9c179e"
             ],
             [
              0.4444444444444444,
              "#bd3786"
             ],
             [
              0.5555555555555556,
              "#d8576b"
             ],
             [
              0.6666666666666666,
              "#ed7953"
             ],
             [
              0.7777777777777778,
              "#fb9f3a"
             ],
             [
              0.8888888888888888,
              "#fdca26"
             ],
             [
              1.0,
              "#f0f921"
             ]
            ],
            "type": "heatmapgl"
           }
          ],
          "heatmap": [
           {
            "colorbar": {
             "outlinewidth": 0,
             "ticks": ""
            },
            "colorscale": [
             [
              0.0,
              "#0d0887"
             ],
             [
              0.1111111111111111,
              "#46039f"
             ],
             [
              0.2222222222222222,
              "#7201a8"
             ],
             [
              0.3333333333333333,
              "#9c179e"
             ],
             [
              0.4444444444444444,
              "#bd3786"
             ],
             [
              0.5555555555555556,
              "#d8576b"
             ],
             [
              0.6666666666666666,
              "#ed7953"
             ],
             [
              0.7777777777777778,
              "#fb9f3a"
             ],
             [
              0.8888888888888888,
              "#fdca26"
             ],
             [
              1.0,
              "#f0f921"
             ]
            ],
            "type": "heatmap"
           }
          ],
          "histogram2dcontour": [
           {
            "colorbar": {
             "outlinewidth": 0,
             "ticks": ""
            },
            "colorscale": [
             [
              0.0,
              "#0d0887"
             ],
             [
              0.1111111111111111,
              "#46039f"
             ],
             [
              0.2222222222222222,
              "#7201a8"
             ],
             [
              0.3333333333333333,
              "#9c179e"
             ],
             [
              0.4444444444444444,
              "#bd3786"
             ],
             [
              0.5555555555555556,
              "#d8576b"
             ],
             [
              0.6666666666666666,
              "#ed7953"
             ],
             [
              0.7777777777777778,
              "#fb9f3a"
             ],
             [
              0.8888888888888888,
              "#fdca26"
             ],
             [
              1.0,
              "#f0f921"
             ]
            ],
            "type": "histogram2dcontour"
           }
          ],
          "histogram2d": [
           {
            "colorbar": {
             "outlinewidth": 0,
             "ticks": ""
            },
            "colorscale": [
             [
              0.0,
              "#0d0887"
             ],
             [
              0.1111111111111111,
              "#46039f"
             ],
             [
              0.2222222222222222,
              "#7201a8"
             ],
             [
              0.3333333333333333,
              "#9c179e"
             ],
             [
              0.4444444444444444,
              "#bd3786"
             ],
             [
              0.5555555555555556,
              "#d8576b"
             ],
             [
              0.6666666666666666,
              "#ed7953"
             ],
             [
              0.7777777777777778,
              "#fb9f3a"
             ],
             [
              0.8888888888888888,
              "#fdca26"
             ],
             [
              1.0,
              "#f0f921"
             ]
            ],
            "type": "histogram2d"
           }
          ],
          "histogram": [
           {
            "marker": {
             "pattern": {
              "fillmode": "overlay",
              "size": 10,
              "solidity": 0.2
             }
            },
            "type": "histogram"
           }
          ],
          "mesh3d": [
           {
            "colorbar": {
             "outlinewidth": 0,
             "ticks": ""
            },
            "type": "mesh3d"
           }
          ],
          "parcoords": [
           {
            "line": {
             "colorbar": {
              "outlinewidth": 0,
              "ticks": ""
             }
            },
            "type": "parcoords"
           }
          ],
          "pie": [
           {
            "automargin": true,
            "type": "pie"
           }
          ],
          "scatter3d": [
           {
            "line": {
             "colorbar": {
              "outlinewidth": 0,
              "ticks": ""
             }
            },
            "marker": {
             "colorbar": {
              "outlinewidth": 0,
              "ticks": ""
             }
            },
            "type": "scatter3d"
           }
          ],
          "scattercarpet": [
           {
            "marker": {
             "colorbar": {
              "outlinewidth": 0,
              "ticks": ""
             }
            },
            "type": "scattercarpet"
           }
          ],
          "scattergeo": [
           {
            "marker": {
             "colorbar": {
              "outlinewidth": 0,
              "ticks": ""
             }
            },
            "type": "scattergeo"
           }
          ],
          "scattergl": [
           {
            "marker": {
             "colorbar": {
              "outlinewidth": 0,
              "ticks": ""
             }
            },
            "type": "scattergl"
           }
          ],
          "scattermapbox": [
           {
            "marker": {
             "colorbar": {
              "outlinewidth": 0,
              "ticks": ""
             }
            },
            "type": "scattermapbox"
           }
          ],
          "scatterpolargl": [
           {
            "marker": {
             "colorbar": {
              "outlinewidth": 0,
              "ticks": ""
             }
            },
            "type": "scatterpolargl"
           }
          ],
          "scatterpolar": [
           {
            "marker": {
             "colorbar": {
              "outlinewidth": 0,
              "ticks": ""
             }
            },
            "type": "scatterpolar"
           }
          ],
          "scatter": [
           {
            "fillpattern": {
             "fillmode": "overlay",
             "size": 10,
             "solidity": 0.2
            },
            "type": "scatter"
           }
          ],
          "scatterternary": [
           {
            "marker": {
             "colorbar": {
              "outlinewidth": 0,
              "ticks": ""
             }
            },
            "type": "scatterternary"
           }
          ],
          "surface": [
           {
            "colorbar": {
             "outlinewidth": 0,
             "ticks": ""
            },
            "colorscale": [
             [
              0.0,
              "#0d0887"
             ],
             [
              0.1111111111111111,
              "#46039f"
             ],
             [
              0.2222222222222222,
              "#7201a8"
             ],
             [
              0.3333333333333333,
              "#9c179e"
             ],
             [
              0.4444444444444444,
              "#bd3786"
             ],
             [
              0.5555555555555556,
              "#d8576b"
             ],
             [
              0.6666666666666666,
              "#ed7953"
             ],
             [
              0.7777777777777778,
              "#fb9f3a"
             ],
             [
              0.8888888888888888,
              "#fdca26"
             ],
             [
              1.0,
              "#f0f921"
             ]
            ],
            "type": "surface"
           }
          ],
          "table": [
           {
            "cells": {
             "fill": {
              "color": "#EBF0F8"
             },
             "line": {
              "color": "white"
             }
            },
            "header": {
             "fill": {
              "color": "#C8D4E3"
             },
             "line": {
              "color": "white"
             }
            },
            "type": "table"
           }
          ]
         },
         "layout": {
          "annotationdefaults": {
           "arrowcolor": "#2a3f5f",
           "arrowhead": 0,
           "arrowwidth": 1
          },
          "autotypenumbers": "strict",
          "coloraxis": {
           "colorbar": {
            "outlinewidth": 0,
            "ticks": ""
           }
          },
          "colorscale": {
           "diverging": [
            [
             0,
             "#8e0152"
            ],
            [
             0.1,
             "#c51b7d"
            ],
            [
             0.2,
             "#de77ae"
            ],
            [
             0.3,
             "#f1b6da"
            ],
            [
             0.4,
             "#fde0ef"
            ],
            [
             0.5,
             "#f7f7f7"
            ],
            [
             0.6,
             "#e6f5d0"
            ],
            [
             0.7,
             "#b8e186"
            ],
            [
             0.8,
             "#7fbc41"
            ],
            [
             0.9,
             "#4d9221"
            ],
            [
             1,
             "#276419"
            ]
           ],
           "sequential": [
            [
             0.0,
             "#0d0887"
            ],
            [
             0.1111111111111111,
             "#46039f"
            ],
            [
             0.2222222222222222,
             "#7201a8"
            ],
            [
             0.3333333333333333,
             "#9c179e"
            ],
            [
             0.4444444444444444,
             "#bd3786"
            ],
            [
             0.5555555555555556,
             "#d8576b"
            ],
            [
             0.6666666666666666,
             "#ed7953"
            ],
            [
             0.7777777777777778,
             "#fb9f3a"
            ],
            [
             0.8888888888888888,
             "#fdca26"
            ],
            [
             1.0,
             "#f0f921"
            ]
           ],
           "sequentialminus": [
            [
             0.0,
             "#0d0887"
            ],
            [
             0.1111111111111111,
             "#46039f"
            ],
            [
             0.2222222222222222,
             "#7201a8"
            ],
            [
             0.3333333333333333,
             "#9c179e"
            ],
            [
             0.4444444444444444,
             "#bd3786"
            ],
            [
             0.5555555555555556,
             "#d8576b"
            ],
            [
             0.6666666666666666,
             "#ed7953"
            ],
            [
             0.7777777777777778,
             "#fb9f3a"
            ],
            [
             0.8888888888888888,
             "#fdca26"
            ],
            [
             1.0,
             "#f0f921"
            ]
           ]
          },
          "colorway": [
           "#636efa",
           "#EF553B",
           "#00cc96",
           "#ab63fa",
           "#FFA15A",
           "#19d3f3",
           "#FF6692",
           "#B6E880",
           "#FF97FF",
           "#FECB52"
          ],
          "font": {
           "color": "#2a3f5f"
          },
          "geo": {
           "bgcolor": "white",
           "lakecolor": "white",
           "landcolor": "#E5ECF6",
           "showlakes": true,
           "showland": true,
           "subunitcolor": "white"
          },
          "hoverlabel": {
           "align": "left"
          },
          "hovermode": "closest",
          "mapbox": {
           "style": "light"
          },
          "paper_bgcolor": "white",
          "plot_bgcolor": "#E5ECF6",
          "polar": {
           "angularaxis": {
            "gridcolor": "white",
            "linecolor": "white",
            "ticks": ""
           },
           "bgcolor": "#E5ECF6",
           "radialaxis": {
            "gridcolor": "white",
            "linecolor": "white",
            "ticks": ""
           }
          },
          "scene": {
           "xaxis": {
            "backgroundcolor": "#E5ECF6",
            "gridcolor": "white",
            "gridwidth": 2,
            "linecolor": "white",
            "showbackground": true,
            "ticks": "",
            "zerolinecolor": "white"
           },
           "yaxis": {
            "backgroundcolor": "#E5ECF6",
            "gridcolor": "white",
            "gridwidth": 2,
            "linecolor": "white",
            "showbackground": true,
            "ticks": "",
            "zerolinecolor": "white"
           },
           "zaxis": {
            "backgroundcolor": "#E5ECF6",
            "gridcolor": "white",
            "gridwidth": 2,
            "linecolor": "white",
            "showbackground": true,
            "ticks": "",
            "zerolinecolor": "white"
           }
          },
          "shapedefaults": {
           "line": {
            "color": "#2a3f5f"
           }
          },
          "ternary": {
           "aaxis": {
            "gridcolor": "white",
            "linecolor": "white",
            "ticks": ""
           },
           "baxis": {
            "gridcolor": "white",
            "linecolor": "white",
            "ticks": ""
           },
           "bgcolor": "#E5ECF6",
           "caxis": {
            "gridcolor": "white",
            "linecolor": "white",
            "ticks": ""
           }
          },
          "title": {
           "x": 0.05
          },
          "xaxis": {
           "automargin": true,
           "gridcolor": "white",
           "linecolor": "white",
           "ticks": "",
           "title": {
            "standoff": 15
           },
           "zerolinecolor": "white",
           "zerolinewidth": 2
          },
          "yaxis": {
           "automargin": true,
           "gridcolor": "white",
           "linecolor": "white",
           "ticks": "",
           "title": {
            "standoff": 15
           },
           "zerolinecolor": "white",
           "zerolinewidth": 2
          }
         }
        },
        "xaxis": {
         "anchor": "y",
         "domain": [
          0.0,
          0.31999999999999995
         ],
         "title": {
          "text": "bins"
         },
         "type": "log"
        },
        "yaxis": {
         "anchor": "x",
         "domain": [
          0.0,
          1.0
         ],
         "title": {
          "text": "regret"
         }
        },
        "xaxis2": {
         "anchor": "y2",
         "domain": [
          0.33999999999999997,
          0.6599999999999999
         ],
         "matches": "x",
         "title": {
          "text": "bins"
         },
         "type": "log"
        },
        "yaxis2": {
         "anchor": "x2",
         "domain": [
          0.0,
          1.0
         ],
         "matches": "y",
         "showticklabels": false
        },
        "xaxis3": {
         "anchor": "y3",
         "domain": [
          0.6799999999999999,
          0.9999999999999999
         ],
         "matches": "x",
         "title": {
          "text": "bins"
         },
         "type": "log"
        },
        "yaxis3": {
         "anchor": "x3",
         "domain": [
          0.0,
          1.0
         ],
         "matches": "y",
         "showticklabels": false
        },
        "annotations": [
         {
          "font": {},
          "showarrow": false,
          "text": "weighting=source",
          "x": 0.15999999999999998,
          "xanchor": "center",
          "xref": "paper",
          "y": 1.0,
          "yanchor": "bottom",
          "yref": "paper"
         },
         {
          "font": {},
          "showarrow": false,
          "text": "weighting=target",
          "x": 0.49999999999999994,
          "xanchor": "center",
          "xref": "paper",
          "y": 1.0,
          "yanchor": "bottom",
          "yref": "paper"
         },
         {
          "font": {},
          "showarrow": false,
          "text": "weighting=unweighted",
          "x": 0.8399999999999999,
          "xanchor": "center",
          "xref": "paper",
          "y": 1.0,
          "yanchor": "bottom",
          "yref": "paper"
         }
        ],
        "legend": {
         "title": {
          "text": "Scenario"
         },
         "tracegroupgap": 0
        },
        "margin": {
         "t": 60
        }
       },
       "config": {
        "plotlyServerURL": "https://plot.ly"
       }
      },
      "text/html": [
       "<div>                            <div id=\"11db72cb-a776-4701-97f0-ef629525b210\" class=\"plotly-graph-div\" style=\"height:525px; width:100%;\"></div>            <script type=\"text/javascript\">                require([\"plotly\"], function(Plotly) {                    window.PLOTLYENV=window.PLOTLYENV || {};                                    if (document.getElementById(\"11db72cb-a776-4701-97f0-ef629525b210\")) {                    Plotly.newPlot(                        \"11db72cb-a776-4701-97f0-ef629525b210\",                        [{\"hovertemplate\":\"Scenario=Model\\u003cbr\\u003eArchitecture\\u003cbr\\u003eweighting=source\\u003cbr\\u003ebins=%{x}\\u003cbr\\u003eregret=%{y}\\u003cextra\\u003e\\u003c\\u002fextra\\u003e\",\"legendgroup\":\"Model\\u003cbr\\u003eArchitecture\",\"line\":{\"color\":\"rgb(230, 25, 75)\",\"dash\":\"solid\"},\"marker\":{\"symbol\":\"circle\"},\"mode\":\"lines+markers\",\"name\":\"Model\\u003cbr\\u003eArchitecture\",\"orientation\":\"v\",\"showlegend\":true,\"x\":[10,25,50,75,100,250,500,750,1000],\"xaxis\":\"x\",\"y\":[0.20867655421783424,0.18857461401731138,0.17729264591076602,0.17711655668981183,0.17976468207371588,0.1725971873091208,0.17630443205724708,0.1753656062732685,0.17643123072085407],\"yaxis\":\"y\",\"type\":\"scatter\"},{\"hovertemplate\":\"Scenario=Model\\u003cbr\\u003eArchitecture\\u003cbr\\u003eweighting=target\\u003cbr\\u003ebins=%{x}\\u003cbr\\u003eregret=%{y}\\u003cextra\\u003e\\u003c\\u002fextra\\u003e\",\"legendgroup\":\"Model\\u003cbr\\u003eArchitecture\",\"line\":{\"color\":\"rgb(230, 25, 75)\",\"dash\":\"solid\"},\"marker\":{\"symbol\":\"circle\"},\"mode\":\"lines+markers\",\"name\":\"Model\\u003cbr\\u003eArchitecture\",\"orientation\":\"v\",\"showlegend\":false,\"x\":[10,25,50,75,100,250,500,750,1000],\"xaxis\":\"x2\",\"y\":[0.21213506467521734,0.20995447594855007,0.20758976754511121,0.208928731824103,0.20794856886365573,0.20645123045894428,0.20582443765407013,0.20709332011337134,0.2069455030818663],\"yaxis\":\"y2\",\"type\":\"scatter\"},{\"hovertemplate\":\"Scenario=Model\\u003cbr\\u003eArchitecture\\u003cbr\\u003eweighting=unweighted\\u003cbr\\u003ebins=%{x}\\u003cbr\\u003eregret=%{y}\\u003cextra\\u003e\\u003c\\u002fextra\\u003e\",\"legendgroup\":\"Model\\u003cbr\\u003eArchitecture\",\"line\":{\"color\":\"rgb(230, 25, 75)\",\"dash\":\"solid\"},\"marker\":{\"symbol\":\"circle\"},\"mode\":\"lines+markers\",\"name\":\"Model\\u003cbr\\u003eArchitecture\",\"orientation\":\"v\",\"showlegend\":false,\"x\":[10,25,50,75,100,250,500,750,1000],\"xaxis\":\"x3\",\"y\":[0.2067054506243984,0.20773438653986345,0.20828629016580533,0.20879585286664834,0.2074814308640789,0.2076137192956459,0.20655191809682127,0.20515314450227032,0.20587760245486567],\"yaxis\":\"y3\",\"type\":\"scatter\"},{\"hovertemplate\":\"Scenario=Pretraining\\u003cbr\\u003eData\\u003cbr\\u003eweighting=source\\u003cbr\\u003ebins=%{x}\\u003cbr\\u003eregret=%{y}\\u003cextra\\u003e\\u003c\\u002fextra\\u003e\",\"legendgroup\":\"Pretraining\\u003cbr\\u003eData\",\"line\":{\"color\":\"rgb(67, 99, 216)\",\"dash\":\"solid\"},\"marker\":{\"symbol\":\"circle\"},\"mode\":\"lines+markers\",\"name\":\"Pretraining\\u003cbr\\u003eData\",\"orientation\":\"v\",\"showlegend\":true,\"x\":[10,25,50,75,100,250,500,750,1000],\"xaxis\":\"x\",\"y\":[0.18255109199578862,0.18646886466058862,0.20709065207320757,0.2148153194561617,0.21714114678245527,0.22201759100007037,0.21878387085995865,0.2200978799288641,0.21883298288636763],\"yaxis\":\"y\",\"type\":\"scatter\"},{\"hovertemplate\":\"Scenario=Pretraining\\u003cbr\\u003eData\\u003cbr\\u003eweighting=target\\u003cbr\\u003ebins=%{x}\\u003cbr\\u003eregret=%{y}\\u003cextra\\u003e\\u003c\\u002fextra\\u003e\",\"legendgroup\":\"Pretraining\\u003cbr\\u003eData\",\"line\":{\"color\":\"rgb(67, 99, 216)\",\"dash\":\"solid\"},\"marker\":{\"symbol\":\"circle\"},\"mode\":\"lines+markers\",\"name\":\"Pretraining\\u003cbr\\u003eData\",\"orientation\":\"v\",\"showlegend\":false,\"x\":[10,25,50,75,100,250,500,750,1000],\"xaxis\":\"x2\",\"y\":[0.19061240016602005,0.1974720210307593,0.19675168946962115,0.1926671467601663,0.1914303669655615,0.19221055034954734,0.19247424976609787,0.19244172476018076,0.19234475474584545],\"yaxis\":\"y2\",\"type\":\"scatter\"},{\"hovertemplate\":\"Scenario=Pretraining\\u003cbr\\u003eData\\u003cbr\\u003eweighting=unweighted\\u003cbr\\u003ebins=%{x}\\u003cbr\\u003eregret=%{y}\\u003cextra\\u003e\\u003c\\u002fextra\\u003e\",\"legendgroup\":\"Pretraining\\u003cbr\\u003eData\",\"line\":{\"color\":\"rgb(67, 99, 216)\",\"dash\":\"solid\"},\"marker\":{\"symbol\":\"circle\"},\"mode\":\"lines+markers\",\"name\":\"Pretraining\\u003cbr\\u003eData\",\"orientation\":\"v\",\"showlegend\":false,\"x\":[10,25,50,75,100,250,500,750,1000],\"xaxis\":\"x3\",\"y\":[0.20492839572775692,0.2008856403402958,0.200065043207546,0.20061335810990702,0.19837119806153722,0.1917663243989291,0.19113641876787862,0.19278501322606767,0.19387804129748154],\"yaxis\":\"y3\",\"type\":\"scatter\"},{\"hovertemplate\":\"Scenario=Augmentation\\u003cbr\\u003ePolicy\\u003cbr\\u003eweighting=source\\u003cbr\\u003ebins=%{x}\\u003cbr\\u003eregret=%{y}\\u003cextra\\u003e\\u003c\\u002fextra\\u003e\",\"legendgroup\":\"Augmentation\\u003cbr\\u003ePolicy\",\"line\":{\"color\":\"rgb(245, 130, 49)\",\"dash\":\"solid\"},\"marker\":{\"symbol\":\"circle\"},\"mode\":\"lines+markers\",\"name\":\"Augmentation\\u003cbr\\u003ePolicy\",\"orientation\":\"v\",\"showlegend\":true,\"x\":[10,25,50,75,100,250,500,750,1000],\"xaxis\":\"x\",\"y\":[0.17108145918063905,0.16551419061593844,0.1563226723897789,0.15952329086273748,0.16037548319908185,0.16936837092021964,0.16876677447412736,0.17261044323421132,0.17099008055575093],\"yaxis\":\"y\",\"type\":\"scatter\"},{\"hovertemplate\":\"Scenario=Augmentation\\u003cbr\\u003ePolicy\\u003cbr\\u003eweighting=target\\u003cbr\\u003ebins=%{x}\\u003cbr\\u003eregret=%{y}\\u003cextra\\u003e\\u003c\\u002fextra\\u003e\",\"legendgroup\":\"Augmentation\\u003cbr\\u003ePolicy\",\"line\":{\"color\":\"rgb(245, 130, 49)\",\"dash\":\"solid\"},\"marker\":{\"symbol\":\"circle\"},\"mode\":\"lines+markers\",\"name\":\"Augmentation\\u003cbr\\u003ePolicy\",\"orientation\":\"v\",\"showlegend\":false,\"x\":[10,25,50,75,100,250,500,750,1000],\"xaxis\":\"x2\",\"y\":[0.16422037154436722,0.16648756289535557,0.16738786031172034,0.16637426321959065,0.16566933391523628,0.16502018057224457,0.1647853352126336,0.16561232237158183,0.165717097137741],\"yaxis\":\"y2\",\"type\":\"scatter\"},{\"hovertemplate\":\"Scenario=Augmentation\\u003cbr\\u003ePolicy\\u003cbr\\u003eweighting=unweighted\\u003cbr\\u003ebins=%{x}\\u003cbr\\u003eregret=%{y}\\u003cextra\\u003e\\u003c\\u002fextra\\u003e\",\"legendgroup\":\"Augmentation\\u003cbr\\u003ePolicy\",\"line\":{\"color\":\"rgb(245, 130, 49)\",\"dash\":\"solid\"},\"marker\":{\"symbol\":\"circle\"},\"mode\":\"lines+markers\",\"name\":\"Augmentation\\u003cbr\\u003ePolicy\",\"orientation\":\"v\",\"showlegend\":false,\"x\":[10,25,50,75,100,250,500,750,1000],\"xaxis\":\"x3\",\"y\":[0.16598596422211775,0.1691628512356768,0.16444757261401166,0.1650052039726205,0.16626735488148547,0.16590194820576964,0.16368673942682688,0.16782730674630245,0.16746420944249094],\"yaxis\":\"y3\",\"type\":\"scatter\"},{\"hovertemplate\":\"Scenario=Co-Training\\u003cbr\\u003eData\\u003cbr\\u003eweighting=source\\u003cbr\\u003ebins=%{x}\\u003cbr\\u003eregret=%{y}\\u003cextra\\u003e\\u003c\\u002fextra\\u003e\",\"legendgroup\":\"Co-Training\\u003cbr\\u003eData\",\"line\":{\"color\":\"rgb(145, 30, 180)\",\"dash\":\"solid\"},\"marker\":{\"symbol\":\"circle\"},\"mode\":\"lines+markers\",\"name\":\"Co-Training\\u003cbr\\u003eData\",\"orientation\":\"v\",\"showlegend\":true,\"x\":[10,25,50,75,100,250,500,750,1000],\"xaxis\":\"x\",\"y\":[0.18424594028229588,0.19468460823483505,0.19222261359378343,0.1884170368865294,0.1887151495557668,0.1870567100711447,0.18436496447504164,0.1844730811193133,0.1841701719885986],\"yaxis\":\"y\",\"type\":\"scatter\"},{\"hovertemplate\":\"Scenario=Co-Training\\u003cbr\\u003eData\\u003cbr\\u003eweighting=target\\u003cbr\\u003ebins=%{x}\\u003cbr\\u003eregret=%{y}\\u003cextra\\u003e\\u003c\\u002fextra\\u003e\",\"legendgroup\":\"Co-Training\\u003cbr\\u003eData\",\"line\":{\"color\":\"rgb(145, 30, 180)\",\"dash\":\"solid\"},\"marker\":{\"symbol\":\"circle\"},\"mode\":\"lines+markers\",\"name\":\"Co-Training\\u003cbr\\u003eData\",\"orientation\":\"v\",\"showlegend\":false,\"x\":[10,25,50,75,100,250,500,750,1000],\"xaxis\":\"x2\",\"y\":[0.1851581785464467,0.18250170459401985,0.18087371842124533,0.17632033098358693,0.17524400187111375,0.17737898569209548,0.17836868368765096,0.17709065647750347,0.17715316369409156],\"yaxis\":\"y2\",\"type\":\"scatter\"},{\"hovertemplate\":\"Scenario=Co-Training\\u003cbr\\u003eData\\u003cbr\\u003eweighting=unweighted\\u003cbr\\u003ebins=%{x}\\u003cbr\\u003eregret=%{y}\\u003cextra\\u003e\\u003c\\u002fextra\\u003e\",\"legendgroup\":\"Co-Training\\u003cbr\\u003eData\",\"line\":{\"color\":\"rgb(145, 30, 180)\",\"dash\":\"solid\"},\"marker\":{\"symbol\":\"circle\"},\"mode\":\"lines+markers\",\"name\":\"Co-Training\\u003cbr\\u003eData\",\"orientation\":\"v\",\"showlegend\":false,\"x\":[10,25,50,75,100,250,500,750,1000],\"xaxis\":\"x3\",\"y\":[0.18277574138213,0.18130511399288468,0.18014033338724425,0.17646914021182958,0.17672547306722988,0.17377873419614084,0.17423634739580846,0.17547503331490685,0.1735783082608401],\"yaxis\":\"y3\",\"type\":\"scatter\"}],                        {\"template\":{\"data\":{\"barpolar\":[{\"marker\":{\"line\":{\"color\":\"#E5ECF6\",\"width\":0.5},\"pattern\":{\"fillmode\":\"overlay\",\"size\":10,\"solidity\":0.2}},\"type\":\"barpolar\"}],\"bar\":[{\"error_x\":{\"color\":\"#2a3f5f\"},\"error_y\":{\"color\":\"#2a3f5f\"},\"marker\":{\"line\":{\"color\":\"#E5ECF6\",\"width\":0.5},\"pattern\":{\"fillmode\":\"overlay\",\"size\":10,\"solidity\":0.2}},\"type\":\"bar\"}],\"carpet\":[{\"aaxis\":{\"endlinecolor\":\"#2a3f5f\",\"gridcolor\":\"white\",\"linecolor\":\"white\",\"minorgridcolor\":\"white\",\"startlinecolor\":\"#2a3f5f\"},\"baxis\":{\"endlinecolor\":\"#2a3f5f\",\"gridcolor\":\"white\",\"linecolor\":\"white\",\"minorgridcolor\":\"white\",\"startlinecolor\":\"#2a3f5f\"},\"type\":\"carpet\"}],\"choropleth\":[{\"colorbar\":{\"outlinewidth\":0,\"ticks\":\"\"},\"type\":\"choropleth\"}],\"contourcarpet\":[{\"colorbar\":{\"outlinewidth\":0,\"ticks\":\"\"},\"type\":\"contourcarpet\"}],\"contour\":[{\"colorbar\":{\"outlinewidth\":0,\"ticks\":\"\"},\"colorscale\":[[0.0,\"#0d0887\"],[0.1111111111111111,\"#46039f\"],[0.2222222222222222,\"#7201a8\"],[0.3333333333333333,\"#9c179e\"],[0.4444444444444444,\"#bd3786\"],[0.5555555555555556,\"#d8576b\"],[0.6666666666666666,\"#ed7953\"],[0.7777777777777778,\"#fb9f3a\"],[0.8888888888888888,\"#fdca26\"],[1.0,\"#f0f921\"]],\"type\":\"contour\"}],\"heatmapgl\":[{\"colorbar\":{\"outlinewidth\":0,\"ticks\":\"\"},\"colorscale\":[[0.0,\"#0d0887\"],[0.1111111111111111,\"#46039f\"],[0.2222222222222222,\"#7201a8\"],[0.3333333333333333,\"#9c179e\"],[0.4444444444444444,\"#bd3786\"],[0.5555555555555556,\"#d8576b\"],[0.6666666666666666,\"#ed7953\"],[0.7777777777777778,\"#fb9f3a\"],[0.8888888888888888,\"#fdca26\"],[1.0,\"#f0f921\"]],\"type\":\"heatmapgl\"}],\"heatmap\":[{\"colorbar\":{\"outlinewidth\":0,\"ticks\":\"\"},\"colorscale\":[[0.0,\"#0d0887\"],[0.1111111111111111,\"#46039f\"],[0.2222222222222222,\"#7201a8\"],[0.3333333333333333,\"#9c179e\"],[0.4444444444444444,\"#bd3786\"],[0.5555555555555556,\"#d8576b\"],[0.6666666666666666,\"#ed7953\"],[0.7777777777777778,\"#fb9f3a\"],[0.8888888888888888,\"#fdca26\"],[1.0,\"#f0f921\"]],\"type\":\"heatmap\"}],\"histogram2dcontour\":[{\"colorbar\":{\"outlinewidth\":0,\"ticks\":\"\"},\"colorscale\":[[0.0,\"#0d0887\"],[0.1111111111111111,\"#46039f\"],[0.2222222222222222,\"#7201a8\"],[0.3333333333333333,\"#9c179e\"],[0.4444444444444444,\"#bd3786\"],[0.5555555555555556,\"#d8576b\"],[0.6666666666666666,\"#ed7953\"],[0.7777777777777778,\"#fb9f3a\"],[0.8888888888888888,\"#fdca26\"],[1.0,\"#f0f921\"]],\"type\":\"histogram2dcontour\"}],\"histogram2d\":[{\"colorbar\":{\"outlinewidth\":0,\"ticks\":\"\"},\"colorscale\":[[0.0,\"#0d0887\"],[0.1111111111111111,\"#46039f\"],[0.2222222222222222,\"#7201a8\"],[0.3333333333333333,\"#9c179e\"],[0.4444444444444444,\"#bd3786\"],[0.5555555555555556,\"#d8576b\"],[0.6666666666666666,\"#ed7953\"],[0.7777777777777778,\"#fb9f3a\"],[0.8888888888888888,\"#fdca26\"],[1.0,\"#f0f921\"]],\"type\":\"histogram2d\"}],\"histogram\":[{\"marker\":{\"pattern\":{\"fillmode\":\"overlay\",\"size\":10,\"solidity\":0.2}},\"type\":\"histogram\"}],\"mesh3d\":[{\"colorbar\":{\"outlinewidth\":0,\"ticks\":\"\"},\"type\":\"mesh3d\"}],\"parcoords\":[{\"line\":{\"colorbar\":{\"outlinewidth\":0,\"ticks\":\"\"}},\"type\":\"parcoords\"}],\"pie\":[{\"automargin\":true,\"type\":\"pie\"}],\"scatter3d\":[{\"line\":{\"colorbar\":{\"outlinewidth\":0,\"ticks\":\"\"}},\"marker\":{\"colorbar\":{\"outlinewidth\":0,\"ticks\":\"\"}},\"type\":\"scatter3d\"}],\"scattercarpet\":[{\"marker\":{\"colorbar\":{\"outlinewidth\":0,\"ticks\":\"\"}},\"type\":\"scattercarpet\"}],\"scattergeo\":[{\"marker\":{\"colorbar\":{\"outlinewidth\":0,\"ticks\":\"\"}},\"type\":\"scattergeo\"}],\"scattergl\":[{\"marker\":{\"colorbar\":{\"outlinewidth\":0,\"ticks\":\"\"}},\"type\":\"scattergl\"}],\"scattermapbox\":[{\"marker\":{\"colorbar\":{\"outlinewidth\":0,\"ticks\":\"\"}},\"type\":\"scattermapbox\"}],\"scatterpolargl\":[{\"marker\":{\"colorbar\":{\"outlinewidth\":0,\"ticks\":\"\"}},\"type\":\"scatterpolargl\"}],\"scatterpolar\":[{\"marker\":{\"colorbar\":{\"outlinewidth\":0,\"ticks\":\"\"}},\"type\":\"scatterpolar\"}],\"scatter\":[{\"fillpattern\":{\"fillmode\":\"overlay\",\"size\":10,\"solidity\":0.2},\"type\":\"scatter\"}],\"scatterternary\":[{\"marker\":{\"colorbar\":{\"outlinewidth\":0,\"ticks\":\"\"}},\"type\":\"scatterternary\"}],\"surface\":[{\"colorbar\":{\"outlinewidth\":0,\"ticks\":\"\"},\"colorscale\":[[0.0,\"#0d0887\"],[0.1111111111111111,\"#46039f\"],[0.2222222222222222,\"#7201a8\"],[0.3333333333333333,\"#9c179e\"],[0.4444444444444444,\"#bd3786\"],[0.5555555555555556,\"#d8576b\"],[0.6666666666666666,\"#ed7953\"],[0.7777777777777778,\"#fb9f3a\"],[0.8888888888888888,\"#fdca26\"],[1.0,\"#f0f921\"]],\"type\":\"surface\"}],\"table\":[{\"cells\":{\"fill\":{\"color\":\"#EBF0F8\"},\"line\":{\"color\":\"white\"}},\"header\":{\"fill\":{\"color\":\"#C8D4E3\"},\"line\":{\"color\":\"white\"}},\"type\":\"table\"}]},\"layout\":{\"annotationdefaults\":{\"arrowcolor\":\"#2a3f5f\",\"arrowhead\":0,\"arrowwidth\":1},\"autotypenumbers\":\"strict\",\"coloraxis\":{\"colorbar\":{\"outlinewidth\":0,\"ticks\":\"\"}},\"colorscale\":{\"diverging\":[[0,\"#8e0152\"],[0.1,\"#c51b7d\"],[0.2,\"#de77ae\"],[0.3,\"#f1b6da\"],[0.4,\"#fde0ef\"],[0.5,\"#f7f7f7\"],[0.6,\"#e6f5d0\"],[0.7,\"#b8e186\"],[0.8,\"#7fbc41\"],[0.9,\"#4d9221\"],[1,\"#276419\"]],\"sequential\":[[0.0,\"#0d0887\"],[0.1111111111111111,\"#46039f\"],[0.2222222222222222,\"#7201a8\"],[0.3333333333333333,\"#9c179e\"],[0.4444444444444444,\"#bd3786\"],[0.5555555555555556,\"#d8576b\"],[0.6666666666666666,\"#ed7953\"],[0.7777777777777778,\"#fb9f3a\"],[0.8888888888888888,\"#fdca26\"],[1.0,\"#f0f921\"]],\"sequentialminus\":[[0.0,\"#0d0887\"],[0.1111111111111111,\"#46039f\"],[0.2222222222222222,\"#7201a8\"],[0.3333333333333333,\"#9c179e\"],[0.4444444444444444,\"#bd3786\"],[0.5555555555555556,\"#d8576b\"],[0.6666666666666666,\"#ed7953\"],[0.7777777777777778,\"#fb9f3a\"],[0.8888888888888888,\"#fdca26\"],[1.0,\"#f0f921\"]]},\"colorway\":[\"#636efa\",\"#EF553B\",\"#00cc96\",\"#ab63fa\",\"#FFA15A\",\"#19d3f3\",\"#FF6692\",\"#B6E880\",\"#FF97FF\",\"#FECB52\"],\"font\":{\"color\":\"#2a3f5f\"},\"geo\":{\"bgcolor\":\"white\",\"lakecolor\":\"white\",\"landcolor\":\"#E5ECF6\",\"showlakes\":true,\"showland\":true,\"subunitcolor\":\"white\"},\"hoverlabel\":{\"align\":\"left\"},\"hovermode\":\"closest\",\"mapbox\":{\"style\":\"light\"},\"paper_bgcolor\":\"white\",\"plot_bgcolor\":\"#E5ECF6\",\"polar\":{\"angularaxis\":{\"gridcolor\":\"white\",\"linecolor\":\"white\",\"ticks\":\"\"},\"bgcolor\":\"#E5ECF6\",\"radialaxis\":{\"gridcolor\":\"white\",\"linecolor\":\"white\",\"ticks\":\"\"}},\"scene\":{\"xaxis\":{\"backgroundcolor\":\"#E5ECF6\",\"gridcolor\":\"white\",\"gridwidth\":2,\"linecolor\":\"white\",\"showbackground\":true,\"ticks\":\"\",\"zerolinecolor\":\"white\"},\"yaxis\":{\"backgroundcolor\":\"#E5ECF6\",\"gridcolor\":\"white\",\"gridwidth\":2,\"linecolor\":\"white\",\"showbackground\":true,\"ticks\":\"\",\"zerolinecolor\":\"white\"},\"zaxis\":{\"backgroundcolor\":\"#E5ECF6\",\"gridcolor\":\"white\",\"gridwidth\":2,\"linecolor\":\"white\",\"showbackground\":true,\"ticks\":\"\",\"zerolinecolor\":\"white\"}},\"shapedefaults\":{\"line\":{\"color\":\"#2a3f5f\"}},\"ternary\":{\"aaxis\":{\"gridcolor\":\"white\",\"linecolor\":\"white\",\"ticks\":\"\"},\"baxis\":{\"gridcolor\":\"white\",\"linecolor\":\"white\",\"ticks\":\"\"},\"bgcolor\":\"#E5ECF6\",\"caxis\":{\"gridcolor\":\"white\",\"linecolor\":\"white\",\"ticks\":\"\"}},\"title\":{\"x\":0.05},\"xaxis\":{\"automargin\":true,\"gridcolor\":\"white\",\"linecolor\":\"white\",\"ticks\":\"\",\"title\":{\"standoff\":15},\"zerolinecolor\":\"white\",\"zerolinewidth\":2},\"yaxis\":{\"automargin\":true,\"gridcolor\":\"white\",\"linecolor\":\"white\",\"ticks\":\"\",\"title\":{\"standoff\":15},\"zerolinecolor\":\"white\",\"zerolinewidth\":2}}},\"xaxis\":{\"anchor\":\"y\",\"domain\":[0.0,0.31999999999999995],\"title\":{\"text\":\"bins\"},\"type\":\"log\"},\"yaxis\":{\"anchor\":\"x\",\"domain\":[0.0,1.0],\"title\":{\"text\":\"regret\"}},\"xaxis2\":{\"anchor\":\"y2\",\"domain\":[0.33999999999999997,0.6599999999999999],\"matches\":\"x\",\"title\":{\"text\":\"bins\"},\"type\":\"log\"},\"yaxis2\":{\"anchor\":\"x2\",\"domain\":[0.0,1.0],\"matches\":\"y\",\"showticklabels\":false},\"xaxis3\":{\"anchor\":\"y3\",\"domain\":[0.6799999999999999,0.9999999999999999],\"matches\":\"x\",\"title\":{\"text\":\"bins\"},\"type\":\"log\"},\"yaxis3\":{\"anchor\":\"x3\",\"domain\":[0.0,1.0],\"matches\":\"y\",\"showticklabels\":false},\"annotations\":[{\"font\":{},\"showarrow\":false,\"text\":\"weighting=source\",\"x\":0.15999999999999998,\"xanchor\":\"center\",\"xref\":\"paper\",\"y\":1.0,\"yanchor\":\"bottom\",\"yref\":\"paper\"},{\"font\":{},\"showarrow\":false,\"text\":\"weighting=target\",\"x\":0.49999999999999994,\"xanchor\":\"center\",\"xref\":\"paper\",\"y\":1.0,\"yanchor\":\"bottom\",\"yref\":\"paper\"},{\"font\":{},\"showarrow\":false,\"text\":\"weighting=unweighted\",\"x\":0.8399999999999999,\"xanchor\":\"center\",\"xref\":\"paper\",\"y\":1.0,\"yanchor\":\"bottom\",\"yref\":\"paper\"}],\"legend\":{\"title\":{\"text\":\"Scenario\"},\"tracegroupgap\":0},\"margin\":{\"t\":60}},                        {\"responsive\": true}                    ).then(function(){\n",
       "                            \n",
       "var gd = document.getElementById('11db72cb-a776-4701-97f0-ef629525b210');\n",
       "var x = new MutationObserver(function (mutations, observer) {{\n",
       "        var display = window.getComputedStyle(gd).display;\n",
       "        if (!display || display === 'none') {{\n",
       "            console.log([gd, 'removed!']);\n",
       "            Plotly.purge(gd);\n",
       "            observer.disconnect();\n",
       "        }}\n",
       "}});\n",
       "\n",
       "// Listen for the removal of the full notebook cells\n",
       "var notebookContainer = gd.closest('#notebook-container');\n",
       "if (notebookContainer) {{\n",
       "    x.observe(notebookContainer, {childList: true});\n",
       "}}\n",
       "\n",
       "// Listen for the clearing of the current output cell\n",
       "var outputEl = gd.closest('.output');\n",
       "if (outputEl) {{\n",
       "    x.observe(outputEl, {childList: true});\n",
       "}}\n",
       "\n",
       "                        })                };                });            </script>        </div>"
      ]
     },
     "metadata": {},
     "output_type": "display_data"
    }
   ],
   "execution_count": 25
  },
  {
   "metadata": {},
   "cell_type": "markdown",
   "source": "Recall that lower is better for regret!",
   "id": "38460d9492f13b2b"
  }
 ],
 "metadata": {
  "kernelspec": {
   "display_name": "Python 3",
   "language": "python",
   "name": "python3"
  },
  "language_info": {
   "codemirror_mode": {
    "name": "ipython",
    "version": 2
   },
   "file_extension": ".py",
   "mimetype": "text/x-python",
   "name": "python",
   "nbconvert_exporter": "python",
   "pygments_lexer": "ipython2",
   "version": "2.7.6"
  }
 },
 "nbformat": 4,
 "nbformat_minor": 5
}
