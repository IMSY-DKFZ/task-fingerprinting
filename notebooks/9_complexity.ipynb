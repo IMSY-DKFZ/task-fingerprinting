{
 "cells": [
  {
   "metadata": {},
   "cell_type": "markdown",
   "source": [
    "## Task complexity correlates with extracted features\n",
    "\n",
    "We noticed that extracted features correlate well with task complexity."
   ],
   "id": "dc9aba6fb81434b7"
  },
  {
   "cell_type": "code",
   "id": "initial_id",
   "metadata": {
    "collapsed": true,
    "ExecuteTime": {
     "end_time": "2024-10-25T11:29:23.366514Z",
     "start_time": "2024-10-25T11:29:19.063205Z"
    }
   },
   "source": [
    "import mml.interactive\n",
    "mml.interactive.init()\n",
    "from mml_tf.representations import FullFeatureRepresentations, AveragedFeatureRepresentations\n",
    "from mml_tf.tasks import task_infos, all_tasks\n",
    "from scipy.stats import pearsonr"
   ],
   "outputs": [
    {
     "name": "stdout",
     "output_type": "stream",
     "text": [
      " _____ ______   _____ ______   ___\n",
      "|\\   _ \\  _   \\|\\   _ \\  _   \\|\\  \\\n",
      "\\ \\  \\\\\\__\\ \\  \\ \\  \\\\\\__\\ \\  \\ \\  \\\n",
      " \\ \\  \\\\|__| \\  \\ \\  \\\\|__| \\  \\ \\  \\\n",
      "  \\ \\  \\    \\ \\  \\ \\  \\    \\ \\  \\ \\  \\____\n",
      "   \\ \\__\\    \\ \\__\\ \\__\\    \\ \\__\\ \\_______\\\n",
      "    \\|__|     \\|__|\\|__|     \\|__|\\|_______|\n",
      "         ____  _  _    __  _  _  ____  _  _\n",
      "        (  _ \\( \\/ )  (  )( \\/ )/ ___)( \\/ )\n",
      "         ) _ ( )  /    )( / \\/ \\\\___ \\ )  /\n",
      "        (____/(__/    (__)\\_)(_/(____/(__/\n",
      "Interactive MML API initialized.\n"
     ]
    },
    {
     "name": "stderr",
     "output_type": "stream",
     "text": [
      "/home/scholzpa/Documents/development/gitlab/mml/src/mml/interactive/__init__.py:49: UserWarning: Did not provide a \"env_path\", neither found set \"MML_ENV_PATH\" variable, you might need to provide \"env_path\" to \"init\" in order to use \"mml\" interactively in a jupyter/ipython setting.\n",
      "  warnings.warn(\n",
      "/home/scholzpa/miniconda3/envs/mml/lib/python3.8/site-packages/kornia/feature/lightglue.py:44: FutureWarning: `torch.cuda.amp.custom_fwd(args...)` is deprecated. Please use `torch.amp.custom_fwd(args..., device_type='cuda')` instead.\n",
      "  @torch.cuda.amp.custom_fwd(cast_inputs=torch.float32)\n"
     ]
    }
   ],
   "execution_count": 1
  },
  {
   "cell_type": "code",
   "source": [
    "# load features\n",
    "full_rep = FullFeatureRepresentations()\n",
    "full_rep.load_representations()\n",
    "# compute averages across all samples per feature dimension\n",
    "avg_rep = AveragedFeatureRepresentations(full_features=full_rep)\n",
    "avg_rep.load_representations()"
   ],
   "metadata": {
    "collapsed": false,
    "ExecuteTime": {
     "end_time": "2024-10-15T10:55:12.705311Z",
     "start_time": "2024-10-15T10:55:10.974281Z"
    }
   },
   "id": "90983018b25c1f4d",
   "outputs": [],
   "execution_count": 8
  },
  {
   "cell_type": "code",
   "source": [
    "# for each task we take \n",
    "# - the measured dimension (based on \"The Intrinsic Dimensionaity of Images and Its Impact On Learning\"\n",
    "#   by Phillip Pope, Chen Zhu, Ahmed Abdelkader, Micah Goldblum, Tom Goldstein (ICLR 2021, spotlight)\n",
    "# - the sum over feature dimension of the average (along sample dimension) of the extracted features\n",
    "dims = []\n",
    "norms = []\n",
    "for task in all_tasks:\n",
    "    dims.append(task_infos.dimensions[task])\n",
    "    norms.append(avg_rep.mapping[task].sum().item())"
   ],
   "metadata": {
    "collapsed": false,
    "ExecuteTime": {
     "end_time": "2024-10-15T10:58:45.099373Z",
     "start_time": "2024-10-15T10:58:45.094992Z"
    }
   },
   "id": "76b2af6f03c80ff0",
   "outputs": [],
   "execution_count": 9
  },
  {
   "cell_type": "code",
   "source": [
    "pearsonr(dims, norms)"
   ],
   "metadata": {
    "collapsed": false,
    "ExecuteTime": {
     "end_time": "2024-10-15T10:58:46.061247Z",
     "start_time": "2024-10-15T10:58:46.055380Z"
    }
   },
   "id": "444c28f35668d850",
   "outputs": [
    {
     "data": {
      "text/plain": [
       "PearsonRResult(statistic=0.4692465603413244, pvalue=3.6609766883292303e-05)"
      ]
     },
     "execution_count": 10,
     "metadata": {},
     "output_type": "execute_result"
    }
   ],
   "execution_count": 10
  }
 ],
 "metadata": {
  "kernelspec": {
   "display_name": "Python 3",
   "language": "python",
   "name": "python3"
  },
  "language_info": {
   "codemirror_mode": {
    "name": "ipython",
    "version": 2
   },
   "file_extension": ".py",
   "mimetype": "text/x-python",
   "name": "python",
   "nbconvert_exporter": "python",
   "pygments_lexer": "ipython2",
   "version": "2.7.6"
  }
 },
 "nbformat": 4,
 "nbformat_minor": 5
}
