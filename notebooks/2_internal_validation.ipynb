{
 "cells": [
  {
   "metadata": {},
   "cell_type": "markdown",
   "source": [
    "## Validation tasks - comparison of selected task distance candidates\n",
    "\n",
    "This notebook uses the experimental results of the VALIDATION tasks and investigates how the selected candidates (see \"1_develop_comparson.ipynb\") perform with respect to all transfer scenarios and meta metrics."
   ],
   "id": "cac006defca46767"
  },
  {
   "cell_type": "code",
   "id": "initial_id",
   "metadata": {
    "collapsed": true,
    "ExecuteTime": {
     "end_time": "2024-10-10T11:09:06.102594Z",
     "start_time": "2024-10-10T11:09:06.097243Z"
    }
   },
   "source": [
    "import mml.interactive\n",
    "from pathlib import Path\n",
    "mml.interactive.init(Path('~/.config/mml.env').expanduser())\n",
    "import pandas as pd\n",
    "import numpy as np\n",
    "from mml_tf.aggregate import AggregateStrategy, get_aggregated_raws, aggregate_observations\n",
    "from mml_tf.distances import LoadCachedDistances, get_closest, map_dist2printable\n",
    "from mml_tf.evaluation import get_win_rates, get_evaluations, SHRUNK\n",
    "from mml_tf.experiments import EXPERIMENTS, METRICS, load_experiment\n",
    "from mml_tf.visualization import get_exp_color, init_colors, get_dist_measure_color\n",
    "from mml_tf.tasks import paper_id_map, shrink_map, shrinkable_tasks, target_tasks\n",
    "from mml_tf.paths import FIG_PATH\n",
    "from typing import Tuple, Optional\n",
    "import plotly.express as px\n",
    "from plotly.subplots import make_subplots\n",
    "import plotly.graph_objects as go"
   ],
   "outputs": [
    {
     "name": "stdout",
     "output_type": "stream",
     "text": [
      "MML API already initialized.\n"
     ]
    }
   ],
   "execution_count": 54
  },
  {
   "metadata": {
    "ExecuteTime": {
     "end_time": "2024-10-09T19:00:20.033603Z",
     "start_time": "2024-10-09T19:00:19.974506Z"
    }
   },
   "cell_type": "code",
   "source": [
    "# load candidates and set plotting styles\n",
    "candidates = [\n",
    "    'KLD-PP:NS-W:TS-100-BINS',\n",
    "    'KLD-PP:NS-W:SN-1000-BINS',\n",
    "    'KLD-PP:NS-1000-BINS',\n",
    "    'SEMANTIC',  # for comparison with manual selection\n",
    "]\n",
    "all_distances = {dist: LoadCachedDistances(dist) for dist in candidates}\n",
    "init_colors(exp=EXPERIMENTS, distance_measures=[map_dist2printable[d] for d in candidates])\n",
    "color_map = {map_dist2printable[dist]: get_dist_measure_color(map_dist2printable[dist]) for dist in candidates}\n",
    "exp_color_map = {exp: get_exp_color(exp) for exp in EXPERIMENTS}\n",
    "line_dash_map = {map_dist2printable['KLD-PP:NS-W:TS-100-BINS']: 'solid',\n",
    "                 map_dist2printable['KLD-PP:NS-W:SN-1000-BINS']: 'dash',\n",
    "                 map_dist2printable['KLD-PP:NS-1000-BINS']: 'dashdot',\n",
    "                 map_dist2printable['SEMANTIC']: 'dot',\n",
    "                 'baseline': 'solid'}"
   ],
   "id": "abaa91802a41f9c0",
   "outputs": [],
   "execution_count": 2
  },
  {
   "metadata": {},
   "cell_type": "markdown",
   "source": [
    "### Step 1: Explore domain shift\n",
    "\n",
    "Evaluating the candidates on the validation tasks with the identical setup, what are the absolute differences when switching from develop to validation? We use the same \"averaged\" transfer experiment measurements (`AggregateStrategy.MEAN`) and metrics."
   ],
   "id": "3b347d2137e1cfb4"
  },
  {
   "metadata": {
    "ExecuteTime": {
     "end_time": "2024-10-10T06:43:16.534849Z",
     "start_time": "2024-10-10T06:43:02.120792Z"
    }
   },
   "cell_type": "code",
   "source": [
    "dev_evaluations = get_evaluations(all_distances=all_distances.values(), aggregates=[AggregateStrategy.MEAN],\n",
    "                                   metrics=METRICS, experiments=EXPERIMENTS, top_mode='avg', top_k=3,\n",
    "                                   top_meta_metrics=['regret', 'rank', 'delta', 'gain'], validation=False)\n",
    "val_evaluations = get_evaluations(all_distances=all_distances.values(), aggregates=[AggregateStrategy.MEAN],\n",
    "                                   metrics=METRICS, experiments=EXPERIMENTS, top_mode='avg', top_k=3,\n",
    "                                   top_meta_metrics=['regret', 'rank', 'delta', 'gain'], validation=True)"
   ],
   "id": "bc14ae3030216f6d",
   "outputs": [
    {
     "name": "stderr",
     "output_type": "stream",
     "text": [
      "Calculating...: 100%|██████████| 736/736 [00:05<00:00, 146.78it/s]\n",
      "Calculating...: 100%|██████████| 1376/1376 [00:09<00:00, 146.71it/s]\n"
     ]
    }
   ],
   "execution_count": 10
  },
  {
   "metadata": {
    "ExecuteTime": {
     "end_time": "2024-10-10T06:47:03.274752Z",
     "start_time": "2024-10-10T06:47:03.268508Z"
    }
   },
   "cell_type": "code",
   "source": [
    "# absolut meta metric table\n",
    "def get_absolute_meta_values(meta_metric: str, reverse_regret: bool = False, validation: bool = True) -> pd.DataFrame:\n",
    "    meta_values_df = pd.DataFrame()\n",
    "    evaluation_df = val_evaluations if validation else dev_evaluations\n",
    "    for exp in EXPERIMENTS:\n",
    "        sub_df = evaluation_df[(evaluation_df['exp'] == exp) & (evaluation_df['meta metric'] == meta_metric)]\n",
    "        for group_name, group_df in sub_df.groupby('distances'):\n",
    "            if meta_metric == 'regret' and reverse_regret:\n",
    "                val_series = 1 - group_df['score']\n",
    "            else:\n",
    "                val_series = group_df['score']\n",
    "            meta_values_df.at[group_name, exp + '-mean'] = val_series.mean()\n",
    "            meta_values_df.at[group_name, exp + '-std'] = val_series.std()\n",
    "    meta_values_df['mean'] = meta_values_df[[exp + '-mean' for exp in EXPERIMENTS]].mean(axis=1)\n",
    "    return meta_values_df.sort_values(by='mean', ascending=False)"
   ],
   "id": "57b02382a7572656",
   "outputs": [],
   "execution_count": 13
  },
  {
   "metadata": {
    "ExecuteTime": {
     "end_time": "2024-10-10T06:47:04.244623Z",
     "start_time": "2024-10-10T06:47:04.220026Z"
    }
   },
   "cell_type": "code",
   "source": [
    "# this time we do not align regret (no following aggregation with other metrics) \n",
    "reversed_regret_dev = get_absolute_meta_values(meta_metric='regret', reverse_regret=True, validation=False)\n",
    "reversed_regret_dev"
   ],
   "id": "af4fa11a9a6c4e4a",
   "outputs": [
    {
     "data": {
      "text/plain": [
       "                          Model<br>Architecture-mean  \\\n",
       "SEMANTIC                                    0.279245   \n",
       "KLD-PP:NS-W:SN-1000-BINS                    0.252003   \n",
       "KLD-PP:NS-W:TS-100-BINS                     0.255248   \n",
       "KLD-PP:NS-1000-BINS                         0.258868   \n",
       "\n",
       "                          Model<br>Architecture-std  Pretraining<br>Data-mean  \\\n",
       "SEMANTIC                                   0.234690                  0.287204   \n",
       "KLD-PP:NS-W:SN-1000-BINS                   0.196438                  0.269076   \n",
       "KLD-PP:NS-W:TS-100-BINS                    0.232733                  0.282134   \n",
       "KLD-PP:NS-1000-BINS                        0.238555                  0.272990   \n",
       "\n",
       "                          Pretraining<br>Data-std  \\\n",
       "SEMANTIC                                 0.200230   \n",
       "KLD-PP:NS-W:SN-1000-BINS                 0.191752   \n",
       "KLD-PP:NS-W:TS-100-BINS                  0.183223   \n",
       "KLD-PP:NS-1000-BINS                      0.174439   \n",
       "\n",
       "                          Augmentation<br>Policy-mean  \\\n",
       "SEMANTIC                                     0.289398   \n",
       "KLD-PP:NS-W:SN-1000-BINS                     0.275663   \n",
       "KLD-PP:NS-W:TS-100-BINS                      0.248669   \n",
       "KLD-PP:NS-1000-BINS                          0.247942   \n",
       "\n",
       "                          Augmentation<br>Policy-std  \\\n",
       "SEMANTIC                                    0.207234   \n",
       "KLD-PP:NS-W:SN-1000-BINS                    0.226451   \n",
       "KLD-PP:NS-W:TS-100-BINS                     0.225970   \n",
       "KLD-PP:NS-1000-BINS                         0.226828   \n",
       "\n",
       "                          Co-Training<br>Data-mean  Co-Training<br>Data-std  \\\n",
       "SEMANTIC                                  0.256161                 0.189903   \n",
       "KLD-PP:NS-W:SN-1000-BINS                  0.236002                 0.165232   \n",
       "KLD-PP:NS-W:TS-100-BINS                   0.229796                 0.150314   \n",
       "KLD-PP:NS-1000-BINS                       0.230148                 0.147894   \n",
       "\n",
       "                              mean  \n",
       "SEMANTIC                  0.278002  \n",
       "KLD-PP:NS-W:SN-1000-BINS  0.258186  \n",
       "KLD-PP:NS-W:TS-100-BINS   0.253962  \n",
       "KLD-PP:NS-1000-BINS       0.252487  "
      ],
      "text/html": [
       "<div>\n",
       "<style scoped>\n",
       "    .dataframe tbody tr th:only-of-type {\n",
       "        vertical-align: middle;\n",
       "    }\n",
       "\n",
       "    .dataframe tbody tr th {\n",
       "        vertical-align: top;\n",
       "    }\n",
       "\n",
       "    .dataframe thead th {\n",
       "        text-align: right;\n",
       "    }\n",
       "</style>\n",
       "<table border=\"1\" class=\"dataframe\">\n",
       "  <thead>\n",
       "    <tr style=\"text-align: right;\">\n",
       "      <th></th>\n",
       "      <th>Model&lt;br&gt;Architecture-mean</th>\n",
       "      <th>Model&lt;br&gt;Architecture-std</th>\n",
       "      <th>Pretraining&lt;br&gt;Data-mean</th>\n",
       "      <th>Pretraining&lt;br&gt;Data-std</th>\n",
       "      <th>Augmentation&lt;br&gt;Policy-mean</th>\n",
       "      <th>Augmentation&lt;br&gt;Policy-std</th>\n",
       "      <th>Co-Training&lt;br&gt;Data-mean</th>\n",
       "      <th>Co-Training&lt;br&gt;Data-std</th>\n",
       "      <th>mean</th>\n",
       "    </tr>\n",
       "  </thead>\n",
       "  <tbody>\n",
       "    <tr>\n",
       "      <th>SEMANTIC</th>\n",
       "      <td>0.279245</td>\n",
       "      <td>0.234690</td>\n",
       "      <td>0.287204</td>\n",
       "      <td>0.200230</td>\n",
       "      <td>0.289398</td>\n",
       "      <td>0.207234</td>\n",
       "      <td>0.256161</td>\n",
       "      <td>0.189903</td>\n",
       "      <td>0.278002</td>\n",
       "    </tr>\n",
       "    <tr>\n",
       "      <th>KLD-PP:NS-W:SN-1000-BINS</th>\n",
       "      <td>0.252003</td>\n",
       "      <td>0.196438</td>\n",
       "      <td>0.269076</td>\n",
       "      <td>0.191752</td>\n",
       "      <td>0.275663</td>\n",
       "      <td>0.226451</td>\n",
       "      <td>0.236002</td>\n",
       "      <td>0.165232</td>\n",
       "      <td>0.258186</td>\n",
       "    </tr>\n",
       "    <tr>\n",
       "      <th>KLD-PP:NS-W:TS-100-BINS</th>\n",
       "      <td>0.255248</td>\n",
       "      <td>0.232733</td>\n",
       "      <td>0.282134</td>\n",
       "      <td>0.183223</td>\n",
       "      <td>0.248669</td>\n",
       "      <td>0.225970</td>\n",
       "      <td>0.229796</td>\n",
       "      <td>0.150314</td>\n",
       "      <td>0.253962</td>\n",
       "    </tr>\n",
       "    <tr>\n",
       "      <th>KLD-PP:NS-1000-BINS</th>\n",
       "      <td>0.258868</td>\n",
       "      <td>0.238555</td>\n",
       "      <td>0.272990</td>\n",
       "      <td>0.174439</td>\n",
       "      <td>0.247942</td>\n",
       "      <td>0.226828</td>\n",
       "      <td>0.230148</td>\n",
       "      <td>0.147894</td>\n",
       "      <td>0.252487</td>\n",
       "    </tr>\n",
       "  </tbody>\n",
       "</table>\n",
       "</div>"
      ]
     },
     "execution_count": 15,
     "metadata": {},
     "output_type": "execute_result"
    }
   ],
   "execution_count": 15
  },
  {
   "metadata": {
    "ExecuteTime": {
     "end_time": "2024-10-10T06:47:13.649841Z",
     "start_time": "2024-10-10T06:47:13.623132Z"
    }
   },
   "cell_type": "code",
   "source": [
    "reversed_regret_val = get_absolute_meta_values(meta_metric='regret', reverse_regret=True, validation=True)\n",
    "reversed_regret_val"
   ],
   "id": "f9a9569d0a22852d",
   "outputs": [
    {
     "data": {
      "text/plain": [
       "                          Model<br>Architecture-mean  \\\n",
       "SEMANTIC                                    0.187840   \n",
       "KLD-PP:NS-W:SN-1000-BINS                    0.176431   \n",
       "KLD-PP:NS-1000-BINS                         0.205878   \n",
       "KLD-PP:NS-W:TS-100-BINS                     0.207949   \n",
       "\n",
       "                          Model<br>Architecture-std  Pretraining<br>Data-mean  \\\n",
       "SEMANTIC                                   0.163522                  0.203180   \n",
       "KLD-PP:NS-W:SN-1000-BINS                   0.147059                  0.218833   \n",
       "KLD-PP:NS-1000-BINS                        0.193693                  0.193878   \n",
       "KLD-PP:NS-W:TS-100-BINS                    0.197788                  0.191430   \n",
       "\n",
       "                          Pretraining<br>Data-std  \\\n",
       "SEMANTIC                                 0.181096   \n",
       "KLD-PP:NS-W:SN-1000-BINS                 0.168821   \n",
       "KLD-PP:NS-1000-BINS                      0.178260   \n",
       "KLD-PP:NS-W:TS-100-BINS                  0.174855   \n",
       "\n",
       "                          Augmentation<br>Policy-mean  \\\n",
       "SEMANTIC                                     0.195592   \n",
       "KLD-PP:NS-W:SN-1000-BINS                     0.170990   \n",
       "KLD-PP:NS-1000-BINS                          0.167464   \n",
       "KLD-PP:NS-W:TS-100-BINS                      0.165669   \n",
       "\n",
       "                          Augmentation<br>Policy-std  \\\n",
       "SEMANTIC                                    0.185363   \n",
       "KLD-PP:NS-W:SN-1000-BINS                    0.145447   \n",
       "KLD-PP:NS-1000-BINS                         0.156172   \n",
       "KLD-PP:NS-W:TS-100-BINS                     0.157312   \n",
       "\n",
       "                          Co-Training<br>Data-mean  Co-Training<br>Data-std  \\\n",
       "SEMANTIC                                  0.182300                 0.170127   \n",
       "KLD-PP:NS-W:SN-1000-BINS                  0.184170                 0.170121   \n",
       "KLD-PP:NS-1000-BINS                       0.173578                 0.170979   \n",
       "KLD-PP:NS-W:TS-100-BINS                   0.175244                 0.170518   \n",
       "\n",
       "                              mean  \n",
       "SEMANTIC                  0.192228  \n",
       "KLD-PP:NS-W:SN-1000-BINS  0.187606  \n",
       "KLD-PP:NS-1000-BINS       0.185200  \n",
       "KLD-PP:NS-W:TS-100-BINS   0.185073  "
      ],
      "text/html": [
       "<div>\n",
       "<style scoped>\n",
       "    .dataframe tbody tr th:only-of-type {\n",
       "        vertical-align: middle;\n",
       "    }\n",
       "\n",
       "    .dataframe tbody tr th {\n",
       "        vertical-align: top;\n",
       "    }\n",
       "\n",
       "    .dataframe thead th {\n",
       "        text-align: right;\n",
       "    }\n",
       "</style>\n",
       "<table border=\"1\" class=\"dataframe\">\n",
       "  <thead>\n",
       "    <tr style=\"text-align: right;\">\n",
       "      <th></th>\n",
       "      <th>Model&lt;br&gt;Architecture-mean</th>\n",
       "      <th>Model&lt;br&gt;Architecture-std</th>\n",
       "      <th>Pretraining&lt;br&gt;Data-mean</th>\n",
       "      <th>Pretraining&lt;br&gt;Data-std</th>\n",
       "      <th>Augmentation&lt;br&gt;Policy-mean</th>\n",
       "      <th>Augmentation&lt;br&gt;Policy-std</th>\n",
       "      <th>Co-Training&lt;br&gt;Data-mean</th>\n",
       "      <th>Co-Training&lt;br&gt;Data-std</th>\n",
       "      <th>mean</th>\n",
       "    </tr>\n",
       "  </thead>\n",
       "  <tbody>\n",
       "    <tr>\n",
       "      <th>SEMANTIC</th>\n",
       "      <td>0.187840</td>\n",
       "      <td>0.163522</td>\n",
       "      <td>0.203180</td>\n",
       "      <td>0.181096</td>\n",
       "      <td>0.195592</td>\n",
       "      <td>0.185363</td>\n",
       "      <td>0.182300</td>\n",
       "      <td>0.170127</td>\n",
       "      <td>0.192228</td>\n",
       "    </tr>\n",
       "    <tr>\n",
       "      <th>KLD-PP:NS-W:SN-1000-BINS</th>\n",
       "      <td>0.176431</td>\n",
       "      <td>0.147059</td>\n",
       "      <td>0.218833</td>\n",
       "      <td>0.168821</td>\n",
       "      <td>0.170990</td>\n",
       "      <td>0.145447</td>\n",
       "      <td>0.184170</td>\n",
       "      <td>0.170121</td>\n",
       "      <td>0.187606</td>\n",
       "    </tr>\n",
       "    <tr>\n",
       "      <th>KLD-PP:NS-1000-BINS</th>\n",
       "      <td>0.205878</td>\n",
       "      <td>0.193693</td>\n",
       "      <td>0.193878</td>\n",
       "      <td>0.178260</td>\n",
       "      <td>0.167464</td>\n",
       "      <td>0.156172</td>\n",
       "      <td>0.173578</td>\n",
       "      <td>0.170979</td>\n",
       "      <td>0.185200</td>\n",
       "    </tr>\n",
       "    <tr>\n",
       "      <th>KLD-PP:NS-W:TS-100-BINS</th>\n",
       "      <td>0.207949</td>\n",
       "      <td>0.197788</td>\n",
       "      <td>0.191430</td>\n",
       "      <td>0.174855</td>\n",
       "      <td>0.165669</td>\n",
       "      <td>0.157312</td>\n",
       "      <td>0.175244</td>\n",
       "      <td>0.170518</td>\n",
       "      <td>0.185073</td>\n",
       "    </tr>\n",
       "  </tbody>\n",
       "</table>\n",
       "</div>"
      ]
     },
     "execution_count": 16,
     "metadata": {},
     "output_type": "execute_result"
    }
   ],
   "execution_count": 16
  },
  {
   "metadata": {
    "ExecuteTime": {
     "end_time": "2024-10-10T06:47:58.022090Z",
     "start_time": "2024-10-10T06:47:58.012537Z"
    }
   },
   "cell_type": "code",
   "source": [
    "# switching from dev to val, what is the trend?\n",
    "reversed_regret_val - reversed_regret_dev"
   ],
   "id": "9308729e42535dd5",
   "outputs": [
    {
     "data": {
      "text/plain": [
       "                          Model<br>Architecture-mean  \\\n",
       "KLD-PP:NS-1000-BINS                        -0.052991   \n",
       "KLD-PP:NS-W:SN-1000-BINS                   -0.075571   \n",
       "KLD-PP:NS-W:TS-100-BINS                    -0.047299   \n",
       "SEMANTIC                                   -0.091405   \n",
       "\n",
       "                          Model<br>Architecture-std  Pretraining<br>Data-mean  \\\n",
       "KLD-PP:NS-1000-BINS                       -0.044862                 -0.079112   \n",
       "KLD-PP:NS-W:SN-1000-BINS                  -0.049379                 -0.050243   \n",
       "KLD-PP:NS-W:TS-100-BINS                   -0.034945                 -0.090704   \n",
       "SEMANTIC                                  -0.071168                 -0.084024   \n",
       "\n",
       "                          Pretraining<br>Data-std  \\\n",
       "KLD-PP:NS-1000-BINS                      0.003821   \n",
       "KLD-PP:NS-W:SN-1000-BINS                -0.022931   \n",
       "KLD-PP:NS-W:TS-100-BINS                 -0.008368   \n",
       "SEMANTIC                                -0.019134   \n",
       "\n",
       "                          Augmentation<br>Policy-mean  \\\n",
       "KLD-PP:NS-1000-BINS                         -0.080477   \n",
       "KLD-PP:NS-W:SN-1000-BINS                    -0.104673   \n",
       "KLD-PP:NS-W:TS-100-BINS                     -0.083000   \n",
       "SEMANTIC                                    -0.093807   \n",
       "\n",
       "                          Augmentation<br>Policy-std  \\\n",
       "KLD-PP:NS-1000-BINS                        -0.070656   \n",
       "KLD-PP:NS-W:SN-1000-BINS                   -0.081004   \n",
       "KLD-PP:NS-W:TS-100-BINS                    -0.068657   \n",
       "SEMANTIC                                   -0.021871   \n",
       "\n",
       "                          Co-Training<br>Data-mean  Co-Training<br>Data-std  \\\n",
       "KLD-PP:NS-1000-BINS                      -0.056570                 0.023085   \n",
       "KLD-PP:NS-W:SN-1000-BINS                 -0.051832                 0.004889   \n",
       "KLD-PP:NS-W:TS-100-BINS                  -0.054552                 0.020204   \n",
       "SEMANTIC                                 -0.073861                -0.019775   \n",
       "\n",
       "                              mean  \n",
       "KLD-PP:NS-1000-BINS      -0.067288  \n",
       "KLD-PP:NS-W:SN-1000-BINS -0.070580  \n",
       "KLD-PP:NS-W:TS-100-BINS  -0.068889  \n",
       "SEMANTIC                 -0.085774  "
      ],
      "text/html": [
       "<div>\n",
       "<style scoped>\n",
       "    .dataframe tbody tr th:only-of-type {\n",
       "        vertical-align: middle;\n",
       "    }\n",
       "\n",
       "    .dataframe tbody tr th {\n",
       "        vertical-align: top;\n",
       "    }\n",
       "\n",
       "    .dataframe thead th {\n",
       "        text-align: right;\n",
       "    }\n",
       "</style>\n",
       "<table border=\"1\" class=\"dataframe\">\n",
       "  <thead>\n",
       "    <tr style=\"text-align: right;\">\n",
       "      <th></th>\n",
       "      <th>Model&lt;br&gt;Architecture-mean</th>\n",
       "      <th>Model&lt;br&gt;Architecture-std</th>\n",
       "      <th>Pretraining&lt;br&gt;Data-mean</th>\n",
       "      <th>Pretraining&lt;br&gt;Data-std</th>\n",
       "      <th>Augmentation&lt;br&gt;Policy-mean</th>\n",
       "      <th>Augmentation&lt;br&gt;Policy-std</th>\n",
       "      <th>Co-Training&lt;br&gt;Data-mean</th>\n",
       "      <th>Co-Training&lt;br&gt;Data-std</th>\n",
       "      <th>mean</th>\n",
       "    </tr>\n",
       "  </thead>\n",
       "  <tbody>\n",
       "    <tr>\n",
       "      <th>KLD-PP:NS-1000-BINS</th>\n",
       "      <td>-0.052991</td>\n",
       "      <td>-0.044862</td>\n",
       "      <td>-0.079112</td>\n",
       "      <td>0.003821</td>\n",
       "      <td>-0.080477</td>\n",
       "      <td>-0.070656</td>\n",
       "      <td>-0.056570</td>\n",
       "      <td>0.023085</td>\n",
       "      <td>-0.067288</td>\n",
       "    </tr>\n",
       "    <tr>\n",
       "      <th>KLD-PP:NS-W:SN-1000-BINS</th>\n",
       "      <td>-0.075571</td>\n",
       "      <td>-0.049379</td>\n",
       "      <td>-0.050243</td>\n",
       "      <td>-0.022931</td>\n",
       "      <td>-0.104673</td>\n",
       "      <td>-0.081004</td>\n",
       "      <td>-0.051832</td>\n",
       "      <td>0.004889</td>\n",
       "      <td>-0.070580</td>\n",
       "    </tr>\n",
       "    <tr>\n",
       "      <th>KLD-PP:NS-W:TS-100-BINS</th>\n",
       "      <td>-0.047299</td>\n",
       "      <td>-0.034945</td>\n",
       "      <td>-0.090704</td>\n",
       "      <td>-0.008368</td>\n",
       "      <td>-0.083000</td>\n",
       "      <td>-0.068657</td>\n",
       "      <td>-0.054552</td>\n",
       "      <td>0.020204</td>\n",
       "      <td>-0.068889</td>\n",
       "    </tr>\n",
       "    <tr>\n",
       "      <th>SEMANTIC</th>\n",
       "      <td>-0.091405</td>\n",
       "      <td>-0.071168</td>\n",
       "      <td>-0.084024</td>\n",
       "      <td>-0.019134</td>\n",
       "      <td>-0.093807</td>\n",
       "      <td>-0.021871</td>\n",
       "      <td>-0.073861</td>\n",
       "      <td>-0.019775</td>\n",
       "      <td>-0.085774</td>\n",
       "    </tr>\n",
       "  </tbody>\n",
       "</table>\n",
       "</div>"
      ]
     },
     "execution_count": 17,
     "metadata": {},
     "output_type": "execute_result"
    }
   ],
   "execution_count": 17
  },
  {
   "metadata": {},
   "cell_type": "markdown",
   "source": "Regret has improved (it got lower) across all 4 task distances (3 bKLD variants and manual task selection) and 4 scenarios. ",
   "id": "a0c31c8db136412e"
  },
  {
   "metadata": {
    "ExecuteTime": {
     "end_time": "2024-10-10T06:49:28.806448Z",
     "start_time": "2024-10-10T06:49:28.781797Z"
    }
   },
   "cell_type": "code",
   "source": [
    "rank_dev = get_absolute_meta_values(meta_metric='rank', validation=False)\n",
    "rank_dev"
   ],
   "id": "1f41f48419dab4b2",
   "outputs": [
    {
     "data": {
      "text/plain": [
       "                          Model<br>Architecture-mean  \\\n",
       "KLD-PP:NS-W:TS-100-BINS                     0.550188   \n",
       "KLD-PP:NS-1000-BINS                         0.538111   \n",
       "KLD-PP:NS-W:SN-1000-BINS                    0.550027   \n",
       "SEMANTIC                                    0.518344   \n",
       "\n",
       "                          Model<br>Architecture-std  Pretraining<br>Data-mean  \\\n",
       "KLD-PP:NS-W:TS-100-BINS                    0.140238                  0.607273   \n",
       "KLD-PP:NS-1000-BINS                        0.150988                  0.626060   \n",
       "KLD-PP:NS-W:SN-1000-BINS                   0.167754                  0.630421   \n",
       "SEMANTIC                                   0.187260                  0.593344   \n",
       "\n",
       "                          Pretraining<br>Data-std  \\\n",
       "KLD-PP:NS-W:TS-100-BINS                  0.160864   \n",
       "KLD-PP:NS-1000-BINS                      0.169965   \n",
       "KLD-PP:NS-W:SN-1000-BINS                 0.157774   \n",
       "SEMANTIC                                 0.153184   \n",
       "\n",
       "                          Augmentation<br>Policy-mean  \\\n",
       "KLD-PP:NS-W:TS-100-BINS                      0.606307   \n",
       "KLD-PP:NS-1000-BINS                          0.608454   \n",
       "KLD-PP:NS-W:SN-1000-BINS                     0.524410   \n",
       "SEMANTIC                                     0.472088   \n",
       "\n",
       "                          Augmentation<br>Policy-std  \\\n",
       "KLD-PP:NS-W:TS-100-BINS                     0.165877   \n",
       "KLD-PP:NS-1000-BINS                         0.164460   \n",
       "KLD-PP:NS-W:SN-1000-BINS                    0.172167   \n",
       "SEMANTIC                                    0.170999   \n",
       "\n",
       "                          Co-Training<br>Data-mean  Co-Training<br>Data-std  \\\n",
       "KLD-PP:NS-W:TS-100-BINS                   0.543935                 0.163180   \n",
       "KLD-PP:NS-1000-BINS                       0.531857                 0.167080   \n",
       "KLD-PP:NS-W:SN-1000-BINS                  0.541412                 0.147742   \n",
       "SEMANTIC                                  0.512279                 0.179319   \n",
       "\n",
       "                              mean  \n",
       "KLD-PP:NS-W:TS-100-BINS   0.576926  \n",
       "KLD-PP:NS-1000-BINS       0.576121  \n",
       "KLD-PP:NS-W:SN-1000-BINS  0.561567  \n",
       "SEMANTIC                  0.524014  "
      ],
      "text/html": [
       "<div>\n",
       "<style scoped>\n",
       "    .dataframe tbody tr th:only-of-type {\n",
       "        vertical-align: middle;\n",
       "    }\n",
       "\n",
       "    .dataframe tbody tr th {\n",
       "        vertical-align: top;\n",
       "    }\n",
       "\n",
       "    .dataframe thead th {\n",
       "        text-align: right;\n",
       "    }\n",
       "</style>\n",
       "<table border=\"1\" class=\"dataframe\">\n",
       "  <thead>\n",
       "    <tr style=\"text-align: right;\">\n",
       "      <th></th>\n",
       "      <th>Model&lt;br&gt;Architecture-mean</th>\n",
       "      <th>Model&lt;br&gt;Architecture-std</th>\n",
       "      <th>Pretraining&lt;br&gt;Data-mean</th>\n",
       "      <th>Pretraining&lt;br&gt;Data-std</th>\n",
       "      <th>Augmentation&lt;br&gt;Policy-mean</th>\n",
       "      <th>Augmentation&lt;br&gt;Policy-std</th>\n",
       "      <th>Co-Training&lt;br&gt;Data-mean</th>\n",
       "      <th>Co-Training&lt;br&gt;Data-std</th>\n",
       "      <th>mean</th>\n",
       "    </tr>\n",
       "  </thead>\n",
       "  <tbody>\n",
       "    <tr>\n",
       "      <th>KLD-PP:NS-W:TS-100-BINS</th>\n",
       "      <td>0.550188</td>\n",
       "      <td>0.140238</td>\n",
       "      <td>0.607273</td>\n",
       "      <td>0.160864</td>\n",
       "      <td>0.606307</td>\n",
       "      <td>0.165877</td>\n",
       "      <td>0.543935</td>\n",
       "      <td>0.163180</td>\n",
       "      <td>0.576926</td>\n",
       "    </tr>\n",
       "    <tr>\n",
       "      <th>KLD-PP:NS-1000-BINS</th>\n",
       "      <td>0.538111</td>\n",
       "      <td>0.150988</td>\n",
       "      <td>0.626060</td>\n",
       "      <td>0.169965</td>\n",
       "      <td>0.608454</td>\n",
       "      <td>0.164460</td>\n",
       "      <td>0.531857</td>\n",
       "      <td>0.167080</td>\n",
       "      <td>0.576121</td>\n",
       "    </tr>\n",
       "    <tr>\n",
       "      <th>KLD-PP:NS-W:SN-1000-BINS</th>\n",
       "      <td>0.550027</td>\n",
       "      <td>0.167754</td>\n",
       "      <td>0.630421</td>\n",
       "      <td>0.157774</td>\n",
       "      <td>0.524410</td>\n",
       "      <td>0.172167</td>\n",
       "      <td>0.541412</td>\n",
       "      <td>0.147742</td>\n",
       "      <td>0.561567</td>\n",
       "    </tr>\n",
       "    <tr>\n",
       "      <th>SEMANTIC</th>\n",
       "      <td>0.518344</td>\n",
       "      <td>0.187260</td>\n",
       "      <td>0.593344</td>\n",
       "      <td>0.153184</td>\n",
       "      <td>0.472088</td>\n",
       "      <td>0.170999</td>\n",
       "      <td>0.512279</td>\n",
       "      <td>0.179319</td>\n",
       "      <td>0.524014</td>\n",
       "    </tr>\n",
       "  </tbody>\n",
       "</table>\n",
       "</div>"
      ]
     },
     "execution_count": 18,
     "metadata": {},
     "output_type": "execute_result"
    }
   ],
   "execution_count": 18
  },
  {
   "metadata": {
    "ExecuteTime": {
     "end_time": "2024-10-10T07:08:54.782446Z",
     "start_time": "2024-10-10T07:08:54.755803Z"
    }
   },
   "cell_type": "code",
   "source": [
    "rank_val = get_absolute_meta_values(meta_metric='rank', validation=True)\n",
    "rank_val"
   ],
   "id": "252b6f97c283e9ad",
   "outputs": [
    {
     "data": {
      "text/plain": [
       "                          Model<br>Architecture-mean  \\\n",
       "KLD-PP:NS-W:TS-100-BINS                     0.482569   \n",
       "KLD-PP:NS-1000-BINS                         0.484673   \n",
       "SEMANTIC                                    0.513662   \n",
       "KLD-PP:NS-W:SN-1000-BINS                    0.535533   \n",
       "\n",
       "                          Model<br>Architecture-std  Pretraining<br>Data-mean  \\\n",
       "KLD-PP:NS-W:TS-100-BINS                    0.166892                  0.676827   \n",
       "KLD-PP:NS-1000-BINS                        0.170553                  0.670819   \n",
       "SEMANTIC                                   0.187015                  0.624626   \n",
       "KLD-PP:NS-W:SN-1000-BINS                   0.185995                  0.523605   \n",
       "\n",
       "                          Pretraining<br>Data-std  \\\n",
       "KLD-PP:NS-W:TS-100-BINS                  0.191611   \n",
       "KLD-PP:NS-1000-BINS                      0.196274   \n",
       "SEMANTIC                                 0.205416   \n",
       "KLD-PP:NS-W:SN-1000-BINS                 0.189140   \n",
       "\n",
       "                          Augmentation<br>Policy-mean  \\\n",
       "KLD-PP:NS-W:TS-100-BINS                      0.578866   \n",
       "KLD-PP:NS-1000-BINS                          0.571391   \n",
       "SEMANTIC                                     0.496665   \n",
       "KLD-PP:NS-W:SN-1000-BINS                     0.531969   \n",
       "\n",
       "                          Augmentation<br>Policy-std  \\\n",
       "KLD-PP:NS-W:TS-100-BINS                     0.167826   \n",
       "KLD-PP:NS-1000-BINS                         0.160038   \n",
       "SEMANTIC                                    0.182255   \n",
       "KLD-PP:NS-W:SN-1000-BINS                    0.175136   \n",
       "\n",
       "                          Co-Training<br>Data-mean  Co-Training<br>Data-std  \\\n",
       "KLD-PP:NS-W:TS-100-BINS                   0.520081                 0.214720   \n",
       "KLD-PP:NS-1000-BINS                       0.527639                 0.213483   \n",
       "SEMANTIC                                  0.504418                 0.200418   \n",
       "KLD-PP:NS-W:SN-1000-BINS                  0.518352                 0.178784   \n",
       "\n",
       "                              mean  \n",
       "KLD-PP:NS-W:TS-100-BINS   0.564586  \n",
       "KLD-PP:NS-1000-BINS       0.563630  \n",
       "SEMANTIC                  0.534843  \n",
       "KLD-PP:NS-W:SN-1000-BINS  0.527365  "
      ],
      "text/html": [
       "<div>\n",
       "<style scoped>\n",
       "    .dataframe tbody tr th:only-of-type {\n",
       "        vertical-align: middle;\n",
       "    }\n",
       "\n",
       "    .dataframe tbody tr th {\n",
       "        vertical-align: top;\n",
       "    }\n",
       "\n",
       "    .dataframe thead th {\n",
       "        text-align: right;\n",
       "    }\n",
       "</style>\n",
       "<table border=\"1\" class=\"dataframe\">\n",
       "  <thead>\n",
       "    <tr style=\"text-align: right;\">\n",
       "      <th></th>\n",
       "      <th>Model&lt;br&gt;Architecture-mean</th>\n",
       "      <th>Model&lt;br&gt;Architecture-std</th>\n",
       "      <th>Pretraining&lt;br&gt;Data-mean</th>\n",
       "      <th>Pretraining&lt;br&gt;Data-std</th>\n",
       "      <th>Augmentation&lt;br&gt;Policy-mean</th>\n",
       "      <th>Augmentation&lt;br&gt;Policy-std</th>\n",
       "      <th>Co-Training&lt;br&gt;Data-mean</th>\n",
       "      <th>Co-Training&lt;br&gt;Data-std</th>\n",
       "      <th>mean</th>\n",
       "    </tr>\n",
       "  </thead>\n",
       "  <tbody>\n",
       "    <tr>\n",
       "      <th>KLD-PP:NS-W:TS-100-BINS</th>\n",
       "      <td>0.482569</td>\n",
       "      <td>0.166892</td>\n",
       "      <td>0.676827</td>\n",
       "      <td>0.191611</td>\n",
       "      <td>0.578866</td>\n",
       "      <td>0.167826</td>\n",
       "      <td>0.520081</td>\n",
       "      <td>0.214720</td>\n",
       "      <td>0.564586</td>\n",
       "    </tr>\n",
       "    <tr>\n",
       "      <th>KLD-PP:NS-1000-BINS</th>\n",
       "      <td>0.484673</td>\n",
       "      <td>0.170553</td>\n",
       "      <td>0.670819</td>\n",
       "      <td>0.196274</td>\n",
       "      <td>0.571391</td>\n",
       "      <td>0.160038</td>\n",
       "      <td>0.527639</td>\n",
       "      <td>0.213483</td>\n",
       "      <td>0.563630</td>\n",
       "    </tr>\n",
       "    <tr>\n",
       "      <th>SEMANTIC</th>\n",
       "      <td>0.513662</td>\n",
       "      <td>0.187015</td>\n",
       "      <td>0.624626</td>\n",
       "      <td>0.205416</td>\n",
       "      <td>0.496665</td>\n",
       "      <td>0.182255</td>\n",
       "      <td>0.504418</td>\n",
       "      <td>0.200418</td>\n",
       "      <td>0.534843</td>\n",
       "    </tr>\n",
       "    <tr>\n",
       "      <th>KLD-PP:NS-W:SN-1000-BINS</th>\n",
       "      <td>0.535533</td>\n",
       "      <td>0.185995</td>\n",
       "      <td>0.523605</td>\n",
       "      <td>0.189140</td>\n",
       "      <td>0.531969</td>\n",
       "      <td>0.175136</td>\n",
       "      <td>0.518352</td>\n",
       "      <td>0.178784</td>\n",
       "      <td>0.527365</td>\n",
       "    </tr>\n",
       "  </tbody>\n",
       "</table>\n",
       "</div>"
      ]
     },
     "execution_count": 19,
     "metadata": {},
     "output_type": "execute_result"
    }
   ],
   "execution_count": 19
  },
  {
   "metadata": {
    "ExecuteTime": {
     "end_time": "2024-10-10T07:09:09.766676Z",
     "start_time": "2024-10-10T07:09:09.754713Z"
    }
   },
   "cell_type": "code",
   "source": "rank_val - rank_dev",
   "id": "94ecf568405902d3",
   "outputs": [
    {
     "data": {
      "text/plain": [
       "                          Model<br>Architecture-mean  \\\n",
       "KLD-PP:NS-1000-BINS                        -0.053437   \n",
       "KLD-PP:NS-W:SN-1000-BINS                   -0.014494   \n",
       "KLD-PP:NS-W:TS-100-BINS                    -0.067619   \n",
       "SEMANTIC                                   -0.004682   \n",
       "\n",
       "                          Model<br>Architecture-std  Pretraining<br>Data-mean  \\\n",
       "KLD-PP:NS-1000-BINS                        0.019564                  0.044759   \n",
       "KLD-PP:NS-W:SN-1000-BINS                   0.018242                 -0.106816   \n",
       "KLD-PP:NS-W:TS-100-BINS                    0.026655                  0.069553   \n",
       "SEMANTIC                                  -0.000246                  0.031282   \n",
       "\n",
       "                          Pretraining<br>Data-std  \\\n",
       "KLD-PP:NS-1000-BINS                      0.026309   \n",
       "KLD-PP:NS-W:SN-1000-BINS                 0.031367   \n",
       "KLD-PP:NS-W:TS-100-BINS                  0.030748   \n",
       "SEMANTIC                                 0.052233   \n",
       "\n",
       "                          Augmentation<br>Policy-mean  \\\n",
       "KLD-PP:NS-1000-BINS                         -0.037063   \n",
       "KLD-PP:NS-W:SN-1000-BINS                     0.007559   \n",
       "KLD-PP:NS-W:TS-100-BINS                     -0.027441   \n",
       "SEMANTIC                                     0.024577   \n",
       "\n",
       "                          Augmentation<br>Policy-std  \\\n",
       "KLD-PP:NS-1000-BINS                        -0.004422   \n",
       "KLD-PP:NS-W:SN-1000-BINS                    0.002969   \n",
       "KLD-PP:NS-W:TS-100-BINS                     0.001949   \n",
       "SEMANTIC                                    0.011256   \n",
       "\n",
       "                          Co-Training<br>Data-mean  Co-Training<br>Data-std  \\\n",
       "KLD-PP:NS-1000-BINS                      -0.004218                 0.046403   \n",
       "KLD-PP:NS-W:SN-1000-BINS                 -0.023059                 0.031042   \n",
       "KLD-PP:NS-W:TS-100-BINS                  -0.023853                 0.051540   \n",
       "SEMANTIC                                 -0.007860                 0.021099   \n",
       "\n",
       "                              mean  \n",
       "KLD-PP:NS-1000-BINS      -0.012490  \n",
       "KLD-PP:NS-W:SN-1000-BINS -0.034203  \n",
       "KLD-PP:NS-W:TS-100-BINS  -0.012340  \n",
       "SEMANTIC                  0.010829  "
      ],
      "text/html": [
       "<div>\n",
       "<style scoped>\n",
       "    .dataframe tbody tr th:only-of-type {\n",
       "        vertical-align: middle;\n",
       "    }\n",
       "\n",
       "    .dataframe tbody tr th {\n",
       "        vertical-align: top;\n",
       "    }\n",
       "\n",
       "    .dataframe thead th {\n",
       "        text-align: right;\n",
       "    }\n",
       "</style>\n",
       "<table border=\"1\" class=\"dataframe\">\n",
       "  <thead>\n",
       "    <tr style=\"text-align: right;\">\n",
       "      <th></th>\n",
       "      <th>Model&lt;br&gt;Architecture-mean</th>\n",
       "      <th>Model&lt;br&gt;Architecture-std</th>\n",
       "      <th>Pretraining&lt;br&gt;Data-mean</th>\n",
       "      <th>Pretraining&lt;br&gt;Data-std</th>\n",
       "      <th>Augmentation&lt;br&gt;Policy-mean</th>\n",
       "      <th>Augmentation&lt;br&gt;Policy-std</th>\n",
       "      <th>Co-Training&lt;br&gt;Data-mean</th>\n",
       "      <th>Co-Training&lt;br&gt;Data-std</th>\n",
       "      <th>mean</th>\n",
       "    </tr>\n",
       "  </thead>\n",
       "  <tbody>\n",
       "    <tr>\n",
       "      <th>KLD-PP:NS-1000-BINS</th>\n",
       "      <td>-0.053437</td>\n",
       "      <td>0.019564</td>\n",
       "      <td>0.044759</td>\n",
       "      <td>0.026309</td>\n",
       "      <td>-0.037063</td>\n",
       "      <td>-0.004422</td>\n",
       "      <td>-0.004218</td>\n",
       "      <td>0.046403</td>\n",
       "      <td>-0.012490</td>\n",
       "    </tr>\n",
       "    <tr>\n",
       "      <th>KLD-PP:NS-W:SN-1000-BINS</th>\n",
       "      <td>-0.014494</td>\n",
       "      <td>0.018242</td>\n",
       "      <td>-0.106816</td>\n",
       "      <td>0.031367</td>\n",
       "      <td>0.007559</td>\n",
       "      <td>0.002969</td>\n",
       "      <td>-0.023059</td>\n",
       "      <td>0.031042</td>\n",
       "      <td>-0.034203</td>\n",
       "    </tr>\n",
       "    <tr>\n",
       "      <th>KLD-PP:NS-W:TS-100-BINS</th>\n",
       "      <td>-0.067619</td>\n",
       "      <td>0.026655</td>\n",
       "      <td>0.069553</td>\n",
       "      <td>0.030748</td>\n",
       "      <td>-0.027441</td>\n",
       "      <td>0.001949</td>\n",
       "      <td>-0.023853</td>\n",
       "      <td>0.051540</td>\n",
       "      <td>-0.012340</td>\n",
       "    </tr>\n",
       "    <tr>\n",
       "      <th>SEMANTIC</th>\n",
       "      <td>-0.004682</td>\n",
       "      <td>-0.000246</td>\n",
       "      <td>0.031282</td>\n",
       "      <td>0.052233</td>\n",
       "      <td>0.024577</td>\n",
       "      <td>0.011256</td>\n",
       "      <td>-0.007860</td>\n",
       "      <td>0.021099</td>\n",
       "      <td>0.010829</td>\n",
       "    </tr>\n",
       "  </tbody>\n",
       "</table>\n",
       "</div>"
      ]
     },
     "execution_count": 20,
     "metadata": {},
     "output_type": "execute_result"
    }
   ],
   "execution_count": 20
  },
  {
   "metadata": {},
   "cell_type": "markdown",
   "source": "The percentile has reduced for model architecture transfer, improved for pretraining (except the source weighted bKLD variant), augmentation policy transfer only improved for manual task selection and for co-training has reduced slightly.",
   "id": "6af9006c43273db6"
  },
  {
   "metadata": {
    "ExecuteTime": {
     "end_time": "2024-10-10T07:20:40.263782Z",
     "start_time": "2024-10-10T07:20:40.238470Z"
    }
   },
   "cell_type": "code",
   "source": [
    "weightedtau_dev = get_absolute_meta_values(meta_metric='weightedtau', validation=False)\n",
    "weightedtau_dev"
   ],
   "id": "988687bc360c9ef",
   "outputs": [
    {
     "data": {
      "text/plain": [
       "                          Model<br>Architecture-mean  \\\n",
       "KLD-PP:NS-W:TS-100-BINS                     0.020980   \n",
       "KLD-PP:NS-1000-BINS                         0.056977   \n",
       "KLD-PP:NS-W:SN-1000-BINS                    0.011972   \n",
       "SEMANTIC                                   -0.037975   \n",
       "\n",
       "                          Model<br>Architecture-std  Pretraining<br>Data-mean  \\\n",
       "KLD-PP:NS-W:TS-100-BINS                    0.210719                  0.092076   \n",
       "KLD-PP:NS-1000-BINS                        0.206111                  0.033058   \n",
       "KLD-PP:NS-W:SN-1000-BINS                   0.246552                  0.239683   \n",
       "SEMANTIC                                   0.269799                  0.094596   \n",
       "\n",
       "                          Pretraining<br>Data-std  \\\n",
       "KLD-PP:NS-W:TS-100-BINS                  0.233045   \n",
       "KLD-PP:NS-1000-BINS                      0.241982   \n",
       "KLD-PP:NS-W:SN-1000-BINS                 0.239278   \n",
       "SEMANTIC                                 0.222644   \n",
       "\n",
       "                          Augmentation<br>Policy-mean  \\\n",
       "KLD-PP:NS-W:TS-100-BINS                      0.178862   \n",
       "KLD-PP:NS-1000-BINS                          0.156944   \n",
       "KLD-PP:NS-W:SN-1000-BINS                     0.007186   \n",
       "SEMANTIC                                    -0.059932   \n",
       "\n",
       "                          Augmentation<br>Policy-std  \\\n",
       "KLD-PP:NS-W:TS-100-BINS                     0.212012   \n",
       "KLD-PP:NS-1000-BINS                         0.191699   \n",
       "KLD-PP:NS-W:SN-1000-BINS                    0.188323   \n",
       "SEMANTIC                                    0.231933   \n",
       "\n",
       "                          Co-Training<br>Data-mean  Co-Training<br>Data-std  \\\n",
       "KLD-PP:NS-W:TS-100-BINS                  -0.009524                 0.181079   \n",
       "KLD-PP:NS-1000-BINS                       0.005589                 0.202676   \n",
       "KLD-PP:NS-W:SN-1000-BINS                 -0.019003                 0.239843   \n",
       "SEMANTIC                                  0.027682                 0.232964   \n",
       "\n",
       "                              mean  \n",
       "KLD-PP:NS-W:TS-100-BINS   0.070599  \n",
       "KLD-PP:NS-1000-BINS       0.063142  \n",
       "KLD-PP:NS-W:SN-1000-BINS  0.059960  \n",
       "SEMANTIC                  0.006093  "
      ],
      "text/html": [
       "<div>\n",
       "<style scoped>\n",
       "    .dataframe tbody tr th:only-of-type {\n",
       "        vertical-align: middle;\n",
       "    }\n",
       "\n",
       "    .dataframe tbody tr th {\n",
       "        vertical-align: top;\n",
       "    }\n",
       "\n",
       "    .dataframe thead th {\n",
       "        text-align: right;\n",
       "    }\n",
       "</style>\n",
       "<table border=\"1\" class=\"dataframe\">\n",
       "  <thead>\n",
       "    <tr style=\"text-align: right;\">\n",
       "      <th></th>\n",
       "      <th>Model&lt;br&gt;Architecture-mean</th>\n",
       "      <th>Model&lt;br&gt;Architecture-std</th>\n",
       "      <th>Pretraining&lt;br&gt;Data-mean</th>\n",
       "      <th>Pretraining&lt;br&gt;Data-std</th>\n",
       "      <th>Augmentation&lt;br&gt;Policy-mean</th>\n",
       "      <th>Augmentation&lt;br&gt;Policy-std</th>\n",
       "      <th>Co-Training&lt;br&gt;Data-mean</th>\n",
       "      <th>Co-Training&lt;br&gt;Data-std</th>\n",
       "      <th>mean</th>\n",
       "    </tr>\n",
       "  </thead>\n",
       "  <tbody>\n",
       "    <tr>\n",
       "      <th>KLD-PP:NS-W:TS-100-BINS</th>\n",
       "      <td>0.020980</td>\n",
       "      <td>0.210719</td>\n",
       "      <td>0.092076</td>\n",
       "      <td>0.233045</td>\n",
       "      <td>0.178862</td>\n",
       "      <td>0.212012</td>\n",
       "      <td>-0.009524</td>\n",
       "      <td>0.181079</td>\n",
       "      <td>0.070599</td>\n",
       "    </tr>\n",
       "    <tr>\n",
       "      <th>KLD-PP:NS-1000-BINS</th>\n",
       "      <td>0.056977</td>\n",
       "      <td>0.206111</td>\n",
       "      <td>0.033058</td>\n",
       "      <td>0.241982</td>\n",
       "      <td>0.156944</td>\n",
       "      <td>0.191699</td>\n",
       "      <td>0.005589</td>\n",
       "      <td>0.202676</td>\n",
       "      <td>0.063142</td>\n",
       "    </tr>\n",
       "    <tr>\n",
       "      <th>KLD-PP:NS-W:SN-1000-BINS</th>\n",
       "      <td>0.011972</td>\n",
       "      <td>0.246552</td>\n",
       "      <td>0.239683</td>\n",
       "      <td>0.239278</td>\n",
       "      <td>0.007186</td>\n",
       "      <td>0.188323</td>\n",
       "      <td>-0.019003</td>\n",
       "      <td>0.239843</td>\n",
       "      <td>0.059960</td>\n",
       "    </tr>\n",
       "    <tr>\n",
       "      <th>SEMANTIC</th>\n",
       "      <td>-0.037975</td>\n",
       "      <td>0.269799</td>\n",
       "      <td>0.094596</td>\n",
       "      <td>0.222644</td>\n",
       "      <td>-0.059932</td>\n",
       "      <td>0.231933</td>\n",
       "      <td>0.027682</td>\n",
       "      <td>0.232964</td>\n",
       "      <td>0.006093</td>\n",
       "    </tr>\n",
       "  </tbody>\n",
       "</table>\n",
       "</div>"
      ]
     },
     "execution_count": 21,
     "metadata": {},
     "output_type": "execute_result"
    }
   ],
   "execution_count": 21
  },
  {
   "metadata": {
    "ExecuteTime": {
     "end_time": "2024-10-10T07:20:57.781242Z",
     "start_time": "2024-10-10T07:20:57.753712Z"
    }
   },
   "cell_type": "code",
   "source": [
    "weightedtau_val = get_absolute_meta_values(meta_metric='weightedtau', validation=True)\n",
    "weightedtau_val"
   ],
   "id": "4df9283d978db39",
   "outputs": [
    {
     "data": {
      "text/plain": [
       "                          Model<br>Architecture-mean  \\\n",
       "KLD-PP:NS-W:TS-100-BINS                     0.028530   \n",
       "KLD-PP:NS-1000-BINS                         0.025797   \n",
       "KLD-PP:NS-W:SN-1000-BINS                    0.027054   \n",
       "SEMANTIC                                   -0.036082   \n",
       "\n",
       "                          Model<br>Architecture-std  Pretraining<br>Data-mean  \\\n",
       "KLD-PP:NS-W:TS-100-BINS                    0.133149                  0.149676   \n",
       "KLD-PP:NS-1000-BINS                        0.131113                  0.146882   \n",
       "KLD-PP:NS-W:SN-1000-BINS                   0.162731                 -0.001078   \n",
       "SEMANTIC                                   0.156813                  0.103471   \n",
       "\n",
       "                          Pretraining<br>Data-std  \\\n",
       "KLD-PP:NS-W:TS-100-BINS                  0.152630   \n",
       "KLD-PP:NS-1000-BINS                      0.153107   \n",
       "KLD-PP:NS-W:SN-1000-BINS                 0.222002   \n",
       "SEMANTIC                                 0.200676   \n",
       "\n",
       "                          Augmentation<br>Policy-mean  \\\n",
       "KLD-PP:NS-W:TS-100-BINS                      0.148566   \n",
       "KLD-PP:NS-1000-BINS                          0.144505   \n",
       "KLD-PP:NS-W:SN-1000-BINS                     0.027341   \n",
       "SEMANTIC                                    -0.064462   \n",
       "\n",
       "                          Augmentation<br>Policy-std  \\\n",
       "KLD-PP:NS-W:TS-100-BINS                     0.205950   \n",
       "KLD-PP:NS-1000-BINS                         0.201323   \n",
       "KLD-PP:NS-W:SN-1000-BINS                    0.207979   \n",
       "SEMANTIC                                    0.144397   \n",
       "\n",
       "                          Co-Training<br>Data-mean  Co-Training<br>Data-std  \\\n",
       "KLD-PP:NS-W:TS-100-BINS                  -0.008998                 0.190978   \n",
       "KLD-PP:NS-1000-BINS                      -0.013835                 0.192682   \n",
       "KLD-PP:NS-W:SN-1000-BINS                  0.020443                 0.176301   \n",
       "SEMANTIC                                 -0.044329                 0.175984   \n",
       "\n",
       "                              mean  \n",
       "KLD-PP:NS-W:TS-100-BINS   0.079444  \n",
       "KLD-PP:NS-1000-BINS       0.075837  \n",
       "KLD-PP:NS-W:SN-1000-BINS  0.018440  \n",
       "SEMANTIC                 -0.010350  "
      ],
      "text/html": [
       "<div>\n",
       "<style scoped>\n",
       "    .dataframe tbody tr th:only-of-type {\n",
       "        vertical-align: middle;\n",
       "    }\n",
       "\n",
       "    .dataframe tbody tr th {\n",
       "        vertical-align: top;\n",
       "    }\n",
       "\n",
       "    .dataframe thead th {\n",
       "        text-align: right;\n",
       "    }\n",
       "</style>\n",
       "<table border=\"1\" class=\"dataframe\">\n",
       "  <thead>\n",
       "    <tr style=\"text-align: right;\">\n",
       "      <th></th>\n",
       "      <th>Model&lt;br&gt;Architecture-mean</th>\n",
       "      <th>Model&lt;br&gt;Architecture-std</th>\n",
       "      <th>Pretraining&lt;br&gt;Data-mean</th>\n",
       "      <th>Pretraining&lt;br&gt;Data-std</th>\n",
       "      <th>Augmentation&lt;br&gt;Policy-mean</th>\n",
       "      <th>Augmentation&lt;br&gt;Policy-std</th>\n",
       "      <th>Co-Training&lt;br&gt;Data-mean</th>\n",
       "      <th>Co-Training&lt;br&gt;Data-std</th>\n",
       "      <th>mean</th>\n",
       "    </tr>\n",
       "  </thead>\n",
       "  <tbody>\n",
       "    <tr>\n",
       "      <th>KLD-PP:NS-W:TS-100-BINS</th>\n",
       "      <td>0.028530</td>\n",
       "      <td>0.133149</td>\n",
       "      <td>0.149676</td>\n",
       "      <td>0.152630</td>\n",
       "      <td>0.148566</td>\n",
       "      <td>0.205950</td>\n",
       "      <td>-0.008998</td>\n",
       "      <td>0.190978</td>\n",
       "      <td>0.079444</td>\n",
       "    </tr>\n",
       "    <tr>\n",
       "      <th>KLD-PP:NS-1000-BINS</th>\n",
       "      <td>0.025797</td>\n",
       "      <td>0.131113</td>\n",
       "      <td>0.146882</td>\n",
       "      <td>0.153107</td>\n",
       "      <td>0.144505</td>\n",
       "      <td>0.201323</td>\n",
       "      <td>-0.013835</td>\n",
       "      <td>0.192682</td>\n",
       "      <td>0.075837</td>\n",
       "    </tr>\n",
       "    <tr>\n",
       "      <th>KLD-PP:NS-W:SN-1000-BINS</th>\n",
       "      <td>0.027054</td>\n",
       "      <td>0.162731</td>\n",
       "      <td>-0.001078</td>\n",
       "      <td>0.222002</td>\n",
       "      <td>0.027341</td>\n",
       "      <td>0.207979</td>\n",
       "      <td>0.020443</td>\n",
       "      <td>0.176301</td>\n",
       "      <td>0.018440</td>\n",
       "    </tr>\n",
       "    <tr>\n",
       "      <th>SEMANTIC</th>\n",
       "      <td>-0.036082</td>\n",
       "      <td>0.156813</td>\n",
       "      <td>0.103471</td>\n",
       "      <td>0.200676</td>\n",
       "      <td>-0.064462</td>\n",
       "      <td>0.144397</td>\n",
       "      <td>-0.044329</td>\n",
       "      <td>0.175984</td>\n",
       "      <td>-0.010350</td>\n",
       "    </tr>\n",
       "  </tbody>\n",
       "</table>\n",
       "</div>"
      ]
     },
     "execution_count": 22,
     "metadata": {},
     "output_type": "execute_result"
    }
   ],
   "execution_count": 22
  },
  {
   "metadata": {
    "ExecuteTime": {
     "end_time": "2024-10-10T07:21:07.046331Z",
     "start_time": "2024-10-10T07:21:07.034540Z"
    }
   },
   "cell_type": "code",
   "source": "weightedtau_val - weightedtau_dev",
   "id": "9e05e71800b5f452",
   "outputs": [
    {
     "data": {
      "text/plain": [
       "                          Model<br>Architecture-mean  \\\n",
       "KLD-PP:NS-W:TS-100-BINS                     0.007550   \n",
       "KLD-PP:NS-1000-BINS                        -0.031180   \n",
       "KLD-PP:NS-W:SN-1000-BINS                    0.015082   \n",
       "SEMANTIC                                    0.001893   \n",
       "\n",
       "                          Model<br>Architecture-std  Pretraining<br>Data-mean  \\\n",
       "KLD-PP:NS-W:TS-100-BINS                   -0.077569                  0.057600   \n",
       "KLD-PP:NS-1000-BINS                       -0.074998                  0.113824   \n",
       "KLD-PP:NS-W:SN-1000-BINS                  -0.083821                 -0.240761   \n",
       "SEMANTIC                                  -0.112986                  0.008876   \n",
       "\n",
       "                          Pretraining<br>Data-std  \\\n",
       "KLD-PP:NS-W:TS-100-BINS                 -0.080415   \n",
       "KLD-PP:NS-1000-BINS                     -0.088876   \n",
       "KLD-PP:NS-W:SN-1000-BINS                -0.017276   \n",
       "SEMANTIC                                -0.021968   \n",
       "\n",
       "                          Augmentation<br>Policy-mean  \\\n",
       "KLD-PP:NS-W:TS-100-BINS                     -0.030296   \n",
       "KLD-PP:NS-1000-BINS                         -0.012439   \n",
       "KLD-PP:NS-W:SN-1000-BINS                     0.020155   \n",
       "SEMANTIC                                    -0.004530   \n",
       "\n",
       "                          Augmentation<br>Policy-std  \\\n",
       "KLD-PP:NS-W:TS-100-BINS                    -0.006062   \n",
       "KLD-PP:NS-1000-BINS                         0.009624   \n",
       "KLD-PP:NS-W:SN-1000-BINS                    0.019656   \n",
       "SEMANTIC                                   -0.087536   \n",
       "\n",
       "                          Co-Training<br>Data-mean  Co-Training<br>Data-std  \\\n",
       "KLD-PP:NS-W:TS-100-BINS                   0.000526                 0.009899   \n",
       "KLD-PP:NS-1000-BINS                      -0.019424                -0.009994   \n",
       "KLD-PP:NS-W:SN-1000-BINS                  0.039446                -0.063541   \n",
       "SEMANTIC                                 -0.072010                -0.056980   \n",
       "\n",
       "                              mean  \n",
       "KLD-PP:NS-W:TS-100-BINS   0.008845  \n",
       "KLD-PP:NS-1000-BINS       0.012695  \n",
       "KLD-PP:NS-W:SN-1000-BINS -0.041519  \n",
       "SEMANTIC                 -0.016443  "
      ],
      "text/html": [
       "<div>\n",
       "<style scoped>\n",
       "    .dataframe tbody tr th:only-of-type {\n",
       "        vertical-align: middle;\n",
       "    }\n",
       "\n",
       "    .dataframe tbody tr th {\n",
       "        vertical-align: top;\n",
       "    }\n",
       "\n",
       "    .dataframe thead th {\n",
       "        text-align: right;\n",
       "    }\n",
       "</style>\n",
       "<table border=\"1\" class=\"dataframe\">\n",
       "  <thead>\n",
       "    <tr style=\"text-align: right;\">\n",
       "      <th></th>\n",
       "      <th>Model&lt;br&gt;Architecture-mean</th>\n",
       "      <th>Model&lt;br&gt;Architecture-std</th>\n",
       "      <th>Pretraining&lt;br&gt;Data-mean</th>\n",
       "      <th>Pretraining&lt;br&gt;Data-std</th>\n",
       "      <th>Augmentation&lt;br&gt;Policy-mean</th>\n",
       "      <th>Augmentation&lt;br&gt;Policy-std</th>\n",
       "      <th>Co-Training&lt;br&gt;Data-mean</th>\n",
       "      <th>Co-Training&lt;br&gt;Data-std</th>\n",
       "      <th>mean</th>\n",
       "    </tr>\n",
       "  </thead>\n",
       "  <tbody>\n",
       "    <tr>\n",
       "      <th>KLD-PP:NS-W:TS-100-BINS</th>\n",
       "      <td>0.007550</td>\n",
       "      <td>-0.077569</td>\n",
       "      <td>0.057600</td>\n",
       "      <td>-0.080415</td>\n",
       "      <td>-0.030296</td>\n",
       "      <td>-0.006062</td>\n",
       "      <td>0.000526</td>\n",
       "      <td>0.009899</td>\n",
       "      <td>0.008845</td>\n",
       "    </tr>\n",
       "    <tr>\n",
       "      <th>KLD-PP:NS-1000-BINS</th>\n",
       "      <td>-0.031180</td>\n",
       "      <td>-0.074998</td>\n",
       "      <td>0.113824</td>\n",
       "      <td>-0.088876</td>\n",
       "      <td>-0.012439</td>\n",
       "      <td>0.009624</td>\n",
       "      <td>-0.019424</td>\n",
       "      <td>-0.009994</td>\n",
       "      <td>0.012695</td>\n",
       "    </tr>\n",
       "    <tr>\n",
       "      <th>KLD-PP:NS-W:SN-1000-BINS</th>\n",
       "      <td>0.015082</td>\n",
       "      <td>-0.083821</td>\n",
       "      <td>-0.240761</td>\n",
       "      <td>-0.017276</td>\n",
       "      <td>0.020155</td>\n",
       "      <td>0.019656</td>\n",
       "      <td>0.039446</td>\n",
       "      <td>-0.063541</td>\n",
       "      <td>-0.041519</td>\n",
       "    </tr>\n",
       "    <tr>\n",
       "      <th>SEMANTIC</th>\n",
       "      <td>0.001893</td>\n",
       "      <td>-0.112986</td>\n",
       "      <td>0.008876</td>\n",
       "      <td>-0.021968</td>\n",
       "      <td>-0.004530</td>\n",
       "      <td>-0.087536</td>\n",
       "      <td>-0.072010</td>\n",
       "      <td>-0.056980</td>\n",
       "      <td>-0.016443</td>\n",
       "    </tr>\n",
       "  </tbody>\n",
       "</table>\n",
       "</div>"
      ]
     },
     "execution_count": 23,
     "metadata": {},
     "output_type": "execute_result"
    }
   ],
   "execution_count": 23
  },
  {
   "metadata": {
    "ExecuteTime": {
     "end_time": "2024-10-10T07:23:00.827821Z",
     "start_time": "2024-10-10T07:23:00.805168Z"
    }
   },
   "cell_type": "code",
   "source": [
    "gain_dev = get_absolute_meta_values('gain', validation=False)\n",
    "gain_dev"
   ],
   "id": "5dfee67100b6bb20",
   "outputs": [
    {
     "data": {
      "text/plain": [
       "                          Model<br>Architecture-mean  \\\n",
       "KLD-PP:NS-W:SN-1000-BINS                    0.797101   \n",
       "KLD-PP:NS-W:TS-100-BINS                     0.768116   \n",
       "KLD-PP:NS-1000-BINS                         0.746377   \n",
       "SEMANTIC                                    0.782609   \n",
       "\n",
       "                          Model<br>Architecture-std  Pretraining<br>Data-mean  \\\n",
       "KLD-PP:NS-W:SN-1000-BINS                   0.276470                  0.376812   \n",
       "KLD-PP:NS-W:TS-100-BINS                    0.313243                  0.297101   \n",
       "KLD-PP:NS-1000-BINS                        0.338368                  0.297101   \n",
       "SEMANTIC                                   0.291589                  0.318841   \n",
       "\n",
       "                          Pretraining<br>Data-std  \\\n",
       "KLD-PP:NS-W:SN-1000-BINS                 0.326664   \n",
       "KLD-PP:NS-W:TS-100-BINS                  0.331314   \n",
       "KLD-PP:NS-1000-BINS                      0.308147   \n",
       "SEMANTIC                                 0.313928   \n",
       "\n",
       "                          Augmentation<br>Policy-mean  \\\n",
       "KLD-PP:NS-W:SN-1000-BINS                     0.855072   \n",
       "KLD-PP:NS-W:TS-100-BINS                      0.840580   \n",
       "KLD-PP:NS-1000-BINS                          0.840580   \n",
       "SEMANTIC                                     0.811594   \n",
       "\n",
       "                          Augmentation<br>Policy-std  \\\n",
       "KLD-PP:NS-W:SN-1000-BINS                    0.311525   \n",
       "KLD-PP:NS-W:TS-100-BINS                     0.295974   \n",
       "KLD-PP:NS-1000-BINS                         0.304202   \n",
       "SEMANTIC                                    0.341761   \n",
       "\n",
       "                          Co-Training<br>Data-mean  Co-Training<br>Data-std  \\\n",
       "KLD-PP:NS-W:SN-1000-BINS                  0.775362                 0.314696   \n",
       "KLD-PP:NS-W:TS-100-BINS                   0.797101                 0.293790   \n",
       "KLD-PP:NS-1000-BINS                       0.789855                 0.317075   \n",
       "SEMANTIC                                  0.746377                 0.315718   \n",
       "\n",
       "                              mean  \n",
       "KLD-PP:NS-W:SN-1000-BINS  0.701087  \n",
       "KLD-PP:NS-W:TS-100-BINS   0.675725  \n",
       "KLD-PP:NS-1000-BINS       0.668478  \n",
       "SEMANTIC                  0.664855  "
      ],
      "text/html": [
       "<div>\n",
       "<style scoped>\n",
       "    .dataframe tbody tr th:only-of-type {\n",
       "        vertical-align: middle;\n",
       "    }\n",
       "\n",
       "    .dataframe tbody tr th {\n",
       "        vertical-align: top;\n",
       "    }\n",
       "\n",
       "    .dataframe thead th {\n",
       "        text-align: right;\n",
       "    }\n",
       "</style>\n",
       "<table border=\"1\" class=\"dataframe\">\n",
       "  <thead>\n",
       "    <tr style=\"text-align: right;\">\n",
       "      <th></th>\n",
       "      <th>Model&lt;br&gt;Architecture-mean</th>\n",
       "      <th>Model&lt;br&gt;Architecture-std</th>\n",
       "      <th>Pretraining&lt;br&gt;Data-mean</th>\n",
       "      <th>Pretraining&lt;br&gt;Data-std</th>\n",
       "      <th>Augmentation&lt;br&gt;Policy-mean</th>\n",
       "      <th>Augmentation&lt;br&gt;Policy-std</th>\n",
       "      <th>Co-Training&lt;br&gt;Data-mean</th>\n",
       "      <th>Co-Training&lt;br&gt;Data-std</th>\n",
       "      <th>mean</th>\n",
       "    </tr>\n",
       "  </thead>\n",
       "  <tbody>\n",
       "    <tr>\n",
       "      <th>KLD-PP:NS-W:SN-1000-BINS</th>\n",
       "      <td>0.797101</td>\n",
       "      <td>0.276470</td>\n",
       "      <td>0.376812</td>\n",
       "      <td>0.326664</td>\n",
       "      <td>0.855072</td>\n",
       "      <td>0.311525</td>\n",
       "      <td>0.775362</td>\n",
       "      <td>0.314696</td>\n",
       "      <td>0.701087</td>\n",
       "    </tr>\n",
       "    <tr>\n",
       "      <th>KLD-PP:NS-W:TS-100-BINS</th>\n",
       "      <td>0.768116</td>\n",
       "      <td>0.313243</td>\n",
       "      <td>0.297101</td>\n",
       "      <td>0.331314</td>\n",
       "      <td>0.840580</td>\n",
       "      <td>0.295974</td>\n",
       "      <td>0.797101</td>\n",
       "      <td>0.293790</td>\n",
       "      <td>0.675725</td>\n",
       "    </tr>\n",
       "    <tr>\n",
       "      <th>KLD-PP:NS-1000-BINS</th>\n",
       "      <td>0.746377</td>\n",
       "      <td>0.338368</td>\n",
       "      <td>0.297101</td>\n",
       "      <td>0.308147</td>\n",
       "      <td>0.840580</td>\n",
       "      <td>0.304202</td>\n",
       "      <td>0.789855</td>\n",
       "      <td>0.317075</td>\n",
       "      <td>0.668478</td>\n",
       "    </tr>\n",
       "    <tr>\n",
       "      <th>SEMANTIC</th>\n",
       "      <td>0.782609</td>\n",
       "      <td>0.291589</td>\n",
       "      <td>0.318841</td>\n",
       "      <td>0.313928</td>\n",
       "      <td>0.811594</td>\n",
       "      <td>0.341761</td>\n",
       "      <td>0.746377</td>\n",
       "      <td>0.315718</td>\n",
       "      <td>0.664855</td>\n",
       "    </tr>\n",
       "  </tbody>\n",
       "</table>\n",
       "</div>"
      ]
     },
     "execution_count": 25,
     "metadata": {},
     "output_type": "execute_result"
    }
   ],
   "execution_count": 25
  },
  {
   "metadata": {
    "ExecuteTime": {
     "end_time": "2024-10-10T07:23:20.165661Z",
     "start_time": "2024-10-10T07:23:20.140881Z"
    }
   },
   "cell_type": "code",
   "source": [
    "gain_val = get_absolute_meta_values('gain', validation=True)\n",
    "gain_val"
   ],
   "id": "28b47a9ce370d5e2",
   "outputs": [
    {
     "data": {
      "text/plain": [
       "                          Model<br>Architecture-mean  \\\n",
       "KLD-PP:NS-W:TS-100-BINS                     0.651163   \n",
       "KLD-PP:NS-1000-BINS                         0.651163   \n",
       "KLD-PP:NS-W:SN-1000-BINS                    0.717054   \n",
       "SEMANTIC                                    0.674419   \n",
       "\n",
       "                          Model<br>Architecture-std  Pretraining<br>Data-mean  \\\n",
       "KLD-PP:NS-W:TS-100-BINS                    0.399041                  0.368217   \n",
       "KLD-PP:NS-1000-BINS                        0.402304                  0.372093   \n",
       "KLD-PP:NS-W:SN-1000-BINS                   0.341153                  0.263566   \n",
       "SEMANTIC                                   0.392667                  0.333333   \n",
       "\n",
       "                          Pretraining<br>Data-std  \\\n",
       "KLD-PP:NS-W:TS-100-BINS                  0.392841   \n",
       "KLD-PP:NS-1000-BINS                      0.397438   \n",
       "KLD-PP:NS-W:SN-1000-BINS                 0.383026   \n",
       "SEMANTIC                                 0.389402   \n",
       "\n",
       "                          Augmentation<br>Policy-mean  \\\n",
       "KLD-PP:NS-W:TS-100-BINS                      0.647287   \n",
       "KLD-PP:NS-1000-BINS                          0.635659   \n",
       "KLD-PP:NS-W:SN-1000-BINS                     0.643411   \n",
       "SEMANTIC                                     0.569767   \n",
       "\n",
       "                          Augmentation<br>Policy-std  \\\n",
       "KLD-PP:NS-W:TS-100-BINS                     0.400505   \n",
       "KLD-PP:NS-1000-BINS                         0.398126   \n",
       "KLD-PP:NS-W:SN-1000-BINS                    0.420988   \n",
       "SEMANTIC                                    0.405409   \n",
       "\n",
       "                          Co-Training<br>Data-mean  Co-Training<br>Data-std  \\\n",
       "KLD-PP:NS-W:TS-100-BINS                   0.658915                 0.375654   \n",
       "KLD-PP:NS-1000-BINS                       0.658915                 0.382550   \n",
       "KLD-PP:NS-W:SN-1000-BINS                  0.678295                 0.397534   \n",
       "SEMANTIC                                  0.670543                 0.366913   \n",
       "\n",
       "                              mean  \n",
       "KLD-PP:NS-W:TS-100-BINS   0.581395  \n",
       "KLD-PP:NS-1000-BINS       0.579457  \n",
       "KLD-PP:NS-W:SN-1000-BINS  0.575581  \n",
       "SEMANTIC                  0.562016  "
      ],
      "text/html": [
       "<div>\n",
       "<style scoped>\n",
       "    .dataframe tbody tr th:only-of-type {\n",
       "        vertical-align: middle;\n",
       "    }\n",
       "\n",
       "    .dataframe tbody tr th {\n",
       "        vertical-align: top;\n",
       "    }\n",
       "\n",
       "    .dataframe thead th {\n",
       "        text-align: right;\n",
       "    }\n",
       "</style>\n",
       "<table border=\"1\" class=\"dataframe\">\n",
       "  <thead>\n",
       "    <tr style=\"text-align: right;\">\n",
       "      <th></th>\n",
       "      <th>Model&lt;br&gt;Architecture-mean</th>\n",
       "      <th>Model&lt;br&gt;Architecture-std</th>\n",
       "      <th>Pretraining&lt;br&gt;Data-mean</th>\n",
       "      <th>Pretraining&lt;br&gt;Data-std</th>\n",
       "      <th>Augmentation&lt;br&gt;Policy-mean</th>\n",
       "      <th>Augmentation&lt;br&gt;Policy-std</th>\n",
       "      <th>Co-Training&lt;br&gt;Data-mean</th>\n",
       "      <th>Co-Training&lt;br&gt;Data-std</th>\n",
       "      <th>mean</th>\n",
       "    </tr>\n",
       "  </thead>\n",
       "  <tbody>\n",
       "    <tr>\n",
       "      <th>KLD-PP:NS-W:TS-100-BINS</th>\n",
       "      <td>0.651163</td>\n",
       "      <td>0.399041</td>\n",
       "      <td>0.368217</td>\n",
       "      <td>0.392841</td>\n",
       "      <td>0.647287</td>\n",
       "      <td>0.400505</td>\n",
       "      <td>0.658915</td>\n",
       "      <td>0.375654</td>\n",
       "      <td>0.581395</td>\n",
       "    </tr>\n",
       "    <tr>\n",
       "      <th>KLD-PP:NS-1000-BINS</th>\n",
       "      <td>0.651163</td>\n",
       "      <td>0.402304</td>\n",
       "      <td>0.372093</td>\n",
       "      <td>0.397438</td>\n",
       "      <td>0.635659</td>\n",
       "      <td>0.398126</td>\n",
       "      <td>0.658915</td>\n",
       "      <td>0.382550</td>\n",
       "      <td>0.579457</td>\n",
       "    </tr>\n",
       "    <tr>\n",
       "      <th>KLD-PP:NS-W:SN-1000-BINS</th>\n",
       "      <td>0.717054</td>\n",
       "      <td>0.341153</td>\n",
       "      <td>0.263566</td>\n",
       "      <td>0.383026</td>\n",
       "      <td>0.643411</td>\n",
       "      <td>0.420988</td>\n",
       "      <td>0.678295</td>\n",
       "      <td>0.397534</td>\n",
       "      <td>0.575581</td>\n",
       "    </tr>\n",
       "    <tr>\n",
       "      <th>SEMANTIC</th>\n",
       "      <td>0.674419</td>\n",
       "      <td>0.392667</td>\n",
       "      <td>0.333333</td>\n",
       "      <td>0.389402</td>\n",
       "      <td>0.569767</td>\n",
       "      <td>0.405409</td>\n",
       "      <td>0.670543</td>\n",
       "      <td>0.366913</td>\n",
       "      <td>0.562016</td>\n",
       "    </tr>\n",
       "  </tbody>\n",
       "</table>\n",
       "</div>"
      ]
     },
     "execution_count": 26,
     "metadata": {},
     "output_type": "execute_result"
    }
   ],
   "execution_count": 26
  },
  {
   "metadata": {
    "ExecuteTime": {
     "end_time": "2024-10-10T07:23:28.308367Z",
     "start_time": "2024-10-10T07:23:28.299291Z"
    }
   },
   "cell_type": "code",
   "source": "gain_val - gain_dev",
   "id": "d8d791611d012f71",
   "outputs": [
    {
     "data": {
      "text/plain": [
       "                          Model<br>Architecture-mean  \\\n",
       "KLD-PP:NS-1000-BINS                        -0.095214   \n",
       "KLD-PP:NS-W:SN-1000-BINS                   -0.080047   \n",
       "KLD-PP:NS-W:TS-100-BINS                    -0.116953   \n",
       "SEMANTIC                                   -0.108190   \n",
       "\n",
       "                          Model<br>Architecture-std  Pretraining<br>Data-mean  \\\n",
       "KLD-PP:NS-1000-BINS                        0.063936                  0.074992   \n",
       "KLD-PP:NS-W:SN-1000-BINS                   0.064683                 -0.113246   \n",
       "KLD-PP:NS-W:TS-100-BINS                    0.085798                  0.071116   \n",
       "SEMANTIC                                   0.101078                  0.014493   \n",
       "\n",
       "                          Pretraining<br>Data-std  \\\n",
       "KLD-PP:NS-1000-BINS                      0.089292   \n",
       "KLD-PP:NS-W:SN-1000-BINS                 0.056362   \n",
       "KLD-PP:NS-W:TS-100-BINS                  0.061527   \n",
       "SEMANTIC                                 0.075474   \n",
       "\n",
       "                          Augmentation<br>Policy-mean  \\\n",
       "KLD-PP:NS-1000-BINS                         -0.204921   \n",
       "KLD-PP:NS-W:SN-1000-BINS                    -0.211662   \n",
       "KLD-PP:NS-W:TS-100-BINS                     -0.193293   \n",
       "SEMANTIC                                    -0.241827   \n",
       "\n",
       "                          Augmentation<br>Policy-std  \\\n",
       "KLD-PP:NS-1000-BINS                         0.093924   \n",
       "KLD-PP:NS-W:SN-1000-BINS                    0.109463   \n",
       "KLD-PP:NS-W:TS-100-BINS                     0.104531   \n",
       "SEMANTIC                                    0.063647   \n",
       "\n",
       "                          Co-Training<br>Data-mean  Co-Training<br>Data-std  \\\n",
       "KLD-PP:NS-1000-BINS                      -0.130940                 0.065475   \n",
       "KLD-PP:NS-W:SN-1000-BINS                 -0.097068                 0.082837   \n",
       "KLD-PP:NS-W:TS-100-BINS                  -0.138187                 0.081864   \n",
       "SEMANTIC                                 -0.075834                 0.051195   \n",
       "\n",
       "                              mean  \n",
       "KLD-PP:NS-1000-BINS      -0.089021  \n",
       "KLD-PP:NS-W:SN-1000-BINS -0.125506  \n",
       "KLD-PP:NS-W:TS-100-BINS  -0.094329  \n",
       "SEMANTIC                 -0.102840  "
      ],
      "text/html": [
       "<div>\n",
       "<style scoped>\n",
       "    .dataframe tbody tr th:only-of-type {\n",
       "        vertical-align: middle;\n",
       "    }\n",
       "\n",
       "    .dataframe tbody tr th {\n",
       "        vertical-align: top;\n",
       "    }\n",
       "\n",
       "    .dataframe thead th {\n",
       "        text-align: right;\n",
       "    }\n",
       "</style>\n",
       "<table border=\"1\" class=\"dataframe\">\n",
       "  <thead>\n",
       "    <tr style=\"text-align: right;\">\n",
       "      <th></th>\n",
       "      <th>Model&lt;br&gt;Architecture-mean</th>\n",
       "      <th>Model&lt;br&gt;Architecture-std</th>\n",
       "      <th>Pretraining&lt;br&gt;Data-mean</th>\n",
       "      <th>Pretraining&lt;br&gt;Data-std</th>\n",
       "      <th>Augmentation&lt;br&gt;Policy-mean</th>\n",
       "      <th>Augmentation&lt;br&gt;Policy-std</th>\n",
       "      <th>Co-Training&lt;br&gt;Data-mean</th>\n",
       "      <th>Co-Training&lt;br&gt;Data-std</th>\n",
       "      <th>mean</th>\n",
       "    </tr>\n",
       "  </thead>\n",
       "  <tbody>\n",
       "    <tr>\n",
       "      <th>KLD-PP:NS-1000-BINS</th>\n",
       "      <td>-0.095214</td>\n",
       "      <td>0.063936</td>\n",
       "      <td>0.074992</td>\n",
       "      <td>0.089292</td>\n",
       "      <td>-0.204921</td>\n",
       "      <td>0.093924</td>\n",
       "      <td>-0.130940</td>\n",
       "      <td>0.065475</td>\n",
       "      <td>-0.089021</td>\n",
       "    </tr>\n",
       "    <tr>\n",
       "      <th>KLD-PP:NS-W:SN-1000-BINS</th>\n",
       "      <td>-0.080047</td>\n",
       "      <td>0.064683</td>\n",
       "      <td>-0.113246</td>\n",
       "      <td>0.056362</td>\n",
       "      <td>-0.211662</td>\n",
       "      <td>0.109463</td>\n",
       "      <td>-0.097068</td>\n",
       "      <td>0.082837</td>\n",
       "      <td>-0.125506</td>\n",
       "    </tr>\n",
       "    <tr>\n",
       "      <th>KLD-PP:NS-W:TS-100-BINS</th>\n",
       "      <td>-0.116953</td>\n",
       "      <td>0.085798</td>\n",
       "      <td>0.071116</td>\n",
       "      <td>0.061527</td>\n",
       "      <td>-0.193293</td>\n",
       "      <td>0.104531</td>\n",
       "      <td>-0.138187</td>\n",
       "      <td>0.081864</td>\n",
       "      <td>-0.094329</td>\n",
       "    </tr>\n",
       "    <tr>\n",
       "      <th>SEMANTIC</th>\n",
       "      <td>-0.108190</td>\n",
       "      <td>0.101078</td>\n",
       "      <td>0.014493</td>\n",
       "      <td>0.075474</td>\n",
       "      <td>-0.241827</td>\n",
       "      <td>0.063647</td>\n",
       "      <td>-0.075834</td>\n",
       "      <td>0.051195</td>\n",
       "      <td>-0.102840</td>\n",
       "    </tr>\n",
       "  </tbody>\n",
       "</table>\n",
       "</div>"
      ]
     },
     "execution_count": 27,
     "metadata": {},
     "output_type": "execute_result"
    }
   ],
   "execution_count": 27
  },
  {
   "metadata": {},
   "cell_type": "markdown",
   "source": "Gain significantly reduced for model architecture transfer, while improving in the pretraining scenario for unweighted and target weighted bKLD (severe reduced gain for source weighted bKLD). Gain drastically reduced in the scenarios of augmentation policy transer as well as co-training.",
   "id": "91290ece3fb3ee02"
  },
  {
   "metadata": {},
   "cell_type": "markdown",
   "source": [
    "### Step 2: Compare bKLD candidates with manual task selection and baseline\n",
    "\n",
    "We compare the bKLD candidates with manual task selection."
   ],
   "id": "2c934887887f61af"
  },
  {
   "metadata": {
    "ExecuteTime": {
     "end_time": "2024-10-10T07:31:05.795931Z",
     "start_time": "2024-10-10T07:31:04.659611Z"
    }
   },
   "cell_type": "code",
   "source": [
    "# win rates have been introduced by https://arxiv.org/pdf/2204.01403 \n",
    "win_rates_df = pd.DataFrame()\n",
    "for exp in EXPERIMENTS:\n",
    "    win_rates_df[exp] = get_win_rates(val_evaluations[val_evaluations['exp'] == exp])\n",
    "win_rates_df['mean'] = win_rates_df.mean(axis=1)\n",
    "win_rates_df"
   ],
   "id": "fe6dd04b32dfcdd9",
   "outputs": [
    {
     "data": {
      "text/plain": [
       "                          Model<br>Architecture  Pretraining<br>Data  \\\n",
       "KLD-PP:NS-W:TS-100-BINS                0.348837             0.553488   \n",
       "KLD-PP:NS-W:SN-1000-BINS               0.516279             0.351163   \n",
       "KLD-PP:NS-1000-BINS                    0.311628             0.518605   \n",
       "SEMANTIC                               0.413953             0.451163   \n",
       "\n",
       "                          Augmentation<br>Policy  Co-Training<br>Data  \\\n",
       "KLD-PP:NS-W:TS-100-BINS                 0.506977             0.369767   \n",
       "KLD-PP:NS-W:SN-1000-BINS                0.439535             0.465116   \n",
       "KLD-PP:NS-1000-BINS                     0.476744             0.404651   \n",
       "SEMANTIC                                0.327907             0.390698   \n",
       "\n",
       "                              mean  \n",
       "KLD-PP:NS-W:TS-100-BINS   0.444767  \n",
       "KLD-PP:NS-W:SN-1000-BINS  0.443023  \n",
       "KLD-PP:NS-1000-BINS       0.427907  \n",
       "SEMANTIC                  0.395930  "
      ],
      "text/html": [
       "<div>\n",
       "<style scoped>\n",
       "    .dataframe tbody tr th:only-of-type {\n",
       "        vertical-align: middle;\n",
       "    }\n",
       "\n",
       "    .dataframe tbody tr th {\n",
       "        vertical-align: top;\n",
       "    }\n",
       "\n",
       "    .dataframe thead th {\n",
       "        text-align: right;\n",
       "    }\n",
       "</style>\n",
       "<table border=\"1\" class=\"dataframe\">\n",
       "  <thead>\n",
       "    <tr style=\"text-align: right;\">\n",
       "      <th></th>\n",
       "      <th>Model&lt;br&gt;Architecture</th>\n",
       "      <th>Pretraining&lt;br&gt;Data</th>\n",
       "      <th>Augmentation&lt;br&gt;Policy</th>\n",
       "      <th>Co-Training&lt;br&gt;Data</th>\n",
       "      <th>mean</th>\n",
       "    </tr>\n",
       "  </thead>\n",
       "  <tbody>\n",
       "    <tr>\n",
       "      <th>KLD-PP:NS-W:TS-100-BINS</th>\n",
       "      <td>0.348837</td>\n",
       "      <td>0.553488</td>\n",
       "      <td>0.506977</td>\n",
       "      <td>0.369767</td>\n",
       "      <td>0.444767</td>\n",
       "    </tr>\n",
       "    <tr>\n",
       "      <th>KLD-PP:NS-W:SN-1000-BINS</th>\n",
       "      <td>0.516279</td>\n",
       "      <td>0.351163</td>\n",
       "      <td>0.439535</td>\n",
       "      <td>0.465116</td>\n",
       "      <td>0.443023</td>\n",
       "    </tr>\n",
       "    <tr>\n",
       "      <th>KLD-PP:NS-1000-BINS</th>\n",
       "      <td>0.311628</td>\n",
       "      <td>0.518605</td>\n",
       "      <td>0.476744</td>\n",
       "      <td>0.404651</td>\n",
       "      <td>0.427907</td>\n",
       "    </tr>\n",
       "    <tr>\n",
       "      <th>SEMANTIC</th>\n",
       "      <td>0.413953</td>\n",
       "      <td>0.451163</td>\n",
       "      <td>0.327907</td>\n",
       "      <td>0.390698</td>\n",
       "      <td>0.395930</td>\n",
       "    </tr>\n",
       "  </tbody>\n",
       "</table>\n",
       "</div>"
      ]
     },
     "execution_count": 28,
     "metadata": {},
     "output_type": "execute_result"
    }
   ],
   "execution_count": 28
  },
  {
   "metadata": {},
   "cell_type": "markdown",
   "source": "Note that win rates sum over 1.0 because of ties occurring! According to the results bKLD(large,source) wins for scenarios 1 & 4, while bKLD(small,target) wins for scenarios 2 & 3. But \"win rates\" (especially with a lot of ties) is a very coarse assessment method. ",
   "id": "9c028337d5ecf0ac"
  },
  {
   "metadata": {
    "ExecuteTime": {
     "end_time": "2024-10-10T10:07:15.412336Z",
     "start_time": "2024-10-10T10:07:13.767406Z"
    }
   },
   "cell_type": "code",
   "source": [
    "# next we visualize the performance in comparison with the baseline (\"no transfer\") \n",
    "BUDGET = 3\n",
    "df_rows = []\n",
    "for metric in METRICS:\n",
    "    baseline_full = get_aggregated_raws(strat=AggregateStrategy.MEAN, metric=metric, shrunk=False, validation=True)\n",
    "    baselines_shrunk = get_aggregated_raws(strat=AggregateStrategy.MEAN, metric=metric, shrunk=True, validation=True)\n",
    "    for exp in EXPERIMENTS:\n",
    "        exp_df = aggregate_observations(multi_seed_df=load_experiment(experiment_name=exp, metric=metric),\n",
    "                                        strat=AggregateStrategy.MEAN, is_loss=False)\n",
    "        for task in target_tasks:\n",
    "            target_ref = shrink_map[task] if SHRUNK[exp] else task\n",
    "            # add baseline value \n",
    "            base_val = baselines_shrunk[task] if SHRUNK[exp] and task in shrinkable_tasks else baseline_full[task]\n",
    "            df_rows.append({'exp': exp, 'metric': metric, 'task': task, 'value': base_val, 'method': 'baseline',\n",
    "                            'task_id': paper_id_map[task]})\n",
    "            # selected source task as suggested by distances\n",
    "            for dist in all_distances:\n",
    "                sources = get_closest(target_task=target_ref, distances=all_distances[dist], budget=BUDGET)\n",
    "                transfer_performances = exp_df[task].loc[sources]\n",
    "                best = transfer_performances.max() if 'loss' not in metric else transfer_performances.min()\n",
    "                df_rows.append({'exp': exp, 'metric': metric, 'task': task, 'value': best, 'method': dist,\n",
    "                                'task_id': paper_id_map[task]})\n",
    "baseline_comparison_df = pd.DataFrame(df_rows)"
   ],
   "id": "8c97f80670178e02",
   "outputs": [],
   "execution_count": 41
  },
  {
   "metadata": {
    "ExecuteTime": {
     "end_time": "2024-10-10T10:08:34.076155Z",
     "start_time": "2024-10-10T10:08:34.066856Z"
    }
   },
   "cell_type": "code",
   "source": [
    "def get_fig(metric: str = 'BA', exp: Optional[str] = None,\n",
    "            distances: Tuple[str] = ('baseline', 'KLD-PP:NS-W:TS-100-BINS')) -> go.Figure:\n",
    "    # determine task order\n",
    "    tmp_df = baseline_comparison_df[(baseline_comparison_df['method'] == 'baseline') & (baseline_comparison_df['exp'].isin([exp] if exp else EXPERIMENTS))].sort_values(by='value')\n",
    "    task_order = tmp_df[tmp_df['metric'] == metric]['task'].tolist()\n",
    "    # sort accordingly\n",
    "    sorted_df = baseline_comparison_df.sort_values(by='method', ascending=False)\n",
    "    sorted_df = sorted_df.sort_values(by='task', key=lambda column: column.map(lambda e: task_order.index(e)))\n",
    "    fig = px.line(sorted_df[\n",
    "                      (sorted_df['metric'] == metric) & (sorted_df['exp'].isin(EXPERIMENTS if exp is None else [exp])) &\n",
    "                      sorted_df['method'].isin(distances)].replace(map_dist2printable), x='task_id', y='value',\n",
    "                  color='method', template='plotly', color_discrete_map=color_map,\n",
    "                  labels={'distance': 'Distance', 'task_id': 'Task ID', 'method': 'Method', 'value': metric},\n",
    "                  facet_col='exp' if exp is None else None, facet_col_wrap=2 if exp is None else None,\n",
    "                  category_orders={'exp': EXPERIMENTS}, facet_row_spacing=0.15, line_dash='method', line_dash_map=line_dash_map)\n",
    "    fig = fig.for_each_annotation(lambda a: a.update(text=a.text.split(\"=\")[1]))\n",
    "    fig.update_layout(\n",
    "        legend=dict(\n",
    "            orientation=\"h\",\n",
    "            y=-0.2,\n",
    "            xanchor=\"center\",\n",
    "            x=0.5\n",
    "        ))\n",
    "    fig.update_layout(font_size=20, width=2000, height=800)\n",
    "    fig.update_xaxes(nticks=len(task_order))\n",
    "    return fig"
   ],
   "id": "50f5e5913c06c516",
   "outputs": [],
   "execution_count": 46
  },
  {
   "metadata": {
    "ExecuteTime": {
     "end_time": "2024-10-10T10:08:35.051204Z",
     "start_time": "2024-10-10T10:08:34.954143Z"
    }
   },
   "cell_type": "code",
   "source": "get_fig('BA', distances=('baseline', 'KLD-PP:NS-W:TS-100-BINS', 'SEMANTIC'))",
   "id": "53e437203303b9d0",
   "outputs": [
    {
     "data": {
      "application/vnd.plotly.v1+json": {
       "data": [
        {
         "hovertemplate": "Method=bKLD(small,target)<br>exp=Model<br>Architecture<br>Task ID=%{x}<br>BA=%{y}<extra></extra>",
         "legendgroup": "bKLD(small,target)",
         "line": {
          "color": "rgb(60, 180, 75)",
          "dash": "solid"
         },
         "marker": {
          "symbol": "circle"
         },
         "mode": "lines",
         "name": "bKLD(small,target)",
         "orientation": "v",
         "showlegend": true,
         "x": [
          "T66",
          "T67",
          "T36",
          "T65",
          "T31",
          "T62",
          "T34",
          "T63",
          "T68",
          "T32",
          "T41",
          "T35",
          "T30",
          "T61",
          "T48",
          "T40",
          "T71",
          "T38",
          "T54",
          "T56",
          "T64",
          "T46",
          "T50",
          "T37",
          "T33",
          "T39",
          "T51",
          "T45",
          "T29",
          "T49",
          "T55",
          "T47",
          "T60",
          "T70",
          "T43",
          "T59",
          "T58",
          "T57",
          "T52",
          "T44",
          "T42",
          "T53",
          "T69"
         ],
         "xaxis": "x3",
         "y": [
          0.4513583183288574,
          0.46867285172144574,
          0.5127352476119995,
          0.46618101994196576,
          0.5375033219655355,
          0.5302988489468893,
          0.5700982610384623,
          0.6520340840021769,
          0.6006070971488953,
          0.6016069253285726,
          0.6194861133893331,
          0.625948409239451,
          0.6455140312512716,
          0.694444497426351,
          0.6796799500783285,
          0.5556252400080363,
          0.7552194396654764,
          0.7129273017247518,
          0.7227513392766317,
          0.6942460338274637,
          0.7377701004346212,
          0.7463196714719137,
          0.7462279200553894,
          0.7621070742607117,
          0.8363963564236959,
          0.7628742655118307,
          0.789979616800944,
          0.7995277047157288,
          0.816621204217275,
          0.8433852990468343,
          0.8239271442095438,
          0.8504629532496134,
          0.7928571502367655,
          0.9223395188649496,
          0.9006981452306112,
          0.9360119104385376,
          0.9416333039601644,
          0.9676348765691122,
          0.9702274401982626,
          0.9822680950164795,
          0.9800681670506796,
          0.9807407458623251,
          0.9863314429918925
         ],
         "yaxis": "y3",
         "type": "scatter"
        },
        {
         "hovertemplate": "Method=bKLD(small,target)<br>exp=Pretraining<br>Data<br>Task ID=%{x}<br>BA=%{y}<extra></extra>",
         "legendgroup": "bKLD(small,target)",
         "line": {
          "color": "rgb(60, 180, 75)",
          "dash": "solid"
         },
         "marker": {
          "symbol": "circle"
         },
         "mode": "lines",
         "name": "bKLD(small,target)",
         "orientation": "v",
         "showlegend": false,
         "x": [
          "T66",
          "T67",
          "T36",
          "T65",
          "T31",
          "T62",
          "T34",
          "T63",
          "T68",
          "T32",
          "T41",
          "T35",
          "T30",
          "T61",
          "T48",
          "T40",
          "T71",
          "T38",
          "T54",
          "T56",
          "T64",
          "T46",
          "T50",
          "T37",
          "T33",
          "T39",
          "T51",
          "T45",
          "T29",
          "T49",
          "T55",
          "T47",
          "T60",
          "T70",
          "T43",
          "T59",
          "T58",
          "T57",
          "T52",
          "T44",
          "T42",
          "T53",
          "T69"
         ],
         "xaxis": "x4",
         "y": [
          0.41559487581253046,
          0.4617798427740733,
          0.5091589689254761,
          0.5163640975952148,
          0.5390736858050028,
          0.5440460244814554,
          0.5907173554102579,
          0.6082321008046468,
          0.5565607150395712,
          0.5875194867451986,
          0.621011217435201,
          0.6326521237691244,
          0.6391063531239828,
          0.5902777910232544,
          0.6766971747080485,
          0.579149047533671,
          0.7683695554733276,
          0.7049058874448141,
          0.7518518765767416,
          0.662500003973643,
          0.7387815912564596,
          0.7253855466842651,
          0.746202309926351,
          0.7538151343663534,
          0.8177329500516256,
          0.753817061583201,
          0.7802419463793436,
          0.7920781572659811,
          0.8099680741628011,
          0.8312196731567383,
          0.8049322168032328,
          0.8246913353602091,
          0.7726190487543741,
          0.9035969376564026,
          0.8752971092859904,
          0.8809523582458496,
          0.9232002099355062,
          0.955195963382721,
          0.9588660796483358,
          0.9746052424112955,
          0.9788645704587301,
          0.9737963080406189,
          0.9841957092285156
         ],
         "yaxis": "y4",
         "type": "scatter"
        },
        {
         "hovertemplate": "Method=bKLD(small,target)<br>exp=Augmentation<br>Policy<br>Task ID=%{x}<br>BA=%{y}<extra></extra>",
         "legendgroup": "bKLD(small,target)",
         "line": {
          "color": "rgb(60, 180, 75)",
          "dash": "solid"
         },
         "marker": {
          "symbol": "circle"
         },
         "mode": "lines",
         "name": "bKLD(small,target)",
         "orientation": "v",
         "showlegend": false,
         "x": [
          "T66",
          "T67",
          "T36",
          "T65",
          "T31",
          "T62",
          "T34",
          "T63",
          "T68",
          "T32",
          "T41",
          "T35",
          "T30",
          "T61",
          "T48",
          "T40",
          "T71",
          "T38",
          "T54",
          "T56",
          "T64",
          "T46",
          "T50",
          "T37",
          "T33",
          "T39",
          "T51",
          "T45",
          "T29",
          "T49",
          "T55",
          "T47",
          "T60",
          "T70",
          "T43",
          "T59",
          "T58",
          "T57",
          "T52",
          "T44",
          "T42",
          "T53",
          "T69"
         ],
         "xaxis": "x",
         "y": [
          0.5057107408841451,
          0.4983282188574473,
          0.5056319236755371,
          0.4691382050514221,
          0.5255266427993774,
          0.5621964335441589,
          0.5587248802185059,
          0.618439515431722,
          0.6356857021649679,
          0.5945387482643127,
          0.6172555685043335,
          0.6355323195457458,
          0.6282599965731303,
          0.625000019868215,
          0.6708954572677612,
          0.5442932645479838,
          0.8124574422836304,
          0.7120300531387329,
          0.8198413054148356,
          0.6821428736050924,
          0.7354023059209188,
          0.7331302165985107,
          0.7442529598871866,
          0.7437770962715149,
          0.8264352679252625,
          0.7671288450558981,
          0.7863545417785645,
          0.7914031942685446,
          0.8011905352274576,
          0.8181612888971964,
          0.8487299879391988,
          0.8376543521881104,
          0.8488095204035441,
          0.9410044948259989,
          0.907531201839447,
          0.9470238089561462,
          0.9505480527877808,
          0.9716353416442871,
          0.9759804407755533,
          0.9881347219149271,
          0.9899137417475382,
          0.9820370276769003,
          0.9891496300697327
         ],
         "yaxis": "y",
         "type": "scatter"
        },
        {
         "hovertemplate": "Method=bKLD(small,target)<br>exp=Co-Training<br>Data<br>Task ID=%{x}<br>BA=%{y}<extra></extra>",
         "legendgroup": "bKLD(small,target)",
         "line": {
          "color": "rgb(60, 180, 75)",
          "dash": "solid"
         },
         "marker": {
          "symbol": "circle"
         },
         "mode": "lines",
         "name": "bKLD(small,target)",
         "orientation": "v",
         "showlegend": false,
         "x": [
          "T66",
          "T67",
          "T36",
          "T65",
          "T31",
          "T62",
          "T34",
          "T63",
          "T68",
          "T32",
          "T41",
          "T35",
          "T30",
          "T61",
          "T48",
          "T40",
          "T71",
          "T38",
          "T54",
          "T56",
          "T64",
          "T46",
          "T50",
          "T37",
          "T33",
          "T39",
          "T51",
          "T45",
          "T29",
          "T49",
          "T55",
          "T47",
          "T60",
          "T70",
          "T43",
          "T59",
          "T58",
          "T57",
          "T52",
          "T44",
          "T42",
          "T53",
          "T69"
         ],
         "xaxis": "x2",
         "y": [
          0.41860217849413556,
          0.4853137930234273,
          0.5112081170082092,
          0.4885232249895732,
          0.5401672720909119,
          0.5665291349093119,
          0.5779181520144144,
          0.644740621248881,
          0.5876072645187378,
          0.5963766773541769,
          0.6173412402470907,
          0.6237708727518717,
          0.6444260676701864,
          0.7083333730697632,
          0.6782189806302389,
          0.5658838748931885,
          0.7892196575800577,
          0.7143207589785258,
          0.9042328596115112,
          0.6829365094502767,
          0.7366321881612142,
          0.740889847278595,
          0.7606251438458761,
          0.7554020881652832,
          0.8269570271174113,
          0.7713153759638468,
          0.788735826810201,
          0.8024236162503561,
          0.8143321474393209,
          0.838555634021759,
          0.8443512320518494,
          0.8370370467503866,
          0.8011904954910278,
          0.9282086491584779,
          0.8778223594029745,
          0.9220238327980042,
          0.940216859181722,
          0.9794602990150452,
          0.965934952100118,
          0.9808839162190756,
          0.9872872630755106,
          0.9800926049550375,
          0.987221876780192
         ],
         "yaxis": "y2",
         "type": "scatter"
        },
        {
         "hovertemplate": "Method=Manual<br>exp=Model<br>Architecture<br>Task ID=%{x}<br>BA=%{y}<extra></extra>",
         "legendgroup": "Manual",
         "line": {
          "color": "rgb(230, 25, 75)",
          "dash": "dot"
         },
         "marker": {
          "symbol": "circle"
         },
         "mode": "lines",
         "name": "Manual",
         "orientation": "v",
         "showlegend": true,
         "x": [
          "T66",
          "T67",
          "T36",
          "T65",
          "T31",
          "T62",
          "T34",
          "T63",
          "T68",
          "T32",
          "T41",
          "T35",
          "T30",
          "T61",
          "T48",
          "T40",
          "T71",
          "T38",
          "T54",
          "T56",
          "T64",
          "T46",
          "T50",
          "T37",
          "T33",
          "T39",
          "T51",
          "T45",
          "T29",
          "T49",
          "T55",
          "T47",
          "T60",
          "T70",
          "T43",
          "T59",
          "T58",
          "T57",
          "T52",
          "T44",
          "T42",
          "T53",
          "T69"
         ],
         "xaxis": "x3",
         "y": [
          0.4513583183288574,
          0.46867285172144574,
          0.5127352476119995,
          0.48455989360809326,
          0.5375033219655355,
          0.5406051874160767,
          0.5700982610384623,
          0.6533382932345072,
          0.6006070971488953,
          0.6016069253285726,
          0.6194861133893331,
          0.625948409239451,
          0.6455140312512716,
          0.6875000397364298,
          0.6755202611287435,
          0.5556252400080363,
          0.7552194396654764,
          0.7129273017247518,
          0.6206349531809489,
          0.708730161190033,
          0.7377701004346212,
          0.7495739857355753,
          0.7553172906239828,
          0.7621070742607117,
          0.8363963564236959,
          0.7628742655118307,
          0.7852893670399984,
          0.7975088953971863,
          0.816621204217275,
          0.8433852990468343,
          0.8226601282755533,
          0.8248456716537476,
          0.899999996026357,
          0.9223395188649496,
          0.9102792541186014,
          0.9577381014823914,
          0.9410249590873718,
          0.969074527422587,
          0.9759259025255839,
          0.9839572707811991,
          0.9813551704088846,
          0.9798148274421692,
          0.9877665241559347
         ],
         "yaxis": "y3",
         "type": "scatter"
        },
        {
         "hovertemplate": "Method=Manual<br>exp=Pretraining<br>Data<br>Task ID=%{x}<br>BA=%{y}<extra></extra>",
         "legendgroup": "Manual",
         "line": {
          "color": "rgb(230, 25, 75)",
          "dash": "dot"
         },
         "marker": {
          "symbol": "circle"
         },
         "mode": "lines",
         "name": "Manual",
         "orientation": "v",
         "showlegend": false,
         "x": [
          "T66",
          "T67",
          "T36",
          "T65",
          "T31",
          "T62",
          "T34",
          "T63",
          "T68",
          "T32",
          "T41",
          "T35",
          "T30",
          "T61",
          "T48",
          "T40",
          "T71",
          "T38",
          "T54",
          "T56",
          "T64",
          "T46",
          "T50",
          "T37",
          "T33",
          "T39",
          "T51",
          "T45",
          "T29",
          "T49",
          "T55",
          "T47",
          "T60",
          "T70",
          "T43",
          "T59",
          "T58",
          "T57",
          "T52",
          "T44",
          "T42",
          "T53",
          "T69"
         ],
         "xaxis": "x4",
         "y": [
          0.4224736094474792,
          0.4617798427740733,
          0.5091589689254761,
          0.5163640975952148,
          0.5390736858050028,
          0.5451332529385885,
          0.5907173554102579,
          0.58307413260142,
          0.5579626758893331,
          0.5875194867451986,
          0.621011217435201,
          0.6326521237691244,
          0.6391063531239828,
          0.6180555820465088,
          0.6658318042755127,
          0.579149047533671,
          0.7683695554733276,
          0.7049058874448141,
          0.7518518765767416,
          0.646230161190033,
          0.7387815912564596,
          0.7249410351117452,
          0.7487646540006002,
          0.7538151343663534,
          0.8177329500516256,
          0.753817061583201,
          0.7795212070147196,
          0.7894251545270284,
          0.8099680741628011,
          0.8185108701388041,
          0.7870015899340311,
          0.8300925890604655,
          0.8083333174387614,
          0.9035969376564026,
          0.8754456241925558,
          0.8788690368334452,
          0.9226892590522766,
          0.9442907174428304,
          0.9330585400263468,
          0.9809909661610922,
          0.9802564382553101,
          0.9702777663866679,
          0.9841957092285156
         ],
         "yaxis": "y4",
         "type": "scatter"
        },
        {
         "hovertemplate": "Method=Manual<br>exp=Augmentation<br>Policy<br>Task ID=%{x}<br>BA=%{y}<extra></extra>",
         "legendgroup": "Manual",
         "line": {
          "color": "rgb(230, 25, 75)",
          "dash": "dot"
         },
         "marker": {
          "symbol": "circle"
         },
         "mode": "lines",
         "name": "Manual",
         "orientation": "v",
         "showlegend": false,
         "x": [
          "T66",
          "T67",
          "T36",
          "T65",
          "T31",
          "T62",
          "T34",
          "T63",
          "T68",
          "T32",
          "T41",
          "T35",
          "T30",
          "T61",
          "T48",
          "T40",
          "T71",
          "T38",
          "T54",
          "T56",
          "T64",
          "T46",
          "T50",
          "T37",
          "T33",
          "T39",
          "T51",
          "T45",
          "T29",
          "T49",
          "T55",
          "T47",
          "T60",
          "T70",
          "T43",
          "T59",
          "T58",
          "T57",
          "T52",
          "T44",
          "T42",
          "T53",
          "T69"
         ],
         "xaxis": "x",
         "y": [
          0.5057107408841451,
          0.4983282188574473,
          0.5056319236755371,
          0.45967138806978863,
          0.5255266427993774,
          0.5637579758961996,
          0.5587248802185059,
          0.5973913868268331,
          0.6356857021649679,
          0.5945387482643127,
          0.6172555685043335,
          0.6355323195457458,
          0.6282599965731303,
          0.625000019868215,
          0.6708954572677612,
          0.5442932645479838,
          0.8124574422836304,
          0.7120300531387329,
          0.8206349809964498,
          0.6748016079266866,
          0.7354023059209188,
          0.7309490640958151,
          0.7436709801355997,
          0.7437770962715149,
          0.8264352679252625,
          0.7671288450558981,
          0.7863545417785645,
          0.8007516860961914,
          0.8011905352274576,
          0.8308647076288859,
          0.8760060469309489,
          0.8259259263674418,
          0.8488095204035441,
          0.9410044948259989,
          0.8852495551109314,
          0.9261904756228129,
          0.9463757077852883,
          0.9623076518376669,
          0.9674144585927328,
          0.9839572906494141,
          0.9841961065928141,
          0.980648140112559,
          0.9886049628257751
         ],
         "yaxis": "y",
         "type": "scatter"
        },
        {
         "hovertemplate": "Method=Manual<br>exp=Co-Training<br>Data<br>Task ID=%{x}<br>BA=%{y}<extra></extra>",
         "legendgroup": "Manual",
         "line": {
          "color": "rgb(230, 25, 75)",
          "dash": "dot"
         },
         "marker": {
          "symbol": "circle"
         },
         "mode": "lines",
         "name": "Manual",
         "orientation": "v",
         "showlegend": false,
         "x": [
          "T66",
          "T67",
          "T36",
          "T65",
          "T31",
          "T62",
          "T34",
          "T63",
          "T68",
          "T32",
          "T41",
          "T35",
          "T30",
          "T61",
          "T48",
          "T40",
          "T71",
          "T38",
          "T54",
          "T56",
          "T64",
          "T46",
          "T50",
          "T37",
          "T33",
          "T39",
          "T51",
          "T45",
          "T29",
          "T49",
          "T55",
          "T47",
          "T60",
          "T70",
          "T43",
          "T59",
          "T58",
          "T57",
          "T52",
          "T44",
          "T42",
          "T53",
          "T69"
         ],
         "xaxis": "x2",
         "y": [
          0.4635782341162363,
          0.46373458703358966,
          0.5112081170082092,
          0.4885232249895732,
          0.5401672720909119,
          0.5592225988705953,
          0.5779181520144144,
          0.61441969871521,
          0.5876072645187378,
          0.5963766773541769,
          0.6173412402470907,
          0.6237708727518717,
          0.6444260676701864,
          0.7083333730697632,
          0.6782189806302389,
          0.5658838748931885,
          0.7892196575800577,
          0.7143207589785258,
          0.9042328596115112,
          0.7061508099238077,
          0.7366321881612142,
          0.7344679435094198,
          0.7512528697649637,
          0.7554020881652832,
          0.8269570271174113,
          0.7713153759638468,
          0.7842029333114624,
          0.7983740369478861,
          0.8143321474393209,
          0.838555634021759,
          0.82966415087382,
          0.8370370467503866,
          0.8333333333333334,
          0.9275081753730774,
          0.9026292562484741,
          0.9151785572369894,
          0.9494708776473999,
          0.9755038420359295,
          0.967432975769043,
          0.9829066594441732,
          0.9841174483299255,
          0.9815740585327148,
          0.987221876780192
         ],
         "yaxis": "y2",
         "type": "scatter"
        },
        {
         "hovertemplate": "Method=baseline<br>exp=Model<br>Architecture<br>Task ID=%{x}<br>BA=%{y}<extra></extra>",
         "legendgroup": "baseline",
         "line": {
          "color": "#FFA15A",
          "dash": "solid"
         },
         "marker": {
          "symbol": "circle"
         },
         "mode": "lines",
         "name": "baseline",
         "orientation": "v",
         "showlegend": true,
         "x": [
          "T66",
          "T67",
          "T36",
          "T65",
          "T31",
          "T62",
          "T34",
          "T63",
          "T68",
          "T32",
          "T41",
          "T35",
          "T30",
          "T61",
          "T48",
          "T40",
          "T71",
          "T38",
          "T54",
          "T56",
          "T64",
          "T46",
          "T50",
          "T37",
          "T33",
          "T39",
          "T51",
          "T45",
          "T29",
          "T49",
          "T55",
          "T47",
          "T60",
          "T70",
          "T43",
          "T59",
          "T58",
          "T57",
          "T52",
          "T44",
          "T42",
          "T53",
          "T69"
         ],
         "xaxis": "x3",
         "y": [
          0.40290359656016034,
          0.47348252932230633,
          0.4993329842885335,
          0.5048133333524069,
          0.5087317824363708,
          0.5266479849815369,
          0.5587396820386251,
          0.5669381419817606,
          0.5695674419403076,
          0.5811976591746012,
          0.5982316732406616,
          0.631239672501882,
          0.6370999018351237,
          0.6388889153798422,
          0.6570563316345215,
          0.6629946033159891,
          0.6932293176651001,
          0.7053327560424805,
          0.7089947462081909,
          0.71190478404363,
          0.7129425009091696,
          0.7239681482315063,
          0.7396079301834106,
          0.7490506172180176,
          0.7505701979001363,
          0.7711225549379984,
          0.7786813775698344,
          0.7997101346651713,
          0.8067423105239868,
          0.8185162345568339,
          0.8239372769991556,
          0.8359568119049072,
          0.8404761950174967,
          0.8860732913017273,
          0.8956476449966431,
          0.9119047323862711,
          0.9406911929448446,
          0.9559722940127054,
          0.9632135629653931,
          0.9741932153701782,
          0.9787811636924743,
          0.9796296159426371,
          0.9869189659754435
         ],
         "yaxis": "y3",
         "type": "scatter"
        },
        {
         "hovertemplate": "Method=baseline<br>exp=Pretraining<br>Data<br>Task ID=%{x}<br>BA=%{y}<extra></extra>",
         "legendgroup": "baseline",
         "line": {
          "color": "#FFA15A",
          "dash": "solid"
         },
         "marker": {
          "symbol": "circle"
         },
         "mode": "lines",
         "name": "baseline",
         "orientation": "v",
         "showlegend": false,
         "x": [
          "T66",
          "T67",
          "T36",
          "T65",
          "T31",
          "T62",
          "T34",
          "T63",
          "T68",
          "T32",
          "T41",
          "T35",
          "T30",
          "T61",
          "T48",
          "T40",
          "T71",
          "T38",
          "T54",
          "T56",
          "T64",
          "T46",
          "T50",
          "T37",
          "T33",
          "T39",
          "T51",
          "T45",
          "T29",
          "T49",
          "T55",
          "T47",
          "T60",
          "T70",
          "T43",
          "T59",
          "T58",
          "T57",
          "T52",
          "T44",
          "T42",
          "T53",
          "T69"
         ],
         "xaxis": "x4",
         "y": [
          0.40290359656016034,
          0.47348252932230633,
          0.4993329842885335,
          0.5048133333524069,
          0.5087317824363708,
          0.5266479849815369,
          0.5587396820386251,
          0.5669381419817606,
          0.5695674419403076,
          0.5811976591746012,
          0.5982316732406616,
          0.631239672501882,
          0.6370999018351237,
          0.6388889153798422,
          0.6570563316345215,
          0.6629946033159891,
          0.6932293176651001,
          0.7053327560424805,
          0.7089947462081909,
          0.71190478404363,
          0.7129425009091696,
          0.7239681482315063,
          0.7396079301834106,
          0.7490506172180176,
          0.7505701979001363,
          0.7711225549379984,
          0.7786813775698344,
          0.7997101346651713,
          0.8067423105239868,
          0.8185162345568339,
          0.8239372769991556,
          0.8359568119049072,
          0.8404761950174967,
          0.8860732913017273,
          0.8956476449966431,
          0.9119047323862711,
          0.9406911929448446,
          0.9559722940127054,
          0.9632135629653931,
          0.9741932153701782,
          0.9787811636924743,
          0.9796296159426371,
          0.9869189659754435
         ],
         "yaxis": "y4",
         "type": "scatter"
        },
        {
         "hovertemplate": "Method=baseline<br>exp=Augmentation<br>Policy<br>Task ID=%{x}<br>BA=%{y}<extra></extra>",
         "legendgroup": "baseline",
         "line": {
          "color": "#FFA15A",
          "dash": "solid"
         },
         "marker": {
          "symbol": "circle"
         },
         "mode": "lines",
         "name": "baseline",
         "orientation": "v",
         "showlegend": false,
         "x": [
          "T66",
          "T67",
          "T36",
          "T65",
          "T31",
          "T62",
          "T34",
          "T63",
          "T68",
          "T32",
          "T41",
          "T35",
          "T30",
          "T61",
          "T48",
          "T40",
          "T71",
          "T38",
          "T54",
          "T56",
          "T64",
          "T46",
          "T50",
          "T37",
          "T33",
          "T39",
          "T51",
          "T45",
          "T29",
          "T49",
          "T55",
          "T47",
          "T60",
          "T70",
          "T43",
          "T59",
          "T58",
          "T57",
          "T52",
          "T44",
          "T42",
          "T53",
          "T69"
         ],
         "xaxis": "x",
         "y": [
          0.40290359656016034,
          0.47348252932230633,
          0.4993329842885335,
          0.5048133333524069,
          0.5087317824363708,
          0.5266479849815369,
          0.5587396820386251,
          0.5669381419817606,
          0.5695674419403076,
          0.5811976591746012,
          0.5982316732406616,
          0.631239672501882,
          0.6370999018351237,
          0.6388889153798422,
          0.6570563316345215,
          0.6629946033159891,
          0.6932293176651001,
          0.7053327560424805,
          0.7089947462081909,
          0.71190478404363,
          0.7129425009091696,
          0.7239681482315063,
          0.7396079301834106,
          0.7490506172180176,
          0.7505701979001363,
          0.7711225549379984,
          0.7786813775698344,
          0.7997101346651713,
          0.8067423105239868,
          0.8185162345568339,
          0.8239372769991556,
          0.8359568119049072,
          0.8404761950174967,
          0.8860732913017273,
          0.8956476449966431,
          0.9119047323862711,
          0.9406911929448446,
          0.9559722940127054,
          0.9632135629653931,
          0.9741932153701782,
          0.9787811636924743,
          0.9796296159426371,
          0.9869189659754435
         ],
         "yaxis": "y",
         "type": "scatter"
        },
        {
         "hovertemplate": "Method=baseline<br>exp=Co-Training<br>Data<br>Task ID=%{x}<br>BA=%{y}<extra></extra>",
         "legendgroup": "baseline",
         "line": {
          "color": "#FFA15A",
          "dash": "solid"
         },
         "marker": {
          "symbol": "circle"
         },
         "mode": "lines",
         "name": "baseline",
         "orientation": "v",
         "showlegend": false,
         "x": [
          "T66",
          "T67",
          "T36",
          "T65",
          "T31",
          "T62",
          "T34",
          "T63",
          "T68",
          "T32",
          "T41",
          "T35",
          "T30",
          "T61",
          "T48",
          "T40",
          "T71",
          "T38",
          "T54",
          "T56",
          "T64",
          "T46",
          "T50",
          "T37",
          "T33",
          "T39",
          "T51",
          "T45",
          "T29",
          "T49",
          "T55",
          "T47",
          "T60",
          "T70",
          "T43",
          "T59",
          "T58",
          "T57",
          "T52",
          "T44",
          "T42",
          "T53",
          "T69"
         ],
         "xaxis": "x2",
         "y": [
          0.40290359656016034,
          0.47348252932230633,
          0.4993329842885335,
          0.5048133333524069,
          0.5087317824363708,
          0.5266479849815369,
          0.5587396820386251,
          0.5669381419817606,
          0.5695674419403076,
          0.5811976591746012,
          0.5982316732406616,
          0.631239672501882,
          0.6370999018351237,
          0.6388889153798422,
          0.6570563316345215,
          0.6629946033159891,
          0.6932293176651001,
          0.7053327560424805,
          0.7089947462081909,
          0.71190478404363,
          0.7129425009091696,
          0.7239681482315063,
          0.7396079301834106,
          0.7490506172180176,
          0.7505701979001363,
          0.7711225549379984,
          0.7786813775698344,
          0.7997101346651713,
          0.8067423105239868,
          0.8185162345568339,
          0.8239372769991556,
          0.8359568119049072,
          0.8404761950174967,
          0.8860732913017273,
          0.8956476449966431,
          0.9119047323862711,
          0.9406911929448446,
          0.9559722940127054,
          0.9632135629653931,
          0.9741932153701782,
          0.9787811636924743,
          0.9796296159426371,
          0.9869189659754435
         ],
         "yaxis": "y2",
         "type": "scatter"
        }
       ],
       "layout": {
        "template": {
         "data": {
          "barpolar": [
           {
            "marker": {
             "line": {
              "color": "#E5ECF6",
              "width": 0.5
             },
             "pattern": {
              "fillmode": "overlay",
              "size": 10,
              "solidity": 0.2
             }
            },
            "type": "barpolar"
           }
          ],
          "bar": [
           {
            "error_x": {
             "color": "#2a3f5f"
            },
            "error_y": {
             "color": "#2a3f5f"
            },
            "marker": {
             "line": {
              "color": "#E5ECF6",
              "width": 0.5
             },
             "pattern": {
              "fillmode": "overlay",
              "size": 10,
              "solidity": 0.2
             }
            },
            "type": "bar"
           }
          ],
          "carpet": [
           {
            "aaxis": {
             "endlinecolor": "#2a3f5f",
             "gridcolor": "white",
             "linecolor": "white",
             "minorgridcolor": "white",
             "startlinecolor": "#2a3f5f"
            },
            "baxis": {
             "endlinecolor": "#2a3f5f",
             "gridcolor": "white",
             "linecolor": "white",
             "minorgridcolor": "white",
             "startlinecolor": "#2a3f5f"
            },
            "type": "carpet"
           }
          ],
          "choropleth": [
           {
            "colorbar": {
             "outlinewidth": 0,
             "ticks": ""
            },
            "type": "choropleth"
           }
          ],
          "contourcarpet": [
           {
            "colorbar": {
             "outlinewidth": 0,
             "ticks": ""
            },
            "type": "contourcarpet"
           }
          ],
          "contour": [
           {
            "colorbar": {
             "outlinewidth": 0,
             "ticks": ""
            },
            "colorscale": [
             [
              0.0,
              "#0d0887"
             ],
             [
              0.1111111111111111,
              "#46039f"
             ],
             [
              0.2222222222222222,
              "#7201a8"
             ],
             [
              0.3333333333333333,
              "#9c179e"
             ],
             [
              0.4444444444444444,
              "#bd3786"
             ],
             [
              0.5555555555555556,
              "#d8576b"
             ],
             [
              0.6666666666666666,
              "#ed7953"
             ],
             [
              0.7777777777777778,
              "#fb9f3a"
             ],
             [
              0.8888888888888888,
              "#fdca26"
             ],
             [
              1.0,
              "#f0f921"
             ]
            ],
            "type": "contour"
           }
          ],
          "heatmapgl": [
           {
            "colorbar": {
             "outlinewidth": 0,
             "ticks": ""
            },
            "colorscale": [
             [
              0.0,
              "#0d0887"
             ],
             [
              0.1111111111111111,
              "#46039f"
             ],
             [
              0.2222222222222222,
              "#7201a8"
             ],
             [
              0.3333333333333333,
              "#9c179e"
             ],
             [
              0.4444444444444444,
              "#bd3786"
             ],
             [
              0.5555555555555556,
              "#d8576b"
             ],
             [
              0.6666666666666666,
              "#ed7953"
             ],
             [
              0.7777777777777778,
              "#fb9f3a"
             ],
             [
              0.8888888888888888,
              "#fdca26"
             ],
             [
              1.0,
              "#f0f921"
             ]
            ],
            "type": "heatmapgl"
           }
          ],
          "heatmap": [
           {
            "colorbar": {
             "outlinewidth": 0,
             "ticks": ""
            },
            "colorscale": [
             [
              0.0,
              "#0d0887"
             ],
             [
              0.1111111111111111,
              "#46039f"
             ],
             [
              0.2222222222222222,
              "#7201a8"
             ],
             [
              0.3333333333333333,
              "#9c179e"
             ],
             [
              0.4444444444444444,
              "#bd3786"
             ],
             [
              0.5555555555555556,
              "#d8576b"
             ],
             [
              0.6666666666666666,
              "#ed7953"
             ],
             [
              0.7777777777777778,
              "#fb9f3a"
             ],
             [
              0.8888888888888888,
              "#fdca26"
             ],
             [
              1.0,
              "#f0f921"
             ]
            ],
            "type": "heatmap"
           }
          ],
          "histogram2dcontour": [
           {
            "colorbar": {
             "outlinewidth": 0,
             "ticks": ""
            },
            "colorscale": [
             [
              0.0,
              "#0d0887"
             ],
             [
              0.1111111111111111,
              "#46039f"
             ],
             [
              0.2222222222222222,
              "#7201a8"
             ],
             [
              0.3333333333333333,
              "#9c179e"
             ],
             [
              0.4444444444444444,
              "#bd3786"
             ],
             [
              0.5555555555555556,
              "#d8576b"
             ],
             [
              0.6666666666666666,
              "#ed7953"
             ],
             [
              0.7777777777777778,
              "#fb9f3a"
             ],
             [
              0.8888888888888888,
              "#fdca26"
             ],
             [
              1.0,
              "#f0f921"
             ]
            ],
            "type": "histogram2dcontour"
           }
          ],
          "histogram2d": [
           {
            "colorbar": {
             "outlinewidth": 0,
             "ticks": ""
            },
            "colorscale": [
             [
              0.0,
              "#0d0887"
             ],
             [
              0.1111111111111111,
              "#46039f"
             ],
             [
              0.2222222222222222,
              "#7201a8"
             ],
             [
              0.3333333333333333,
              "#9c179e"
             ],
             [
              0.4444444444444444,
              "#bd3786"
             ],
             [
              0.5555555555555556,
              "#d8576b"
             ],
             [
              0.6666666666666666,
              "#ed7953"
             ],
             [
              0.7777777777777778,
              "#fb9f3a"
             ],
             [
              0.8888888888888888,
              "#fdca26"
             ],
             [
              1.0,
              "#f0f921"
             ]
            ],
            "type": "histogram2d"
           }
          ],
          "histogram": [
           {
            "marker": {
             "pattern": {
              "fillmode": "overlay",
              "size": 10,
              "solidity": 0.2
             }
            },
            "type": "histogram"
           }
          ],
          "mesh3d": [
           {
            "colorbar": {
             "outlinewidth": 0,
             "ticks": ""
            },
            "type": "mesh3d"
           }
          ],
          "parcoords": [
           {
            "line": {
             "colorbar": {
              "outlinewidth": 0,
              "ticks": ""
             }
            },
            "type": "parcoords"
           }
          ],
          "pie": [
           {
            "automargin": true,
            "type": "pie"
           }
          ],
          "scatter3d": [
           {
            "line": {
             "colorbar": {
              "outlinewidth": 0,
              "ticks": ""
             }
            },
            "marker": {
             "colorbar": {
              "outlinewidth": 0,
              "ticks": ""
             }
            },
            "type": "scatter3d"
           }
          ],
          "scattercarpet": [
           {
            "marker": {
             "colorbar": {
              "outlinewidth": 0,
              "ticks": ""
             }
            },
            "type": "scattercarpet"
           }
          ],
          "scattergeo": [
           {
            "marker": {
             "colorbar": {
              "outlinewidth": 0,
              "ticks": ""
             }
            },
            "type": "scattergeo"
           }
          ],
          "scattergl": [
           {
            "marker": {
             "colorbar": {
              "outlinewidth": 0,
              "ticks": ""
             }
            },
            "type": "scattergl"
           }
          ],
          "scattermapbox": [
           {
            "marker": {
             "colorbar": {
              "outlinewidth": 0,
              "ticks": ""
             }
            },
            "type": "scattermapbox"
           }
          ],
          "scatterpolargl": [
           {
            "marker": {
             "colorbar": {
              "outlinewidth": 0,
              "ticks": ""
             }
            },
            "type": "scatterpolargl"
           }
          ],
          "scatterpolar": [
           {
            "marker": {
             "colorbar": {
              "outlinewidth": 0,
              "ticks": ""
             }
            },
            "type": "scatterpolar"
           }
          ],
          "scatter": [
           {
            "fillpattern": {
             "fillmode": "overlay",
             "size": 10,
             "solidity": 0.2
            },
            "type": "scatter"
           }
          ],
          "scatterternary": [
           {
            "marker": {
             "colorbar": {
              "outlinewidth": 0,
              "ticks": ""
             }
            },
            "type": "scatterternary"
           }
          ],
          "surface": [
           {
            "colorbar": {
             "outlinewidth": 0,
             "ticks": ""
            },
            "colorscale": [
             [
              0.0,
              "#0d0887"
             ],
             [
              0.1111111111111111,
              "#46039f"
             ],
             [
              0.2222222222222222,
              "#7201a8"
             ],
             [
              0.3333333333333333,
              "#9c179e"
             ],
             [
              0.4444444444444444,
              "#bd3786"
             ],
             [
              0.5555555555555556,
              "#d8576b"
             ],
             [
              0.6666666666666666,
              "#ed7953"
             ],
             [
              0.7777777777777778,
              "#fb9f3a"
             ],
             [
              0.8888888888888888,
              "#fdca26"
             ],
             [
              1.0,
              "#f0f921"
             ]
            ],
            "type": "surface"
           }
          ],
          "table": [
           {
            "cells": {
             "fill": {
              "color": "#EBF0F8"
             },
             "line": {
              "color": "white"
             }
            },
            "header": {
             "fill": {
              "color": "#C8D4E3"
             },
             "line": {
              "color": "white"
             }
            },
            "type": "table"
           }
          ]
         },
         "layout": {
          "annotationdefaults": {
           "arrowcolor": "#2a3f5f",
           "arrowhead": 0,
           "arrowwidth": 1
          },
          "autotypenumbers": "strict",
          "coloraxis": {
           "colorbar": {
            "outlinewidth": 0,
            "ticks": ""
           }
          },
          "colorscale": {
           "diverging": [
            [
             0,
             "#8e0152"
            ],
            [
             0.1,
             "#c51b7d"
            ],
            [
             0.2,
             "#de77ae"
            ],
            [
             0.3,
             "#f1b6da"
            ],
            [
             0.4,
             "#fde0ef"
            ],
            [
             0.5,
             "#f7f7f7"
            ],
            [
             0.6,
             "#e6f5d0"
            ],
            [
             0.7,
             "#b8e186"
            ],
            [
             0.8,
             "#7fbc41"
            ],
            [
             0.9,
             "#4d9221"
            ],
            [
             1,
             "#276419"
            ]
           ],
           "sequential": [
            [
             0.0,
             "#0d0887"
            ],
            [
             0.1111111111111111,
             "#46039f"
            ],
            [
             0.2222222222222222,
             "#7201a8"
            ],
            [
             0.3333333333333333,
             "#9c179e"
            ],
            [
             0.4444444444444444,
             "#bd3786"
            ],
            [
             0.5555555555555556,
             "#d8576b"
            ],
            [
             0.6666666666666666,
             "#ed7953"
            ],
            [
             0.7777777777777778,
             "#fb9f3a"
            ],
            [
             0.8888888888888888,
             "#fdca26"
            ],
            [
             1.0,
             "#f0f921"
            ]
           ],
           "sequentialminus": [
            [
             0.0,
             "#0d0887"
            ],
            [
             0.1111111111111111,
             "#46039f"
            ],
            [
             0.2222222222222222,
             "#7201a8"
            ],
            [
             0.3333333333333333,
             "#9c179e"
            ],
            [
             0.4444444444444444,
             "#bd3786"
            ],
            [
             0.5555555555555556,
             "#d8576b"
            ],
            [
             0.6666666666666666,
             "#ed7953"
            ],
            [
             0.7777777777777778,
             "#fb9f3a"
            ],
            [
             0.8888888888888888,
             "#fdca26"
            ],
            [
             1.0,
             "#f0f921"
            ]
           ]
          },
          "colorway": [
           "#636efa",
           "#EF553B",
           "#00cc96",
           "#ab63fa",
           "#FFA15A",
           "#19d3f3",
           "#FF6692",
           "#B6E880",
           "#FF97FF",
           "#FECB52"
          ],
          "font": {
           "color": "#2a3f5f"
          },
          "geo": {
           "bgcolor": "white",
           "lakecolor": "white",
           "landcolor": "#E5ECF6",
           "showlakes": true,
           "showland": true,
           "subunitcolor": "white"
          },
          "hoverlabel": {
           "align": "left"
          },
          "hovermode": "closest",
          "mapbox": {
           "style": "light"
          },
          "paper_bgcolor": "white",
          "plot_bgcolor": "#E5ECF6",
          "polar": {
           "angularaxis": {
            "gridcolor": "white",
            "linecolor": "white",
            "ticks": ""
           },
           "bgcolor": "#E5ECF6",
           "radialaxis": {
            "gridcolor": "white",
            "linecolor": "white",
            "ticks": ""
           }
          },
          "scene": {
           "xaxis": {
            "backgroundcolor": "#E5ECF6",
            "gridcolor": "white",
            "gridwidth": 2,
            "linecolor": "white",
            "showbackground": true,
            "ticks": "",
            "zerolinecolor": "white"
           },
           "yaxis": {
            "backgroundcolor": "#E5ECF6",
            "gridcolor": "white",
            "gridwidth": 2,
            "linecolor": "white",
            "showbackground": true,
            "ticks": "",
            "zerolinecolor": "white"
           },
           "zaxis": {
            "backgroundcolor": "#E5ECF6",
            "gridcolor": "white",
            "gridwidth": 2,
            "linecolor": "white",
            "showbackground": true,
            "ticks": "",
            "zerolinecolor": "white"
           }
          },
          "shapedefaults": {
           "line": {
            "color": "#2a3f5f"
           }
          },
          "ternary": {
           "aaxis": {
            "gridcolor": "white",
            "linecolor": "white",
            "ticks": ""
           },
           "baxis": {
            "gridcolor": "white",
            "linecolor": "white",
            "ticks": ""
           },
           "bgcolor": "#E5ECF6",
           "caxis": {
            "gridcolor": "white",
            "linecolor": "white",
            "ticks": ""
           }
          },
          "title": {
           "x": 0.05
          },
          "xaxis": {
           "automargin": true,
           "gridcolor": "white",
           "linecolor": "white",
           "ticks": "",
           "title": {
            "standoff": 15
           },
           "zerolinecolor": "white",
           "zerolinewidth": 2
          },
          "yaxis": {
           "automargin": true,
           "gridcolor": "white",
           "linecolor": "white",
           "ticks": "",
           "title": {
            "standoff": 15
           },
           "zerolinecolor": "white",
           "zerolinewidth": 2
          }
         }
        },
        "xaxis": {
         "anchor": "y",
         "domain": [
          0.0,
          0.49
         ],
         "title": {
          "text": "Task ID"
         },
         "nticks": 172
        },
        "yaxis": {
         "anchor": "x",
         "domain": [
          0.0,
          0.425
         ],
         "title": {
          "text": "BA"
         }
        },
        "xaxis2": {
         "anchor": "y2",
         "domain": [
          0.51,
          1.0
         ],
         "matches": "x",
         "title": {
          "text": "Task ID"
         },
         "nticks": 172
        },
        "yaxis2": {
         "anchor": "x2",
         "domain": [
          0.0,
          0.425
         ],
         "matches": "y",
         "showticklabels": false
        },
        "xaxis3": {
         "anchor": "y3",
         "domain": [
          0.0,
          0.49
         ],
         "matches": "x",
         "showticklabels": false,
         "nticks": 172
        },
        "yaxis3": {
         "anchor": "x3",
         "domain": [
          0.575,
          1.0
         ],
         "matches": "y",
         "title": {
          "text": "BA"
         }
        },
        "xaxis4": {
         "anchor": "y4",
         "domain": [
          0.51,
          1.0
         ],
         "matches": "x",
         "showticklabels": false,
         "nticks": 172
        },
        "yaxis4": {
         "anchor": "x4",
         "domain": [
          0.575,
          1.0
         ],
         "matches": "y",
         "showticklabels": false
        },
        "annotations": [
         {
          "font": {},
          "showarrow": false,
          "text": "Augmentation<br>Policy",
          "x": 0.245,
          "xanchor": "center",
          "xref": "paper",
          "y": 0.425,
          "yanchor": "bottom",
          "yref": "paper"
         },
         {
          "font": {},
          "showarrow": false,
          "text": "Co-Training<br>Data",
          "x": 0.755,
          "xanchor": "center",
          "xref": "paper",
          "y": 0.425,
          "yanchor": "bottom",
          "yref": "paper"
         },
         {
          "font": {},
          "showarrow": false,
          "text": "Model<br>Architecture",
          "x": 0.245,
          "xanchor": "center",
          "xref": "paper",
          "y": 1.0,
          "yanchor": "bottom",
          "yref": "paper"
         },
         {
          "font": {},
          "showarrow": false,
          "text": "Pretraining<br>Data",
          "x": 0.755,
          "xanchor": "center",
          "xref": "paper",
          "y": 1.0,
          "yanchor": "bottom",
          "yref": "paper"
         }
        ],
        "legend": {
         "title": {
          "text": "Method"
         },
         "tracegroupgap": 0,
         "orientation": "h",
         "y": -0.2,
         "xanchor": "center",
         "x": 0.5
        },
        "margin": {
         "t": 60
        },
        "font": {
         "size": 20
        },
        "width": 2000,
        "height": 800
       },
       "config": {
        "plotlyServerURL": "https://plot.ly"
       }
      },
      "text/html": [
       "<div>                            <div id=\"7badcbb5-91a6-49ec-a5dc-d2aeff0750b2\" class=\"plotly-graph-div\" style=\"height:800px; width:2000px;\"></div>            <script type=\"text/javascript\">                require([\"plotly\"], function(Plotly) {                    window.PLOTLYENV=window.PLOTLYENV || {};                                    if (document.getElementById(\"7badcbb5-91a6-49ec-a5dc-d2aeff0750b2\")) {                    Plotly.newPlot(                        \"7badcbb5-91a6-49ec-a5dc-d2aeff0750b2\",                        [{\"hovertemplate\":\"Method=bKLD(small,target)\\u003cbr\\u003eexp=Model\\u003cbr\\u003eArchitecture\\u003cbr\\u003eTask ID=%{x}\\u003cbr\\u003eBA=%{y}\\u003cextra\\u003e\\u003c\\u002fextra\\u003e\",\"legendgroup\":\"bKLD(small,target)\",\"line\":{\"color\":\"rgb(60, 180, 75)\",\"dash\":\"solid\"},\"marker\":{\"symbol\":\"circle\"},\"mode\":\"lines\",\"name\":\"bKLD(small,target)\",\"orientation\":\"v\",\"showlegend\":true,\"x\":[\"T66\",\"T67\",\"T36\",\"T65\",\"T31\",\"T62\",\"T34\",\"T63\",\"T68\",\"T32\",\"T41\",\"T35\",\"T30\",\"T61\",\"T48\",\"T40\",\"T71\",\"T38\",\"T54\",\"T56\",\"T64\",\"T46\",\"T50\",\"T37\",\"T33\",\"T39\",\"T51\",\"T45\",\"T29\",\"T49\",\"T55\",\"T47\",\"T60\",\"T70\",\"T43\",\"T59\",\"T58\",\"T57\",\"T52\",\"T44\",\"T42\",\"T53\",\"T69\"],\"xaxis\":\"x3\",\"y\":[0.4513583183288574,0.46867285172144574,0.5127352476119995,0.46618101994196576,0.5375033219655355,0.5302988489468893,0.5700982610384623,0.6520340840021769,0.6006070971488953,0.6016069253285726,0.6194861133893331,0.625948409239451,0.6455140312512716,0.694444497426351,0.6796799500783285,0.5556252400080363,0.7552194396654764,0.7129273017247518,0.7227513392766317,0.6942460338274637,0.7377701004346212,0.7463196714719137,0.7462279200553894,0.7621070742607117,0.8363963564236959,0.7628742655118307,0.789979616800944,0.7995277047157288,0.816621204217275,0.8433852990468343,0.8239271442095438,0.8504629532496134,0.7928571502367655,0.9223395188649496,0.9006981452306112,0.9360119104385376,0.9416333039601644,0.9676348765691122,0.9702274401982626,0.9822680950164795,0.9800681670506796,0.9807407458623251,0.9863314429918925],\"yaxis\":\"y3\",\"type\":\"scatter\"},{\"hovertemplate\":\"Method=bKLD(small,target)\\u003cbr\\u003eexp=Pretraining\\u003cbr\\u003eData\\u003cbr\\u003eTask ID=%{x}\\u003cbr\\u003eBA=%{y}\\u003cextra\\u003e\\u003c\\u002fextra\\u003e\",\"legendgroup\":\"bKLD(small,target)\",\"line\":{\"color\":\"rgb(60, 180, 75)\",\"dash\":\"solid\"},\"marker\":{\"symbol\":\"circle\"},\"mode\":\"lines\",\"name\":\"bKLD(small,target)\",\"orientation\":\"v\",\"showlegend\":false,\"x\":[\"T66\",\"T67\",\"T36\",\"T65\",\"T31\",\"T62\",\"T34\",\"T63\",\"T68\",\"T32\",\"T41\",\"T35\",\"T30\",\"T61\",\"T48\",\"T40\",\"T71\",\"T38\",\"T54\",\"T56\",\"T64\",\"T46\",\"T50\",\"T37\",\"T33\",\"T39\",\"T51\",\"T45\",\"T29\",\"T49\",\"T55\",\"T47\",\"T60\",\"T70\",\"T43\",\"T59\",\"T58\",\"T57\",\"T52\",\"T44\",\"T42\",\"T53\",\"T69\"],\"xaxis\":\"x4\",\"y\":[0.41559487581253046,0.4617798427740733,0.5091589689254761,0.5163640975952148,0.5390736858050028,0.5440460244814554,0.5907173554102579,0.6082321008046468,0.5565607150395712,0.5875194867451986,0.621011217435201,0.6326521237691244,0.6391063531239828,0.5902777910232544,0.6766971747080485,0.579149047533671,0.7683695554733276,0.7049058874448141,0.7518518765767416,0.662500003973643,0.7387815912564596,0.7253855466842651,0.746202309926351,0.7538151343663534,0.8177329500516256,0.753817061583201,0.7802419463793436,0.7920781572659811,0.8099680741628011,0.8312196731567383,0.8049322168032328,0.8246913353602091,0.7726190487543741,0.9035969376564026,0.8752971092859904,0.8809523582458496,0.9232002099355062,0.955195963382721,0.9588660796483358,0.9746052424112955,0.9788645704587301,0.9737963080406189,0.9841957092285156],\"yaxis\":\"y4\",\"type\":\"scatter\"},{\"hovertemplate\":\"Method=bKLD(small,target)\\u003cbr\\u003eexp=Augmentation\\u003cbr\\u003ePolicy\\u003cbr\\u003eTask ID=%{x}\\u003cbr\\u003eBA=%{y}\\u003cextra\\u003e\\u003c\\u002fextra\\u003e\",\"legendgroup\":\"bKLD(small,target)\",\"line\":{\"color\":\"rgb(60, 180, 75)\",\"dash\":\"solid\"},\"marker\":{\"symbol\":\"circle\"},\"mode\":\"lines\",\"name\":\"bKLD(small,target)\",\"orientation\":\"v\",\"showlegend\":false,\"x\":[\"T66\",\"T67\",\"T36\",\"T65\",\"T31\",\"T62\",\"T34\",\"T63\",\"T68\",\"T32\",\"T41\",\"T35\",\"T30\",\"T61\",\"T48\",\"T40\",\"T71\",\"T38\",\"T54\",\"T56\",\"T64\",\"T46\",\"T50\",\"T37\",\"T33\",\"T39\",\"T51\",\"T45\",\"T29\",\"T49\",\"T55\",\"T47\",\"T60\",\"T70\",\"T43\",\"T59\",\"T58\",\"T57\",\"T52\",\"T44\",\"T42\",\"T53\",\"T69\"],\"xaxis\":\"x\",\"y\":[0.5057107408841451,0.4983282188574473,0.5056319236755371,0.4691382050514221,0.5255266427993774,0.5621964335441589,0.5587248802185059,0.618439515431722,0.6356857021649679,0.5945387482643127,0.6172555685043335,0.6355323195457458,0.6282599965731303,0.625000019868215,0.6708954572677612,0.5442932645479838,0.8124574422836304,0.7120300531387329,0.8198413054148356,0.6821428736050924,0.7354023059209188,0.7331302165985107,0.7442529598871866,0.7437770962715149,0.8264352679252625,0.7671288450558981,0.7863545417785645,0.7914031942685446,0.8011905352274576,0.8181612888971964,0.8487299879391988,0.8376543521881104,0.8488095204035441,0.9410044948259989,0.907531201839447,0.9470238089561462,0.9505480527877808,0.9716353416442871,0.9759804407755533,0.9881347219149271,0.9899137417475382,0.9820370276769003,0.9891496300697327],\"yaxis\":\"y\",\"type\":\"scatter\"},{\"hovertemplate\":\"Method=bKLD(small,target)\\u003cbr\\u003eexp=Co-Training\\u003cbr\\u003eData\\u003cbr\\u003eTask ID=%{x}\\u003cbr\\u003eBA=%{y}\\u003cextra\\u003e\\u003c\\u002fextra\\u003e\",\"legendgroup\":\"bKLD(small,target)\",\"line\":{\"color\":\"rgb(60, 180, 75)\",\"dash\":\"solid\"},\"marker\":{\"symbol\":\"circle\"},\"mode\":\"lines\",\"name\":\"bKLD(small,target)\",\"orientation\":\"v\",\"showlegend\":false,\"x\":[\"T66\",\"T67\",\"T36\",\"T65\",\"T31\",\"T62\",\"T34\",\"T63\",\"T68\",\"T32\",\"T41\",\"T35\",\"T30\",\"T61\",\"T48\",\"T40\",\"T71\",\"T38\",\"T54\",\"T56\",\"T64\",\"T46\",\"T50\",\"T37\",\"T33\",\"T39\",\"T51\",\"T45\",\"T29\",\"T49\",\"T55\",\"T47\",\"T60\",\"T70\",\"T43\",\"T59\",\"T58\",\"T57\",\"T52\",\"T44\",\"T42\",\"T53\",\"T69\"],\"xaxis\":\"x2\",\"y\":[0.41860217849413556,0.4853137930234273,0.5112081170082092,0.4885232249895732,0.5401672720909119,0.5665291349093119,0.5779181520144144,0.644740621248881,0.5876072645187378,0.5963766773541769,0.6173412402470907,0.6237708727518717,0.6444260676701864,0.7083333730697632,0.6782189806302389,0.5658838748931885,0.7892196575800577,0.7143207589785258,0.9042328596115112,0.6829365094502767,0.7366321881612142,0.740889847278595,0.7606251438458761,0.7554020881652832,0.8269570271174113,0.7713153759638468,0.788735826810201,0.8024236162503561,0.8143321474393209,0.838555634021759,0.8443512320518494,0.8370370467503866,0.8011904954910278,0.9282086491584779,0.8778223594029745,0.9220238327980042,0.940216859181722,0.9794602990150452,0.965934952100118,0.9808839162190756,0.9872872630755106,0.9800926049550375,0.987221876780192],\"yaxis\":\"y2\",\"type\":\"scatter\"},{\"hovertemplate\":\"Method=Manual\\u003cbr\\u003eexp=Model\\u003cbr\\u003eArchitecture\\u003cbr\\u003eTask ID=%{x}\\u003cbr\\u003eBA=%{y}\\u003cextra\\u003e\\u003c\\u002fextra\\u003e\",\"legendgroup\":\"Manual\",\"line\":{\"color\":\"rgb(230, 25, 75)\",\"dash\":\"dot\"},\"marker\":{\"symbol\":\"circle\"},\"mode\":\"lines\",\"name\":\"Manual\",\"orientation\":\"v\",\"showlegend\":true,\"x\":[\"T66\",\"T67\",\"T36\",\"T65\",\"T31\",\"T62\",\"T34\",\"T63\",\"T68\",\"T32\",\"T41\",\"T35\",\"T30\",\"T61\",\"T48\",\"T40\",\"T71\",\"T38\",\"T54\",\"T56\",\"T64\",\"T46\",\"T50\",\"T37\",\"T33\",\"T39\",\"T51\",\"T45\",\"T29\",\"T49\",\"T55\",\"T47\",\"T60\",\"T70\",\"T43\",\"T59\",\"T58\",\"T57\",\"T52\",\"T44\",\"T42\",\"T53\",\"T69\"],\"xaxis\":\"x3\",\"y\":[0.4513583183288574,0.46867285172144574,0.5127352476119995,0.48455989360809326,0.5375033219655355,0.5406051874160767,0.5700982610384623,0.6533382932345072,0.6006070971488953,0.6016069253285726,0.6194861133893331,0.625948409239451,0.6455140312512716,0.6875000397364298,0.6755202611287435,0.5556252400080363,0.7552194396654764,0.7129273017247518,0.6206349531809489,0.708730161190033,0.7377701004346212,0.7495739857355753,0.7553172906239828,0.7621070742607117,0.8363963564236959,0.7628742655118307,0.7852893670399984,0.7975088953971863,0.816621204217275,0.8433852990468343,0.8226601282755533,0.8248456716537476,0.899999996026357,0.9223395188649496,0.9102792541186014,0.9577381014823914,0.9410249590873718,0.969074527422587,0.9759259025255839,0.9839572707811991,0.9813551704088846,0.9798148274421692,0.9877665241559347],\"yaxis\":\"y3\",\"type\":\"scatter\"},{\"hovertemplate\":\"Method=Manual\\u003cbr\\u003eexp=Pretraining\\u003cbr\\u003eData\\u003cbr\\u003eTask ID=%{x}\\u003cbr\\u003eBA=%{y}\\u003cextra\\u003e\\u003c\\u002fextra\\u003e\",\"legendgroup\":\"Manual\",\"line\":{\"color\":\"rgb(230, 25, 75)\",\"dash\":\"dot\"},\"marker\":{\"symbol\":\"circle\"},\"mode\":\"lines\",\"name\":\"Manual\",\"orientation\":\"v\",\"showlegend\":false,\"x\":[\"T66\",\"T67\",\"T36\",\"T65\",\"T31\",\"T62\",\"T34\",\"T63\",\"T68\",\"T32\",\"T41\",\"T35\",\"T30\",\"T61\",\"T48\",\"T40\",\"T71\",\"T38\",\"T54\",\"T56\",\"T64\",\"T46\",\"T50\",\"T37\",\"T33\",\"T39\",\"T51\",\"T45\",\"T29\",\"T49\",\"T55\",\"T47\",\"T60\",\"T70\",\"T43\",\"T59\",\"T58\",\"T57\",\"T52\",\"T44\",\"T42\",\"T53\",\"T69\"],\"xaxis\":\"x4\",\"y\":[0.4224736094474792,0.4617798427740733,0.5091589689254761,0.5163640975952148,0.5390736858050028,0.5451332529385885,0.5907173554102579,0.58307413260142,0.5579626758893331,0.5875194867451986,0.621011217435201,0.6326521237691244,0.6391063531239828,0.6180555820465088,0.6658318042755127,0.579149047533671,0.7683695554733276,0.7049058874448141,0.7518518765767416,0.646230161190033,0.7387815912564596,0.7249410351117452,0.7487646540006002,0.7538151343663534,0.8177329500516256,0.753817061583201,0.7795212070147196,0.7894251545270284,0.8099680741628011,0.8185108701388041,0.7870015899340311,0.8300925890604655,0.8083333174387614,0.9035969376564026,0.8754456241925558,0.8788690368334452,0.9226892590522766,0.9442907174428304,0.9330585400263468,0.9809909661610922,0.9802564382553101,0.9702777663866679,0.9841957092285156],\"yaxis\":\"y4\",\"type\":\"scatter\"},{\"hovertemplate\":\"Method=Manual\\u003cbr\\u003eexp=Augmentation\\u003cbr\\u003ePolicy\\u003cbr\\u003eTask ID=%{x}\\u003cbr\\u003eBA=%{y}\\u003cextra\\u003e\\u003c\\u002fextra\\u003e\",\"legendgroup\":\"Manual\",\"line\":{\"color\":\"rgb(230, 25, 75)\",\"dash\":\"dot\"},\"marker\":{\"symbol\":\"circle\"},\"mode\":\"lines\",\"name\":\"Manual\",\"orientation\":\"v\",\"showlegend\":false,\"x\":[\"T66\",\"T67\",\"T36\",\"T65\",\"T31\",\"T62\",\"T34\",\"T63\",\"T68\",\"T32\",\"T41\",\"T35\",\"T30\",\"T61\",\"T48\",\"T40\",\"T71\",\"T38\",\"T54\",\"T56\",\"T64\",\"T46\",\"T50\",\"T37\",\"T33\",\"T39\",\"T51\",\"T45\",\"T29\",\"T49\",\"T55\",\"T47\",\"T60\",\"T70\",\"T43\",\"T59\",\"T58\",\"T57\",\"T52\",\"T44\",\"T42\",\"T53\",\"T69\"],\"xaxis\":\"x\",\"y\":[0.5057107408841451,0.4983282188574473,0.5056319236755371,0.45967138806978863,0.5255266427993774,0.5637579758961996,0.5587248802185059,0.5973913868268331,0.6356857021649679,0.5945387482643127,0.6172555685043335,0.6355323195457458,0.6282599965731303,0.625000019868215,0.6708954572677612,0.5442932645479838,0.8124574422836304,0.7120300531387329,0.8206349809964498,0.6748016079266866,0.7354023059209188,0.7309490640958151,0.7436709801355997,0.7437770962715149,0.8264352679252625,0.7671288450558981,0.7863545417785645,0.8007516860961914,0.8011905352274576,0.8308647076288859,0.8760060469309489,0.8259259263674418,0.8488095204035441,0.9410044948259989,0.8852495551109314,0.9261904756228129,0.9463757077852883,0.9623076518376669,0.9674144585927328,0.9839572906494141,0.9841961065928141,0.980648140112559,0.9886049628257751],\"yaxis\":\"y\",\"type\":\"scatter\"},{\"hovertemplate\":\"Method=Manual\\u003cbr\\u003eexp=Co-Training\\u003cbr\\u003eData\\u003cbr\\u003eTask ID=%{x}\\u003cbr\\u003eBA=%{y}\\u003cextra\\u003e\\u003c\\u002fextra\\u003e\",\"legendgroup\":\"Manual\",\"line\":{\"color\":\"rgb(230, 25, 75)\",\"dash\":\"dot\"},\"marker\":{\"symbol\":\"circle\"},\"mode\":\"lines\",\"name\":\"Manual\",\"orientation\":\"v\",\"showlegend\":false,\"x\":[\"T66\",\"T67\",\"T36\",\"T65\",\"T31\",\"T62\",\"T34\",\"T63\",\"T68\",\"T32\",\"T41\",\"T35\",\"T30\",\"T61\",\"T48\",\"T40\",\"T71\",\"T38\",\"T54\",\"T56\",\"T64\",\"T46\",\"T50\",\"T37\",\"T33\",\"T39\",\"T51\",\"T45\",\"T29\",\"T49\",\"T55\",\"T47\",\"T60\",\"T70\",\"T43\",\"T59\",\"T58\",\"T57\",\"T52\",\"T44\",\"T42\",\"T53\",\"T69\"],\"xaxis\":\"x2\",\"y\":[0.4635782341162363,0.46373458703358966,0.5112081170082092,0.4885232249895732,0.5401672720909119,0.5592225988705953,0.5779181520144144,0.61441969871521,0.5876072645187378,0.5963766773541769,0.6173412402470907,0.6237708727518717,0.6444260676701864,0.7083333730697632,0.6782189806302389,0.5658838748931885,0.7892196575800577,0.7143207589785258,0.9042328596115112,0.7061508099238077,0.7366321881612142,0.7344679435094198,0.7512528697649637,0.7554020881652832,0.8269570271174113,0.7713153759638468,0.7842029333114624,0.7983740369478861,0.8143321474393209,0.838555634021759,0.82966415087382,0.8370370467503866,0.8333333333333334,0.9275081753730774,0.9026292562484741,0.9151785572369894,0.9494708776473999,0.9755038420359295,0.967432975769043,0.9829066594441732,0.9841174483299255,0.9815740585327148,0.987221876780192],\"yaxis\":\"y2\",\"type\":\"scatter\"},{\"hovertemplate\":\"Method=baseline\\u003cbr\\u003eexp=Model\\u003cbr\\u003eArchitecture\\u003cbr\\u003eTask ID=%{x}\\u003cbr\\u003eBA=%{y}\\u003cextra\\u003e\\u003c\\u002fextra\\u003e\",\"legendgroup\":\"baseline\",\"line\":{\"color\":\"#FFA15A\",\"dash\":\"solid\"},\"marker\":{\"symbol\":\"circle\"},\"mode\":\"lines\",\"name\":\"baseline\",\"orientation\":\"v\",\"showlegend\":true,\"x\":[\"T66\",\"T67\",\"T36\",\"T65\",\"T31\",\"T62\",\"T34\",\"T63\",\"T68\",\"T32\",\"T41\",\"T35\",\"T30\",\"T61\",\"T48\",\"T40\",\"T71\",\"T38\",\"T54\",\"T56\",\"T64\",\"T46\",\"T50\",\"T37\",\"T33\",\"T39\",\"T51\",\"T45\",\"T29\",\"T49\",\"T55\",\"T47\",\"T60\",\"T70\",\"T43\",\"T59\",\"T58\",\"T57\",\"T52\",\"T44\",\"T42\",\"T53\",\"T69\"],\"xaxis\":\"x3\",\"y\":[0.40290359656016034,0.47348252932230633,0.4993329842885335,0.5048133333524069,0.5087317824363708,0.5266479849815369,0.5587396820386251,0.5669381419817606,0.5695674419403076,0.5811976591746012,0.5982316732406616,0.631239672501882,0.6370999018351237,0.6388889153798422,0.6570563316345215,0.6629946033159891,0.6932293176651001,0.7053327560424805,0.7089947462081909,0.71190478404363,0.7129425009091696,0.7239681482315063,0.7396079301834106,0.7490506172180176,0.7505701979001363,0.7711225549379984,0.7786813775698344,0.7997101346651713,0.8067423105239868,0.8185162345568339,0.8239372769991556,0.8359568119049072,0.8404761950174967,0.8860732913017273,0.8956476449966431,0.9119047323862711,0.9406911929448446,0.9559722940127054,0.9632135629653931,0.9741932153701782,0.9787811636924743,0.9796296159426371,0.9869189659754435],\"yaxis\":\"y3\",\"type\":\"scatter\"},{\"hovertemplate\":\"Method=baseline\\u003cbr\\u003eexp=Pretraining\\u003cbr\\u003eData\\u003cbr\\u003eTask ID=%{x}\\u003cbr\\u003eBA=%{y}\\u003cextra\\u003e\\u003c\\u002fextra\\u003e\",\"legendgroup\":\"baseline\",\"line\":{\"color\":\"#FFA15A\",\"dash\":\"solid\"},\"marker\":{\"symbol\":\"circle\"},\"mode\":\"lines\",\"name\":\"baseline\",\"orientation\":\"v\",\"showlegend\":false,\"x\":[\"T66\",\"T67\",\"T36\",\"T65\",\"T31\",\"T62\",\"T34\",\"T63\",\"T68\",\"T32\",\"T41\",\"T35\",\"T30\",\"T61\",\"T48\",\"T40\",\"T71\",\"T38\",\"T54\",\"T56\",\"T64\",\"T46\",\"T50\",\"T37\",\"T33\",\"T39\",\"T51\",\"T45\",\"T29\",\"T49\",\"T55\",\"T47\",\"T60\",\"T70\",\"T43\",\"T59\",\"T58\",\"T57\",\"T52\",\"T44\",\"T42\",\"T53\",\"T69\"],\"xaxis\":\"x4\",\"y\":[0.40290359656016034,0.47348252932230633,0.4993329842885335,0.5048133333524069,0.5087317824363708,0.5266479849815369,0.5587396820386251,0.5669381419817606,0.5695674419403076,0.5811976591746012,0.5982316732406616,0.631239672501882,0.6370999018351237,0.6388889153798422,0.6570563316345215,0.6629946033159891,0.6932293176651001,0.7053327560424805,0.7089947462081909,0.71190478404363,0.7129425009091696,0.7239681482315063,0.7396079301834106,0.7490506172180176,0.7505701979001363,0.7711225549379984,0.7786813775698344,0.7997101346651713,0.8067423105239868,0.8185162345568339,0.8239372769991556,0.8359568119049072,0.8404761950174967,0.8860732913017273,0.8956476449966431,0.9119047323862711,0.9406911929448446,0.9559722940127054,0.9632135629653931,0.9741932153701782,0.9787811636924743,0.9796296159426371,0.9869189659754435],\"yaxis\":\"y4\",\"type\":\"scatter\"},{\"hovertemplate\":\"Method=baseline\\u003cbr\\u003eexp=Augmentation\\u003cbr\\u003ePolicy\\u003cbr\\u003eTask ID=%{x}\\u003cbr\\u003eBA=%{y}\\u003cextra\\u003e\\u003c\\u002fextra\\u003e\",\"legendgroup\":\"baseline\",\"line\":{\"color\":\"#FFA15A\",\"dash\":\"solid\"},\"marker\":{\"symbol\":\"circle\"},\"mode\":\"lines\",\"name\":\"baseline\",\"orientation\":\"v\",\"showlegend\":false,\"x\":[\"T66\",\"T67\",\"T36\",\"T65\",\"T31\",\"T62\",\"T34\",\"T63\",\"T68\",\"T32\",\"T41\",\"T35\",\"T30\",\"T61\",\"T48\",\"T40\",\"T71\",\"T38\",\"T54\",\"T56\",\"T64\",\"T46\",\"T50\",\"T37\",\"T33\",\"T39\",\"T51\",\"T45\",\"T29\",\"T49\",\"T55\",\"T47\",\"T60\",\"T70\",\"T43\",\"T59\",\"T58\",\"T57\",\"T52\",\"T44\",\"T42\",\"T53\",\"T69\"],\"xaxis\":\"x\",\"y\":[0.40290359656016034,0.47348252932230633,0.4993329842885335,0.5048133333524069,0.5087317824363708,0.5266479849815369,0.5587396820386251,0.5669381419817606,0.5695674419403076,0.5811976591746012,0.5982316732406616,0.631239672501882,0.6370999018351237,0.6388889153798422,0.6570563316345215,0.6629946033159891,0.6932293176651001,0.7053327560424805,0.7089947462081909,0.71190478404363,0.7129425009091696,0.7239681482315063,0.7396079301834106,0.7490506172180176,0.7505701979001363,0.7711225549379984,0.7786813775698344,0.7997101346651713,0.8067423105239868,0.8185162345568339,0.8239372769991556,0.8359568119049072,0.8404761950174967,0.8860732913017273,0.8956476449966431,0.9119047323862711,0.9406911929448446,0.9559722940127054,0.9632135629653931,0.9741932153701782,0.9787811636924743,0.9796296159426371,0.9869189659754435],\"yaxis\":\"y\",\"type\":\"scatter\"},{\"hovertemplate\":\"Method=baseline\\u003cbr\\u003eexp=Co-Training\\u003cbr\\u003eData\\u003cbr\\u003eTask ID=%{x}\\u003cbr\\u003eBA=%{y}\\u003cextra\\u003e\\u003c\\u002fextra\\u003e\",\"legendgroup\":\"baseline\",\"line\":{\"color\":\"#FFA15A\",\"dash\":\"solid\"},\"marker\":{\"symbol\":\"circle\"},\"mode\":\"lines\",\"name\":\"baseline\",\"orientation\":\"v\",\"showlegend\":false,\"x\":[\"T66\",\"T67\",\"T36\",\"T65\",\"T31\",\"T62\",\"T34\",\"T63\",\"T68\",\"T32\",\"T41\",\"T35\",\"T30\",\"T61\",\"T48\",\"T40\",\"T71\",\"T38\",\"T54\",\"T56\",\"T64\",\"T46\",\"T50\",\"T37\",\"T33\",\"T39\",\"T51\",\"T45\",\"T29\",\"T49\",\"T55\",\"T47\",\"T60\",\"T70\",\"T43\",\"T59\",\"T58\",\"T57\",\"T52\",\"T44\",\"T42\",\"T53\",\"T69\"],\"xaxis\":\"x2\",\"y\":[0.40290359656016034,0.47348252932230633,0.4993329842885335,0.5048133333524069,0.5087317824363708,0.5266479849815369,0.5587396820386251,0.5669381419817606,0.5695674419403076,0.5811976591746012,0.5982316732406616,0.631239672501882,0.6370999018351237,0.6388889153798422,0.6570563316345215,0.6629946033159891,0.6932293176651001,0.7053327560424805,0.7089947462081909,0.71190478404363,0.7129425009091696,0.7239681482315063,0.7396079301834106,0.7490506172180176,0.7505701979001363,0.7711225549379984,0.7786813775698344,0.7997101346651713,0.8067423105239868,0.8185162345568339,0.8239372769991556,0.8359568119049072,0.8404761950174967,0.8860732913017273,0.8956476449966431,0.9119047323862711,0.9406911929448446,0.9559722940127054,0.9632135629653931,0.9741932153701782,0.9787811636924743,0.9796296159426371,0.9869189659754435],\"yaxis\":\"y2\",\"type\":\"scatter\"}],                        {\"template\":{\"data\":{\"barpolar\":[{\"marker\":{\"line\":{\"color\":\"#E5ECF6\",\"width\":0.5},\"pattern\":{\"fillmode\":\"overlay\",\"size\":10,\"solidity\":0.2}},\"type\":\"barpolar\"}],\"bar\":[{\"error_x\":{\"color\":\"#2a3f5f\"},\"error_y\":{\"color\":\"#2a3f5f\"},\"marker\":{\"line\":{\"color\":\"#E5ECF6\",\"width\":0.5},\"pattern\":{\"fillmode\":\"overlay\",\"size\":10,\"solidity\":0.2}},\"type\":\"bar\"}],\"carpet\":[{\"aaxis\":{\"endlinecolor\":\"#2a3f5f\",\"gridcolor\":\"white\",\"linecolor\":\"white\",\"minorgridcolor\":\"white\",\"startlinecolor\":\"#2a3f5f\"},\"baxis\":{\"endlinecolor\":\"#2a3f5f\",\"gridcolor\":\"white\",\"linecolor\":\"white\",\"minorgridcolor\":\"white\",\"startlinecolor\":\"#2a3f5f\"},\"type\":\"carpet\"}],\"choropleth\":[{\"colorbar\":{\"outlinewidth\":0,\"ticks\":\"\"},\"type\":\"choropleth\"}],\"contourcarpet\":[{\"colorbar\":{\"outlinewidth\":0,\"ticks\":\"\"},\"type\":\"contourcarpet\"}],\"contour\":[{\"colorbar\":{\"outlinewidth\":0,\"ticks\":\"\"},\"colorscale\":[[0.0,\"#0d0887\"],[0.1111111111111111,\"#46039f\"],[0.2222222222222222,\"#7201a8\"],[0.3333333333333333,\"#9c179e\"],[0.4444444444444444,\"#bd3786\"],[0.5555555555555556,\"#d8576b\"],[0.6666666666666666,\"#ed7953\"],[0.7777777777777778,\"#fb9f3a\"],[0.8888888888888888,\"#fdca26\"],[1.0,\"#f0f921\"]],\"type\":\"contour\"}],\"heatmapgl\":[{\"colorbar\":{\"outlinewidth\":0,\"ticks\":\"\"},\"colorscale\":[[0.0,\"#0d0887\"],[0.1111111111111111,\"#46039f\"],[0.2222222222222222,\"#7201a8\"],[0.3333333333333333,\"#9c179e\"],[0.4444444444444444,\"#bd3786\"],[0.5555555555555556,\"#d8576b\"],[0.6666666666666666,\"#ed7953\"],[0.7777777777777778,\"#fb9f3a\"],[0.8888888888888888,\"#fdca26\"],[1.0,\"#f0f921\"]],\"type\":\"heatmapgl\"}],\"heatmap\":[{\"colorbar\":{\"outlinewidth\":0,\"ticks\":\"\"},\"colorscale\":[[0.0,\"#0d0887\"],[0.1111111111111111,\"#46039f\"],[0.2222222222222222,\"#7201a8\"],[0.3333333333333333,\"#9c179e\"],[0.4444444444444444,\"#bd3786\"],[0.5555555555555556,\"#d8576b\"],[0.6666666666666666,\"#ed7953\"],[0.7777777777777778,\"#fb9f3a\"],[0.8888888888888888,\"#fdca26\"],[1.0,\"#f0f921\"]],\"type\":\"heatmap\"}],\"histogram2dcontour\":[{\"colorbar\":{\"outlinewidth\":0,\"ticks\":\"\"},\"colorscale\":[[0.0,\"#0d0887\"],[0.1111111111111111,\"#46039f\"],[0.2222222222222222,\"#7201a8\"],[0.3333333333333333,\"#9c179e\"],[0.4444444444444444,\"#bd3786\"],[0.5555555555555556,\"#d8576b\"],[0.6666666666666666,\"#ed7953\"],[0.7777777777777778,\"#fb9f3a\"],[0.8888888888888888,\"#fdca26\"],[1.0,\"#f0f921\"]],\"type\":\"histogram2dcontour\"}],\"histogram2d\":[{\"colorbar\":{\"outlinewidth\":0,\"ticks\":\"\"},\"colorscale\":[[0.0,\"#0d0887\"],[0.1111111111111111,\"#46039f\"],[0.2222222222222222,\"#7201a8\"],[0.3333333333333333,\"#9c179e\"],[0.4444444444444444,\"#bd3786\"],[0.5555555555555556,\"#d8576b\"],[0.6666666666666666,\"#ed7953\"],[0.7777777777777778,\"#fb9f3a\"],[0.8888888888888888,\"#fdca26\"],[1.0,\"#f0f921\"]],\"type\":\"histogram2d\"}],\"histogram\":[{\"marker\":{\"pattern\":{\"fillmode\":\"overlay\",\"size\":10,\"solidity\":0.2}},\"type\":\"histogram\"}],\"mesh3d\":[{\"colorbar\":{\"outlinewidth\":0,\"ticks\":\"\"},\"type\":\"mesh3d\"}],\"parcoords\":[{\"line\":{\"colorbar\":{\"outlinewidth\":0,\"ticks\":\"\"}},\"type\":\"parcoords\"}],\"pie\":[{\"automargin\":true,\"type\":\"pie\"}],\"scatter3d\":[{\"line\":{\"colorbar\":{\"outlinewidth\":0,\"ticks\":\"\"}},\"marker\":{\"colorbar\":{\"outlinewidth\":0,\"ticks\":\"\"}},\"type\":\"scatter3d\"}],\"scattercarpet\":[{\"marker\":{\"colorbar\":{\"outlinewidth\":0,\"ticks\":\"\"}},\"type\":\"scattercarpet\"}],\"scattergeo\":[{\"marker\":{\"colorbar\":{\"outlinewidth\":0,\"ticks\":\"\"}},\"type\":\"scattergeo\"}],\"scattergl\":[{\"marker\":{\"colorbar\":{\"outlinewidth\":0,\"ticks\":\"\"}},\"type\":\"scattergl\"}],\"scattermapbox\":[{\"marker\":{\"colorbar\":{\"outlinewidth\":0,\"ticks\":\"\"}},\"type\":\"scattermapbox\"}],\"scatterpolargl\":[{\"marker\":{\"colorbar\":{\"outlinewidth\":0,\"ticks\":\"\"}},\"type\":\"scatterpolargl\"}],\"scatterpolar\":[{\"marker\":{\"colorbar\":{\"outlinewidth\":0,\"ticks\":\"\"}},\"type\":\"scatterpolar\"}],\"scatter\":[{\"fillpattern\":{\"fillmode\":\"overlay\",\"size\":10,\"solidity\":0.2},\"type\":\"scatter\"}],\"scatterternary\":[{\"marker\":{\"colorbar\":{\"outlinewidth\":0,\"ticks\":\"\"}},\"type\":\"scatterternary\"}],\"surface\":[{\"colorbar\":{\"outlinewidth\":0,\"ticks\":\"\"},\"colorscale\":[[0.0,\"#0d0887\"],[0.1111111111111111,\"#46039f\"],[0.2222222222222222,\"#7201a8\"],[0.3333333333333333,\"#9c179e\"],[0.4444444444444444,\"#bd3786\"],[0.5555555555555556,\"#d8576b\"],[0.6666666666666666,\"#ed7953\"],[0.7777777777777778,\"#fb9f3a\"],[0.8888888888888888,\"#fdca26\"],[1.0,\"#f0f921\"]],\"type\":\"surface\"}],\"table\":[{\"cells\":{\"fill\":{\"color\":\"#EBF0F8\"},\"line\":{\"color\":\"white\"}},\"header\":{\"fill\":{\"color\":\"#C8D4E3\"},\"line\":{\"color\":\"white\"}},\"type\":\"table\"}]},\"layout\":{\"annotationdefaults\":{\"arrowcolor\":\"#2a3f5f\",\"arrowhead\":0,\"arrowwidth\":1},\"autotypenumbers\":\"strict\",\"coloraxis\":{\"colorbar\":{\"outlinewidth\":0,\"ticks\":\"\"}},\"colorscale\":{\"diverging\":[[0,\"#8e0152\"],[0.1,\"#c51b7d\"],[0.2,\"#de77ae\"],[0.3,\"#f1b6da\"],[0.4,\"#fde0ef\"],[0.5,\"#f7f7f7\"],[0.6,\"#e6f5d0\"],[0.7,\"#b8e186\"],[0.8,\"#7fbc41\"],[0.9,\"#4d9221\"],[1,\"#276419\"]],\"sequential\":[[0.0,\"#0d0887\"],[0.1111111111111111,\"#46039f\"],[0.2222222222222222,\"#7201a8\"],[0.3333333333333333,\"#9c179e\"],[0.4444444444444444,\"#bd3786\"],[0.5555555555555556,\"#d8576b\"],[0.6666666666666666,\"#ed7953\"],[0.7777777777777778,\"#fb9f3a\"],[0.8888888888888888,\"#fdca26\"],[1.0,\"#f0f921\"]],\"sequentialminus\":[[0.0,\"#0d0887\"],[0.1111111111111111,\"#46039f\"],[0.2222222222222222,\"#7201a8\"],[0.3333333333333333,\"#9c179e\"],[0.4444444444444444,\"#bd3786\"],[0.5555555555555556,\"#d8576b\"],[0.6666666666666666,\"#ed7953\"],[0.7777777777777778,\"#fb9f3a\"],[0.8888888888888888,\"#fdca26\"],[1.0,\"#f0f921\"]]},\"colorway\":[\"#636efa\",\"#EF553B\",\"#00cc96\",\"#ab63fa\",\"#FFA15A\",\"#19d3f3\",\"#FF6692\",\"#B6E880\",\"#FF97FF\",\"#FECB52\"],\"font\":{\"color\":\"#2a3f5f\"},\"geo\":{\"bgcolor\":\"white\",\"lakecolor\":\"white\",\"landcolor\":\"#E5ECF6\",\"showlakes\":true,\"showland\":true,\"subunitcolor\":\"white\"},\"hoverlabel\":{\"align\":\"left\"},\"hovermode\":\"closest\",\"mapbox\":{\"style\":\"light\"},\"paper_bgcolor\":\"white\",\"plot_bgcolor\":\"#E5ECF6\",\"polar\":{\"angularaxis\":{\"gridcolor\":\"white\",\"linecolor\":\"white\",\"ticks\":\"\"},\"bgcolor\":\"#E5ECF6\",\"radialaxis\":{\"gridcolor\":\"white\",\"linecolor\":\"white\",\"ticks\":\"\"}},\"scene\":{\"xaxis\":{\"backgroundcolor\":\"#E5ECF6\",\"gridcolor\":\"white\",\"gridwidth\":2,\"linecolor\":\"white\",\"showbackground\":true,\"ticks\":\"\",\"zerolinecolor\":\"white\"},\"yaxis\":{\"backgroundcolor\":\"#E5ECF6\",\"gridcolor\":\"white\",\"gridwidth\":2,\"linecolor\":\"white\",\"showbackground\":true,\"ticks\":\"\",\"zerolinecolor\":\"white\"},\"zaxis\":{\"backgroundcolor\":\"#E5ECF6\",\"gridcolor\":\"white\",\"gridwidth\":2,\"linecolor\":\"white\",\"showbackground\":true,\"ticks\":\"\",\"zerolinecolor\":\"white\"}},\"shapedefaults\":{\"line\":{\"color\":\"#2a3f5f\"}},\"ternary\":{\"aaxis\":{\"gridcolor\":\"white\",\"linecolor\":\"white\",\"ticks\":\"\"},\"baxis\":{\"gridcolor\":\"white\",\"linecolor\":\"white\",\"ticks\":\"\"},\"bgcolor\":\"#E5ECF6\",\"caxis\":{\"gridcolor\":\"white\",\"linecolor\":\"white\",\"ticks\":\"\"}},\"title\":{\"x\":0.05},\"xaxis\":{\"automargin\":true,\"gridcolor\":\"white\",\"linecolor\":\"white\",\"ticks\":\"\",\"title\":{\"standoff\":15},\"zerolinecolor\":\"white\",\"zerolinewidth\":2},\"yaxis\":{\"automargin\":true,\"gridcolor\":\"white\",\"linecolor\":\"white\",\"ticks\":\"\",\"title\":{\"standoff\":15},\"zerolinecolor\":\"white\",\"zerolinewidth\":2}}},\"xaxis\":{\"anchor\":\"y\",\"domain\":[0.0,0.49],\"title\":{\"text\":\"Task ID\"},\"nticks\":172},\"yaxis\":{\"anchor\":\"x\",\"domain\":[0.0,0.425],\"title\":{\"text\":\"BA\"}},\"xaxis2\":{\"anchor\":\"y2\",\"domain\":[0.51,1.0],\"matches\":\"x\",\"title\":{\"text\":\"Task ID\"},\"nticks\":172},\"yaxis2\":{\"anchor\":\"x2\",\"domain\":[0.0,0.425],\"matches\":\"y\",\"showticklabels\":false},\"xaxis3\":{\"anchor\":\"y3\",\"domain\":[0.0,0.49],\"matches\":\"x\",\"showticklabels\":false,\"nticks\":172},\"yaxis3\":{\"anchor\":\"x3\",\"domain\":[0.575,1.0],\"matches\":\"y\",\"title\":{\"text\":\"BA\"}},\"xaxis4\":{\"anchor\":\"y4\",\"domain\":[0.51,1.0],\"matches\":\"x\",\"showticklabels\":false,\"nticks\":172},\"yaxis4\":{\"anchor\":\"x4\",\"domain\":[0.575,1.0],\"matches\":\"y\",\"showticklabels\":false},\"annotations\":[{\"font\":{},\"showarrow\":false,\"text\":\"Augmentation\\u003cbr\\u003ePolicy\",\"x\":0.245,\"xanchor\":\"center\",\"xref\":\"paper\",\"y\":0.425,\"yanchor\":\"bottom\",\"yref\":\"paper\"},{\"font\":{},\"showarrow\":false,\"text\":\"Co-Training\\u003cbr\\u003eData\",\"x\":0.755,\"xanchor\":\"center\",\"xref\":\"paper\",\"y\":0.425,\"yanchor\":\"bottom\",\"yref\":\"paper\"},{\"font\":{},\"showarrow\":false,\"text\":\"Model\\u003cbr\\u003eArchitecture\",\"x\":0.245,\"xanchor\":\"center\",\"xref\":\"paper\",\"y\":1.0,\"yanchor\":\"bottom\",\"yref\":\"paper\"},{\"font\":{},\"showarrow\":false,\"text\":\"Pretraining\\u003cbr\\u003eData\",\"x\":0.755,\"xanchor\":\"center\",\"xref\":\"paper\",\"y\":1.0,\"yanchor\":\"bottom\",\"yref\":\"paper\"}],\"legend\":{\"title\":{\"text\":\"Method\"},\"tracegroupgap\":0,\"orientation\":\"h\",\"y\":-0.2,\"xanchor\":\"center\",\"x\":0.5},\"margin\":{\"t\":60},\"font\":{\"size\":20},\"width\":2000,\"height\":800},                        {\"responsive\": true}                    ).then(function(){\n",
       "                            \n",
       "var gd = document.getElementById('7badcbb5-91a6-49ec-a5dc-d2aeff0750b2');\n",
       "var x = new MutationObserver(function (mutations, observer) {{\n",
       "        var display = window.getComputedStyle(gd).display;\n",
       "        if (!display || display === 'none') {{\n",
       "            console.log([gd, 'removed!']);\n",
       "            Plotly.purge(gd);\n",
       "            observer.disconnect();\n",
       "        }}\n",
       "}});\n",
       "\n",
       "// Listen for the removal of the full notebook cells\n",
       "var notebookContainer = gd.closest('#notebook-container');\n",
       "if (notebookContainer) {{\n",
       "    x.observe(notebookContainer, {childList: true});\n",
       "}}\n",
       "\n",
       "// Listen for the clearing of the current output cell\n",
       "var outputEl = gd.closest('.output');\n",
       "if (outputEl) {{\n",
       "    x.observe(outputEl, {childList: true});\n",
       "}}\n",
       "\n",
       "                        })                };                });            </script>        </div>"
      ]
     },
     "metadata": {},
     "output_type": "display_data"
    }
   ],
   "execution_count": 47
  },
  {
   "metadata": {},
   "cell_type": "markdown",
   "source": "The plot shows mean expectation (over three transfer repetitions) in Balanced Accuracy (BA) for baseline (orange), manual task selection (red) and bKLD(small,target) for all four transfer scenarios (subplots) and all validation tasks (X-axis). Knowledge transfer may improve BA for a lot of tasks. Some tasks (e.g. T71) show especially large impact by knowledge transfer. The validation tasks have been sorted by baseline performance and depict a high heterogeneity (from tough tasks below 50% BA up to close to 99% BA).",
   "id": "33e6a002f4d2dce3"
  },
  {
   "metadata": {
    "ExecuteTime": {
     "end_time": "2024-10-10T10:13:04.216503Z",
     "start_time": "2024-10-10T10:13:04.090329Z"
    }
   },
   "cell_type": "code",
   "source": "get_fig('AUROC', distances=('baseline', 'KLD-PP:NS-W:TS-100-BINS', 'KLD-PP:NS-W:SN-1000-BINS', 'KLD-PP:NS-1000-BINS'))",
   "id": "c80b332a5dea79d",
   "outputs": [
    {
     "data": {
      "application/vnd.plotly.v1+json": {
       "data": [
        {
         "hovertemplate": "Method=bKLD(large,source)<br>exp=Model<br>Architecture<br>Task ID=%{x}<br>AUROC=%{y}<extra></extra>",
         "legendgroup": "bKLD(large,source)",
         "line": {
          "color": "rgb(60, 180, 75)",
          "dash": "dash"
         },
         "marker": {
          "symbol": "circle"
         },
         "mode": "lines",
         "name": "bKLD(large,source)",
         "orientation": "v",
         "showlegend": true,
         "x": [
          "T36",
          "T62",
          "T31",
          "T32",
          "T34",
          "T30",
          "T41",
          "T48",
          "T35",
          "T61",
          "T40",
          "T38",
          "T46",
          "T65",
          "T64",
          "T50",
          "T37",
          "T33",
          "T67",
          "T51",
          "T66",
          "T45",
          "T39",
          "T49",
          "T56",
          "T29",
          "T63",
          "T47",
          "T68",
          "T60",
          "T71",
          "T54",
          "T55",
          "T43",
          "T59",
          "T58",
          "T70",
          "T57",
          "T53",
          "T69",
          "T44",
          "T42",
          "T52"
         ],
         "xaxis": "x3",
         "y": [
          0.646977961063385,
          0.6829914450645447,
          0.6341093977292379,
          0.6945679187774658,
          0.6573211948076884,
          0.708313783009847,
          0.743773361047109,
          0.754307210445404,
          0.7306325236956278,
          0.8360821803410848,
          0.7460246284802755,
          0.7904231349627177,
          0.813675045967102,
          0.804966151714325,
          0.8259080251057943,
          0.8369060158729553,
          0.8589930931727091,
          0.9120241602261862,
          0.8455976049105326,
          0.8568857908248901,
          0.8172993659973145,
          0.8724356889724731,
          0.8567209839820862,
          0.8948201934496561,
          0.8874248266220093,
          0.8911974628766378,
          0.9181052645047506,
          0.9212603370348612,
          0.9169886906941732,
          0.963095227877299,
          0.9706654946009318,
          0.9738288124402364,
          0.9554627339045206,
          0.9708853562672933,
          0.9856547514597574,
          0.991888682047526,
          0.9969399770100912,
          0.9964857896169027,
          0.9932996034622192,
          0.9996880094210306,
          0.9953248898188273,
          0.9975157976150513,
          0.9980157415072123
         ],
         "yaxis": "y3",
         "type": "scatter"
        },
        {
         "hovertemplate": "Method=bKLD(large,source)<br>exp=Pretraining<br>Data<br>Task ID=%{x}<br>AUROC=%{y}<extra></extra>",
         "legendgroup": "bKLD(large,source)",
         "line": {
          "color": "rgb(60, 180, 75)",
          "dash": "dash"
         },
         "marker": {
          "symbol": "circle"
         },
         "mode": "lines",
         "name": "bKLD(large,source)",
         "orientation": "v",
         "showlegend": false,
         "x": [
          "T36",
          "T62",
          "T31",
          "T32",
          "T34",
          "T30",
          "T41",
          "T48",
          "T35",
          "T61",
          "T40",
          "T38",
          "T46",
          "T65",
          "T64",
          "T50",
          "T37",
          "T33",
          "T67",
          "T51",
          "T66",
          "T45",
          "T39",
          "T49",
          "T56",
          "T29",
          "T63",
          "T47",
          "T68",
          "T60",
          "T71",
          "T54",
          "T55",
          "T43",
          "T59",
          "T58",
          "T70",
          "T57",
          "T53",
          "T69",
          "T44",
          "T42",
          "T52"
         ],
         "xaxis": "x4",
         "y": [
          0.5887973308563232,
          0.6167919238408407,
          0.6380373040835062,
          0.6719451944033304,
          0.6781046787897745,
          0.6828317244847616,
          0.7200672427813212,
          0.7042669256528219,
          0.7115326325098673,
          0.7782118320465088,
          0.733049750328064,
          0.7756100098292033,
          0.7842772006988525,
          0.7992371122042338,
          0.8049310445785522,
          0.8085093299547831,
          0.8450682361920675,
          0.8895635406176249,
          0.8309143980344137,
          0.8290279308954874,
          0.7711028655370077,
          0.8417583902676901,
          0.8492403229077657,
          0.8714382648468018,
          0.8757414817810059,
          0.8755762378374735,
          0.8661736448605856,
          0.8726131916046143,
          0.9031956195831299,
          0.9000000158945719,
          0.9451361894607544,
          0.9326686263084412,
          0.9504538575808207,
          0.9554366866747537,
          0.9549404780069987,
          0.9837833841641744,
          0.9847613374392191,
          0.9872627059618632,
          0.9895347158114115,
          0.9972591002782186,
          0.9941850900650024,
          0.9936380783716837,
          0.9977506995201111
         ],
         "yaxis": "y4",
         "type": "scatter"
        },
        {
         "hovertemplate": "Method=bKLD(large,source)<br>exp=Augmentation<br>Policy<br>Task ID=%{x}<br>AUROC=%{y}<extra></extra>",
         "legendgroup": "bKLD(large,source)",
         "line": {
          "color": "rgb(60, 180, 75)",
          "dash": "dash"
         },
         "marker": {
          "symbol": "circle"
         },
         "mode": "lines",
         "name": "bKLD(large,source)",
         "orientation": "v",
         "showlegend": false,
         "x": [
          "T36",
          "T62",
          "T31",
          "T32",
          "T34",
          "T30",
          "T41",
          "T48",
          "T35",
          "T61",
          "T40",
          "T38",
          "T46",
          "T65",
          "T64",
          "T50",
          "T37",
          "T33",
          "T67",
          "T51",
          "T66",
          "T45",
          "T39",
          "T49",
          "T56",
          "T29",
          "T63",
          "T47",
          "T68",
          "T60",
          "T71",
          "T54",
          "T55",
          "T43",
          "T59",
          "T58",
          "T70",
          "T57",
          "T53",
          "T69",
          "T44",
          "T42",
          "T52"
         ],
         "xaxis": "x",
         "y": [
          0.5774370233217875,
          0.7779221534729004,
          0.6365275382995605,
          0.6898692647616068,
          0.6937499841054281,
          0.6912311911582947,
          0.7251215179761251,
          0.7377886970837911,
          0.7398674289385477,
          0.7588252822558085,
          0.6972387234369913,
          0.7811022599538168,
          0.8067357341448466,
          0.8170211712519327,
          0.8049310247103373,
          0.8208049734433492,
          0.8537481427192688,
          0.8963804046312968,
          0.8705791036287943,
          0.8507763942082723,
          0.8221400380134583,
          0.8656377196311951,
          0.8557166655858358,
          0.881221334139506,
          0.8848241964975992,
          0.8872605959574381,
          0.9144068757692972,
          0.9055350025494894,
          0.9262812733650208,
          0.9035714070002238,
          0.9707000255584717,
          0.9596342444419861,
          0.954782247543335,
          0.9553624788920084,
          0.9783332943916321,
          0.9899611671765646,
          0.9964914520581564,
          0.9936206340789795,
          0.9935163259506226,
          0.999552845954895,
          0.998724619547526,
          0.9983404477437338,
          0.9981416662534078
         ],
         "yaxis": "y",
         "type": "scatter"
        },
        {
         "hovertemplate": "Method=bKLD(large,source)<br>exp=Co-Training<br>Data<br>Task ID=%{x}<br>AUROC=%{y}<extra></extra>",
         "legendgroup": "bKLD(large,source)",
         "line": {
          "color": "rgb(60, 180, 75)",
          "dash": "dash"
         },
         "marker": {
          "symbol": "circle"
         },
         "mode": "lines",
         "name": "bKLD(large,source)",
         "orientation": "v",
         "showlegend": false,
         "x": [
          "T36",
          "T62",
          "T31",
          "T32",
          "T34",
          "T30",
          "T41",
          "T48",
          "T35",
          "T61",
          "T40",
          "T38",
          "T46",
          "T65",
          "T64",
          "T50",
          "T37",
          "T33",
          "T67",
          "T51",
          "T66",
          "T45",
          "T39",
          "T49",
          "T56",
          "T29",
          "T63",
          "T47",
          "T68",
          "T60",
          "T71",
          "T54",
          "T55",
          "T43",
          "T59",
          "T58",
          "T70",
          "T57",
          "T53",
          "T69",
          "T44",
          "T42",
          "T52"
         ],
         "xaxis": "x2",
         "y": [
          0.6366432706514994,
          0.6775572896003723,
          0.6501659154891968,
          0.7026868859926859,
          0.6941803296407064,
          0.7002829710642496,
          0.7372864882151285,
          0.7363695700963339,
          0.7376716732978821,
          0.826388955116272,
          0.7475799123446146,
          0.7845272223154703,
          0.8011905153592428,
          0.8109040260314941,
          0.8093218406041464,
          0.8324196139971415,
          0.8587636550267538,
          0.9149978359540304,
          0.8500891526540121,
          0.8538227876027426,
          0.8478317260742188,
          0.8643509745597839,
          0.8654537399609884,
          0.8849457105000814,
          0.89024285475413,
          0.8941338658332825,
          0.8959669868151346,
          0.9147427876790365,
          0.9086783329645792,
          0.8988094925880432,
          0.9622715711593628,
          0.9831588665644327,
          0.9616567889849345,
          0.9634581009546915,
          0.9737202326456705,
          0.9890955885251363,
          0.9930166403452555,
          0.9958021640777588,
          0.993038276831309,
          0.9986513257026672,
          0.9968000253041586,
          0.9976158738136292,
          0.9957389632860819
         ],
         "yaxis": "y2",
         "type": "scatter"
        },
        {
         "hovertemplate": "Method=bKLD(small,target)<br>exp=Model<br>Architecture<br>Task ID=%{x}<br>AUROC=%{y}<extra></extra>",
         "legendgroup": "bKLD(small,target)",
         "line": {
          "color": "rgb(60, 180, 75)",
          "dash": "solid"
         },
         "marker": {
          "symbol": "circle"
         },
         "mode": "lines",
         "name": "bKLD(small,target)",
         "orientation": "v",
         "showlegend": true,
         "x": [
          "T36",
          "T62",
          "T31",
          "T32",
          "T34",
          "T30",
          "T41",
          "T48",
          "T35",
          "T61",
          "T40",
          "T38",
          "T46",
          "T65",
          "T64",
          "T50",
          "T37",
          "T33",
          "T67",
          "T51",
          "T66",
          "T45",
          "T39",
          "T49",
          "T56",
          "T29",
          "T63",
          "T47",
          "T68",
          "T60",
          "T71",
          "T54",
          "T55",
          "T43",
          "T59",
          "T58",
          "T70",
          "T57",
          "T53",
          "T69",
          "T44",
          "T42",
          "T52"
         ],
         "xaxis": "x3",
         "y": [
          0.6342296004295349,
          0.7540020744005839,
          0.6687241395314535,
          0.6941569050153097,
          0.6629691123962402,
          0.7060600519180298,
          0.7217381993929545,
          0.7538410822550455,
          0.7336962024370829,
          0.835069457689921,
          0.7415635387102762,
          0.7811522682507833,
          0.8117004632949829,
          0.8091549475987753,
          0.8156493902206421,
          0.8191432356834412,
          0.861378014087677,
          0.9123349785804749,
          0.8548091451327006,
          0.8628644545873007,
          0.7983635465304056,
          0.8715201814969381,
          0.8618073463439941,
          0.8871292869249979,
          0.886062761147817,
          0.8901828130086263,
          0.9131036798159281,
          0.9197119474411012,
          0.9240807493527731,
          0.7202380994955698,
          0.9788976311683655,
          0.901258647441864,
          0.9554627339045206,
          0.9642379482587179,
          0.9828571478525797,
          0.991888682047526,
          0.9967438578605652,
          0.9961029887199402,
          0.9940497080485026,
          0.998458981513977,
          0.9962720473607382,
          0.9960527817408243,
          0.9980157415072123
         ],
         "yaxis": "y3",
         "type": "scatter"
        },
        {
         "hovertemplate": "Method=bKLD(small,target)<br>exp=Pretraining<br>Data<br>Task ID=%{x}<br>AUROC=%{y}<extra></extra>",
         "legendgroup": "bKLD(small,target)",
         "line": {
          "color": "rgb(60, 180, 75)",
          "dash": "solid"
         },
         "marker": {
          "symbol": "circle"
         },
         "mode": "lines",
         "name": "bKLD(small,target)",
         "orientation": "v",
         "showlegend": false,
         "x": [
          "T36",
          "T62",
          "T31",
          "T32",
          "T34",
          "T30",
          "T41",
          "T48",
          "T35",
          "T61",
          "T40",
          "T38",
          "T46",
          "T65",
          "T64",
          "T50",
          "T37",
          "T33",
          "T67",
          "T51",
          "T66",
          "T45",
          "T39",
          "T49",
          "T56",
          "T29",
          "T63",
          "T47",
          "T68",
          "T60",
          "T71",
          "T54",
          "T55",
          "T43",
          "T59",
          "T58",
          "T70",
          "T57",
          "T53",
          "T69",
          "T44",
          "T42",
          "T52"
         ],
         "xaxis": "x4",
         "y": [
          0.5975877245267233,
          0.669624129931132,
          0.6579877535502116,
          0.6790037155151367,
          0.6963246067365011,
          0.7005121906598409,
          0.7335859735806783,
          0.7377165158589681,
          0.7168464461962382,
          0.8026620745658875,
          0.7161388595898946,
          0.7711021701494852,
          0.7914714813232422,
          0.8019527991612753,
          0.8089655240376791,
          0.8200522661209106,
          0.8471042911211649,
          0.8958956400553385,
          0.8145409226417542,
          0.8397110104560852,
          0.7863427003224691,
          0.855544368426005,
          0.8465866446495056,
          0.8999698956807455,
          0.8524582386016846,
          0.8835562864939371,
          0.8903724352518717,
          0.8973662853240967,
          0.8869096835454305,
          0.8309523661931356,
          0.9630416035652161,
          0.8568435708681742,
          0.9504538575808207,
          0.9476381540298462,
          0.9520535667737325,
          0.9837833841641744,
          0.9912298917770386,
          0.9914557536443075,
          0.9914508660634359,
          0.9987560113271078,
          0.9960472583770752,
          0.9969477653503418,
          0.9945291678110758
         ],
         "yaxis": "y4",
         "type": "scatter"
        },
        {
         "hovertemplate": "Method=bKLD(small,target)<br>exp=Augmentation<br>Policy<br>Task ID=%{x}<br>AUROC=%{y}<extra></extra>",
         "legendgroup": "bKLD(small,target)",
         "line": {
          "color": "rgb(60, 180, 75)",
          "dash": "solid"
         },
         "marker": {
          "symbol": "circle"
         },
         "mode": "lines",
         "name": "bKLD(small,target)",
         "orientation": "v",
         "showlegend": false,
         "x": [
          "T36",
          "T62",
          "T31",
          "T32",
          "T34",
          "T30",
          "T41",
          "T48",
          "T35",
          "T61",
          "T40",
          "T38",
          "T46",
          "T65",
          "T64",
          "T50",
          "T37",
          "T33",
          "T67",
          "T51",
          "T66",
          "T45",
          "T39",
          "T49",
          "T56",
          "T29",
          "T63",
          "T47",
          "T68",
          "T60",
          "T71",
          "T54",
          "T55",
          "T43",
          "T59",
          "T58",
          "T70",
          "T57",
          "T53",
          "T69",
          "T44",
          "T42",
          "T52"
         ],
         "xaxis": "x",
         "y": [
          0.6003547310829163,
          0.796394964059194,
          0.6420833071072897,
          0.6804103851318359,
          0.6934858957926432,
          0.6878071427345276,
          0.728726307551066,
          0.7451391816139221,
          0.7419551610946655,
          0.7588252822558085,
          0.7199581662813822,
          0.785531481107076,
          0.8010445634524027,
          0.7985878189404806,
          0.8061724106470743,
          0.8222996592521667,
          0.8544421394666036,
          0.9024544755617777,
          0.8616984089215597,
          0.8494142691294352,
          0.8771579265594482,
          0.8676908016204834,
          0.8666381438573202,
          0.8732722004254659,
          0.8934382994969686,
          0.884926974773407,
          0.9168671568234762,
          0.9041358232498169,
          0.9252977172533671,
          0.9035714070002238,
          0.9784661531448364,
          0.9592556357383728,
          0.954782247543335,
          0.954396923383077,
          0.987499992052714,
          0.9899611671765646,
          0.9949710567792257,
          0.9964299003283185,
          0.9946717421213785,
          0.9994020462036133,
          0.9978461662928263,
          0.9989386002222697,
          0.9974224368731179
         ],
         "yaxis": "y",
         "type": "scatter"
        },
        {
         "hovertemplate": "Method=bKLD(small,target)<br>exp=Co-Training<br>Data<br>Task ID=%{x}<br>AUROC=%{y}<extra></extra>",
         "legendgroup": "bKLD(small,target)",
         "line": {
          "color": "rgb(60, 180, 75)",
          "dash": "solid"
         },
         "marker": {
          "symbol": "circle"
         },
         "mode": "lines",
         "name": "bKLD(small,target)",
         "orientation": "v",
         "showlegend": false,
         "x": [
          "T36",
          "T62",
          "T31",
          "T32",
          "T34",
          "T30",
          "T41",
          "T48",
          "T35",
          "T61",
          "T40",
          "T38",
          "T46",
          "T65",
          "T64",
          "T50",
          "T37",
          "T33",
          "T67",
          "T51",
          "T66",
          "T45",
          "T39",
          "T49",
          "T56",
          "T29",
          "T63",
          "T47",
          "T68",
          "T60",
          "T71",
          "T54",
          "T55",
          "T43",
          "T59",
          "T58",
          "T70",
          "T57",
          "T53",
          "T69",
          "T44",
          "T42",
          "T52"
         ],
         "xaxis": "x2",
         "y": [
          0.6378246744473776,
          0.6775572896003723,
          0.6832637588183085,
          0.6839450399080912,
          0.6947528918584188,
          0.7040470838546753,
          0.7334929704666138,
          0.7452974716822306,
          0.7282952467600504,
          0.825665553410848,
          0.7475007573763529,
          0.7808152238527933,
          0.8027874231338501,
          0.7954849799474081,
          0.8110804557800293,
          0.8341611623764038,
          0.8597057660420736,
          0.9086950620015463,
          0.848166823387146,
          0.8512041171391805,
          0.8370772401491801,
          0.8636006116867065,
          0.8652655879656473,
          0.8945485949516296,
          0.8814194401105245,
          0.8857765793800354,
          0.9043723742167155,
          0.901162584622701,
          0.9037994146347046,
          0.8940476377805074,
          0.9734687805175781,
          0.9864327112833658,
          0.9624663591384888,
          0.950609008471171,
          0.9685714244842529,
          0.9890955885251363,
          0.9947913885116577,
          0.9974392255147299,
          0.9934083223342896,
          0.9981898864110311,
          0.9962577223777771,
          0.9979475736618042,
          0.9968460996945699
         ],
         "yaxis": "y2",
         "type": "scatter"
        },
        {
         "hovertemplate": "Method=baseline<br>exp=Model<br>Architecture<br>Task ID=%{x}<br>AUROC=%{y}<extra></extra>",
         "legendgroup": "baseline",
         "line": {
          "color": "#FFA15A",
          "dash": "solid"
         },
         "marker": {
          "symbol": "circle"
         },
         "mode": "lines",
         "name": "baseline",
         "orientation": "v",
         "showlegend": true,
         "x": [
          "T36",
          "T62",
          "T31",
          "T32",
          "T34",
          "T30",
          "T41",
          "T48",
          "T35",
          "T61",
          "T40",
          "T38",
          "T46",
          "T65",
          "T64",
          "T50",
          "T37",
          "T33",
          "T67",
          "T51",
          "T66",
          "T45",
          "T39",
          "T49",
          "T56",
          "T29",
          "T63",
          "T47",
          "T68",
          "T60",
          "T71",
          "T54",
          "T55",
          "T43",
          "T59",
          "T58",
          "T70",
          "T57",
          "T53",
          "T69",
          "T44",
          "T42",
          "T52"
         ],
         "xaxis": "x3",
         "y": [
          0.5020350813865662,
          0.5388713280359904,
          0.6092125177383423,
          0.6456688443819681,
          0.6811687151590983,
          0.6972893476486206,
          0.7127354939778646,
          0.718728760878245,
          0.7254331707954407,
          0.7550636728604635,
          0.7602814038594564,
          0.7746277848879496,
          0.789959708849589,
          0.790897528330485,
          0.8121034304300944,
          0.815746009349823,
          0.8202505906422933,
          0.8239986896514893,
          0.8368460337320963,
          0.8452289700508118,
          0.8554359277089437,
          0.86430823802948,
          0.8699163397153219,
          0.8699592351913452,
          0.8734555641810099,
          0.8827036221822103,
          0.88913893699646,
          0.8949382901191711,
          0.9019990762074789,
          0.9178571303685504,
          0.9226453900337219,
          0.9304384390513102,
          0.9469622373580933,
          0.9587047100067139,
          0.9623511632283529,
          0.9842239618301392,
          0.989242951075236,
          0.9917696714401245,
          0.9927230278650919,
          0.9951629837354025,
          0.9956566691398621,
          0.9963845014572144,
          0.996714194615682
         ],
         "yaxis": "y3",
         "type": "scatter"
        },
        {
         "hovertemplate": "Method=baseline<br>exp=Pretraining<br>Data<br>Task ID=%{x}<br>AUROC=%{y}<extra></extra>",
         "legendgroup": "baseline",
         "line": {
          "color": "#FFA15A",
          "dash": "solid"
         },
         "marker": {
          "symbol": "circle"
         },
         "mode": "lines",
         "name": "baseline",
         "orientation": "v",
         "showlegend": false,
         "x": [
          "T36",
          "T62",
          "T31",
          "T32",
          "T34",
          "T30",
          "T41",
          "T48",
          "T35",
          "T61",
          "T40",
          "T38",
          "T46",
          "T65",
          "T64",
          "T50",
          "T37",
          "T33",
          "T67",
          "T51",
          "T66",
          "T45",
          "T39",
          "T49",
          "T56",
          "T29",
          "T63",
          "T47",
          "T68",
          "T60",
          "T71",
          "T54",
          "T55",
          "T43",
          "T59",
          "T58",
          "T70",
          "T57",
          "T53",
          "T69",
          "T44",
          "T42",
          "T52"
         ],
         "xaxis": "x4",
         "y": [
          0.5020350813865662,
          0.5388713280359904,
          0.6092125177383423,
          0.6456688443819681,
          0.6811687151590983,
          0.6972893476486206,
          0.7127354939778646,
          0.718728760878245,
          0.7254331707954407,
          0.7550636728604635,
          0.7602814038594564,
          0.7746277848879496,
          0.789959708849589,
          0.790897528330485,
          0.8121034304300944,
          0.815746009349823,
          0.8202505906422933,
          0.8239986896514893,
          0.8368460337320963,
          0.8452289700508118,
          0.8554359277089437,
          0.86430823802948,
          0.8699163397153219,
          0.8699592351913452,
          0.8734555641810099,
          0.8827036221822103,
          0.88913893699646,
          0.8949382901191711,
          0.9019990762074789,
          0.9178571303685504,
          0.9226453900337219,
          0.9304384390513102,
          0.9469622373580933,
          0.9587047100067139,
          0.9623511632283529,
          0.9842239618301392,
          0.989242951075236,
          0.9917696714401245,
          0.9927230278650919,
          0.9951629837354025,
          0.9956566691398621,
          0.9963845014572144,
          0.996714194615682
         ],
         "yaxis": "y4",
         "type": "scatter"
        },
        {
         "hovertemplate": "Method=baseline<br>exp=Augmentation<br>Policy<br>Task ID=%{x}<br>AUROC=%{y}<extra></extra>",
         "legendgroup": "baseline",
         "line": {
          "color": "#FFA15A",
          "dash": "solid"
         },
         "marker": {
          "symbol": "circle"
         },
         "mode": "lines",
         "name": "baseline",
         "orientation": "v",
         "showlegend": false,
         "x": [
          "T36",
          "T62",
          "T31",
          "T32",
          "T34",
          "T30",
          "T41",
          "T48",
          "T35",
          "T61",
          "T40",
          "T38",
          "T46",
          "T65",
          "T64",
          "T50",
          "T37",
          "T33",
          "T67",
          "T51",
          "T66",
          "T45",
          "T39",
          "T49",
          "T56",
          "T29",
          "T63",
          "T47",
          "T68",
          "T60",
          "T71",
          "T54",
          "T55",
          "T43",
          "T59",
          "T58",
          "T70",
          "T57",
          "T53",
          "T69",
          "T44",
          "T42",
          "T52"
         ],
         "xaxis": "x",
         "y": [
          0.5020350813865662,
          0.5388713280359904,
          0.6092125177383423,
          0.6456688443819681,
          0.6811687151590983,
          0.6972893476486206,
          0.7127354939778646,
          0.718728760878245,
          0.7254331707954407,
          0.7550636728604635,
          0.7602814038594564,
          0.7746277848879496,
          0.789959708849589,
          0.790897528330485,
          0.8121034304300944,
          0.815746009349823,
          0.8202505906422933,
          0.8239986896514893,
          0.8368460337320963,
          0.8452289700508118,
          0.8554359277089437,
          0.86430823802948,
          0.8699163397153219,
          0.8699592351913452,
          0.8734555641810099,
          0.8827036221822103,
          0.88913893699646,
          0.8949382901191711,
          0.9019990762074789,
          0.9178571303685504,
          0.9226453900337219,
          0.9304384390513102,
          0.9469622373580933,
          0.9587047100067139,
          0.9623511632283529,
          0.9842239618301392,
          0.989242951075236,
          0.9917696714401245,
          0.9927230278650919,
          0.9951629837354025,
          0.9956566691398621,
          0.9963845014572144,
          0.996714194615682
         ],
         "yaxis": "y",
         "type": "scatter"
        },
        {
         "hovertemplate": "Method=baseline<br>exp=Co-Training<br>Data<br>Task ID=%{x}<br>AUROC=%{y}<extra></extra>",
         "legendgroup": "baseline",
         "line": {
          "color": "#FFA15A",
          "dash": "solid"
         },
         "marker": {
          "symbol": "circle"
         },
         "mode": "lines",
         "name": "baseline",
         "orientation": "v",
         "showlegend": false,
         "x": [
          "T36",
          "T62",
          "T31",
          "T32",
          "T34",
          "T30",
          "T41",
          "T48",
          "T35",
          "T61",
          "T40",
          "T38",
          "T46",
          "T65",
          "T64",
          "T50",
          "T37",
          "T33",
          "T67",
          "T51",
          "T66",
          "T45",
          "T39",
          "T49",
          "T56",
          "T29",
          "T63",
          "T47",
          "T68",
          "T60",
          "T71",
          "T54",
          "T55",
          "T43",
          "T59",
          "T58",
          "T70",
          "T57",
          "T53",
          "T69",
          "T44",
          "T42",
          "T52"
         ],
         "xaxis": "x2",
         "y": [
          0.5020350813865662,
          0.5388713280359904,
          0.6092125177383423,
          0.6456688443819681,
          0.6811687151590983,
          0.6972893476486206,
          0.7127354939778646,
          0.718728760878245,
          0.7254331707954407,
          0.7550636728604635,
          0.7602814038594564,
          0.7746277848879496,
          0.789959708849589,
          0.790897528330485,
          0.8121034304300944,
          0.815746009349823,
          0.8202505906422933,
          0.8239986896514893,
          0.8368460337320963,
          0.8452289700508118,
          0.8554359277089437,
          0.86430823802948,
          0.8699163397153219,
          0.8699592351913452,
          0.8734555641810099,
          0.8827036221822103,
          0.88913893699646,
          0.8949382901191711,
          0.9019990762074789,
          0.9178571303685504,
          0.9226453900337219,
          0.9304384390513102,
          0.9469622373580933,
          0.9587047100067139,
          0.9623511632283529,
          0.9842239618301392,
          0.989242951075236,
          0.9917696714401245,
          0.9927230278650919,
          0.9951629837354025,
          0.9956566691398621,
          0.9963845014572144,
          0.996714194615682
         ],
         "yaxis": "y2",
         "type": "scatter"
        },
        {
         "hovertemplate": "Method=bKLD(large,unweighted)<br>exp=Model<br>Architecture<br>Task ID=%{x}<br>AUROC=%{y}<extra></extra>",
         "legendgroup": "bKLD(large,unweighted)",
         "line": {
          "color": "rgb(60, 180, 75)",
          "dash": "dashdot"
         },
         "marker": {
          "symbol": "circle"
         },
         "mode": "lines",
         "name": "bKLD(large,unweighted)",
         "orientation": "v",
         "showlegend": true,
         "x": [
          "T36",
          "T62",
          "T31",
          "T32",
          "T34",
          "T30",
          "T41",
          "T48",
          "T35",
          "T61",
          "T40",
          "T38",
          "T46",
          "T65",
          "T64",
          "T50",
          "T37",
          "T33",
          "T67",
          "T51",
          "T66",
          "T45",
          "T39",
          "T49",
          "T56",
          "T29",
          "T63",
          "T47",
          "T68",
          "T60",
          "T71",
          "T54",
          "T55",
          "T43",
          "T59",
          "T58",
          "T70",
          "T57",
          "T53",
          "T69",
          "T44",
          "T42",
          "T52"
         ],
         "xaxis": "x3",
         "y": [
          0.6342296004295349,
          0.6829914450645447,
          0.6687241395314535,
          0.6941569050153097,
          0.6629691123962402,
          0.7060600519180298,
          0.7217381993929545,
          0.7538410822550455,
          0.7336962024370829,
          0.835069457689921,
          0.7415635387102762,
          0.7811522682507833,
          0.8117004632949829,
          0.8091549475987753,
          0.8156493902206421,
          0.8191432356834412,
          0.861378014087677,
          0.9123349785804749,
          0.8548091451327006,
          0.8628644545873007,
          0.7983635465304056,
          0.8715201814969381,
          0.8618073463439941,
          0.8871292869249979,
          0.886062761147817,
          0.8901828130086263,
          0.9131036798159281,
          0.9197119474411012,
          0.9240807493527731,
          0.7202380994955698,
          0.9788976311683655,
          0.901258647441864,
          0.9554627339045206,
          0.9642379482587179,
          0.9828571478525797,
          0.9906057914098104,
          0.9967438578605652,
          0.9961029887199402,
          0.993111232916514,
          0.9986926317214967,
          0.9962720473607382,
          0.9960527817408243,
          0.9980157415072123
         ],
         "yaxis": "y3",
         "type": "scatter"
        },
        {
         "hovertemplate": "Method=bKLD(large,unweighted)<br>exp=Pretraining<br>Data<br>Task ID=%{x}<br>AUROC=%{y}<extra></extra>",
         "legendgroup": "bKLD(large,unweighted)",
         "line": {
          "color": "rgb(60, 180, 75)",
          "dash": "dashdot"
         },
         "marker": {
          "symbol": "circle"
         },
         "mode": "lines",
         "name": "bKLD(large,unweighted)",
         "orientation": "v",
         "showlegend": false,
         "x": [
          "T36",
          "T62",
          "T31",
          "T32",
          "T34",
          "T30",
          "T41",
          "T48",
          "T35",
          "T61",
          "T40",
          "T38",
          "T46",
          "T65",
          "T64",
          "T50",
          "T37",
          "T33",
          "T67",
          "T51",
          "T66",
          "T45",
          "T39",
          "T49",
          "T56",
          "T29",
          "T63",
          "T47",
          "T68",
          "T60",
          "T71",
          "T54",
          "T55",
          "T43",
          "T59",
          "T58",
          "T70",
          "T57",
          "T53",
          "T69",
          "T44",
          "T42",
          "T52"
         ],
         "xaxis": "x4",
         "y": [
          0.5975877245267233,
          0.669624129931132,
          0.6579877535502116,
          0.6790037155151367,
          0.6963246067365011,
          0.7005121906598409,
          0.7335859735806783,
          0.7377165158589681,
          0.7168464461962382,
          0.8026620745658875,
          0.7161388595898946,
          0.7711021701494852,
          0.7914714813232422,
          0.8019527991612753,
          0.8089655240376791,
          0.8200522661209106,
          0.8471042911211649,
          0.8958956400553385,
          0.8145409226417542,
          0.8397110104560852,
          0.7863427003224691,
          0.855544368426005,
          0.8465866446495056,
          0.8999698956807455,
          0.8524582386016846,
          0.8835562864939371,
          0.8903724352518717,
          0.8973662853240967,
          0.8869096835454305,
          0.8309523661931356,
          0.9630416035652161,
          0.8568435708681742,
          0.9504538575808207,
          0.9476381540298462,
          0.9520535667737325,
          0.9813446601231893,
          0.9912298917770386,
          0.9914557536443075,
          0.9905290603637695,
          0.9987560113271078,
          0.9960472583770752,
          0.9969477653503418,
          0.9945291678110758
         ],
         "yaxis": "y4",
         "type": "scatter"
        },
        {
         "hovertemplate": "Method=bKLD(large,unweighted)<br>exp=Augmentation<br>Policy<br>Task ID=%{x}<br>AUROC=%{y}<extra></extra>",
         "legendgroup": "bKLD(large,unweighted)",
         "line": {
          "color": "rgb(60, 180, 75)",
          "dash": "dashdot"
         },
         "marker": {
          "symbol": "circle"
         },
         "mode": "lines",
         "name": "bKLD(large,unweighted)",
         "orientation": "v",
         "showlegend": false,
         "x": [
          "T36",
          "T62",
          "T31",
          "T32",
          "T34",
          "T30",
          "T41",
          "T48",
          "T35",
          "T61",
          "T40",
          "T38",
          "T46",
          "T65",
          "T64",
          "T50",
          "T37",
          "T33",
          "T67",
          "T51",
          "T66",
          "T45",
          "T39",
          "T49",
          "T56",
          "T29",
          "T63",
          "T47",
          "T68",
          "T60",
          "T71",
          "T54",
          "T55",
          "T43",
          "T59",
          "T58",
          "T70",
          "T57",
          "T53",
          "T69",
          "T44",
          "T42",
          "T52"
         ],
         "xaxis": "x",
         "y": [
          0.6003547310829163,
          0.7898375988006592,
          0.6420833071072897,
          0.6804103851318359,
          0.6934858957926432,
          0.6878071427345276,
          0.728726307551066,
          0.7451391816139221,
          0.7419551610946655,
          0.7588252822558085,
          0.7199581662813822,
          0.785531481107076,
          0.8010445634524027,
          0.7985878189404806,
          0.8061724106470743,
          0.8222996592521667,
          0.8544421394666036,
          0.9024544755617777,
          0.8616984089215597,
          0.8494142691294352,
          0.8771579265594482,
          0.8676908016204834,
          0.8666381438573202,
          0.8732722004254659,
          0.8934382994969686,
          0.884926974773407,
          0.9168671568234762,
          0.9041358232498169,
          0.9252977172533671,
          0.9035714070002238,
          0.9784661531448364,
          0.9592556357383728,
          0.954782247543335,
          0.954396923383077,
          0.987499992052714,
          0.9901376366615295,
          0.9949710567792257,
          0.9964299003283185,
          0.9946717421213785,
          0.9994956254959106,
          0.9978461662928263,
          0.9989386002222697,
          0.9974224368731179
         ],
         "yaxis": "y",
         "type": "scatter"
        },
        {
         "hovertemplate": "Method=bKLD(large,unweighted)<br>exp=Co-Training<br>Data<br>Task ID=%{x}<br>AUROC=%{y}<extra></extra>",
         "legendgroup": "bKLD(large,unweighted)",
         "line": {
          "color": "rgb(60, 180, 75)",
          "dash": "dashdot"
         },
         "marker": {
          "symbol": "circle"
         },
         "mode": "lines",
         "name": "bKLD(large,unweighted)",
         "orientation": "v",
         "showlegend": false,
         "x": [
          "T36",
          "T62",
          "T31",
          "T32",
          "T34",
          "T30",
          "T41",
          "T48",
          "T35",
          "T61",
          "T40",
          "T38",
          "T46",
          "T65",
          "T64",
          "T50",
          "T37",
          "T33",
          "T67",
          "T51",
          "T66",
          "T45",
          "T39",
          "T49",
          "T56",
          "T29",
          "T63",
          "T47",
          "T68",
          "T60",
          "T71",
          "T54",
          "T55",
          "T43",
          "T59",
          "T58",
          "T70",
          "T57",
          "T53",
          "T69",
          "T44",
          "T42",
          "T52"
         ],
         "xaxis": "x2",
         "y": [
          0.6378246744473776,
          0.7346385916074117,
          0.6832637588183085,
          0.6839450399080912,
          0.6947528918584188,
          0.7040470838546753,
          0.7334929704666138,
          0.7452974716822306,
          0.7282952467600504,
          0.825665553410848,
          0.7475007573763529,
          0.7808152238527933,
          0.8027874231338501,
          0.7954849799474081,
          0.8110804557800293,
          0.8341611623764038,
          0.8597057660420736,
          0.9086950620015463,
          0.848166823387146,
          0.8512041171391805,
          0.8370772401491801,
          0.8636006116867065,
          0.8652655879656473,
          0.8945485949516296,
          0.8814194401105245,
          0.8857765793800354,
          0.9043723742167155,
          0.901162584622701,
          0.9037994146347046,
          0.8940476377805074,
          0.9734687805175781,
          0.9864327112833658,
          0.9624663591384888,
          0.950609008471171,
          0.9697618881861368,
          0.9913836518923441,
          0.9947913885116577,
          0.9974392255147299,
          0.9933369954427084,
          0.997929573059082,
          0.9962577223777771,
          0.9979475736618042,
          0.9966824253400167
         ],
         "yaxis": "y2",
         "type": "scatter"
        }
       ],
       "layout": {
        "template": {
         "data": {
          "barpolar": [
           {
            "marker": {
             "line": {
              "color": "#E5ECF6",
              "width": 0.5
             },
             "pattern": {
              "fillmode": "overlay",
              "size": 10,
              "solidity": 0.2
             }
            },
            "type": "barpolar"
           }
          ],
          "bar": [
           {
            "error_x": {
             "color": "#2a3f5f"
            },
            "error_y": {
             "color": "#2a3f5f"
            },
            "marker": {
             "line": {
              "color": "#E5ECF6",
              "width": 0.5
             },
             "pattern": {
              "fillmode": "overlay",
              "size": 10,
              "solidity": 0.2
             }
            },
            "type": "bar"
           }
          ],
          "carpet": [
           {
            "aaxis": {
             "endlinecolor": "#2a3f5f",
             "gridcolor": "white",
             "linecolor": "white",
             "minorgridcolor": "white",
             "startlinecolor": "#2a3f5f"
            },
            "baxis": {
             "endlinecolor": "#2a3f5f",
             "gridcolor": "white",
             "linecolor": "white",
             "minorgridcolor": "white",
             "startlinecolor": "#2a3f5f"
            },
            "type": "carpet"
           }
          ],
          "choropleth": [
           {
            "colorbar": {
             "outlinewidth": 0,
             "ticks": ""
            },
            "type": "choropleth"
           }
          ],
          "contourcarpet": [
           {
            "colorbar": {
             "outlinewidth": 0,
             "ticks": ""
            },
            "type": "contourcarpet"
           }
          ],
          "contour": [
           {
            "colorbar": {
             "outlinewidth": 0,
             "ticks": ""
            },
            "colorscale": [
             [
              0.0,
              "#0d0887"
             ],
             [
              0.1111111111111111,
              "#46039f"
             ],
             [
              0.2222222222222222,
              "#7201a8"
             ],
             [
              0.3333333333333333,
              "#9c179e"
             ],
             [
              0.4444444444444444,
              "#bd3786"
             ],
             [
              0.5555555555555556,
              "#d8576b"
             ],
             [
              0.6666666666666666,
              "#ed7953"
             ],
             [
              0.7777777777777778,
              "#fb9f3a"
             ],
             [
              0.8888888888888888,
              "#fdca26"
             ],
             [
              1.0,
              "#f0f921"
             ]
            ],
            "type": "contour"
           }
          ],
          "heatmapgl": [
           {
            "colorbar": {
             "outlinewidth": 0,
             "ticks": ""
            },
            "colorscale": [
             [
              0.0,
              "#0d0887"
             ],
             [
              0.1111111111111111,
              "#46039f"
             ],
             [
              0.2222222222222222,
              "#7201a8"
             ],
             [
              0.3333333333333333,
              "#9c179e"
             ],
             [
              0.4444444444444444,
              "#bd3786"
             ],
             [
              0.5555555555555556,
              "#d8576b"
             ],
             [
              0.6666666666666666,
              "#ed7953"
             ],
             [
              0.7777777777777778,
              "#fb9f3a"
             ],
             [
              0.8888888888888888,
              "#fdca26"
             ],
             [
              1.0,
              "#f0f921"
             ]
            ],
            "type": "heatmapgl"
           }
          ],
          "heatmap": [
           {
            "colorbar": {
             "outlinewidth": 0,
             "ticks": ""
            },
            "colorscale": [
             [
              0.0,
              "#0d0887"
             ],
             [
              0.1111111111111111,
              "#46039f"
             ],
             [
              0.2222222222222222,
              "#7201a8"
             ],
             [
              0.3333333333333333,
              "#9c179e"
             ],
             [
              0.4444444444444444,
              "#bd3786"
             ],
             [
              0.5555555555555556,
              "#d8576b"
             ],
             [
              0.6666666666666666,
              "#ed7953"
             ],
             [
              0.7777777777777778,
              "#fb9f3a"
             ],
             [
              0.8888888888888888,
              "#fdca26"
             ],
             [
              1.0,
              "#f0f921"
             ]
            ],
            "type": "heatmap"
           }
          ],
          "histogram2dcontour": [
           {
            "colorbar": {
             "outlinewidth": 0,
             "ticks": ""
            },
            "colorscale": [
             [
              0.0,
              "#0d0887"
             ],
             [
              0.1111111111111111,
              "#46039f"
             ],
             [
              0.2222222222222222,
              "#7201a8"
             ],
             [
              0.3333333333333333,
              "#9c179e"
             ],
             [
              0.4444444444444444,
              "#bd3786"
             ],
             [
              0.5555555555555556,
              "#d8576b"
             ],
             [
              0.6666666666666666,
              "#ed7953"
             ],
             [
              0.7777777777777778,
              "#fb9f3a"
             ],
             [
              0.8888888888888888,
              "#fdca26"
             ],
             [
              1.0,
              "#f0f921"
             ]
            ],
            "type": "histogram2dcontour"
           }
          ],
          "histogram2d": [
           {
            "colorbar": {
             "outlinewidth": 0,
             "ticks": ""
            },
            "colorscale": [
             [
              0.0,
              "#0d0887"
             ],
             [
              0.1111111111111111,
              "#46039f"
             ],
             [
              0.2222222222222222,
              "#7201a8"
             ],
             [
              0.3333333333333333,
              "#9c179e"
             ],
             [
              0.4444444444444444,
              "#bd3786"
             ],
             [
              0.5555555555555556,
              "#d8576b"
             ],
             [
              0.6666666666666666,
              "#ed7953"
             ],
             [
              0.7777777777777778,
              "#fb9f3a"
             ],
             [
              0.8888888888888888,
              "#fdca26"
             ],
             [
              1.0,
              "#f0f921"
             ]
            ],
            "type": "histogram2d"
           }
          ],
          "histogram": [
           {
            "marker": {
             "pattern": {
              "fillmode": "overlay",
              "size": 10,
              "solidity": 0.2
             }
            },
            "type": "histogram"
           }
          ],
          "mesh3d": [
           {
            "colorbar": {
             "outlinewidth": 0,
             "ticks": ""
            },
            "type": "mesh3d"
           }
          ],
          "parcoords": [
           {
            "line": {
             "colorbar": {
              "outlinewidth": 0,
              "ticks": ""
             }
            },
            "type": "parcoords"
           }
          ],
          "pie": [
           {
            "automargin": true,
            "type": "pie"
           }
          ],
          "scatter3d": [
           {
            "line": {
             "colorbar": {
              "outlinewidth": 0,
              "ticks": ""
             }
            },
            "marker": {
             "colorbar": {
              "outlinewidth": 0,
              "ticks": ""
             }
            },
            "type": "scatter3d"
           }
          ],
          "scattercarpet": [
           {
            "marker": {
             "colorbar": {
              "outlinewidth": 0,
              "ticks": ""
             }
            },
            "type": "scattercarpet"
           }
          ],
          "scattergeo": [
           {
            "marker": {
             "colorbar": {
              "outlinewidth": 0,
              "ticks": ""
             }
            },
            "type": "scattergeo"
           }
          ],
          "scattergl": [
           {
            "marker": {
             "colorbar": {
              "outlinewidth": 0,
              "ticks": ""
             }
            },
            "type": "scattergl"
           }
          ],
          "scattermapbox": [
           {
            "marker": {
             "colorbar": {
              "outlinewidth": 0,
              "ticks": ""
             }
            },
            "type": "scattermapbox"
           }
          ],
          "scatterpolargl": [
           {
            "marker": {
             "colorbar": {
              "outlinewidth": 0,
              "ticks": ""
             }
            },
            "type": "scatterpolargl"
           }
          ],
          "scatterpolar": [
           {
            "marker": {
             "colorbar": {
              "outlinewidth": 0,
              "ticks": ""
             }
            },
            "type": "scatterpolar"
           }
          ],
          "scatter": [
           {
            "fillpattern": {
             "fillmode": "overlay",
             "size": 10,
             "solidity": 0.2
            },
            "type": "scatter"
           }
          ],
          "scatterternary": [
           {
            "marker": {
             "colorbar": {
              "outlinewidth": 0,
              "ticks": ""
             }
            },
            "type": "scatterternary"
           }
          ],
          "surface": [
           {
            "colorbar": {
             "outlinewidth": 0,
             "ticks": ""
            },
            "colorscale": [
             [
              0.0,
              "#0d0887"
             ],
             [
              0.1111111111111111,
              "#46039f"
             ],
             [
              0.2222222222222222,
              "#7201a8"
             ],
             [
              0.3333333333333333,
              "#9c179e"
             ],
             [
              0.4444444444444444,
              "#bd3786"
             ],
             [
              0.5555555555555556,
              "#d8576b"
             ],
             [
              0.6666666666666666,
              "#ed7953"
             ],
             [
              0.7777777777777778,
              "#fb9f3a"
             ],
             [
              0.8888888888888888,
              "#fdca26"
             ],
             [
              1.0,
              "#f0f921"
             ]
            ],
            "type": "surface"
           }
          ],
          "table": [
           {
            "cells": {
             "fill": {
              "color": "#EBF0F8"
             },
             "line": {
              "color": "white"
             }
            },
            "header": {
             "fill": {
              "color": "#C8D4E3"
             },
             "line": {
              "color": "white"
             }
            },
            "type": "table"
           }
          ]
         },
         "layout": {
          "annotationdefaults": {
           "arrowcolor": "#2a3f5f",
           "arrowhead": 0,
           "arrowwidth": 1
          },
          "autotypenumbers": "strict",
          "coloraxis": {
           "colorbar": {
            "outlinewidth": 0,
            "ticks": ""
           }
          },
          "colorscale": {
           "diverging": [
            [
             0,
             "#8e0152"
            ],
            [
             0.1,
             "#c51b7d"
            ],
            [
             0.2,
             "#de77ae"
            ],
            [
             0.3,
             "#f1b6da"
            ],
            [
             0.4,
             "#fde0ef"
            ],
            [
             0.5,
             "#f7f7f7"
            ],
            [
             0.6,
             "#e6f5d0"
            ],
            [
             0.7,
             "#b8e186"
            ],
            [
             0.8,
             "#7fbc41"
            ],
            [
             0.9,
             "#4d9221"
            ],
            [
             1,
             "#276419"
            ]
           ],
           "sequential": [
            [
             0.0,
             "#0d0887"
            ],
            [
             0.1111111111111111,
             "#46039f"
            ],
            [
             0.2222222222222222,
             "#7201a8"
            ],
            [
             0.3333333333333333,
             "#9c179e"
            ],
            [
             0.4444444444444444,
             "#bd3786"
            ],
            [
             0.5555555555555556,
             "#d8576b"
            ],
            [
             0.6666666666666666,
             "#ed7953"
            ],
            [
             0.7777777777777778,
             "#fb9f3a"
            ],
            [
             0.8888888888888888,
             "#fdca26"
            ],
            [
             1.0,
             "#f0f921"
            ]
           ],
           "sequentialminus": [
            [
             0.0,
             "#0d0887"
            ],
            [
             0.1111111111111111,
             "#46039f"
            ],
            [
             0.2222222222222222,
             "#7201a8"
            ],
            [
             0.3333333333333333,
             "#9c179e"
            ],
            [
             0.4444444444444444,
             "#bd3786"
            ],
            [
             0.5555555555555556,
             "#d8576b"
            ],
            [
             0.6666666666666666,
             "#ed7953"
            ],
            [
             0.7777777777777778,
             "#fb9f3a"
            ],
            [
             0.8888888888888888,
             "#fdca26"
            ],
            [
             1.0,
             "#f0f921"
            ]
           ]
          },
          "colorway": [
           "#636efa",
           "#EF553B",
           "#00cc96",
           "#ab63fa",
           "#FFA15A",
           "#19d3f3",
           "#FF6692",
           "#B6E880",
           "#FF97FF",
           "#FECB52"
          ],
          "font": {
           "color": "#2a3f5f"
          },
          "geo": {
           "bgcolor": "white",
           "lakecolor": "white",
           "landcolor": "#E5ECF6",
           "showlakes": true,
           "showland": true,
           "subunitcolor": "white"
          },
          "hoverlabel": {
           "align": "left"
          },
          "hovermode": "closest",
          "mapbox": {
           "style": "light"
          },
          "paper_bgcolor": "white",
          "plot_bgcolor": "#E5ECF6",
          "polar": {
           "angularaxis": {
            "gridcolor": "white",
            "linecolor": "white",
            "ticks": ""
           },
           "bgcolor": "#E5ECF6",
           "radialaxis": {
            "gridcolor": "white",
            "linecolor": "white",
            "ticks": ""
           }
          },
          "scene": {
           "xaxis": {
            "backgroundcolor": "#E5ECF6",
            "gridcolor": "white",
            "gridwidth": 2,
            "linecolor": "white",
            "showbackground": true,
            "ticks": "",
            "zerolinecolor": "white"
           },
           "yaxis": {
            "backgroundcolor": "#E5ECF6",
            "gridcolor": "white",
            "gridwidth": 2,
            "linecolor": "white",
            "showbackground": true,
            "ticks": "",
            "zerolinecolor": "white"
           },
           "zaxis": {
            "backgroundcolor": "#E5ECF6",
            "gridcolor": "white",
            "gridwidth": 2,
            "linecolor": "white",
            "showbackground": true,
            "ticks": "",
            "zerolinecolor": "white"
           }
          },
          "shapedefaults": {
           "line": {
            "color": "#2a3f5f"
           }
          },
          "ternary": {
           "aaxis": {
            "gridcolor": "white",
            "linecolor": "white",
            "ticks": ""
           },
           "baxis": {
            "gridcolor": "white",
            "linecolor": "white",
            "ticks": ""
           },
           "bgcolor": "#E5ECF6",
           "caxis": {
            "gridcolor": "white",
            "linecolor": "white",
            "ticks": ""
           }
          },
          "title": {
           "x": 0.05
          },
          "xaxis": {
           "automargin": true,
           "gridcolor": "white",
           "linecolor": "white",
           "ticks": "",
           "title": {
            "standoff": 15
           },
           "zerolinecolor": "white",
           "zerolinewidth": 2
          },
          "yaxis": {
           "automargin": true,
           "gridcolor": "white",
           "linecolor": "white",
           "ticks": "",
           "title": {
            "standoff": 15
           },
           "zerolinecolor": "white",
           "zerolinewidth": 2
          }
         }
        },
        "xaxis": {
         "anchor": "y",
         "domain": [
          0.0,
          0.49
         ],
         "title": {
          "text": "Task ID"
         },
         "nticks": 172
        },
        "yaxis": {
         "anchor": "x",
         "domain": [
          0.0,
          0.425
         ],
         "title": {
          "text": "AUROC"
         }
        },
        "xaxis2": {
         "anchor": "y2",
         "domain": [
          0.51,
          1.0
         ],
         "matches": "x",
         "title": {
          "text": "Task ID"
         },
         "nticks": 172
        },
        "yaxis2": {
         "anchor": "x2",
         "domain": [
          0.0,
          0.425
         ],
         "matches": "y",
         "showticklabels": false
        },
        "xaxis3": {
         "anchor": "y3",
         "domain": [
          0.0,
          0.49
         ],
         "matches": "x",
         "showticklabels": false,
         "nticks": 172
        },
        "yaxis3": {
         "anchor": "x3",
         "domain": [
          0.575,
          1.0
         ],
         "matches": "y",
         "title": {
          "text": "AUROC"
         }
        },
        "xaxis4": {
         "anchor": "y4",
         "domain": [
          0.51,
          1.0
         ],
         "matches": "x",
         "showticklabels": false,
         "nticks": 172
        },
        "yaxis4": {
         "anchor": "x4",
         "domain": [
          0.575,
          1.0
         ],
         "matches": "y",
         "showticklabels": false
        },
        "annotations": [
         {
          "font": {},
          "showarrow": false,
          "text": "Augmentation<br>Policy",
          "x": 0.245,
          "xanchor": "center",
          "xref": "paper",
          "y": 0.425,
          "yanchor": "bottom",
          "yref": "paper"
         },
         {
          "font": {},
          "showarrow": false,
          "text": "Co-Training<br>Data",
          "x": 0.755,
          "xanchor": "center",
          "xref": "paper",
          "y": 0.425,
          "yanchor": "bottom",
          "yref": "paper"
         },
         {
          "font": {},
          "showarrow": false,
          "text": "Model<br>Architecture",
          "x": 0.245,
          "xanchor": "center",
          "xref": "paper",
          "y": 1.0,
          "yanchor": "bottom",
          "yref": "paper"
         },
         {
          "font": {},
          "showarrow": false,
          "text": "Pretraining<br>Data",
          "x": 0.755,
          "xanchor": "center",
          "xref": "paper",
          "y": 1.0,
          "yanchor": "bottom",
          "yref": "paper"
         }
        ],
        "legend": {
         "title": {
          "text": "Method"
         },
         "tracegroupgap": 0,
         "orientation": "h",
         "y": -0.2,
         "xanchor": "center",
         "x": 0.5
        },
        "margin": {
         "t": 60
        },
        "font": {
         "size": 20
        },
        "width": 2000,
        "height": 800
       },
       "config": {
        "plotlyServerURL": "https://plot.ly"
       }
      },
      "text/html": [
       "<div>                            <div id=\"884334be-9e26-43c3-8d38-45f83fe3efa7\" class=\"plotly-graph-div\" style=\"height:800px; width:2000px;\"></div>            <script type=\"text/javascript\">                require([\"plotly\"], function(Plotly) {                    window.PLOTLYENV=window.PLOTLYENV || {};                                    if (document.getElementById(\"884334be-9e26-43c3-8d38-45f83fe3efa7\")) {                    Plotly.newPlot(                        \"884334be-9e26-43c3-8d38-45f83fe3efa7\",                        [{\"hovertemplate\":\"Method=bKLD(large,source)\\u003cbr\\u003eexp=Model\\u003cbr\\u003eArchitecture\\u003cbr\\u003eTask ID=%{x}\\u003cbr\\u003eAUROC=%{y}\\u003cextra\\u003e\\u003c\\u002fextra\\u003e\",\"legendgroup\":\"bKLD(large,source)\",\"line\":{\"color\":\"rgb(60, 180, 75)\",\"dash\":\"dash\"},\"marker\":{\"symbol\":\"circle\"},\"mode\":\"lines\",\"name\":\"bKLD(large,source)\",\"orientation\":\"v\",\"showlegend\":true,\"x\":[\"T36\",\"T62\",\"T31\",\"T32\",\"T34\",\"T30\",\"T41\",\"T48\",\"T35\",\"T61\",\"T40\",\"T38\",\"T46\",\"T65\",\"T64\",\"T50\",\"T37\",\"T33\",\"T67\",\"T51\",\"T66\",\"T45\",\"T39\",\"T49\",\"T56\",\"T29\",\"T63\",\"T47\",\"T68\",\"T60\",\"T71\",\"T54\",\"T55\",\"T43\",\"T59\",\"T58\",\"T70\",\"T57\",\"T53\",\"T69\",\"T44\",\"T42\",\"T52\"],\"xaxis\":\"x3\",\"y\":[0.646977961063385,0.6829914450645447,0.6341093977292379,0.6945679187774658,0.6573211948076884,0.708313783009847,0.743773361047109,0.754307210445404,0.7306325236956278,0.8360821803410848,0.7460246284802755,0.7904231349627177,0.813675045967102,0.804966151714325,0.8259080251057943,0.8369060158729553,0.8589930931727091,0.9120241602261862,0.8455976049105326,0.8568857908248901,0.8172993659973145,0.8724356889724731,0.8567209839820862,0.8948201934496561,0.8874248266220093,0.8911974628766378,0.9181052645047506,0.9212603370348612,0.9169886906941732,0.963095227877299,0.9706654946009318,0.9738288124402364,0.9554627339045206,0.9708853562672933,0.9856547514597574,0.991888682047526,0.9969399770100912,0.9964857896169027,0.9932996034622192,0.9996880094210306,0.9953248898188273,0.9975157976150513,0.9980157415072123],\"yaxis\":\"y3\",\"type\":\"scatter\"},{\"hovertemplate\":\"Method=bKLD(large,source)\\u003cbr\\u003eexp=Pretraining\\u003cbr\\u003eData\\u003cbr\\u003eTask ID=%{x}\\u003cbr\\u003eAUROC=%{y}\\u003cextra\\u003e\\u003c\\u002fextra\\u003e\",\"legendgroup\":\"bKLD(large,source)\",\"line\":{\"color\":\"rgb(60, 180, 75)\",\"dash\":\"dash\"},\"marker\":{\"symbol\":\"circle\"},\"mode\":\"lines\",\"name\":\"bKLD(large,source)\",\"orientation\":\"v\",\"showlegend\":false,\"x\":[\"T36\",\"T62\",\"T31\",\"T32\",\"T34\",\"T30\",\"T41\",\"T48\",\"T35\",\"T61\",\"T40\",\"T38\",\"T46\",\"T65\",\"T64\",\"T50\",\"T37\",\"T33\",\"T67\",\"T51\",\"T66\",\"T45\",\"T39\",\"T49\",\"T56\",\"T29\",\"T63\",\"T47\",\"T68\",\"T60\",\"T71\",\"T54\",\"T55\",\"T43\",\"T59\",\"T58\",\"T70\",\"T57\",\"T53\",\"T69\",\"T44\",\"T42\",\"T52\"],\"xaxis\":\"x4\",\"y\":[0.5887973308563232,0.6167919238408407,0.6380373040835062,0.6719451944033304,0.6781046787897745,0.6828317244847616,0.7200672427813212,0.7042669256528219,0.7115326325098673,0.7782118320465088,0.733049750328064,0.7756100098292033,0.7842772006988525,0.7992371122042338,0.8049310445785522,0.8085093299547831,0.8450682361920675,0.8895635406176249,0.8309143980344137,0.8290279308954874,0.7711028655370077,0.8417583902676901,0.8492403229077657,0.8714382648468018,0.8757414817810059,0.8755762378374735,0.8661736448605856,0.8726131916046143,0.9031956195831299,0.9000000158945719,0.9451361894607544,0.9326686263084412,0.9504538575808207,0.9554366866747537,0.9549404780069987,0.9837833841641744,0.9847613374392191,0.9872627059618632,0.9895347158114115,0.9972591002782186,0.9941850900650024,0.9936380783716837,0.9977506995201111],\"yaxis\":\"y4\",\"type\":\"scatter\"},{\"hovertemplate\":\"Method=bKLD(large,source)\\u003cbr\\u003eexp=Augmentation\\u003cbr\\u003ePolicy\\u003cbr\\u003eTask ID=%{x}\\u003cbr\\u003eAUROC=%{y}\\u003cextra\\u003e\\u003c\\u002fextra\\u003e\",\"legendgroup\":\"bKLD(large,source)\",\"line\":{\"color\":\"rgb(60, 180, 75)\",\"dash\":\"dash\"},\"marker\":{\"symbol\":\"circle\"},\"mode\":\"lines\",\"name\":\"bKLD(large,source)\",\"orientation\":\"v\",\"showlegend\":false,\"x\":[\"T36\",\"T62\",\"T31\",\"T32\",\"T34\",\"T30\",\"T41\",\"T48\",\"T35\",\"T61\",\"T40\",\"T38\",\"T46\",\"T65\",\"T64\",\"T50\",\"T37\",\"T33\",\"T67\",\"T51\",\"T66\",\"T45\",\"T39\",\"T49\",\"T56\",\"T29\",\"T63\",\"T47\",\"T68\",\"T60\",\"T71\",\"T54\",\"T55\",\"T43\",\"T59\",\"T58\",\"T70\",\"T57\",\"T53\",\"T69\",\"T44\",\"T42\",\"T52\"],\"xaxis\":\"x\",\"y\":[0.5774370233217875,0.7779221534729004,0.6365275382995605,0.6898692647616068,0.6937499841054281,0.6912311911582947,0.7251215179761251,0.7377886970837911,0.7398674289385477,0.7588252822558085,0.6972387234369913,0.7811022599538168,0.8067357341448466,0.8170211712519327,0.8049310247103373,0.8208049734433492,0.8537481427192688,0.8963804046312968,0.8705791036287943,0.8507763942082723,0.8221400380134583,0.8656377196311951,0.8557166655858358,0.881221334139506,0.8848241964975992,0.8872605959574381,0.9144068757692972,0.9055350025494894,0.9262812733650208,0.9035714070002238,0.9707000255584717,0.9596342444419861,0.954782247543335,0.9553624788920084,0.9783332943916321,0.9899611671765646,0.9964914520581564,0.9936206340789795,0.9935163259506226,0.999552845954895,0.998724619547526,0.9983404477437338,0.9981416662534078],\"yaxis\":\"y\",\"type\":\"scatter\"},{\"hovertemplate\":\"Method=bKLD(large,source)\\u003cbr\\u003eexp=Co-Training\\u003cbr\\u003eData\\u003cbr\\u003eTask ID=%{x}\\u003cbr\\u003eAUROC=%{y}\\u003cextra\\u003e\\u003c\\u002fextra\\u003e\",\"legendgroup\":\"bKLD(large,source)\",\"line\":{\"color\":\"rgb(60, 180, 75)\",\"dash\":\"dash\"},\"marker\":{\"symbol\":\"circle\"},\"mode\":\"lines\",\"name\":\"bKLD(large,source)\",\"orientation\":\"v\",\"showlegend\":false,\"x\":[\"T36\",\"T62\",\"T31\",\"T32\",\"T34\",\"T30\",\"T41\",\"T48\",\"T35\",\"T61\",\"T40\",\"T38\",\"T46\",\"T65\",\"T64\",\"T50\",\"T37\",\"T33\",\"T67\",\"T51\",\"T66\",\"T45\",\"T39\",\"T49\",\"T56\",\"T29\",\"T63\",\"T47\",\"T68\",\"T60\",\"T71\",\"T54\",\"T55\",\"T43\",\"T59\",\"T58\",\"T70\",\"T57\",\"T53\",\"T69\",\"T44\",\"T42\",\"T52\"],\"xaxis\":\"x2\",\"y\":[0.6366432706514994,0.6775572896003723,0.6501659154891968,0.7026868859926859,0.6941803296407064,0.7002829710642496,0.7372864882151285,0.7363695700963339,0.7376716732978821,0.826388955116272,0.7475799123446146,0.7845272223154703,0.8011905153592428,0.8109040260314941,0.8093218406041464,0.8324196139971415,0.8587636550267538,0.9149978359540304,0.8500891526540121,0.8538227876027426,0.8478317260742188,0.8643509745597839,0.8654537399609884,0.8849457105000814,0.89024285475413,0.8941338658332825,0.8959669868151346,0.9147427876790365,0.9086783329645792,0.8988094925880432,0.9622715711593628,0.9831588665644327,0.9616567889849345,0.9634581009546915,0.9737202326456705,0.9890955885251363,0.9930166403452555,0.9958021640777588,0.993038276831309,0.9986513257026672,0.9968000253041586,0.9976158738136292,0.9957389632860819],\"yaxis\":\"y2\",\"type\":\"scatter\"},{\"hovertemplate\":\"Method=bKLD(small,target)\\u003cbr\\u003eexp=Model\\u003cbr\\u003eArchitecture\\u003cbr\\u003eTask ID=%{x}\\u003cbr\\u003eAUROC=%{y}\\u003cextra\\u003e\\u003c\\u002fextra\\u003e\",\"legendgroup\":\"bKLD(small,target)\",\"line\":{\"color\":\"rgb(60, 180, 75)\",\"dash\":\"solid\"},\"marker\":{\"symbol\":\"circle\"},\"mode\":\"lines\",\"name\":\"bKLD(small,target)\",\"orientation\":\"v\",\"showlegend\":true,\"x\":[\"T36\",\"T62\",\"T31\",\"T32\",\"T34\",\"T30\",\"T41\",\"T48\",\"T35\",\"T61\",\"T40\",\"T38\",\"T46\",\"T65\",\"T64\",\"T50\",\"T37\",\"T33\",\"T67\",\"T51\",\"T66\",\"T45\",\"T39\",\"T49\",\"T56\",\"T29\",\"T63\",\"T47\",\"T68\",\"T60\",\"T71\",\"T54\",\"T55\",\"T43\",\"T59\",\"T58\",\"T70\",\"T57\",\"T53\",\"T69\",\"T44\",\"T42\",\"T52\"],\"xaxis\":\"x3\",\"y\":[0.6342296004295349,0.7540020744005839,0.6687241395314535,0.6941569050153097,0.6629691123962402,0.7060600519180298,0.7217381993929545,0.7538410822550455,0.7336962024370829,0.835069457689921,0.7415635387102762,0.7811522682507833,0.8117004632949829,0.8091549475987753,0.8156493902206421,0.8191432356834412,0.861378014087677,0.9123349785804749,0.8548091451327006,0.8628644545873007,0.7983635465304056,0.8715201814969381,0.8618073463439941,0.8871292869249979,0.886062761147817,0.8901828130086263,0.9131036798159281,0.9197119474411012,0.9240807493527731,0.7202380994955698,0.9788976311683655,0.901258647441864,0.9554627339045206,0.9642379482587179,0.9828571478525797,0.991888682047526,0.9967438578605652,0.9961029887199402,0.9940497080485026,0.998458981513977,0.9962720473607382,0.9960527817408243,0.9980157415072123],\"yaxis\":\"y3\",\"type\":\"scatter\"},{\"hovertemplate\":\"Method=bKLD(small,target)\\u003cbr\\u003eexp=Pretraining\\u003cbr\\u003eData\\u003cbr\\u003eTask ID=%{x}\\u003cbr\\u003eAUROC=%{y}\\u003cextra\\u003e\\u003c\\u002fextra\\u003e\",\"legendgroup\":\"bKLD(small,target)\",\"line\":{\"color\":\"rgb(60, 180, 75)\",\"dash\":\"solid\"},\"marker\":{\"symbol\":\"circle\"},\"mode\":\"lines\",\"name\":\"bKLD(small,target)\",\"orientation\":\"v\",\"showlegend\":false,\"x\":[\"T36\",\"T62\",\"T31\",\"T32\",\"T34\",\"T30\",\"T41\",\"T48\",\"T35\",\"T61\",\"T40\",\"T38\",\"T46\",\"T65\",\"T64\",\"T50\",\"T37\",\"T33\",\"T67\",\"T51\",\"T66\",\"T45\",\"T39\",\"T49\",\"T56\",\"T29\",\"T63\",\"T47\",\"T68\",\"T60\",\"T71\",\"T54\",\"T55\",\"T43\",\"T59\",\"T58\",\"T70\",\"T57\",\"T53\",\"T69\",\"T44\",\"T42\",\"T52\"],\"xaxis\":\"x4\",\"y\":[0.5975877245267233,0.669624129931132,0.6579877535502116,0.6790037155151367,0.6963246067365011,0.7005121906598409,0.7335859735806783,0.7377165158589681,0.7168464461962382,0.8026620745658875,0.7161388595898946,0.7711021701494852,0.7914714813232422,0.8019527991612753,0.8089655240376791,0.8200522661209106,0.8471042911211649,0.8958956400553385,0.8145409226417542,0.8397110104560852,0.7863427003224691,0.855544368426005,0.8465866446495056,0.8999698956807455,0.8524582386016846,0.8835562864939371,0.8903724352518717,0.8973662853240967,0.8869096835454305,0.8309523661931356,0.9630416035652161,0.8568435708681742,0.9504538575808207,0.9476381540298462,0.9520535667737325,0.9837833841641744,0.9912298917770386,0.9914557536443075,0.9914508660634359,0.9987560113271078,0.9960472583770752,0.9969477653503418,0.9945291678110758],\"yaxis\":\"y4\",\"type\":\"scatter\"},{\"hovertemplate\":\"Method=bKLD(small,target)\\u003cbr\\u003eexp=Augmentation\\u003cbr\\u003ePolicy\\u003cbr\\u003eTask ID=%{x}\\u003cbr\\u003eAUROC=%{y}\\u003cextra\\u003e\\u003c\\u002fextra\\u003e\",\"legendgroup\":\"bKLD(small,target)\",\"line\":{\"color\":\"rgb(60, 180, 75)\",\"dash\":\"solid\"},\"marker\":{\"symbol\":\"circle\"},\"mode\":\"lines\",\"name\":\"bKLD(small,target)\",\"orientation\":\"v\",\"showlegend\":false,\"x\":[\"T36\",\"T62\",\"T31\",\"T32\",\"T34\",\"T30\",\"T41\",\"T48\",\"T35\",\"T61\",\"T40\",\"T38\",\"T46\",\"T65\",\"T64\",\"T50\",\"T37\",\"T33\",\"T67\",\"T51\",\"T66\",\"T45\",\"T39\",\"T49\",\"T56\",\"T29\",\"T63\",\"T47\",\"T68\",\"T60\",\"T71\",\"T54\",\"T55\",\"T43\",\"T59\",\"T58\",\"T70\",\"T57\",\"T53\",\"T69\",\"T44\",\"T42\",\"T52\"],\"xaxis\":\"x\",\"y\":[0.6003547310829163,0.796394964059194,0.6420833071072897,0.6804103851318359,0.6934858957926432,0.6878071427345276,0.728726307551066,0.7451391816139221,0.7419551610946655,0.7588252822558085,0.7199581662813822,0.785531481107076,0.8010445634524027,0.7985878189404806,0.8061724106470743,0.8222996592521667,0.8544421394666036,0.9024544755617777,0.8616984089215597,0.8494142691294352,0.8771579265594482,0.8676908016204834,0.8666381438573202,0.8732722004254659,0.8934382994969686,0.884926974773407,0.9168671568234762,0.9041358232498169,0.9252977172533671,0.9035714070002238,0.9784661531448364,0.9592556357383728,0.954782247543335,0.954396923383077,0.987499992052714,0.9899611671765646,0.9949710567792257,0.9964299003283185,0.9946717421213785,0.9994020462036133,0.9978461662928263,0.9989386002222697,0.9974224368731179],\"yaxis\":\"y\",\"type\":\"scatter\"},{\"hovertemplate\":\"Method=bKLD(small,target)\\u003cbr\\u003eexp=Co-Training\\u003cbr\\u003eData\\u003cbr\\u003eTask ID=%{x}\\u003cbr\\u003eAUROC=%{y}\\u003cextra\\u003e\\u003c\\u002fextra\\u003e\",\"legendgroup\":\"bKLD(small,target)\",\"line\":{\"color\":\"rgb(60, 180, 75)\",\"dash\":\"solid\"},\"marker\":{\"symbol\":\"circle\"},\"mode\":\"lines\",\"name\":\"bKLD(small,target)\",\"orientation\":\"v\",\"showlegend\":false,\"x\":[\"T36\",\"T62\",\"T31\",\"T32\",\"T34\",\"T30\",\"T41\",\"T48\",\"T35\",\"T61\",\"T40\",\"T38\",\"T46\",\"T65\",\"T64\",\"T50\",\"T37\",\"T33\",\"T67\",\"T51\",\"T66\",\"T45\",\"T39\",\"T49\",\"T56\",\"T29\",\"T63\",\"T47\",\"T68\",\"T60\",\"T71\",\"T54\",\"T55\",\"T43\",\"T59\",\"T58\",\"T70\",\"T57\",\"T53\",\"T69\",\"T44\",\"T42\",\"T52\"],\"xaxis\":\"x2\",\"y\":[0.6378246744473776,0.6775572896003723,0.6832637588183085,0.6839450399080912,0.6947528918584188,0.7040470838546753,0.7334929704666138,0.7452974716822306,0.7282952467600504,0.825665553410848,0.7475007573763529,0.7808152238527933,0.8027874231338501,0.7954849799474081,0.8110804557800293,0.8341611623764038,0.8597057660420736,0.9086950620015463,0.848166823387146,0.8512041171391805,0.8370772401491801,0.8636006116867065,0.8652655879656473,0.8945485949516296,0.8814194401105245,0.8857765793800354,0.9043723742167155,0.901162584622701,0.9037994146347046,0.8940476377805074,0.9734687805175781,0.9864327112833658,0.9624663591384888,0.950609008471171,0.9685714244842529,0.9890955885251363,0.9947913885116577,0.9974392255147299,0.9934083223342896,0.9981898864110311,0.9962577223777771,0.9979475736618042,0.9968460996945699],\"yaxis\":\"y2\",\"type\":\"scatter\"},{\"hovertemplate\":\"Method=baseline\\u003cbr\\u003eexp=Model\\u003cbr\\u003eArchitecture\\u003cbr\\u003eTask ID=%{x}\\u003cbr\\u003eAUROC=%{y}\\u003cextra\\u003e\\u003c\\u002fextra\\u003e\",\"legendgroup\":\"baseline\",\"line\":{\"color\":\"#FFA15A\",\"dash\":\"solid\"},\"marker\":{\"symbol\":\"circle\"},\"mode\":\"lines\",\"name\":\"baseline\",\"orientation\":\"v\",\"showlegend\":true,\"x\":[\"T36\",\"T62\",\"T31\",\"T32\",\"T34\",\"T30\",\"T41\",\"T48\",\"T35\",\"T61\",\"T40\",\"T38\",\"T46\",\"T65\",\"T64\",\"T50\",\"T37\",\"T33\",\"T67\",\"T51\",\"T66\",\"T45\",\"T39\",\"T49\",\"T56\",\"T29\",\"T63\",\"T47\",\"T68\",\"T60\",\"T71\",\"T54\",\"T55\",\"T43\",\"T59\",\"T58\",\"T70\",\"T57\",\"T53\",\"T69\",\"T44\",\"T42\",\"T52\"],\"xaxis\":\"x3\",\"y\":[0.5020350813865662,0.5388713280359904,0.6092125177383423,0.6456688443819681,0.6811687151590983,0.6972893476486206,0.7127354939778646,0.718728760878245,0.7254331707954407,0.7550636728604635,0.7602814038594564,0.7746277848879496,0.789959708849589,0.790897528330485,0.8121034304300944,0.815746009349823,0.8202505906422933,0.8239986896514893,0.8368460337320963,0.8452289700508118,0.8554359277089437,0.86430823802948,0.8699163397153219,0.8699592351913452,0.8734555641810099,0.8827036221822103,0.88913893699646,0.8949382901191711,0.9019990762074789,0.9178571303685504,0.9226453900337219,0.9304384390513102,0.9469622373580933,0.9587047100067139,0.9623511632283529,0.9842239618301392,0.989242951075236,0.9917696714401245,0.9927230278650919,0.9951629837354025,0.9956566691398621,0.9963845014572144,0.996714194615682],\"yaxis\":\"y3\",\"type\":\"scatter\"},{\"hovertemplate\":\"Method=baseline\\u003cbr\\u003eexp=Pretraining\\u003cbr\\u003eData\\u003cbr\\u003eTask ID=%{x}\\u003cbr\\u003eAUROC=%{y}\\u003cextra\\u003e\\u003c\\u002fextra\\u003e\",\"legendgroup\":\"baseline\",\"line\":{\"color\":\"#FFA15A\",\"dash\":\"solid\"},\"marker\":{\"symbol\":\"circle\"},\"mode\":\"lines\",\"name\":\"baseline\",\"orientation\":\"v\",\"showlegend\":false,\"x\":[\"T36\",\"T62\",\"T31\",\"T32\",\"T34\",\"T30\",\"T41\",\"T48\",\"T35\",\"T61\",\"T40\",\"T38\",\"T46\",\"T65\",\"T64\",\"T50\",\"T37\",\"T33\",\"T67\",\"T51\",\"T66\",\"T45\",\"T39\",\"T49\",\"T56\",\"T29\",\"T63\",\"T47\",\"T68\",\"T60\",\"T71\",\"T54\",\"T55\",\"T43\",\"T59\",\"T58\",\"T70\",\"T57\",\"T53\",\"T69\",\"T44\",\"T42\",\"T52\"],\"xaxis\":\"x4\",\"y\":[0.5020350813865662,0.5388713280359904,0.6092125177383423,0.6456688443819681,0.6811687151590983,0.6972893476486206,0.7127354939778646,0.718728760878245,0.7254331707954407,0.7550636728604635,0.7602814038594564,0.7746277848879496,0.789959708849589,0.790897528330485,0.8121034304300944,0.815746009349823,0.8202505906422933,0.8239986896514893,0.8368460337320963,0.8452289700508118,0.8554359277089437,0.86430823802948,0.8699163397153219,0.8699592351913452,0.8734555641810099,0.8827036221822103,0.88913893699646,0.8949382901191711,0.9019990762074789,0.9178571303685504,0.9226453900337219,0.9304384390513102,0.9469622373580933,0.9587047100067139,0.9623511632283529,0.9842239618301392,0.989242951075236,0.9917696714401245,0.9927230278650919,0.9951629837354025,0.9956566691398621,0.9963845014572144,0.996714194615682],\"yaxis\":\"y4\",\"type\":\"scatter\"},{\"hovertemplate\":\"Method=baseline\\u003cbr\\u003eexp=Augmentation\\u003cbr\\u003ePolicy\\u003cbr\\u003eTask ID=%{x}\\u003cbr\\u003eAUROC=%{y}\\u003cextra\\u003e\\u003c\\u002fextra\\u003e\",\"legendgroup\":\"baseline\",\"line\":{\"color\":\"#FFA15A\",\"dash\":\"solid\"},\"marker\":{\"symbol\":\"circle\"},\"mode\":\"lines\",\"name\":\"baseline\",\"orientation\":\"v\",\"showlegend\":false,\"x\":[\"T36\",\"T62\",\"T31\",\"T32\",\"T34\",\"T30\",\"T41\",\"T48\",\"T35\",\"T61\",\"T40\",\"T38\",\"T46\",\"T65\",\"T64\",\"T50\",\"T37\",\"T33\",\"T67\",\"T51\",\"T66\",\"T45\",\"T39\",\"T49\",\"T56\",\"T29\",\"T63\",\"T47\",\"T68\",\"T60\",\"T71\",\"T54\",\"T55\",\"T43\",\"T59\",\"T58\",\"T70\",\"T57\",\"T53\",\"T69\",\"T44\",\"T42\",\"T52\"],\"xaxis\":\"x\",\"y\":[0.5020350813865662,0.5388713280359904,0.6092125177383423,0.6456688443819681,0.6811687151590983,0.6972893476486206,0.7127354939778646,0.718728760878245,0.7254331707954407,0.7550636728604635,0.7602814038594564,0.7746277848879496,0.789959708849589,0.790897528330485,0.8121034304300944,0.815746009349823,0.8202505906422933,0.8239986896514893,0.8368460337320963,0.8452289700508118,0.8554359277089437,0.86430823802948,0.8699163397153219,0.8699592351913452,0.8734555641810099,0.8827036221822103,0.88913893699646,0.8949382901191711,0.9019990762074789,0.9178571303685504,0.9226453900337219,0.9304384390513102,0.9469622373580933,0.9587047100067139,0.9623511632283529,0.9842239618301392,0.989242951075236,0.9917696714401245,0.9927230278650919,0.9951629837354025,0.9956566691398621,0.9963845014572144,0.996714194615682],\"yaxis\":\"y\",\"type\":\"scatter\"},{\"hovertemplate\":\"Method=baseline\\u003cbr\\u003eexp=Co-Training\\u003cbr\\u003eData\\u003cbr\\u003eTask ID=%{x}\\u003cbr\\u003eAUROC=%{y}\\u003cextra\\u003e\\u003c\\u002fextra\\u003e\",\"legendgroup\":\"baseline\",\"line\":{\"color\":\"#FFA15A\",\"dash\":\"solid\"},\"marker\":{\"symbol\":\"circle\"},\"mode\":\"lines\",\"name\":\"baseline\",\"orientation\":\"v\",\"showlegend\":false,\"x\":[\"T36\",\"T62\",\"T31\",\"T32\",\"T34\",\"T30\",\"T41\",\"T48\",\"T35\",\"T61\",\"T40\",\"T38\",\"T46\",\"T65\",\"T64\",\"T50\",\"T37\",\"T33\",\"T67\",\"T51\",\"T66\",\"T45\",\"T39\",\"T49\",\"T56\",\"T29\",\"T63\",\"T47\",\"T68\",\"T60\",\"T71\",\"T54\",\"T55\",\"T43\",\"T59\",\"T58\",\"T70\",\"T57\",\"T53\",\"T69\",\"T44\",\"T42\",\"T52\"],\"xaxis\":\"x2\",\"y\":[0.5020350813865662,0.5388713280359904,0.6092125177383423,0.6456688443819681,0.6811687151590983,0.6972893476486206,0.7127354939778646,0.718728760878245,0.7254331707954407,0.7550636728604635,0.7602814038594564,0.7746277848879496,0.789959708849589,0.790897528330485,0.8121034304300944,0.815746009349823,0.8202505906422933,0.8239986896514893,0.8368460337320963,0.8452289700508118,0.8554359277089437,0.86430823802948,0.8699163397153219,0.8699592351913452,0.8734555641810099,0.8827036221822103,0.88913893699646,0.8949382901191711,0.9019990762074789,0.9178571303685504,0.9226453900337219,0.9304384390513102,0.9469622373580933,0.9587047100067139,0.9623511632283529,0.9842239618301392,0.989242951075236,0.9917696714401245,0.9927230278650919,0.9951629837354025,0.9956566691398621,0.9963845014572144,0.996714194615682],\"yaxis\":\"y2\",\"type\":\"scatter\"},{\"hovertemplate\":\"Method=bKLD(large,unweighted)\\u003cbr\\u003eexp=Model\\u003cbr\\u003eArchitecture\\u003cbr\\u003eTask ID=%{x}\\u003cbr\\u003eAUROC=%{y}\\u003cextra\\u003e\\u003c\\u002fextra\\u003e\",\"legendgroup\":\"bKLD(large,unweighted)\",\"line\":{\"color\":\"rgb(60, 180, 75)\",\"dash\":\"dashdot\"},\"marker\":{\"symbol\":\"circle\"},\"mode\":\"lines\",\"name\":\"bKLD(large,unweighted)\",\"orientation\":\"v\",\"showlegend\":true,\"x\":[\"T36\",\"T62\",\"T31\",\"T32\",\"T34\",\"T30\",\"T41\",\"T48\",\"T35\",\"T61\",\"T40\",\"T38\",\"T46\",\"T65\",\"T64\",\"T50\",\"T37\",\"T33\",\"T67\",\"T51\",\"T66\",\"T45\",\"T39\",\"T49\",\"T56\",\"T29\",\"T63\",\"T47\",\"T68\",\"T60\",\"T71\",\"T54\",\"T55\",\"T43\",\"T59\",\"T58\",\"T70\",\"T57\",\"T53\",\"T69\",\"T44\",\"T42\",\"T52\"],\"xaxis\":\"x3\",\"y\":[0.6342296004295349,0.6829914450645447,0.6687241395314535,0.6941569050153097,0.6629691123962402,0.7060600519180298,0.7217381993929545,0.7538410822550455,0.7336962024370829,0.835069457689921,0.7415635387102762,0.7811522682507833,0.8117004632949829,0.8091549475987753,0.8156493902206421,0.8191432356834412,0.861378014087677,0.9123349785804749,0.8548091451327006,0.8628644545873007,0.7983635465304056,0.8715201814969381,0.8618073463439941,0.8871292869249979,0.886062761147817,0.8901828130086263,0.9131036798159281,0.9197119474411012,0.9240807493527731,0.7202380994955698,0.9788976311683655,0.901258647441864,0.9554627339045206,0.9642379482587179,0.9828571478525797,0.9906057914098104,0.9967438578605652,0.9961029887199402,0.993111232916514,0.9986926317214967,0.9962720473607382,0.9960527817408243,0.9980157415072123],\"yaxis\":\"y3\",\"type\":\"scatter\"},{\"hovertemplate\":\"Method=bKLD(large,unweighted)\\u003cbr\\u003eexp=Pretraining\\u003cbr\\u003eData\\u003cbr\\u003eTask ID=%{x}\\u003cbr\\u003eAUROC=%{y}\\u003cextra\\u003e\\u003c\\u002fextra\\u003e\",\"legendgroup\":\"bKLD(large,unweighted)\",\"line\":{\"color\":\"rgb(60, 180, 75)\",\"dash\":\"dashdot\"},\"marker\":{\"symbol\":\"circle\"},\"mode\":\"lines\",\"name\":\"bKLD(large,unweighted)\",\"orientation\":\"v\",\"showlegend\":false,\"x\":[\"T36\",\"T62\",\"T31\",\"T32\",\"T34\",\"T30\",\"T41\",\"T48\",\"T35\",\"T61\",\"T40\",\"T38\",\"T46\",\"T65\",\"T64\",\"T50\",\"T37\",\"T33\",\"T67\",\"T51\",\"T66\",\"T45\",\"T39\",\"T49\",\"T56\",\"T29\",\"T63\",\"T47\",\"T68\",\"T60\",\"T71\",\"T54\",\"T55\",\"T43\",\"T59\",\"T58\",\"T70\",\"T57\",\"T53\",\"T69\",\"T44\",\"T42\",\"T52\"],\"xaxis\":\"x4\",\"y\":[0.5975877245267233,0.669624129931132,0.6579877535502116,0.6790037155151367,0.6963246067365011,0.7005121906598409,0.7335859735806783,0.7377165158589681,0.7168464461962382,0.8026620745658875,0.7161388595898946,0.7711021701494852,0.7914714813232422,0.8019527991612753,0.8089655240376791,0.8200522661209106,0.8471042911211649,0.8958956400553385,0.8145409226417542,0.8397110104560852,0.7863427003224691,0.855544368426005,0.8465866446495056,0.8999698956807455,0.8524582386016846,0.8835562864939371,0.8903724352518717,0.8973662853240967,0.8869096835454305,0.8309523661931356,0.9630416035652161,0.8568435708681742,0.9504538575808207,0.9476381540298462,0.9520535667737325,0.9813446601231893,0.9912298917770386,0.9914557536443075,0.9905290603637695,0.9987560113271078,0.9960472583770752,0.9969477653503418,0.9945291678110758],\"yaxis\":\"y4\",\"type\":\"scatter\"},{\"hovertemplate\":\"Method=bKLD(large,unweighted)\\u003cbr\\u003eexp=Augmentation\\u003cbr\\u003ePolicy\\u003cbr\\u003eTask ID=%{x}\\u003cbr\\u003eAUROC=%{y}\\u003cextra\\u003e\\u003c\\u002fextra\\u003e\",\"legendgroup\":\"bKLD(large,unweighted)\",\"line\":{\"color\":\"rgb(60, 180, 75)\",\"dash\":\"dashdot\"},\"marker\":{\"symbol\":\"circle\"},\"mode\":\"lines\",\"name\":\"bKLD(large,unweighted)\",\"orientation\":\"v\",\"showlegend\":false,\"x\":[\"T36\",\"T62\",\"T31\",\"T32\",\"T34\",\"T30\",\"T41\",\"T48\",\"T35\",\"T61\",\"T40\",\"T38\",\"T46\",\"T65\",\"T64\",\"T50\",\"T37\",\"T33\",\"T67\",\"T51\",\"T66\",\"T45\",\"T39\",\"T49\",\"T56\",\"T29\",\"T63\",\"T47\",\"T68\",\"T60\",\"T71\",\"T54\",\"T55\",\"T43\",\"T59\",\"T58\",\"T70\",\"T57\",\"T53\",\"T69\",\"T44\",\"T42\",\"T52\"],\"xaxis\":\"x\",\"y\":[0.6003547310829163,0.7898375988006592,0.6420833071072897,0.6804103851318359,0.6934858957926432,0.6878071427345276,0.728726307551066,0.7451391816139221,0.7419551610946655,0.7588252822558085,0.7199581662813822,0.785531481107076,0.8010445634524027,0.7985878189404806,0.8061724106470743,0.8222996592521667,0.8544421394666036,0.9024544755617777,0.8616984089215597,0.8494142691294352,0.8771579265594482,0.8676908016204834,0.8666381438573202,0.8732722004254659,0.8934382994969686,0.884926974773407,0.9168671568234762,0.9041358232498169,0.9252977172533671,0.9035714070002238,0.9784661531448364,0.9592556357383728,0.954782247543335,0.954396923383077,0.987499992052714,0.9901376366615295,0.9949710567792257,0.9964299003283185,0.9946717421213785,0.9994956254959106,0.9978461662928263,0.9989386002222697,0.9974224368731179],\"yaxis\":\"y\",\"type\":\"scatter\"},{\"hovertemplate\":\"Method=bKLD(large,unweighted)\\u003cbr\\u003eexp=Co-Training\\u003cbr\\u003eData\\u003cbr\\u003eTask ID=%{x}\\u003cbr\\u003eAUROC=%{y}\\u003cextra\\u003e\\u003c\\u002fextra\\u003e\",\"legendgroup\":\"bKLD(large,unweighted)\",\"line\":{\"color\":\"rgb(60, 180, 75)\",\"dash\":\"dashdot\"},\"marker\":{\"symbol\":\"circle\"},\"mode\":\"lines\",\"name\":\"bKLD(large,unweighted)\",\"orientation\":\"v\",\"showlegend\":false,\"x\":[\"T36\",\"T62\",\"T31\",\"T32\",\"T34\",\"T30\",\"T41\",\"T48\",\"T35\",\"T61\",\"T40\",\"T38\",\"T46\",\"T65\",\"T64\",\"T50\",\"T37\",\"T33\",\"T67\",\"T51\",\"T66\",\"T45\",\"T39\",\"T49\",\"T56\",\"T29\",\"T63\",\"T47\",\"T68\",\"T60\",\"T71\",\"T54\",\"T55\",\"T43\",\"T59\",\"T58\",\"T70\",\"T57\",\"T53\",\"T69\",\"T44\",\"T42\",\"T52\"],\"xaxis\":\"x2\",\"y\":[0.6378246744473776,0.7346385916074117,0.6832637588183085,0.6839450399080912,0.6947528918584188,0.7040470838546753,0.7334929704666138,0.7452974716822306,0.7282952467600504,0.825665553410848,0.7475007573763529,0.7808152238527933,0.8027874231338501,0.7954849799474081,0.8110804557800293,0.8341611623764038,0.8597057660420736,0.9086950620015463,0.848166823387146,0.8512041171391805,0.8370772401491801,0.8636006116867065,0.8652655879656473,0.8945485949516296,0.8814194401105245,0.8857765793800354,0.9043723742167155,0.901162584622701,0.9037994146347046,0.8940476377805074,0.9734687805175781,0.9864327112833658,0.9624663591384888,0.950609008471171,0.9697618881861368,0.9913836518923441,0.9947913885116577,0.9974392255147299,0.9933369954427084,0.997929573059082,0.9962577223777771,0.9979475736618042,0.9966824253400167],\"yaxis\":\"y2\",\"type\":\"scatter\"}],                        {\"template\":{\"data\":{\"barpolar\":[{\"marker\":{\"line\":{\"color\":\"#E5ECF6\",\"width\":0.5},\"pattern\":{\"fillmode\":\"overlay\",\"size\":10,\"solidity\":0.2}},\"type\":\"barpolar\"}],\"bar\":[{\"error_x\":{\"color\":\"#2a3f5f\"},\"error_y\":{\"color\":\"#2a3f5f\"},\"marker\":{\"line\":{\"color\":\"#E5ECF6\",\"width\":0.5},\"pattern\":{\"fillmode\":\"overlay\",\"size\":10,\"solidity\":0.2}},\"type\":\"bar\"}],\"carpet\":[{\"aaxis\":{\"endlinecolor\":\"#2a3f5f\",\"gridcolor\":\"white\",\"linecolor\":\"white\",\"minorgridcolor\":\"white\",\"startlinecolor\":\"#2a3f5f\"},\"baxis\":{\"endlinecolor\":\"#2a3f5f\",\"gridcolor\":\"white\",\"linecolor\":\"white\",\"minorgridcolor\":\"white\",\"startlinecolor\":\"#2a3f5f\"},\"type\":\"carpet\"}],\"choropleth\":[{\"colorbar\":{\"outlinewidth\":0,\"ticks\":\"\"},\"type\":\"choropleth\"}],\"contourcarpet\":[{\"colorbar\":{\"outlinewidth\":0,\"ticks\":\"\"},\"type\":\"contourcarpet\"}],\"contour\":[{\"colorbar\":{\"outlinewidth\":0,\"ticks\":\"\"},\"colorscale\":[[0.0,\"#0d0887\"],[0.1111111111111111,\"#46039f\"],[0.2222222222222222,\"#7201a8\"],[0.3333333333333333,\"#9c179e\"],[0.4444444444444444,\"#bd3786\"],[0.5555555555555556,\"#d8576b\"],[0.6666666666666666,\"#ed7953\"],[0.7777777777777778,\"#fb9f3a\"],[0.8888888888888888,\"#fdca26\"],[1.0,\"#f0f921\"]],\"type\":\"contour\"}],\"heatmapgl\":[{\"colorbar\":{\"outlinewidth\":0,\"ticks\":\"\"},\"colorscale\":[[0.0,\"#0d0887\"],[0.1111111111111111,\"#46039f\"],[0.2222222222222222,\"#7201a8\"],[0.3333333333333333,\"#9c179e\"],[0.4444444444444444,\"#bd3786\"],[0.5555555555555556,\"#d8576b\"],[0.6666666666666666,\"#ed7953\"],[0.7777777777777778,\"#fb9f3a\"],[0.8888888888888888,\"#fdca26\"],[1.0,\"#f0f921\"]],\"type\":\"heatmapgl\"}],\"heatmap\":[{\"colorbar\":{\"outlinewidth\":0,\"ticks\":\"\"},\"colorscale\":[[0.0,\"#0d0887\"],[0.1111111111111111,\"#46039f\"],[0.2222222222222222,\"#7201a8\"],[0.3333333333333333,\"#9c179e\"],[0.4444444444444444,\"#bd3786\"],[0.5555555555555556,\"#d8576b\"],[0.6666666666666666,\"#ed7953\"],[0.7777777777777778,\"#fb9f3a\"],[0.8888888888888888,\"#fdca26\"],[1.0,\"#f0f921\"]],\"type\":\"heatmap\"}],\"histogram2dcontour\":[{\"colorbar\":{\"outlinewidth\":0,\"ticks\":\"\"},\"colorscale\":[[0.0,\"#0d0887\"],[0.1111111111111111,\"#46039f\"],[0.2222222222222222,\"#7201a8\"],[0.3333333333333333,\"#9c179e\"],[0.4444444444444444,\"#bd3786\"],[0.5555555555555556,\"#d8576b\"],[0.6666666666666666,\"#ed7953\"],[0.7777777777777778,\"#fb9f3a\"],[0.8888888888888888,\"#fdca26\"],[1.0,\"#f0f921\"]],\"type\":\"histogram2dcontour\"}],\"histogram2d\":[{\"colorbar\":{\"outlinewidth\":0,\"ticks\":\"\"},\"colorscale\":[[0.0,\"#0d0887\"],[0.1111111111111111,\"#46039f\"],[0.2222222222222222,\"#7201a8\"],[0.3333333333333333,\"#9c179e\"],[0.4444444444444444,\"#bd3786\"],[0.5555555555555556,\"#d8576b\"],[0.6666666666666666,\"#ed7953\"],[0.7777777777777778,\"#fb9f3a\"],[0.8888888888888888,\"#fdca26\"],[1.0,\"#f0f921\"]],\"type\":\"histogram2d\"}],\"histogram\":[{\"marker\":{\"pattern\":{\"fillmode\":\"overlay\",\"size\":10,\"solidity\":0.2}},\"type\":\"histogram\"}],\"mesh3d\":[{\"colorbar\":{\"outlinewidth\":0,\"ticks\":\"\"},\"type\":\"mesh3d\"}],\"parcoords\":[{\"line\":{\"colorbar\":{\"outlinewidth\":0,\"ticks\":\"\"}},\"type\":\"parcoords\"}],\"pie\":[{\"automargin\":true,\"type\":\"pie\"}],\"scatter3d\":[{\"line\":{\"colorbar\":{\"outlinewidth\":0,\"ticks\":\"\"}},\"marker\":{\"colorbar\":{\"outlinewidth\":0,\"ticks\":\"\"}},\"type\":\"scatter3d\"}],\"scattercarpet\":[{\"marker\":{\"colorbar\":{\"outlinewidth\":0,\"ticks\":\"\"}},\"type\":\"scattercarpet\"}],\"scattergeo\":[{\"marker\":{\"colorbar\":{\"outlinewidth\":0,\"ticks\":\"\"}},\"type\":\"scattergeo\"}],\"scattergl\":[{\"marker\":{\"colorbar\":{\"outlinewidth\":0,\"ticks\":\"\"}},\"type\":\"scattergl\"}],\"scattermapbox\":[{\"marker\":{\"colorbar\":{\"outlinewidth\":0,\"ticks\":\"\"}},\"type\":\"scattermapbox\"}],\"scatterpolargl\":[{\"marker\":{\"colorbar\":{\"outlinewidth\":0,\"ticks\":\"\"}},\"type\":\"scatterpolargl\"}],\"scatterpolar\":[{\"marker\":{\"colorbar\":{\"outlinewidth\":0,\"ticks\":\"\"}},\"type\":\"scatterpolar\"}],\"scatter\":[{\"fillpattern\":{\"fillmode\":\"overlay\",\"size\":10,\"solidity\":0.2},\"type\":\"scatter\"}],\"scatterternary\":[{\"marker\":{\"colorbar\":{\"outlinewidth\":0,\"ticks\":\"\"}},\"type\":\"scatterternary\"}],\"surface\":[{\"colorbar\":{\"outlinewidth\":0,\"ticks\":\"\"},\"colorscale\":[[0.0,\"#0d0887\"],[0.1111111111111111,\"#46039f\"],[0.2222222222222222,\"#7201a8\"],[0.3333333333333333,\"#9c179e\"],[0.4444444444444444,\"#bd3786\"],[0.5555555555555556,\"#d8576b\"],[0.6666666666666666,\"#ed7953\"],[0.7777777777777778,\"#fb9f3a\"],[0.8888888888888888,\"#fdca26\"],[1.0,\"#f0f921\"]],\"type\":\"surface\"}],\"table\":[{\"cells\":{\"fill\":{\"color\":\"#EBF0F8\"},\"line\":{\"color\":\"white\"}},\"header\":{\"fill\":{\"color\":\"#C8D4E3\"},\"line\":{\"color\":\"white\"}},\"type\":\"table\"}]},\"layout\":{\"annotationdefaults\":{\"arrowcolor\":\"#2a3f5f\",\"arrowhead\":0,\"arrowwidth\":1},\"autotypenumbers\":\"strict\",\"coloraxis\":{\"colorbar\":{\"outlinewidth\":0,\"ticks\":\"\"}},\"colorscale\":{\"diverging\":[[0,\"#8e0152\"],[0.1,\"#c51b7d\"],[0.2,\"#de77ae\"],[0.3,\"#f1b6da\"],[0.4,\"#fde0ef\"],[0.5,\"#f7f7f7\"],[0.6,\"#e6f5d0\"],[0.7,\"#b8e186\"],[0.8,\"#7fbc41\"],[0.9,\"#4d9221\"],[1,\"#276419\"]],\"sequential\":[[0.0,\"#0d0887\"],[0.1111111111111111,\"#46039f\"],[0.2222222222222222,\"#7201a8\"],[0.3333333333333333,\"#9c179e\"],[0.4444444444444444,\"#bd3786\"],[0.5555555555555556,\"#d8576b\"],[0.6666666666666666,\"#ed7953\"],[0.7777777777777778,\"#fb9f3a\"],[0.8888888888888888,\"#fdca26\"],[1.0,\"#f0f921\"]],\"sequentialminus\":[[0.0,\"#0d0887\"],[0.1111111111111111,\"#46039f\"],[0.2222222222222222,\"#7201a8\"],[0.3333333333333333,\"#9c179e\"],[0.4444444444444444,\"#bd3786\"],[0.5555555555555556,\"#d8576b\"],[0.6666666666666666,\"#ed7953\"],[0.7777777777777778,\"#fb9f3a\"],[0.8888888888888888,\"#fdca26\"],[1.0,\"#f0f921\"]]},\"colorway\":[\"#636efa\",\"#EF553B\",\"#00cc96\",\"#ab63fa\",\"#FFA15A\",\"#19d3f3\",\"#FF6692\",\"#B6E880\",\"#FF97FF\",\"#FECB52\"],\"font\":{\"color\":\"#2a3f5f\"},\"geo\":{\"bgcolor\":\"white\",\"lakecolor\":\"white\",\"landcolor\":\"#E5ECF6\",\"showlakes\":true,\"showland\":true,\"subunitcolor\":\"white\"},\"hoverlabel\":{\"align\":\"left\"},\"hovermode\":\"closest\",\"mapbox\":{\"style\":\"light\"},\"paper_bgcolor\":\"white\",\"plot_bgcolor\":\"#E5ECF6\",\"polar\":{\"angularaxis\":{\"gridcolor\":\"white\",\"linecolor\":\"white\",\"ticks\":\"\"},\"bgcolor\":\"#E5ECF6\",\"radialaxis\":{\"gridcolor\":\"white\",\"linecolor\":\"white\",\"ticks\":\"\"}},\"scene\":{\"xaxis\":{\"backgroundcolor\":\"#E5ECF6\",\"gridcolor\":\"white\",\"gridwidth\":2,\"linecolor\":\"white\",\"showbackground\":true,\"ticks\":\"\",\"zerolinecolor\":\"white\"},\"yaxis\":{\"backgroundcolor\":\"#E5ECF6\",\"gridcolor\":\"white\",\"gridwidth\":2,\"linecolor\":\"white\",\"showbackground\":true,\"ticks\":\"\",\"zerolinecolor\":\"white\"},\"zaxis\":{\"backgroundcolor\":\"#E5ECF6\",\"gridcolor\":\"white\",\"gridwidth\":2,\"linecolor\":\"white\",\"showbackground\":true,\"ticks\":\"\",\"zerolinecolor\":\"white\"}},\"shapedefaults\":{\"line\":{\"color\":\"#2a3f5f\"}},\"ternary\":{\"aaxis\":{\"gridcolor\":\"white\",\"linecolor\":\"white\",\"ticks\":\"\"},\"baxis\":{\"gridcolor\":\"white\",\"linecolor\":\"white\",\"ticks\":\"\"},\"bgcolor\":\"#E5ECF6\",\"caxis\":{\"gridcolor\":\"white\",\"linecolor\":\"white\",\"ticks\":\"\"}},\"title\":{\"x\":0.05},\"xaxis\":{\"automargin\":true,\"gridcolor\":\"white\",\"linecolor\":\"white\",\"ticks\":\"\",\"title\":{\"standoff\":15},\"zerolinecolor\":\"white\",\"zerolinewidth\":2},\"yaxis\":{\"automargin\":true,\"gridcolor\":\"white\",\"linecolor\":\"white\",\"ticks\":\"\",\"title\":{\"standoff\":15},\"zerolinecolor\":\"white\",\"zerolinewidth\":2}}},\"xaxis\":{\"anchor\":\"y\",\"domain\":[0.0,0.49],\"title\":{\"text\":\"Task ID\"},\"nticks\":172},\"yaxis\":{\"anchor\":\"x\",\"domain\":[0.0,0.425],\"title\":{\"text\":\"AUROC\"}},\"xaxis2\":{\"anchor\":\"y2\",\"domain\":[0.51,1.0],\"matches\":\"x\",\"title\":{\"text\":\"Task ID\"},\"nticks\":172},\"yaxis2\":{\"anchor\":\"x2\",\"domain\":[0.0,0.425],\"matches\":\"y\",\"showticklabels\":false},\"xaxis3\":{\"anchor\":\"y3\",\"domain\":[0.0,0.49],\"matches\":\"x\",\"showticklabels\":false,\"nticks\":172},\"yaxis3\":{\"anchor\":\"x3\",\"domain\":[0.575,1.0],\"matches\":\"y\",\"title\":{\"text\":\"AUROC\"}},\"xaxis4\":{\"anchor\":\"y4\",\"domain\":[0.51,1.0],\"matches\":\"x\",\"showticklabels\":false,\"nticks\":172},\"yaxis4\":{\"anchor\":\"x4\",\"domain\":[0.575,1.0],\"matches\":\"y\",\"showticklabels\":false},\"annotations\":[{\"font\":{},\"showarrow\":false,\"text\":\"Augmentation\\u003cbr\\u003ePolicy\",\"x\":0.245,\"xanchor\":\"center\",\"xref\":\"paper\",\"y\":0.425,\"yanchor\":\"bottom\",\"yref\":\"paper\"},{\"font\":{},\"showarrow\":false,\"text\":\"Co-Training\\u003cbr\\u003eData\",\"x\":0.755,\"xanchor\":\"center\",\"xref\":\"paper\",\"y\":0.425,\"yanchor\":\"bottom\",\"yref\":\"paper\"},{\"font\":{},\"showarrow\":false,\"text\":\"Model\\u003cbr\\u003eArchitecture\",\"x\":0.245,\"xanchor\":\"center\",\"xref\":\"paper\",\"y\":1.0,\"yanchor\":\"bottom\",\"yref\":\"paper\"},{\"font\":{},\"showarrow\":false,\"text\":\"Pretraining\\u003cbr\\u003eData\",\"x\":0.755,\"xanchor\":\"center\",\"xref\":\"paper\",\"y\":1.0,\"yanchor\":\"bottom\",\"yref\":\"paper\"}],\"legend\":{\"title\":{\"text\":\"Method\"},\"tracegroupgap\":0,\"orientation\":\"h\",\"y\":-0.2,\"xanchor\":\"center\",\"x\":0.5},\"margin\":{\"t\":60},\"font\":{\"size\":20},\"width\":2000,\"height\":800},                        {\"responsive\": true}                    ).then(function(){\n",
       "                            \n",
       "var gd = document.getElementById('884334be-9e26-43c3-8d38-45f83fe3efa7');\n",
       "var x = new MutationObserver(function (mutations, observer) {{\n",
       "        var display = window.getComputedStyle(gd).display;\n",
       "        if (!display || display === 'none') {{\n",
       "            console.log([gd, 'removed!']);\n",
       "            Plotly.purge(gd);\n",
       "            observer.disconnect();\n",
       "        }}\n",
       "}});\n",
       "\n",
       "// Listen for the removal of the full notebook cells\n",
       "var notebookContainer = gd.closest('#notebook-container');\n",
       "if (notebookContainer) {{\n",
       "    x.observe(notebookContainer, {childList: true});\n",
       "}}\n",
       "\n",
       "// Listen for the clearing of the current output cell\n",
       "var outputEl = gd.closest('.output');\n",
       "if (outputEl) {{\n",
       "    x.observe(outputEl, {childList: true});\n",
       "}}\n",
       "\n",
       "                        })                };                });            </script>        </div>"
      ]
     },
     "metadata": {},
     "output_type": "display_data"
    }
   ],
   "execution_count": 48
  },
  {
   "metadata": {},
   "cell_type": "markdown",
   "source": "This plot compares the three variants ob bKLD with the same plot setup as the previous one. ",
   "id": "89e46cbfe9378399"
  },
  {
   "metadata": {},
   "cell_type": "markdown",
   "source": [
    "### Step 4: Summarize bKLD performances within figures\n",
    "\n",
    "We compute figure 4 of the paper - summarizing bKLD performances along the computational budget. Previously we averaged the top three suggestions by a task selector, below the best of k suggestions is used. This assumes a user queries multiple source tasks and according to the local computational resources applies knowledge transfer for k of them. After internal validation the \"best\" of these is used for further processing. We also switch from aggregating the three repetitions before meta metric computation to individual computation with afterward aggregation. This better captures the potential risk (by non-deterministic model training) of knowledge transfer."
   ],
   "id": "4220bdc2ca482b22"
  },
  {
   "metadata": {
    "ExecuteTime": {
     "end_time": "2024-10-10T11:09:25.532733Z",
     "start_time": "2024-10-10T11:09:25.518525Z"
    }
   },
   "cell_type": "code",
   "source": [
    "def get_budget_plot(mode: str = 'best', \n",
    "                    max_budget=5,\n",
    "                    distances: Tuple[str, ...] = ('SEMANTIC', 'KLD-PP:NS-W:TS-100-BINS'), \n",
    "                    meta_metric: str = 'rank',\n",
    "                    metric='BA', \n",
    "                    show_standard_error: bool = False, \n",
    "                    bottom_legend: bool = True\n",
    "                    ) -> Tuple[go.Figure, pd.DataFrame]:\n",
    "    \"\"\"\n",
    "    Computes a meta metric along multiple computational budgets and generates a plot out of the results.\n",
    "    \n",
    "    :param mode: the `top_mode` of `get_evaluations` - either \"avg\" for averaging the outcomes of top-k meta metric or \"best\" for the best performing\n",
    "    :param max_budget: up to which max budget the plot is generated\n",
    "    :param distances: which task distances to compare, must be present in `all_distances`\n",
    "    :param meta_metric: which meta metric to inspect, note that weightedtau is not eligible as it is budget independent\n",
    "    :param metric: which base metric to use\n",
    "    :param show_standard_error: computes and displays the deviation along transfer repetition, if false we fall back to the original scheme of aggregating transfer repetitions first before computing the meta metric\n",
    "    :param bottom_legend: if True places the legend at the bottom, otherwise at the right\n",
    "    :return: a plotly figure plus the dataframe computed\n",
    "    \"\"\"\n",
    "    budget_evals = []\n",
    "    for budget in range(1, max_budget + 1):\n",
    "        tmp_df = get_evaluations(all_distances=[all_distances[name] for name in distances],\n",
    "                                 aggregates=[AggregateStrategy.FIRST, AggregateStrategy.SECOND,\n",
    "                                             AggregateStrategy.THIRD] if show_standard_error else [\n",
    "                                     AggregateStrategy.MEAN], metrics=[metric], experiments=EXPERIMENTS,\n",
    "                                 top_meta_metrics=[meta_metric], top_k=budget, top_mode=mode, corr_meta_metrics=[],\n",
    "                                 disable_pbar=True)\n",
    "        tmp_df['budget'] = budget\n",
    "        for grp_name, grp_df in tmp_df.groupby(['distances', 'exp', 'seed']):\n",
    "            budget_evals.append(\n",
    "                {'distances': map_dist2printable[grp_name[0]], 'score': grp_df['score'].mean(), 'seed': grp_name[2],\n",
    "                 'budget': budget, 'exp': grp_name[1]})\n",
    "    if show_standard_error:\n",
    "        intermediate_df = pd.DataFrame(budget_evals)\n",
    "        # compute errors along seeds\n",
    "        budget_evals = []\n",
    "        for grp_name, grp_df in intermediate_df.groupby(['distances', 'exp', 'budget']):\n",
    "            budget_evals.append(\n",
    "                {'distances': grp_name[0], 'score': grp_df['score'].mean(), 'error': grp_df['score'].std(),\n",
    "                 'budget': grp_name[2], 'exp': grp_name[1]})\n",
    "    final_df = pd.DataFrame(budget_evals)\n",
    "    fig = px.line(final_df, x='budget', y='score', color='distances' if len(distances) > 1 else 'exp',\n",
    "                  template='plotly',\n",
    "                  labels={'exp': 'Scenario',\n",
    "                          'score': f'{metric} improvement (multi shot)' if meta_metric == 'delta' else meta_metric,\n",
    "                          'distances': 'Task selector'},\n",
    "                  facet_col='exp' if len(distances) > 1 else None,\n",
    "                  category_orders={'exp': EXPERIMENTS},\n",
    "                  color_discrete_map=color_map if len(distances) > 1 else exp_color_map,\n",
    "                  error_y='error' if show_standard_error else None,\n",
    "                  line_dash='distances' if len(distances) > 1 else None,\n",
    "                  line_dash_map={map_dist2printable['KLD-PP:NS-W:TS-100-BINS']: 'solid',\n",
    "                                 map_dist2printable['KLD-PP:NS-W:SN-1000-BINS']: 'dash',\n",
    "                                 map_dist2printable['KLD-PP:NS-1000-BINS']: 'dashdot',\n",
    "                                 map_dist2printable['SEMANTIC']: 'dot'})\n",
    "    if max_budget <= 5:\n",
    "        fig.update_layout(xaxis=dict(tickvals=list(range(1, max_budget + 1))),\n",
    "                          xaxis2=dict(tickvals=list(range(1, max_budget + 1))),\n",
    "                          xaxis3=dict(tickvals=list(range(1, max_budget + 1))),\n",
    "                          xaxis4=dict(tickvals=list(range(1, max_budget + 1))))\n",
    "    fig.for_each_annotation(lambda a: a.update(text=a.text.split(\"=\")[1]))\n",
    "    if bottom_legend:\n",
    "        fig.update_layout(legend=dict(\n",
    "            orientation=\"h\",\n",
    "            y=-0.2,\n",
    "            xanchor=\"center\",\n",
    "            x=0.5\n",
    "        ))\n",
    "    fig.for_each_xaxis(lambda x: x.update({'title': ''}))\n",
    "    fig.add_annotation(\n",
    "        showarrow=False,\n",
    "        xanchor='center',\n",
    "        xref='paper',\n",
    "        x=0.5,\n",
    "        yref='paper',\n",
    "        y=-0.2,\n",
    "        text='Number of shots'\n",
    "    )\n",
    "    fig.update_layout(font_size=20)\n",
    "    return fig, final_df"
   ],
   "id": "abf3fecbb1150323",
   "outputs": [],
   "execution_count": 55
  },
  {
   "metadata": {
    "ExecuteTime": {
     "end_time": "2024-10-10T11:09:30.572789Z",
     "start_time": "2024-10-10T11:09:26.139043Z"
    }
   },
   "cell_type": "code",
   "source": [
    "# top plot of figure 4\n",
    "fig_gain, _ = get_budget_plot(max_budget=5, meta_metric='gain', distances=tuple(['KLD-PP:NS-W:TS-100-BINS']), metric='BA',\n",
    "                           show_standard_error=True, bottom_legend=False)\n",
    "fig_gain.update_yaxes(title_text='Fraction of improved tasks')"
   ],
   "id": "ec9844834088d004",
   "outputs": [
    {
     "data": {
      "application/vnd.plotly.v1+json": {
       "data": [
        {
         "error_y": {
          "array": [
           0.023255813953488358,
           0.013426750446270326,
           0.023255813953488413,
           0.013426750446270392,
           0.013426750446270326
          ]
         },
         "hovertemplate": "Scenario=Model<br>Architecture<br>budget=%{x}<br>gain=%{y}<extra></extra>",
         "legendgroup": "Model<br>Architecture",
         "line": {
          "color": "rgb(230, 25, 75)",
          "dash": "solid"
         },
         "marker": {
          "symbol": "circle"
         },
         "mode": "lines",
         "name": "Model<br>Architecture",
         "orientation": "v",
         "showlegend": true,
         "x": [
          1,
          2,
          3,
          4,
          5
         ],
         "xaxis": "x",
         "y": [
          0.6744186046511628,
          0.7751937984496124,
          0.813953488372093,
          0.8294573643410853,
          0.8992248062015503
         ],
         "yaxis": "y",
         "type": "scatter"
        },
        {
         "error_y": {
          "array": [
           0.11933956835922988,
           0.1322381558855192,
           0.10657152778967072,
           0.1294828921588377,
           0.1099026889826188
          ]
         },
         "hovertemplate": "Scenario=Pretraining<br>Data<br>budget=%{x}<br>gain=%{y}<extra></extra>",
         "legendgroup": "Pretraining<br>Data",
         "line": {
          "color": "rgb(67, 99, 216)",
          "dash": "solid"
         },
         "marker": {
          "symbol": "circle"
         },
         "mode": "lines",
         "name": "Pretraining<br>Data",
         "orientation": "v",
         "showlegend": true,
         "x": [
          1,
          2,
          3,
          4,
          5
         ],
         "xaxis": "x",
         "y": [
          0.4108527131782946,
          0.6124031007751938,
          0.6744186046511628,
          0.7209302325581396,
          0.751937984496124
         ],
         "yaxis": "y",
         "type": "scatter"
        },
        {
         "error_y": {
          "array": [
           0.023255813953488358,
           0.026853500892540717,
           0.04028025133881111,
           0.04028025133881111,
           0.053707001785081435
          ]
         },
         "hovertemplate": "Scenario=Augmentation<br>Policy<br>budget=%{x}<br>gain=%{y}<extra></extra>",
         "legendgroup": "Augmentation<br>Policy",
         "line": {
          "color": "rgb(245, 130, 49)",
          "dash": "solid"
         },
         "marker": {
          "symbol": "circle"
         },
         "mode": "lines",
         "name": "Augmentation<br>Policy",
         "orientation": "v",
         "showlegend": true,
         "x": [
          1,
          2,
          3,
          4,
          5
         ],
         "xaxis": "x",
         "y": [
          0.5813953488372093,
          0.7054263565891472,
          0.7674418604651162,
          0.7906976744186046,
          0.8294573643410853
         ],
         "yaxis": "y",
         "type": "scatter"
        },
        {
         "error_y": {
          "array": [
           0.08167173451823832,
           0.013426750446270392,
           0.04841083719688683,
           0.04028025133881111,
           0.053707001785081435
          ]
         },
         "hovertemplate": "Scenario=Co-Training<br>Data<br>budget=%{x}<br>gain=%{y}<extra></extra>",
         "legendgroup": "Co-Training<br>Data",
         "line": {
          "color": "rgb(145, 30, 180)",
          "dash": "solid"
         },
         "marker": {
          "symbol": "circle"
         },
         "mode": "lines",
         "name": "Co-Training<br>Data",
         "orientation": "v",
         "showlegend": true,
         "x": [
          1,
          2,
          3,
          4,
          5
         ],
         "xaxis": "x",
         "y": [
          0.5736434108527132,
          0.7364341085271318,
          0.7829457364341086,
          0.813953488372093,
          0.8449612403100776
         ],
         "yaxis": "y",
         "type": "scatter"
        }
       ],
       "layout": {
        "template": {
         "data": {
          "barpolar": [
           {
            "marker": {
             "line": {
              "color": "#E5ECF6",
              "width": 0.5
             },
             "pattern": {
              "fillmode": "overlay",
              "size": 10,
              "solidity": 0.2
             }
            },
            "type": "barpolar"
           }
          ],
          "bar": [
           {
            "error_x": {
             "color": "#2a3f5f"
            },
            "error_y": {
             "color": "#2a3f5f"
            },
            "marker": {
             "line": {
              "color": "#E5ECF6",
              "width": 0.5
             },
             "pattern": {
              "fillmode": "overlay",
              "size": 10,
              "solidity": 0.2
             }
            },
            "type": "bar"
           }
          ],
          "carpet": [
           {
            "aaxis": {
             "endlinecolor": "#2a3f5f",
             "gridcolor": "white",
             "linecolor": "white",
             "minorgridcolor": "white",
             "startlinecolor": "#2a3f5f"
            },
            "baxis": {
             "endlinecolor": "#2a3f5f",
             "gridcolor": "white",
             "linecolor": "white",
             "minorgridcolor": "white",
             "startlinecolor": "#2a3f5f"
            },
            "type": "carpet"
           }
          ],
          "choropleth": [
           {
            "colorbar": {
             "outlinewidth": 0,
             "ticks": ""
            },
            "type": "choropleth"
           }
          ],
          "contourcarpet": [
           {
            "colorbar": {
             "outlinewidth": 0,
             "ticks": ""
            },
            "type": "contourcarpet"
           }
          ],
          "contour": [
           {
            "colorbar": {
             "outlinewidth": 0,
             "ticks": ""
            },
            "colorscale": [
             [
              0.0,
              "#0d0887"
             ],
             [
              0.1111111111111111,
              "#46039f"
             ],
             [
              0.2222222222222222,
              "#7201a8"
             ],
             [
              0.3333333333333333,
              "#9c179e"
             ],
             [
              0.4444444444444444,
              "#bd3786"
             ],
             [
              0.5555555555555556,
              "#d8576b"
             ],
             [
              0.6666666666666666,
              "#ed7953"
             ],
             [
              0.7777777777777778,
              "#fb9f3a"
             ],
             [
              0.8888888888888888,
              "#fdca26"
             ],
             [
              1.0,
              "#f0f921"
             ]
            ],
            "type": "contour"
           }
          ],
          "heatmapgl": [
           {
            "colorbar": {
             "outlinewidth": 0,
             "ticks": ""
            },
            "colorscale": [
             [
              0.0,
              "#0d0887"
             ],
             [
              0.1111111111111111,
              "#46039f"
             ],
             [
              0.2222222222222222,
              "#7201a8"
             ],
             [
              0.3333333333333333,
              "#9c179e"
             ],
             [
              0.4444444444444444,
              "#bd3786"
             ],
             [
              0.5555555555555556,
              "#d8576b"
             ],
             [
              0.6666666666666666,
              "#ed7953"
             ],
             [
              0.7777777777777778,
              "#fb9f3a"
             ],
             [
              0.8888888888888888,
              "#fdca26"
             ],
             [
              1.0,
              "#f0f921"
             ]
            ],
            "type": "heatmapgl"
           }
          ],
          "heatmap": [
           {
            "colorbar": {
             "outlinewidth": 0,
             "ticks": ""
            },
            "colorscale": [
             [
              0.0,
              "#0d0887"
             ],
             [
              0.1111111111111111,
              "#46039f"
             ],
             [
              0.2222222222222222,
              "#7201a8"
             ],
             [
              0.3333333333333333,
              "#9c179e"
             ],
             [
              0.4444444444444444,
              "#bd3786"
             ],
             [
              0.5555555555555556,
              "#d8576b"
             ],
             [
              0.6666666666666666,
              "#ed7953"
             ],
             [
              0.7777777777777778,
              "#fb9f3a"
             ],
             [
              0.8888888888888888,
              "#fdca26"
             ],
             [
              1.0,
              "#f0f921"
             ]
            ],
            "type": "heatmap"
           }
          ],
          "histogram2dcontour": [
           {
            "colorbar": {
             "outlinewidth": 0,
             "ticks": ""
            },
            "colorscale": [
             [
              0.0,
              "#0d0887"
             ],
             [
              0.1111111111111111,
              "#46039f"
             ],
             [
              0.2222222222222222,
              "#7201a8"
             ],
             [
              0.3333333333333333,
              "#9c179e"
             ],
             [
              0.4444444444444444,
              "#bd3786"
             ],
             [
              0.5555555555555556,
              "#d8576b"
             ],
             [
              0.6666666666666666,
              "#ed7953"
             ],
             [
              0.7777777777777778,
              "#fb9f3a"
             ],
             [
              0.8888888888888888,
              "#fdca26"
             ],
             [
              1.0,
              "#f0f921"
             ]
            ],
            "type": "histogram2dcontour"
           }
          ],
          "histogram2d": [
           {
            "colorbar": {
             "outlinewidth": 0,
             "ticks": ""
            },
            "colorscale": [
             [
              0.0,
              "#0d0887"
             ],
             [
              0.1111111111111111,
              "#46039f"
             ],
             [
              0.2222222222222222,
              "#7201a8"
             ],
             [
              0.3333333333333333,
              "#9c179e"
             ],
             [
              0.4444444444444444,
              "#bd3786"
             ],
             [
              0.5555555555555556,
              "#d8576b"
             ],
             [
              0.6666666666666666,
              "#ed7953"
             ],
             [
              0.7777777777777778,
              "#fb9f3a"
             ],
             [
              0.8888888888888888,
              "#fdca26"
             ],
             [
              1.0,
              "#f0f921"
             ]
            ],
            "type": "histogram2d"
           }
          ],
          "histogram": [
           {
            "marker": {
             "pattern": {
              "fillmode": "overlay",
              "size": 10,
              "solidity": 0.2
             }
            },
            "type": "histogram"
           }
          ],
          "mesh3d": [
           {
            "colorbar": {
             "outlinewidth": 0,
             "ticks": ""
            },
            "type": "mesh3d"
           }
          ],
          "parcoords": [
           {
            "line": {
             "colorbar": {
              "outlinewidth": 0,
              "ticks": ""
             }
            },
            "type": "parcoords"
           }
          ],
          "pie": [
           {
            "automargin": true,
            "type": "pie"
           }
          ],
          "scatter3d": [
           {
            "line": {
             "colorbar": {
              "outlinewidth": 0,
              "ticks": ""
             }
            },
            "marker": {
             "colorbar": {
              "outlinewidth": 0,
              "ticks": ""
             }
            },
            "type": "scatter3d"
           }
          ],
          "scattercarpet": [
           {
            "marker": {
             "colorbar": {
              "outlinewidth": 0,
              "ticks": ""
             }
            },
            "type": "scattercarpet"
           }
          ],
          "scattergeo": [
           {
            "marker": {
             "colorbar": {
              "outlinewidth": 0,
              "ticks": ""
             }
            },
            "type": "scattergeo"
           }
          ],
          "scattergl": [
           {
            "marker": {
             "colorbar": {
              "outlinewidth": 0,
              "ticks": ""
             }
            },
            "type": "scattergl"
           }
          ],
          "scattermapbox": [
           {
            "marker": {
             "colorbar": {
              "outlinewidth": 0,
              "ticks": ""
             }
            },
            "type": "scattermapbox"
           }
          ],
          "scatterpolargl": [
           {
            "marker": {
             "colorbar": {
              "outlinewidth": 0,
              "ticks": ""
             }
            },
            "type": "scatterpolargl"
           }
          ],
          "scatterpolar": [
           {
            "marker": {
             "colorbar": {
              "outlinewidth": 0,
              "ticks": ""
             }
            },
            "type": "scatterpolar"
           }
          ],
          "scatter": [
           {
            "fillpattern": {
             "fillmode": "overlay",
             "size": 10,
             "solidity": 0.2
            },
            "type": "scatter"
           }
          ],
          "scatterternary": [
           {
            "marker": {
             "colorbar": {
              "outlinewidth": 0,
              "ticks": ""
             }
            },
            "type": "scatterternary"
           }
          ],
          "surface": [
           {
            "colorbar": {
             "outlinewidth": 0,
             "ticks": ""
            },
            "colorscale": [
             [
              0.0,
              "#0d0887"
             ],
             [
              0.1111111111111111,
              "#46039f"
             ],
             [
              0.2222222222222222,
              "#7201a8"
             ],
             [
              0.3333333333333333,
              "#9c179e"
             ],
             [
              0.4444444444444444,
              "#bd3786"
             ],
             [
              0.5555555555555556,
              "#d8576b"
             ],
             [
              0.6666666666666666,
              "#ed7953"
             ],
             [
              0.7777777777777778,
              "#fb9f3a"
             ],
             [
              0.8888888888888888,
              "#fdca26"
             ],
             [
              1.0,
              "#f0f921"
             ]
            ],
            "type": "surface"
           }
          ],
          "table": [
           {
            "cells": {
             "fill": {
              "color": "#EBF0F8"
             },
             "line": {
              "color": "white"
             }
            },
            "header": {
             "fill": {
              "color": "#C8D4E3"
             },
             "line": {
              "color": "white"
             }
            },
            "type": "table"
           }
          ]
         },
         "layout": {
          "annotationdefaults": {
           "arrowcolor": "#2a3f5f",
           "arrowhead": 0,
           "arrowwidth": 1
          },
          "autotypenumbers": "strict",
          "coloraxis": {
           "colorbar": {
            "outlinewidth": 0,
            "ticks": ""
           }
          },
          "colorscale": {
           "diverging": [
            [
             0,
             "#8e0152"
            ],
            [
             0.1,
             "#c51b7d"
            ],
            [
             0.2,
             "#de77ae"
            ],
            [
             0.3,
             "#f1b6da"
            ],
            [
             0.4,
             "#fde0ef"
            ],
            [
             0.5,
             "#f7f7f7"
            ],
            [
             0.6,
             "#e6f5d0"
            ],
            [
             0.7,
             "#b8e186"
            ],
            [
             0.8,
             "#7fbc41"
            ],
            [
             0.9,
             "#4d9221"
            ],
            [
             1,
             "#276419"
            ]
           ],
           "sequential": [
            [
             0.0,
             "#0d0887"
            ],
            [
             0.1111111111111111,
             "#46039f"
            ],
            [
             0.2222222222222222,
             "#7201a8"
            ],
            [
             0.3333333333333333,
             "#9c179e"
            ],
            [
             0.4444444444444444,
             "#bd3786"
            ],
            [
             0.5555555555555556,
             "#d8576b"
            ],
            [
             0.6666666666666666,
             "#ed7953"
            ],
            [
             0.7777777777777778,
             "#fb9f3a"
            ],
            [
             0.8888888888888888,
             "#fdca26"
            ],
            [
             1.0,
             "#f0f921"
            ]
           ],
           "sequentialminus": [
            [
             0.0,
             "#0d0887"
            ],
            [
             0.1111111111111111,
             "#46039f"
            ],
            [
             0.2222222222222222,
             "#7201a8"
            ],
            [
             0.3333333333333333,
             "#9c179e"
            ],
            [
             0.4444444444444444,
             "#bd3786"
            ],
            [
             0.5555555555555556,
             "#d8576b"
            ],
            [
             0.6666666666666666,
             "#ed7953"
            ],
            [
             0.7777777777777778,
             "#fb9f3a"
            ],
            [
             0.8888888888888888,
             "#fdca26"
            ],
            [
             1.0,
             "#f0f921"
            ]
           ]
          },
          "colorway": [
           "#636efa",
           "#EF553B",
           "#00cc96",
           "#ab63fa",
           "#FFA15A",
           "#19d3f3",
           "#FF6692",
           "#B6E880",
           "#FF97FF",
           "#FECB52"
          ],
          "font": {
           "color": "#2a3f5f"
          },
          "geo": {
           "bgcolor": "white",
           "lakecolor": "white",
           "landcolor": "#E5ECF6",
           "showlakes": true,
           "showland": true,
           "subunitcolor": "white"
          },
          "hoverlabel": {
           "align": "left"
          },
          "hovermode": "closest",
          "mapbox": {
           "style": "light"
          },
          "paper_bgcolor": "white",
          "plot_bgcolor": "#E5ECF6",
          "polar": {
           "angularaxis": {
            "gridcolor": "white",
            "linecolor": "white",
            "ticks": ""
           },
           "bgcolor": "#E5ECF6",
           "radialaxis": {
            "gridcolor": "white",
            "linecolor": "white",
            "ticks": ""
           }
          },
          "scene": {
           "xaxis": {
            "backgroundcolor": "#E5ECF6",
            "gridcolor": "white",
            "gridwidth": 2,
            "linecolor": "white",
            "showbackground": true,
            "ticks": "",
            "zerolinecolor": "white"
           },
           "yaxis": {
            "backgroundcolor": "#E5ECF6",
            "gridcolor": "white",
            "gridwidth": 2,
            "linecolor": "white",
            "showbackground": true,
            "ticks": "",
            "zerolinecolor": "white"
           },
           "zaxis": {
            "backgroundcolor": "#E5ECF6",
            "gridcolor": "white",
            "gridwidth": 2,
            "linecolor": "white",
            "showbackground": true,
            "ticks": "",
            "zerolinecolor": "white"
           }
          },
          "shapedefaults": {
           "line": {
            "color": "#2a3f5f"
           }
          },
          "ternary": {
           "aaxis": {
            "gridcolor": "white",
            "linecolor": "white",
            "ticks": ""
           },
           "baxis": {
            "gridcolor": "white",
            "linecolor": "white",
            "ticks": ""
           },
           "bgcolor": "#E5ECF6",
           "caxis": {
            "gridcolor": "white",
            "linecolor": "white",
            "ticks": ""
           }
          },
          "title": {
           "x": 0.05
          },
          "xaxis": {
           "automargin": true,
           "gridcolor": "white",
           "linecolor": "white",
           "ticks": "",
           "title": {
            "standoff": 15
           },
           "zerolinecolor": "white",
           "zerolinewidth": 2
          },
          "yaxis": {
           "automargin": true,
           "gridcolor": "white",
           "linecolor": "white",
           "ticks": "",
           "title": {
            "standoff": 15
           },
           "zerolinecolor": "white",
           "zerolinewidth": 2
          }
         }
        },
        "xaxis": {
         "anchor": "y",
         "domain": [
          0.0,
          1.0
         ],
         "title": {
          "text": ""
         },
         "tickvals": [
          1,
          2,
          3,
          4,
          5
         ]
        },
        "yaxis": {
         "anchor": "x",
         "domain": [
          0.0,
          1.0
         ],
         "title": {
          "text": "Fraction of improved tasks"
         }
        },
        "legend": {
         "title": {
          "text": "Scenario"
         },
         "tracegroupgap": 0
        },
        "margin": {
         "t": 60
        },
        "xaxis2": {
         "tickvals": [
          1,
          2,
          3,
          4,
          5
         ],
         "title": {
          "text": ""
         }
        },
        "xaxis3": {
         "tickvals": [
          1,
          2,
          3,
          4,
          5
         ],
         "title": {
          "text": ""
         }
        },
        "xaxis4": {
         "tickvals": [
          1,
          2,
          3,
          4,
          5
         ],
         "title": {
          "text": ""
         }
        },
        "annotations": [
         {
          "showarrow": false,
          "text": "Number of shots",
          "x": 0.5,
          "xanchor": "center",
          "xref": "paper",
          "y": -0.2,
          "yref": "paper"
         }
        ],
        "font": {
         "size": 20
        }
       },
       "config": {
        "plotlyServerURL": "https://plot.ly"
       }
      },
      "text/html": [
       "<div>                            <div id=\"259a7c4a-cb55-4ea1-99a4-149b6cff67c7\" class=\"plotly-graph-div\" style=\"height:525px; width:100%;\"></div>            <script type=\"text/javascript\">                require([\"plotly\"], function(Plotly) {                    window.PLOTLYENV=window.PLOTLYENV || {};                                    if (document.getElementById(\"259a7c4a-cb55-4ea1-99a4-149b6cff67c7\")) {                    Plotly.newPlot(                        \"259a7c4a-cb55-4ea1-99a4-149b6cff67c7\",                        [{\"error_y\":{\"array\":[0.023255813953488358,0.013426750446270326,0.023255813953488413,0.013426750446270392,0.013426750446270326]},\"hovertemplate\":\"Scenario=Model\\u003cbr\\u003eArchitecture\\u003cbr\\u003ebudget=%{x}\\u003cbr\\u003egain=%{y}\\u003cextra\\u003e\\u003c\\u002fextra\\u003e\",\"legendgroup\":\"Model\\u003cbr\\u003eArchitecture\",\"line\":{\"color\":\"rgb(230, 25, 75)\",\"dash\":\"solid\"},\"marker\":{\"symbol\":\"circle\"},\"mode\":\"lines\",\"name\":\"Model\\u003cbr\\u003eArchitecture\",\"orientation\":\"v\",\"showlegend\":true,\"x\":[1,2,3,4,5],\"xaxis\":\"x\",\"y\":[0.6744186046511628,0.7751937984496124,0.813953488372093,0.8294573643410853,0.8992248062015503],\"yaxis\":\"y\",\"type\":\"scatter\"},{\"error_y\":{\"array\":[0.11933956835922988,0.1322381558855192,0.10657152778967072,0.1294828921588377,0.1099026889826188]},\"hovertemplate\":\"Scenario=Pretraining\\u003cbr\\u003eData\\u003cbr\\u003ebudget=%{x}\\u003cbr\\u003egain=%{y}\\u003cextra\\u003e\\u003c\\u002fextra\\u003e\",\"legendgroup\":\"Pretraining\\u003cbr\\u003eData\",\"line\":{\"color\":\"rgb(67, 99, 216)\",\"dash\":\"solid\"},\"marker\":{\"symbol\":\"circle\"},\"mode\":\"lines\",\"name\":\"Pretraining\\u003cbr\\u003eData\",\"orientation\":\"v\",\"showlegend\":true,\"x\":[1,2,3,4,5],\"xaxis\":\"x\",\"y\":[0.4108527131782946,0.6124031007751938,0.6744186046511628,0.7209302325581396,0.751937984496124],\"yaxis\":\"y\",\"type\":\"scatter\"},{\"error_y\":{\"array\":[0.023255813953488358,0.026853500892540717,0.04028025133881111,0.04028025133881111,0.053707001785081435]},\"hovertemplate\":\"Scenario=Augmentation\\u003cbr\\u003ePolicy\\u003cbr\\u003ebudget=%{x}\\u003cbr\\u003egain=%{y}\\u003cextra\\u003e\\u003c\\u002fextra\\u003e\",\"legendgroup\":\"Augmentation\\u003cbr\\u003ePolicy\",\"line\":{\"color\":\"rgb(245, 130, 49)\",\"dash\":\"solid\"},\"marker\":{\"symbol\":\"circle\"},\"mode\":\"lines\",\"name\":\"Augmentation\\u003cbr\\u003ePolicy\",\"orientation\":\"v\",\"showlegend\":true,\"x\":[1,2,3,4,5],\"xaxis\":\"x\",\"y\":[0.5813953488372093,0.7054263565891472,0.7674418604651162,0.7906976744186046,0.8294573643410853],\"yaxis\":\"y\",\"type\":\"scatter\"},{\"error_y\":{\"array\":[0.08167173451823832,0.013426750446270392,0.04841083719688683,0.04028025133881111,0.053707001785081435]},\"hovertemplate\":\"Scenario=Co-Training\\u003cbr\\u003eData\\u003cbr\\u003ebudget=%{x}\\u003cbr\\u003egain=%{y}\\u003cextra\\u003e\\u003c\\u002fextra\\u003e\",\"legendgroup\":\"Co-Training\\u003cbr\\u003eData\",\"line\":{\"color\":\"rgb(145, 30, 180)\",\"dash\":\"solid\"},\"marker\":{\"symbol\":\"circle\"},\"mode\":\"lines\",\"name\":\"Co-Training\\u003cbr\\u003eData\",\"orientation\":\"v\",\"showlegend\":true,\"x\":[1,2,3,4,5],\"xaxis\":\"x\",\"y\":[0.5736434108527132,0.7364341085271318,0.7829457364341086,0.813953488372093,0.8449612403100776],\"yaxis\":\"y\",\"type\":\"scatter\"}],                        {\"template\":{\"data\":{\"barpolar\":[{\"marker\":{\"line\":{\"color\":\"#E5ECF6\",\"width\":0.5},\"pattern\":{\"fillmode\":\"overlay\",\"size\":10,\"solidity\":0.2}},\"type\":\"barpolar\"}],\"bar\":[{\"error_x\":{\"color\":\"#2a3f5f\"},\"error_y\":{\"color\":\"#2a3f5f\"},\"marker\":{\"line\":{\"color\":\"#E5ECF6\",\"width\":0.5},\"pattern\":{\"fillmode\":\"overlay\",\"size\":10,\"solidity\":0.2}},\"type\":\"bar\"}],\"carpet\":[{\"aaxis\":{\"endlinecolor\":\"#2a3f5f\",\"gridcolor\":\"white\",\"linecolor\":\"white\",\"minorgridcolor\":\"white\",\"startlinecolor\":\"#2a3f5f\"},\"baxis\":{\"endlinecolor\":\"#2a3f5f\",\"gridcolor\":\"white\",\"linecolor\":\"white\",\"minorgridcolor\":\"white\",\"startlinecolor\":\"#2a3f5f\"},\"type\":\"carpet\"}],\"choropleth\":[{\"colorbar\":{\"outlinewidth\":0,\"ticks\":\"\"},\"type\":\"choropleth\"}],\"contourcarpet\":[{\"colorbar\":{\"outlinewidth\":0,\"ticks\":\"\"},\"type\":\"contourcarpet\"}],\"contour\":[{\"colorbar\":{\"outlinewidth\":0,\"ticks\":\"\"},\"colorscale\":[[0.0,\"#0d0887\"],[0.1111111111111111,\"#46039f\"],[0.2222222222222222,\"#7201a8\"],[0.3333333333333333,\"#9c179e\"],[0.4444444444444444,\"#bd3786\"],[0.5555555555555556,\"#d8576b\"],[0.6666666666666666,\"#ed7953\"],[0.7777777777777778,\"#fb9f3a\"],[0.8888888888888888,\"#fdca26\"],[1.0,\"#f0f921\"]],\"type\":\"contour\"}],\"heatmapgl\":[{\"colorbar\":{\"outlinewidth\":0,\"ticks\":\"\"},\"colorscale\":[[0.0,\"#0d0887\"],[0.1111111111111111,\"#46039f\"],[0.2222222222222222,\"#7201a8\"],[0.3333333333333333,\"#9c179e\"],[0.4444444444444444,\"#bd3786\"],[0.5555555555555556,\"#d8576b\"],[0.6666666666666666,\"#ed7953\"],[0.7777777777777778,\"#fb9f3a\"],[0.8888888888888888,\"#fdca26\"],[1.0,\"#f0f921\"]],\"type\":\"heatmapgl\"}],\"heatmap\":[{\"colorbar\":{\"outlinewidth\":0,\"ticks\":\"\"},\"colorscale\":[[0.0,\"#0d0887\"],[0.1111111111111111,\"#46039f\"],[0.2222222222222222,\"#7201a8\"],[0.3333333333333333,\"#9c179e\"],[0.4444444444444444,\"#bd3786\"],[0.5555555555555556,\"#d8576b\"],[0.6666666666666666,\"#ed7953\"],[0.7777777777777778,\"#fb9f3a\"],[0.8888888888888888,\"#fdca26\"],[1.0,\"#f0f921\"]],\"type\":\"heatmap\"}],\"histogram2dcontour\":[{\"colorbar\":{\"outlinewidth\":0,\"ticks\":\"\"},\"colorscale\":[[0.0,\"#0d0887\"],[0.1111111111111111,\"#46039f\"],[0.2222222222222222,\"#7201a8\"],[0.3333333333333333,\"#9c179e\"],[0.4444444444444444,\"#bd3786\"],[0.5555555555555556,\"#d8576b\"],[0.6666666666666666,\"#ed7953\"],[0.7777777777777778,\"#fb9f3a\"],[0.8888888888888888,\"#fdca26\"],[1.0,\"#f0f921\"]],\"type\":\"histogram2dcontour\"}],\"histogram2d\":[{\"colorbar\":{\"outlinewidth\":0,\"ticks\":\"\"},\"colorscale\":[[0.0,\"#0d0887\"],[0.1111111111111111,\"#46039f\"],[0.2222222222222222,\"#7201a8\"],[0.3333333333333333,\"#9c179e\"],[0.4444444444444444,\"#bd3786\"],[0.5555555555555556,\"#d8576b\"],[0.6666666666666666,\"#ed7953\"],[0.7777777777777778,\"#fb9f3a\"],[0.8888888888888888,\"#fdca26\"],[1.0,\"#f0f921\"]],\"type\":\"histogram2d\"}],\"histogram\":[{\"marker\":{\"pattern\":{\"fillmode\":\"overlay\",\"size\":10,\"solidity\":0.2}},\"type\":\"histogram\"}],\"mesh3d\":[{\"colorbar\":{\"outlinewidth\":0,\"ticks\":\"\"},\"type\":\"mesh3d\"}],\"parcoords\":[{\"line\":{\"colorbar\":{\"outlinewidth\":0,\"ticks\":\"\"}},\"type\":\"parcoords\"}],\"pie\":[{\"automargin\":true,\"type\":\"pie\"}],\"scatter3d\":[{\"line\":{\"colorbar\":{\"outlinewidth\":0,\"ticks\":\"\"}},\"marker\":{\"colorbar\":{\"outlinewidth\":0,\"ticks\":\"\"}},\"type\":\"scatter3d\"}],\"scattercarpet\":[{\"marker\":{\"colorbar\":{\"outlinewidth\":0,\"ticks\":\"\"}},\"type\":\"scattercarpet\"}],\"scattergeo\":[{\"marker\":{\"colorbar\":{\"outlinewidth\":0,\"ticks\":\"\"}},\"type\":\"scattergeo\"}],\"scattergl\":[{\"marker\":{\"colorbar\":{\"outlinewidth\":0,\"ticks\":\"\"}},\"type\":\"scattergl\"}],\"scattermapbox\":[{\"marker\":{\"colorbar\":{\"outlinewidth\":0,\"ticks\":\"\"}},\"type\":\"scattermapbox\"}],\"scatterpolargl\":[{\"marker\":{\"colorbar\":{\"outlinewidth\":0,\"ticks\":\"\"}},\"type\":\"scatterpolargl\"}],\"scatterpolar\":[{\"marker\":{\"colorbar\":{\"outlinewidth\":0,\"ticks\":\"\"}},\"type\":\"scatterpolar\"}],\"scatter\":[{\"fillpattern\":{\"fillmode\":\"overlay\",\"size\":10,\"solidity\":0.2},\"type\":\"scatter\"}],\"scatterternary\":[{\"marker\":{\"colorbar\":{\"outlinewidth\":0,\"ticks\":\"\"}},\"type\":\"scatterternary\"}],\"surface\":[{\"colorbar\":{\"outlinewidth\":0,\"ticks\":\"\"},\"colorscale\":[[0.0,\"#0d0887\"],[0.1111111111111111,\"#46039f\"],[0.2222222222222222,\"#7201a8\"],[0.3333333333333333,\"#9c179e\"],[0.4444444444444444,\"#bd3786\"],[0.5555555555555556,\"#d8576b\"],[0.6666666666666666,\"#ed7953\"],[0.7777777777777778,\"#fb9f3a\"],[0.8888888888888888,\"#fdca26\"],[1.0,\"#f0f921\"]],\"type\":\"surface\"}],\"table\":[{\"cells\":{\"fill\":{\"color\":\"#EBF0F8\"},\"line\":{\"color\":\"white\"}},\"header\":{\"fill\":{\"color\":\"#C8D4E3\"},\"line\":{\"color\":\"white\"}},\"type\":\"table\"}]},\"layout\":{\"annotationdefaults\":{\"arrowcolor\":\"#2a3f5f\",\"arrowhead\":0,\"arrowwidth\":1},\"autotypenumbers\":\"strict\",\"coloraxis\":{\"colorbar\":{\"outlinewidth\":0,\"ticks\":\"\"}},\"colorscale\":{\"diverging\":[[0,\"#8e0152\"],[0.1,\"#c51b7d\"],[0.2,\"#de77ae\"],[0.3,\"#f1b6da\"],[0.4,\"#fde0ef\"],[0.5,\"#f7f7f7\"],[0.6,\"#e6f5d0\"],[0.7,\"#b8e186\"],[0.8,\"#7fbc41\"],[0.9,\"#4d9221\"],[1,\"#276419\"]],\"sequential\":[[0.0,\"#0d0887\"],[0.1111111111111111,\"#46039f\"],[0.2222222222222222,\"#7201a8\"],[0.3333333333333333,\"#9c179e\"],[0.4444444444444444,\"#bd3786\"],[0.5555555555555556,\"#d8576b\"],[0.6666666666666666,\"#ed7953\"],[0.7777777777777778,\"#fb9f3a\"],[0.8888888888888888,\"#fdca26\"],[1.0,\"#f0f921\"]],\"sequentialminus\":[[0.0,\"#0d0887\"],[0.1111111111111111,\"#46039f\"],[0.2222222222222222,\"#7201a8\"],[0.3333333333333333,\"#9c179e\"],[0.4444444444444444,\"#bd3786\"],[0.5555555555555556,\"#d8576b\"],[0.6666666666666666,\"#ed7953\"],[0.7777777777777778,\"#fb9f3a\"],[0.8888888888888888,\"#fdca26\"],[1.0,\"#f0f921\"]]},\"colorway\":[\"#636efa\",\"#EF553B\",\"#00cc96\",\"#ab63fa\",\"#FFA15A\",\"#19d3f3\",\"#FF6692\",\"#B6E880\",\"#FF97FF\",\"#FECB52\"],\"font\":{\"color\":\"#2a3f5f\"},\"geo\":{\"bgcolor\":\"white\",\"lakecolor\":\"white\",\"landcolor\":\"#E5ECF6\",\"showlakes\":true,\"showland\":true,\"subunitcolor\":\"white\"},\"hoverlabel\":{\"align\":\"left\"},\"hovermode\":\"closest\",\"mapbox\":{\"style\":\"light\"},\"paper_bgcolor\":\"white\",\"plot_bgcolor\":\"#E5ECF6\",\"polar\":{\"angularaxis\":{\"gridcolor\":\"white\",\"linecolor\":\"white\",\"ticks\":\"\"},\"bgcolor\":\"#E5ECF6\",\"radialaxis\":{\"gridcolor\":\"white\",\"linecolor\":\"white\",\"ticks\":\"\"}},\"scene\":{\"xaxis\":{\"backgroundcolor\":\"#E5ECF6\",\"gridcolor\":\"white\",\"gridwidth\":2,\"linecolor\":\"white\",\"showbackground\":true,\"ticks\":\"\",\"zerolinecolor\":\"white\"},\"yaxis\":{\"backgroundcolor\":\"#E5ECF6\",\"gridcolor\":\"white\",\"gridwidth\":2,\"linecolor\":\"white\",\"showbackground\":true,\"ticks\":\"\",\"zerolinecolor\":\"white\"},\"zaxis\":{\"backgroundcolor\":\"#E5ECF6\",\"gridcolor\":\"white\",\"gridwidth\":2,\"linecolor\":\"white\",\"showbackground\":true,\"ticks\":\"\",\"zerolinecolor\":\"white\"}},\"shapedefaults\":{\"line\":{\"color\":\"#2a3f5f\"}},\"ternary\":{\"aaxis\":{\"gridcolor\":\"white\",\"linecolor\":\"white\",\"ticks\":\"\"},\"baxis\":{\"gridcolor\":\"white\",\"linecolor\":\"white\",\"ticks\":\"\"},\"bgcolor\":\"#E5ECF6\",\"caxis\":{\"gridcolor\":\"white\",\"linecolor\":\"white\",\"ticks\":\"\"}},\"title\":{\"x\":0.05},\"xaxis\":{\"automargin\":true,\"gridcolor\":\"white\",\"linecolor\":\"white\",\"ticks\":\"\",\"title\":{\"standoff\":15},\"zerolinecolor\":\"white\",\"zerolinewidth\":2},\"yaxis\":{\"automargin\":true,\"gridcolor\":\"white\",\"linecolor\":\"white\",\"ticks\":\"\",\"title\":{\"standoff\":15},\"zerolinecolor\":\"white\",\"zerolinewidth\":2}}},\"xaxis\":{\"anchor\":\"y\",\"domain\":[0.0,1.0],\"title\":{\"text\":\"\"},\"tickvals\":[1,2,3,4,5]},\"yaxis\":{\"anchor\":\"x\",\"domain\":[0.0,1.0],\"title\":{\"text\":\"Fraction of improved tasks\"}},\"legend\":{\"title\":{\"text\":\"Scenario\"},\"tracegroupgap\":0},\"margin\":{\"t\":60},\"xaxis2\":{\"tickvals\":[1,2,3,4,5],\"title\":{\"text\":\"\"}},\"xaxis3\":{\"tickvals\":[1,2,3,4,5],\"title\":{\"text\":\"\"}},\"xaxis4\":{\"tickvals\":[1,2,3,4,5],\"title\":{\"text\":\"\"}},\"annotations\":[{\"showarrow\":false,\"text\":\"Number of shots\",\"x\":0.5,\"xanchor\":\"center\",\"xref\":\"paper\",\"y\":-0.2,\"yref\":\"paper\"}],\"font\":{\"size\":20}},                        {\"responsive\": true}                    ).then(function(){\n",
       "                            \n",
       "var gd = document.getElementById('259a7c4a-cb55-4ea1-99a4-149b6cff67c7');\n",
       "var x = new MutationObserver(function (mutations, observer) {{\n",
       "        var display = window.getComputedStyle(gd).display;\n",
       "        if (!display || display === 'none') {{\n",
       "            console.log([gd, 'removed!']);\n",
       "            Plotly.purge(gd);\n",
       "            observer.disconnect();\n",
       "        }}\n",
       "}});\n",
       "\n",
       "// Listen for the removal of the full notebook cells\n",
       "var notebookContainer = gd.closest('#notebook-container');\n",
       "if (notebookContainer) {{\n",
       "    x.observe(notebookContainer, {childList: true});\n",
       "}}\n",
       "\n",
       "// Listen for the clearing of the current output cell\n",
       "var outputEl = gd.closest('.output');\n",
       "if (outputEl) {{\n",
       "    x.observe(outputEl, {childList: true});\n",
       "}}\n",
       "\n",
       "                        })                };                });            </script>        </div>"
      ]
     },
     "metadata": {},
     "output_type": "display_data"
    }
   ],
   "execution_count": 56
  },
  {
   "metadata": {
    "ExecuteTime": {
     "end_time": "2024-10-10T11:10:13.172679Z",
     "start_time": "2024-10-10T11:10:05.226641Z"
    }
   },
   "cell_type": "code",
   "source": [
    "# bottom plot of figure 4\n",
    "fig_improve, improve_df = get_budget_plot(distances=tuple(['SEMANTIC', 'KLD-PP:NS-W:TS-100-BINS']),\n",
    "                      mode='best', max_budget=5, meta_metric='delta', metric='AUROC', show_standard_error=True, bottom_legend=False)\n",
    "fig_improve.add_hline(y=0., annotation_text='No transfer', annotation_position='bottom right', line_color='grey')"
   ],
   "id": "6642160f471cbe2f",
   "outputs": [
    {
     "data": {
      "application/vnd.plotly.v1+json": {
       "data": [
        {
         "error_y": {
          "array": [
           0.0066829553053693565,
           0.003759415279145721,
           0.0038647327396132396,
           0.0050132091111427446,
           0.005049757624790017
          ]
         },
         "hovertemplate": "Task selector=Manual<br>Scenario=Model<br>Architecture<br>budget=%{x}<br>AUROC improvement (multi shot)=%{y}<extra></extra>",
         "legendgroup": "Manual",
         "line": {
          "color": "rgb(230, 25, 75)",
          "dash": "dot"
         },
         "marker": {
          "symbol": "circle"
         },
         "mode": "lines",
         "name": "Manual",
         "orientation": "v",
         "showlegend": true,
         "x": [
          1,
          2,
          3,
          4,
          5
         ],
         "xaxis": "x",
         "y": [
          -0.0013775375000266146,
          0.01526479758033457,
          0.025834347850592566,
          0.02846509818882906,
          0.029310265252756516
         ],
         "yaxis": "y",
         "type": "scatter"
        },
        {
         "error_y": {
          "array": [
           0.018679095788988763,
           0.012378100354727204,
           0.008165619134434454,
           0.009233311629009741,
           0.009066233378048657
          ]
         },
         "hovertemplate": "Task selector=Manual<br>Scenario=Pretraining<br>Data<br>budget=%{x}<br>AUROC improvement (multi shot)=%{y}<extra></extra>",
         "legendgroup": "Manual",
         "line": {
          "color": "rgb(230, 25, 75)",
          "dash": "dot"
         },
         "marker": {
          "symbol": "circle"
         },
         "mode": "lines",
         "name": "Manual",
         "orientation": "v",
         "showlegend": false,
         "x": [
          1,
          2,
          3,
          4,
          5
         ],
         "xaxis": "x2",
         "y": [
          -0.014742766470872156,
          0.0011620697124983838,
          0.007923506951147267,
          0.010377664436665613,
          0.012420832648757816
         ],
         "yaxis": "y2",
         "type": "scatter"
        },
        {
         "error_y": {
          "array": [
           0.0028011450337163115,
           0.0036150814425209977,
           0.004214254180570322,
           0.004907540294966797,
           0.004453335213393368
          ]
         },
         "hovertemplate": "Task selector=Manual<br>Scenario=Augmentation<br>Policy<br>budget=%{x}<br>AUROC improvement (multi shot)=%{y}<extra></extra>",
         "legendgroup": "Manual",
         "line": {
          "color": "rgb(230, 25, 75)",
          "dash": "dot"
         },
         "marker": {
          "symbol": "circle"
         },
         "mode": "lines",
         "name": "Manual",
         "orientation": "v",
         "showlegend": false,
         "x": [
          1,
          2,
          3,
          4,
          5
         ],
         "xaxis": "x3",
         "y": [
          0.008314917253893475,
          0.014695795007454333,
          0.020261813503827237,
          0.02281749479530393,
          0.024065007997113603
         ],
         "yaxis": "y3",
         "type": "scatter"
        },
        {
         "error_y": {
          "array": [
           0.00453715515067622,
           0.005132180453168503,
           0.0059311880318952005,
           0.005139433149631972,
           0.0052113362067914976
          ]
         },
         "hovertemplate": "Task selector=Manual<br>Scenario=Co-Training<br>Data<br>budget=%{x}<br>AUROC improvement (multi shot)=%{y}<extra></extra>",
         "legendgroup": "Manual",
         "line": {
          "color": "rgb(230, 25, 75)",
          "dash": "dot"
         },
         "marker": {
          "symbol": "circle"
         },
         "mode": "lines",
         "name": "Manual",
         "orientation": "v",
         "showlegend": false,
         "x": [
          1,
          2,
          3,
          4,
          5
         ],
         "xaxis": "x4",
         "y": [
          0.013227938219558352,
          0.020094177519628238,
          0.02310412752535916,
          0.025812176770942153,
          0.02668025373488434
         ],
         "yaxis": "y4",
         "type": "scatter"
        },
        {
         "error_y": {
          "array": [
           0.010240924003061373,
           0.003894892587022916,
           0.003966253078564037,
           0.0053165942336628105,
           0.0036601940581724073
          ]
         },
         "hovertemplate": "Task selector=bKLD(small,target)<br>Scenario=Model<br>Architecture<br>budget=%{x}<br>AUROC improvement (multi shot)=%{y}<extra></extra>",
         "legendgroup": "bKLD(small,target)",
         "line": {
          "color": "rgb(60, 180, 75)",
          "dash": "solid"
         },
         "marker": {
          "symbol": "circle"
         },
         "mode": "lines",
         "name": "bKLD(small,target)",
         "orientation": "v",
         "showlegend": true,
         "x": [
          1,
          2,
          3,
          4,
          5
         ],
         "xaxis": "x",
         "y": [
          0.008034387069155078,
          0.020014076269874278,
          0.02427608236786007,
          0.026002213936443475,
          0.03041379396305528
         ],
         "yaxis": "y",
         "type": "scatter"
        },
        {
         "error_y": {
          "array": [
           0.00904533865325897,
           0.00971324953267848,
           0.009913141888635043,
           0.0077884038056475445,
           0.007180315958038078
          ]
         },
         "hovertemplate": "Task selector=bKLD(small,target)<br>Scenario=Pretraining<br>Data<br>budget=%{x}<br>AUROC improvement (multi shot)=%{y}<extra></extra>",
         "legendgroup": "bKLD(small,target)",
         "line": {
          "color": "rgb(60, 180, 75)",
          "dash": "solid"
         },
         "marker": {
          "symbol": "circle"
         },
         "mode": "lines",
         "name": "bKLD(small,target)",
         "orientation": "v",
         "showlegend": false,
         "x": [
          1,
          2,
          3,
          4,
          5
         ],
         "xaxis": "x2",
         "y": [
          -0.015956564929134165,
          0.0023634632428487113,
          0.010023868823236274,
          0.013832101988237958,
          0.01663266318713048
         ],
         "yaxis": "y2",
         "type": "scatter"
        },
        {
         "error_y": {
          "array": [
           0.008709405829634087,
           0.004511486605927057,
           0.004208271945387959,
           0.003366800673180857,
           0.003122303894317471
          ]
         },
         "hovertemplate": "Task selector=bKLD(small,target)<br>Scenario=Augmentation<br>Policy<br>budget=%{x}<br>AUROC improvement (multi shot)=%{y}<extra></extra>",
         "legendgroup": "bKLD(small,target)",
         "line": {
          "color": "rgb(60, 180, 75)",
          "dash": "solid"
         },
         "marker": {
          "symbol": "circle"
         },
         "mode": "lines",
         "name": "bKLD(small,target)",
         "orientation": "v",
         "showlegend": false,
         "x": [
          1,
          2,
          3,
          4,
          5
         ],
         "xaxis": "x3",
         "y": [
          0.011162606320639916,
          0.02004036191822023,
          0.022458505260851958,
          0.02413361802581669,
          0.026202277157657838
         ],
         "yaxis": "y3",
         "type": "scatter"
        },
        {
         "error_y": {
          "array": [
           0.0010966318628779284,
           0.002261662838156155,
           0.002149574789983951,
           0.003830408056449461,
           0.0033999491529966507
          ]
         },
         "hovertemplate": "Task selector=bKLD(small,target)<br>Scenario=Co-Training<br>Data<br>budget=%{x}<br>AUROC improvement (multi shot)=%{y}<extra></extra>",
         "legendgroup": "bKLD(small,target)",
         "line": {
          "color": "rgb(60, 180, 75)",
          "dash": "solid"
         },
         "marker": {
          "symbol": "circle"
         },
         "mode": "lines",
         "name": "bKLD(small,target)",
         "orientation": "v",
         "showlegend": false,
         "x": [
          1,
          2,
          3,
          4,
          5
         ],
         "xaxis": "x4",
         "y": [
          0.014219945253327827,
          0.0204753510711729,
          0.023389466973238206,
          0.026081480259119074,
          0.027274154415426324
         ],
         "yaxis": "y4",
         "type": "scatter"
        }
       ],
       "layout": {
        "template": {
         "data": {
          "barpolar": [
           {
            "marker": {
             "line": {
              "color": "#E5ECF6",
              "width": 0.5
             },
             "pattern": {
              "fillmode": "overlay",
              "size": 10,
              "solidity": 0.2
             }
            },
            "type": "barpolar"
           }
          ],
          "bar": [
           {
            "error_x": {
             "color": "#2a3f5f"
            },
            "error_y": {
             "color": "#2a3f5f"
            },
            "marker": {
             "line": {
              "color": "#E5ECF6",
              "width": 0.5
             },
             "pattern": {
              "fillmode": "overlay",
              "size": 10,
              "solidity": 0.2
             }
            },
            "type": "bar"
           }
          ],
          "carpet": [
           {
            "aaxis": {
             "endlinecolor": "#2a3f5f",
             "gridcolor": "white",
             "linecolor": "white",
             "minorgridcolor": "white",
             "startlinecolor": "#2a3f5f"
            },
            "baxis": {
             "endlinecolor": "#2a3f5f",
             "gridcolor": "white",
             "linecolor": "white",
             "minorgridcolor": "white",
             "startlinecolor": "#2a3f5f"
            },
            "type": "carpet"
           }
          ],
          "choropleth": [
           {
            "colorbar": {
             "outlinewidth": 0,
             "ticks": ""
            },
            "type": "choropleth"
           }
          ],
          "contourcarpet": [
           {
            "colorbar": {
             "outlinewidth": 0,
             "ticks": ""
            },
            "type": "contourcarpet"
           }
          ],
          "contour": [
           {
            "colorbar": {
             "outlinewidth": 0,
             "ticks": ""
            },
            "colorscale": [
             [
              0.0,
              "#0d0887"
             ],
             [
              0.1111111111111111,
              "#46039f"
             ],
             [
              0.2222222222222222,
              "#7201a8"
             ],
             [
              0.3333333333333333,
              "#9c179e"
             ],
             [
              0.4444444444444444,
              "#bd3786"
             ],
             [
              0.5555555555555556,
              "#d8576b"
             ],
             [
              0.6666666666666666,
              "#ed7953"
             ],
             [
              0.7777777777777778,
              "#fb9f3a"
             ],
             [
              0.8888888888888888,
              "#fdca26"
             ],
             [
              1.0,
              "#f0f921"
             ]
            ],
            "type": "contour"
           }
          ],
          "heatmapgl": [
           {
            "colorbar": {
             "outlinewidth": 0,
             "ticks": ""
            },
            "colorscale": [
             [
              0.0,
              "#0d0887"
             ],
             [
              0.1111111111111111,
              "#46039f"
             ],
             [
              0.2222222222222222,
              "#7201a8"
             ],
             [
              0.3333333333333333,
              "#9c179e"
             ],
             [
              0.4444444444444444,
              "#bd3786"
             ],
             [
              0.5555555555555556,
              "#d8576b"
             ],
             [
              0.6666666666666666,
              "#ed7953"
             ],
             [
              0.7777777777777778,
              "#fb9f3a"
             ],
             [
              0.8888888888888888,
              "#fdca26"
             ],
             [
              1.0,
              "#f0f921"
             ]
            ],
            "type": "heatmapgl"
           }
          ],
          "heatmap": [
           {
            "colorbar": {
             "outlinewidth": 0,
             "ticks": ""
            },
            "colorscale": [
             [
              0.0,
              "#0d0887"
             ],
             [
              0.1111111111111111,
              "#46039f"
             ],
             [
              0.2222222222222222,
              "#7201a8"
             ],
             [
              0.3333333333333333,
              "#9c179e"
             ],
             [
              0.4444444444444444,
              "#bd3786"
             ],
             [
              0.5555555555555556,
              "#d8576b"
             ],
             [
              0.6666666666666666,
              "#ed7953"
             ],
             [
              0.7777777777777778,
              "#fb9f3a"
             ],
             [
              0.8888888888888888,
              "#fdca26"
             ],
             [
              1.0,
              "#f0f921"
             ]
            ],
            "type": "heatmap"
           }
          ],
          "histogram2dcontour": [
           {
            "colorbar": {
             "outlinewidth": 0,
             "ticks": ""
            },
            "colorscale": [
             [
              0.0,
              "#0d0887"
             ],
             [
              0.1111111111111111,
              "#46039f"
             ],
             [
              0.2222222222222222,
              "#7201a8"
             ],
             [
              0.3333333333333333,
              "#9c179e"
             ],
             [
              0.4444444444444444,
              "#bd3786"
             ],
             [
              0.5555555555555556,
              "#d8576b"
             ],
             [
              0.6666666666666666,
              "#ed7953"
             ],
             [
              0.7777777777777778,
              "#fb9f3a"
             ],
             [
              0.8888888888888888,
              "#fdca26"
             ],
             [
              1.0,
              "#f0f921"
             ]
            ],
            "type": "histogram2dcontour"
           }
          ],
          "histogram2d": [
           {
            "colorbar": {
             "outlinewidth": 0,
             "ticks": ""
            },
            "colorscale": [
             [
              0.0,
              "#0d0887"
             ],
             [
              0.1111111111111111,
              "#46039f"
             ],
             [
              0.2222222222222222,
              "#7201a8"
             ],
             [
              0.3333333333333333,
              "#9c179e"
             ],
             [
              0.4444444444444444,
              "#bd3786"
             ],
             [
              0.5555555555555556,
              "#d8576b"
             ],
             [
              0.6666666666666666,
              "#ed7953"
             ],
             [
              0.7777777777777778,
              "#fb9f3a"
             ],
             [
              0.8888888888888888,
              "#fdca26"
             ],
             [
              1.0,
              "#f0f921"
             ]
            ],
            "type": "histogram2d"
           }
          ],
          "histogram": [
           {
            "marker": {
             "pattern": {
              "fillmode": "overlay",
              "size": 10,
              "solidity": 0.2
             }
            },
            "type": "histogram"
           }
          ],
          "mesh3d": [
           {
            "colorbar": {
             "outlinewidth": 0,
             "ticks": ""
            },
            "type": "mesh3d"
           }
          ],
          "parcoords": [
           {
            "line": {
             "colorbar": {
              "outlinewidth": 0,
              "ticks": ""
             }
            },
            "type": "parcoords"
           }
          ],
          "pie": [
           {
            "automargin": true,
            "type": "pie"
           }
          ],
          "scatter3d": [
           {
            "line": {
             "colorbar": {
              "outlinewidth": 0,
              "ticks": ""
             }
            },
            "marker": {
             "colorbar": {
              "outlinewidth": 0,
              "ticks": ""
             }
            },
            "type": "scatter3d"
           }
          ],
          "scattercarpet": [
           {
            "marker": {
             "colorbar": {
              "outlinewidth": 0,
              "ticks": ""
             }
            },
            "type": "scattercarpet"
           }
          ],
          "scattergeo": [
           {
            "marker": {
             "colorbar": {
              "outlinewidth": 0,
              "ticks": ""
             }
            },
            "type": "scattergeo"
           }
          ],
          "scattergl": [
           {
            "marker": {
             "colorbar": {
              "outlinewidth": 0,
              "ticks": ""
             }
            },
            "type": "scattergl"
           }
          ],
          "scattermapbox": [
           {
            "marker": {
             "colorbar": {
              "outlinewidth": 0,
              "ticks": ""
             }
            },
            "type": "scattermapbox"
           }
          ],
          "scatterpolargl": [
           {
            "marker": {
             "colorbar": {
              "outlinewidth": 0,
              "ticks": ""
             }
            },
            "type": "scatterpolargl"
           }
          ],
          "scatterpolar": [
           {
            "marker": {
             "colorbar": {
              "outlinewidth": 0,
              "ticks": ""
             }
            },
            "type": "scatterpolar"
           }
          ],
          "scatter": [
           {
            "fillpattern": {
             "fillmode": "overlay",
             "size": 10,
             "solidity": 0.2
            },
            "type": "scatter"
           }
          ],
          "scatterternary": [
           {
            "marker": {
             "colorbar": {
              "outlinewidth": 0,
              "ticks": ""
             }
            },
            "type": "scatterternary"
           }
          ],
          "surface": [
           {
            "colorbar": {
             "outlinewidth": 0,
             "ticks": ""
            },
            "colorscale": [
             [
              0.0,
              "#0d0887"
             ],
             [
              0.1111111111111111,
              "#46039f"
             ],
             [
              0.2222222222222222,
              "#7201a8"
             ],
             [
              0.3333333333333333,
              "#9c179e"
             ],
             [
              0.4444444444444444,
              "#bd3786"
             ],
             [
              0.5555555555555556,
              "#d8576b"
             ],
             [
              0.6666666666666666,
              "#ed7953"
             ],
             [
              0.7777777777777778,
              "#fb9f3a"
             ],
             [
              0.8888888888888888,
              "#fdca26"
             ],
             [
              1.0,
              "#f0f921"
             ]
            ],
            "type": "surface"
           }
          ],
          "table": [
           {
            "cells": {
             "fill": {
              "color": "#EBF0F8"
             },
             "line": {
              "color": "white"
             }
            },
            "header": {
             "fill": {
              "color": "#C8D4E3"
             },
             "line": {
              "color": "white"
             }
            },
            "type": "table"
           }
          ]
         },
         "layout": {
          "annotationdefaults": {
           "arrowcolor": "#2a3f5f",
           "arrowhead": 0,
           "arrowwidth": 1
          },
          "autotypenumbers": "strict",
          "coloraxis": {
           "colorbar": {
            "outlinewidth": 0,
            "ticks": ""
           }
          },
          "colorscale": {
           "diverging": [
            [
             0,
             "#8e0152"
            ],
            [
             0.1,
             "#c51b7d"
            ],
            [
             0.2,
             "#de77ae"
            ],
            [
             0.3,
             "#f1b6da"
            ],
            [
             0.4,
             "#fde0ef"
            ],
            [
             0.5,
             "#f7f7f7"
            ],
            [
             0.6,
             "#e6f5d0"
            ],
            [
             0.7,
             "#b8e186"
            ],
            [
             0.8,
             "#7fbc41"
            ],
            [
             0.9,
             "#4d9221"
            ],
            [
             1,
             "#276419"
            ]
           ],
           "sequential": [
            [
             0.0,
             "#0d0887"
            ],
            [
             0.1111111111111111,
             "#46039f"
            ],
            [
             0.2222222222222222,
             "#7201a8"
            ],
            [
             0.3333333333333333,
             "#9c179e"
            ],
            [
             0.4444444444444444,
             "#bd3786"
            ],
            [
             0.5555555555555556,
             "#d8576b"
            ],
            [
             0.6666666666666666,
             "#ed7953"
            ],
            [
             0.7777777777777778,
             "#fb9f3a"
            ],
            [
             0.8888888888888888,
             "#fdca26"
            ],
            [
             1.0,
             "#f0f921"
            ]
           ],
           "sequentialminus": [
            [
             0.0,
             "#0d0887"
            ],
            [
             0.1111111111111111,
             "#46039f"
            ],
            [
             0.2222222222222222,
             "#7201a8"
            ],
            [
             0.3333333333333333,
             "#9c179e"
            ],
            [
             0.4444444444444444,
             "#bd3786"
            ],
            [
             0.5555555555555556,
             "#d8576b"
            ],
            [
             0.6666666666666666,
             "#ed7953"
            ],
            [
             0.7777777777777778,
             "#fb9f3a"
            ],
            [
             0.8888888888888888,
             "#fdca26"
            ],
            [
             1.0,
             "#f0f921"
            ]
           ]
          },
          "colorway": [
           "#636efa",
           "#EF553B",
           "#00cc96",
           "#ab63fa",
           "#FFA15A",
           "#19d3f3",
           "#FF6692",
           "#B6E880",
           "#FF97FF",
           "#FECB52"
          ],
          "font": {
           "color": "#2a3f5f"
          },
          "geo": {
           "bgcolor": "white",
           "lakecolor": "white",
           "landcolor": "#E5ECF6",
           "showlakes": true,
           "showland": true,
           "subunitcolor": "white"
          },
          "hoverlabel": {
           "align": "left"
          },
          "hovermode": "closest",
          "mapbox": {
           "style": "light"
          },
          "paper_bgcolor": "white",
          "plot_bgcolor": "#E5ECF6",
          "polar": {
           "angularaxis": {
            "gridcolor": "white",
            "linecolor": "white",
            "ticks": ""
           },
           "bgcolor": "#E5ECF6",
           "radialaxis": {
            "gridcolor": "white",
            "linecolor": "white",
            "ticks": ""
           }
          },
          "scene": {
           "xaxis": {
            "backgroundcolor": "#E5ECF6",
            "gridcolor": "white",
            "gridwidth": 2,
            "linecolor": "white",
            "showbackground": true,
            "ticks": "",
            "zerolinecolor": "white"
           },
           "yaxis": {
            "backgroundcolor": "#E5ECF6",
            "gridcolor": "white",
            "gridwidth": 2,
            "linecolor": "white",
            "showbackground": true,
            "ticks": "",
            "zerolinecolor": "white"
           },
           "zaxis": {
            "backgroundcolor": "#E5ECF6",
            "gridcolor": "white",
            "gridwidth": 2,
            "linecolor": "white",
            "showbackground": true,
            "ticks": "",
            "zerolinecolor": "white"
           }
          },
          "shapedefaults": {
           "line": {
            "color": "#2a3f5f"
           }
          },
          "ternary": {
           "aaxis": {
            "gridcolor": "white",
            "linecolor": "white",
            "ticks": ""
           },
           "baxis": {
            "gridcolor": "white",
            "linecolor": "white",
            "ticks": ""
           },
           "bgcolor": "#E5ECF6",
           "caxis": {
            "gridcolor": "white",
            "linecolor": "white",
            "ticks": ""
           }
          },
          "title": {
           "x": 0.05
          },
          "xaxis": {
           "automargin": true,
           "gridcolor": "white",
           "linecolor": "white",
           "ticks": "",
           "title": {
            "standoff": 15
           },
           "zerolinecolor": "white",
           "zerolinewidth": 2
          },
          "yaxis": {
           "automargin": true,
           "gridcolor": "white",
           "linecolor": "white",
           "ticks": "",
           "title": {
            "standoff": 15
           },
           "zerolinecolor": "white",
           "zerolinewidth": 2
          }
         }
        },
        "xaxis": {
         "anchor": "y",
         "domain": [
          0.0,
          0.235
         ],
         "title": {
          "text": ""
         },
         "tickvals": [
          1,
          2,
          3,
          4,
          5
         ]
        },
        "yaxis": {
         "anchor": "x",
         "domain": [
          0.0,
          1.0
         ],
         "title": {
          "text": "AUROC improvement (multi shot)"
         }
        },
        "xaxis2": {
         "anchor": "y2",
         "domain": [
          0.255,
          0.49
         ],
         "matches": "x",
         "title": {
          "text": ""
         },
         "tickvals": [
          1,
          2,
          3,
          4,
          5
         ]
        },
        "yaxis2": {
         "anchor": "x2",
         "domain": [
          0.0,
          1.0
         ],
         "matches": "y",
         "showticklabels": false
        },
        "xaxis3": {
         "anchor": "y3",
         "domain": [
          0.51,
          0.745
         ],
         "matches": "x",
         "title": {
          "text": ""
         },
         "tickvals": [
          1,
          2,
          3,
          4,
          5
         ]
        },
        "yaxis3": {
         "anchor": "x3",
         "domain": [
          0.0,
          1.0
         ],
         "matches": "y",
         "showticklabels": false
        },
        "xaxis4": {
         "anchor": "y4",
         "domain": [
          0.7649999999999999,
          0.9999999999999999
         ],
         "matches": "x",
         "title": {
          "text": ""
         },
         "tickvals": [
          1,
          2,
          3,
          4,
          5
         ]
        },
        "yaxis4": {
         "anchor": "x4",
         "domain": [
          0.0,
          1.0
         ],
         "matches": "y",
         "showticklabels": false
        },
        "annotations": [
         {
          "showarrow": false,
          "text": "Model<br>Architecture",
          "x": 0.1175,
          "xanchor": "center",
          "xref": "paper",
          "y": 1.0,
          "yanchor": "bottom",
          "yref": "paper"
         },
         {
          "showarrow": false,
          "text": "Pretraining<br>Data",
          "x": 0.3725,
          "xanchor": "center",
          "xref": "paper",
          "y": 1.0,
          "yanchor": "bottom",
          "yref": "paper"
         },
         {
          "showarrow": false,
          "text": "Augmentation<br>Policy",
          "x": 0.6275,
          "xanchor": "center",
          "xref": "paper",
          "y": 1.0,
          "yanchor": "bottom",
          "yref": "paper"
         },
         {
          "showarrow": false,
          "text": "Co-Training<br>Data",
          "x": 0.8824999999999998,
          "xanchor": "center",
          "xref": "paper",
          "y": 1.0,
          "yanchor": "bottom",
          "yref": "paper"
         },
         {
          "showarrow": false,
          "text": "Number of shots",
          "x": 0.5,
          "xanchor": "center",
          "xref": "paper",
          "y": -0.2,
          "yref": "paper"
         },
         {
          "showarrow": false,
          "text": "No transfer",
          "x": 1,
          "xanchor": "right",
          "xref": "x domain",
          "y": 0.0,
          "yanchor": "top",
          "yref": "y"
         },
         {
          "showarrow": false,
          "text": "No transfer",
          "x": 1,
          "xanchor": "right",
          "xref": "x2 domain",
          "y": 0.0,
          "yanchor": "top",
          "yref": "y2"
         },
         {
          "showarrow": false,
          "text": "No transfer",
          "x": 1,
          "xanchor": "right",
          "xref": "x3 domain",
          "y": 0.0,
          "yanchor": "top",
          "yref": "y3"
         },
         {
          "showarrow": false,
          "text": "No transfer",
          "x": 1,
          "xanchor": "right",
          "xref": "x4 domain",
          "y": 0.0,
          "yanchor": "top",
          "yref": "y4"
         }
        ],
        "legend": {
         "title": {
          "text": "Task selector"
         },
         "tracegroupgap": 0
        },
        "margin": {
         "t": 60
        },
        "font": {
         "size": 20
        },
        "shapes": [
         {
          "line": {
           "color": "grey"
          },
          "type": "line",
          "x0": 0,
          "x1": 1,
          "xref": "x domain",
          "y0": 0.0,
          "y1": 0.0,
          "yref": "y"
         },
         {
          "line": {
           "color": "grey"
          },
          "type": "line",
          "x0": 0,
          "x1": 1,
          "xref": "x2 domain",
          "y0": 0.0,
          "y1": 0.0,
          "yref": "y2"
         },
         {
          "line": {
           "color": "grey"
          },
          "type": "line",
          "x0": 0,
          "x1": 1,
          "xref": "x3 domain",
          "y0": 0.0,
          "y1": 0.0,
          "yref": "y3"
         },
         {
          "line": {
           "color": "grey"
          },
          "type": "line",
          "x0": 0,
          "x1": 1,
          "xref": "x4 domain",
          "y0": 0.0,
          "y1": 0.0,
          "yref": "y4"
         }
        ]
       },
       "config": {
        "plotlyServerURL": "https://plot.ly"
       }
      },
      "text/html": [
       "<div>                            <div id=\"8793e784-11c7-4d7d-a6cf-785e2d9f2fef\" class=\"plotly-graph-div\" style=\"height:525px; width:100%;\"></div>            <script type=\"text/javascript\">                require([\"plotly\"], function(Plotly) {                    window.PLOTLYENV=window.PLOTLYENV || {};                                    if (document.getElementById(\"8793e784-11c7-4d7d-a6cf-785e2d9f2fef\")) {                    Plotly.newPlot(                        \"8793e784-11c7-4d7d-a6cf-785e2d9f2fef\",                        [{\"error_y\":{\"array\":[0.0066829553053693565,0.003759415279145721,0.0038647327396132396,0.0050132091111427446,0.005049757624790017]},\"hovertemplate\":\"Task selector=Manual\\u003cbr\\u003eScenario=Model\\u003cbr\\u003eArchitecture\\u003cbr\\u003ebudget=%{x}\\u003cbr\\u003eAUROC improvement (multi shot)=%{y}\\u003cextra\\u003e\\u003c\\u002fextra\\u003e\",\"legendgroup\":\"Manual\",\"line\":{\"color\":\"rgb(230, 25, 75)\",\"dash\":\"dot\"},\"marker\":{\"symbol\":\"circle\"},\"mode\":\"lines\",\"name\":\"Manual\",\"orientation\":\"v\",\"showlegend\":true,\"x\":[1,2,3,4,5],\"xaxis\":\"x\",\"y\":[-0.0013775375000266146,0.01526479758033457,0.025834347850592566,0.02846509818882906,0.029310265252756516],\"yaxis\":\"y\",\"type\":\"scatter\"},{\"error_y\":{\"array\":[0.018679095788988763,0.012378100354727204,0.008165619134434454,0.009233311629009741,0.009066233378048657]},\"hovertemplate\":\"Task selector=Manual\\u003cbr\\u003eScenario=Pretraining\\u003cbr\\u003eData\\u003cbr\\u003ebudget=%{x}\\u003cbr\\u003eAUROC improvement (multi shot)=%{y}\\u003cextra\\u003e\\u003c\\u002fextra\\u003e\",\"legendgroup\":\"Manual\",\"line\":{\"color\":\"rgb(230, 25, 75)\",\"dash\":\"dot\"},\"marker\":{\"symbol\":\"circle\"},\"mode\":\"lines\",\"name\":\"Manual\",\"orientation\":\"v\",\"showlegend\":false,\"x\":[1,2,3,4,5],\"xaxis\":\"x2\",\"y\":[-0.014742766470872156,0.0011620697124983838,0.007923506951147267,0.010377664436665613,0.012420832648757816],\"yaxis\":\"y2\",\"type\":\"scatter\"},{\"error_y\":{\"array\":[0.0028011450337163115,0.0036150814425209977,0.004214254180570322,0.004907540294966797,0.004453335213393368]},\"hovertemplate\":\"Task selector=Manual\\u003cbr\\u003eScenario=Augmentation\\u003cbr\\u003ePolicy\\u003cbr\\u003ebudget=%{x}\\u003cbr\\u003eAUROC improvement (multi shot)=%{y}\\u003cextra\\u003e\\u003c\\u002fextra\\u003e\",\"legendgroup\":\"Manual\",\"line\":{\"color\":\"rgb(230, 25, 75)\",\"dash\":\"dot\"},\"marker\":{\"symbol\":\"circle\"},\"mode\":\"lines\",\"name\":\"Manual\",\"orientation\":\"v\",\"showlegend\":false,\"x\":[1,2,3,4,5],\"xaxis\":\"x3\",\"y\":[0.008314917253893475,0.014695795007454333,0.020261813503827237,0.02281749479530393,0.024065007997113603],\"yaxis\":\"y3\",\"type\":\"scatter\"},{\"error_y\":{\"array\":[0.00453715515067622,0.005132180453168503,0.0059311880318952005,0.005139433149631972,0.0052113362067914976]},\"hovertemplate\":\"Task selector=Manual\\u003cbr\\u003eScenario=Co-Training\\u003cbr\\u003eData\\u003cbr\\u003ebudget=%{x}\\u003cbr\\u003eAUROC improvement (multi shot)=%{y}\\u003cextra\\u003e\\u003c\\u002fextra\\u003e\",\"legendgroup\":\"Manual\",\"line\":{\"color\":\"rgb(230, 25, 75)\",\"dash\":\"dot\"},\"marker\":{\"symbol\":\"circle\"},\"mode\":\"lines\",\"name\":\"Manual\",\"orientation\":\"v\",\"showlegend\":false,\"x\":[1,2,3,4,5],\"xaxis\":\"x4\",\"y\":[0.013227938219558352,0.020094177519628238,0.02310412752535916,0.025812176770942153,0.02668025373488434],\"yaxis\":\"y4\",\"type\":\"scatter\"},{\"error_y\":{\"array\":[0.010240924003061373,0.003894892587022916,0.003966253078564037,0.0053165942336628105,0.0036601940581724073]},\"hovertemplate\":\"Task selector=bKLD(small,target)\\u003cbr\\u003eScenario=Model\\u003cbr\\u003eArchitecture\\u003cbr\\u003ebudget=%{x}\\u003cbr\\u003eAUROC improvement (multi shot)=%{y}\\u003cextra\\u003e\\u003c\\u002fextra\\u003e\",\"legendgroup\":\"bKLD(small,target)\",\"line\":{\"color\":\"rgb(60, 180, 75)\",\"dash\":\"solid\"},\"marker\":{\"symbol\":\"circle\"},\"mode\":\"lines\",\"name\":\"bKLD(small,target)\",\"orientation\":\"v\",\"showlegend\":true,\"x\":[1,2,3,4,5],\"xaxis\":\"x\",\"y\":[0.008034387069155078,0.020014076269874278,0.02427608236786007,0.026002213936443475,0.03041379396305528],\"yaxis\":\"y\",\"type\":\"scatter\"},{\"error_y\":{\"array\":[0.00904533865325897,0.00971324953267848,0.009913141888635043,0.0077884038056475445,0.007180315958038078]},\"hovertemplate\":\"Task selector=bKLD(small,target)\\u003cbr\\u003eScenario=Pretraining\\u003cbr\\u003eData\\u003cbr\\u003ebudget=%{x}\\u003cbr\\u003eAUROC improvement (multi shot)=%{y}\\u003cextra\\u003e\\u003c\\u002fextra\\u003e\",\"legendgroup\":\"bKLD(small,target)\",\"line\":{\"color\":\"rgb(60, 180, 75)\",\"dash\":\"solid\"},\"marker\":{\"symbol\":\"circle\"},\"mode\":\"lines\",\"name\":\"bKLD(small,target)\",\"orientation\":\"v\",\"showlegend\":false,\"x\":[1,2,3,4,5],\"xaxis\":\"x2\",\"y\":[-0.015956564929134165,0.0023634632428487113,0.010023868823236274,0.013832101988237958,0.01663266318713048],\"yaxis\":\"y2\",\"type\":\"scatter\"},{\"error_y\":{\"array\":[0.008709405829634087,0.004511486605927057,0.004208271945387959,0.003366800673180857,0.003122303894317471]},\"hovertemplate\":\"Task selector=bKLD(small,target)\\u003cbr\\u003eScenario=Augmentation\\u003cbr\\u003ePolicy\\u003cbr\\u003ebudget=%{x}\\u003cbr\\u003eAUROC improvement (multi shot)=%{y}\\u003cextra\\u003e\\u003c\\u002fextra\\u003e\",\"legendgroup\":\"bKLD(small,target)\",\"line\":{\"color\":\"rgb(60, 180, 75)\",\"dash\":\"solid\"},\"marker\":{\"symbol\":\"circle\"},\"mode\":\"lines\",\"name\":\"bKLD(small,target)\",\"orientation\":\"v\",\"showlegend\":false,\"x\":[1,2,3,4,5],\"xaxis\":\"x3\",\"y\":[0.011162606320639916,0.02004036191822023,0.022458505260851958,0.02413361802581669,0.026202277157657838],\"yaxis\":\"y3\",\"type\":\"scatter\"},{\"error_y\":{\"array\":[0.0010966318628779284,0.002261662838156155,0.002149574789983951,0.003830408056449461,0.0033999491529966507]},\"hovertemplate\":\"Task selector=bKLD(small,target)\\u003cbr\\u003eScenario=Co-Training\\u003cbr\\u003eData\\u003cbr\\u003ebudget=%{x}\\u003cbr\\u003eAUROC improvement (multi shot)=%{y}\\u003cextra\\u003e\\u003c\\u002fextra\\u003e\",\"legendgroup\":\"bKLD(small,target)\",\"line\":{\"color\":\"rgb(60, 180, 75)\",\"dash\":\"solid\"},\"marker\":{\"symbol\":\"circle\"},\"mode\":\"lines\",\"name\":\"bKLD(small,target)\",\"orientation\":\"v\",\"showlegend\":false,\"x\":[1,2,3,4,5],\"xaxis\":\"x4\",\"y\":[0.014219945253327827,0.0204753510711729,0.023389466973238206,0.026081480259119074,0.027274154415426324],\"yaxis\":\"y4\",\"type\":\"scatter\"}],                        {\"template\":{\"data\":{\"barpolar\":[{\"marker\":{\"line\":{\"color\":\"#E5ECF6\",\"width\":0.5},\"pattern\":{\"fillmode\":\"overlay\",\"size\":10,\"solidity\":0.2}},\"type\":\"barpolar\"}],\"bar\":[{\"error_x\":{\"color\":\"#2a3f5f\"},\"error_y\":{\"color\":\"#2a3f5f\"},\"marker\":{\"line\":{\"color\":\"#E5ECF6\",\"width\":0.5},\"pattern\":{\"fillmode\":\"overlay\",\"size\":10,\"solidity\":0.2}},\"type\":\"bar\"}],\"carpet\":[{\"aaxis\":{\"endlinecolor\":\"#2a3f5f\",\"gridcolor\":\"white\",\"linecolor\":\"white\",\"minorgridcolor\":\"white\",\"startlinecolor\":\"#2a3f5f\"},\"baxis\":{\"endlinecolor\":\"#2a3f5f\",\"gridcolor\":\"white\",\"linecolor\":\"white\",\"minorgridcolor\":\"white\",\"startlinecolor\":\"#2a3f5f\"},\"type\":\"carpet\"}],\"choropleth\":[{\"colorbar\":{\"outlinewidth\":0,\"ticks\":\"\"},\"type\":\"choropleth\"}],\"contourcarpet\":[{\"colorbar\":{\"outlinewidth\":0,\"ticks\":\"\"},\"type\":\"contourcarpet\"}],\"contour\":[{\"colorbar\":{\"outlinewidth\":0,\"ticks\":\"\"},\"colorscale\":[[0.0,\"#0d0887\"],[0.1111111111111111,\"#46039f\"],[0.2222222222222222,\"#7201a8\"],[0.3333333333333333,\"#9c179e\"],[0.4444444444444444,\"#bd3786\"],[0.5555555555555556,\"#d8576b\"],[0.6666666666666666,\"#ed7953\"],[0.7777777777777778,\"#fb9f3a\"],[0.8888888888888888,\"#fdca26\"],[1.0,\"#f0f921\"]],\"type\":\"contour\"}],\"heatmapgl\":[{\"colorbar\":{\"outlinewidth\":0,\"ticks\":\"\"},\"colorscale\":[[0.0,\"#0d0887\"],[0.1111111111111111,\"#46039f\"],[0.2222222222222222,\"#7201a8\"],[0.3333333333333333,\"#9c179e\"],[0.4444444444444444,\"#bd3786\"],[0.5555555555555556,\"#d8576b\"],[0.6666666666666666,\"#ed7953\"],[0.7777777777777778,\"#fb9f3a\"],[0.8888888888888888,\"#fdca26\"],[1.0,\"#f0f921\"]],\"type\":\"heatmapgl\"}],\"heatmap\":[{\"colorbar\":{\"outlinewidth\":0,\"ticks\":\"\"},\"colorscale\":[[0.0,\"#0d0887\"],[0.1111111111111111,\"#46039f\"],[0.2222222222222222,\"#7201a8\"],[0.3333333333333333,\"#9c179e\"],[0.4444444444444444,\"#bd3786\"],[0.5555555555555556,\"#d8576b\"],[0.6666666666666666,\"#ed7953\"],[0.7777777777777778,\"#fb9f3a\"],[0.8888888888888888,\"#fdca26\"],[1.0,\"#f0f921\"]],\"type\":\"heatmap\"}],\"histogram2dcontour\":[{\"colorbar\":{\"outlinewidth\":0,\"ticks\":\"\"},\"colorscale\":[[0.0,\"#0d0887\"],[0.1111111111111111,\"#46039f\"],[0.2222222222222222,\"#7201a8\"],[0.3333333333333333,\"#9c179e\"],[0.4444444444444444,\"#bd3786\"],[0.5555555555555556,\"#d8576b\"],[0.6666666666666666,\"#ed7953\"],[0.7777777777777778,\"#fb9f3a\"],[0.8888888888888888,\"#fdca26\"],[1.0,\"#f0f921\"]],\"type\":\"histogram2dcontour\"}],\"histogram2d\":[{\"colorbar\":{\"outlinewidth\":0,\"ticks\":\"\"},\"colorscale\":[[0.0,\"#0d0887\"],[0.1111111111111111,\"#46039f\"],[0.2222222222222222,\"#7201a8\"],[0.3333333333333333,\"#9c179e\"],[0.4444444444444444,\"#bd3786\"],[0.5555555555555556,\"#d8576b\"],[0.6666666666666666,\"#ed7953\"],[0.7777777777777778,\"#fb9f3a\"],[0.8888888888888888,\"#fdca26\"],[1.0,\"#f0f921\"]],\"type\":\"histogram2d\"}],\"histogram\":[{\"marker\":{\"pattern\":{\"fillmode\":\"overlay\",\"size\":10,\"solidity\":0.2}},\"type\":\"histogram\"}],\"mesh3d\":[{\"colorbar\":{\"outlinewidth\":0,\"ticks\":\"\"},\"type\":\"mesh3d\"}],\"parcoords\":[{\"line\":{\"colorbar\":{\"outlinewidth\":0,\"ticks\":\"\"}},\"type\":\"parcoords\"}],\"pie\":[{\"automargin\":true,\"type\":\"pie\"}],\"scatter3d\":[{\"line\":{\"colorbar\":{\"outlinewidth\":0,\"ticks\":\"\"}},\"marker\":{\"colorbar\":{\"outlinewidth\":0,\"ticks\":\"\"}},\"type\":\"scatter3d\"}],\"scattercarpet\":[{\"marker\":{\"colorbar\":{\"outlinewidth\":0,\"ticks\":\"\"}},\"type\":\"scattercarpet\"}],\"scattergeo\":[{\"marker\":{\"colorbar\":{\"outlinewidth\":0,\"ticks\":\"\"}},\"type\":\"scattergeo\"}],\"scattergl\":[{\"marker\":{\"colorbar\":{\"outlinewidth\":0,\"ticks\":\"\"}},\"type\":\"scattergl\"}],\"scattermapbox\":[{\"marker\":{\"colorbar\":{\"outlinewidth\":0,\"ticks\":\"\"}},\"type\":\"scattermapbox\"}],\"scatterpolargl\":[{\"marker\":{\"colorbar\":{\"outlinewidth\":0,\"ticks\":\"\"}},\"type\":\"scatterpolargl\"}],\"scatterpolar\":[{\"marker\":{\"colorbar\":{\"outlinewidth\":0,\"ticks\":\"\"}},\"type\":\"scatterpolar\"}],\"scatter\":[{\"fillpattern\":{\"fillmode\":\"overlay\",\"size\":10,\"solidity\":0.2},\"type\":\"scatter\"}],\"scatterternary\":[{\"marker\":{\"colorbar\":{\"outlinewidth\":0,\"ticks\":\"\"}},\"type\":\"scatterternary\"}],\"surface\":[{\"colorbar\":{\"outlinewidth\":0,\"ticks\":\"\"},\"colorscale\":[[0.0,\"#0d0887\"],[0.1111111111111111,\"#46039f\"],[0.2222222222222222,\"#7201a8\"],[0.3333333333333333,\"#9c179e\"],[0.4444444444444444,\"#bd3786\"],[0.5555555555555556,\"#d8576b\"],[0.6666666666666666,\"#ed7953\"],[0.7777777777777778,\"#fb9f3a\"],[0.8888888888888888,\"#fdca26\"],[1.0,\"#f0f921\"]],\"type\":\"surface\"}],\"table\":[{\"cells\":{\"fill\":{\"color\":\"#EBF0F8\"},\"line\":{\"color\":\"white\"}},\"header\":{\"fill\":{\"color\":\"#C8D4E3\"},\"line\":{\"color\":\"white\"}},\"type\":\"table\"}]},\"layout\":{\"annotationdefaults\":{\"arrowcolor\":\"#2a3f5f\",\"arrowhead\":0,\"arrowwidth\":1},\"autotypenumbers\":\"strict\",\"coloraxis\":{\"colorbar\":{\"outlinewidth\":0,\"ticks\":\"\"}},\"colorscale\":{\"diverging\":[[0,\"#8e0152\"],[0.1,\"#c51b7d\"],[0.2,\"#de77ae\"],[0.3,\"#f1b6da\"],[0.4,\"#fde0ef\"],[0.5,\"#f7f7f7\"],[0.6,\"#e6f5d0\"],[0.7,\"#b8e186\"],[0.8,\"#7fbc41\"],[0.9,\"#4d9221\"],[1,\"#276419\"]],\"sequential\":[[0.0,\"#0d0887\"],[0.1111111111111111,\"#46039f\"],[0.2222222222222222,\"#7201a8\"],[0.3333333333333333,\"#9c179e\"],[0.4444444444444444,\"#bd3786\"],[0.5555555555555556,\"#d8576b\"],[0.6666666666666666,\"#ed7953\"],[0.7777777777777778,\"#fb9f3a\"],[0.8888888888888888,\"#fdca26\"],[1.0,\"#f0f921\"]],\"sequentialminus\":[[0.0,\"#0d0887\"],[0.1111111111111111,\"#46039f\"],[0.2222222222222222,\"#7201a8\"],[0.3333333333333333,\"#9c179e\"],[0.4444444444444444,\"#bd3786\"],[0.5555555555555556,\"#d8576b\"],[0.6666666666666666,\"#ed7953\"],[0.7777777777777778,\"#fb9f3a\"],[0.8888888888888888,\"#fdca26\"],[1.0,\"#f0f921\"]]},\"colorway\":[\"#636efa\",\"#EF553B\",\"#00cc96\",\"#ab63fa\",\"#FFA15A\",\"#19d3f3\",\"#FF6692\",\"#B6E880\",\"#FF97FF\",\"#FECB52\"],\"font\":{\"color\":\"#2a3f5f\"},\"geo\":{\"bgcolor\":\"white\",\"lakecolor\":\"white\",\"landcolor\":\"#E5ECF6\",\"showlakes\":true,\"showland\":true,\"subunitcolor\":\"white\"},\"hoverlabel\":{\"align\":\"left\"},\"hovermode\":\"closest\",\"mapbox\":{\"style\":\"light\"},\"paper_bgcolor\":\"white\",\"plot_bgcolor\":\"#E5ECF6\",\"polar\":{\"angularaxis\":{\"gridcolor\":\"white\",\"linecolor\":\"white\",\"ticks\":\"\"},\"bgcolor\":\"#E5ECF6\",\"radialaxis\":{\"gridcolor\":\"white\",\"linecolor\":\"white\",\"ticks\":\"\"}},\"scene\":{\"xaxis\":{\"backgroundcolor\":\"#E5ECF6\",\"gridcolor\":\"white\",\"gridwidth\":2,\"linecolor\":\"white\",\"showbackground\":true,\"ticks\":\"\",\"zerolinecolor\":\"white\"},\"yaxis\":{\"backgroundcolor\":\"#E5ECF6\",\"gridcolor\":\"white\",\"gridwidth\":2,\"linecolor\":\"white\",\"showbackground\":true,\"ticks\":\"\",\"zerolinecolor\":\"white\"},\"zaxis\":{\"backgroundcolor\":\"#E5ECF6\",\"gridcolor\":\"white\",\"gridwidth\":2,\"linecolor\":\"white\",\"showbackground\":true,\"ticks\":\"\",\"zerolinecolor\":\"white\"}},\"shapedefaults\":{\"line\":{\"color\":\"#2a3f5f\"}},\"ternary\":{\"aaxis\":{\"gridcolor\":\"white\",\"linecolor\":\"white\",\"ticks\":\"\"},\"baxis\":{\"gridcolor\":\"white\",\"linecolor\":\"white\",\"ticks\":\"\"},\"bgcolor\":\"#E5ECF6\",\"caxis\":{\"gridcolor\":\"white\",\"linecolor\":\"white\",\"ticks\":\"\"}},\"title\":{\"x\":0.05},\"xaxis\":{\"automargin\":true,\"gridcolor\":\"white\",\"linecolor\":\"white\",\"ticks\":\"\",\"title\":{\"standoff\":15},\"zerolinecolor\":\"white\",\"zerolinewidth\":2},\"yaxis\":{\"automargin\":true,\"gridcolor\":\"white\",\"linecolor\":\"white\",\"ticks\":\"\",\"title\":{\"standoff\":15},\"zerolinecolor\":\"white\",\"zerolinewidth\":2}}},\"xaxis\":{\"anchor\":\"y\",\"domain\":[0.0,0.235],\"title\":{\"text\":\"\"},\"tickvals\":[1,2,3,4,5]},\"yaxis\":{\"anchor\":\"x\",\"domain\":[0.0,1.0],\"title\":{\"text\":\"AUROC improvement (multi shot)\"}},\"xaxis2\":{\"anchor\":\"y2\",\"domain\":[0.255,0.49],\"matches\":\"x\",\"title\":{\"text\":\"\"},\"tickvals\":[1,2,3,4,5]},\"yaxis2\":{\"anchor\":\"x2\",\"domain\":[0.0,1.0],\"matches\":\"y\",\"showticklabels\":false},\"xaxis3\":{\"anchor\":\"y3\",\"domain\":[0.51,0.745],\"matches\":\"x\",\"title\":{\"text\":\"\"},\"tickvals\":[1,2,3,4,5]},\"yaxis3\":{\"anchor\":\"x3\",\"domain\":[0.0,1.0],\"matches\":\"y\",\"showticklabels\":false},\"xaxis4\":{\"anchor\":\"y4\",\"domain\":[0.7649999999999999,0.9999999999999999],\"matches\":\"x\",\"title\":{\"text\":\"\"},\"tickvals\":[1,2,3,4,5]},\"yaxis4\":{\"anchor\":\"x4\",\"domain\":[0.0,1.0],\"matches\":\"y\",\"showticklabels\":false},\"annotations\":[{\"showarrow\":false,\"text\":\"Model\\u003cbr\\u003eArchitecture\",\"x\":0.1175,\"xanchor\":\"center\",\"xref\":\"paper\",\"y\":1.0,\"yanchor\":\"bottom\",\"yref\":\"paper\"},{\"showarrow\":false,\"text\":\"Pretraining\\u003cbr\\u003eData\",\"x\":0.3725,\"xanchor\":\"center\",\"xref\":\"paper\",\"y\":1.0,\"yanchor\":\"bottom\",\"yref\":\"paper\"},{\"showarrow\":false,\"text\":\"Augmentation\\u003cbr\\u003ePolicy\",\"x\":0.6275,\"xanchor\":\"center\",\"xref\":\"paper\",\"y\":1.0,\"yanchor\":\"bottom\",\"yref\":\"paper\"},{\"showarrow\":false,\"text\":\"Co-Training\\u003cbr\\u003eData\",\"x\":0.8824999999999998,\"xanchor\":\"center\",\"xref\":\"paper\",\"y\":1.0,\"yanchor\":\"bottom\",\"yref\":\"paper\"},{\"showarrow\":false,\"text\":\"Number of shots\",\"x\":0.5,\"xanchor\":\"center\",\"xref\":\"paper\",\"y\":-0.2,\"yref\":\"paper\"},{\"showarrow\":false,\"text\":\"No transfer\",\"x\":1,\"xanchor\":\"right\",\"xref\":\"x domain\",\"y\":0.0,\"yanchor\":\"top\",\"yref\":\"y\"},{\"showarrow\":false,\"text\":\"No transfer\",\"x\":1,\"xanchor\":\"right\",\"xref\":\"x2 domain\",\"y\":0.0,\"yanchor\":\"top\",\"yref\":\"y2\"},{\"showarrow\":false,\"text\":\"No transfer\",\"x\":1,\"xanchor\":\"right\",\"xref\":\"x3 domain\",\"y\":0.0,\"yanchor\":\"top\",\"yref\":\"y3\"},{\"showarrow\":false,\"text\":\"No transfer\",\"x\":1,\"xanchor\":\"right\",\"xref\":\"x4 domain\",\"y\":0.0,\"yanchor\":\"top\",\"yref\":\"y4\"}],\"legend\":{\"title\":{\"text\":\"Task selector\"},\"tracegroupgap\":0},\"margin\":{\"t\":60},\"font\":{\"size\":20},\"shapes\":[{\"line\":{\"color\":\"grey\"},\"type\":\"line\",\"x0\":0,\"x1\":1,\"xref\":\"x domain\",\"y0\":0.0,\"y1\":0.0,\"yref\":\"y\"},{\"line\":{\"color\":\"grey\"},\"type\":\"line\",\"x0\":0,\"x1\":1,\"xref\":\"x2 domain\",\"y0\":0.0,\"y1\":0.0,\"yref\":\"y2\"},{\"line\":{\"color\":\"grey\"},\"type\":\"line\",\"x0\":0,\"x1\":1,\"xref\":\"x3 domain\",\"y0\":0.0,\"y1\":0.0,\"yref\":\"y3\"},{\"line\":{\"color\":\"grey\"},\"type\":\"line\",\"x0\":0,\"x1\":1,\"xref\":\"x4 domain\",\"y0\":0.0,\"y1\":0.0,\"yref\":\"y4\"}]},                        {\"responsive\": true}                    ).then(function(){\n",
       "                            \n",
       "var gd = document.getElementById('8793e784-11c7-4d7d-a6cf-785e2d9f2fef');\n",
       "var x = new MutationObserver(function (mutations, observer) {{\n",
       "        var display = window.getComputedStyle(gd).display;\n",
       "        if (!display || display === 'none') {{\n",
       "            console.log([gd, 'removed!']);\n",
       "            Plotly.purge(gd);\n",
       "            observer.disconnect();\n",
       "        }}\n",
       "}});\n",
       "\n",
       "// Listen for the removal of the full notebook cells\n",
       "var notebookContainer = gd.closest('#notebook-container');\n",
       "if (notebookContainer) {{\n",
       "    x.observe(notebookContainer, {childList: true});\n",
       "}}\n",
       "\n",
       "// Listen for the clearing of the current output cell\n",
       "var outputEl = gd.closest('.output');\n",
       "if (outputEl) {{\n",
       "    x.observe(outputEl, {childList: true});\n",
       "}}\n",
       "\n",
       "                        })                };                });            </script>        </div>"
      ]
     },
     "metadata": {},
     "output_type": "display_data"
    }
   ],
   "execution_count": 57
  },
  {
   "metadata": {
    "ExecuteTime": {
     "end_time": "2024-10-10T11:11:08.722904Z",
     "start_time": "2024-10-10T11:11:08.225962Z"
    }
   },
   "cell_type": "code",
   "source": [
    "# merging and saving figure 4\n",
    "joined_fig = make_subplots(rows=2, cols=4, shared_xaxes=False, shared_yaxes=True,\n",
    "                           # column_widths=[0.6, 0.4], row_heights=[0.4, 0.6], \n",
    "                           specs=[[{\"colspan\": 4}, None, None, None], [{}, {}, {}, {}]], subplot_titles=[''] + EXPERIMENTS)\n",
    "for trace in fig_gain.data:\n",
    "    trace.legendgroup = 1\n",
    "    trace.legendgrouptitle.text = 'Scenario'\n",
    "    joined_fig.add_trace(trace, row=1, col=1)\n",
    "for trace in fig_improve.data:\n",
    "    col = {'x': 1, 'x2': 2, 'x3': 3, 'x4': 4}[trace.xaxis]\n",
    "    trace.legendgroup = 2\n",
    "    trace.legendgrouptitle.text = 'Task selector'\n",
    "    joined_fig.add_trace(trace, row=2, col=col)\n",
    "joined_fig.update_layout(template='plotly', font_size=20, width=1200, height=700, legend_tracegroupgap=70)\n",
    "joined_fig.update_layout(xaxis=dict(tickvals=list(range(1, 6))), yaxis_title='Fraction of improved tasks',\n",
    "                         yaxis2_title='AUROC improvement')\n",
    "joined_fig.update_xaxes(title='Number of shots')\n",
    "joined_fig.update_annotations(font_size=20)\n",
    "joined_fig.add_hline(y=0., annotation_text='No transfer', annotation_position='bottom right', line_color='grey', row=2)\n",
    "joined_fig.write_image(FIG_PATH / 'fig_4.png', width=1200, height=700, engine='kaleido')\n",
    "joined_fig.write_image(FIG_PATH / 'fig_4.pdf', width=1200, height=700, engine='kaleido')"
   ],
   "id": "40d31885997365b",
   "outputs": [],
   "execution_count": 58
  },
  {
   "metadata": {},
   "cell_type": "markdown",
   "source": "Lastly we compute the reported numbers of relative higher improvement of bKLD(small,target) over manual task selection for the 4 scenarios. Instead of a single budget, we average the improvement over budgets 1 to 5, which equals a comparison of area under the curve within the 4 plots in the bottom of figure 4.",
   "id": "aa7ab21661940db0"
  },
  {
   "metadata": {
    "ExecuteTime": {
     "end_time": "2024-10-10T11:39:37.606515Z",
     "start_time": "2024-10-10T11:39:37.588740Z"
    }
   },
   "cell_type": "code",
   "source": [
    "rearranged_improvement_df = improve_df.set_index(['distances', 'budget', 'exp'])\n",
    "print('Relative improvement in percent:')\n",
    "for exp in EXPERIMENTS:\n",
    "    man_delta = np.mean([rearranged_improvement_df.loc[('Manual', budget, exp)]['score'] for budget in range(1, 6)])\n",
    "    bkld_delta = np.mean([rearranged_improvement_df.loc[('bKLD(small,target)', budget, exp)]['score'] for budget in range(1, 6)])\n",
    "    print(exp, (bkld_delta - man_delta) * 100 / man_delta)\n",
    "print('\\nAverage improvement in percentage points:')\n",
    "for exp in EXPERIMENTS:\n",
    "    man_delta = np.mean([rearranged_improvement_df.loc[('Manual', budget, exp)]['score'] for budget in range(1, 6)])\n",
    "    bkld_delta = np.mean([rearranged_improvement_df.loc[('bKLD(small,target)', budget, exp)]['score'] for budget in range(1, 6)])\n",
    "    print(exp, (bkld_delta - man_delta) * 100)"
   ],
   "id": "41ce694c8bdc4278",
   "outputs": [
    {
     "name": "stdout",
     "output_type": "stream",
     "text": [
      "Relative improvement in percent:\n",
      "Model<br>Architecture 11.532237438377546\n",
      "Pretraining<br>Data 56.904790724621854\n",
      "Augmentation<br>Policy 15.3539301656938\n",
      "Co-Training<br>Data 2.3152358678444114\n",
      "\n",
      "Average improvement in percentage points:\n",
      "Model<br>Architecture 0.2248716446780416\n",
      "Pretraining<br>Data 0.19508450068244668\n",
      "Augmentation<br>Policy 0.2768468025118813\n",
      "Co-Training<br>Data 0.05043448403824202\n"
     ]
    }
   ],
   "execution_count": 73
  }
 ],
 "metadata": {
  "kernelspec": {
   "display_name": "Python 3",
   "language": "python",
   "name": "python3"
  },
  "language_info": {
   "codemirror_mode": {
    "name": "ipython",
    "version": 2
   },
   "file_extension": ".py",
   "mimetype": "text/x-python",
   "name": "python",
   "nbconvert_exporter": "python",
   "pygments_lexer": "ipython2",
   "version": "2.7.6"
  }
 },
 "nbformat": 4,
 "nbformat_minor": 5
}
