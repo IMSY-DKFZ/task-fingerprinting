{
 "cells": [
  {
   "metadata": {},
   "cell_type": "markdown",
   "source": [
    "## Generating task infos\n",
    "\n",
    "To plot Figure 3 (the task overview) we need to transform task features."
   ],
   "id": "c90774f129a8e4ef"
  },
  {
   "cell_type": "code",
   "id": "initial_id",
   "metadata": {
    "collapsed": true,
    "ExecuteTime": {
     "end_time": "2024-10-15T10:28:39.589908Z",
     "start_time": "2024-10-15T10:28:17.681580Z"
    }
   },
   "source": [
    "import mml.interactive\n",
    "mml.interactive.init()\n",
    "from mml.api import Keyword\n",
    "from mml_tf.tasks import all_tasks, train_tasks, test_tasks, task_infos\n",
    "from mml_tf.distances import transformed_task_infos\n",
    "from mml_tf.paths import FIG_PATH\n",
    "import pandas as pd"
   ],
   "outputs": [
    {
     "name": "stderr",
     "output_type": "stream",
     "text": [
      "/home/scholzpa/Documents/development/gitlab/mml/src/mml/interactive/__init__.py:49: UserWarning: Did not provide a \"env_path\", neither found set \"MML_ENV_PATH\" variable, you might need to provide \"env_path\" to \"init\" in order to use \"mml\" interactively in a jupyter/ipython setting.\n",
      "  warnings.warn(\n",
      "/home/scholzpa/miniconda3/envs/mml/lib/python3.8/site-packages/kornia/feature/lightglue.py:44: FutureWarning: `torch.cuda.amp.custom_fwd(args...)` is deprecated. Please use `torch.amp.custom_fwd(args..., device_type='cuda')` instead.\n",
      "  @torch.cuda.amp.custom_fwd(cast_inputs=torch.float32)\n"
     ]
    },
    {
     "name": "stdout",
     "output_type": "stream",
     "text": [
      " _____ ______   _____ ______   ___\n",
      "|\\   _ \\  _   \\|\\   _ \\  _   \\|\\  \\\n",
      "\\ \\  \\\\\\__\\ \\  \\ \\  \\\\\\__\\ \\  \\ \\  \\\n",
      " \\ \\  \\\\|__| \\  \\ \\  \\\\|__| \\  \\ \\  \\\n",
      "  \\ \\  \\    \\ \\  \\ \\  \\    \\ \\  \\ \\  \\____\n",
      "   \\ \\__\\    \\ \\__\\ \\__\\    \\ \\__\\ \\_______\\\n",
      "    \\|__|     \\|__|\\|__|     \\|__|\\|_______|\n",
      "         ____  _  _    __  _  _  ____  _  _\n",
      "        (  _ \\( \\/ )  (  )( \\/ )/ ___)( \\/ )\n",
      "         ) _ ( )  /    )( / \\/ \\\\___ \\ )  /\n",
      "        (____/(__/    (__)\\_)(_/(____/(__/\n",
      "Interactive MML API initialized.\n"
     ]
    }
   ],
   "execution_count": 1
  },
  {
   "metadata": {},
   "cell_type": "markdown",
   "source": "First we generate some descriptive statistics for the task attributes.",
   "id": "95c3864e71caf0a6"
  },
  {
   "metadata": {
    "ExecuteTime": {
     "end_time": "2024-10-15T10:43:19.513538Z",
     "start_time": "2024-10-15T10:43:19.509398Z"
    }
   },
   "cell_type": "code",
   "source": [
    "# statistics\n",
    "def get_percentiles(attr: str) -> str:\n",
    "    assert hasattr(task_infos, attr)\n",
    "    vals = pd.Series(list(getattr(task_infos, attr).values()))\n",
    "    desc = vals.describe()\n",
    "    return f'{attr=}: min={desc.loc[\"min\"]}, q1={desc.loc[\"25%\"]}, q2={desc.loc[\"50%\"]}, q3={desc.loc[\"75%\"]}, max={desc.loc[\"max\"]}, mean={desc.loc[\"mean\"]}, std={vals.std()}'"
   ],
   "id": "53dd33966a2139c2",
   "outputs": [],
   "execution_count": 11
  },
  {
   "metadata": {
    "ExecuteTime": {
     "end_time": "2024-10-15T10:44:57.930993Z",
     "start_time": "2024-10-15T10:44:57.920301Z"
    }
   },
   "cell_type": "code",
   "source": [
    "for attr in ['num_classes', 'num_samples', 'dimensions', 'imbalance_ratios']:\n",
    "    print(get_percentiles(attr))"
   ],
   "id": "6c2186c0ea5488c8",
   "outputs": [
    {
     "name": "stdout",
     "output_type": "stream",
     "text": [
      "attr='num_classes': min=2.0, q1=2.0, q2=2.0, q3=5.0, max=257.0, mean=11.985915492957746, std=36.558560833563014\n",
      "attr='num_samples': min=170.0, q1=1572.5, q2=5718.0, q3=40673.0, max=122138.0, mean=28163.521126760563, std=36595.276309873334\n",
      "attr='dimensions': min=4.0, q1=9.0, q2=13.0, q3=14.0, max=25.0, mean=12.04225352112676, std=4.254196649757608\n",
      "attr='imbalance_ratios': min=1.0, q1=1.3456414066188114, q2=2.878428465530022, q3=14.277188328912466, max=171.33333333333334, mean=14.838794320313594, std=29.773240229472243\n"
     ]
    }
   ],
   "execution_count": 13
  },
  {
   "metadata": {},
   "cell_type": "markdown",
   "source": "These numbers have been reported in the legend and caption of Figure 3.",
   "id": "25f60e9354b03f91"
  },
  {
   "cell_type": "code",
   "source": [
    "task_overview_details = []\n",
    "structs = mml.interactive.get_task_structs(all_tasks)\n",
    "\n",
    "tag_groups = {\n",
    "                tag.value: [tag]\n",
    "                for tag in [\n",
    "                    Keyword.DERMATOSCOPY,\n",
    "                    Keyword.LARYNGOSCOPY,\n",
    "                    Keyword.GASTROSCOPY_COLONOSCOPY,\n",
    "                    Keyword.LAPAROSCOPY,\n",
    "                    Keyword.NATURAL_OBJECTS,\n",
    "                    Keyword.HANDWRITINGS,\n",
    "                    Keyword.CATARACT_SURGERY,\n",
    "                    Keyword.FUNDUS_PHOTOGRAPHY,\n",
    "                    Keyword.MRI_SCAN,\n",
    "                    Keyword.X_RAY,\n",
    "                    Keyword.CT_SCAN,\n",
    "                    Keyword.CLE,\n",
    "                    Keyword.ULTRASOUND,\n",
    "                    Keyword.CAPSULE_ENDOSCOPY,\n",
    "                ]\n",
    "            }\n",
    "# convert tag groups to task clusters\n",
    "task_clusters = {\n",
    "    group_name: [task.name for task in structs if any([tag in task.keywords for tag in group_tags])]\n",
    "    for group_name, group_tags in tag_groups.items()\n",
    "}\n",
    "clusters = sorted(list(task_clusters.keys()))\n",
    "legend_map = {ix: cluster_name for ix, cluster_name in enumerate(clusters)}\n",
    "task_mapping = {name: cluster for cluster in task_clusters.keys() for name in task_clusters[cluster]}\n",
    "color_map = {task.name: clusters.index(task_mapping[task.name]) for task in structs}\n",
    "# color_map, legend_map = plot_2D.create_color_mapping(task_list=structs, criteria='domain', task_clusters=None)\n",
    "REPLACEMENTS = {'cataract_surgery': 'ophthalmic microscopy',\n",
    "                'ct_scan': 'CT', 'fundus_photography': 'fundus photography',\n",
    "                'gastroscopy_colonoscopy': 'gastro & colonoscopy',\n",
    "                'mri_scan': 'MRI', 'natural_objects': 'natural images', 'x_ray': 'X-ray',\n",
    "                }\n",
    "for k in legend_map:\n",
    "    if legend_map[k] in REPLACEMENTS:\n",
    "        legend_map[k] = REPLACEMENTS[legend_map[k]]\n",
    "domains = {t: legend_map[color_map[t]] for t in all_tasks}\n",
    "for t in train_tasks + test_tasks:\n",
    "    _printable = t.replace('_', ' ').replace('lapgyn4', 'LapGyn4').replace('sklin2 skin lesions', 'SKLIN2').replace(\n",
    "        'object classification', '').replace('svhn', 'SVHN').replace('cholec80', 'Cholec80').replace('hyperkvasir',\n",
    "                                                                                                     'HyperKvasir').replace(\n",
    "        'mura xr', 'MURA').replace('identify nbi infframes', 'NBI-InfFrames').replace('laryngeal tissues',\n",
    "                                                                                      'Laryngeal cancerous tissue').replace(\n",
    "        'stanford dogs image categorization', 'Stanford dogs').replace('digit classification', '').replace('emnist',\n",
    "                                                                                                           'EMNIST').replace(\n",
    "        'mnist', 'MNIST').replace('caltech', 'Caltech').replace('cifar', 'CIFAR').replace('skin lesions', '').replace(\n",
    "        'idle action recognition', 'CatRelComp').replace('chexpert', 'CheXpert').replace('barretts esophagus diagnosis',\n",
    "                                                                                         'AIDA-E Barrett\\'s esophagus').replace(\n",
    "        'brain tumor classification', 'kaggle Brain Tumor dataset').replace('nerthus bowel cleansing quality',\n",
    "                                                                            'Nerthus').replace(\n",
    "        'mednode melanoma classification', 'MED-NODE').replace('crawled covid ct classification',\n",
    "                                                               'COVID-CT-Dataset').replace(\n",
    "        'ph2-melanocytic-lesions-classification', 'PH2').replace('covid xray classification',\n",
    "                                                                 'kaggle COVID X-Ray dataset').replace(\n",
    "        'isic20 melanoma classification', 'ISIC20').replace('deep drid', 'DeepDRiD').replace('kvasir capsule',\n",
    "                                                                                             'Kvasir-Capsule').replace(\n",
    "        'bean plant disease classification', 'ibean').replace('aptos19 blindness detection',\n",
    "                                                              'APTOS 2019 Blindness Detection').replace(\n",
    "        'eye condition classification', 'kaggle cataract dataset').replace('breast cancer classification v2',\n",
    "                                                                           'Dataset of breast ultrasound images').replace(\n",
    "        'shenzen chest xray tuberculosis', 'Shenzhen Hospital CXR Set').replace('pneumonia classification',\n",
    "                                                                                'Zhang Chest X-Ray Images')\n",
    "    group = None\n",
    "    if 'cholec80' in t:\n",
    "        group = 'Cholec80'\n",
    "    elif 'deep_drid' in t:\n",
    "        group = 'deepdrid'\n",
    "    elif 'chexpert' in t:\n",
    "        group = 'chexpert'\n",
    "    _info = {'name': t, 'train': t in train_tasks, 'printable': _printable.strip(),\n",
    "             'samples': transformed_task_infos.num_samples[t],\n",
    "             'classes': transformed_task_infos.num_classes[t], 'dimension': transformed_task_infos.dimensions[t],\n",
    "             'imbalance': transformed_task_infos.imbalance_ratios[t], 'domain': domains[t], 'group': group}\n",
    "    task_overview_details.append(_info)\n",
    "pd.DataFrame(task_overview_details).to_csv(FIG_PATH / 'advanced_task_infos.csv')"
   ],
   "metadata": {
    "collapsed": false,
    "ExecuteTime": {
     "end_time": "2024-10-15T10:37:20.922906Z",
     "start_time": "2024-10-15T10:37:20.674245Z"
    }
   },
   "id": "b1584e624ba1bf7f",
   "outputs": [],
   "execution_count": 6
  },
  {
   "metadata": {},
   "cell_type": "markdown",
   "source": "These transformed properties have been used to generate the bar charts in Figure 3.",
   "id": "218336abf2d607a8"
  }
 ],
 "metadata": {
  "kernelspec": {
   "display_name": "Python 3",
   "language": "python",
   "name": "python3"
  },
  "language_info": {
   "codemirror_mode": {
    "name": "ipython",
    "version": 2
   },
   "file_extension": ".py",
   "mimetype": "text/x-python",
   "name": "python",
   "nbconvert_exporter": "python",
   "pygments_lexer": "ipython2",
   "version": "2.7.6"
  }
 },
 "nbformat": 4,
 "nbformat_minor": 5
}
