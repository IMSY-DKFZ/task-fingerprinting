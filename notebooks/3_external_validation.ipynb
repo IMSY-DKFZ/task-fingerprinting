{
 "cells": [
  {
   "metadata": {},
   "cell_type": "markdown",
   "source": [
    "## Validation tasks - comparison of selected task distance candidates with previous work\n",
    "\n",
    "This notebook uses the experimental results of the VALIDATION tasks and investigates how the selected candidates (see \"1_develop_comparson.ipynb\") perform in comparison to previous task distance measures."
   ],
   "id": "c297aeaf01b8c85a"
  },
  {
   "cell_type": "code",
   "id": "initial_id",
   "metadata": {
    "collapsed": true,
    "ExecuteTime": {
     "end_time": "2024-10-10T12:18:22.134521Z",
     "start_time": "2024-10-10T12:17:56.911789Z"
    }
   },
   "source": [
    "import mml.interactive\n",
    "mml.interactive.init()\n",
    "import pandas as pd\n",
    "from mml_tf.aggregate import AggregateStrategy\n",
    "from mml_tf.distances import LoadCachedDistances, map_dist2printable\n",
    "from mml_tf.evaluation import get_setup_stability_score, get_win_rates, get_evaluations\n",
    "from mml_tf.experiments import EXPERIMENTS\n",
    "from mml_tf.ranking import BootstrapRanking\n",
    "from mml_tf.visualization import init_colors, get_dist_measure_color\n",
    "from mml_tf.paths import FIG_PATH\n",
    "from typing import List, Tuple, Optional, Sequence\n",
    "import plotly.express as px\n",
    "import plotly.graph_objects as go\n",
    "import numpy as np\n",
    "from plotly.subplots import make_subplots"
   ],
   "outputs": [
    {
     "name": "stderr",
     "output_type": "stream",
     "text": [
      "/home/scholzpa/Documents/development/gitlab/mml/src/mml/interactive/__init__.py:49: UserWarning: Did not provide a \"env_path\", neither found set \"MML_ENV_PATH\" variable, you might need to provide \"env_path\" to \"init\" in order to use \"mml\" interactively in a jupyter/ipython setting.\n",
      "  warnings.warn(\n",
      "/home/scholzpa/miniconda3/envs/mml/lib/python3.8/site-packages/kornia/feature/lightglue.py:44: FutureWarning: `torch.cuda.amp.custom_fwd(args...)` is deprecated. Please use `torch.amp.custom_fwd(args..., device_type='cuda')` instead.\n",
      "  @torch.cuda.amp.custom_fwd(cast_inputs=torch.float32)\n"
     ]
    },
    {
     "name": "stdout",
     "output_type": "stream",
     "text": [
      " _____ ______   _____ ______   ___\n",
      "|\\   _ \\  _   \\|\\   _ \\  _   \\|\\  \\\n",
      "\\ \\  \\\\\\__\\ \\  \\ \\  \\\\\\__\\ \\  \\ \\  \\\n",
      " \\ \\  \\\\|__| \\  \\ \\  \\\\|__| \\  \\ \\  \\\n",
      "  \\ \\  \\    \\ \\  \\ \\  \\    \\ \\  \\ \\  \\____\n",
      "   \\ \\__\\    \\ \\__\\ \\__\\    \\ \\__\\ \\_______\\\n",
      "    \\|__|     \\|__|\\|__|     \\|__|\\|_______|\n",
      "         ____  _  _    __  _  _  ____  _  _\n",
      "        (  _ \\( \\/ )  (  )( \\/ )/ ___)( \\/ )\n",
      "         ) _ ( )  /    )( / \\/ \\\\___ \\ )  /\n",
      "        (____/(__/    (__)\\_)(_/(____/(__/\n",
      "Interactive MML API initialized.\n"
     ]
    }
   ],
   "execution_count": 2
  },
  {
   "metadata": {
    "ExecuteTime": {
     "end_time": "2024-10-10T12:23:01.890775Z",
     "start_time": "2024-10-10T12:23:01.804859Z"
    }
   },
   "cell_type": "code",
   "source": [
    "# load distances and set plot style\n",
    "comp_distances = [\n",
    "    'SEMANTIC', # manual baseline\n",
    "    'VDNA-PP:NN-1000-BINS', # VDNA paper\n",
    "    'FED', # FED paper\n",
    "    'FID', # Frechet Inception Distance\n",
    "    'KLD-PP:NN', # P2L paper (no sample weighting here)\n",
    "    'KLD-PP:NS-W:TS-100-BINS', # bKLD(small,target)\n",
    "    'KLD-PP:NS-W:SN-1000-BINS', # bKLD(large,source)\n",
    "    'KLD-PP:NS-1000-BINS', # bKLD(large,unweighted)\n",
    "]\n",
    "all_distances = {name: LoadCachedDistances(name) for name in comp_distances}\n",
    "plot_order = [map_dist2printable[d] for d in comp_distances]\n",
    "init_colors(exp=EXPERIMENTS, distance_measures=plot_order + [dist for dist in all_distances.keys() if dist not in comp_distances])\n",
    "color_map = {dist: get_dist_measure_color(dist) for dist in plot_order}\n",
    "symbol_map = {d: 'circle' for d in plot_order}\n",
    "symbol_map[map_dist2printable['KLD-PP:NS-W:SN-1000-BINS']] = 'hexagon'\n",
    "symbol_map[map_dist2printable['KLD-PP:NS-1000-BINS']] = 'hexagram'\n",
    "dash_map = {d: 'solid' for d in plot_order}\n",
    "dash_map[map_dist2printable['KLD-PP:NS-W:SN-1000-BINS']] = 'dash'\n",
    "dash_map[map_dist2printable['KLD-PP:NS-1000-BINS']] = 'dot'"
   ],
   "id": "be62f7b4bd9b3e63",
   "outputs": [],
   "execution_count": 4
  },
  {
   "metadata": {},
   "cell_type": "markdown",
   "source": [
    "### Step 1: Setup stability\n",
    "\n",
    "Evaluating the setup stability (see https://arxiv.org/pdf/2204.01403). We compare them for both the aggregate transfer results first and the triple evaluated approach."
   ],
   "id": "b2e994ebdc28afff"
  },
  {
   "metadata": {
    "ExecuteTime": {
     "end_time": "2024-10-10T19:11:19.293005Z",
     "start_time": "2024-10-10T19:10:22.928836Z"
    }
   },
   "cell_type": "code",
   "source": "tripled_evaluations = get_evaluations(all_distances=all_distances.values(), aggregates=[AggregateStrategy.FIRST, AggregateStrategy.SECOND, AggregateStrategy.THIRD], top_meta_metrics=['regret', 'rank', 'delta', 'gain'], top_mode='avg', top_k=3)",
   "id": "7b09ef31ed6fbae6",
   "outputs": [
    {
     "name": "stderr",
     "output_type": "stream",
     "text": [
      "Calculating...: 100%|██████████| 8256/8256 [00:56<00:00, 146.64it/s]\n"
     ]
    }
   ],
   "execution_count": 32
  },
  {
   "metadata": {
    "ExecuteTime": {
     "end_time": "2024-10-10T19:14:15.274849Z",
     "start_time": "2024-10-10T19:13:42.675644Z"
    }
   },
   "cell_type": "code",
   "source": [
    "components = ['target', 'metric', 'exp', 'meta metric', 'seed'] \n",
    "ss_score = {}\n",
    "for varying in components:\n",
    "  fixing = [c for c in components if c != varying]\n",
    "  ss_score[varying] = get_setup_stability_score(tripled_evaluations[tripled_evaluations['meta metric'] != 'gain'], varying=varying, fixing=fixing)\n",
    "\n",
    "ss_score"
   ],
   "id": "c930d60658b9da2b",
   "outputs": [
    {
     "name": "stdout",
     "output_type": "stream",
     "text": [
      "common ('barretts_esophagus_diagnosis', 'Co-Training<br>Data', 'regret', 'first') and varying metric is ONLY NAN VALUES\n",
      "common ('barretts_esophagus_diagnosis', 'Co-Training<br>Data', 'regret', 'third') and varying metric is ONLY NAN VALUES\n"
     ]
    },
    {
     "name": "stderr",
     "output_type": "stream",
     "text": [
      "/home/scholzpa/Documents/development/gitlab/task-fingerprinting/tf/src/mml_tf/evaluation.py:150: RuntimeWarning: Mean of empty slice\n",
      "  setup_stability_scores.append(np.nanmean(tau_values))\n",
      "/home/scholzpa/Documents/development/gitlab/task-fingerprinting/tf/src/mml_tf/evaluation.py:150: RuntimeWarning: Mean of empty slice\n",
      "  setup_stability_scores.append(np.nanmean(tau_values))\n"
     ]
    },
    {
     "name": "stdout",
     "output_type": "stream",
     "text": [
      "common ('barretts_esophagus_diagnosis', 'AUROC', 'Co-Training<br>Data', 'regret') and varying seed is ONLY NAN VALUES\n"
     ]
    },
    {
     "name": "stderr",
     "output_type": "stream",
     "text": [
      "/home/scholzpa/Documents/development/gitlab/task-fingerprinting/tf/src/mml_tf/evaluation.py:150: RuntimeWarning: Mean of empty slice\n",
      "  setup_stability_scores.append(np.nanmean(tau_values))\n"
     ]
    },
    {
     "data": {
      "text/plain": [
       "{'target': 0.02321746068113792,\n",
       " 'metric': 0.32243389341191336,\n",
       " 'exp': 0.007807748369157206,\n",
       " 'meta metric': 0.6127320273404088,\n",
       " 'seed': 0.11677354825994406}"
      ]
     },
     "execution_count": 34,
     "metadata": {},
     "output_type": "execute_result"
    }
   ],
   "execution_count": 34
  },
  {
   "metadata": {},
   "cell_type": "markdown",
   "source": "Apparently the setup stability across transfer repetitions (weightedtau ~ 0.12) is stronger than dependency on the target task (weightedtau ~ 0.02) or the transfer scenario (weightedtau ~ 0.01). It is reassuring that setup stability across base metrics (weightedtau ~ 0.32) and meta metrics (weightedtau ~ 0.61) is rather stable. ",
   "id": "9607472b9ba5c37f"
  },
  {
   "metadata": {
    "ExecuteTime": {
     "end_time": "2024-10-10T19:14:53.734071Z",
     "start_time": "2024-10-10T19:14:34.989220Z"
    }
   },
   "cell_type": "code",
   "source": "single_evaluations = get_evaluations(all_distances=all_distances.values(), top_meta_metrics=['regret', 'rank', 'delta', 'gain'], top_mode='avg', top_k=3)",
   "id": "a279bec29786d58f",
   "outputs": [
    {
     "name": "stderr",
     "output_type": "stream",
     "text": [
      "Calculating...: 100%|██████████| 2752/2752 [00:18<00:00, 146.94it/s]\n"
     ]
    }
   ],
   "execution_count": 35
  },
  {
   "metadata": {
    "ExecuteTime": {
     "end_time": "2024-10-10T19:15:07.325558Z",
     "start_time": "2024-10-10T19:14:57.336223Z"
    }
   },
   "cell_type": "code",
   "source": [
    "components = ['target', 'metric', 'exp', 'meta metric'] \n",
    "ss_score = {}\n",
    "for varying in components:\n",
    "  fixing = [c for c in components if c != varying]\n",
    "  ss_score[varying] = get_setup_stability_score(single_evaluations[single_evaluations['meta metric'] != 'gain'], varying=varying, fixing=fixing)\n",
    "\n",
    "ss_score"
   ],
   "id": "f07de8824cfe0479",
   "outputs": [
    {
     "data": {
      "text/plain": [
       "{'target': 0.028777503859202146,\n",
       " 'metric': 0.40207181455374924,\n",
       " 'exp': 0.029645823237488902,\n",
       " 'meta metric': 0.6023195632783143}"
      ]
     },
     "execution_count": 36,
     "metadata": {},
     "output_type": "execute_result"
    }
   ],
   "execution_count": 36
  },
  {
   "metadata": {},
   "cell_type": "markdown",
   "source": "Compared to the triple evaluation case the previous aggregation of transfer experiment repetition has roughly equal stability across target tasks (+0.005) and slightly more stability across transfer scenarios (+0.022). While stability across base metrics increased significantly (+0.1) stability across meta metrics slightly decreased (-0.01).",
   "id": "8a8f7221a5cc919e"
  },
  {
   "metadata": {},
   "cell_type": "markdown",
   "source": [
    "### Step 2: Win rate analysis\n",
    "\n",
    "Win rates have been introduced by https://arxiv.org/pdf/2204.01403 and try to compare task similarities on a wide range of setup configurations. "
   ],
   "id": "fc90f82f2679cef5"
  },
  {
   "metadata": {
    "ExecuteTime": {
     "end_time": "2024-10-10T19:39:07.117223Z",
     "start_time": "2024-10-10T19:39:07.113311Z"
    }
   },
   "cell_type": "code",
   "source": [
    "def show_win_rates(dist_names: Sequence[str]) -> pd.DataFrame:\n",
    "    win_rates_df = pd.DataFrame()\n",
    "    for exp in EXPERIMENTS:\n",
    "        win_rates_df[exp] = get_win_rates(tripled_evaluations[(tripled_evaluations['exp'] == exp) & (tripled_evaluations['meta metric'] != 'gain')])\n",
    "    win_rates_df['mean'] = win_rates_df.mean(axis=1)\n",
    "    return win_rates_df"
   ],
   "id": "cc4fe90a691bb8aa",
   "outputs": [],
   "execution_count": 39
  },
  {
   "metadata": {
    "ExecuteTime": {
     "end_time": "2024-10-10T19:39:10.689561Z",
     "start_time": "2024-10-10T19:39:08.173911Z"
    }
   },
   "cell_type": "code",
   "source": "(show_win_rates(all_distances) * 100).sort_values('mean').round(decimals=2)",
   "id": "2eb2c37d045bbcd2",
   "outputs": [
    {
     "data": {
      "text/plain": [
       "                          Model<br>Architecture  Pretraining<br>Data  \\\n",
       "FID                                       15.02                13.86   \n",
       "KLD-PP:NN                                 15.21                14.92   \n",
       "FED                                       15.89                15.21   \n",
       "VDNA-PP:NN-1000-BINS                      13.66                18.41   \n",
       "SEMANTIC                                  20.64                19.86   \n",
       "KLD-PP:NS-W:TS-100-BINS                   14.53                25.58   \n",
       "KLD-PP:NS-1000-BINS                       14.53                25.39   \n",
       "KLD-PP:NS-W:SN-1000-BINS                  34.98                19.86   \n",
       "\n",
       "                          Augmentation<br>Policy  Co-Training<br>Data   mean  \n",
       "FID                                        12.60                10.66  13.03  \n",
       "KLD-PP:NN                                  13.66                10.17  13.49  \n",
       "FED                                        11.14                12.79  13.76  \n",
       "VDNA-PP:NN-1000-BINS                       16.09                12.21  15.09  \n",
       "SEMANTIC                                   11.34                16.96  17.20  \n",
       "KLD-PP:NS-W:TS-100-BINS                    23.84                17.25  20.30  \n",
       "KLD-PP:NS-1000-BINS                        22.19                20.64  20.69  \n",
       "KLD-PP:NS-W:SN-1000-BINS                   27.71                32.66  28.80  "
      ],
      "text/html": [
       "<div>\n",
       "<style scoped>\n",
       "    .dataframe tbody tr th:only-of-type {\n",
       "        vertical-align: middle;\n",
       "    }\n",
       "\n",
       "    .dataframe tbody tr th {\n",
       "        vertical-align: top;\n",
       "    }\n",
       "\n",
       "    .dataframe thead th {\n",
       "        text-align: right;\n",
       "    }\n",
       "</style>\n",
       "<table border=\"1\" class=\"dataframe\">\n",
       "  <thead>\n",
       "    <tr style=\"text-align: right;\">\n",
       "      <th></th>\n",
       "      <th>Model&lt;br&gt;Architecture</th>\n",
       "      <th>Pretraining&lt;br&gt;Data</th>\n",
       "      <th>Augmentation&lt;br&gt;Policy</th>\n",
       "      <th>Co-Training&lt;br&gt;Data</th>\n",
       "      <th>mean</th>\n",
       "    </tr>\n",
       "  </thead>\n",
       "  <tbody>\n",
       "    <tr>\n",
       "      <th>FID</th>\n",
       "      <td>15.02</td>\n",
       "      <td>13.86</td>\n",
       "      <td>12.60</td>\n",
       "      <td>10.66</td>\n",
       "      <td>13.03</td>\n",
       "    </tr>\n",
       "    <tr>\n",
       "      <th>KLD-PP:NN</th>\n",
       "      <td>15.21</td>\n",
       "      <td>14.92</td>\n",
       "      <td>13.66</td>\n",
       "      <td>10.17</td>\n",
       "      <td>13.49</td>\n",
       "    </tr>\n",
       "    <tr>\n",
       "      <th>FED</th>\n",
       "      <td>15.89</td>\n",
       "      <td>15.21</td>\n",
       "      <td>11.14</td>\n",
       "      <td>12.79</td>\n",
       "      <td>13.76</td>\n",
       "    </tr>\n",
       "    <tr>\n",
       "      <th>VDNA-PP:NN-1000-BINS</th>\n",
       "      <td>13.66</td>\n",
       "      <td>18.41</td>\n",
       "      <td>16.09</td>\n",
       "      <td>12.21</td>\n",
       "      <td>15.09</td>\n",
       "    </tr>\n",
       "    <tr>\n",
       "      <th>SEMANTIC</th>\n",
       "      <td>20.64</td>\n",
       "      <td>19.86</td>\n",
       "      <td>11.34</td>\n",
       "      <td>16.96</td>\n",
       "      <td>17.20</td>\n",
       "    </tr>\n",
       "    <tr>\n",
       "      <th>KLD-PP:NS-W:TS-100-BINS</th>\n",
       "      <td>14.53</td>\n",
       "      <td>25.58</td>\n",
       "      <td>23.84</td>\n",
       "      <td>17.25</td>\n",
       "      <td>20.30</td>\n",
       "    </tr>\n",
       "    <tr>\n",
       "      <th>KLD-PP:NS-1000-BINS</th>\n",
       "      <td>14.53</td>\n",
       "      <td>25.39</td>\n",
       "      <td>22.19</td>\n",
       "      <td>20.64</td>\n",
       "      <td>20.69</td>\n",
       "    </tr>\n",
       "    <tr>\n",
       "      <th>KLD-PP:NS-W:SN-1000-BINS</th>\n",
       "      <td>34.98</td>\n",
       "      <td>19.86</td>\n",
       "      <td>27.71</td>\n",
       "      <td>32.66</td>\n",
       "      <td>28.80</td>\n",
       "    </tr>\n",
       "  </tbody>\n",
       "</table>\n",
       "</div>"
      ]
     },
     "execution_count": 40,
     "metadata": {},
     "output_type": "execute_result"
    }
   ],
   "execution_count": 40
  },
  {
   "metadata": {
    "ExecuteTime": {
     "end_time": "2024-10-10T19:39:42.829861Z",
     "start_time": "2024-10-10T19:39:40.421821Z"
    }
   },
   "cell_type": "code",
   "source": [
    "# keep in mind that more than 100% winning happens in total because of ties\n",
    "show_win_rates(comp_distances).sum()"
   ],
   "id": "ea50d8a0c7353da9",
   "outputs": [
    {
     "data": {
      "text/plain": [
       "Model<br>Architecture     1.444767\n",
       "Pretraining<br>Data       1.531008\n",
       "Augmentation<br>Policy    1.385659\n",
       "Co-Training<br>Data       1.333333\n",
       "mean                      1.423692\n",
       "dtype: float64"
      ]
     },
     "execution_count": 41,
     "metadata": {},
     "output_type": "execute_result"
    }
   ],
   "execution_count": 41
  },
  {
   "metadata": {},
   "cell_type": "markdown",
   "source": "### Step 3: Compare absolute values of results",
   "id": "95ce6898310200a"
  },
  {
   "metadata": {
    "ExecuteTime": {
     "end_time": "2024-10-10T19:40:08.660321Z",
     "start_time": "2024-10-10T19:40:08.654082Z"
    }
   },
   "cell_type": "code",
   "source": [
    "# absolut meta metric table\n",
    "def get_absolute_meta_values(full_evaluations: pd.DataFrame, meta_metric: str, reverse_regret: bool = False) -> pd.DataFrame:\n",
    "    meta_values_df = pd.DataFrame()\n",
    "    for exp in EXPERIMENTS:\n",
    "        sub_df = full_evaluations[(full_evaluations['exp'] == exp) & (full_evaluations['meta metric'] == meta_metric)]\n",
    "        for group_name, group_df in sub_df.groupby('distances'):\n",
    "            if meta_metric == 'regret' and reverse_regret:\n",
    "                val_series = 1 - group_df['score']\n",
    "            else:\n",
    "                val_series = group_df['score']\n",
    "            meta_values_df.at[group_name, exp + '-mean'] = val_series.mean()\n",
    "            meta_values_df.at[group_name, exp + '-std'] = val_series.std()\n",
    "    meta_values_df['mean'] = meta_values_df[[exp + '-mean' for exp in EXPERIMENTS]].mean(axis=1)\n",
    "    return meta_values_df.sort_values(by='mean', ascending=False)"
   ],
   "id": "1a82287e821348ba",
   "outputs": [],
   "execution_count": 42
  },
  {
   "metadata": {
    "ExecuteTime": {
     "end_time": "2024-10-10T19:40:09.945210Z",
     "start_time": "2024-10-10T19:40:09.873987Z"
    }
   },
   "cell_type": "code",
   "source": [
    "reversed_regret_df = get_absolute_meta_values(full_evaluations=tripled_evaluations, meta_metric='regret', reverse_regret=True)\n",
    "aligned_regret_df = get_absolute_meta_values(full_evaluations=tripled_evaluations, meta_metric='regret', reverse_regret=False)\n",
    "reversed_regret_df"
   ],
   "id": "92a7acf1a900f33d",
   "outputs": [
    {
     "data": {
      "text/plain": [
       "                          Model<br>Architecture-mean  \\\n",
       "SEMANTIC                                    0.209295   \n",
       "FED                                         0.217104   \n",
       "KLD-PP:NS-W:SN-1000-BINS                    0.201879   \n",
       "VDNA-PP:NN-1000-BINS                        0.222161   \n",
       "KLD-PP:NN                                   0.222200   \n",
       "FID                                         0.221051   \n",
       "KLD-PP:NS-1000-BINS                         0.222943   \n",
       "KLD-PP:NS-W:TS-100-BINS                     0.224697   \n",
       "\n",
       "                          Model<br>Architecture-std  Pretraining<br>Data-mean  \\\n",
       "SEMANTIC                                   0.178388                  0.267078   \n",
       "FED                                        0.190314                  0.255387   \n",
       "KLD-PP:NS-W:SN-1000-BINS                   0.172145                  0.281343   \n",
       "VDNA-PP:NN-1000-BINS                       0.187829                  0.253080   \n",
       "KLD-PP:NN                                  0.196256                  0.254521   \n",
       "FID                                        0.193798                  0.252701   \n",
       "KLD-PP:NS-1000-BINS                        0.196503                  0.250836   \n",
       "KLD-PP:NS-W:TS-100-BINS                    0.199942                  0.248471   \n",
       "\n",
       "                          Pretraining<br>Data-std  \\\n",
       "SEMANTIC                                 0.216593   \n",
       "FED                                      0.209498   \n",
       "KLD-PP:NS-W:SN-1000-BINS                 0.199631   \n",
       "VDNA-PP:NN-1000-BINS                     0.209676   \n",
       "KLD-PP:NN                                0.211576   \n",
       "FID                                      0.203469   \n",
       "KLD-PP:NS-1000-BINS                      0.205636   \n",
       "KLD-PP:NS-W:TS-100-BINS                  0.202656   \n",
       "\n",
       "                          Augmentation<br>Policy-mean  \\\n",
       "SEMANTIC                                     0.271664   \n",
       "FED                                          0.262590   \n",
       "KLD-PP:NS-W:SN-1000-BINS                     0.251487   \n",
       "VDNA-PP:NN-1000-BINS                         0.252538   \n",
       "KLD-PP:NN                                    0.250956   \n",
       "FID                                          0.245827   \n",
       "KLD-PP:NS-1000-BINS                          0.245770   \n",
       "KLD-PP:NS-W:TS-100-BINS                      0.244026   \n",
       "\n",
       "                          Augmentation<br>Policy-std  \\\n",
       "SEMANTIC                                    0.223355   \n",
       "FED                                         0.220438   \n",
       "KLD-PP:NS-W:SN-1000-BINS                    0.196773   \n",
       "VDNA-PP:NN-1000-BINS                        0.210621   \n",
       "KLD-PP:NN                                   0.209247   \n",
       "FID                                         0.198779   \n",
       "KLD-PP:NS-1000-BINS                         0.202491   \n",
       "KLD-PP:NS-W:TS-100-BINS                     0.203254   \n",
       "\n",
       "                          Co-Training<br>Data-mean  Co-Training<br>Data-std  \\\n",
       "SEMANTIC                                  0.255173                 0.211627   \n",
       "FED                                       0.258383                 0.214018   \n",
       "KLD-PP:NS-W:SN-1000-BINS                  0.258080                 0.217647   \n",
       "VDNA-PP:NN-1000-BINS                      0.258111                 0.212734   \n",
       "KLD-PP:NN                                 0.258162                 0.206372   \n",
       "FID                                       0.255462                 0.205751   \n",
       "KLD-PP:NS-1000-BINS                       0.248436                 0.207845   \n",
       "KLD-PP:NS-W:TS-100-BINS                   0.250519                 0.208444   \n",
       "\n",
       "                              mean  \n",
       "SEMANTIC                  0.250803  \n",
       "FED                       0.248366  \n",
       "KLD-PP:NS-W:SN-1000-BINS  0.248197  \n",
       "VDNA-PP:NN-1000-BINS      0.246473  \n",
       "KLD-PP:NN                 0.246460  \n",
       "FID                       0.243760  \n",
       "KLD-PP:NS-1000-BINS       0.241996  \n",
       "KLD-PP:NS-W:TS-100-BINS   0.241928  "
      ],
      "text/html": [
       "<div>\n",
       "<style scoped>\n",
       "    .dataframe tbody tr th:only-of-type {\n",
       "        vertical-align: middle;\n",
       "    }\n",
       "\n",
       "    .dataframe tbody tr th {\n",
       "        vertical-align: top;\n",
       "    }\n",
       "\n",
       "    .dataframe thead th {\n",
       "        text-align: right;\n",
       "    }\n",
       "</style>\n",
       "<table border=\"1\" class=\"dataframe\">\n",
       "  <thead>\n",
       "    <tr style=\"text-align: right;\">\n",
       "      <th></th>\n",
       "      <th>Model&lt;br&gt;Architecture-mean</th>\n",
       "      <th>Model&lt;br&gt;Architecture-std</th>\n",
       "      <th>Pretraining&lt;br&gt;Data-mean</th>\n",
       "      <th>Pretraining&lt;br&gt;Data-std</th>\n",
       "      <th>Augmentation&lt;br&gt;Policy-mean</th>\n",
       "      <th>Augmentation&lt;br&gt;Policy-std</th>\n",
       "      <th>Co-Training&lt;br&gt;Data-mean</th>\n",
       "      <th>Co-Training&lt;br&gt;Data-std</th>\n",
       "      <th>mean</th>\n",
       "    </tr>\n",
       "  </thead>\n",
       "  <tbody>\n",
       "    <tr>\n",
       "      <th>SEMANTIC</th>\n",
       "      <td>0.209295</td>\n",
       "      <td>0.178388</td>\n",
       "      <td>0.267078</td>\n",
       "      <td>0.216593</td>\n",
       "      <td>0.271664</td>\n",
       "      <td>0.223355</td>\n",
       "      <td>0.255173</td>\n",
       "      <td>0.211627</td>\n",
       "      <td>0.250803</td>\n",
       "    </tr>\n",
       "    <tr>\n",
       "      <th>FED</th>\n",
       "      <td>0.217104</td>\n",
       "      <td>0.190314</td>\n",
       "      <td>0.255387</td>\n",
       "      <td>0.209498</td>\n",
       "      <td>0.262590</td>\n",
       "      <td>0.220438</td>\n",
       "      <td>0.258383</td>\n",
       "      <td>0.214018</td>\n",
       "      <td>0.248366</td>\n",
       "    </tr>\n",
       "    <tr>\n",
       "      <th>KLD-PP:NS-W:SN-1000-BINS</th>\n",
       "      <td>0.201879</td>\n",
       "      <td>0.172145</td>\n",
       "      <td>0.281343</td>\n",
       "      <td>0.199631</td>\n",
       "      <td>0.251487</td>\n",
       "      <td>0.196773</td>\n",
       "      <td>0.258080</td>\n",
       "      <td>0.217647</td>\n",
       "      <td>0.248197</td>\n",
       "    </tr>\n",
       "    <tr>\n",
       "      <th>VDNA-PP:NN-1000-BINS</th>\n",
       "      <td>0.222161</td>\n",
       "      <td>0.187829</td>\n",
       "      <td>0.253080</td>\n",
       "      <td>0.209676</td>\n",
       "      <td>0.252538</td>\n",
       "      <td>0.210621</td>\n",
       "      <td>0.258111</td>\n",
       "      <td>0.212734</td>\n",
       "      <td>0.246473</td>\n",
       "    </tr>\n",
       "    <tr>\n",
       "      <th>KLD-PP:NN</th>\n",
       "      <td>0.222200</td>\n",
       "      <td>0.196256</td>\n",
       "      <td>0.254521</td>\n",
       "      <td>0.211576</td>\n",
       "      <td>0.250956</td>\n",
       "      <td>0.209247</td>\n",
       "      <td>0.258162</td>\n",
       "      <td>0.206372</td>\n",
       "      <td>0.246460</td>\n",
       "    </tr>\n",
       "    <tr>\n",
       "      <th>FID</th>\n",
       "      <td>0.221051</td>\n",
       "      <td>0.193798</td>\n",
       "      <td>0.252701</td>\n",
       "      <td>0.203469</td>\n",
       "      <td>0.245827</td>\n",
       "      <td>0.198779</td>\n",
       "      <td>0.255462</td>\n",
       "      <td>0.205751</td>\n",
       "      <td>0.243760</td>\n",
       "    </tr>\n",
       "    <tr>\n",
       "      <th>KLD-PP:NS-1000-BINS</th>\n",
       "      <td>0.222943</td>\n",
       "      <td>0.196503</td>\n",
       "      <td>0.250836</td>\n",
       "      <td>0.205636</td>\n",
       "      <td>0.245770</td>\n",
       "      <td>0.202491</td>\n",
       "      <td>0.248436</td>\n",
       "      <td>0.207845</td>\n",
       "      <td>0.241996</td>\n",
       "    </tr>\n",
       "    <tr>\n",
       "      <th>KLD-PP:NS-W:TS-100-BINS</th>\n",
       "      <td>0.224697</td>\n",
       "      <td>0.199942</td>\n",
       "      <td>0.248471</td>\n",
       "      <td>0.202656</td>\n",
       "      <td>0.244026</td>\n",
       "      <td>0.203254</td>\n",
       "      <td>0.250519</td>\n",
       "      <td>0.208444</td>\n",
       "      <td>0.241928</td>\n",
       "    </tr>\n",
       "  </tbody>\n",
       "</table>\n",
       "</div>"
      ]
     },
     "execution_count": 43,
     "metadata": {},
     "output_type": "execute_result"
    }
   ],
   "execution_count": 43
  },
  {
   "metadata": {
    "ExecuteTime": {
     "end_time": "2024-10-10T19:40:11.394740Z",
     "start_time": "2024-10-10T19:40:11.351268Z"
    }
   },
   "cell_type": "code",
   "source": [
    "rank_df = get_absolute_meta_values(full_evaluations=tripled_evaluations, meta_metric='rank')\n",
    "rank_df"
   ],
   "id": "27ddb19d9b6a579c",
   "outputs": [
    {
     "data": {
      "text/plain": [
       "                          Model<br>Architecture-mean  \\\n",
       "KLD-PP:NS-W:TS-100-BINS                     0.487703   \n",
       "KLD-PP:NS-1000-BINS                         0.490268   \n",
       "FID                                         0.486135   \n",
       "KLD-PP:NN                                   0.488392   \n",
       "VDNA-PP:NN-1000-BINS                        0.481051   \n",
       "FED                                         0.496016   \n",
       "SEMANTIC                                    0.512213   \n",
       "KLD-PP:NS-W:SN-1000-BINS                    0.529449   \n",
       "\n",
       "                          Model<br>Architecture-std  Pretraining<br>Data-mean  \\\n",
       "KLD-PP:NS-W:TS-100-BINS                    0.165807                  0.631475   \n",
       "KLD-PP:NS-1000-BINS                        0.167235                  0.626058   \n",
       "FID                                        0.158128                  0.608590   \n",
       "KLD-PP:NN                                  0.159993                  0.613576   \n",
       "VDNA-PP:NN-1000-BINS                       0.165324                  0.619323   \n",
       "FED                                        0.154828                  0.611311   \n",
       "SEMANTIC                                   0.179149                  0.590038   \n",
       "KLD-PP:NS-W:SN-1000-BINS                   0.174184                  0.512074   \n",
       "\n",
       "                          Pretraining<br>Data-std  \\\n",
       "KLD-PP:NS-W:TS-100-BINS                  0.178851   \n",
       "KLD-PP:NS-1000-BINS                      0.181913   \n",
       "FID                                      0.175298   \n",
       "KLD-PP:NN                                0.165885   \n",
       "VDNA-PP:NN-1000-BINS                     0.180393   \n",
       "FED                                      0.163584   \n",
       "SEMANTIC                                 0.183498   \n",
       "KLD-PP:NS-W:SN-1000-BINS                 0.168159   \n",
       "\n",
       "                          Augmentation<br>Policy-mean  \\\n",
       "KLD-PP:NS-W:TS-100-BINS                      0.562785   \n",
       "KLD-PP:NS-1000-BINS                          0.558253   \n",
       "FID                                          0.556355   \n",
       "KLD-PP:NN                                    0.547516   \n",
       "VDNA-PP:NN-1000-BINS                         0.547284   \n",
       "FED                                          0.525618   \n",
       "SEMANTIC                                     0.501288   \n",
       "KLD-PP:NS-W:SN-1000-BINS                     0.522981   \n",
       "\n",
       "                          Augmentation<br>Policy-std  \\\n",
       "KLD-PP:NS-W:TS-100-BINS                     0.171492   \n",
       "KLD-PP:NS-1000-BINS                         0.168636   \n",
       "FID                                         0.160559   \n",
       "KLD-PP:NN                                   0.173574   \n",
       "VDNA-PP:NN-1000-BINS                        0.182798   \n",
       "FED                                         0.175057   \n",
       "SEMANTIC                                    0.170913   \n",
       "KLD-PP:NS-W:SN-1000-BINS                    0.168882   \n",
       "\n",
       "                          Co-Training<br>Data-mean  Co-Training<br>Data-std  \\\n",
       "KLD-PP:NS-W:TS-100-BINS                   0.511841                 0.187924   \n",
       "KLD-PP:NS-1000-BINS                       0.516741                 0.187641   \n",
       "FID                                       0.509273                 0.167104   \n",
       "KLD-PP:NN                                 0.506589                 0.157054   \n",
       "VDNA-PP:NN-1000-BINS                      0.495522                 0.164291   \n",
       "FED                                       0.499252                 0.178252   \n",
       "SEMANTIC                                  0.505639                 0.180506   \n",
       "KLD-PP:NS-W:SN-1000-BINS                  0.518813                 0.173972   \n",
       "\n",
       "                              mean  \n",
       "KLD-PP:NS-W:TS-100-BINS   0.548451  \n",
       "KLD-PP:NS-1000-BINS       0.547830  \n",
       "FID                       0.540088  \n",
       "KLD-PP:NN                 0.539018  \n",
       "VDNA-PP:NN-1000-BINS      0.535795  \n",
       "FED                       0.533049  \n",
       "SEMANTIC                  0.527295  \n",
       "KLD-PP:NS-W:SN-1000-BINS  0.520830  "
      ],
      "text/html": [
       "<div>\n",
       "<style scoped>\n",
       "    .dataframe tbody tr th:only-of-type {\n",
       "        vertical-align: middle;\n",
       "    }\n",
       "\n",
       "    .dataframe tbody tr th {\n",
       "        vertical-align: top;\n",
       "    }\n",
       "\n",
       "    .dataframe thead th {\n",
       "        text-align: right;\n",
       "    }\n",
       "</style>\n",
       "<table border=\"1\" class=\"dataframe\">\n",
       "  <thead>\n",
       "    <tr style=\"text-align: right;\">\n",
       "      <th></th>\n",
       "      <th>Model&lt;br&gt;Architecture-mean</th>\n",
       "      <th>Model&lt;br&gt;Architecture-std</th>\n",
       "      <th>Pretraining&lt;br&gt;Data-mean</th>\n",
       "      <th>Pretraining&lt;br&gt;Data-std</th>\n",
       "      <th>Augmentation&lt;br&gt;Policy-mean</th>\n",
       "      <th>Augmentation&lt;br&gt;Policy-std</th>\n",
       "      <th>Co-Training&lt;br&gt;Data-mean</th>\n",
       "      <th>Co-Training&lt;br&gt;Data-std</th>\n",
       "      <th>mean</th>\n",
       "    </tr>\n",
       "  </thead>\n",
       "  <tbody>\n",
       "    <tr>\n",
       "      <th>KLD-PP:NS-W:TS-100-BINS</th>\n",
       "      <td>0.487703</td>\n",
       "      <td>0.165807</td>\n",
       "      <td>0.631475</td>\n",
       "      <td>0.178851</td>\n",
       "      <td>0.562785</td>\n",
       "      <td>0.171492</td>\n",
       "      <td>0.511841</td>\n",
       "      <td>0.187924</td>\n",
       "      <td>0.548451</td>\n",
       "    </tr>\n",
       "    <tr>\n",
       "      <th>KLD-PP:NS-1000-BINS</th>\n",
       "      <td>0.490268</td>\n",
       "      <td>0.167235</td>\n",
       "      <td>0.626058</td>\n",
       "      <td>0.181913</td>\n",
       "      <td>0.558253</td>\n",
       "      <td>0.168636</td>\n",
       "      <td>0.516741</td>\n",
       "      <td>0.187641</td>\n",
       "      <td>0.547830</td>\n",
       "    </tr>\n",
       "    <tr>\n",
       "      <th>FID</th>\n",
       "      <td>0.486135</td>\n",
       "      <td>0.158128</td>\n",
       "      <td>0.608590</td>\n",
       "      <td>0.175298</td>\n",
       "      <td>0.556355</td>\n",
       "      <td>0.160559</td>\n",
       "      <td>0.509273</td>\n",
       "      <td>0.167104</td>\n",
       "      <td>0.540088</td>\n",
       "    </tr>\n",
       "    <tr>\n",
       "      <th>KLD-PP:NN</th>\n",
       "      <td>0.488392</td>\n",
       "      <td>0.159993</td>\n",
       "      <td>0.613576</td>\n",
       "      <td>0.165885</td>\n",
       "      <td>0.547516</td>\n",
       "      <td>0.173574</td>\n",
       "      <td>0.506589</td>\n",
       "      <td>0.157054</td>\n",
       "      <td>0.539018</td>\n",
       "    </tr>\n",
       "    <tr>\n",
       "      <th>VDNA-PP:NN-1000-BINS</th>\n",
       "      <td>0.481051</td>\n",
       "      <td>0.165324</td>\n",
       "      <td>0.619323</td>\n",
       "      <td>0.180393</td>\n",
       "      <td>0.547284</td>\n",
       "      <td>0.182798</td>\n",
       "      <td>0.495522</td>\n",
       "      <td>0.164291</td>\n",
       "      <td>0.535795</td>\n",
       "    </tr>\n",
       "    <tr>\n",
       "      <th>FED</th>\n",
       "      <td>0.496016</td>\n",
       "      <td>0.154828</td>\n",
       "      <td>0.611311</td>\n",
       "      <td>0.163584</td>\n",
       "      <td>0.525618</td>\n",
       "      <td>0.175057</td>\n",
       "      <td>0.499252</td>\n",
       "      <td>0.178252</td>\n",
       "      <td>0.533049</td>\n",
       "    </tr>\n",
       "    <tr>\n",
       "      <th>SEMANTIC</th>\n",
       "      <td>0.512213</td>\n",
       "      <td>0.179149</td>\n",
       "      <td>0.590038</td>\n",
       "      <td>0.183498</td>\n",
       "      <td>0.501288</td>\n",
       "      <td>0.170913</td>\n",
       "      <td>0.505639</td>\n",
       "      <td>0.180506</td>\n",
       "      <td>0.527295</td>\n",
       "    </tr>\n",
       "    <tr>\n",
       "      <th>KLD-PP:NS-W:SN-1000-BINS</th>\n",
       "      <td>0.529449</td>\n",
       "      <td>0.174184</td>\n",
       "      <td>0.512074</td>\n",
       "      <td>0.168159</td>\n",
       "      <td>0.522981</td>\n",
       "      <td>0.168882</td>\n",
       "      <td>0.518813</td>\n",
       "      <td>0.173972</td>\n",
       "      <td>0.520830</td>\n",
       "    </tr>\n",
       "  </tbody>\n",
       "</table>\n",
       "</div>"
      ]
     },
     "execution_count": 44,
     "metadata": {},
     "output_type": "execute_result"
    }
   ],
   "execution_count": 44
  },
  {
   "metadata": {
    "ExecuteTime": {
     "end_time": "2024-10-10T19:40:12.298851Z",
     "start_time": "2024-10-10T19:40:12.254460Z"
    }
   },
   "cell_type": "code",
   "source": [
    "weightedtau_df = get_absolute_meta_values(full_evaluations=tripled_evaluations, meta_metric='weightedtau')\n",
    "weightedtau_df"
   ],
   "id": "7311c90c744e15fa",
   "outputs": [
    {
     "data": {
      "text/plain": [
       "                          Model<br>Architecture-mean  \\\n",
       "KLD-PP:NS-W:TS-100-BINS                     0.069241   \n",
       "KLD-PP:NS-1000-BINS                         0.069807   \n",
       "KLD-PP:NS-W:SN-1000-BINS                    0.084286   \n",
       "VDNA-PP:NN-1000-BINS                        0.042119   \n",
       "FID                                         0.037082   \n",
       "SEMANTIC                                    0.043570   \n",
       "FED                                         0.022515   \n",
       "KLD-PP:NN                                   0.028600   \n",
       "\n",
       "                          Model<br>Architecture-std  Pretraining<br>Data-mean  \\\n",
       "KLD-PP:NS-W:TS-100-BINS                    0.130738                  0.101046   \n",
       "KLD-PP:NS-1000-BINS                        0.128245                  0.097995   \n",
       "KLD-PP:NS-W:SN-1000-BINS                   0.142460                 -0.000249   \n",
       "VDNA-PP:NN-1000-BINS                       0.141304                  0.070049   \n",
       "FID                                        0.139233                  0.061096   \n",
       "SEMANTIC                                   0.150731                  0.076728   \n",
       "FED                                        0.143864                  0.055493   \n",
       "KLD-PP:NN                                  0.136193                  0.055824   \n",
       "\n",
       "                          Pretraining<br>Data-std  \\\n",
       "KLD-PP:NS-W:TS-100-BINS                  0.161720   \n",
       "KLD-PP:NS-1000-BINS                      0.163935   \n",
       "KLD-PP:NS-W:SN-1000-BINS                 0.180443   \n",
       "VDNA-PP:NN-1000-BINS                     0.157239   \n",
       "FID                                      0.158157   \n",
       "SEMANTIC                                 0.169545   \n",
       "FED                                      0.143864   \n",
       "KLD-PP:NN                                0.155724   \n",
       "\n",
       "                          Augmentation<br>Policy-mean  \\\n",
       "KLD-PP:NS-W:TS-100-BINS                      0.105286   \n",
       "KLD-PP:NS-1000-BINS                          0.102770   \n",
       "KLD-PP:NS-W:SN-1000-BINS                     0.026336   \n",
       "VDNA-PP:NN-1000-BINS                        -0.012196   \n",
       "FID                                         -0.009736   \n",
       "SEMANTIC                                    -0.056338   \n",
       "FED                                         -0.035473   \n",
       "KLD-PP:NN                                   -0.049582   \n",
       "\n",
       "                          Augmentation<br>Policy-std  \\\n",
       "KLD-PP:NS-W:TS-100-BINS                     0.179908   \n",
       "KLD-PP:NS-1000-BINS                         0.176022   \n",
       "KLD-PP:NS-W:SN-1000-BINS                    0.176739   \n",
       "VDNA-PP:NN-1000-BINS                        0.190926   \n",
       "FID                                         0.172353   \n",
       "SEMANTIC                                    0.137762   \n",
       "FED                                         0.153865   \n",
       "KLD-PP:NN                                   0.149518   \n",
       "\n",
       "                          Co-Training<br>Data-mean  Co-Training<br>Data-std  \\\n",
       "KLD-PP:NS-W:TS-100-BINS                  -0.011202                 0.162172   \n",
       "KLD-PP:NS-1000-BINS                      -0.013545                 0.164635   \n",
       "KLD-PP:NS-W:SN-1000-BINS                  0.020983                 0.162898   \n",
       "VDNA-PP:NN-1000-BINS                     -0.009478                 0.141505   \n",
       "FID                                      -0.023091                 0.150118   \n",
       "SEMANTIC                                 -0.028704                 0.148805   \n",
       "FED                                      -0.027934                 0.159048   \n",
       "KLD-PP:NN                                -0.021013                 0.141721   \n",
       "\n",
       "                              mean  \n",
       "KLD-PP:NS-W:TS-100-BINS   0.066093  \n",
       "KLD-PP:NS-1000-BINS       0.064257  \n",
       "KLD-PP:NS-W:SN-1000-BINS  0.032839  \n",
       "VDNA-PP:NN-1000-BINS      0.022623  \n",
       "FID                       0.016338  \n",
       "SEMANTIC                  0.008814  \n",
       "FED                       0.003650  \n",
       "KLD-PP:NN                 0.003457  "
      ],
      "text/html": [
       "<div>\n",
       "<style scoped>\n",
       "    .dataframe tbody tr th:only-of-type {\n",
       "        vertical-align: middle;\n",
       "    }\n",
       "\n",
       "    .dataframe tbody tr th {\n",
       "        vertical-align: top;\n",
       "    }\n",
       "\n",
       "    .dataframe thead th {\n",
       "        text-align: right;\n",
       "    }\n",
       "</style>\n",
       "<table border=\"1\" class=\"dataframe\">\n",
       "  <thead>\n",
       "    <tr style=\"text-align: right;\">\n",
       "      <th></th>\n",
       "      <th>Model&lt;br&gt;Architecture-mean</th>\n",
       "      <th>Model&lt;br&gt;Architecture-std</th>\n",
       "      <th>Pretraining&lt;br&gt;Data-mean</th>\n",
       "      <th>Pretraining&lt;br&gt;Data-std</th>\n",
       "      <th>Augmentation&lt;br&gt;Policy-mean</th>\n",
       "      <th>Augmentation&lt;br&gt;Policy-std</th>\n",
       "      <th>Co-Training&lt;br&gt;Data-mean</th>\n",
       "      <th>Co-Training&lt;br&gt;Data-std</th>\n",
       "      <th>mean</th>\n",
       "    </tr>\n",
       "  </thead>\n",
       "  <tbody>\n",
       "    <tr>\n",
       "      <th>KLD-PP:NS-W:TS-100-BINS</th>\n",
       "      <td>0.069241</td>\n",
       "      <td>0.130738</td>\n",
       "      <td>0.101046</td>\n",
       "      <td>0.161720</td>\n",
       "      <td>0.105286</td>\n",
       "      <td>0.179908</td>\n",
       "      <td>-0.011202</td>\n",
       "      <td>0.162172</td>\n",
       "      <td>0.066093</td>\n",
       "    </tr>\n",
       "    <tr>\n",
       "      <th>KLD-PP:NS-1000-BINS</th>\n",
       "      <td>0.069807</td>\n",
       "      <td>0.128245</td>\n",
       "      <td>0.097995</td>\n",
       "      <td>0.163935</td>\n",
       "      <td>0.102770</td>\n",
       "      <td>0.176022</td>\n",
       "      <td>-0.013545</td>\n",
       "      <td>0.164635</td>\n",
       "      <td>0.064257</td>\n",
       "    </tr>\n",
       "    <tr>\n",
       "      <th>KLD-PP:NS-W:SN-1000-BINS</th>\n",
       "      <td>0.084286</td>\n",
       "      <td>0.142460</td>\n",
       "      <td>-0.000249</td>\n",
       "      <td>0.180443</td>\n",
       "      <td>0.026336</td>\n",
       "      <td>0.176739</td>\n",
       "      <td>0.020983</td>\n",
       "      <td>0.162898</td>\n",
       "      <td>0.032839</td>\n",
       "    </tr>\n",
       "    <tr>\n",
       "      <th>VDNA-PP:NN-1000-BINS</th>\n",
       "      <td>0.042119</td>\n",
       "      <td>0.141304</td>\n",
       "      <td>0.070049</td>\n",
       "      <td>0.157239</td>\n",
       "      <td>-0.012196</td>\n",
       "      <td>0.190926</td>\n",
       "      <td>-0.009478</td>\n",
       "      <td>0.141505</td>\n",
       "      <td>0.022623</td>\n",
       "    </tr>\n",
       "    <tr>\n",
       "      <th>FID</th>\n",
       "      <td>0.037082</td>\n",
       "      <td>0.139233</td>\n",
       "      <td>0.061096</td>\n",
       "      <td>0.158157</td>\n",
       "      <td>-0.009736</td>\n",
       "      <td>0.172353</td>\n",
       "      <td>-0.023091</td>\n",
       "      <td>0.150118</td>\n",
       "      <td>0.016338</td>\n",
       "    </tr>\n",
       "    <tr>\n",
       "      <th>SEMANTIC</th>\n",
       "      <td>0.043570</td>\n",
       "      <td>0.150731</td>\n",
       "      <td>0.076728</td>\n",
       "      <td>0.169545</td>\n",
       "      <td>-0.056338</td>\n",
       "      <td>0.137762</td>\n",
       "      <td>-0.028704</td>\n",
       "      <td>0.148805</td>\n",
       "      <td>0.008814</td>\n",
       "    </tr>\n",
       "    <tr>\n",
       "      <th>FED</th>\n",
       "      <td>0.022515</td>\n",
       "      <td>0.143864</td>\n",
       "      <td>0.055493</td>\n",
       "      <td>0.143864</td>\n",
       "      <td>-0.035473</td>\n",
       "      <td>0.153865</td>\n",
       "      <td>-0.027934</td>\n",
       "      <td>0.159048</td>\n",
       "      <td>0.003650</td>\n",
       "    </tr>\n",
       "    <tr>\n",
       "      <th>KLD-PP:NN</th>\n",
       "      <td>0.028600</td>\n",
       "      <td>0.136193</td>\n",
       "      <td>0.055824</td>\n",
       "      <td>0.155724</td>\n",
       "      <td>-0.049582</td>\n",
       "      <td>0.149518</td>\n",
       "      <td>-0.021013</td>\n",
       "      <td>0.141721</td>\n",
       "      <td>0.003457</td>\n",
       "    </tr>\n",
       "  </tbody>\n",
       "</table>\n",
       "</div>"
      ]
     },
     "execution_count": 45,
     "metadata": {},
     "output_type": "execute_result"
    }
   ],
   "execution_count": 45
  },
  {
   "metadata": {
    "ExecuteTime": {
     "end_time": "2024-10-10T19:40:19.159608Z",
     "start_time": "2024-10-10T19:40:19.109252Z"
    }
   },
   "cell_type": "code",
   "source": [
    "gain_df = get_absolute_meta_values(tripled_evaluations, 'gain')\n",
    "gain_df"
   ],
   "id": "6a0d8a590a0dd624",
   "outputs": [
    {
     "data": {
      "text/plain": [
       "                          Model<br>Architecture-mean  \\\n",
       "KLD-PP:NS-1000-BINS                         0.652455   \n",
       "KLD-PP:NS-W:TS-100-BINS                     0.647287   \n",
       "VDNA-PP:NN-1000-BINS                        0.642119   \n",
       "FID                                         0.647287   \n",
       "KLD-PP:NN                                   0.647287   \n",
       "KLD-PP:NS-W:SN-1000-BINS                    0.687339   \n",
       "FED                                         0.648579   \n",
       "SEMANTIC                                    0.651163   \n",
       "\n",
       "                          Model<br>Architecture-std  Pretraining<br>Data-mean  \\\n",
       "KLD-PP:NS-1000-BINS                        0.379165                  0.410853   \n",
       "KLD-PP:NS-W:TS-100-BINS                    0.378935                  0.413437   \n",
       "VDNA-PP:NN-1000-BINS                       0.374039                  0.422481   \n",
       "FID                                        0.375497                  0.403101   \n",
       "KLD-PP:NN                                  0.373187                  0.403101   \n",
       "KLD-PP:NS-W:SN-1000-BINS                   0.353482                  0.320413   \n",
       "FED                                        0.363273                  0.395349   \n",
       "SEMANTIC                                   0.384212                  0.399225   \n",
       "\n",
       "                          Pretraining<br>Data-std  \\\n",
       "KLD-PP:NS-1000-BINS                      0.382297   \n",
       "KLD-PP:NS-W:TS-100-BINS                  0.381761   \n",
       "VDNA-PP:NN-1000-BINS                     0.383708   \n",
       "FID                                      0.376973   \n",
       "KLD-PP:NN                                0.378118   \n",
       "KLD-PP:NS-W:SN-1000-BINS                 0.369393   \n",
       "FED                                      0.377187   \n",
       "SEMANTIC                                 0.377100   \n",
       "\n",
       "                          Augmentation<br>Policy-mean  \\\n",
       "KLD-PP:NS-1000-BINS                          0.611111   \n",
       "KLD-PP:NS-W:TS-100-BINS                      0.614987   \n",
       "VDNA-PP:NN-1000-BINS                         0.602067   \n",
       "FID                                          0.604651   \n",
       "KLD-PP:NN                                    0.599483   \n",
       "KLD-PP:NS-W:SN-1000-BINS                     0.618863   \n",
       "FED                                          0.585271   \n",
       "SEMANTIC                                     0.545220   \n",
       "\n",
       "                          Augmentation<br>Policy-std  \\\n",
       "KLD-PP:NS-1000-BINS                         0.396610   \n",
       "KLD-PP:NS-W:TS-100-BINS                     0.393307   \n",
       "VDNA-PP:NN-1000-BINS                        0.396870   \n",
       "FID                                         0.392906   \n",
       "KLD-PP:NN                                   0.400777   \n",
       "KLD-PP:NS-W:SN-1000-BINS                    0.400871   \n",
       "FED                                         0.400829   \n",
       "SEMANTIC                                    0.393281   \n",
       "\n",
       "                          Co-Training<br>Data-mean  Co-Training<br>Data-std  \\\n",
       "KLD-PP:NS-1000-BINS                       0.621447                 0.388024   \n",
       "KLD-PP:NS-W:TS-100-BINS                   0.616279                 0.391823   \n",
       "VDNA-PP:NN-1000-BINS                      0.617571                 0.380231   \n",
       "FID                                       0.618863                 0.377544   \n",
       "KLD-PP:NN                                 0.613695                 0.382544   \n",
       "KLD-PP:NS-W:SN-1000-BINS                  0.627907                 0.381428   \n",
       "FED                                       0.613695                 0.379138   \n",
       "SEMANTIC                                  0.627907                 0.382559   \n",
       "\n",
       "                              mean  \n",
       "KLD-PP:NS-1000-BINS       0.573966  \n",
       "KLD-PP:NS-W:TS-100-BINS   0.572997  \n",
       "VDNA-PP:NN-1000-BINS      0.571059  \n",
       "FID                       0.568475  \n",
       "KLD-PP:NN                 0.565891  \n",
       "KLD-PP:NS-W:SN-1000-BINS  0.563630  \n",
       "FED                       0.560724  \n",
       "SEMANTIC                  0.555879  "
      ],
      "text/html": [
       "<div>\n",
       "<style scoped>\n",
       "    .dataframe tbody tr th:only-of-type {\n",
       "        vertical-align: middle;\n",
       "    }\n",
       "\n",
       "    .dataframe tbody tr th {\n",
       "        vertical-align: top;\n",
       "    }\n",
       "\n",
       "    .dataframe thead th {\n",
       "        text-align: right;\n",
       "    }\n",
       "</style>\n",
       "<table border=\"1\" class=\"dataframe\">\n",
       "  <thead>\n",
       "    <tr style=\"text-align: right;\">\n",
       "      <th></th>\n",
       "      <th>Model&lt;br&gt;Architecture-mean</th>\n",
       "      <th>Model&lt;br&gt;Architecture-std</th>\n",
       "      <th>Pretraining&lt;br&gt;Data-mean</th>\n",
       "      <th>Pretraining&lt;br&gt;Data-std</th>\n",
       "      <th>Augmentation&lt;br&gt;Policy-mean</th>\n",
       "      <th>Augmentation&lt;br&gt;Policy-std</th>\n",
       "      <th>Co-Training&lt;br&gt;Data-mean</th>\n",
       "      <th>Co-Training&lt;br&gt;Data-std</th>\n",
       "      <th>mean</th>\n",
       "    </tr>\n",
       "  </thead>\n",
       "  <tbody>\n",
       "    <tr>\n",
       "      <th>KLD-PP:NS-1000-BINS</th>\n",
       "      <td>0.652455</td>\n",
       "      <td>0.379165</td>\n",
       "      <td>0.410853</td>\n",
       "      <td>0.382297</td>\n",
       "      <td>0.611111</td>\n",
       "      <td>0.396610</td>\n",
       "      <td>0.621447</td>\n",
       "      <td>0.388024</td>\n",
       "      <td>0.573966</td>\n",
       "    </tr>\n",
       "    <tr>\n",
       "      <th>KLD-PP:NS-W:TS-100-BINS</th>\n",
       "      <td>0.647287</td>\n",
       "      <td>0.378935</td>\n",
       "      <td>0.413437</td>\n",
       "      <td>0.381761</td>\n",
       "      <td>0.614987</td>\n",
       "      <td>0.393307</td>\n",
       "      <td>0.616279</td>\n",
       "      <td>0.391823</td>\n",
       "      <td>0.572997</td>\n",
       "    </tr>\n",
       "    <tr>\n",
       "      <th>VDNA-PP:NN-1000-BINS</th>\n",
       "      <td>0.642119</td>\n",
       "      <td>0.374039</td>\n",
       "      <td>0.422481</td>\n",
       "      <td>0.383708</td>\n",
       "      <td>0.602067</td>\n",
       "      <td>0.396870</td>\n",
       "      <td>0.617571</td>\n",
       "      <td>0.380231</td>\n",
       "      <td>0.571059</td>\n",
       "    </tr>\n",
       "    <tr>\n",
       "      <th>FID</th>\n",
       "      <td>0.647287</td>\n",
       "      <td>0.375497</td>\n",
       "      <td>0.403101</td>\n",
       "      <td>0.376973</td>\n",
       "      <td>0.604651</td>\n",
       "      <td>0.392906</td>\n",
       "      <td>0.618863</td>\n",
       "      <td>0.377544</td>\n",
       "      <td>0.568475</td>\n",
       "    </tr>\n",
       "    <tr>\n",
       "      <th>KLD-PP:NN</th>\n",
       "      <td>0.647287</td>\n",
       "      <td>0.373187</td>\n",
       "      <td>0.403101</td>\n",
       "      <td>0.378118</td>\n",
       "      <td>0.599483</td>\n",
       "      <td>0.400777</td>\n",
       "      <td>0.613695</td>\n",
       "      <td>0.382544</td>\n",
       "      <td>0.565891</td>\n",
       "    </tr>\n",
       "    <tr>\n",
       "      <th>KLD-PP:NS-W:SN-1000-BINS</th>\n",
       "      <td>0.687339</td>\n",
       "      <td>0.353482</td>\n",
       "      <td>0.320413</td>\n",
       "      <td>0.369393</td>\n",
       "      <td>0.618863</td>\n",
       "      <td>0.400871</td>\n",
       "      <td>0.627907</td>\n",
       "      <td>0.381428</td>\n",
       "      <td>0.563630</td>\n",
       "    </tr>\n",
       "    <tr>\n",
       "      <th>FED</th>\n",
       "      <td>0.648579</td>\n",
       "      <td>0.363273</td>\n",
       "      <td>0.395349</td>\n",
       "      <td>0.377187</td>\n",
       "      <td>0.585271</td>\n",
       "      <td>0.400829</td>\n",
       "      <td>0.613695</td>\n",
       "      <td>0.379138</td>\n",
       "      <td>0.560724</td>\n",
       "    </tr>\n",
       "    <tr>\n",
       "      <th>SEMANTIC</th>\n",
       "      <td>0.651163</td>\n",
       "      <td>0.384212</td>\n",
       "      <td>0.399225</td>\n",
       "      <td>0.377100</td>\n",
       "      <td>0.545220</td>\n",
       "      <td>0.393281</td>\n",
       "      <td>0.627907</td>\n",
       "      <td>0.382559</td>\n",
       "      <td>0.555879</td>\n",
       "    </tr>\n",
       "  </tbody>\n",
       "</table>\n",
       "</div>"
      ]
     },
     "execution_count": 46,
     "metadata": {},
     "output_type": "execute_result"
    }
   ],
   "execution_count": 46
  },
  {
   "metadata": {
    "ExecuteTime": {
     "end_time": "2024-10-10T19:41:37.502187Z",
     "start_time": "2024-10-10T19:41:37.494444Z"
    }
   },
   "cell_type": "code",
   "source": [
    "# create a spider plot from absolute values\n",
    "def get_spider_plot(distances_names: List[str], meta_names: Tuple[str] = ('gain', 'regret', 'rank')):\n",
    "    spider_rows = []\n",
    "    for exp in EXPERIMENTS:\n",
    "        for dist in distances_names:\n",
    "            for meta in meta_names:\n",
    "                meta_df = {'weightedtau': weightedtau_df, 'gain': gain_df, 'regret': aligned_regret_df, 'rank': rank_df}[meta]\n",
    "                spider_rows.append({'distance': dist, 'meta': meta, 'theta': exp + '-' + meta if len(meta_names) > 1 else exp, 'exp': exp, 'score': meta_df.at[dist, f'{exp}-mean']})\n",
    "    spider_df = pd.DataFrame(spider_rows).sort_values(by='theta').replace(map_dist2printable)\n",
    "    fig = px.line_polar(spider_df.replace(map_dist2printable), r='score', theta='theta', color='distance', template='plotly', color_discrete_map=color_map, symbol='distance', line_dash='distance', line_dash_map=dash_map, symbol_map=symbol_map, category_orders={'theta': spider_df['theta'].sort_values().unique().tolist(), 'distance': [map_dist2printable[d] for d in comp_distances]}, markers=True, labels={'distance': 'Task selector'}, line_close=True, log_r='weightedtau' not in meta_names, width=1200, height=500)\n",
    "    fig.update_layout(font_size=20)\n",
    "    fig.update_polars(radialaxis_nticks=5) \n",
    "    fig.update_traces(line_width=3)\n",
    "    return fig"
   ],
   "id": "8e14c6702f7d640b",
   "outputs": [],
   "execution_count": 51
  },
  {
   "metadata": {
    "ExecuteTime": {
     "end_time": "2024-10-10T19:42:15.356583Z",
     "start_time": "2024-10-10T19:42:15.295613Z"
    }
   },
   "cell_type": "code",
   "source": "get_spider_plot(comp_distances)",
   "id": "b2614fbf0a171d0a",
   "outputs": [
    {
     "data": {
      "application/vnd.plotly.v1+json": {
       "data": [
        {
         "hovertemplate": "Task selector=Manual<br>score=%{r}<br>theta=%{theta}<extra></extra>",
         "legendgroup": "Manual",
         "line": {
          "color": "rgb(230, 25, 75)",
          "dash": "solid",
          "width": 3
         },
         "marker": {
          "symbol": "circle"
         },
         "mode": "lines+markers",
         "name": "Manual",
         "r": [
          0.545219638242894,
          0.5012883344897571,
          0.7283358342523663,
          0.627906976744186,
          0.5056391700790431,
          0.7448267054595336,
          0.6511627906976745,
          0.5122133612545383,
          0.7907045661636425,
          0.3992248062015504,
          0.5900378722682688,
          0.7329224643765541,
          0.545219638242894
         ],
         "showlegend": true,
         "subplot": "polar",
         "theta": [
          "Augmentation<br>Policy-gain",
          "Augmentation<br>Policy-rank",
          "Augmentation<br>Policy-regret",
          "Co-Training<br>Data-gain",
          "Co-Training<br>Data-rank",
          "Co-Training<br>Data-regret",
          "Model<br>Architecture-gain",
          "Model<br>Architecture-rank",
          "Model<br>Architecture-regret",
          "Pretraining<br>Data-gain",
          "Pretraining<br>Data-rank",
          "Pretraining<br>Data-regret",
          "Augmentation<br>Policy-gain"
         ],
         "type": "scatterpolar"
        },
        {
         "hovertemplate": "Task selector=VDNA<br>score=%{r}<br>theta=%{theta}<extra></extra>",
         "legendgroup": "VDNA",
         "line": {
          "color": "rgb(67, 99, 216)",
          "dash": "solid",
          "width": 3
         },
         "marker": {
          "symbol": "circle"
         },
         "mode": "lines+markers",
         "name": "VDNA",
         "r": [
          0.6020671834625322,
          0.5472842935222211,
          0.7474619519906548,
          0.6175710594315246,
          0.4955220869380068,
          0.7418890595535332,
          0.6421188630490957,
          0.4810512182413441,
          0.7778390226295728,
          0.42248062015503873,
          0.6193226786720737,
          0.7469198095073715,
          0.6020671834625322
         ],
         "showlegend": true,
         "subplot": "polar",
         "theta": [
          "Augmentation<br>Policy-gain",
          "Augmentation<br>Policy-rank",
          "Augmentation<br>Policy-regret",
          "Co-Training<br>Data-gain",
          "Co-Training<br>Data-rank",
          "Co-Training<br>Data-regret",
          "Model<br>Architecture-gain",
          "Model<br>Architecture-rank",
          "Model<br>Architecture-regret",
          "Pretraining<br>Data-gain",
          "Pretraining<br>Data-rank",
          "Pretraining<br>Data-regret",
          "Augmentation<br>Policy-gain"
         ],
         "type": "scatterpolar"
        },
        {
         "hovertemplate": "Task selector=FED<br>score=%{r}<br>theta=%{theta}<extra></extra>",
         "legendgroup": "FED",
         "line": {
          "color": "rgb(245, 130, 49)",
          "dash": "solid",
          "width": 3
         },
         "marker": {
          "symbol": "circle"
         },
         "mode": "lines+markers",
         "name": "FED",
         "r": [
          0.5852713178294574,
          0.5256180665833398,
          0.7374104154890838,
          0.6136950904392765,
          0.499252068234147,
          0.7416170013813828,
          0.6485788113695091,
          0.49601629266912906,
          0.7828960428364741,
          0.3953488372093023,
          0.6113112337921445,
          0.7446127487332568,
          0.5852713178294574
         ],
         "showlegend": true,
         "subplot": "polar",
         "theta": [
          "Augmentation<br>Policy-gain",
          "Augmentation<br>Policy-rank",
          "Augmentation<br>Policy-regret",
          "Co-Training<br>Data-gain",
          "Co-Training<br>Data-rank",
          "Co-Training<br>Data-regret",
          "Model<br>Architecture-gain",
          "Model<br>Architecture-rank",
          "Model<br>Architecture-regret",
          "Pretraining<br>Data-gain",
          "Pretraining<br>Data-rank",
          "Pretraining<br>Data-regret",
          "Augmentation<br>Policy-gain"
         ],
         "type": "scatterpolar"
        },
        {
         "hovertemplate": "Task selector=FID<br>score=%{r}<br>theta=%{theta}<extra></extra>",
         "legendgroup": "FID",
         "line": {
          "color": "rgb(145, 30, 180)",
          "dash": "solid",
          "width": 3
         },
         "marker": {
          "symbol": "circle"
         },
         "mode": "lines+markers",
         "name": "FID",
         "r": [
          0.6046511627906976,
          0.5563550375220122,
          0.7541733338753062,
          0.6188630490956072,
          0.5092731927770803,
          0.744538371905874,
          0.6472868217054264,
          0.4861354420444061,
          0.7789491170700539,
          0.40310077519379844,
          0.6085895720383709,
          0.7472986122078908,
          0.6046511627906976
         ],
         "showlegend": true,
         "subplot": "polar",
         "theta": [
          "Augmentation<br>Policy-gain",
          "Augmentation<br>Policy-rank",
          "Augmentation<br>Policy-regret",
          "Co-Training<br>Data-gain",
          "Co-Training<br>Data-rank",
          "Co-Training<br>Data-regret",
          "Model<br>Architecture-gain",
          "Model<br>Architecture-rank",
          "Model<br>Architecture-regret",
          "Pretraining<br>Data-gain",
          "Pretraining<br>Data-rank",
          "Pretraining<br>Data-regret",
          "Augmentation<br>Policy-gain"
         ],
         "type": "scatterpolar"
        },
        {
         "hovertemplate": "Task selector=P2L (w/o samples)<br>score=%{r}<br>theta=%{theta}<extra></extra>",
         "legendgroup": "P2L (w/o samples)",
         "line": {
          "color": "rgb(70, 240, 240)",
          "dash": "solid",
          "width": 3
         },
         "marker": {
          "symbol": "circle"
         },
         "mode": "lines+markers",
         "name": "P2L (w/o samples)",
         "r": [
          0.5994832041343668,
          0.5475161073780369,
          0.7490440346063878,
          0.6136950904392764,
          0.5065886689025701,
          0.7418384368898412,
          0.6472868217054264,
          0.48839210130831756,
          0.7778004772564936,
          0.4031007751937985,
          0.6135756469897539,
          0.7454785211673459,
          0.5994832041343668
         ],
         "showlegend": true,
         "subplot": "polar",
         "theta": [
          "Augmentation<br>Policy-gain",
          "Augmentation<br>Policy-rank",
          "Augmentation<br>Policy-regret",
          "Co-Training<br>Data-gain",
          "Co-Training<br>Data-rank",
          "Co-Training<br>Data-regret",
          "Model<br>Architecture-gain",
          "Model<br>Architecture-rank",
          "Model<br>Architecture-regret",
          "Pretraining<br>Data-gain",
          "Pretraining<br>Data-rank",
          "Pretraining<br>Data-regret",
          "Augmentation<br>Policy-gain"
         ],
         "type": "scatterpolar"
        },
        {
         "hovertemplate": "Task selector=bKLD(small,target)<br>score=%{r}<br>theta=%{theta}<extra></extra>",
         "legendgroup": "bKLD(small,target)",
         "line": {
          "color": "rgb(60, 180, 75)",
          "dash": "solid",
          "width": 3
         },
         "marker": {
          "symbol": "circle"
         },
         "mode": "lines+markers",
         "name": "bKLD(small,target)",
         "r": [
          0.6149870801033591,
          0.5627845134783526,
          0.7559736232529061,
          0.6162790697674418,
          0.5118411460231829,
          0.7494813543039633,
          0.6472868217054264,
          0.48770288502515413,
          0.7753032371533293,
          0.4134366925064599,
          0.6314750423707575,
          0.7515288212516924,
          0.6149870801033591
         ],
         "showlegend": true,
         "subplot": "polar",
         "theta": [
          "Augmentation<br>Policy-gain",
          "Augmentation<br>Policy-rank",
          "Augmentation<br>Policy-regret",
          "Co-Training<br>Data-gain",
          "Co-Training<br>Data-rank",
          "Co-Training<br>Data-regret",
          "Model<br>Architecture-gain",
          "Model<br>Architecture-rank",
          "Model<br>Architecture-regret",
          "Pretraining<br>Data-gain",
          "Pretraining<br>Data-rank",
          "Pretraining<br>Data-regret",
          "Augmentation<br>Policy-gain"
         ],
         "type": "scatterpolar"
        },
        {
         "hovertemplate": "Task selector=bKLD(large,source)<br>score=%{r}<br>theta=%{theta}<extra></extra>",
         "legendgroup": "bKLD(large,source)",
         "line": {
          "color": "rgb(60, 180, 75)",
          "dash": "dash",
          "width": 3
         },
         "marker": {
          "symbol": "hexagon"
         },
         "mode": "lines+markers",
         "name": "bKLD(large,source)",
         "r": [
          0.6188630490956072,
          0.5229812842831916,
          0.7485128862704806,
          0.627906976744186,
          0.5188130724060432,
          0.7419197749038966,
          0.6873385012919896,
          0.5294494443774455,
          0.7981210009857742,
          0.32041343669250644,
          0.5120743409462423,
          0.7186574502823684,
          0.6188630490956072
         ],
         "showlegend": true,
         "subplot": "polar",
         "theta": [
          "Augmentation<br>Policy-gain",
          "Augmentation<br>Policy-rank",
          "Augmentation<br>Policy-regret",
          "Co-Training<br>Data-gain",
          "Co-Training<br>Data-rank",
          "Co-Training<br>Data-regret",
          "Model<br>Architecture-gain",
          "Model<br>Architecture-rank",
          "Model<br>Architecture-regret",
          "Pretraining<br>Data-gain",
          "Pretraining<br>Data-rank",
          "Pretraining<br>Data-regret",
          "Augmentation<br>Policy-gain"
         ],
         "type": "scatterpolar"
        },
        {
         "hovertemplate": "Task selector=bKLD(large,unweighted)<br>score=%{r}<br>theta=%{theta}<extra></extra>",
         "legendgroup": "bKLD(large,unweighted)",
         "line": {
          "color": "rgb(60, 180, 75)",
          "dash": "dot",
          "width": 3
         },
         "marker": {
          "symbol": "hexagram"
         },
         "mode": "lines+markers",
         "name": "bKLD(large,unweighted)",
         "r": [
          0.611111111111111,
          0.5582533211564626,
          0.7542295249174863,
          0.6214470284237726,
          0.5167414782490966,
          0.7515641219882478,
          0.6524547803617572,
          0.4902684073581184,
          0.7770567720513812,
          0.4108527131782945,
          0.6260579142792106,
          0.7491636785663988,
          0.611111111111111
         ],
         "showlegend": true,
         "subplot": "polar",
         "theta": [
          "Augmentation<br>Policy-gain",
          "Augmentation<br>Policy-rank",
          "Augmentation<br>Policy-regret",
          "Co-Training<br>Data-gain",
          "Co-Training<br>Data-rank",
          "Co-Training<br>Data-regret",
          "Model<br>Architecture-gain",
          "Model<br>Architecture-rank",
          "Model<br>Architecture-regret",
          "Pretraining<br>Data-gain",
          "Pretraining<br>Data-rank",
          "Pretraining<br>Data-regret",
          "Augmentation<br>Policy-gain"
         ],
         "type": "scatterpolar"
        }
       ],
       "layout": {
        "template": {
         "data": {
          "barpolar": [
           {
            "marker": {
             "line": {
              "color": "#E5ECF6",
              "width": 0.5
             },
             "pattern": {
              "fillmode": "overlay",
              "size": 10,
              "solidity": 0.2
             }
            },
            "type": "barpolar"
           }
          ],
          "bar": [
           {
            "error_x": {
             "color": "#2a3f5f"
            },
            "error_y": {
             "color": "#2a3f5f"
            },
            "marker": {
             "line": {
              "color": "#E5ECF6",
              "width": 0.5
             },
             "pattern": {
              "fillmode": "overlay",
              "size": 10,
              "solidity": 0.2
             }
            },
            "type": "bar"
           }
          ],
          "carpet": [
           {
            "aaxis": {
             "endlinecolor": "#2a3f5f",
             "gridcolor": "white",
             "linecolor": "white",
             "minorgridcolor": "white",
             "startlinecolor": "#2a3f5f"
            },
            "baxis": {
             "endlinecolor": "#2a3f5f",
             "gridcolor": "white",
             "linecolor": "white",
             "minorgridcolor": "white",
             "startlinecolor": "#2a3f5f"
            },
            "type": "carpet"
           }
          ],
          "choropleth": [
           {
            "colorbar": {
             "outlinewidth": 0,
             "ticks": ""
            },
            "type": "choropleth"
           }
          ],
          "contourcarpet": [
           {
            "colorbar": {
             "outlinewidth": 0,
             "ticks": ""
            },
            "type": "contourcarpet"
           }
          ],
          "contour": [
           {
            "colorbar": {
             "outlinewidth": 0,
             "ticks": ""
            },
            "colorscale": [
             [
              0.0,
              "#0d0887"
             ],
             [
              0.1111111111111111,
              "#46039f"
             ],
             [
              0.2222222222222222,
              "#7201a8"
             ],
             [
              0.3333333333333333,
              "#9c179e"
             ],
             [
              0.4444444444444444,
              "#bd3786"
             ],
             [
              0.5555555555555556,
              "#d8576b"
             ],
             [
              0.6666666666666666,
              "#ed7953"
             ],
             [
              0.7777777777777778,
              "#fb9f3a"
             ],
             [
              0.8888888888888888,
              "#fdca26"
             ],
             [
              1.0,
              "#f0f921"
             ]
            ],
            "type": "contour"
           }
          ],
          "heatmapgl": [
           {
            "colorbar": {
             "outlinewidth": 0,
             "ticks": ""
            },
            "colorscale": [
             [
              0.0,
              "#0d0887"
             ],
             [
              0.1111111111111111,
              "#46039f"
             ],
             [
              0.2222222222222222,
              "#7201a8"
             ],
             [
              0.3333333333333333,
              "#9c179e"
             ],
             [
              0.4444444444444444,
              "#bd3786"
             ],
             [
              0.5555555555555556,
              "#d8576b"
             ],
             [
              0.6666666666666666,
              "#ed7953"
             ],
             [
              0.7777777777777778,
              "#fb9f3a"
             ],
             [
              0.8888888888888888,
              "#fdca26"
             ],
             [
              1.0,
              "#f0f921"
             ]
            ],
            "type": "heatmapgl"
           }
          ],
          "heatmap": [
           {
            "colorbar": {
             "outlinewidth": 0,
             "ticks": ""
            },
            "colorscale": [
             [
              0.0,
              "#0d0887"
             ],
             [
              0.1111111111111111,
              "#46039f"
             ],
             [
              0.2222222222222222,
              "#7201a8"
             ],
             [
              0.3333333333333333,
              "#9c179e"
             ],
             [
              0.4444444444444444,
              "#bd3786"
             ],
             [
              0.5555555555555556,
              "#d8576b"
             ],
             [
              0.6666666666666666,
              "#ed7953"
             ],
             [
              0.7777777777777778,
              "#fb9f3a"
             ],
             [
              0.8888888888888888,
              "#fdca26"
             ],
             [
              1.0,
              "#f0f921"
             ]
            ],
            "type": "heatmap"
           }
          ],
          "histogram2dcontour": [
           {
            "colorbar": {
             "outlinewidth": 0,
             "ticks": ""
            },
            "colorscale": [
             [
              0.0,
              "#0d0887"
             ],
             [
              0.1111111111111111,
              "#46039f"
             ],
             [
              0.2222222222222222,
              "#7201a8"
             ],
             [
              0.3333333333333333,
              "#9c179e"
             ],
             [
              0.4444444444444444,
              "#bd3786"
             ],
             [
              0.5555555555555556,
              "#d8576b"
             ],
             [
              0.6666666666666666,
              "#ed7953"
             ],
             [
              0.7777777777777778,
              "#fb9f3a"
             ],
             [
              0.8888888888888888,
              "#fdca26"
             ],
             [
              1.0,
              "#f0f921"
             ]
            ],
            "type": "histogram2dcontour"
           }
          ],
          "histogram2d": [
           {
            "colorbar": {
             "outlinewidth": 0,
             "ticks": ""
            },
            "colorscale": [
             [
              0.0,
              "#0d0887"
             ],
             [
              0.1111111111111111,
              "#46039f"
             ],
             [
              0.2222222222222222,
              "#7201a8"
             ],
             [
              0.3333333333333333,
              "#9c179e"
             ],
             [
              0.4444444444444444,
              "#bd3786"
             ],
             [
              0.5555555555555556,
              "#d8576b"
             ],
             [
              0.6666666666666666,
              "#ed7953"
             ],
             [
              0.7777777777777778,
              "#fb9f3a"
             ],
             [
              0.8888888888888888,
              "#fdca26"
             ],
             [
              1.0,
              "#f0f921"
             ]
            ],
            "type": "histogram2d"
           }
          ],
          "histogram": [
           {
            "marker": {
             "pattern": {
              "fillmode": "overlay",
              "size": 10,
              "solidity": 0.2
             }
            },
            "type": "histogram"
           }
          ],
          "mesh3d": [
           {
            "colorbar": {
             "outlinewidth": 0,
             "ticks": ""
            },
            "type": "mesh3d"
           }
          ],
          "parcoords": [
           {
            "line": {
             "colorbar": {
              "outlinewidth": 0,
              "ticks": ""
             }
            },
            "type": "parcoords"
           }
          ],
          "pie": [
           {
            "automargin": true,
            "type": "pie"
           }
          ],
          "scatter3d": [
           {
            "line": {
             "colorbar": {
              "outlinewidth": 0,
              "ticks": ""
             }
            },
            "marker": {
             "colorbar": {
              "outlinewidth": 0,
              "ticks": ""
             }
            },
            "type": "scatter3d"
           }
          ],
          "scattercarpet": [
           {
            "marker": {
             "colorbar": {
              "outlinewidth": 0,
              "ticks": ""
             }
            },
            "type": "scattercarpet"
           }
          ],
          "scattergeo": [
           {
            "marker": {
             "colorbar": {
              "outlinewidth": 0,
              "ticks": ""
             }
            },
            "type": "scattergeo"
           }
          ],
          "scattergl": [
           {
            "marker": {
             "colorbar": {
              "outlinewidth": 0,
              "ticks": ""
             }
            },
            "type": "scattergl"
           }
          ],
          "scattermapbox": [
           {
            "marker": {
             "colorbar": {
              "outlinewidth": 0,
              "ticks": ""
             }
            },
            "type": "scattermapbox"
           }
          ],
          "scatterpolargl": [
           {
            "marker": {
             "colorbar": {
              "outlinewidth": 0,
              "ticks": ""
             }
            },
            "type": "scatterpolargl"
           }
          ],
          "scatterpolar": [
           {
            "marker": {
             "colorbar": {
              "outlinewidth": 0,
              "ticks": ""
             }
            },
            "type": "scatterpolar"
           }
          ],
          "scatter": [
           {
            "fillpattern": {
             "fillmode": "overlay",
             "size": 10,
             "solidity": 0.2
            },
            "type": "scatter"
           }
          ],
          "scatterternary": [
           {
            "marker": {
             "colorbar": {
              "outlinewidth": 0,
              "ticks": ""
             }
            },
            "type": "scatterternary"
           }
          ],
          "surface": [
           {
            "colorbar": {
             "outlinewidth": 0,
             "ticks": ""
            },
            "colorscale": [
             [
              0.0,
              "#0d0887"
             ],
             [
              0.1111111111111111,
              "#46039f"
             ],
             [
              0.2222222222222222,
              "#7201a8"
             ],
             [
              0.3333333333333333,
              "#9c179e"
             ],
             [
              0.4444444444444444,
              "#bd3786"
             ],
             [
              0.5555555555555556,
              "#d8576b"
             ],
             [
              0.6666666666666666,
              "#ed7953"
             ],
             [
              0.7777777777777778,
              "#fb9f3a"
             ],
             [
              0.8888888888888888,
              "#fdca26"
             ],
             [
              1.0,
              "#f0f921"
             ]
            ],
            "type": "surface"
           }
          ],
          "table": [
           {
            "cells": {
             "fill": {
              "color": "#EBF0F8"
             },
             "line": {
              "color": "white"
             }
            },
            "header": {
             "fill": {
              "color": "#C8D4E3"
             },
             "line": {
              "color": "white"
             }
            },
            "type": "table"
           }
          ]
         },
         "layout": {
          "annotationdefaults": {
           "arrowcolor": "#2a3f5f",
           "arrowhead": 0,
           "arrowwidth": 1
          },
          "autotypenumbers": "strict",
          "coloraxis": {
           "colorbar": {
            "outlinewidth": 0,
            "ticks": ""
           }
          },
          "colorscale": {
           "diverging": [
            [
             0,
             "#8e0152"
            ],
            [
             0.1,
             "#c51b7d"
            ],
            [
             0.2,
             "#de77ae"
            ],
            [
             0.3,
             "#f1b6da"
            ],
            [
             0.4,
             "#fde0ef"
            ],
            [
             0.5,
             "#f7f7f7"
            ],
            [
             0.6,
             "#e6f5d0"
            ],
            [
             0.7,
             "#b8e186"
            ],
            [
             0.8,
             "#7fbc41"
            ],
            [
             0.9,
             "#4d9221"
            ],
            [
             1,
             "#276419"
            ]
           ],
           "sequential": [
            [
             0.0,
             "#0d0887"
            ],
            [
             0.1111111111111111,
             "#46039f"
            ],
            [
             0.2222222222222222,
             "#7201a8"
            ],
            [
             0.3333333333333333,
             "#9c179e"
            ],
            [
             0.4444444444444444,
             "#bd3786"
            ],
            [
             0.5555555555555556,
             "#d8576b"
            ],
            [
             0.6666666666666666,
             "#ed7953"
            ],
            [
             0.7777777777777778,
             "#fb9f3a"
            ],
            [
             0.8888888888888888,
             "#fdca26"
            ],
            [
             1.0,
             "#f0f921"
            ]
           ],
           "sequentialminus": [
            [
             0.0,
             "#0d0887"
            ],
            [
             0.1111111111111111,
             "#46039f"
            ],
            [
             0.2222222222222222,
             "#7201a8"
            ],
            [
             0.3333333333333333,
             "#9c179e"
            ],
            [
             0.4444444444444444,
             "#bd3786"
            ],
            [
             0.5555555555555556,
             "#d8576b"
            ],
            [
             0.6666666666666666,
             "#ed7953"
            ],
            [
             0.7777777777777778,
             "#fb9f3a"
            ],
            [
             0.8888888888888888,
             "#fdca26"
            ],
            [
             1.0,
             "#f0f921"
            ]
           ]
          },
          "colorway": [
           "#636efa",
           "#EF553B",
           "#00cc96",
           "#ab63fa",
           "#FFA15A",
           "#19d3f3",
           "#FF6692",
           "#B6E880",
           "#FF97FF",
           "#FECB52"
          ],
          "font": {
           "color": "#2a3f5f"
          },
          "geo": {
           "bgcolor": "white",
           "lakecolor": "white",
           "landcolor": "#E5ECF6",
           "showlakes": true,
           "showland": true,
           "subunitcolor": "white"
          },
          "hoverlabel": {
           "align": "left"
          },
          "hovermode": "closest",
          "mapbox": {
           "style": "light"
          },
          "paper_bgcolor": "white",
          "plot_bgcolor": "#E5ECF6",
          "polar": {
           "angularaxis": {
            "gridcolor": "white",
            "linecolor": "white",
            "ticks": ""
           },
           "bgcolor": "#E5ECF6",
           "radialaxis": {
            "gridcolor": "white",
            "linecolor": "white",
            "ticks": ""
           }
          },
          "scene": {
           "xaxis": {
            "backgroundcolor": "#E5ECF6",
            "gridcolor": "white",
            "gridwidth": 2,
            "linecolor": "white",
            "showbackground": true,
            "ticks": "",
            "zerolinecolor": "white"
           },
           "yaxis": {
            "backgroundcolor": "#E5ECF6",
            "gridcolor": "white",
            "gridwidth": 2,
            "linecolor": "white",
            "showbackground": true,
            "ticks": "",
            "zerolinecolor": "white"
           },
           "zaxis": {
            "backgroundcolor": "#E5ECF6",
            "gridcolor": "white",
            "gridwidth": 2,
            "linecolor": "white",
            "showbackground": true,
            "ticks": "",
            "zerolinecolor": "white"
           }
          },
          "shapedefaults": {
           "line": {
            "color": "#2a3f5f"
           }
          },
          "ternary": {
           "aaxis": {
            "gridcolor": "white",
            "linecolor": "white",
            "ticks": ""
           },
           "baxis": {
            "gridcolor": "white",
            "linecolor": "white",
            "ticks": ""
           },
           "bgcolor": "#E5ECF6",
           "caxis": {
            "gridcolor": "white",
            "linecolor": "white",
            "ticks": ""
           }
          },
          "title": {
           "x": 0.05
          },
          "xaxis": {
           "automargin": true,
           "gridcolor": "white",
           "linecolor": "white",
           "ticks": "",
           "title": {
            "standoff": 15
           },
           "zerolinecolor": "white",
           "zerolinewidth": 2
          },
          "yaxis": {
           "automargin": true,
           "gridcolor": "white",
           "linecolor": "white",
           "ticks": "",
           "title": {
            "standoff": 15
           },
           "zerolinecolor": "white",
           "zerolinewidth": 2
          }
         }
        },
        "polar": {
         "domain": {
          "x": [
           0.0,
           1.0
          ],
          "y": [
           0.0,
           1.0
          ]
         },
         "angularaxis": {
          "direction": "clockwise",
          "rotation": 90,
          "categoryorder": "array",
          "categoryarray": [
           "Augmentation<br>Policy-gain",
           "Augmentation<br>Policy-rank",
           "Augmentation<br>Policy-regret",
           "Co-Training<br>Data-gain",
           "Co-Training<br>Data-rank",
           "Co-Training<br>Data-regret",
           "Model<br>Architecture-gain",
           "Model<br>Architecture-rank",
           "Model<br>Architecture-regret",
           "Pretraining<br>Data-gain",
           "Pretraining<br>Data-rank",
           "Pretraining<br>Data-regret"
          ]
         },
         "radialaxis": {
          "type": "log",
          "nticks": 5
         }
        },
        "legend": {
         "title": {
          "text": "Task selector"
         },
         "tracegroupgap": 0
        },
        "margin": {
         "t": 60
        },
        "height": 500,
        "width": 1200,
        "font": {
         "size": 20
        }
       },
       "config": {
        "plotlyServerURL": "https://plot.ly"
       }
      },
      "text/html": [
       "<div>                            <div id=\"9b6b2dea-ee2b-4697-aacd-d4dca3eda1fb\" class=\"plotly-graph-div\" style=\"height:500px; width:1200px;\"></div>            <script type=\"text/javascript\">                require([\"plotly\"], function(Plotly) {                    window.PLOTLYENV=window.PLOTLYENV || {};                                    if (document.getElementById(\"9b6b2dea-ee2b-4697-aacd-d4dca3eda1fb\")) {                    Plotly.newPlot(                        \"9b6b2dea-ee2b-4697-aacd-d4dca3eda1fb\",                        [{\"hovertemplate\":\"Task selector=Manual\\u003cbr\\u003escore=%{r}\\u003cbr\\u003etheta=%{theta}\\u003cextra\\u003e\\u003c\\u002fextra\\u003e\",\"legendgroup\":\"Manual\",\"line\":{\"color\":\"rgb(230, 25, 75)\",\"dash\":\"solid\",\"width\":3},\"marker\":{\"symbol\":\"circle\"},\"mode\":\"lines+markers\",\"name\":\"Manual\",\"r\":[0.545219638242894,0.5012883344897571,0.7283358342523663,0.627906976744186,0.5056391700790431,0.7448267054595336,0.6511627906976745,0.5122133612545383,0.7907045661636425,0.3992248062015504,0.5900378722682688,0.7329224643765541,0.545219638242894],\"showlegend\":true,\"subplot\":\"polar\",\"theta\":[\"Augmentation\\u003cbr\\u003ePolicy-gain\",\"Augmentation\\u003cbr\\u003ePolicy-rank\",\"Augmentation\\u003cbr\\u003ePolicy-regret\",\"Co-Training\\u003cbr\\u003eData-gain\",\"Co-Training\\u003cbr\\u003eData-rank\",\"Co-Training\\u003cbr\\u003eData-regret\",\"Model\\u003cbr\\u003eArchitecture-gain\",\"Model\\u003cbr\\u003eArchitecture-rank\",\"Model\\u003cbr\\u003eArchitecture-regret\",\"Pretraining\\u003cbr\\u003eData-gain\",\"Pretraining\\u003cbr\\u003eData-rank\",\"Pretraining\\u003cbr\\u003eData-regret\",\"Augmentation\\u003cbr\\u003ePolicy-gain\"],\"type\":\"scatterpolar\"},{\"hovertemplate\":\"Task selector=VDNA\\u003cbr\\u003escore=%{r}\\u003cbr\\u003etheta=%{theta}\\u003cextra\\u003e\\u003c\\u002fextra\\u003e\",\"legendgroup\":\"VDNA\",\"line\":{\"color\":\"rgb(67, 99, 216)\",\"dash\":\"solid\",\"width\":3},\"marker\":{\"symbol\":\"circle\"},\"mode\":\"lines+markers\",\"name\":\"VDNA\",\"r\":[0.6020671834625322,0.5472842935222211,0.7474619519906548,0.6175710594315246,0.4955220869380068,0.7418890595535332,0.6421188630490957,0.4810512182413441,0.7778390226295728,0.42248062015503873,0.6193226786720737,0.7469198095073715,0.6020671834625322],\"showlegend\":true,\"subplot\":\"polar\",\"theta\":[\"Augmentation\\u003cbr\\u003ePolicy-gain\",\"Augmentation\\u003cbr\\u003ePolicy-rank\",\"Augmentation\\u003cbr\\u003ePolicy-regret\",\"Co-Training\\u003cbr\\u003eData-gain\",\"Co-Training\\u003cbr\\u003eData-rank\",\"Co-Training\\u003cbr\\u003eData-regret\",\"Model\\u003cbr\\u003eArchitecture-gain\",\"Model\\u003cbr\\u003eArchitecture-rank\",\"Model\\u003cbr\\u003eArchitecture-regret\",\"Pretraining\\u003cbr\\u003eData-gain\",\"Pretraining\\u003cbr\\u003eData-rank\",\"Pretraining\\u003cbr\\u003eData-regret\",\"Augmentation\\u003cbr\\u003ePolicy-gain\"],\"type\":\"scatterpolar\"},{\"hovertemplate\":\"Task selector=FED\\u003cbr\\u003escore=%{r}\\u003cbr\\u003etheta=%{theta}\\u003cextra\\u003e\\u003c\\u002fextra\\u003e\",\"legendgroup\":\"FED\",\"line\":{\"color\":\"rgb(245, 130, 49)\",\"dash\":\"solid\",\"width\":3},\"marker\":{\"symbol\":\"circle\"},\"mode\":\"lines+markers\",\"name\":\"FED\",\"r\":[0.5852713178294574,0.5256180665833398,0.7374104154890838,0.6136950904392765,0.499252068234147,0.7416170013813828,0.6485788113695091,0.49601629266912906,0.7828960428364741,0.3953488372093023,0.6113112337921445,0.7446127487332568,0.5852713178294574],\"showlegend\":true,\"subplot\":\"polar\",\"theta\":[\"Augmentation\\u003cbr\\u003ePolicy-gain\",\"Augmentation\\u003cbr\\u003ePolicy-rank\",\"Augmentation\\u003cbr\\u003ePolicy-regret\",\"Co-Training\\u003cbr\\u003eData-gain\",\"Co-Training\\u003cbr\\u003eData-rank\",\"Co-Training\\u003cbr\\u003eData-regret\",\"Model\\u003cbr\\u003eArchitecture-gain\",\"Model\\u003cbr\\u003eArchitecture-rank\",\"Model\\u003cbr\\u003eArchitecture-regret\",\"Pretraining\\u003cbr\\u003eData-gain\",\"Pretraining\\u003cbr\\u003eData-rank\",\"Pretraining\\u003cbr\\u003eData-regret\",\"Augmentation\\u003cbr\\u003ePolicy-gain\"],\"type\":\"scatterpolar\"},{\"hovertemplate\":\"Task selector=FID\\u003cbr\\u003escore=%{r}\\u003cbr\\u003etheta=%{theta}\\u003cextra\\u003e\\u003c\\u002fextra\\u003e\",\"legendgroup\":\"FID\",\"line\":{\"color\":\"rgb(145, 30, 180)\",\"dash\":\"solid\",\"width\":3},\"marker\":{\"symbol\":\"circle\"},\"mode\":\"lines+markers\",\"name\":\"FID\",\"r\":[0.6046511627906976,0.5563550375220122,0.7541733338753062,0.6188630490956072,0.5092731927770803,0.744538371905874,0.6472868217054264,0.4861354420444061,0.7789491170700539,0.40310077519379844,0.6085895720383709,0.7472986122078908,0.6046511627906976],\"showlegend\":true,\"subplot\":\"polar\",\"theta\":[\"Augmentation\\u003cbr\\u003ePolicy-gain\",\"Augmentation\\u003cbr\\u003ePolicy-rank\",\"Augmentation\\u003cbr\\u003ePolicy-regret\",\"Co-Training\\u003cbr\\u003eData-gain\",\"Co-Training\\u003cbr\\u003eData-rank\",\"Co-Training\\u003cbr\\u003eData-regret\",\"Model\\u003cbr\\u003eArchitecture-gain\",\"Model\\u003cbr\\u003eArchitecture-rank\",\"Model\\u003cbr\\u003eArchitecture-regret\",\"Pretraining\\u003cbr\\u003eData-gain\",\"Pretraining\\u003cbr\\u003eData-rank\",\"Pretraining\\u003cbr\\u003eData-regret\",\"Augmentation\\u003cbr\\u003ePolicy-gain\"],\"type\":\"scatterpolar\"},{\"hovertemplate\":\"Task selector=P2L (w\\u002fo samples)\\u003cbr\\u003escore=%{r}\\u003cbr\\u003etheta=%{theta}\\u003cextra\\u003e\\u003c\\u002fextra\\u003e\",\"legendgroup\":\"P2L (w\\u002fo samples)\",\"line\":{\"color\":\"rgb(70, 240, 240)\",\"dash\":\"solid\",\"width\":3},\"marker\":{\"symbol\":\"circle\"},\"mode\":\"lines+markers\",\"name\":\"P2L (w\\u002fo samples)\",\"r\":[0.5994832041343668,0.5475161073780369,0.7490440346063878,0.6136950904392764,0.5065886689025701,0.7418384368898412,0.6472868217054264,0.48839210130831756,0.7778004772564936,0.4031007751937985,0.6135756469897539,0.7454785211673459,0.5994832041343668],\"showlegend\":true,\"subplot\":\"polar\",\"theta\":[\"Augmentation\\u003cbr\\u003ePolicy-gain\",\"Augmentation\\u003cbr\\u003ePolicy-rank\",\"Augmentation\\u003cbr\\u003ePolicy-regret\",\"Co-Training\\u003cbr\\u003eData-gain\",\"Co-Training\\u003cbr\\u003eData-rank\",\"Co-Training\\u003cbr\\u003eData-regret\",\"Model\\u003cbr\\u003eArchitecture-gain\",\"Model\\u003cbr\\u003eArchitecture-rank\",\"Model\\u003cbr\\u003eArchitecture-regret\",\"Pretraining\\u003cbr\\u003eData-gain\",\"Pretraining\\u003cbr\\u003eData-rank\",\"Pretraining\\u003cbr\\u003eData-regret\",\"Augmentation\\u003cbr\\u003ePolicy-gain\"],\"type\":\"scatterpolar\"},{\"hovertemplate\":\"Task selector=bKLD(small,target)\\u003cbr\\u003escore=%{r}\\u003cbr\\u003etheta=%{theta}\\u003cextra\\u003e\\u003c\\u002fextra\\u003e\",\"legendgroup\":\"bKLD(small,target)\",\"line\":{\"color\":\"rgb(60, 180, 75)\",\"dash\":\"solid\",\"width\":3},\"marker\":{\"symbol\":\"circle\"},\"mode\":\"lines+markers\",\"name\":\"bKLD(small,target)\",\"r\":[0.6149870801033591,0.5627845134783526,0.7559736232529061,0.6162790697674418,0.5118411460231829,0.7494813543039633,0.6472868217054264,0.48770288502515413,0.7753032371533293,0.4134366925064599,0.6314750423707575,0.7515288212516924,0.6149870801033591],\"showlegend\":true,\"subplot\":\"polar\",\"theta\":[\"Augmentation\\u003cbr\\u003ePolicy-gain\",\"Augmentation\\u003cbr\\u003ePolicy-rank\",\"Augmentation\\u003cbr\\u003ePolicy-regret\",\"Co-Training\\u003cbr\\u003eData-gain\",\"Co-Training\\u003cbr\\u003eData-rank\",\"Co-Training\\u003cbr\\u003eData-regret\",\"Model\\u003cbr\\u003eArchitecture-gain\",\"Model\\u003cbr\\u003eArchitecture-rank\",\"Model\\u003cbr\\u003eArchitecture-regret\",\"Pretraining\\u003cbr\\u003eData-gain\",\"Pretraining\\u003cbr\\u003eData-rank\",\"Pretraining\\u003cbr\\u003eData-regret\",\"Augmentation\\u003cbr\\u003ePolicy-gain\"],\"type\":\"scatterpolar\"},{\"hovertemplate\":\"Task selector=bKLD(large,source)\\u003cbr\\u003escore=%{r}\\u003cbr\\u003etheta=%{theta}\\u003cextra\\u003e\\u003c\\u002fextra\\u003e\",\"legendgroup\":\"bKLD(large,source)\",\"line\":{\"color\":\"rgb(60, 180, 75)\",\"dash\":\"dash\",\"width\":3},\"marker\":{\"symbol\":\"hexagon\"},\"mode\":\"lines+markers\",\"name\":\"bKLD(large,source)\",\"r\":[0.6188630490956072,0.5229812842831916,0.7485128862704806,0.627906976744186,0.5188130724060432,0.7419197749038966,0.6873385012919896,0.5294494443774455,0.7981210009857742,0.32041343669250644,0.5120743409462423,0.7186574502823684,0.6188630490956072],\"showlegend\":true,\"subplot\":\"polar\",\"theta\":[\"Augmentation\\u003cbr\\u003ePolicy-gain\",\"Augmentation\\u003cbr\\u003ePolicy-rank\",\"Augmentation\\u003cbr\\u003ePolicy-regret\",\"Co-Training\\u003cbr\\u003eData-gain\",\"Co-Training\\u003cbr\\u003eData-rank\",\"Co-Training\\u003cbr\\u003eData-regret\",\"Model\\u003cbr\\u003eArchitecture-gain\",\"Model\\u003cbr\\u003eArchitecture-rank\",\"Model\\u003cbr\\u003eArchitecture-regret\",\"Pretraining\\u003cbr\\u003eData-gain\",\"Pretraining\\u003cbr\\u003eData-rank\",\"Pretraining\\u003cbr\\u003eData-regret\",\"Augmentation\\u003cbr\\u003ePolicy-gain\"],\"type\":\"scatterpolar\"},{\"hovertemplate\":\"Task selector=bKLD(large,unweighted)\\u003cbr\\u003escore=%{r}\\u003cbr\\u003etheta=%{theta}\\u003cextra\\u003e\\u003c\\u002fextra\\u003e\",\"legendgroup\":\"bKLD(large,unweighted)\",\"line\":{\"color\":\"rgb(60, 180, 75)\",\"dash\":\"dot\",\"width\":3},\"marker\":{\"symbol\":\"hexagram\"},\"mode\":\"lines+markers\",\"name\":\"bKLD(large,unweighted)\",\"r\":[0.611111111111111,0.5582533211564626,0.7542295249174863,0.6214470284237726,0.5167414782490966,0.7515641219882478,0.6524547803617572,0.4902684073581184,0.7770567720513812,0.4108527131782945,0.6260579142792106,0.7491636785663988,0.611111111111111],\"showlegend\":true,\"subplot\":\"polar\",\"theta\":[\"Augmentation\\u003cbr\\u003ePolicy-gain\",\"Augmentation\\u003cbr\\u003ePolicy-rank\",\"Augmentation\\u003cbr\\u003ePolicy-regret\",\"Co-Training\\u003cbr\\u003eData-gain\",\"Co-Training\\u003cbr\\u003eData-rank\",\"Co-Training\\u003cbr\\u003eData-regret\",\"Model\\u003cbr\\u003eArchitecture-gain\",\"Model\\u003cbr\\u003eArchitecture-rank\",\"Model\\u003cbr\\u003eArchitecture-regret\",\"Pretraining\\u003cbr\\u003eData-gain\",\"Pretraining\\u003cbr\\u003eData-rank\",\"Pretraining\\u003cbr\\u003eData-regret\",\"Augmentation\\u003cbr\\u003ePolicy-gain\"],\"type\":\"scatterpolar\"}],                        {\"template\":{\"data\":{\"barpolar\":[{\"marker\":{\"line\":{\"color\":\"#E5ECF6\",\"width\":0.5},\"pattern\":{\"fillmode\":\"overlay\",\"size\":10,\"solidity\":0.2}},\"type\":\"barpolar\"}],\"bar\":[{\"error_x\":{\"color\":\"#2a3f5f\"},\"error_y\":{\"color\":\"#2a3f5f\"},\"marker\":{\"line\":{\"color\":\"#E5ECF6\",\"width\":0.5},\"pattern\":{\"fillmode\":\"overlay\",\"size\":10,\"solidity\":0.2}},\"type\":\"bar\"}],\"carpet\":[{\"aaxis\":{\"endlinecolor\":\"#2a3f5f\",\"gridcolor\":\"white\",\"linecolor\":\"white\",\"minorgridcolor\":\"white\",\"startlinecolor\":\"#2a3f5f\"},\"baxis\":{\"endlinecolor\":\"#2a3f5f\",\"gridcolor\":\"white\",\"linecolor\":\"white\",\"minorgridcolor\":\"white\",\"startlinecolor\":\"#2a3f5f\"},\"type\":\"carpet\"}],\"choropleth\":[{\"colorbar\":{\"outlinewidth\":0,\"ticks\":\"\"},\"type\":\"choropleth\"}],\"contourcarpet\":[{\"colorbar\":{\"outlinewidth\":0,\"ticks\":\"\"},\"type\":\"contourcarpet\"}],\"contour\":[{\"colorbar\":{\"outlinewidth\":0,\"ticks\":\"\"},\"colorscale\":[[0.0,\"#0d0887\"],[0.1111111111111111,\"#46039f\"],[0.2222222222222222,\"#7201a8\"],[0.3333333333333333,\"#9c179e\"],[0.4444444444444444,\"#bd3786\"],[0.5555555555555556,\"#d8576b\"],[0.6666666666666666,\"#ed7953\"],[0.7777777777777778,\"#fb9f3a\"],[0.8888888888888888,\"#fdca26\"],[1.0,\"#f0f921\"]],\"type\":\"contour\"}],\"heatmapgl\":[{\"colorbar\":{\"outlinewidth\":0,\"ticks\":\"\"},\"colorscale\":[[0.0,\"#0d0887\"],[0.1111111111111111,\"#46039f\"],[0.2222222222222222,\"#7201a8\"],[0.3333333333333333,\"#9c179e\"],[0.4444444444444444,\"#bd3786\"],[0.5555555555555556,\"#d8576b\"],[0.6666666666666666,\"#ed7953\"],[0.7777777777777778,\"#fb9f3a\"],[0.8888888888888888,\"#fdca26\"],[1.0,\"#f0f921\"]],\"type\":\"heatmapgl\"}],\"heatmap\":[{\"colorbar\":{\"outlinewidth\":0,\"ticks\":\"\"},\"colorscale\":[[0.0,\"#0d0887\"],[0.1111111111111111,\"#46039f\"],[0.2222222222222222,\"#7201a8\"],[0.3333333333333333,\"#9c179e\"],[0.4444444444444444,\"#bd3786\"],[0.5555555555555556,\"#d8576b\"],[0.6666666666666666,\"#ed7953\"],[0.7777777777777778,\"#fb9f3a\"],[0.8888888888888888,\"#fdca26\"],[1.0,\"#f0f921\"]],\"type\":\"heatmap\"}],\"histogram2dcontour\":[{\"colorbar\":{\"outlinewidth\":0,\"ticks\":\"\"},\"colorscale\":[[0.0,\"#0d0887\"],[0.1111111111111111,\"#46039f\"],[0.2222222222222222,\"#7201a8\"],[0.3333333333333333,\"#9c179e\"],[0.4444444444444444,\"#bd3786\"],[0.5555555555555556,\"#d8576b\"],[0.6666666666666666,\"#ed7953\"],[0.7777777777777778,\"#fb9f3a\"],[0.8888888888888888,\"#fdca26\"],[1.0,\"#f0f921\"]],\"type\":\"histogram2dcontour\"}],\"histogram2d\":[{\"colorbar\":{\"outlinewidth\":0,\"ticks\":\"\"},\"colorscale\":[[0.0,\"#0d0887\"],[0.1111111111111111,\"#46039f\"],[0.2222222222222222,\"#7201a8\"],[0.3333333333333333,\"#9c179e\"],[0.4444444444444444,\"#bd3786\"],[0.5555555555555556,\"#d8576b\"],[0.6666666666666666,\"#ed7953\"],[0.7777777777777778,\"#fb9f3a\"],[0.8888888888888888,\"#fdca26\"],[1.0,\"#f0f921\"]],\"type\":\"histogram2d\"}],\"histogram\":[{\"marker\":{\"pattern\":{\"fillmode\":\"overlay\",\"size\":10,\"solidity\":0.2}},\"type\":\"histogram\"}],\"mesh3d\":[{\"colorbar\":{\"outlinewidth\":0,\"ticks\":\"\"},\"type\":\"mesh3d\"}],\"parcoords\":[{\"line\":{\"colorbar\":{\"outlinewidth\":0,\"ticks\":\"\"}},\"type\":\"parcoords\"}],\"pie\":[{\"automargin\":true,\"type\":\"pie\"}],\"scatter3d\":[{\"line\":{\"colorbar\":{\"outlinewidth\":0,\"ticks\":\"\"}},\"marker\":{\"colorbar\":{\"outlinewidth\":0,\"ticks\":\"\"}},\"type\":\"scatter3d\"}],\"scattercarpet\":[{\"marker\":{\"colorbar\":{\"outlinewidth\":0,\"ticks\":\"\"}},\"type\":\"scattercarpet\"}],\"scattergeo\":[{\"marker\":{\"colorbar\":{\"outlinewidth\":0,\"ticks\":\"\"}},\"type\":\"scattergeo\"}],\"scattergl\":[{\"marker\":{\"colorbar\":{\"outlinewidth\":0,\"ticks\":\"\"}},\"type\":\"scattergl\"}],\"scattermapbox\":[{\"marker\":{\"colorbar\":{\"outlinewidth\":0,\"ticks\":\"\"}},\"type\":\"scattermapbox\"}],\"scatterpolargl\":[{\"marker\":{\"colorbar\":{\"outlinewidth\":0,\"ticks\":\"\"}},\"type\":\"scatterpolargl\"}],\"scatterpolar\":[{\"marker\":{\"colorbar\":{\"outlinewidth\":0,\"ticks\":\"\"}},\"type\":\"scatterpolar\"}],\"scatter\":[{\"fillpattern\":{\"fillmode\":\"overlay\",\"size\":10,\"solidity\":0.2},\"type\":\"scatter\"}],\"scatterternary\":[{\"marker\":{\"colorbar\":{\"outlinewidth\":0,\"ticks\":\"\"}},\"type\":\"scatterternary\"}],\"surface\":[{\"colorbar\":{\"outlinewidth\":0,\"ticks\":\"\"},\"colorscale\":[[0.0,\"#0d0887\"],[0.1111111111111111,\"#46039f\"],[0.2222222222222222,\"#7201a8\"],[0.3333333333333333,\"#9c179e\"],[0.4444444444444444,\"#bd3786\"],[0.5555555555555556,\"#d8576b\"],[0.6666666666666666,\"#ed7953\"],[0.7777777777777778,\"#fb9f3a\"],[0.8888888888888888,\"#fdca26\"],[1.0,\"#f0f921\"]],\"type\":\"surface\"}],\"table\":[{\"cells\":{\"fill\":{\"color\":\"#EBF0F8\"},\"line\":{\"color\":\"white\"}},\"header\":{\"fill\":{\"color\":\"#C8D4E3\"},\"line\":{\"color\":\"white\"}},\"type\":\"table\"}]},\"layout\":{\"annotationdefaults\":{\"arrowcolor\":\"#2a3f5f\",\"arrowhead\":0,\"arrowwidth\":1},\"autotypenumbers\":\"strict\",\"coloraxis\":{\"colorbar\":{\"outlinewidth\":0,\"ticks\":\"\"}},\"colorscale\":{\"diverging\":[[0,\"#8e0152\"],[0.1,\"#c51b7d\"],[0.2,\"#de77ae\"],[0.3,\"#f1b6da\"],[0.4,\"#fde0ef\"],[0.5,\"#f7f7f7\"],[0.6,\"#e6f5d0\"],[0.7,\"#b8e186\"],[0.8,\"#7fbc41\"],[0.9,\"#4d9221\"],[1,\"#276419\"]],\"sequential\":[[0.0,\"#0d0887\"],[0.1111111111111111,\"#46039f\"],[0.2222222222222222,\"#7201a8\"],[0.3333333333333333,\"#9c179e\"],[0.4444444444444444,\"#bd3786\"],[0.5555555555555556,\"#d8576b\"],[0.6666666666666666,\"#ed7953\"],[0.7777777777777778,\"#fb9f3a\"],[0.8888888888888888,\"#fdca26\"],[1.0,\"#f0f921\"]],\"sequentialminus\":[[0.0,\"#0d0887\"],[0.1111111111111111,\"#46039f\"],[0.2222222222222222,\"#7201a8\"],[0.3333333333333333,\"#9c179e\"],[0.4444444444444444,\"#bd3786\"],[0.5555555555555556,\"#d8576b\"],[0.6666666666666666,\"#ed7953\"],[0.7777777777777778,\"#fb9f3a\"],[0.8888888888888888,\"#fdca26\"],[1.0,\"#f0f921\"]]},\"colorway\":[\"#636efa\",\"#EF553B\",\"#00cc96\",\"#ab63fa\",\"#FFA15A\",\"#19d3f3\",\"#FF6692\",\"#B6E880\",\"#FF97FF\",\"#FECB52\"],\"font\":{\"color\":\"#2a3f5f\"},\"geo\":{\"bgcolor\":\"white\",\"lakecolor\":\"white\",\"landcolor\":\"#E5ECF6\",\"showlakes\":true,\"showland\":true,\"subunitcolor\":\"white\"},\"hoverlabel\":{\"align\":\"left\"},\"hovermode\":\"closest\",\"mapbox\":{\"style\":\"light\"},\"paper_bgcolor\":\"white\",\"plot_bgcolor\":\"#E5ECF6\",\"polar\":{\"angularaxis\":{\"gridcolor\":\"white\",\"linecolor\":\"white\",\"ticks\":\"\"},\"bgcolor\":\"#E5ECF6\",\"radialaxis\":{\"gridcolor\":\"white\",\"linecolor\":\"white\",\"ticks\":\"\"}},\"scene\":{\"xaxis\":{\"backgroundcolor\":\"#E5ECF6\",\"gridcolor\":\"white\",\"gridwidth\":2,\"linecolor\":\"white\",\"showbackground\":true,\"ticks\":\"\",\"zerolinecolor\":\"white\"},\"yaxis\":{\"backgroundcolor\":\"#E5ECF6\",\"gridcolor\":\"white\",\"gridwidth\":2,\"linecolor\":\"white\",\"showbackground\":true,\"ticks\":\"\",\"zerolinecolor\":\"white\"},\"zaxis\":{\"backgroundcolor\":\"#E5ECF6\",\"gridcolor\":\"white\",\"gridwidth\":2,\"linecolor\":\"white\",\"showbackground\":true,\"ticks\":\"\",\"zerolinecolor\":\"white\"}},\"shapedefaults\":{\"line\":{\"color\":\"#2a3f5f\"}},\"ternary\":{\"aaxis\":{\"gridcolor\":\"white\",\"linecolor\":\"white\",\"ticks\":\"\"},\"baxis\":{\"gridcolor\":\"white\",\"linecolor\":\"white\",\"ticks\":\"\"},\"bgcolor\":\"#E5ECF6\",\"caxis\":{\"gridcolor\":\"white\",\"linecolor\":\"white\",\"ticks\":\"\"}},\"title\":{\"x\":0.05},\"xaxis\":{\"automargin\":true,\"gridcolor\":\"white\",\"linecolor\":\"white\",\"ticks\":\"\",\"title\":{\"standoff\":15},\"zerolinecolor\":\"white\",\"zerolinewidth\":2},\"yaxis\":{\"automargin\":true,\"gridcolor\":\"white\",\"linecolor\":\"white\",\"ticks\":\"\",\"title\":{\"standoff\":15},\"zerolinecolor\":\"white\",\"zerolinewidth\":2}}},\"polar\":{\"domain\":{\"x\":[0.0,1.0],\"y\":[0.0,1.0]},\"angularaxis\":{\"direction\":\"clockwise\",\"rotation\":90,\"categoryorder\":\"array\",\"categoryarray\":[\"Augmentation\\u003cbr\\u003ePolicy-gain\",\"Augmentation\\u003cbr\\u003ePolicy-rank\",\"Augmentation\\u003cbr\\u003ePolicy-regret\",\"Co-Training\\u003cbr\\u003eData-gain\",\"Co-Training\\u003cbr\\u003eData-rank\",\"Co-Training\\u003cbr\\u003eData-regret\",\"Model\\u003cbr\\u003eArchitecture-gain\",\"Model\\u003cbr\\u003eArchitecture-rank\",\"Model\\u003cbr\\u003eArchitecture-regret\",\"Pretraining\\u003cbr\\u003eData-gain\",\"Pretraining\\u003cbr\\u003eData-rank\",\"Pretraining\\u003cbr\\u003eData-regret\"]},\"radialaxis\":{\"type\":\"log\",\"nticks\":5}},\"legend\":{\"title\":{\"text\":\"Task selector\"},\"tracegroupgap\":0},\"margin\":{\"t\":60},\"height\":500,\"width\":1200,\"font\":{\"size\":20}},                        {\"responsive\": true}                    ).then(function(){\n",
       "                            \n",
       "var gd = document.getElementById('9b6b2dea-ee2b-4697-aacd-d4dca3eda1fb');\n",
       "var x = new MutationObserver(function (mutations, observer) {{\n",
       "        var display = window.getComputedStyle(gd).display;\n",
       "        if (!display || display === 'none') {{\n",
       "            console.log([gd, 'removed!']);\n",
       "            Plotly.purge(gd);\n",
       "            observer.disconnect();\n",
       "        }}\n",
       "}});\n",
       "\n",
       "// Listen for the removal of the full notebook cells\n",
       "var notebookContainer = gd.closest('#notebook-container');\n",
       "if (notebookContainer) {{\n",
       "    x.observe(notebookContainer, {childList: true});\n",
       "}}\n",
       "\n",
       "// Listen for the clearing of the current output cell\n",
       "var outputEl = gd.closest('.output');\n",
       "if (outputEl) {{\n",
       "    x.observe(outputEl, {childList: true});\n",
       "}}\n",
       "\n",
       "                        })                };                });            </script>        </div>"
      ]
     },
     "metadata": {},
     "output_type": "display_data"
    }
   ],
   "execution_count": 53
  },
  {
   "metadata": {
    "ExecuteTime": {
     "end_time": "2024-10-10T19:43:00.838828Z",
     "start_time": "2024-10-10T19:43:00.786525Z"
    }
   },
   "cell_type": "code",
   "source": "get_spider_plot(comp_distances, meta_names=('weightedtau',))",
   "id": "5cc61ee7ca456fc3",
   "outputs": [
    {
     "data": {
      "application/vnd.plotly.v1+json": {
       "data": [
        {
         "hovertemplate": "Task selector=Manual<br>score=%{r}<br>theta=%{theta}<extra></extra>",
         "legendgroup": "Manual",
         "line": {
          "color": "rgb(230, 25, 75)",
          "dash": "solid",
          "width": 3
         },
         "marker": {
          "symbol": "circle"
         },
         "mode": "lines+markers",
         "name": "Manual",
         "r": [
          -0.056338213139863355,
          -0.02870401793100916,
          0.04357031005919474,
          0.07672773136398271,
          -0.056338213139863355
         ],
         "showlegend": true,
         "subplot": "polar",
         "theta": [
          "Augmentation<br>Policy",
          "Co-Training<br>Data",
          "Model<br>Architecture",
          "Pretraining<br>Data",
          "Augmentation<br>Policy"
         ],
         "type": "scatterpolar"
        },
        {
         "hovertemplate": "Task selector=VDNA<br>score=%{r}<br>theta=%{theta}<extra></extra>",
         "legendgroup": "VDNA",
         "line": {
          "color": "rgb(67, 99, 216)",
          "dash": "solid",
          "width": 3
         },
         "marker": {
          "symbol": "circle"
         },
         "mode": "lines+markers",
         "name": "VDNA",
         "r": [
          -0.012195760653851168,
          -0.009477860387017614,
          0.042118792517595226,
          0.07004850486525913,
          -0.012195760653851168
         ],
         "showlegend": true,
         "subplot": "polar",
         "theta": [
          "Augmentation<br>Policy",
          "Co-Training<br>Data",
          "Model<br>Architecture",
          "Pretraining<br>Data",
          "Augmentation<br>Policy"
         ],
         "type": "scatterpolar"
        },
        {
         "hovertemplate": "Task selector=FED<br>score=%{r}<br>theta=%{theta}<extra></extra>",
         "legendgroup": "FED",
         "line": {
          "color": "rgb(245, 130, 49)",
          "dash": "solid",
          "width": 3
         },
         "marker": {
          "symbol": "circle"
         },
         "mode": "lines+markers",
         "name": "FED",
         "r": [
          -0.035473459515060944,
          -0.027933998231944573,
          0.02251505869850129,
          0.05549344718956616,
          -0.035473459515060944
         ],
         "showlegend": true,
         "subplot": "polar",
         "theta": [
          "Augmentation<br>Policy",
          "Co-Training<br>Data",
          "Model<br>Architecture",
          "Pretraining<br>Data",
          "Augmentation<br>Policy"
         ],
         "type": "scatterpolar"
        },
        {
         "hovertemplate": "Task selector=FID<br>score=%{r}<br>theta=%{theta}<extra></extra>",
         "legendgroup": "FID",
         "line": {
          "color": "rgb(145, 30, 180)",
          "dash": "solid",
          "width": 3
         },
         "marker": {
          "symbol": "circle"
         },
         "mode": "lines+markers",
         "name": "FID",
         "r": [
          -0.009736009037250271,
          -0.023090636222434412,
          0.03708191664182793,
          0.06109566332175582,
          -0.009736009037250271
         ],
         "showlegend": true,
         "subplot": "polar",
         "theta": [
          "Augmentation<br>Policy",
          "Co-Training<br>Data",
          "Model<br>Architecture",
          "Pretraining<br>Data",
          "Augmentation<br>Policy"
         ],
         "type": "scatterpolar"
        },
        {
         "hovertemplate": "Task selector=P2L (w/o samples)<br>score=%{r}<br>theta=%{theta}<extra></extra>",
         "legendgroup": "P2L (w/o samples)",
         "line": {
          "color": "rgb(70, 240, 240)",
          "dash": "solid",
          "width": 3
         },
         "marker": {
          "symbol": "circle"
         },
         "mode": "lines+markers",
         "name": "P2L (w/o samples)",
         "r": [
          -0.04958226005264501,
          -0.021012965179036665,
          0.028599592713115258,
          0.05582385502060548,
          -0.04958226005264501
         ],
         "showlegend": true,
         "subplot": "polar",
         "theta": [
          "Augmentation<br>Policy",
          "Co-Training<br>Data",
          "Model<br>Architecture",
          "Pretraining<br>Data",
          "Augmentation<br>Policy"
         ],
         "type": "scatterpolar"
        },
        {
         "hovertemplate": "Task selector=bKLD(small,target)<br>score=%{r}<br>theta=%{theta}<extra></extra>",
         "legendgroup": "bKLD(small,target)",
         "line": {
          "color": "rgb(60, 180, 75)",
          "dash": "solid",
          "width": 3
         },
         "marker": {
          "symbol": "circle"
         },
         "mode": "lines+markers",
         "name": "bKLD(small,target)",
         "r": [
          0.10528623401085901,
          -0.01120196877903042,
          0.06924065548983104,
          0.1010459770735614,
          0.10528623401085901
         ],
         "showlegend": true,
         "subplot": "polar",
         "theta": [
          "Augmentation<br>Policy",
          "Co-Training<br>Data",
          "Model<br>Architecture",
          "Pretraining<br>Data",
          "Augmentation<br>Policy"
         ],
         "type": "scatterpolar"
        },
        {
         "hovertemplate": "Task selector=bKLD(large,source)<br>score=%{r}<br>theta=%{theta}<extra></extra>",
         "legendgroup": "bKLD(large,source)",
         "line": {
          "color": "rgb(60, 180, 75)",
          "dash": "dash",
          "width": 3
         },
         "marker": {
          "symbol": "hexagon"
         },
         "mode": "lines+markers",
         "name": "bKLD(large,source)",
         "r": [
          0.02633560221273612,
          0.020982884374105195,
          0.08428575482991815,
          -2.493685522359878E-4,
          0.02633560221273612
         ],
         "showlegend": true,
         "subplot": "polar",
         "theta": [
          "Augmentation<br>Policy",
          "Co-Training<br>Data",
          "Model<br>Architecture",
          "Pretraining<br>Data",
          "Augmentation<br>Policy"
         ],
         "type": "scatterpolar"
        },
        {
         "hovertemplate": "Task selector=bKLD(large,unweighted)<br>score=%{r}<br>theta=%{theta}<extra></extra>",
         "legendgroup": "bKLD(large,unweighted)",
         "line": {
          "color": "rgb(60, 180, 75)",
          "dash": "dot",
          "width": 3
         },
         "marker": {
          "symbol": "hexagram"
         },
         "mode": "lines+markers",
         "name": "bKLD(large,unweighted)",
         "r": [
          0.10276977873333372,
          -0.013544599831187621,
          0.0698073237907287,
          0.09799498458502445,
          0.10276977873333372
         ],
         "showlegend": true,
         "subplot": "polar",
         "theta": [
          "Augmentation<br>Policy",
          "Co-Training<br>Data",
          "Model<br>Architecture",
          "Pretraining<br>Data",
          "Augmentation<br>Policy"
         ],
         "type": "scatterpolar"
        }
       ],
       "layout": {
        "template": {
         "data": {
          "barpolar": [
           {
            "marker": {
             "line": {
              "color": "#E5ECF6",
              "width": 0.5
             },
             "pattern": {
              "fillmode": "overlay",
              "size": 10,
              "solidity": 0.2
             }
            },
            "type": "barpolar"
           }
          ],
          "bar": [
           {
            "error_x": {
             "color": "#2a3f5f"
            },
            "error_y": {
             "color": "#2a3f5f"
            },
            "marker": {
             "line": {
              "color": "#E5ECF6",
              "width": 0.5
             },
             "pattern": {
              "fillmode": "overlay",
              "size": 10,
              "solidity": 0.2
             }
            },
            "type": "bar"
           }
          ],
          "carpet": [
           {
            "aaxis": {
             "endlinecolor": "#2a3f5f",
             "gridcolor": "white",
             "linecolor": "white",
             "minorgridcolor": "white",
             "startlinecolor": "#2a3f5f"
            },
            "baxis": {
             "endlinecolor": "#2a3f5f",
             "gridcolor": "white",
             "linecolor": "white",
             "minorgridcolor": "white",
             "startlinecolor": "#2a3f5f"
            },
            "type": "carpet"
           }
          ],
          "choropleth": [
           {
            "colorbar": {
             "outlinewidth": 0,
             "ticks": ""
            },
            "type": "choropleth"
           }
          ],
          "contourcarpet": [
           {
            "colorbar": {
             "outlinewidth": 0,
             "ticks": ""
            },
            "type": "contourcarpet"
           }
          ],
          "contour": [
           {
            "colorbar": {
             "outlinewidth": 0,
             "ticks": ""
            },
            "colorscale": [
             [
              0.0,
              "#0d0887"
             ],
             [
              0.1111111111111111,
              "#46039f"
             ],
             [
              0.2222222222222222,
              "#7201a8"
             ],
             [
              0.3333333333333333,
              "#9c179e"
             ],
             [
              0.4444444444444444,
              "#bd3786"
             ],
             [
              0.5555555555555556,
              "#d8576b"
             ],
             [
              0.6666666666666666,
              "#ed7953"
             ],
             [
              0.7777777777777778,
              "#fb9f3a"
             ],
             [
              0.8888888888888888,
              "#fdca26"
             ],
             [
              1.0,
              "#f0f921"
             ]
            ],
            "type": "contour"
           }
          ],
          "heatmapgl": [
           {
            "colorbar": {
             "outlinewidth": 0,
             "ticks": ""
            },
            "colorscale": [
             [
              0.0,
              "#0d0887"
             ],
             [
              0.1111111111111111,
              "#46039f"
             ],
             [
              0.2222222222222222,
              "#7201a8"
             ],
             [
              0.3333333333333333,
              "#9c179e"
             ],
             [
              0.4444444444444444,
              "#bd3786"
             ],
             [
              0.5555555555555556,
              "#d8576b"
             ],
             [
              0.6666666666666666,
              "#ed7953"
             ],
             [
              0.7777777777777778,
              "#fb9f3a"
             ],
             [
              0.8888888888888888,
              "#fdca26"
             ],
             [
              1.0,
              "#f0f921"
             ]
            ],
            "type": "heatmapgl"
           }
          ],
          "heatmap": [
           {
            "colorbar": {
             "outlinewidth": 0,
             "ticks": ""
            },
            "colorscale": [
             [
              0.0,
              "#0d0887"
             ],
             [
              0.1111111111111111,
              "#46039f"
             ],
             [
              0.2222222222222222,
              "#7201a8"
             ],
             [
              0.3333333333333333,
              "#9c179e"
             ],
             [
              0.4444444444444444,
              "#bd3786"
             ],
             [
              0.5555555555555556,
              "#d8576b"
             ],
             [
              0.6666666666666666,
              "#ed7953"
             ],
             [
              0.7777777777777778,
              "#fb9f3a"
             ],
             [
              0.8888888888888888,
              "#fdca26"
             ],
             [
              1.0,
              "#f0f921"
             ]
            ],
            "type": "heatmap"
           }
          ],
          "histogram2dcontour": [
           {
            "colorbar": {
             "outlinewidth": 0,
             "ticks": ""
            },
            "colorscale": [
             [
              0.0,
              "#0d0887"
             ],
             [
              0.1111111111111111,
              "#46039f"
             ],
             [
              0.2222222222222222,
              "#7201a8"
             ],
             [
              0.3333333333333333,
              "#9c179e"
             ],
             [
              0.4444444444444444,
              "#bd3786"
             ],
             [
              0.5555555555555556,
              "#d8576b"
             ],
             [
              0.6666666666666666,
              "#ed7953"
             ],
             [
              0.7777777777777778,
              "#fb9f3a"
             ],
             [
              0.8888888888888888,
              "#fdca26"
             ],
             [
              1.0,
              "#f0f921"
             ]
            ],
            "type": "histogram2dcontour"
           }
          ],
          "histogram2d": [
           {
            "colorbar": {
             "outlinewidth": 0,
             "ticks": ""
            },
            "colorscale": [
             [
              0.0,
              "#0d0887"
             ],
             [
              0.1111111111111111,
              "#46039f"
             ],
             [
              0.2222222222222222,
              "#7201a8"
             ],
             [
              0.3333333333333333,
              "#9c179e"
             ],
             [
              0.4444444444444444,
              "#bd3786"
             ],
             [
              0.5555555555555556,
              "#d8576b"
             ],
             [
              0.6666666666666666,
              "#ed7953"
             ],
             [
              0.7777777777777778,
              "#fb9f3a"
             ],
             [
              0.8888888888888888,
              "#fdca26"
             ],
             [
              1.0,
              "#f0f921"
             ]
            ],
            "type": "histogram2d"
           }
          ],
          "histogram": [
           {
            "marker": {
             "pattern": {
              "fillmode": "overlay",
              "size": 10,
              "solidity": 0.2
             }
            },
            "type": "histogram"
           }
          ],
          "mesh3d": [
           {
            "colorbar": {
             "outlinewidth": 0,
             "ticks": ""
            },
            "type": "mesh3d"
           }
          ],
          "parcoords": [
           {
            "line": {
             "colorbar": {
              "outlinewidth": 0,
              "ticks": ""
             }
            },
            "type": "parcoords"
           }
          ],
          "pie": [
           {
            "automargin": true,
            "type": "pie"
           }
          ],
          "scatter3d": [
           {
            "line": {
             "colorbar": {
              "outlinewidth": 0,
              "ticks": ""
             }
            },
            "marker": {
             "colorbar": {
              "outlinewidth": 0,
              "ticks": ""
             }
            },
            "type": "scatter3d"
           }
          ],
          "scattercarpet": [
           {
            "marker": {
             "colorbar": {
              "outlinewidth": 0,
              "ticks": ""
             }
            },
            "type": "scattercarpet"
           }
          ],
          "scattergeo": [
           {
            "marker": {
             "colorbar": {
              "outlinewidth": 0,
              "ticks": ""
             }
            },
            "type": "scattergeo"
           }
          ],
          "scattergl": [
           {
            "marker": {
             "colorbar": {
              "outlinewidth": 0,
              "ticks": ""
             }
            },
            "type": "scattergl"
           }
          ],
          "scattermapbox": [
           {
            "marker": {
             "colorbar": {
              "outlinewidth": 0,
              "ticks": ""
             }
            },
            "type": "scattermapbox"
           }
          ],
          "scatterpolargl": [
           {
            "marker": {
             "colorbar": {
              "outlinewidth": 0,
              "ticks": ""
             }
            },
            "type": "scatterpolargl"
           }
          ],
          "scatterpolar": [
           {
            "marker": {
             "colorbar": {
              "outlinewidth": 0,
              "ticks": ""
             }
            },
            "type": "scatterpolar"
           }
          ],
          "scatter": [
           {
            "fillpattern": {
             "fillmode": "overlay",
             "size": 10,
             "solidity": 0.2
            },
            "type": "scatter"
           }
          ],
          "scatterternary": [
           {
            "marker": {
             "colorbar": {
              "outlinewidth": 0,
              "ticks": ""
             }
            },
            "type": "scatterternary"
           }
          ],
          "surface": [
           {
            "colorbar": {
             "outlinewidth": 0,
             "ticks": ""
            },
            "colorscale": [
             [
              0.0,
              "#0d0887"
             ],
             [
              0.1111111111111111,
              "#46039f"
             ],
             [
              0.2222222222222222,
              "#7201a8"
             ],
             [
              0.3333333333333333,
              "#9c179e"
             ],
             [
              0.4444444444444444,
              "#bd3786"
             ],
             [
              0.5555555555555556,
              "#d8576b"
             ],
             [
              0.6666666666666666,
              "#ed7953"
             ],
             [
              0.7777777777777778,
              "#fb9f3a"
             ],
             [
              0.8888888888888888,
              "#fdca26"
             ],
             [
              1.0,
              "#f0f921"
             ]
            ],
            "type": "surface"
           }
          ],
          "table": [
           {
            "cells": {
             "fill": {
              "color": "#EBF0F8"
             },
             "line": {
              "color": "white"
             }
            },
            "header": {
             "fill": {
              "color": "#C8D4E3"
             },
             "line": {
              "color": "white"
             }
            },
            "type": "table"
           }
          ]
         },
         "layout": {
          "annotationdefaults": {
           "arrowcolor": "#2a3f5f",
           "arrowhead": 0,
           "arrowwidth": 1
          },
          "autotypenumbers": "strict",
          "coloraxis": {
           "colorbar": {
            "outlinewidth": 0,
            "ticks": ""
           }
          },
          "colorscale": {
           "diverging": [
            [
             0,
             "#8e0152"
            ],
            [
             0.1,
             "#c51b7d"
            ],
            [
             0.2,
             "#de77ae"
            ],
            [
             0.3,
             "#f1b6da"
            ],
            [
             0.4,
             "#fde0ef"
            ],
            [
             0.5,
             "#f7f7f7"
            ],
            [
             0.6,
             "#e6f5d0"
            ],
            [
             0.7,
             "#b8e186"
            ],
            [
             0.8,
             "#7fbc41"
            ],
            [
             0.9,
             "#4d9221"
            ],
            [
             1,
             "#276419"
            ]
           ],
           "sequential": [
            [
             0.0,
             "#0d0887"
            ],
            [
             0.1111111111111111,
             "#46039f"
            ],
            [
             0.2222222222222222,
             "#7201a8"
            ],
            [
             0.3333333333333333,
             "#9c179e"
            ],
            [
             0.4444444444444444,
             "#bd3786"
            ],
            [
             0.5555555555555556,
             "#d8576b"
            ],
            [
             0.6666666666666666,
             "#ed7953"
            ],
            [
             0.7777777777777778,
             "#fb9f3a"
            ],
            [
             0.8888888888888888,
             "#fdca26"
            ],
            [
             1.0,
             "#f0f921"
            ]
           ],
           "sequentialminus": [
            [
             0.0,
             "#0d0887"
            ],
            [
             0.1111111111111111,
             "#46039f"
            ],
            [
             0.2222222222222222,
             "#7201a8"
            ],
            [
             0.3333333333333333,
             "#9c179e"
            ],
            [
             0.4444444444444444,
             "#bd3786"
            ],
            [
             0.5555555555555556,
             "#d8576b"
            ],
            [
             0.6666666666666666,
             "#ed7953"
            ],
            [
             0.7777777777777778,
             "#fb9f3a"
            ],
            [
             0.8888888888888888,
             "#fdca26"
            ],
            [
             1.0,
             "#f0f921"
            ]
           ]
          },
          "colorway": [
           "#636efa",
           "#EF553B",
           "#00cc96",
           "#ab63fa",
           "#FFA15A",
           "#19d3f3",
           "#FF6692",
           "#B6E880",
           "#FF97FF",
           "#FECB52"
          ],
          "font": {
           "color": "#2a3f5f"
          },
          "geo": {
           "bgcolor": "white",
           "lakecolor": "white",
           "landcolor": "#E5ECF6",
           "showlakes": true,
           "showland": true,
           "subunitcolor": "white"
          },
          "hoverlabel": {
           "align": "left"
          },
          "hovermode": "closest",
          "mapbox": {
           "style": "light"
          },
          "paper_bgcolor": "white",
          "plot_bgcolor": "#E5ECF6",
          "polar": {
           "angularaxis": {
            "gridcolor": "white",
            "linecolor": "white",
            "ticks": ""
           },
           "bgcolor": "#E5ECF6",
           "radialaxis": {
            "gridcolor": "white",
            "linecolor": "white",
            "ticks": ""
           }
          },
          "scene": {
           "xaxis": {
            "backgroundcolor": "#E5ECF6",
            "gridcolor": "white",
            "gridwidth": 2,
            "linecolor": "white",
            "showbackground": true,
            "ticks": "",
            "zerolinecolor": "white"
           },
           "yaxis": {
            "backgroundcolor": "#E5ECF6",
            "gridcolor": "white",
            "gridwidth": 2,
            "linecolor": "white",
            "showbackground": true,
            "ticks": "",
            "zerolinecolor": "white"
           },
           "zaxis": {
            "backgroundcolor": "#E5ECF6",
            "gridcolor": "white",
            "gridwidth": 2,
            "linecolor": "white",
            "showbackground": true,
            "ticks": "",
            "zerolinecolor": "white"
           }
          },
          "shapedefaults": {
           "line": {
            "color": "#2a3f5f"
           }
          },
          "ternary": {
           "aaxis": {
            "gridcolor": "white",
            "linecolor": "white",
            "ticks": ""
           },
           "baxis": {
            "gridcolor": "white",
            "linecolor": "white",
            "ticks": ""
           },
           "bgcolor": "#E5ECF6",
           "caxis": {
            "gridcolor": "white",
            "linecolor": "white",
            "ticks": ""
           }
          },
          "title": {
           "x": 0.05
          },
          "xaxis": {
           "automargin": true,
           "gridcolor": "white",
           "linecolor": "white",
           "ticks": "",
           "title": {
            "standoff": 15
           },
           "zerolinecolor": "white",
           "zerolinewidth": 2
          },
          "yaxis": {
           "automargin": true,
           "gridcolor": "white",
           "linecolor": "white",
           "ticks": "",
           "title": {
            "standoff": 15
           },
           "zerolinecolor": "white",
           "zerolinewidth": 2
          }
         }
        },
        "polar": {
         "domain": {
          "x": [
           0.0,
           1.0
          ],
          "y": [
           0.0,
           1.0
          ]
         },
         "angularaxis": {
          "direction": "clockwise",
          "rotation": 90,
          "categoryorder": "array",
          "categoryarray": [
           "Augmentation<br>Policy",
           "Co-Training<br>Data",
           "Model<br>Architecture",
           "Pretraining<br>Data"
          ]
         },
         "radialaxis": {
          "nticks": 5
         }
        },
        "legend": {
         "title": {
          "text": "Task selector"
         },
         "tracegroupgap": 0
        },
        "margin": {
         "t": 60
        },
        "height": 500,
        "width": 1200,
        "font": {
         "size": 20
        }
       },
       "config": {
        "plotlyServerURL": "https://plot.ly"
       }
      },
      "text/html": [
       "<div>                            <div id=\"fefbb98c-64ba-4ebb-ba09-8dcbb66b9ee0\" class=\"plotly-graph-div\" style=\"height:500px; width:1200px;\"></div>            <script type=\"text/javascript\">                require([\"plotly\"], function(Plotly) {                    window.PLOTLYENV=window.PLOTLYENV || {};                                    if (document.getElementById(\"fefbb98c-64ba-4ebb-ba09-8dcbb66b9ee0\")) {                    Plotly.newPlot(                        \"fefbb98c-64ba-4ebb-ba09-8dcbb66b9ee0\",                        [{\"hovertemplate\":\"Task selector=Manual\\u003cbr\\u003escore=%{r}\\u003cbr\\u003etheta=%{theta}\\u003cextra\\u003e\\u003c\\u002fextra\\u003e\",\"legendgroup\":\"Manual\",\"line\":{\"color\":\"rgb(230, 25, 75)\",\"dash\":\"solid\",\"width\":3},\"marker\":{\"symbol\":\"circle\"},\"mode\":\"lines+markers\",\"name\":\"Manual\",\"r\":[-0.056338213139863355,-0.02870401793100916,0.04357031005919474,0.07672773136398271,-0.056338213139863355],\"showlegend\":true,\"subplot\":\"polar\",\"theta\":[\"Augmentation\\u003cbr\\u003ePolicy\",\"Co-Training\\u003cbr\\u003eData\",\"Model\\u003cbr\\u003eArchitecture\",\"Pretraining\\u003cbr\\u003eData\",\"Augmentation\\u003cbr\\u003ePolicy\"],\"type\":\"scatterpolar\"},{\"hovertemplate\":\"Task selector=VDNA\\u003cbr\\u003escore=%{r}\\u003cbr\\u003etheta=%{theta}\\u003cextra\\u003e\\u003c\\u002fextra\\u003e\",\"legendgroup\":\"VDNA\",\"line\":{\"color\":\"rgb(67, 99, 216)\",\"dash\":\"solid\",\"width\":3},\"marker\":{\"symbol\":\"circle\"},\"mode\":\"lines+markers\",\"name\":\"VDNA\",\"r\":[-0.012195760653851168,-0.009477860387017614,0.042118792517595226,0.07004850486525913,-0.012195760653851168],\"showlegend\":true,\"subplot\":\"polar\",\"theta\":[\"Augmentation\\u003cbr\\u003ePolicy\",\"Co-Training\\u003cbr\\u003eData\",\"Model\\u003cbr\\u003eArchitecture\",\"Pretraining\\u003cbr\\u003eData\",\"Augmentation\\u003cbr\\u003ePolicy\"],\"type\":\"scatterpolar\"},{\"hovertemplate\":\"Task selector=FED\\u003cbr\\u003escore=%{r}\\u003cbr\\u003etheta=%{theta}\\u003cextra\\u003e\\u003c\\u002fextra\\u003e\",\"legendgroup\":\"FED\",\"line\":{\"color\":\"rgb(245, 130, 49)\",\"dash\":\"solid\",\"width\":3},\"marker\":{\"symbol\":\"circle\"},\"mode\":\"lines+markers\",\"name\":\"FED\",\"r\":[-0.035473459515060944,-0.027933998231944573,0.02251505869850129,0.05549344718956616,-0.035473459515060944],\"showlegend\":true,\"subplot\":\"polar\",\"theta\":[\"Augmentation\\u003cbr\\u003ePolicy\",\"Co-Training\\u003cbr\\u003eData\",\"Model\\u003cbr\\u003eArchitecture\",\"Pretraining\\u003cbr\\u003eData\",\"Augmentation\\u003cbr\\u003ePolicy\"],\"type\":\"scatterpolar\"},{\"hovertemplate\":\"Task selector=FID\\u003cbr\\u003escore=%{r}\\u003cbr\\u003etheta=%{theta}\\u003cextra\\u003e\\u003c\\u002fextra\\u003e\",\"legendgroup\":\"FID\",\"line\":{\"color\":\"rgb(145, 30, 180)\",\"dash\":\"solid\",\"width\":3},\"marker\":{\"symbol\":\"circle\"},\"mode\":\"lines+markers\",\"name\":\"FID\",\"r\":[-0.009736009037250271,-0.023090636222434412,0.03708191664182793,0.06109566332175582,-0.009736009037250271],\"showlegend\":true,\"subplot\":\"polar\",\"theta\":[\"Augmentation\\u003cbr\\u003ePolicy\",\"Co-Training\\u003cbr\\u003eData\",\"Model\\u003cbr\\u003eArchitecture\",\"Pretraining\\u003cbr\\u003eData\",\"Augmentation\\u003cbr\\u003ePolicy\"],\"type\":\"scatterpolar\"},{\"hovertemplate\":\"Task selector=P2L (w\\u002fo samples)\\u003cbr\\u003escore=%{r}\\u003cbr\\u003etheta=%{theta}\\u003cextra\\u003e\\u003c\\u002fextra\\u003e\",\"legendgroup\":\"P2L (w\\u002fo samples)\",\"line\":{\"color\":\"rgb(70, 240, 240)\",\"dash\":\"solid\",\"width\":3},\"marker\":{\"symbol\":\"circle\"},\"mode\":\"lines+markers\",\"name\":\"P2L (w\\u002fo samples)\",\"r\":[-0.04958226005264501,-0.021012965179036665,0.028599592713115258,0.05582385502060548,-0.04958226005264501],\"showlegend\":true,\"subplot\":\"polar\",\"theta\":[\"Augmentation\\u003cbr\\u003ePolicy\",\"Co-Training\\u003cbr\\u003eData\",\"Model\\u003cbr\\u003eArchitecture\",\"Pretraining\\u003cbr\\u003eData\",\"Augmentation\\u003cbr\\u003ePolicy\"],\"type\":\"scatterpolar\"},{\"hovertemplate\":\"Task selector=bKLD(small,target)\\u003cbr\\u003escore=%{r}\\u003cbr\\u003etheta=%{theta}\\u003cextra\\u003e\\u003c\\u002fextra\\u003e\",\"legendgroup\":\"bKLD(small,target)\",\"line\":{\"color\":\"rgb(60, 180, 75)\",\"dash\":\"solid\",\"width\":3},\"marker\":{\"symbol\":\"circle\"},\"mode\":\"lines+markers\",\"name\":\"bKLD(small,target)\",\"r\":[0.10528623401085901,-0.01120196877903042,0.06924065548983104,0.1010459770735614,0.10528623401085901],\"showlegend\":true,\"subplot\":\"polar\",\"theta\":[\"Augmentation\\u003cbr\\u003ePolicy\",\"Co-Training\\u003cbr\\u003eData\",\"Model\\u003cbr\\u003eArchitecture\",\"Pretraining\\u003cbr\\u003eData\",\"Augmentation\\u003cbr\\u003ePolicy\"],\"type\":\"scatterpolar\"},{\"hovertemplate\":\"Task selector=bKLD(large,source)\\u003cbr\\u003escore=%{r}\\u003cbr\\u003etheta=%{theta}\\u003cextra\\u003e\\u003c\\u002fextra\\u003e\",\"legendgroup\":\"bKLD(large,source)\",\"line\":{\"color\":\"rgb(60, 180, 75)\",\"dash\":\"dash\",\"width\":3},\"marker\":{\"symbol\":\"hexagon\"},\"mode\":\"lines+markers\",\"name\":\"bKLD(large,source)\",\"r\":[0.02633560221273612,0.020982884374105195,0.08428575482991815,-0.0002493685522359878,0.02633560221273612],\"showlegend\":true,\"subplot\":\"polar\",\"theta\":[\"Augmentation\\u003cbr\\u003ePolicy\",\"Co-Training\\u003cbr\\u003eData\",\"Model\\u003cbr\\u003eArchitecture\",\"Pretraining\\u003cbr\\u003eData\",\"Augmentation\\u003cbr\\u003ePolicy\"],\"type\":\"scatterpolar\"},{\"hovertemplate\":\"Task selector=bKLD(large,unweighted)\\u003cbr\\u003escore=%{r}\\u003cbr\\u003etheta=%{theta}\\u003cextra\\u003e\\u003c\\u002fextra\\u003e\",\"legendgroup\":\"bKLD(large,unweighted)\",\"line\":{\"color\":\"rgb(60, 180, 75)\",\"dash\":\"dot\",\"width\":3},\"marker\":{\"symbol\":\"hexagram\"},\"mode\":\"lines+markers\",\"name\":\"bKLD(large,unweighted)\",\"r\":[0.10276977873333372,-0.013544599831187621,0.0698073237907287,0.09799498458502445,0.10276977873333372],\"showlegend\":true,\"subplot\":\"polar\",\"theta\":[\"Augmentation\\u003cbr\\u003ePolicy\",\"Co-Training\\u003cbr\\u003eData\",\"Model\\u003cbr\\u003eArchitecture\",\"Pretraining\\u003cbr\\u003eData\",\"Augmentation\\u003cbr\\u003ePolicy\"],\"type\":\"scatterpolar\"}],                        {\"template\":{\"data\":{\"barpolar\":[{\"marker\":{\"line\":{\"color\":\"#E5ECF6\",\"width\":0.5},\"pattern\":{\"fillmode\":\"overlay\",\"size\":10,\"solidity\":0.2}},\"type\":\"barpolar\"}],\"bar\":[{\"error_x\":{\"color\":\"#2a3f5f\"},\"error_y\":{\"color\":\"#2a3f5f\"},\"marker\":{\"line\":{\"color\":\"#E5ECF6\",\"width\":0.5},\"pattern\":{\"fillmode\":\"overlay\",\"size\":10,\"solidity\":0.2}},\"type\":\"bar\"}],\"carpet\":[{\"aaxis\":{\"endlinecolor\":\"#2a3f5f\",\"gridcolor\":\"white\",\"linecolor\":\"white\",\"minorgridcolor\":\"white\",\"startlinecolor\":\"#2a3f5f\"},\"baxis\":{\"endlinecolor\":\"#2a3f5f\",\"gridcolor\":\"white\",\"linecolor\":\"white\",\"minorgridcolor\":\"white\",\"startlinecolor\":\"#2a3f5f\"},\"type\":\"carpet\"}],\"choropleth\":[{\"colorbar\":{\"outlinewidth\":0,\"ticks\":\"\"},\"type\":\"choropleth\"}],\"contourcarpet\":[{\"colorbar\":{\"outlinewidth\":0,\"ticks\":\"\"},\"type\":\"contourcarpet\"}],\"contour\":[{\"colorbar\":{\"outlinewidth\":0,\"ticks\":\"\"},\"colorscale\":[[0.0,\"#0d0887\"],[0.1111111111111111,\"#46039f\"],[0.2222222222222222,\"#7201a8\"],[0.3333333333333333,\"#9c179e\"],[0.4444444444444444,\"#bd3786\"],[0.5555555555555556,\"#d8576b\"],[0.6666666666666666,\"#ed7953\"],[0.7777777777777778,\"#fb9f3a\"],[0.8888888888888888,\"#fdca26\"],[1.0,\"#f0f921\"]],\"type\":\"contour\"}],\"heatmapgl\":[{\"colorbar\":{\"outlinewidth\":0,\"ticks\":\"\"},\"colorscale\":[[0.0,\"#0d0887\"],[0.1111111111111111,\"#46039f\"],[0.2222222222222222,\"#7201a8\"],[0.3333333333333333,\"#9c179e\"],[0.4444444444444444,\"#bd3786\"],[0.5555555555555556,\"#d8576b\"],[0.6666666666666666,\"#ed7953\"],[0.7777777777777778,\"#fb9f3a\"],[0.8888888888888888,\"#fdca26\"],[1.0,\"#f0f921\"]],\"type\":\"heatmapgl\"}],\"heatmap\":[{\"colorbar\":{\"outlinewidth\":0,\"ticks\":\"\"},\"colorscale\":[[0.0,\"#0d0887\"],[0.1111111111111111,\"#46039f\"],[0.2222222222222222,\"#7201a8\"],[0.3333333333333333,\"#9c179e\"],[0.4444444444444444,\"#bd3786\"],[0.5555555555555556,\"#d8576b\"],[0.6666666666666666,\"#ed7953\"],[0.7777777777777778,\"#fb9f3a\"],[0.8888888888888888,\"#fdca26\"],[1.0,\"#f0f921\"]],\"type\":\"heatmap\"}],\"histogram2dcontour\":[{\"colorbar\":{\"outlinewidth\":0,\"ticks\":\"\"},\"colorscale\":[[0.0,\"#0d0887\"],[0.1111111111111111,\"#46039f\"],[0.2222222222222222,\"#7201a8\"],[0.3333333333333333,\"#9c179e\"],[0.4444444444444444,\"#bd3786\"],[0.5555555555555556,\"#d8576b\"],[0.6666666666666666,\"#ed7953\"],[0.7777777777777778,\"#fb9f3a\"],[0.8888888888888888,\"#fdca26\"],[1.0,\"#f0f921\"]],\"type\":\"histogram2dcontour\"}],\"histogram2d\":[{\"colorbar\":{\"outlinewidth\":0,\"ticks\":\"\"},\"colorscale\":[[0.0,\"#0d0887\"],[0.1111111111111111,\"#46039f\"],[0.2222222222222222,\"#7201a8\"],[0.3333333333333333,\"#9c179e\"],[0.4444444444444444,\"#bd3786\"],[0.5555555555555556,\"#d8576b\"],[0.6666666666666666,\"#ed7953\"],[0.7777777777777778,\"#fb9f3a\"],[0.8888888888888888,\"#fdca26\"],[1.0,\"#f0f921\"]],\"type\":\"histogram2d\"}],\"histogram\":[{\"marker\":{\"pattern\":{\"fillmode\":\"overlay\",\"size\":10,\"solidity\":0.2}},\"type\":\"histogram\"}],\"mesh3d\":[{\"colorbar\":{\"outlinewidth\":0,\"ticks\":\"\"},\"type\":\"mesh3d\"}],\"parcoords\":[{\"line\":{\"colorbar\":{\"outlinewidth\":0,\"ticks\":\"\"}},\"type\":\"parcoords\"}],\"pie\":[{\"automargin\":true,\"type\":\"pie\"}],\"scatter3d\":[{\"line\":{\"colorbar\":{\"outlinewidth\":0,\"ticks\":\"\"}},\"marker\":{\"colorbar\":{\"outlinewidth\":0,\"ticks\":\"\"}},\"type\":\"scatter3d\"}],\"scattercarpet\":[{\"marker\":{\"colorbar\":{\"outlinewidth\":0,\"ticks\":\"\"}},\"type\":\"scattercarpet\"}],\"scattergeo\":[{\"marker\":{\"colorbar\":{\"outlinewidth\":0,\"ticks\":\"\"}},\"type\":\"scattergeo\"}],\"scattergl\":[{\"marker\":{\"colorbar\":{\"outlinewidth\":0,\"ticks\":\"\"}},\"type\":\"scattergl\"}],\"scattermapbox\":[{\"marker\":{\"colorbar\":{\"outlinewidth\":0,\"ticks\":\"\"}},\"type\":\"scattermapbox\"}],\"scatterpolargl\":[{\"marker\":{\"colorbar\":{\"outlinewidth\":0,\"ticks\":\"\"}},\"type\":\"scatterpolargl\"}],\"scatterpolar\":[{\"marker\":{\"colorbar\":{\"outlinewidth\":0,\"ticks\":\"\"}},\"type\":\"scatterpolar\"}],\"scatter\":[{\"fillpattern\":{\"fillmode\":\"overlay\",\"size\":10,\"solidity\":0.2},\"type\":\"scatter\"}],\"scatterternary\":[{\"marker\":{\"colorbar\":{\"outlinewidth\":0,\"ticks\":\"\"}},\"type\":\"scatterternary\"}],\"surface\":[{\"colorbar\":{\"outlinewidth\":0,\"ticks\":\"\"},\"colorscale\":[[0.0,\"#0d0887\"],[0.1111111111111111,\"#46039f\"],[0.2222222222222222,\"#7201a8\"],[0.3333333333333333,\"#9c179e\"],[0.4444444444444444,\"#bd3786\"],[0.5555555555555556,\"#d8576b\"],[0.6666666666666666,\"#ed7953\"],[0.7777777777777778,\"#fb9f3a\"],[0.8888888888888888,\"#fdca26\"],[1.0,\"#f0f921\"]],\"type\":\"surface\"}],\"table\":[{\"cells\":{\"fill\":{\"color\":\"#EBF0F8\"},\"line\":{\"color\":\"white\"}},\"header\":{\"fill\":{\"color\":\"#C8D4E3\"},\"line\":{\"color\":\"white\"}},\"type\":\"table\"}]},\"layout\":{\"annotationdefaults\":{\"arrowcolor\":\"#2a3f5f\",\"arrowhead\":0,\"arrowwidth\":1},\"autotypenumbers\":\"strict\",\"coloraxis\":{\"colorbar\":{\"outlinewidth\":0,\"ticks\":\"\"}},\"colorscale\":{\"diverging\":[[0,\"#8e0152\"],[0.1,\"#c51b7d\"],[0.2,\"#de77ae\"],[0.3,\"#f1b6da\"],[0.4,\"#fde0ef\"],[0.5,\"#f7f7f7\"],[0.6,\"#e6f5d0\"],[0.7,\"#b8e186\"],[0.8,\"#7fbc41\"],[0.9,\"#4d9221\"],[1,\"#276419\"]],\"sequential\":[[0.0,\"#0d0887\"],[0.1111111111111111,\"#46039f\"],[0.2222222222222222,\"#7201a8\"],[0.3333333333333333,\"#9c179e\"],[0.4444444444444444,\"#bd3786\"],[0.5555555555555556,\"#d8576b\"],[0.6666666666666666,\"#ed7953\"],[0.7777777777777778,\"#fb9f3a\"],[0.8888888888888888,\"#fdca26\"],[1.0,\"#f0f921\"]],\"sequentialminus\":[[0.0,\"#0d0887\"],[0.1111111111111111,\"#46039f\"],[0.2222222222222222,\"#7201a8\"],[0.3333333333333333,\"#9c179e\"],[0.4444444444444444,\"#bd3786\"],[0.5555555555555556,\"#d8576b\"],[0.6666666666666666,\"#ed7953\"],[0.7777777777777778,\"#fb9f3a\"],[0.8888888888888888,\"#fdca26\"],[1.0,\"#f0f921\"]]},\"colorway\":[\"#636efa\",\"#EF553B\",\"#00cc96\",\"#ab63fa\",\"#FFA15A\",\"#19d3f3\",\"#FF6692\",\"#B6E880\",\"#FF97FF\",\"#FECB52\"],\"font\":{\"color\":\"#2a3f5f\"},\"geo\":{\"bgcolor\":\"white\",\"lakecolor\":\"white\",\"landcolor\":\"#E5ECF6\",\"showlakes\":true,\"showland\":true,\"subunitcolor\":\"white\"},\"hoverlabel\":{\"align\":\"left\"},\"hovermode\":\"closest\",\"mapbox\":{\"style\":\"light\"},\"paper_bgcolor\":\"white\",\"plot_bgcolor\":\"#E5ECF6\",\"polar\":{\"angularaxis\":{\"gridcolor\":\"white\",\"linecolor\":\"white\",\"ticks\":\"\"},\"bgcolor\":\"#E5ECF6\",\"radialaxis\":{\"gridcolor\":\"white\",\"linecolor\":\"white\",\"ticks\":\"\"}},\"scene\":{\"xaxis\":{\"backgroundcolor\":\"#E5ECF6\",\"gridcolor\":\"white\",\"gridwidth\":2,\"linecolor\":\"white\",\"showbackground\":true,\"ticks\":\"\",\"zerolinecolor\":\"white\"},\"yaxis\":{\"backgroundcolor\":\"#E5ECF6\",\"gridcolor\":\"white\",\"gridwidth\":2,\"linecolor\":\"white\",\"showbackground\":true,\"ticks\":\"\",\"zerolinecolor\":\"white\"},\"zaxis\":{\"backgroundcolor\":\"#E5ECF6\",\"gridcolor\":\"white\",\"gridwidth\":2,\"linecolor\":\"white\",\"showbackground\":true,\"ticks\":\"\",\"zerolinecolor\":\"white\"}},\"shapedefaults\":{\"line\":{\"color\":\"#2a3f5f\"}},\"ternary\":{\"aaxis\":{\"gridcolor\":\"white\",\"linecolor\":\"white\",\"ticks\":\"\"},\"baxis\":{\"gridcolor\":\"white\",\"linecolor\":\"white\",\"ticks\":\"\"},\"bgcolor\":\"#E5ECF6\",\"caxis\":{\"gridcolor\":\"white\",\"linecolor\":\"white\",\"ticks\":\"\"}},\"title\":{\"x\":0.05},\"xaxis\":{\"automargin\":true,\"gridcolor\":\"white\",\"linecolor\":\"white\",\"ticks\":\"\",\"title\":{\"standoff\":15},\"zerolinecolor\":\"white\",\"zerolinewidth\":2},\"yaxis\":{\"automargin\":true,\"gridcolor\":\"white\",\"linecolor\":\"white\",\"ticks\":\"\",\"title\":{\"standoff\":15},\"zerolinecolor\":\"white\",\"zerolinewidth\":2}}},\"polar\":{\"domain\":{\"x\":[0.0,1.0],\"y\":[0.0,1.0]},\"angularaxis\":{\"direction\":\"clockwise\",\"rotation\":90,\"categoryorder\":\"array\",\"categoryarray\":[\"Augmentation\\u003cbr\\u003ePolicy\",\"Co-Training\\u003cbr\\u003eData\",\"Model\\u003cbr\\u003eArchitecture\",\"Pretraining\\u003cbr\\u003eData\"]},\"radialaxis\":{\"nticks\":5}},\"legend\":{\"title\":{\"text\":\"Task selector\"},\"tracegroupgap\":0},\"margin\":{\"t\":60},\"height\":500,\"width\":1200,\"font\":{\"size\":20}},                        {\"responsive\": true}                    ).then(function(){\n",
       "                            \n",
       "var gd = document.getElementById('fefbb98c-64ba-4ebb-ba09-8dcbb66b9ee0');\n",
       "var x = new MutationObserver(function (mutations, observer) {{\n",
       "        var display = window.getComputedStyle(gd).display;\n",
       "        if (!display || display === 'none') {{\n",
       "            console.log([gd, 'removed!']);\n",
       "            Plotly.purge(gd);\n",
       "            observer.disconnect();\n",
       "        }}\n",
       "}});\n",
       "\n",
       "// Listen for the removal of the full notebook cells\n",
       "var notebookContainer = gd.closest('#notebook-container');\n",
       "if (notebookContainer) {{\n",
       "    x.observe(notebookContainer, {childList: true});\n",
       "}}\n",
       "\n",
       "// Listen for the clearing of the current output cell\n",
       "var outputEl = gd.closest('.output');\n",
       "if (outputEl) {{\n",
       "    x.observe(outputEl, {childList: true});\n",
       "}}\n",
       "\n",
       "                        })                };                });            </script>        </div>"
      ]
     },
     "metadata": {},
     "output_type": "display_data"
    }
   ],
   "execution_count": 54
  },
  {
   "metadata": {},
   "cell_type": "markdown",
   "source": "### Step 4: Create rankings according to \"mean then rank\" (with bootstrapping)",
   "id": "24b10e2b79360910"
  },
  {
   "metadata": {
    "ExecuteTime": {
     "end_time": "2024-10-10T19:53:21.550999Z",
     "start_time": "2024-10-10T19:53:21.542299Z"
    }
   },
   "cell_type": "code",
   "source": [
    "def get_bubble_ranking_plot(\n",
    "        distances: List[str], \n",
    "        meta_metric: str = \"regret\", \n",
    "        exp: Optional[str] = None,  # if None all exps are used\n",
    "        use_median: bool = False,  # if True median instead of mean is used upon ranks\n",
    "        inverted: bool = False,  # inverts orientation of the y-axis (such that low ranks are at the top)\n",
    "        tripled: bool = True  # whether to use the tripled or single evaluations\n",
    ") -> Tuple[go.Figure, pd.DataFrame]:\n",
    "    rr_df = pd.DataFrame()\n",
    "    base_evals = tripled_evaluations if tripled else single_evaluations\n",
    "    sub_evals = base_evals[base_evals['distances'].isin(distances) & (base_evals['meta metric'] == meta_metric)]\n",
    "    if exp is not None:\n",
    "        sub_evals = sub_evals[sub_evals['exp'] == exp]\n",
    "    rr_df['case'] = sub_evals['seed'] + sub_evals['metric'] + sub_evals['target'] + sub_evals['exp']\n",
    "    rr_df['task'] = 'dummy'\n",
    "    rr_df['algorithm'] = sub_evals['distances']\n",
    "    rr_df['value'] = sub_evals['score']\n",
    "    rr_df = rr_df.replace(map_dist2printable)\n",
    "    bsr = BootstrapRanking(data=rr_df, use_median=use_median)\n",
    "    alg_order = list(bsr.statistics.algorithm.values)  # determine ordering\n",
    "    if inverted:\n",
    "        alg_order = alg_order[::-1]\n",
    "    df_counts = bsr.counts.sort_values(by=\"algorithm\", key=lambda column: column.map(lambda e: alg_order.index(e)))\n",
    "    fig = px.scatter(df_counts, x='algorithm', y='rank', color='algorithm', size='count', template='plotly', title=f'{meta_metric} on {exp}' if exp else meta_metric, labels={'rank': 'Rank', 'algorithm': 'Algorithm'}, color_discrete_map=color_map, \n",
    "                     symbol='algorithm', symbol_map=symbol_map)\n",
    "    fig.update_layout(showlegend=False)\n",
    "    fig.add_scatter(x=bsr.statistics['algorithm'], y=bsr.statistics['mean_rank'], error_y={'array': bsr.statistics['std_rank']}, marker_symbol='x-thin',marker_size=15, marker_line_width=2, marker_color='black', mode='markers')\n",
    "    if inverted:\n",
    "        fig.update_yaxes(autorange='reversed')\n",
    "    return fig, bsr.statistics"
   ],
   "id": "b07bb3e8a1775785",
   "outputs": [],
   "execution_count": 56
  },
  {
   "metadata": {},
   "cell_type": "markdown",
   "source": "We now create Figure 5 (bottom) - bootstrapped rankings for 4 knowledge transfer scenarios and 4 meta metrics.",
   "id": "e6620fc78d68b9c0"
  },
  {
   "metadata": {
    "ExecuteTime": {
     "end_time": "2024-10-10T20:01:20.945055Z",
     "start_time": "2024-10-10T20:01:17.263308Z"
    }
   },
   "cell_type": "code",
   "source": [
    "# we use the meta metrics explained in the paper (except for gain, as it is a less granular version of improve)\n",
    "_meta_metrics = ['regret', 'rank', 'delta', 'weightedtau']\n",
    "# map the internal names to the ones of the paper\n",
    "mm_display_map = {'regret': 'Regret', 'rank': 'Percentile', 'delta': 'Improvement', 'weightedtau': 'Weightedtau'}\n",
    "_inverted = True\n",
    "_tripled = True\n",
    "express_figs = []\n",
    "statistics_collector = []\n",
    "for exp in EXPERIMENTS:\n",
    "    for meta_metric in _meta_metrics:\n",
    "        fig, stats = get_bubble_ranking_plot(distances=comp_distances, meta_metric=meta_metric, inverted=_inverted, exp=exp, tripled=_tripled)\n",
    "        express_figs.append(fig)\n",
    "        statistics_collector.append(stats)\n",
    "fig = make_subplots(rows=4, cols=4, shared_xaxes=False, shared_yaxes=True, vertical_spacing=0.01, horizontal_spacing=0.01, \n",
    "                    column_titles=[mm_display_map[m] for m in _meta_metrics],\n",
    "                    row_titles=EXPERIMENTS,\n",
    "                    y_title='Rank')\n",
    "for fig_idx, sub_fig in enumerate(express_figs):\n",
    "    row = 1 + fig_idx // 4\n",
    "    col = 1 + fig_idx % 4\n",
    "    for trace in sub_fig.data:\n",
    "        fig.add_trace(trace, row=row, col=col)\n",
    "fig.update_layout(template='plotly', height=1000, width=1200, font_size=20, legend_title='Task selector')\n",
    "fig.for_each_yaxis(lambda a: a.update(tickvals=list(range(1, len(comp_distances) +1)), autorange='reversed' if _inverted else True))\n",
    "fig.for_each_trace(lambda trace: trace.update(showlegend=trace.yaxis=='y' and trace.name in plot_order))\n",
    "fig.for_each_trace(lambda trace: trace.update(legendrank=1000 + plot_order.index(trace.name)) if trace.showlegend else 1000)\n",
    "fig.for_each_xaxis(lambda a: a.update(showticklabels=False))\n",
    "fig.for_each_annotation(lambda a: a.update(font_size=20))\n",
    "fig.layout.legend.x = 1.08\n",
    "fig.write_image(FIG_PATH / 'fig_5_bottom.png', engine='kaleido')\n",
    "fig.write_image(FIG_PATH / 'fig_5_bottom.pdf', engine='kaleido')\n",
    "fig.show()"
   ],
   "id": "19756dcc95bbc407",
   "outputs": [
    {
     "data": {
      "application/vnd.plotly.v1+json": {
       "data": [
        {
         "hovertemplate": "Algorithm=%{x}<br>Rank=%{y}<br>count=%{marker.size}<extra></extra>",
         "legendgroup": "bKLD(small,target)",
         "marker": {
          "color": "rgb(60, 180, 75)",
          "size": [
           457,
           154,
           102,
           54,
           11,
           1,
           221
          ],
          "sizemode": "area",
          "sizeref": 2.06,
          "symbol": "circle"
         },
         "mode": "markers",
         "name": "bKLD(small,target)",
         "orientation": "v",
         "showlegend": true,
         "x": [
          "bKLD(small,target)",
          "bKLD(small,target)",
          "bKLD(small,target)",
          "bKLD(small,target)",
          "bKLD(small,target)",
          "bKLD(small,target)",
          "bKLD(small,target)"
         ],
         "xaxis": "x",
         "y": [
          8.0,
          6.0,
          5.0,
          4.0,
          3.0,
          2.0,
          7.0
         ],
         "yaxis": "y",
         "type": "scatter",
         "legendrank": 1005
        },
        {
         "hovertemplate": "Algorithm=%{x}<br>Rank=%{y}<br>count=%{marker.size}<extra></extra>",
         "legendgroup": "bKLD(large,unweighted)",
         "marker": {
          "color": "rgb(60, 180, 75)",
          "size": [
           2,
           78,
           130,
           181,
           185,
           317,
           107
          ],
          "sizemode": "area",
          "sizeref": 2.06,
          "symbol": "hexagram"
         },
         "mode": "markers",
         "name": "bKLD(large,unweighted)",
         "orientation": "v",
         "showlegend": true,
         "x": [
          "bKLD(large,unweighted)",
          "bKLD(large,unweighted)",
          "bKLD(large,unweighted)",
          "bKLD(large,unweighted)",
          "bKLD(large,unweighted)",
          "bKLD(large,unweighted)",
          "bKLD(large,unweighted)"
         ],
         "xaxis": "x",
         "y": [
          2.0,
          3.0,
          4.0,
          5.0,
          6.0,
          7.0,
          8.0
         ],
         "yaxis": "y",
         "type": "scatter",
         "legendrank": 1007
        },
        {
         "hovertemplate": "Algorithm=%{x}<br>Rank=%{y}<br>count=%{marker.size}<extra></extra>",
         "legendgroup": "P2L (w/o samples)",
         "marker": {
          "color": "rgb(70, 240, 240)",
          "size": [
           169,
           172,
           238,
           181,
           49,
           3,
           188
          ],
          "sizemode": "area",
          "sizeref": 2.06,
          "symbol": "circle"
         },
         "mode": "markers",
         "name": "P2L (w/o samples)",
         "orientation": "v",
         "showlegend": true,
         "x": [
          "P2L (w/o samples)",
          "P2L (w/o samples)",
          "P2L (w/o samples)",
          "P2L (w/o samples)",
          "P2L (w/o samples)",
          "P2L (w/o samples)",
          "P2L (w/o samples)"
         ],
         "xaxis": "x",
         "y": [
          8.0,
          7.0,
          5.0,
          4.0,
          3.0,
          2.0,
          6.0
         ],
         "yaxis": "y",
         "type": "scatter",
         "legendrank": 1004
        },
        {
         "hovertemplate": "Algorithm=%{x}<br>Rank=%{y}<br>count=%{marker.size}<extra></extra>",
         "legendgroup": "VDNA",
         "marker": {
          "color": "rgb(67, 99, 216)",
          "size": [
           165,
           180,
           156,
           201,
           189,
           11,
           98
          ],
          "sizemode": "area",
          "sizeref": 2.06,
          "symbol": "circle"
         },
         "mode": "markers",
         "name": "VDNA",
         "orientation": "v",
         "showlegend": true,
         "x": [
          "VDNA",
          "VDNA",
          "VDNA",
          "VDNA",
          "VDNA",
          "VDNA",
          "VDNA"
         ],
         "xaxis": "x",
         "y": [
          4.0,
          8.0,
          7.0,
          6.0,
          5.0,
          2.0,
          3.0
         ],
         "yaxis": "y",
         "type": "scatter",
         "legendrank": 1001
        },
        {
         "hovertemplate": "Algorithm=%{x}<br>Rank=%{y}<br>count=%{marker.size}<extra></extra>",
         "legendgroup": "FID",
         "marker": {
          "color": "rgb(145, 30, 180)",
          "size": [
           128,
           13,
           1,
           201,
           257,
           108,
           76,
           216
          ],
          "sizemode": "area",
          "sizeref": 2.06,
          "symbol": "circle"
         },
         "mode": "markers",
         "name": "FID",
         "orientation": "v",
         "showlegend": true,
         "x": [
          "FID",
          "FID",
          "FID",
          "FID",
          "FID",
          "FID",
          "FID",
          "FID"
         ],
         "xaxis": "x",
         "y": [
          3.0,
          2.0,
          1.0,
          5.0,
          4.0,
          7.0,
          8.0,
          6.0
         ],
         "yaxis": "y",
         "type": "scatter",
         "legendrank": 1003
        },
        {
         "hovertemplate": "Algorithm=%{x}<br>Rank=%{y}<br>count=%{marker.size}<extra></extra>",
         "legendgroup": "FED",
         "marker": {
          "color": "rgb(245, 130, 49)",
          "size": [
           50,
           81,
           24,
           11,
           194,
           553,
           82,
           5
          ],
          "sizemode": "area",
          "sizeref": 2.06,
          "symbol": "circle"
         },
         "mode": "markers",
         "name": "FED",
         "orientation": "v",
         "showlegend": true,
         "x": [
          "FED",
          "FED",
          "FED",
          "FED",
          "FED",
          "FED",
          "FED",
          "FED"
         ],
         "xaxis": "x",
         "y": [
          6.0,
          5.0,
          7.0,
          8.0,
          4.0,
          3.0,
          2.0,
          1.0
         ],
         "yaxis": "y",
         "type": "scatter",
         "legendrank": 1002
        },
        {
         "hovertemplate": "Algorithm=%{x}<br>Rank=%{y}<br>count=%{marker.size}<extra></extra>",
         "legendgroup": "Manual",
         "marker": {
          "color": "rgb(230, 25, 75)",
          "size": [
           5,
           6,
           170,
           720,
           78,
           19,
           2
          ],
          "sizemode": "area",
          "sizeref": 2.06,
          "symbol": "circle"
         },
         "mode": "markers",
         "name": "Manual",
         "orientation": "v",
         "showlegend": true,
         "x": [
          "Manual",
          "Manual",
          "Manual",
          "Manual",
          "Manual",
          "Manual",
          "Manual"
         ],
         "xaxis": "x",
         "y": [
          6.0,
          5.0,
          1.0,
          2.0,
          3.0,
          4.0,
          7.0
         ],
         "yaxis": "y",
         "type": "scatter",
         "legendrank": 1000
        },
        {
         "hovertemplate": "Algorithm=%{x}<br>Rank=%{y}<br>count=%{marker.size}<extra></extra>",
         "legendgroup": "bKLD(large,source)",
         "marker": {
          "color": "rgb(60, 180, 75)",
          "size": [
           2,
           5,
           824,
           1,
           168
          ],
          "sizemode": "area",
          "sizeref": 2.06,
          "symbol": "hexagon"
         },
         "mode": "markers",
         "name": "bKLD(large,source)",
         "orientation": "v",
         "showlegend": true,
         "x": [
          "bKLD(large,source)",
          "bKLD(large,source)",
          "bKLD(large,source)",
          "bKLD(large,source)",
          "bKLD(large,source)"
         ],
         "xaxis": "x",
         "y": [
          5.0,
          3.0,
          1.0,
          6.0,
          2.0
         ],
         "yaxis": "y",
         "type": "scatter",
         "legendrank": 1006
        },
        {
         "error_y": {
          "array": [
           0.45663880693607284,
           0.7127159321917815,
           1.1873394628327656,
           1.491034540176719,
           1.6330091855222368,
           1.4956600549590138,
           1.4686374637738204,
           1.301328551903784
          ]
         },
         "marker": {
          "color": "black",
          "line": {
           "width": 2
          },
          "size": 15,
          "symbol": "x-thin"
         },
         "mode": "markers",
         "x": [
          "bKLD(large,source)",
          "Manual",
          "FED",
          "FID",
          "VDNA",
          "P2L (w/o samples)",
          "bKLD(large,unweighted)",
          "bKLD(small,target)"
         ],
         "y": [
          1.191,
          1.994,
          3.565,
          5.104,
          5.659,
          5.751,
          5.848,
          6.888
         ],
         "type": "scatter",
         "xaxis": "x",
         "yaxis": "y",
         "showlegend": false
        },
        {
         "hovertemplate": "Algorithm=%{x}<br>Rank=%{y}<br>count=%{marker.size}<extra></extra>",
         "legendgroup": "VDNA",
         "marker": {
          "color": "rgb(67, 99, 216)",
          "size": [
           7,
           25,
           72,
           143,
           554,
           199
          ],
          "sizemode": "area",
          "sizeref": 2.2125,
          "symbol": "circle"
         },
         "mode": "markers",
         "name": "VDNA",
         "orientation": "v",
         "showlegend": false,
         "x": [
          "VDNA",
          "VDNA",
          "VDNA",
          "VDNA",
          "VDNA",
          "VDNA"
         ],
         "xaxis": "x2",
         "y": [
          3.0,
          4.0,
          5.0,
          6.0,
          8.0,
          7.0
         ],
         "yaxis": "y2",
         "type": "scatter"
        },
        {
         "hovertemplate": "Algorithm=%{x}<br>Rank=%{y}<br>count=%{marker.size}<extra></extra>",
         "legendgroup": "FID",
         "marker": {
          "color": "rgb(145, 30, 180)",
          "size": [
           183,
           5,
           56,
           127,
           164,
           203,
           262
          ],
          "sizemode": "area",
          "sizeref": 2.2125,
          "symbol": "circle"
         },
         "mode": "markers",
         "name": "FID",
         "orientation": "v",
         "showlegend": false,
         "x": [
          "FID",
          "FID",
          "FID",
          "FID",
          "FID",
          "FID",
          "FID"
         ],
         "xaxis": "x2",
         "y": [
          5.0,
          2.0,
          3.0,
          4.0,
          8.0,
          6.0,
          7.0
         ],
         "yaxis": "y2",
         "type": "scatter"
        },
        {
         "hovertemplate": "Algorithm=%{x}<br>Rank=%{y}<br>count=%{marker.size}<extra></extra>",
         "legendgroup": "bKLD(small,target)",
         "marker": {
          "color": "rgb(60, 180, 75)",
          "size": [
           210,
           156,
           3,
           49,
           188,
           221,
           173
          ],
          "sizemode": "area",
          "sizeref": 2.2125,
          "symbol": "circle"
         },
         "mode": "markers",
         "name": "bKLD(small,target)",
         "orientation": "v",
         "showlegend": false,
         "x": [
          "bKLD(small,target)",
          "bKLD(small,target)",
          "bKLD(small,target)",
          "bKLD(small,target)",
          "bKLD(small,target)",
          "bKLD(small,target)",
          "bKLD(small,target)"
         ],
         "xaxis": "x2",
         "y": [
          7.0,
          8.0,
          2.0,
          3.0,
          4.0,
          5.0,
          6.0
         ],
         "yaxis": "y2",
         "type": "scatter"
        },
        {
         "hovertemplate": "Algorithm=%{x}<br>Rank=%{y}<br>count=%{marker.size}<extra></extra>",
         "legendgroup": "P2L (w/o samples)",
         "marker": {
          "color": "rgb(70, 240, 240)",
          "size": [
           73,
           175,
           168,
           241,
           232,
           5,
           106
          ],
          "sizemode": "area",
          "sizeref": 2.2125,
          "symbol": "circle"
         },
         "mode": "markers",
         "name": "P2L (w/o samples)",
         "orientation": "v",
         "showlegend": false,
         "x": [
          "P2L (w/o samples)",
          "P2L (w/o samples)",
          "P2L (w/o samples)",
          "P2L (w/o samples)",
          "P2L (w/o samples)",
          "P2L (w/o samples)",
          "P2L (w/o samples)"
         ],
         "xaxis": "x2",
         "y": [
          8.0,
          7.0,
          5.0,
          4.0,
          6.0,
          2.0,
          3.0
         ],
         "yaxis": "y2",
         "type": "scatter"
        },
        {
         "hovertemplate": "Algorithm=%{x}<br>Rank=%{y}<br>count=%{marker.size}<extra></extra>",
         "legendgroup": "bKLD(large,unweighted)",
         "marker": {
          "color": "rgb(60, 180, 75)",
          "size": [
           40,
           106,
           181,
           206,
           249,
           208,
           9,
           1
          ],
          "sizemode": "area",
          "sizeref": 2.2125,
          "symbol": "hexagram"
         },
         "mode": "markers",
         "name": "bKLD(large,unweighted)",
         "orientation": "v",
         "showlegend": false,
         "x": [
          "bKLD(large,unweighted)",
          "bKLD(large,unweighted)",
          "bKLD(large,unweighted)",
          "bKLD(large,unweighted)",
          "bKLD(large,unweighted)",
          "bKLD(large,unweighted)",
          "bKLD(large,unweighted)",
          "bKLD(large,unweighted)"
         ],
         "xaxis": "x2",
         "y": [
          8.0,
          7.0,
          6.0,
          5.0,
          4.0,
          3.0,
          2.0,
          1.0
         ],
         "yaxis": "y2",
         "type": "scatter"
        },
        {
         "hovertemplate": "Algorithm=%{x}<br>Rank=%{y}<br>count=%{marker.size}<extra></extra>",
         "legendgroup": "FED",
         "marker": {
          "color": "rgb(245, 130, 49)",
          "size": [
           1,
           65,
           504,
           156,
           12,
           148,
           66,
           48
          ],
          "sizemode": "area",
          "sizeref": 2.2125,
          "symbol": "circle"
         },
         "mode": "markers",
         "name": "FED",
         "orientation": "v",
         "showlegend": false,
         "x": [
          "FED",
          "FED",
          "FED",
          "FED",
          "FED",
          "FED",
          "FED",
          "FED"
         ],
         "xaxis": "x2",
         "y": [
          1.0,
          2.0,
          3.0,
          4.0,
          8.0,
          5.0,
          6.0,
          7.0
         ],
         "yaxis": "y2",
         "type": "scatter"
        },
        {
         "hovertemplate": "Algorithm=%{x}<br>Rank=%{y}<br>count=%{marker.size}<extra></extra>",
         "legendgroup": "Manual",
         "marker": {
          "color": "rgb(230, 25, 75)",
          "size": [
           1,
           2,
           2,
           60,
           810,
           113,
           12
          ],
          "sizemode": "area",
          "sizeref": 2.2125,
          "symbol": "circle"
         },
         "mode": "markers",
         "name": "Manual",
         "orientation": "v",
         "showlegend": false,
         "x": [
          "Manual",
          "Manual",
          "Manual",
          "Manual",
          "Manual",
          "Manual",
          "Manual"
         ],
         "xaxis": "x2",
         "y": [
          8.0,
          6.0,
          5.0,
          3.0,
          2.0,
          1.0,
          4.0
         ],
         "yaxis": "y2",
         "type": "scatter"
        },
        {
         "hovertemplate": "Algorithm=%{x}<br>Rank=%{y}<br>count=%{marker.size}<extra></extra>",
         "legendgroup": "bKLD(large,source)",
         "marker": {
          "color": "rgb(60, 180, 75)",
          "size": [
           2,
           10,
           103,
           885
          ],
          "sizemode": "area",
          "sizeref": 2.2125,
          "symbol": "hexagon"
         },
         "mode": "markers",
         "name": "bKLD(large,source)",
         "orientation": "v",
         "showlegend": false,
         "x": [
          "bKLD(large,source)",
          "bKLD(large,source)",
          "bKLD(large,source)",
          "bKLD(large,source)"
         ],
         "xaxis": "x2",
         "y": [
          4.0,
          3.0,
          2.0,
          1.0
         ],
         "yaxis": "y2",
         "type": "scatter"
        },
        {
         "error_y": {
          "array": [
           0.3799460488016687,
           0.5540027075746111,
           1.3348314500340481,
           1.4524155741384766,
           1.479226487053284,
           1.4970784882563772,
           1.48046445414944,
           1.1380263617333302
          ]
         },
         "marker": {
          "color": "black",
          "line": {
           "width": 2
          },
          "size": 15,
          "symbol": "x-thin"
         },
         "mode": "markers",
         "x": [
          "bKLD(large,source)",
          "Manual",
          "FED",
          "bKLD(large,unweighted)",
          "P2L (w/o samples)",
          "bKLD(small,target)",
          "FID",
          "VDNA"
         ],
         "y": [
          1.129,
          1.991,
          3.835,
          4.817,
          5.333,
          5.766,
          5.965,
          7.164
         ],
         "type": "scatter",
         "xaxis": "x2",
         "yaxis": "y2",
         "showlegend": false
        },
        {
         "hovertemplate": "Algorithm=%{x}<br>Rank=%{y}<br>count=%{marker.size}<extra></extra>",
         "legendgroup": "bKLD(large,unweighted)",
         "marker": {
          "color": "rgb(60, 180, 75)",
          "size": [
           45,
           339,
           225,
           136,
           127,
           113,
           15
          ],
          "sizemode": "area",
          "sizeref": 2.4475,
          "symbol": "hexagram"
         },
         "mode": "markers",
         "name": "bKLD(large,unweighted)",
         "orientation": "v",
         "showlegend": false,
         "x": [
          "bKLD(large,unweighted)",
          "bKLD(large,unweighted)",
          "bKLD(large,unweighted)",
          "bKLD(large,unweighted)",
          "bKLD(large,unweighted)",
          "bKLD(large,unweighted)",
          "bKLD(large,unweighted)"
         ],
         "xaxis": "x3",
         "y": [
          3.0,
          8.0,
          7.0,
          6.0,
          5.0,
          4.0,
          2.0
         ],
         "yaxis": "y3",
         "type": "scatter"
        },
        {
         "hovertemplate": "Algorithm=%{x}<br>Rank=%{y}<br>count=%{marker.size}<extra></extra>",
         "legendgroup": "VDNA",
         "marker": {
          "color": "rgb(67, 99, 216)",
          "size": [
           6,
           45,
           78,
           150,
           270,
           126,
           325
          ],
          "sizemode": "area",
          "sizeref": 2.4475,
          "symbol": "circle"
         },
         "mode": "markers",
         "name": "VDNA",
         "orientation": "v",
         "showlegend": false,
         "x": [
          "VDNA",
          "VDNA",
          "VDNA",
          "VDNA",
          "VDNA",
          "VDNA",
          "VDNA"
         ],
         "xaxis": "x3",
         "y": [
          2.0,
          3.0,
          4.0,
          5.0,
          6.0,
          7.0,
          8.0
         ],
         "yaxis": "y3",
         "type": "scatter"
        },
        {
         "hovertemplate": "Algorithm=%{x}<br>Rank=%{y}<br>count=%{marker.size}<extra></extra>",
         "legendgroup": "bKLD(small,target)",
         "marker": {
          "color": "rgb(60, 180, 75)",
          "size": [
           319,
           70,
           4,
           49,
           118,
           139,
           113,
           188
          ],
          "sizemode": "area",
          "sizeref": 2.4475,
          "symbol": "circle"
         },
         "mode": "markers",
         "name": "bKLD(small,target)",
         "orientation": "v",
         "showlegend": false,
         "x": [
          "bKLD(small,target)",
          "bKLD(small,target)",
          "bKLD(small,target)",
          "bKLD(small,target)",
          "bKLD(small,target)",
          "bKLD(small,target)",
          "bKLD(small,target)",
          "bKLD(small,target)"
         ],
         "xaxis": "x3",
         "y": [
          7.0,
          8.0,
          1.0,
          2.0,
          3.0,
          4.0,
          5.0,
          6.0
         ],
         "yaxis": "y3",
         "type": "scatter"
        },
        {
         "hovertemplate": "Algorithm=%{x}<br>Rank=%{y}<br>count=%{marker.size}<extra></extra>",
         "legendgroup": "P2L (w/o samples)",
         "marker": {
          "color": "rgb(70, 240, 240)",
          "size": [
           94,
           185,
           186,
           202,
           106,
           25,
           202
          ],
          "sizemode": "area",
          "sizeref": 2.4475,
          "symbol": "circle"
         },
         "mode": "markers",
         "name": "P2L (w/o samples)",
         "orientation": "v",
         "showlegend": false,
         "x": [
          "P2L (w/o samples)",
          "P2L (w/o samples)",
          "P2L (w/o samples)",
          "P2L (w/o samples)",
          "P2L (w/o samples)",
          "P2L (w/o samples)",
          "P2L (w/o samples)"
         ],
         "xaxis": "x3",
         "y": [
          8.0,
          7.0,
          5.0,
          4.0,
          6.0,
          2.0,
          3.0
         ],
         "yaxis": "y3",
         "type": "scatter"
        },
        {
         "hovertemplate": "Algorithm=%{x}<br>Rank=%{y}<br>count=%{marker.size}<extra></extra>",
         "legendgroup": "FID",
         "marker": {
          "color": "rgb(145, 30, 180)",
          "size": [
           228,
           186,
           79,
           1,
           81,
           89,
           180,
           156
          ],
          "sizemode": "area",
          "sizeref": 2.4475,
          "symbol": "circle"
         },
         "mode": "markers",
         "name": "FID",
         "orientation": "v",
         "showlegend": false,
         "x": [
          "FID",
          "FID",
          "FID",
          "FID",
          "FID",
          "FID",
          "FID",
          "FID"
         ],
         "xaxis": "x3",
         "y": [
          4.0,
          3.0,
          2.0,
          1.0,
          7.0,
          8.0,
          5.0,
          6.0
         ],
         "yaxis": "y3",
         "type": "scatter"
        },
        {
         "hovertemplate": "Algorithm=%{x}<br>Rank=%{y}<br>count=%{marker.size}<extra></extra>",
         "legendgroup": "Manual",
         "marker": {
          "color": "rgb(230, 25, 75)",
          "size": [
           118,
           253,
           153,
           201,
           130,
           60,
           82,
           3
          ],
          "sizemode": "area",
          "sizeref": 2.4475,
          "symbol": "circle"
         },
         "mode": "markers",
         "name": "Manual",
         "orientation": "v",
         "showlegend": false,
         "x": [
          "Manual",
          "Manual",
          "Manual",
          "Manual",
          "Manual",
          "Manual",
          "Manual",
          "Manual"
         ],
         "xaxis": "x3",
         "y": [
          2.0,
          3.0,
          4.0,
          5.0,
          6.0,
          7.0,
          8.0,
          1.0
         ],
         "yaxis": "y3",
         "type": "scatter"
        },
        {
         "hovertemplate": "Algorithm=%{x}<br>Rank=%{y}<br>count=%{marker.size}<extra></extra>",
         "legendgroup": "FED",
         "marker": {
          "color": "rgb(245, 130, 49)",
          "size": [
           694,
           84,
           148,
           43,
           13,
           13,
           1,
           4
          ],
          "sizemode": "area",
          "sizeref": 2.4475,
          "symbol": "circle"
         },
         "mode": "markers",
         "name": "FED",
         "orientation": "v",
         "showlegend": false,
         "x": [
          "FED",
          "FED",
          "FED",
          "FED",
          "FED",
          "FED",
          "FED",
          "FED"
         ],
         "xaxis": "x3",
         "y": [
          2.0,
          4.0,
          3.0,
          5.0,
          6.0,
          1.0,
          8.0,
          7.0
         ],
         "yaxis": "y3",
         "type": "scatter"
        },
        {
         "hovertemplate": "Algorithm=%{x}<br>Rank=%{y}<br>count=%{marker.size}<extra></extra>",
         "legendgroup": "bKLD(large,source)",
         "marker": {
          "color": "rgb(60, 180, 75)",
          "size": [
           3,
           3,
           14,
           979,
           1
          ],
          "sizemode": "area",
          "sizeref": 2.4475,
          "symbol": "hexagon"
         },
         "mode": "markers",
         "name": "bKLD(large,source)",
         "orientation": "v",
         "showlegend": false,
         "x": [
          "bKLD(large,source)",
          "bKLD(large,source)",
          "bKLD(large,source)",
          "bKLD(large,source)",
          "bKLD(large,source)"
         ],
         "xaxis": "x3",
         "y": [
          4.0,
          3.0,
          2.0,
          1.0,
          6.0
         ],
         "yaxis": "y3",
         "type": "scatter"
        },
        {
         "error_y": {
          "array": [
           0.2772075035059477,
           0.9838190890605854,
           1.7615785534570974,
           1.707180131093377,
           1.7091140980051627,
           1.7210450313690226,
           1.5140274105841018,
           1.6367574652342356
          ]
         },
         "marker": {
          "color": "black",
          "line": {
           "width": 2
          },
          "size": 15,
          "symbol": "x-thin"
         },
         "mode": "markers",
         "x": [
          "bKLD(large,source)",
          "FED",
          "Manual",
          "FID",
          "P2L (w/o samples)",
          "bKLD(small,target)",
          "VDNA",
          "bKLD(large,unweighted)"
         ],
         "y": [
          1.034,
          2.51,
          4.471,
          4.744,
          5.077,
          5.498,
          6.311,
          6.355
         ],
         "type": "scatter",
         "xaxis": "x3",
         "yaxis": "y3",
         "showlegend": false
        },
        {
         "hovertemplate": "Algorithm=%{x}<br>Rank=%{y}<br>count=%{marker.size}<extra></extra>",
         "legendgroup": "FED",
         "marker": {
          "color": "rgb(245, 130, 49)",
          "size": [
           4,
           106,
           890
          ],
          "sizemode": "area",
          "sizeref": 2.225,
          "symbol": "circle"
         },
         "mode": "markers",
         "name": "FED",
         "orientation": "v",
         "showlegend": false,
         "x": [
          "FED",
          "FED",
          "FED"
         ],
         "xaxis": "x4",
         "y": [
          6.0,
          7.0,
          8.0
         ],
         "yaxis": "y4",
         "type": "scatter"
        },
        {
         "hovertemplate": "Algorithm=%{x}<br>Rank=%{y}<br>count=%{marker.size}<extra></extra>",
         "legendgroup": "P2L (w/o samples)",
         "marker": {
          "color": "rgb(70, 240, 240)",
          "size": [
           834,
           62,
           104
          ],
          "sizemode": "area",
          "sizeref": 2.225,
          "symbol": "circle"
         },
         "mode": "markers",
         "name": "P2L (w/o samples)",
         "orientation": "v",
         "showlegend": false,
         "x": [
          "P2L (w/o samples)",
          "P2L (w/o samples)",
          "P2L (w/o samples)"
         ],
         "xaxis": "x4",
         "y": [
          7.0,
          6.0,
          8.0
         ],
         "yaxis": "y4",
         "type": "scatter"
        },
        {
         "hovertemplate": "Algorithm=%{x}<br>Rank=%{y}<br>count=%{marker.size}<extra></extra>",
         "legendgroup": "FID",
         "marker": {
          "color": "rgb(145, 30, 180)",
          "size": [
           26,
           1,
           652,
           36,
           285
          ],
          "sizemode": "area",
          "sizeref": 2.225,
          "symbol": "circle"
         },
         "mode": "markers",
         "name": "FID",
         "orientation": "v",
         "showlegend": false,
         "x": [
          "FID",
          "FID",
          "FID",
          "FID",
          "FID"
         ],
         "xaxis": "x4",
         "y": [
          7.0,
          8.0,
          6.0,
          4.0,
          5.0
         ],
         "yaxis": "y4",
         "type": "scatter"
        },
        {
         "hovertemplate": "Algorithm=%{x}<br>Rank=%{y}<br>count=%{marker.size}<extra></extra>",
         "legendgroup": "VDNA",
         "marker": {
          "color": "rgb(67, 99, 216)",
          "size": [
           2,
           94,
           398,
           1,
           505
          ],
          "sizemode": "area",
          "sizeref": 2.225,
          "symbol": "circle"
         },
         "mode": "markers",
         "name": "VDNA",
         "orientation": "v",
         "showlegend": false,
         "x": [
          "VDNA",
          "VDNA",
          "VDNA",
          "VDNA",
          "VDNA"
         ],
         "xaxis": "x4",
         "y": [
          7.0,
          6.0,
          4.0,
          2.0,
          5.0
         ],
         "yaxis": "y4",
         "type": "scatter"
        },
        {
         "hovertemplate": "Algorithm=%{x}<br>Rank=%{y}<br>count=%{marker.size}<extra></extra>",
         "legendgroup": "Manual",
         "marker": {
          "color": "rgb(230, 25, 75)",
          "size": [
           32,
           188,
           210,
           562,
           1,
           2,
           5
          ],
          "sizemode": "area",
          "sizeref": 2.225,
          "symbol": "circle"
         },
         "mode": "markers",
         "name": "Manual",
         "orientation": "v",
         "showlegend": false,
         "x": [
          "Manual",
          "Manual",
          "Manual",
          "Manual",
          "Manual",
          "Manual",
          "Manual"
         ],
         "xaxis": "x4",
         "y": [
          7.0,
          6.0,
          5.0,
          4.0,
          3.0,
          2.0,
          8.0
         ],
         "yaxis": "y4",
         "type": "scatter"
        },
        {
         "hovertemplate": "Algorithm=%{x}<br>Rank=%{y}<br>count=%{marker.size}<extra></extra>",
         "legendgroup": "bKLD(small,target)",
         "marker": {
          "color": "rgb(60, 180, 75)",
          "size": [
           354,
           51,
           1,
           594
          ],
          "sizemode": "area",
          "sizeref": 2.225,
          "symbol": "circle"
         },
         "mode": "markers",
         "name": "bKLD(small,target)",
         "orientation": "v",
         "showlegend": false,
         "x": [
          "bKLD(small,target)",
          "bKLD(small,target)",
          "bKLD(small,target)",
          "bKLD(small,target)"
         ],
         "xaxis": "x4",
         "y": [
          2.0,
          1.0,
          4.0,
          3.0
         ],
         "yaxis": "y4",
         "type": "scatter"
        },
        {
         "hovertemplate": "Algorithm=%{x}<br>Rank=%{y}<br>count=%{marker.size}<extra></extra>",
         "legendgroup": "bKLD(large,unweighted)",
         "marker": {
          "color": "rgb(60, 180, 75)",
          "size": [
           74,
           625,
           299,
           2
          ],
          "sizemode": "area",
          "sizeref": 2.225,
          "symbol": "hexagram"
         },
         "mode": "markers",
         "name": "bKLD(large,unweighted)",
         "orientation": "v",
         "showlegend": false,
         "x": [
          "bKLD(large,unweighted)",
          "bKLD(large,unweighted)",
          "bKLD(large,unweighted)",
          "bKLD(large,unweighted)"
         ],
         "xaxis": "x4",
         "y": [
          1.0,
          2.0,
          3.0,
          4.0
         ],
         "yaxis": "y4",
         "type": "scatter"
        },
        {
         "hovertemplate": "Algorithm=%{x}<br>Rank=%{y}<br>count=%{marker.size}<extra></extra>",
         "legendgroup": "bKLD(large,source)",
         "marker": {
          "color": "rgb(60, 180, 75)",
          "size": [
           1,
           875,
           18,
           106
          ],
          "sizemode": "area",
          "sizeref": 2.225,
          "symbol": "hexagon"
         },
         "mode": "markers",
         "name": "bKLD(large,source)",
         "orientation": "v",
         "showlegend": false,
         "x": [
          "bKLD(large,source)",
          "bKLD(large,source)",
          "bKLD(large,source)",
          "bKLD(large,source)"
         ],
         "xaxis": "x4",
         "y": [
          4.0,
          1.0,
          2.0,
          3.0
         ],
         "yaxis": "y4",
         "type": "scatter"
        },
        {
         "error_y": {
          "array": [
           0.6298499821386042,
           0.5732006629444876,
           0.5932748098478479,
           0.9236833873140731,
           0.645903243528007,
           0.5922491029963658,
           0.4052604101068842,
           0.33015753815413634
          ]
         },
         "marker": {
          "color": "black",
          "line": {
           "width": 2
          },
          "size": 15,
          "symbol": "x-thin"
         },
         "mode": "markers",
         "x": [
          "bKLD(large,source)",
          "bKLD(large,unweighted)",
          "bKLD(small,target)",
          "Manual",
          "VDNA",
          "FID",
          "P2L (w/o samples)",
          "FED"
         ],
         "y": [
          1.233,
          2.229,
          2.545,
          4.697,
          4.697,
          5.671,
          7.042,
          7.886
         ],
         "type": "scatter",
         "xaxis": "x4",
         "yaxis": "y4",
         "showlegend": false
        },
        {
         "hovertemplate": "Algorithm=%{x}<br>Rank=%{y}<br>count=%{marker.size}<extra></extra>",
         "legendgroup": "bKLD(large,source)",
         "marker": {
          "color": "rgb(60, 180, 75)",
          "size": [
           991,
           9
          ],
          "sizemode": "area",
          "sizeref": 2.4775,
          "symbol": "hexagon"
         },
         "mode": "markers",
         "name": "bKLD(large,source)",
         "orientation": "v",
         "showlegend": false,
         "x": [
          "bKLD(large,source)",
          "bKLD(large,source)"
         ],
         "xaxis": "x5",
         "y": [
          8.0,
          7.0
         ],
         "yaxis": "y5",
         "type": "scatter"
        },
        {
         "hovertemplate": "Algorithm=%{x}<br>Rank=%{y}<br>count=%{marker.size}<extra></extra>",
         "legendgroup": "Manual",
         "marker": {
          "color": "rgb(230, 25, 75)",
          "size": [
           991,
           9
          ],
          "sizemode": "area",
          "sizeref": 2.4775,
          "symbol": "circle"
         },
         "mode": "markers",
         "name": "Manual",
         "orientation": "v",
         "showlegend": false,
         "x": [
          "Manual",
          "Manual"
         ],
         "xaxis": "x5",
         "y": [
          7.0,
          8.0
         ],
         "yaxis": "y5",
         "type": "scatter"
        },
        {
         "hovertemplate": "Algorithm=%{x}<br>Rank=%{y}<br>count=%{marker.size}<extra></extra>",
         "legendgroup": "FED",
         "marker": {
          "color": "rgb(245, 130, 49)",
          "size": [
           23,
           54,
           90,
           145,
           204,
           484
          ],
          "sizemode": "area",
          "sizeref": 2.4775,
          "symbol": "circle"
         },
         "mode": "markers",
         "name": "FED",
         "orientation": "v",
         "showlegend": false,
         "x": [
          "FED",
          "FED",
          "FED",
          "FED",
          "FED",
          "FED"
         ],
         "xaxis": "x5",
         "y": [
          1.0,
          2.0,
          3.0,
          4.0,
          5.0,
          6.0
         ],
         "yaxis": "y5",
         "type": "scatter"
        },
        {
         "hovertemplate": "Algorithm=%{x}<br>Rank=%{y}<br>count=%{marker.size}<extra></extra>",
         "legendgroup": "P2L (w/o samples)",
         "marker": {
          "color": "rgb(70, 240, 240)",
          "size": [
           334,
           224,
           106,
           35,
           267,
           34
          ],
          "sizemode": "area",
          "sizeref": 2.4775,
          "symbol": "circle"
         },
         "mode": "markers",
         "name": "P2L (w/o samples)",
         "orientation": "v",
         "showlegend": false,
         "x": [
          "P2L (w/o samples)",
          "P2L (w/o samples)",
          "P2L (w/o samples)",
          "P2L (w/o samples)",
          "P2L (w/o samples)",
          "P2L (w/o samples)"
         ],
         "xaxis": "x5",
         "y": [
          5.0,
          4.0,
          3.0,
          2.0,
          6.0,
          1.0
         ],
         "yaxis": "y5",
         "type": "scatter"
        },
        {
         "hovertemplate": "Algorithm=%{x}<br>Rank=%{y}<br>count=%{marker.size}<extra></extra>",
         "legendgroup": "VDNA",
         "marker": {
          "color": "rgb(67, 99, 216)",
          "size": [
           98,
           200,
           65,
           107,
           249,
           281
          ],
          "sizemode": "area",
          "sizeref": 2.4775,
          "symbol": "circle"
         },
         "mode": "markers",
         "name": "VDNA",
         "orientation": "v",
         "showlegend": false,
         "x": [
          "VDNA",
          "VDNA",
          "VDNA",
          "VDNA",
          "VDNA",
          "VDNA"
         ],
         "xaxis": "x5",
         "y": [
          6.0,
          5.0,
          1.0,
          2.0,
          3.0,
          4.0
         ],
         "yaxis": "y5",
         "type": "scatter"
        },
        {
         "hovertemplate": "Algorithm=%{x}<br>Rank=%{y}<br>count=%{marker.size}<extra></extra>",
         "legendgroup": "FID",
         "marker": {
          "color": "rgb(145, 30, 180)",
          "size": [
           96,
           93,
           132,
           285,
           221,
           173
          ],
          "sizemode": "area",
          "sizeref": 2.4775,
          "symbol": "circle"
         },
         "mode": "markers",
         "name": "FID",
         "orientation": "v",
         "showlegend": false,
         "x": [
          "FID",
          "FID",
          "FID",
          "FID",
          "FID",
          "FID"
         ],
         "xaxis": "x5",
         "y": [
          6.0,
          1.0,
          2.0,
          3.0,
          4.0,
          5.0
         ],
         "yaxis": "y5",
         "type": "scatter"
        },
        {
         "hovertemplate": "Algorithm=%{x}<br>Rank=%{y}<br>count=%{marker.size}<extra></extra>",
         "legendgroup": "bKLD(large,unweighted)",
         "marker": {
          "color": "rgb(60, 180, 75)",
          "size": [
           3,
           535,
           220,
           109,
           78,
           55
          ],
          "sizemode": "area",
          "sizeref": 2.4775,
          "symbol": "hexagram"
         },
         "mode": "markers",
         "name": "bKLD(large,unweighted)",
         "orientation": "v",
         "showlegend": false,
         "x": [
          "bKLD(large,unweighted)",
          "bKLD(large,unweighted)",
          "bKLD(large,unweighted)",
          "bKLD(large,unweighted)",
          "bKLD(large,unweighted)",
          "bKLD(large,unweighted)"
         ],
         "xaxis": "x5",
         "y": [
          1.0,
          2.0,
          3.0,
          4.0,
          5.0,
          6.0
         ],
         "yaxis": "y5",
         "type": "scatter"
        },
        {
         "hovertemplate": "Algorithm=%{x}<br>Rank=%{y}<br>count=%{marker.size}<extra></extra>",
         "legendgroup": "bKLD(small,target)",
         "marker": {
          "color": "rgb(60, 180, 75)",
          "size": [
           782,
           137,
           50,
           20,
           11
          ],
          "sizemode": "area",
          "sizeref": 2.4775,
          "symbol": "circle"
         },
         "mode": "markers",
         "name": "bKLD(small,target)",
         "orientation": "v",
         "showlegend": false,
         "x": [
          "bKLD(small,target)",
          "bKLD(small,target)",
          "bKLD(small,target)",
          "bKLD(small,target)",
          "bKLD(small,target)"
         ],
         "xaxis": "x5",
         "y": [
          1.0,
          2.0,
          3.0,
          4.0,
          5.0
         ],
         "yaxis": "y5",
         "type": "scatter"
        },
        {
         "error_y": {
          "array": [
           0.7594201735534815,
           1.2044413642847045,
           1.41160582316736,
           1.336172144598143,
           1.2672410978184063,
           1.3542433311631998,
           0.09444045743218316,
           0.09444045743218316
          ]
         },
         "marker": {
          "color": "black",
          "line": {
           "width": 2
          },
          "size": 15,
          "symbol": "x-thin"
         },
         "mode": "markers",
         "x": [
          "bKLD(small,target)",
          "bKLD(large,unweighted)",
          "FID",
          "VDNA",
          "P2L (w/o samples)",
          "FED",
          "Manual",
          "bKLD(large,source)"
         ],
         "y": [
          1.341,
          2.889,
          3.537,
          3.738,
          4.59,
          4.905,
          7.009,
          7.991
         ],
         "type": "scatter",
         "xaxis": "x5",
         "yaxis": "y5",
         "showlegend": false
        },
        {
         "hovertemplate": "Algorithm=%{x}<br>Rank=%{y}<br>count=%{marker.size}<extra></extra>",
         "legendgroup": "bKLD(large,source)",
         "marker": {
          "color": "rgb(60, 180, 75)",
          "size": [
           1000
          ],
          "sizemode": "area",
          "sizeref": 2.5,
          "symbol": "hexagon"
         },
         "mode": "markers",
         "name": "bKLD(large,source)",
         "orientation": "v",
         "showlegend": false,
         "x": [
          "bKLD(large,source)"
         ],
         "xaxis": "x6",
         "y": [
          8.0
         ],
         "yaxis": "y6",
         "type": "scatter"
        },
        {
         "hovertemplate": "Algorithm=%{x}<br>Rank=%{y}<br>count=%{marker.size}<extra></extra>",
         "legendgroup": "Manual",
         "marker": {
          "color": "rgb(230, 25, 75)",
          "size": [
           966,
           29,
           4,
           1
          ],
          "sizemode": "area",
          "sizeref": 2.5,
          "symbol": "circle"
         },
         "mode": "markers",
         "name": "Manual",
         "orientation": "v",
         "showlegend": false,
         "x": [
          "Manual",
          "Manual",
          "Manual",
          "Manual"
         ],
         "xaxis": "x6",
         "y": [
          7.0,
          6.0,
          5.0,
          4.0
         ],
         "yaxis": "y6",
         "type": "scatter"
        },
        {
         "hovertemplate": "Algorithm=%{x}<br>Rank=%{y}<br>count=%{marker.size}<extra></extra>",
         "legendgroup": "FID",
         "marker": {
          "color": "rgb(145, 30, 180)",
          "size": [
           288,
           20,
           29,
           137,
           526
          ],
          "sizemode": "area",
          "sizeref": 2.5,
          "symbol": "circle"
         },
         "mode": "markers",
         "name": "FID",
         "orientation": "v",
         "showlegend": false,
         "x": [
          "FID",
          "FID",
          "FID",
          "FID",
          "FID"
         ],
         "xaxis": "x6",
         "y": [
          5.0,
          7.0,
          3.0,
          4.0,
          6.0
         ],
         "yaxis": "y6",
         "type": "scatter"
        },
        {
         "hovertemplate": "Algorithm=%{x}<br>Rank=%{y}<br>count=%{marker.size}<extra></extra>",
         "legendgroup": "FED",
         "marker": {
          "color": "rgb(245, 130, 49)",
          "size": [
           4,
           13,
           338,
           291,
           226,
           99,
           29
          ],
          "sizemode": "area",
          "sizeref": 2.5,
          "symbol": "circle"
         },
         "mode": "markers",
         "name": "FED",
         "orientation": "v",
         "showlegend": false,
         "x": [
          "FED",
          "FED",
          "FED",
          "FED",
          "FED",
          "FED",
          "FED"
         ],
         "xaxis": "x6",
         "y": [
          1.0,
          7.0,
          6.0,
          5.0,
          4.0,
          3.0,
          2.0
         ],
         "yaxis": "y6",
         "type": "scatter"
        },
        {
         "hovertemplate": "Algorithm=%{x}<br>Rank=%{y}<br>count=%{marker.size}<extra></extra>",
         "legendgroup": "P2L (w/o samples)",
         "marker": {
          "color": "rgb(70, 240, 240)",
          "size": [
           1,
           84,
           327,
           403,
           144,
           36,
           5
          ],
          "sizemode": "area",
          "sizeref": 2.5,
          "symbol": "circle"
         },
         "mode": "markers",
         "name": "P2L (w/o samples)",
         "orientation": "v",
         "showlegend": false,
         "x": [
          "P2L (w/o samples)",
          "P2L (w/o samples)",
          "P2L (w/o samples)",
          "P2L (w/o samples)",
          "P2L (w/o samples)",
          "P2L (w/o samples)",
          "P2L (w/o samples)"
         ],
         "xaxis": "x6",
         "y": [
          7.0,
          6.0,
          5.0,
          4.0,
          3.0,
          2.0,
          1.0
         ],
         "yaxis": "y6",
         "type": "scatter"
        },
        {
         "hovertemplate": "Algorithm=%{x}<br>Rank=%{y}<br>count=%{marker.size}<extra></extra>",
         "legendgroup": "VDNA",
         "marker": {
          "color": "rgb(67, 99, 216)",
          "size": [
           63,
           110,
           558,
           172,
           75,
           22
          ],
          "sizemode": "area",
          "sizeref": 2.5,
          "symbol": "circle"
         },
         "mode": "markers",
         "name": "VDNA",
         "orientation": "v",
         "showlegend": false,
         "x": [
          "VDNA",
          "VDNA",
          "VDNA",
          "VDNA",
          "VDNA",
          "VDNA"
         ],
         "xaxis": "x6",
         "y": [
          1.0,
          2.0,
          3.0,
          4.0,
          5.0,
          6.0
         ],
         "yaxis": "y6",
         "type": "scatter"
        },
        {
         "hovertemplate": "Algorithm=%{x}<br>Rank=%{y}<br>count=%{marker.size}<extra></extra>",
         "legendgroup": "bKLD(large,unweighted)",
         "marker": {
          "color": "rgb(60, 180, 75)",
          "size": [
           1,
           15,
           60,
           15,
           751,
           158
          ],
          "sizemode": "area",
          "sizeref": 2.5,
          "symbol": "hexagram"
         },
         "mode": "markers",
         "name": "bKLD(large,unweighted)",
         "orientation": "v",
         "showlegend": false,
         "x": [
          "bKLD(large,unweighted)",
          "bKLD(large,unweighted)",
          "bKLD(large,unweighted)",
          "bKLD(large,unweighted)",
          "bKLD(large,unweighted)",
          "bKLD(large,unweighted)"
         ],
         "xaxis": "x6",
         "y": [
          6.0,
          5.0,
          4.0,
          1.0,
          2.0,
          3.0
         ],
         "yaxis": "y6",
         "type": "scatter"
        },
        {
         "hovertemplate": "Algorithm=%{x}<br>Rank=%{y}<br>count=%{marker.size}<extra></extra>",
         "legendgroup": "bKLD(small,target)",
         "marker": {
          "color": "rgb(60, 180, 75)",
          "size": [
           12,
           913,
           74,
           1
          ],
          "sizemode": "area",
          "sizeref": 2.5,
          "symbol": "circle"
         },
         "mode": "markers",
         "name": "bKLD(small,target)",
         "orientation": "v",
         "showlegend": false,
         "x": [
          "bKLD(small,target)",
          "bKLD(small,target)",
          "bKLD(small,target)",
          "bKLD(small,target)"
         ],
         "xaxis": "x6",
         "y": [
          3.0,
          1.0,
          2.0,
          4.0
         ],
         "yaxis": "y6",
         "type": "scatter"
        },
        {
         "error_y": {
          "array": [
           0.347561505348334,
           0.6831222438187765,
           1.0044381514060483,
           0.9662872243799976,
           1.1447405819660628,
           0.8493285583329928,
           0.2289104628451919,
           0.0
          ]
         },
         "marker": {
          "color": "black",
          "line": {
           "width": 2
          },
          "size": 15,
          "symbol": "x-thin"
         },
         "mode": "markers",
         "x": [
          "bKLD(small,target)",
          "bKLD(large,unweighted)",
          "VDNA",
          "P2L (w/o samples)",
          "FED",
          "FID",
          "Manual",
          "bKLD(large,source)"
         ],
         "y": [
          1.101,
          2.312,
          3.152,
          4.267,
          4.837,
          5.371,
          6.96,
          8.0
         ],
         "type": "scatter",
         "xaxis": "x6",
         "yaxis": "y6",
         "showlegend": false
        },
        {
         "hovertemplate": "Algorithm=%{x}<br>Rank=%{y}<br>count=%{marker.size}<extra></extra>",
         "legendgroup": "bKLD(large,source)",
         "marker": {
          "color": "rgb(60, 180, 75)",
          "size": [
           768,
           169,
           37,
           15,
           6,
           3,
           2
          ],
          "sizemode": "area",
          "sizeref": 1.92,
          "symbol": "hexagon"
         },
         "mode": "markers",
         "name": "bKLD(large,source)",
         "orientation": "v",
         "showlegend": false,
         "x": [
          "bKLD(large,source)",
          "bKLD(large,source)",
          "bKLD(large,source)",
          "bKLD(large,source)",
          "bKLD(large,source)",
          "bKLD(large,source)",
          "bKLD(large,source)"
         ],
         "xaxis": "x7",
         "y": [
          8.0,
          7.0,
          6.0,
          5.0,
          4.0,
          3.0,
          2.0
         ],
         "yaxis": "y7",
         "type": "scatter"
        },
        {
         "hovertemplate": "Algorithm=%{x}<br>Rank=%{y}<br>count=%{marker.size}<extra></extra>",
         "legendgroup": "Manual",
         "marker": {
          "color": "rgb(230, 25, 75)",
          "size": [
           685,
           34,
           52,
           2,
           4,
           223
          ],
          "sizemode": "area",
          "sizeref": 1.92,
          "symbol": "circle"
         },
         "mode": "markers",
         "name": "Manual",
         "orientation": "v",
         "showlegend": false,
         "x": [
          "Manual",
          "Manual",
          "Manual",
          "Manual",
          "Manual",
          "Manual"
         ],
         "xaxis": "x7",
         "y": [
          7.0,
          5.0,
          6.0,
          4.0,
          3.0,
          8.0
         ],
         "yaxis": "y7",
         "type": "scatter"
        },
        {
         "hovertemplate": "Algorithm=%{x}<br>Rank=%{y}<br>count=%{marker.size}<extra></extra>",
         "legendgroup": "P2L (w/o samples)",
         "marker": {
          "color": "rgb(70, 240, 240)",
          "size": [
           36,
           4,
           112,
           119,
           4,
           236,
           78,
           411
          ],
          "sizemode": "area",
          "sizeref": 1.92,
          "symbol": "circle"
         },
         "mode": "markers",
         "name": "P2L (w/o samples)",
         "orientation": "v",
         "showlegend": false,
         "x": [
          "P2L (w/o samples)",
          "P2L (w/o samples)",
          "P2L (w/o samples)",
          "P2L (w/o samples)",
          "P2L (w/o samples)",
          "P2L (w/o samples)",
          "P2L (w/o samples)",
          "P2L (w/o samples)"
         ],
         "xaxis": "x7",
         "y": [
          2.0,
          8.0,
          3.0,
          5.0,
          1.0,
          4.0,
          7.0,
          6.0
         ],
         "yaxis": "y7",
         "type": "scatter"
        },
        {
         "hovertemplate": "Algorithm=%{x}<br>Rank=%{y}<br>count=%{marker.size}<extra></extra>",
         "legendgroup": "bKLD(large,unweighted)",
         "marker": {
          "color": "rgb(60, 180, 75)",
          "size": [
           45,
           253,
           212,
           172,
           144,
           3,
           127,
           44
          ],
          "sizemode": "area",
          "sizeref": 1.92,
          "symbol": "hexagram"
         },
         "mode": "markers",
         "name": "bKLD(large,unweighted)",
         "orientation": "v",
         "showlegend": false,
         "x": [
          "bKLD(large,unweighted)",
          "bKLD(large,unweighted)",
          "bKLD(large,unweighted)",
          "bKLD(large,unweighted)",
          "bKLD(large,unweighted)",
          "bKLD(large,unweighted)",
          "bKLD(large,unweighted)",
          "bKLD(large,unweighted)"
         ],
         "xaxis": "x7",
         "y": [
          7.0,
          6.0,
          5.0,
          4.0,
          3.0,
          8.0,
          2.0,
          1.0
         ],
         "yaxis": "y7",
         "type": "scatter"
        },
        {
         "hovertemplate": "Algorithm=%{x}<br>Rank=%{y}<br>count=%{marker.size}<extra></extra>",
         "legendgroup": "FID",
         "marker": {
          "color": "rgb(145, 30, 180)",
          "size": [
           3,
           100,
           274,
           171,
           319,
           120,
           13
          ],
          "sizemode": "area",
          "sizeref": 1.92,
          "symbol": "circle"
         },
         "mode": "markers",
         "name": "FID",
         "orientation": "v",
         "showlegend": false,
         "x": [
          "FID",
          "FID",
          "FID",
          "FID",
          "FID",
          "FID",
          "FID"
         ],
         "xaxis": "x7",
         "y": [
          7.0,
          6.0,
          5.0,
          4.0,
          3.0,
          2.0,
          1.0
         ],
         "yaxis": "y7",
         "type": "scatter"
        },
        {
         "hovertemplate": "Algorithm=%{x}<br>Rank=%{y}<br>count=%{marker.size}<extra></extra>",
         "legendgroup": "bKLD(small,target)",
         "marker": {
          "color": "rgb(60, 180, 75)",
          "size": [
           13,
           106,
           162,
           173,
           177,
           267,
           100,
           2
          ],
          "sizemode": "area",
          "sizeref": 1.92,
          "symbol": "circle"
         },
         "mode": "markers",
         "name": "bKLD(small,target)",
         "orientation": "v",
         "showlegend": false,
         "x": [
          "bKLD(small,target)",
          "bKLD(small,target)",
          "bKLD(small,target)",
          "bKLD(small,target)",
          "bKLD(small,target)",
          "bKLD(small,target)",
          "bKLD(small,target)",
          "bKLD(small,target)"
         ],
         "xaxis": "x7",
         "y": [
          7.0,
          1.0,
          2.0,
          3.0,
          4.0,
          5.0,
          6.0,
          8.0
         ],
         "yaxis": "y7",
         "type": "scatter"
        },
        {
         "hovertemplate": "Algorithm=%{x}<br>Rank=%{y}<br>count=%{marker.size}<extra></extra>",
         "legendgroup": "FED",
         "marker": {
          "color": "rgb(245, 130, 49)",
          "size": [
           368,
           6,
           44,
           57,
           141,
           126,
           258
          ],
          "sizemode": "area",
          "sizeref": 1.92,
          "symbol": "circle"
         },
         "mode": "markers",
         "name": "FED",
         "orientation": "v",
         "showlegend": false,
         "x": [
          "FED",
          "FED",
          "FED",
          "FED",
          "FED",
          "FED",
          "FED"
         ],
         "xaxis": "x7",
         "y": [
          1.0,
          7.0,
          6.0,
          5.0,
          4.0,
          3.0,
          2.0
         ],
         "yaxis": "y7",
         "type": "scatter"
        },
        {
         "hovertemplate": "Algorithm=%{x}<br>Rank=%{y}<br>count=%{marker.size}<extra></extra>",
         "legendgroup": "VDNA",
         "marker": {
          "color": "rgb(67, 99, 216)",
          "size": [
           3,
           22,
           95,
           119,
           295,
           1,
           465
          ],
          "sizemode": "area",
          "sizeref": 1.92,
          "symbol": "circle"
         },
         "mode": "markers",
         "name": "VDNA",
         "orientation": "v",
         "showlegend": false,
         "x": [
          "VDNA",
          "VDNA",
          "VDNA",
          "VDNA",
          "VDNA",
          "VDNA",
          "VDNA"
         ],
         "xaxis": "x7",
         "y": [
          6.0,
          5.0,
          4.0,
          3.0,
          2.0,
          7.0,
          1.0
         ],
         "yaxis": "y7",
         "type": "scatter"
        },
        {
         "error_y": {
          "array": [
           1.1089053160662545,
           1.500370287629024,
           1.5812649999288544,
           1.2664023847103256,
           1.616408054916827,
           1.3531352482290895,
           0.6974517904486303,
           0.7616291748613625
          ]
         },
         "marker": {
          "color": "black",
          "line": {
           "width": 2
          },
          "size": 15,
          "symbol": "x-thin"
         },
         "mode": "markers",
         "x": [
          "VDNA",
          "FED",
          "bKLD(small,target)",
          "FID",
          "bKLD(large,unweighted)",
          "P2L (w/o samples)",
          "Manual",
          "bKLD(large,source)"
         ],
         "y": [
          1.927,
          2.417,
          3.699,
          3.885,
          4.335,
          4.995,
          7.081,
          7.661
         ],
         "type": "scatter",
         "xaxis": "x7",
         "yaxis": "y7",
         "showlegend": false
        },
        {
         "hovertemplate": "Algorithm=%{x}<br>Rank=%{y}<br>count=%{marker.size}<extra></extra>",
         "legendgroup": "bKLD(large,source)",
         "marker": {
          "color": "rgb(60, 180, 75)",
          "size": [
           1000
          ],
          "sizemode": "area",
          "sizeref": 2.5,
          "symbol": "hexagon"
         },
         "mode": "markers",
         "name": "bKLD(large,source)",
         "orientation": "v",
         "showlegend": false,
         "x": [
          "bKLD(large,source)"
         ],
         "xaxis": "x8",
         "y": [
          8.0
         ],
         "yaxis": "y8",
         "type": "scatter"
        },
        {
         "hovertemplate": "Algorithm=%{x}<br>Rank=%{y}<br>count=%{marker.size}<extra></extra>",
         "legendgroup": "P2L (w/o samples)",
         "marker": {
          "color": "rgb(70, 240, 240)",
          "size": [
           5,
           460,
           445,
           90
          ],
          "sizemode": "area",
          "sizeref": 2.5,
          "symbol": "circle"
         },
         "mode": "markers",
         "name": "P2L (w/o samples)",
         "orientation": "v",
         "showlegend": false,
         "x": [
          "P2L (w/o samples)",
          "P2L (w/o samples)",
          "P2L (w/o samples)",
          "P2L (w/o samples)"
         ],
         "xaxis": "x8",
         "y": [
          4.0,
          7.0,
          6.0,
          5.0
         ],
         "yaxis": "y8",
         "type": "scatter"
        },
        {
         "hovertemplate": "Algorithm=%{x}<br>Rank=%{y}<br>count=%{marker.size}<extra></extra>",
         "legendgroup": "FED",
         "marker": {
          "color": "rgb(245, 130, 49)",
          "size": [
           13,
           356,
           147,
           484
          ],
          "sizemode": "area",
          "sizeref": 2.5,
          "symbol": "circle"
         },
         "mode": "markers",
         "name": "FED",
         "orientation": "v",
         "showlegend": false,
         "x": [
          "FED",
          "FED",
          "FED",
          "FED"
         ],
         "xaxis": "x8",
         "y": [
          4.0,
          6.0,
          5.0,
          7.0
         ],
         "yaxis": "y8",
         "type": "scatter"
        },
        {
         "hovertemplate": "Algorithm=%{x}<br>Rank=%{y}<br>count=%{marker.size}<extra></extra>",
         "legendgroup": "FID",
         "marker": {
          "color": "rgb(145, 30, 180)",
          "size": [
           80,
           1,
           682,
           188,
           49
          ],
          "sizemode": "area",
          "sizeref": 2.5,
          "symbol": "circle"
         },
         "mode": "markers",
         "name": "FID",
         "orientation": "v",
         "showlegend": false,
         "x": [
          "FID",
          "FID",
          "FID",
          "FID",
          "FID"
         ],
         "xaxis": "x8",
         "y": [
          4.0,
          3.0,
          5.0,
          6.0,
          7.0
         ],
         "yaxis": "y8",
         "type": "scatter"
        },
        {
         "hovertemplate": "Algorithm=%{x}<br>Rank=%{y}<br>count=%{marker.size}<extra></extra>",
         "legendgroup": "VDNA",
         "marker": {
          "color": "rgb(67, 99, 216)",
          "size": [
           274,
           1,
           1,
           15,
           707,
           1,
           1
          ],
          "sizemode": "area",
          "sizeref": 2.5,
          "symbol": "circle"
         },
         "mode": "markers",
         "name": "VDNA",
         "orientation": "v",
         "showlegend": false,
         "x": [
          "VDNA",
          "VDNA",
          "VDNA",
          "VDNA",
          "VDNA",
          "VDNA",
          "VDNA"
         ],
         "xaxis": "x8",
         "y": [
          3.0,
          7.0,
          6.0,
          5.0,
          4.0,
          1.0,
          2.0
         ],
         "yaxis": "y8",
         "type": "scatter"
        },
        {
         "hovertemplate": "Algorithm=%{x}<br>Rank=%{y}<br>count=%{marker.size}<extra></extra>",
         "legendgroup": "Manual",
         "marker": {
          "color": "rgb(230, 25, 75)",
          "size": [
           700,
           193,
           9,
           6,
           10,
           66,
           16
          ],
          "sizemode": "area",
          "sizeref": 2.5,
          "symbol": "circle"
         },
         "mode": "markers",
         "name": "Manual",
         "orientation": "v",
         "showlegend": false,
         "x": [
          "Manual",
          "Manual",
          "Manual",
          "Manual",
          "Manual",
          "Manual",
          "Manual"
         ],
         "xaxis": "x8",
         "y": [
          3.0,
          4.0,
          2.0,
          7.0,
          6.0,
          5.0,
          1.0
         ],
         "yaxis": "y8",
         "type": "scatter"
        },
        {
         "hovertemplate": "Algorithm=%{x}<br>Rank=%{y}<br>count=%{marker.size}<extra></extra>",
         "legendgroup": "bKLD(large,unweighted)",
         "marker": {
          "color": "rgb(60, 180, 75)",
          "size": [
           6,
           967,
           25,
           2
          ],
          "sizemode": "area",
          "sizeref": 2.5,
          "symbol": "hexagram"
         },
         "mode": "markers",
         "name": "bKLD(large,unweighted)",
         "orientation": "v",
         "showlegend": false,
         "x": [
          "bKLD(large,unweighted)",
          "bKLD(large,unweighted)",
          "bKLD(large,unweighted)",
          "bKLD(large,unweighted)"
         ],
         "xaxis": "x8",
         "y": [
          1.0,
          2.0,
          3.0,
          4.0
         ],
         "yaxis": "y8",
         "type": "scatter"
        },
        {
         "hovertemplate": "Algorithm=%{x}<br>Rank=%{y}<br>count=%{marker.size}<extra></extra>",
         "legendgroup": "bKLD(small,target)",
         "marker": {
          "color": "rgb(60, 180, 75)",
          "size": [
           977,
           23
          ],
          "sizemode": "area",
          "sizeref": 2.5,
          "symbol": "circle"
         },
         "mode": "markers",
         "name": "bKLD(small,target)",
         "orientation": "v",
         "showlegend": false,
         "x": [
          "bKLD(small,target)",
          "bKLD(small,target)"
         ],
         "xaxis": "x8",
         "y": [
          1.0,
          2.0
         ],
         "yaxis": "y8",
         "type": "scatter"
        },
        {
         "error_y": {
          "array": [
           0.14990330216509573,
           0.196140255939468,
           0.7757293342397203,
           0.4979146513208865,
           0.6529808572998139,
           0.7656885789927913,
           0.6636264009214823,
           0.0
          ]
         },
         "marker": {
          "color": "black",
          "line": {
           "width": 2
          },
          "size": 15,
          "symbol": "x-thin"
         },
         "mode": "markers",
         "x": [
          "bKLD(small,target)",
          "bKLD(large,unweighted)",
          "Manual",
          "VDNA",
          "FID",
          "FED",
          "P2L (w/o samples)",
          "bKLD(large,source)"
         ],
         "y": [
          1.023,
          2.023,
          3.338,
          3.741,
          5.204,
          6.311,
          6.36,
          8.0
         ],
         "type": "scatter",
         "xaxis": "x8",
         "yaxis": "y8",
         "showlegend": false
        },
        {
         "hovertemplate": "Algorithm=%{x}<br>Rank=%{y}<br>count=%{marker.size}<extra></extra>",
         "legendgroup": "Manual",
         "marker": {
          "color": "rgb(230, 25, 75)",
          "size": [
           17,
           983
          ],
          "sizemode": "area",
          "sizeref": 2.4575,
          "symbol": "circle"
         },
         "mode": "markers",
         "name": "Manual",
         "orientation": "v",
         "showlegend": false,
         "x": [
          "Manual",
          "Manual"
         ],
         "xaxis": "x9",
         "y": [
          7.0,
          8.0
         ],
         "yaxis": "y9",
         "type": "scatter"
        },
        {
         "hovertemplate": "Algorithm=%{x}<br>Rank=%{y}<br>count=%{marker.size}<extra></extra>",
         "legendgroup": "FED",
         "marker": {
          "color": "rgb(245, 130, 49)",
          "size": [
           13,
           970,
           17
          ],
          "sizemode": "area",
          "sizeref": 2.4575,
          "symbol": "circle"
         },
         "mode": "markers",
         "name": "FED",
         "orientation": "v",
         "showlegend": false,
         "x": [
          "FED",
          "FED",
          "FED"
         ],
         "xaxis": "x9",
         "y": [
          6.0,
          7.0,
          8.0
         ],
         "yaxis": "y9",
         "type": "scatter"
        },
        {
         "hovertemplate": "Algorithm=%{x}<br>Rank=%{y}<br>count=%{marker.size}<extra></extra>",
         "legendgroup": "VDNA",
         "marker": {
          "color": "rgb(67, 99, 216)",
          "size": [
           1,
           444,
           116,
           29,
           8,
           1,
           401
          ],
          "sizemode": "area",
          "sizeref": 2.4575,
          "symbol": "circle"
         },
         "mode": "markers",
         "name": "VDNA",
         "orientation": "v",
         "showlegend": false,
         "x": [
          "VDNA",
          "VDNA",
          "VDNA",
          "VDNA",
          "VDNA",
          "VDNA",
          "VDNA"
         ],
         "xaxis": "x9",
         "y": [
          7.0,
          6.0,
          4.0,
          3.0,
          2.0,
          1.0,
          5.0
         ],
         "yaxis": "y9",
         "type": "scatter"
        },
        {
         "hovertemplate": "Algorithm=%{x}<br>Rank=%{y}<br>count=%{marker.size}<extra></extra>",
         "legendgroup": "bKLD(large,source)",
         "marker": {
          "color": "rgb(60, 180, 75)",
          "size": [
           275,
           12,
           367,
           178,
           88,
           46,
           34
          ],
          "sizemode": "area",
          "sizeref": 2.4575,
          "symbol": "hexagon"
         },
         "mode": "markers",
         "name": "bKLD(large,source)",
         "orientation": "v",
         "showlegend": false,
         "x": [
          "bKLD(large,source)",
          "bKLD(large,source)",
          "bKLD(large,source)",
          "bKLD(large,source)",
          "bKLD(large,source)",
          "bKLD(large,source)",
          "bKLD(large,source)"
         ],
         "xaxis": "x9",
         "y": [
          4.0,
          7.0,
          6.0,
          5.0,
          3.0,
          2.0,
          1.0
         ],
         "yaxis": "y9",
         "type": "scatter"
        },
        {
         "hovertemplate": "Algorithm=%{x}<br>Rank=%{y}<br>count=%{marker.size}<extra></extra>",
         "legendgroup": "P2L (w/o samples)",
         "marker": {
          "color": "rgb(70, 240, 240)",
          "size": [
           17,
           58,
           355,
           150,
           352,
           68
          ],
          "sizemode": "area",
          "sizeref": 2.4575,
          "symbol": "circle"
         },
         "mode": "markers",
         "name": "P2L (w/o samples)",
         "orientation": "v",
         "showlegend": false,
         "x": [
          "P2L (w/o samples)",
          "P2L (w/o samples)",
          "P2L (w/o samples)",
          "P2L (w/o samples)",
          "P2L (w/o samples)",
          "P2L (w/o samples)"
         ],
         "xaxis": "x9",
         "y": [
          1.0,
          2.0,
          4.0,
          6.0,
          5.0,
          3.0
         ],
         "yaxis": "y9",
         "type": "scatter"
        },
        {
         "hovertemplate": "Algorithm=%{x}<br>Rank=%{y}<br>count=%{marker.size}<extra></extra>",
         "legendgroup": "bKLD(large,unweighted)",
         "marker": {
          "color": "rgb(60, 180, 75)",
          "size": [
           21,
           60,
           110,
           315,
           452,
           42
          ],
          "sizemode": "area",
          "sizeref": 2.4575,
          "symbol": "hexagram"
         },
         "mode": "markers",
         "name": "bKLD(large,unweighted)",
         "orientation": "v",
         "showlegend": false,
         "x": [
          "bKLD(large,unweighted)",
          "bKLD(large,unweighted)",
          "bKLD(large,unweighted)",
          "bKLD(large,unweighted)",
          "bKLD(large,unweighted)",
          "bKLD(large,unweighted)"
         ],
         "xaxis": "x9",
         "y": [
          6.0,
          5.0,
          4.0,
          3.0,
          2.0,
          1.0
         ],
         "yaxis": "y9",
         "type": "scatter"
        },
        {
         "hovertemplate": "Algorithm=%{x}<br>Rank=%{y}<br>count=%{marker.size}<extra></extra>",
         "legendgroup": "FID",
         "marker": {
          "color": "rgb(145, 30, 180)",
          "size": [
           412,
           1,
           1,
           92,
           317,
           177
          ],
          "sizemode": "area",
          "sizeref": 2.4575,
          "symbol": "circle"
         },
         "mode": "markers",
         "name": "FID",
         "orientation": "v",
         "showlegend": false,
         "x": [
          "FID",
          "FID",
          "FID",
          "FID",
          "FID",
          "FID"
         ],
         "xaxis": "x9",
         "y": [
          3.0,
          6.0,
          5.0,
          4.0,
          1.0,
          2.0
         ],
         "yaxis": "y9",
         "type": "scatter"
        },
        {
         "hovertemplate": "Algorithm=%{x}<br>Rank=%{y}<br>count=%{marker.size}<extra></extra>",
         "legendgroup": "bKLD(small,target)",
         "marker": {
          "color": "rgb(60, 180, 75)",
          "size": [
           52,
           88,
           8,
           589,
           259,
           4
          ],
          "sizemode": "area",
          "sizeref": 2.4575,
          "symbol": "circle"
         },
         "mode": "markers",
         "name": "bKLD(small,target)",
         "orientation": "v",
         "showlegend": false,
         "x": [
          "bKLD(small,target)",
          "bKLD(small,target)",
          "bKLD(small,target)",
          "bKLD(small,target)",
          "bKLD(small,target)",
          "bKLD(small,target)"
         ],
         "xaxis": "x9",
         "y": [
          4.0,
          3.0,
          5.0,
          1.0,
          2.0,
          6.0
         ],
         "yaxis": "y9",
         "type": "scatter"
        },
        {
         "error_y": {
          "array": [
           0.9452782659090392,
           1.0199039170431692,
           1.0487854880765657,
           1.109554415069401,
           1.3742066802340904,
           0.8417030355178721,
           0.1731588865753069,
           0.12927103310486845
          ]
         },
         "marker": {
          "color": "black",
          "line": {
           "width": 2
          },
          "size": 15,
          "symbol": "x-thin"
         },
         "mode": "markers",
         "x": [
          "bKLD(small,target)",
          "FID",
          "bKLD(large,unweighted)",
          "P2L (w/o samples)",
          "bKLD(large,source)",
          "VDNA",
          "FED",
          "Manual"
         ],
         "y": [
          1.643,
          2.286,
          2.757,
          4.417,
          4.666,
          5.244,
          7.004,
          7.983
         ],
         "type": "scatter",
         "xaxis": "x9",
         "yaxis": "y9",
         "showlegend": false
        },
        {
         "hovertemplate": "Algorithm=%{x}<br>Rank=%{y}<br>count=%{marker.size}<extra></extra>",
         "legendgroup": "Manual",
         "marker": {
          "color": "rgb(230, 25, 75)",
          "size": [
           11,
           906,
           83
          ],
          "sizemode": "area",
          "sizeref": 2.265,
          "symbol": "circle"
         },
         "mode": "markers",
         "name": "Manual",
         "orientation": "v",
         "showlegend": false,
         "x": [
          "Manual",
          "Manual",
          "Manual"
         ],
         "xaxis": "x10",
         "y": [
          6.0,
          8.0,
          7.0
         ],
         "yaxis": "y10",
         "type": "scatter"
        },
        {
         "hovertemplate": "Algorithm=%{x}<br>Rank=%{y}<br>count=%{marker.size}<extra></extra>",
         "legendgroup": "bKLD(large,source)",
         "marker": {
          "color": "rgb(60, 180, 75)",
          "size": [
           2,
           1,
           4,
           83,
           481,
           384,
           28,
           17
          ],
          "sizemode": "area",
          "sizeref": 2.265,
          "symbol": "hexagon"
         },
         "mode": "markers",
         "name": "bKLD(large,source)",
         "orientation": "v",
         "showlegend": false,
         "x": [
          "bKLD(large,source)",
          "bKLD(large,source)",
          "bKLD(large,source)",
          "bKLD(large,source)",
          "bKLD(large,source)",
          "bKLD(large,source)",
          "bKLD(large,source)",
          "bKLD(large,source)"
         ],
         "xaxis": "x10",
         "y": [
          1.0,
          2.0,
          3.0,
          8.0,
          7.0,
          6.0,
          5.0,
          4.0
         ],
         "yaxis": "y10",
         "type": "scatter"
        },
        {
         "hovertemplate": "Algorithm=%{x}<br>Rank=%{y}<br>count=%{marker.size}<extra></extra>",
         "legendgroup": "FED",
         "marker": {
          "color": "rgb(245, 130, 49)",
          "size": [
           1,
           11,
           433,
           547,
           8
          ],
          "sizemode": "area",
          "sizeref": 2.265,
          "symbol": "circle"
         },
         "mode": "markers",
         "name": "FED",
         "orientation": "v",
         "showlegend": false,
         "x": [
          "FED",
          "FED",
          "FED",
          "FED",
          "FED"
         ],
         "xaxis": "x10",
         "y": [
          4.0,
          8.0,
          7.0,
          6.0,
          5.0
         ],
         "yaxis": "y10",
         "type": "scatter"
        },
        {
         "hovertemplate": "Algorithm=%{x}<br>Rank=%{y}<br>count=%{marker.size}<extra></extra>",
         "legendgroup": "VDNA",
         "marker": {
          "color": "rgb(67, 99, 216)",
          "size": [
           2,
           28,
           418,
           408,
           31,
           99,
           14
          ],
          "sizemode": "area",
          "sizeref": 2.265,
          "symbol": "circle"
         },
         "mode": "markers",
         "name": "VDNA",
         "orientation": "v",
         "showlegend": false,
         "x": [
          "VDNA",
          "VDNA",
          "VDNA",
          "VDNA",
          "VDNA",
          "VDNA",
          "VDNA"
         ],
         "xaxis": "x10",
         "y": [
          7.0,
          6.0,
          5.0,
          4.0,
          2.0,
          3.0,
          1.0
         ],
         "yaxis": "y10",
         "type": "scatter"
        },
        {
         "hovertemplate": "Algorithm=%{x}<br>Rank=%{y}<br>count=%{marker.size}<extra></extra>",
         "legendgroup": "P2L (w/o samples)",
         "marker": {
          "color": "rgb(70, 240, 240)",
          "size": [
           1,
           30,
           445,
           357,
           106,
           46,
           15
          ],
          "sizemode": "area",
          "sizeref": 2.265,
          "symbol": "circle"
         },
         "mode": "markers",
         "name": "P2L (w/o samples)",
         "orientation": "v",
         "showlegend": false,
         "x": [
          "P2L (w/o samples)",
          "P2L (w/o samples)",
          "P2L (w/o samples)",
          "P2L (w/o samples)",
          "P2L (w/o samples)",
          "P2L (w/o samples)",
          "P2L (w/o samples)"
         ],
         "xaxis": "x10",
         "y": [
          7.0,
          6.0,
          5.0,
          4.0,
          3.0,
          2.0,
          1.0
         ],
         "yaxis": "y10",
         "type": "scatter"
        },
        {
         "hovertemplate": "Algorithm=%{x}<br>Rank=%{y}<br>count=%{marker.size}<extra></extra>",
         "legendgroup": "bKLD(large,unweighted)",
         "marker": {
          "color": "rgb(60, 180, 75)",
          "size": [
           91,
           72,
           271,
           545,
           21
          ],
          "sizemode": "area",
          "sizeref": 2.265,
          "symbol": "hexagram"
         },
         "mode": "markers",
         "name": "bKLD(large,unweighted)",
         "orientation": "v",
         "showlegend": false,
         "x": [
          "bKLD(large,unweighted)",
          "bKLD(large,unweighted)",
          "bKLD(large,unweighted)",
          "bKLD(large,unweighted)",
          "bKLD(large,unweighted)"
         ],
         "xaxis": "x10",
         "y": [
          4.0,
          5.0,
          3.0,
          2.0,
          1.0
         ],
         "yaxis": "y10",
         "type": "scatter"
        },
        {
         "hovertemplate": "Algorithm=%{x}<br>Rank=%{y}<br>count=%{marker.size}<extra></extra>",
         "legendgroup": "FID",
         "marker": {
          "color": "rgb(145, 30, 180)",
          "size": [
           174,
           99,
           470,
           28,
           229
          ],
          "sizemode": "area",
          "sizeref": 2.265,
          "symbol": "circle"
         },
         "mode": "markers",
         "name": "FID",
         "orientation": "v",
         "showlegend": false,
         "x": [
          "FID",
          "FID",
          "FID",
          "FID",
          "FID"
         ],
         "xaxis": "x10",
         "y": [
          2.0,
          4.0,
          3.0,
          5.0,
          1.0
         ],
         "yaxis": "y10",
         "type": "scatter"
        },
        {
         "hovertemplate": "Algorithm=%{x}<br>Rank=%{y}<br>count=%{marker.size}<extra></extra>",
         "legendgroup": "bKLD(small,target)",
         "marker": {
          "color": "rgb(60, 180, 75)",
          "size": [
           50,
           27,
           719,
           203,
           1
          ],
          "sizemode": "area",
          "sizeref": 2.265,
          "symbol": "circle"
         },
         "mode": "markers",
         "name": "bKLD(small,target)",
         "orientation": "v",
         "showlegend": false,
         "x": [
          "bKLD(small,target)",
          "bKLD(small,target)",
          "bKLD(small,target)",
          "bKLD(small,target)",
          "bKLD(small,target)"
         ],
         "xaxis": "x10",
         "y": [
          3.0,
          4.0,
          1.0,
          2.0,
          5.0
         ],
         "yaxis": "y10",
         "type": "scatter"
        },
        {
         "error_y": {
          "array": [
           0.7151615202176359,
           1.0360844560169793,
           0.9402637927730706,
           0.963729733898462,
           0.9056881361705034,
           0.5394209858728153,
           0.8357744911158751,
           0.34055102407715643
          ]
         },
         "marker": {
          "color": "black",
          "line": {
           "width": 2
          },
          "size": 15,
          "symbol": "x-thin"
         },
         "mode": "markers",
         "x": [
          "bKLD(small,target)",
          "FID",
          "bKLD(large,unweighted)",
          "P2L (w/o samples)",
          "VDNA",
          "FED",
          "bKLD(large,source)",
          "Manual"
         ],
         "y": [
          1.388,
          2.523,
          2.648,
          4.265,
          4.277,
          6.445,
          6.559,
          7.895
         ],
         "type": "scatter",
         "xaxis": "x10",
         "yaxis": "y10",
         "showlegend": false
        },
        {
         "hovertemplate": "Algorithm=%{x}<br>Rank=%{y}<br>count=%{marker.size}<extra></extra>",
         "legendgroup": "FED",
         "marker": {
          "color": "rgb(245, 130, 49)",
          "size": [
           1,
           6,
           30,
           176,
           787
          ],
          "sizemode": "area",
          "sizeref": 1.9675,
          "symbol": "circle"
         },
         "mode": "markers",
         "name": "FED",
         "orientation": "v",
         "showlegend": false,
         "x": [
          "FED",
          "FED",
          "FED",
          "FED",
          "FED"
         ],
         "xaxis": "x11",
         "y": [
          4.0,
          5.0,
          6.0,
          7.0,
          8.0
         ],
         "yaxis": "y11",
         "type": "scatter"
        },
        {
         "hovertemplate": "Algorithm=%{x}<br>Rank=%{y}<br>count=%{marker.size}<extra></extra>",
         "legendgroup": "Manual",
         "marker": {
          "color": "rgb(230, 25, 75)",
          "size": [
           68,
           82,
           16,
           4,
           1,
           185,
           519,
           125
          ],
          "sizemode": "area",
          "sizeref": 1.9675,
          "symbol": "circle"
         },
         "mode": "markers",
         "name": "Manual",
         "orientation": "v",
         "showlegend": false,
         "x": [
          "Manual",
          "Manual",
          "Manual",
          "Manual",
          "Manual",
          "Manual",
          "Manual",
          "Manual"
         ],
         "xaxis": "x11",
         "y": [
          5.0,
          4.0,
          3.0,
          2.0,
          1.0,
          8.0,
          7.0,
          6.0
         ],
         "yaxis": "y11",
         "type": "scatter"
        },
        {
         "hovertemplate": "Algorithm=%{x}<br>Rank=%{y}<br>count=%{marker.size}<extra></extra>",
         "legendgroup": "VDNA",
         "marker": {
          "color": "rgb(67, 99, 216)",
          "size": [
           154,
           264,
           337,
           149,
           8,
           57,
           31
          ],
          "sizemode": "area",
          "sizeref": 1.9675,
          "symbol": "circle"
         },
         "mode": "markers",
         "name": "VDNA",
         "orientation": "v",
         "showlegend": false,
         "x": [
          "VDNA",
          "VDNA",
          "VDNA",
          "VDNA",
          "VDNA",
          "VDNA",
          "VDNA"
         ],
         "xaxis": "x11",
         "y": [
          4.0,
          5.0,
          6.0,
          7.0,
          1.0,
          3.0,
          2.0
         ],
         "yaxis": "y11",
         "type": "scatter"
        },
        {
         "hovertemplate": "Algorithm=%{x}<br>Rank=%{y}<br>count=%{marker.size}<extra></extra>",
         "legendgroup": "FID",
         "marker": {
          "color": "rgb(145, 30, 180)",
          "size": [
           39,
           9,
           40,
           130,
           253,
           328,
           201
          ],
          "sizemode": "area",
          "sizeref": 1.9675,
          "symbol": "circle"
         },
         "mode": "markers",
         "name": "FID",
         "orientation": "v",
         "showlegend": false,
         "x": [
          "FID",
          "FID",
          "FID",
          "FID",
          "FID",
          "FID",
          "FID"
         ],
         "xaxis": "x11",
         "y": [
          7.0,
          1.0,
          2.0,
          3.0,
          4.0,
          5.0,
          6.0
         ],
         "yaxis": "y11",
         "type": "scatter"
        },
        {
         "hovertemplate": "Algorithm=%{x}<br>Rank=%{y}<br>count=%{marker.size}<extra></extra>",
         "legendgroup": "P2L (w/o samples)",
         "marker": {
          "color": "rgb(70, 240, 240)",
          "size": [
           70,
           78,
           183,
           331,
           254,
           70,
           14
          ],
          "sizemode": "area",
          "sizeref": 1.9675,
          "symbol": "circle"
         },
         "mode": "markers",
         "name": "P2L (w/o samples)",
         "orientation": "v",
         "showlegend": false,
         "x": [
          "P2L (w/o samples)",
          "P2L (w/o samples)",
          "P2L (w/o samples)",
          "P2L (w/o samples)",
          "P2L (w/o samples)",
          "P2L (w/o samples)",
          "P2L (w/o samples)"
         ],
         "xaxis": "x11",
         "y": [
          1.0,
          6.0,
          5.0,
          4.0,
          3.0,
          2.0,
          7.0
         ],
         "yaxis": "y11",
         "type": "scatter"
        },
        {
         "hovertemplate": "Algorithm=%{x}<br>Rank=%{y}<br>count=%{marker.size}<extra></extra>",
         "legendgroup": "bKLD(large,source)",
         "marker": {
          "color": "rgb(60, 180, 75)",
          "size": [
           153,
           71,
           11,
           69,
           360,
           57,
           182,
           97
          ],
          "sizemode": "area",
          "sizeref": 1.9675,
          "symbol": "hexagon"
         },
         "mode": "markers",
         "name": "bKLD(large,source)",
         "orientation": "v",
         "showlegend": false,
         "x": [
          "bKLD(large,source)",
          "bKLD(large,source)",
          "bKLD(large,source)",
          "bKLD(large,source)",
          "bKLD(large,source)",
          "bKLD(large,source)",
          "bKLD(large,source)",
          "bKLD(large,source)"
         ],
         "xaxis": "x11",
         "y": [
          6.0,
          7.0,
          8.0,
          5.0,
          3.0,
          2.0,
          1.0,
          4.0
         ],
         "yaxis": "y11",
         "type": "scatter"
        },
        {
         "hovertemplate": "Algorithm=%{x}<br>Rank=%{y}<br>count=%{marker.size}<extra></extra>",
         "legendgroup": "bKLD(large,unweighted)",
         "marker": {
          "color": "rgb(60, 180, 75)",
          "size": [
           17,
           24,
           40,
           59,
           148,
           667,
           1,
           44
          ],
          "sizemode": "area",
          "sizeref": 1.9675,
          "symbol": "hexagram"
         },
         "mode": "markers",
         "name": "bKLD(large,unweighted)",
         "orientation": "v",
         "showlegend": false,
         "x": [
          "bKLD(large,unweighted)",
          "bKLD(large,unweighted)",
          "bKLD(large,unweighted)",
          "bKLD(large,unweighted)",
          "bKLD(large,unweighted)",
          "bKLD(large,unweighted)",
          "bKLD(large,unweighted)",
          "bKLD(large,unweighted)"
         ],
         "xaxis": "x11",
         "y": [
          8.0,
          7.0,
          5.0,
          6.0,
          3.0,
          2.0,
          1.0,
          4.0
         ],
         "yaxis": "y11",
         "type": "scatter"
        },
        {
         "hovertemplate": "Algorithm=%{x}<br>Rank=%{y}<br>count=%{marker.size}<extra></extra>",
         "legendgroup": "bKLD(small,target)",
         "marker": {
          "color": "rgb(60, 180, 75)",
          "size": [
           17,
           729,
           131,
           35,
           38,
           42,
           8
          ],
          "sizemode": "area",
          "sizeref": 1.9675,
          "symbol": "circle"
         },
         "mode": "markers",
         "name": "bKLD(small,target)",
         "orientation": "v",
         "showlegend": false,
         "x": [
          "bKLD(small,target)",
          "bKLD(small,target)",
          "bKLD(small,target)",
          "bKLD(small,target)",
          "bKLD(small,target)",
          "bKLD(small,target)",
          "bKLD(small,target)"
         ],
         "xaxis": "x11",
         "y": [
          6.0,
          1.0,
          2.0,
          3.0,
          4.0,
          5.0,
          7.0
         ],
         "yaxis": "y11",
         "type": "scatter"
        },
        {
         "error_y": {
          "array": [
           1.27222010674254,
           1.4764928039106726,
           1.8898296219500847,
           1.3172968534085248,
           1.2173331507849443,
           1.2897426099807665,
           1.2418760002512328,
           0.547207456089553
          ]
         },
         "marker": {
          "color": "black",
          "line": {
           "width": 2
          },
          "size": 15,
          "symbol": "x-thin"
         },
         "mode": "markers",
         "x": [
          "bKLD(small,target)",
          "bKLD(large,unweighted)",
          "bKLD(large,source)",
          "P2L (w/o samples)",
          "FID",
          "VDNA",
          "Manual",
          "FED"
         ],
         "y": [
          1.616,
          2.813,
          3.612,
          3.777,
          4.61,
          5.242,
          6.588,
          7.742
         ],
         "type": "scatter",
         "xaxis": "x11",
         "yaxis": "y11",
         "showlegend": false
        },
        {
         "hovertemplate": "Algorithm=%{x}<br>Rank=%{y}<br>count=%{marker.size}<extra></extra>",
         "legendgroup": "Manual",
         "marker": {
          "color": "rgb(230, 25, 75)",
          "size": [
           751,
           236,
           13
          ],
          "sizemode": "area",
          "sizeref": 2.4925,
          "symbol": "circle"
         },
         "mode": "markers",
         "name": "Manual",
         "orientation": "v",
         "showlegend": false,
         "x": [
          "Manual",
          "Manual",
          "Manual"
         ],
         "xaxis": "x12",
         "y": [
          8.0,
          7.0,
          6.0
         ],
         "yaxis": "y12",
         "type": "scatter"
        },
        {
         "hovertemplate": "Algorithm=%{x}<br>Rank=%{y}<br>count=%{marker.size}<extra></extra>",
         "legendgroup": "P2L (w/o samples)",
         "marker": {
          "color": "rgb(70, 240, 240)",
          "size": [
           748,
           248,
           4
          ],
          "sizemode": "area",
          "sizeref": 2.4925,
          "symbol": "circle"
         },
         "mode": "markers",
         "name": "P2L (w/o samples)",
         "orientation": "v",
         "showlegend": false,
         "x": [
          "P2L (w/o samples)",
          "P2L (w/o samples)",
          "P2L (w/o samples)"
         ],
         "xaxis": "x12",
         "y": [
          7.0,
          8.0,
          6.0
         ],
         "yaxis": "y12",
         "type": "scatter"
        },
        {
         "hovertemplate": "Algorithm=%{x}<br>Rank=%{y}<br>count=%{marker.size}<extra></extra>",
         "legendgroup": "FED",
         "marker": {
          "color": "rgb(245, 130, 49)",
          "size": [
           2,
           1,
           16,
           981
          ],
          "sizemode": "area",
          "sizeref": 2.4925,
          "symbol": "circle"
         },
         "mode": "markers",
         "name": "FED",
         "orientation": "v",
         "showlegend": false,
         "x": [
          "FED",
          "FED",
          "FED",
          "FED"
         ],
         "xaxis": "x12",
         "y": [
          5.0,
          8.0,
          7.0,
          6.0
         ],
         "yaxis": "y12",
         "type": "scatter"
        },
        {
         "hovertemplate": "Algorithm=%{x}<br>Rank=%{y}<br>count=%{marker.size}<extra></extra>",
         "legendgroup": "VDNA",
         "marker": {
          "color": "rgb(67, 99, 216)",
          "size": [
           705,
           2,
           1,
           292
          ],
          "sizemode": "area",
          "sizeref": 2.4925,
          "symbol": "circle"
         },
         "mode": "markers",
         "name": "VDNA",
         "orientation": "v",
         "showlegend": false,
         "x": [
          "VDNA",
          "VDNA",
          "VDNA",
          "VDNA"
         ],
         "xaxis": "x12",
         "y": [
          5.0,
          6.0,
          3.0,
          4.0
         ],
         "yaxis": "y12",
         "type": "scatter"
        },
        {
         "hovertemplate": "Algorithm=%{x}<br>Rank=%{y}<br>count=%{marker.size}<extra></extra>",
         "legendgroup": "FID",
         "marker": {
          "color": "rgb(145, 30, 180)",
          "size": [
           292,
           706,
           2
          ],
          "sizemode": "area",
          "sizeref": 2.4925,
          "symbol": "circle"
         },
         "mode": "markers",
         "name": "FID",
         "orientation": "v",
         "showlegend": false,
         "x": [
          "FID",
          "FID",
          "FID"
         ],
         "xaxis": "x12",
         "y": [
          5.0,
          4.0,
          3.0
         ],
         "yaxis": "y12",
         "type": "scatter"
        },
        {
         "hovertemplate": "Algorithm=%{x}<br>Rank=%{y}<br>count=%{marker.size}<extra></extra>",
         "legendgroup": "bKLD(large,source)",
         "marker": {
          "color": "rgb(60, 180, 75)",
          "size": [
           997,
           2,
           1
          ],
          "sizemode": "area",
          "sizeref": 2.4925,
          "symbol": "hexagon"
         },
         "mode": "markers",
         "name": "bKLD(large,source)",
         "orientation": "v",
         "showlegend": false,
         "x": [
          "bKLD(large,source)",
          "bKLD(large,source)",
          "bKLD(large,source)"
         ],
         "xaxis": "x12",
         "y": [
          3.0,
          4.0,
          5.0
         ],
         "yaxis": "y12",
         "type": "scatter"
        },
        {
         "hovertemplate": "Algorithm=%{x}<br>Rank=%{y}<br>count=%{marker.size}<extra></extra>",
         "legendgroup": "bKLD(large,unweighted)",
         "marker": {
          "color": "rgb(60, 180, 75)",
          "size": [
           62,
           938
          ],
          "sizemode": "area",
          "sizeref": 2.4925,
          "symbol": "hexagram"
         },
         "mode": "markers",
         "name": "bKLD(large,unweighted)",
         "orientation": "v",
         "showlegend": false,
         "x": [
          "bKLD(large,unweighted)",
          "bKLD(large,unweighted)"
         ],
         "xaxis": "x12",
         "y": [
          1.0,
          2.0
         ],
         "yaxis": "y12",
         "type": "scatter"
        },
        {
         "hovertemplate": "Algorithm=%{x}<br>Rank=%{y}<br>count=%{marker.size}<extra></extra>",
         "legendgroup": "bKLD(small,target)",
         "marker": {
          "color": "rgb(60, 180, 75)",
          "size": [
           938,
           62
          ],
          "sizemode": "area",
          "sizeref": 2.4925,
          "symbol": "circle"
         },
         "mode": "markers",
         "name": "bKLD(small,target)",
         "orientation": "v",
         "showlegend": false,
         "x": [
          "bKLD(small,target)",
          "bKLD(small,target)"
         ],
         "xaxis": "x12",
         "y": [
          1.0,
          2.0
         ],
         "yaxis": "y12",
         "type": "scatter"
        },
        {
         "error_y": {
          "array": [
           0.2411555514600483,
           0.2411555514600483,
           0.07735631842325487,
           0.4581484475582123,
           0.4612331297727864,
           0.1474584687293341,
           0.43870719164381156,
           0.468354566541205
          ]
         },
         "marker": {
          "color": "black",
          "line": {
           "width": 2
          },
          "size": 15,
          "symbol": "x-thin"
         },
         "mode": "markers",
         "x": [
          "bKLD(small,target)",
          "bKLD(large,unweighted)",
          "bKLD(large,source)",
          "FID",
          "VDNA",
          "FED",
          "P2L (w/o samples)",
          "Manual"
         ],
         "y": [
          1.062,
          1.938,
          3.004,
          4.29,
          4.708,
          6.016,
          7.244,
          7.738
         ],
         "type": "scatter",
         "xaxis": "x12",
         "yaxis": "y12",
         "showlegend": false
        },
        {
         "hovertemplate": "Algorithm=%{x}<br>Rank=%{y}<br>count=%{marker.size}<extra></extra>",
         "legendgroup": "FED",
         "marker": {
          "color": "rgb(245, 130, 49)",
          "size": [
           5,
           22,
           52,
           102,
           158,
           195,
           250,
           216
          ],
          "sizemode": "area",
          "sizeref": 2.0175,
          "symbol": "circle"
         },
         "mode": "markers",
         "name": "FED",
         "orientation": "v",
         "showlegend": false,
         "x": [
          "FED",
          "FED",
          "FED",
          "FED",
          "FED",
          "FED",
          "FED",
          "FED"
         ],
         "xaxis": "x13",
         "y": [
          1.0,
          2.0,
          3.0,
          4.0,
          5.0,
          6.0,
          7.0,
          8.0
         ],
         "yaxis": "y13",
         "type": "scatter"
        },
        {
         "hovertemplate": "Algorithm=%{x}<br>Rank=%{y}<br>count=%{marker.size}<extra></extra>",
         "legendgroup": "P2L (w/o samples)",
         "marker": {
          "color": "rgb(70, 240, 240)",
          "size": [
           188,
           214,
           189,
           145,
           34,
           15,
           3,
           212
          ],
          "sizemode": "area",
          "sizeref": 2.0175,
          "symbol": "circle"
         },
         "mode": "markers",
         "name": "P2L (w/o samples)",
         "orientation": "v",
         "showlegend": false,
         "x": [
          "P2L (w/o samples)",
          "P2L (w/o samples)",
          "P2L (w/o samples)",
          "P2L (w/o samples)",
          "P2L (w/o samples)",
          "P2L (w/o samples)",
          "P2L (w/o samples)",
          "P2L (w/o samples)"
         ],
         "xaxis": "x13",
         "y": [
          7.0,
          6.0,
          5.0,
          4.0,
          3.0,
          2.0,
          1.0,
          8.0
         ],
         "yaxis": "y13",
         "type": "scatter"
        },
        {
         "hovertemplate": "Algorithm=%{x}<br>Rank=%{y}<br>count=%{marker.size}<extra></extra>",
         "legendgroup": "VDNA",
         "marker": {
          "color": "rgb(67, 99, 216)",
          "size": [
           143,
           227,
           275,
           196,
           114,
           40,
           3,
           2
          ],
          "sizemode": "area",
          "sizeref": 2.0175,
          "symbol": "circle"
         },
         "mode": "markers",
         "name": "VDNA",
         "orientation": "v",
         "showlegend": false,
         "x": [
          "VDNA",
          "VDNA",
          "VDNA",
          "VDNA",
          "VDNA",
          "VDNA",
          "VDNA",
          "VDNA"
         ],
         "xaxis": "x13",
         "y": [
          8.0,
          7.0,
          6.0,
          5.0,
          4.0,
          3.0,
          2.0,
          1.0
         ],
         "yaxis": "y13",
         "type": "scatter"
        },
        {
         "hovertemplate": "Algorithm=%{x}<br>Rank=%{y}<br>count=%{marker.size}<extra></extra>",
         "legendgroup": "bKLD(large,source)",
         "marker": {
          "color": "rgb(60, 180, 75)",
          "size": [
           341,
           134,
           109,
           104,
           149,
           116,
           26,
           21
          ],
          "sizemode": "area",
          "sizeref": 2.0175,
          "symbol": "hexagon"
         },
         "mode": "markers",
         "name": "bKLD(large,source)",
         "orientation": "v",
         "showlegend": false,
         "x": [
          "bKLD(large,source)",
          "bKLD(large,source)",
          "bKLD(large,source)",
          "bKLD(large,source)",
          "bKLD(large,source)",
          "bKLD(large,source)",
          "bKLD(large,source)",
          "bKLD(large,source)"
         ],
         "xaxis": "x13",
         "y": [
          8.0,
          7.0,
          6.0,
          5.0,
          4.0,
          3.0,
          2.0,
          1.0
         ],
         "yaxis": "y13",
         "type": "scatter"
        },
        {
         "hovertemplate": "Algorithm=%{x}<br>Rank=%{y}<br>count=%{marker.size}<extra></extra>",
         "legendgroup": "Manual",
         "marker": {
          "color": "rgb(230, 25, 75)",
          "size": [
           56,
           67,
           301,
           183,
           142,
           97,
           105,
           49
          ],
          "sizemode": "area",
          "sizeref": 2.0175,
          "symbol": "circle"
         },
         "mode": "markers",
         "name": "Manual",
         "orientation": "v",
         "showlegend": false,
         "x": [
          "Manual",
          "Manual",
          "Manual",
          "Manual",
          "Manual",
          "Manual",
          "Manual",
          "Manual"
         ],
         "xaxis": "x13",
         "y": [
          1.0,
          2.0,
          3.0,
          4.0,
          5.0,
          6.0,
          7.0,
          8.0
         ],
         "yaxis": "y13",
         "type": "scatter"
        },
        {
         "hovertemplate": "Algorithm=%{x}<br>Rank=%{y}<br>count=%{marker.size}<extra></extra>",
         "legendgroup": "FID",
         "marker": {
          "color": "rgb(145, 30, 180)",
          "size": [
           60,
           30,
           96,
           177,
           217,
           264,
           70,
           86
          ],
          "sizemode": "area",
          "sizeref": 2.0175,
          "symbol": "circle"
         },
         "mode": "markers",
         "name": "FID",
         "orientation": "v",
         "showlegend": false,
         "x": [
          "FID",
          "FID",
          "FID",
          "FID",
          "FID",
          "FID",
          "FID",
          "FID"
         ],
         "xaxis": "x13",
         "y": [
          1.0,
          8.0,
          6.0,
          5.0,
          4.0,
          3.0,
          2.0,
          7.0
         ],
         "yaxis": "y13",
         "type": "scatter"
        },
        {
         "hovertemplate": "Algorithm=%{x}<br>Rank=%{y}<br>count=%{marker.size}<extra></extra>",
         "legendgroup": "bKLD(small,target)",
         "marker": {
          "color": "rgb(60, 180, 75)",
          "size": [
           13,
           30,
           70,
           163,
           660,
           46,
           9,
           9
          ],
          "sizemode": "area",
          "sizeref": 2.0175,
          "symbol": "circle"
         },
         "mode": "markers",
         "name": "bKLD(small,target)",
         "orientation": "v",
         "showlegend": false,
         "x": [
          "bKLD(small,target)",
          "bKLD(small,target)",
          "bKLD(small,target)",
          "bKLD(small,target)",
          "bKLD(small,target)",
          "bKLD(small,target)",
          "bKLD(small,target)",
          "bKLD(small,target)"
         ],
         "xaxis": "x13",
         "y": [
          6.0,
          5.0,
          4.0,
          3.0,
          2.0,
          1.0,
          8.0,
          7.0
         ],
         "yaxis": "y13",
         "type": "scatter"
        },
        {
         "hovertemplate": "Algorithm=%{x}<br>Rank=%{y}<br>count=%{marker.size}<extra></extra>",
         "legendgroup": "bKLD(large,unweighted)",
         "marker": {
          "color": "rgb(60, 180, 75)",
          "size": [
           1,
           4,
           30,
           137,
           807,
           1,
           20
          ],
          "sizemode": "area",
          "sizeref": 2.0175,
          "symbol": "hexagram"
         },
         "mode": "markers",
         "name": "bKLD(large,unweighted)",
         "orientation": "v",
         "showlegend": false,
         "x": [
          "bKLD(large,unweighted)",
          "bKLD(large,unweighted)",
          "bKLD(large,unweighted)",
          "bKLD(large,unweighted)",
          "bKLD(large,unweighted)",
          "bKLD(large,unweighted)",
          "bKLD(large,unweighted)"
         ],
         "xaxis": "x13",
         "y": [
          6.0,
          5.0,
          3.0,
          2.0,
          1.0,
          7.0,
          4.0
         ],
         "yaxis": "y13",
         "type": "scatter"
        },
        {
         "error_y": {
          "array": [
           0.6937895934647622,
           1.1260532847072557,
           1.694824769703346,
           1.8089953012653184,
           2.040233074920608,
           1.380648760547012,
           1.5569405897464423,
           1.619382289640096
          ]
         },
         "marker": {
          "color": "black",
          "line": {
           "width": 2
          },
          "size": 15,
          "symbol": "x-thin"
         },
         "mode": "markers",
         "x": [
          "bKLD(large,unweighted)",
          "bKLD(small,target)",
          "FID",
          "Manual",
          "bKLD(large,source)",
          "VDNA",
          "P2L (w/o samples)",
          "FED"
         ],
         "y": [
          1.284,
          2.498,
          4.163,
          4.244,
          5.857,
          5.947,
          5.956,
          6.051
         ],
         "type": "scatter",
         "xaxis": "x13",
         "yaxis": "y13",
         "showlegend": false
        },
        {
         "hovertemplate": "Algorithm=%{x}<br>Rank=%{y}<br>count=%{marker.size}<extra></extra>",
         "legendgroup": "VDNA",
         "marker": {
          "color": "rgb(67, 99, 216)",
          "size": [
           2,
           1,
           17,
           40,
           125,
           284,
           531
          ],
          "sizemode": "area",
          "sizeref": 1.3275,
          "symbol": "circle"
         },
         "mode": "markers",
         "name": "VDNA",
         "orientation": "v",
         "showlegend": false,
         "x": [
          "VDNA",
          "VDNA",
          "VDNA",
          "VDNA",
          "VDNA",
          "VDNA",
          "VDNA"
         ],
         "xaxis": "x14",
         "y": [
          3.0,
          2.0,
          4.0,
          5.0,
          6.0,
          7.0,
          8.0
         ],
         "yaxis": "y14",
         "type": "scatter"
        },
        {
         "hovertemplate": "Algorithm=%{x}<br>Rank=%{y}<br>count=%{marker.size}<extra></extra>",
         "legendgroup": "FED",
         "marker": {
          "color": "rgb(245, 130, 49)",
          "size": [
           4,
           327,
           189,
           103,
           56,
           40,
           22,
           259
          ],
          "sizemode": "area",
          "sizeref": 1.3275,
          "symbol": "circle"
         },
         "mode": "markers",
         "name": "FED",
         "orientation": "v",
         "showlegend": false,
         "x": [
          "FED",
          "FED",
          "FED",
          "FED",
          "FED",
          "FED",
          "FED",
          "FED"
         ],
         "xaxis": "x14",
         "y": [
          1.0,
          7.0,
          6.0,
          5.0,
          4.0,
          3.0,
          2.0,
          8.0
         ],
         "yaxis": "y14",
         "type": "scatter"
        },
        {
         "hovertemplate": "Algorithm=%{x}<br>Rank=%{y}<br>count=%{marker.size}<extra></extra>",
         "legendgroup": "Manual",
         "marker": {
          "color": "rgb(230, 25, 75)",
          "size": [
           118,
           153,
           170,
           161,
           80,
           115,
           47,
           156
          ],
          "sizemode": "area",
          "sizeref": 1.3275,
          "symbol": "circle"
         },
         "mode": "markers",
         "name": "Manual",
         "orientation": "v",
         "showlegend": false,
         "x": [
          "Manual",
          "Manual",
          "Manual",
          "Manual",
          "Manual",
          "Manual",
          "Manual",
          "Manual"
         ],
         "xaxis": "x14",
         "y": [
          8.0,
          7.0,
          6.0,
          5.0,
          2.0,
          3.0,
          1.0,
          4.0
         ],
         "yaxis": "y14",
         "type": "scatter"
        },
        {
         "hovertemplate": "Algorithm=%{x}<br>Rank=%{y}<br>count=%{marker.size}<extra></extra>",
         "legendgroup": "P2L (w/o samples)",
         "marker": {
          "color": "rgb(70, 240, 240)",
          "size": [
           107,
           239,
           199,
           175,
           27,
           90,
           132,
           31
          ],
          "sizemode": "area",
          "sizeref": 1.3275,
          "symbol": "circle"
         },
         "mode": "markers",
         "name": "P2L (w/o samples)",
         "orientation": "v",
         "showlegend": false,
         "x": [
          "P2L (w/o samples)",
          "P2L (w/o samples)",
          "P2L (w/o samples)",
          "P2L (w/o samples)",
          "P2L (w/o samples)",
          "P2L (w/o samples)",
          "P2L (w/o samples)",
          "P2L (w/o samples)"
         ],
         "xaxis": "x14",
         "y": [
          7.0,
          5.0,
          6.0,
          4.0,
          8.0,
          2.0,
          3.0,
          1.0
         ],
         "yaxis": "y14",
         "type": "scatter"
        },
        {
         "hovertemplate": "Algorithm=%{x}<br>Rank=%{y}<br>count=%{marker.size}<extra></extra>",
         "legendgroup": "FID",
         "marker": {
          "color": "rgb(145, 30, 180)",
          "size": [
           7,
           32,
           138,
           196,
           244,
           153,
           67,
           163
          ],
          "sizemode": "area",
          "sizeref": 1.3275,
          "symbol": "circle"
         },
         "mode": "markers",
         "name": "FID",
         "orientation": "v",
         "showlegend": false,
         "x": [
          "FID",
          "FID",
          "FID",
          "FID",
          "FID",
          "FID",
          "FID",
          "FID"
         ],
         "xaxis": "x14",
         "y": [
          8.0,
          7.0,
          6.0,
          5.0,
          4.0,
          2.0,
          1.0,
          3.0
         ],
         "yaxis": "y14",
         "type": "scatter"
        },
        {
         "hovertemplate": "Algorithm=%{x}<br>Rank=%{y}<br>count=%{marker.size}<extra></extra>",
         "legendgroup": "bKLD(small,target)",
         "marker": {
          "color": "rgb(60, 180, 75)",
          "size": [
           104,
           21,
           135,
           185,
           1,
           297,
           186,
           21,
           50
          ],
          "sizemode": "area",
          "sizeref": 1.3275,
          "symbol": "circle"
         },
         "mode": "markers",
         "name": "bKLD(small,target)",
         "orientation": "v",
         "showlegend": false,
         "x": [
          "bKLD(small,target)",
          "bKLD(small,target)",
          "bKLD(small,target)",
          "bKLD(small,target)",
          "bKLD(small,target)",
          "bKLD(small,target)",
          "bKLD(small,target)",
          "bKLD(small,target)",
          "bKLD(small,target)"
         ],
         "xaxis": "x14",
         "y": [
          6.0,
          1.0,
          5.0,
          4.0,
          3.5,
          3.0,
          2.0,
          8.0,
          7.0
         ],
         "yaxis": "y14",
         "type": "scatter"
        },
        {
         "hovertemplate": "Algorithm=%{x}<br>Rank=%{y}<br>count=%{marker.size}<extra></extra>",
         "legendgroup": "bKLD(large,source)",
         "marker": {
          "color": "rgb(60, 180, 75)",
          "size": [
           52,
           506,
           106,
           104,
           83,
           72,
           37,
           40
          ],
          "sizemode": "area",
          "sizeref": 1.3275,
          "symbol": "hexagon"
         },
         "mode": "markers",
         "name": "bKLD(large,source)",
         "orientation": "v",
         "showlegend": false,
         "x": [
          "bKLD(large,source)",
          "bKLD(large,source)",
          "bKLD(large,source)",
          "bKLD(large,source)",
          "bKLD(large,source)",
          "bKLD(large,source)",
          "bKLD(large,source)",
          "bKLD(large,source)"
         ],
         "xaxis": "x14",
         "y": [
          6.0,
          1.0,
          2.0,
          3.0,
          4.0,
          5.0,
          8.0,
          7.0
         ],
         "yaxis": "y14",
         "type": "scatter"
        },
        {
         "hovertemplate": "Algorithm=%{x}<br>Rank=%{y}<br>count=%{marker.size}<extra></extra>",
         "legendgroup": "bKLD(large,unweighted)",
         "marker": {
          "color": "rgb(60, 180, 75)",
          "size": [
           23,
           54,
           83,
           1,
           146,
           362,
           7,
           324
          ],
          "sizemode": "area",
          "sizeref": 1.3275,
          "symbol": "hexagram"
         },
         "mode": "markers",
         "name": "bKLD(large,unweighted)",
         "orientation": "v",
         "showlegend": false,
         "x": [
          "bKLD(large,unweighted)",
          "bKLD(large,unweighted)",
          "bKLD(large,unweighted)",
          "bKLD(large,unweighted)",
          "bKLD(large,unweighted)",
          "bKLD(large,unweighted)",
          "bKLD(large,unweighted)",
          "bKLD(large,unweighted)"
         ],
         "xaxis": "x14",
         "y": [
          6.0,
          5.0,
          4.0,
          3.5,
          3.0,
          2.0,
          7.0,
          1.0
         ],
         "yaxis": "y14",
         "type": "scatter"
        },
        {
         "error_y": {
          "array": [
           1.3250236790336993,
           2.0932988319874446,
           1.5947005204739853,
           1.5876158225465,
           1.662551954075421,
           1.9828625771848136,
           1.5298352852513242,
           0.9784457062095985
          ]
         },
         "marker": {
          "color": "black",
          "line": {
           "width": 2
          },
          "size": 15,
          "symbol": "x-thin"
         },
         "mode": "markers",
         "x": [
          "bKLD(large,unweighted)",
          "bKLD(large,source)",
          "bKLD(small,target)",
          "FID",
          "P2L (w/o samples)",
          "Manual",
          "FED",
          "VDNA"
         ],
         "y": [
          2.2785,
          2.61,
          3.8445,
          3.926,
          4.661,
          5.016,
          6.402,
          7.262
         ],
         "type": "scatter",
         "xaxis": "x14",
         "yaxis": "y14",
         "showlegend": false
        },
        {
         "hovertemplate": "Algorithm=%{x}<br>Rank=%{y}<br>count=%{marker.size}<extra></extra>",
         "legendgroup": "P2L (w/o samples)",
         "marker": {
          "color": "rgb(70, 240, 240)",
          "size": [
           512,
           50,
           438
          ],
          "sizemode": "area",
          "sizeref": 1.6425,
          "symbol": "circle"
         },
         "mode": "markers",
         "name": "P2L (w/o samples)",
         "orientation": "v",
         "showlegend": false,
         "x": [
          "P2L (w/o samples)",
          "P2L (w/o samples)",
          "P2L (w/o samples)"
         ],
         "xaxis": "x15",
         "y": [
          8.0,
          6.0,
          7.0
         ],
         "yaxis": "y15",
         "type": "scatter"
        },
        {
         "hovertemplate": "Algorithm=%{x}<br>Rank=%{y}<br>count=%{marker.size}<extra></extra>",
         "legendgroup": "FED",
         "marker": {
          "color": "rgb(245, 130, 49)",
          "size": [
           455,
           133,
           1,
           54,
           25,
           15,
           317
          ],
          "sizemode": "area",
          "sizeref": 1.6425,
          "symbol": "circle"
         },
         "mode": "markers",
         "name": "FED",
         "orientation": "v",
         "showlegend": false,
         "x": [
          "FED",
          "FED",
          "FED",
          "FED",
          "FED",
          "FED",
          "FED"
         ],
         "xaxis": "x15",
         "y": [
          8.0,
          7.0,
          2.0,
          5.0,
          4.0,
          3.0,
          6.0
         ],
         "yaxis": "y15",
         "type": "scatter"
        },
        {
         "hovertemplate": "Algorithm=%{x}<br>Rank=%{y}<br>count=%{marker.size}<extra></extra>",
         "legendgroup": "FID",
         "marker": {
          "color": "rgb(145, 30, 180)",
          "size": [
           2,
           15,
           524,
           33,
           426
          ],
          "sizemode": "area",
          "sizeref": 1.6425,
          "symbol": "circle"
         },
         "mode": "markers",
         "name": "FID",
         "orientation": "v",
         "showlegend": false,
         "x": [
          "FID",
          "FID",
          "FID",
          "FID",
          "FID"
         ],
         "xaxis": "x15",
         "y": [
          4.0,
          5.0,
          6.0,
          8.0,
          7.0
         ],
         "yaxis": "y15",
         "type": "scatter"
        },
        {
         "hovertemplate": "Algorithm=%{x}<br>Rank=%{y}<br>count=%{marker.size}<extra></extra>",
         "legendgroup": "VDNA",
         "marker": {
          "color": "rgb(67, 99, 216)",
          "size": [
           2,
           70,
           657,
           201,
           58,
           1,
           11
          ],
          "sizemode": "area",
          "sizeref": 1.6425,
          "symbol": "circle"
         },
         "mode": "markers",
         "name": "VDNA",
         "orientation": "v",
         "showlegend": false,
         "x": [
          "VDNA",
          "VDNA",
          "VDNA",
          "VDNA",
          "VDNA",
          "VDNA",
          "VDNA"
         ],
         "xaxis": "x15",
         "y": [
          7.0,
          6.0,
          5.0,
          4.0,
          3.0,
          1.0,
          2.0
         ],
         "yaxis": "y15",
         "type": "scatter"
        },
        {
         "hovertemplate": "Algorithm=%{x}<br>Rank=%{y}<br>count=%{marker.size}<extra></extra>",
         "legendgroup": "bKLD(small,target)",
         "marker": {
          "color": "rgb(60, 180, 75)",
          "size": [
           39,
           378,
           316,
           265,
           2
          ],
          "sizemode": "area",
          "sizeref": 1.6425,
          "symbol": "circle"
         },
         "mode": "markers",
         "name": "bKLD(small,target)",
         "orientation": "v",
         "showlegend": false,
         "x": [
          "bKLD(small,target)",
          "bKLD(small,target)",
          "bKLD(small,target)",
          "bKLD(small,target)",
          "bKLD(small,target)"
         ],
         "xaxis": "x15",
         "y": [
          5.0,
          4.0,
          3.0,
          2.0,
          6.0
         ],
         "yaxis": "y15",
         "type": "scatter"
        },
        {
         "hovertemplate": "Algorithm=%{x}<br>Rank=%{y}<br>count=%{marker.size}<extra></extra>",
         "legendgroup": "Manual",
         "marker": {
          "color": "rgb(230, 25, 75)",
          "size": [
           202,
           145,
           228,
           197,
           201,
           27
          ],
          "sizemode": "area",
          "sizeref": 1.6425,
          "symbol": "circle"
         },
         "mode": "markers",
         "name": "Manual",
         "orientation": "v",
         "showlegend": false,
         "x": [
          "Manual",
          "Manual",
          "Manual",
          "Manual",
          "Manual",
          "Manual"
         ],
         "xaxis": "x15",
         "y": [
          1.0,
          5.0,
          4.0,
          3.0,
          2.0,
          6.0
         ],
         "yaxis": "y15",
         "type": "scatter"
        },
        {
         "hovertemplate": "Algorithm=%{x}<br>Rank=%{y}<br>count=%{marker.size}<extra></extra>",
         "legendgroup": "bKLD(large,source)",
         "marker": {
          "color": "rgb(60, 180, 75)",
          "size": [
           1,
           10,
           164,
           192,
           225,
           319,
           89
          ],
          "sizemode": "area",
          "sizeref": 1.6425,
          "symbol": "hexagon"
         },
         "mode": "markers",
         "name": "bKLD(large,source)",
         "orientation": "v",
         "showlegend": false,
         "x": [
          "bKLD(large,source)",
          "bKLD(large,source)",
          "bKLD(large,source)",
          "bKLD(large,source)",
          "bKLD(large,source)",
          "bKLD(large,source)",
          "bKLD(large,source)"
         ],
         "xaxis": "x15",
         "y": [
          7.0,
          6.0,
          4.0,
          3.0,
          2.0,
          1.0,
          5.0
         ],
         "yaxis": "y15",
         "type": "scatter"
        },
        {
         "hovertemplate": "Algorithm=%{x}<br>Rank=%{y}<br>count=%{marker.size}<extra></extra>",
         "legendgroup": "bKLD(large,unweighted)",
         "marker": {
          "color": "rgb(60, 180, 75)",
          "size": [
           297,
           222,
           2,
           1,
           478
          ],
          "sizemode": "area",
          "sizeref": 1.6425,
          "symbol": "hexagram"
         },
         "mode": "markers",
         "name": "bKLD(large,unweighted)",
         "orientation": "v",
         "showlegend": false,
         "x": [
          "bKLD(large,unweighted)",
          "bKLD(large,unweighted)",
          "bKLD(large,unweighted)",
          "bKLD(large,unweighted)",
          "bKLD(large,unweighted)"
         ],
         "xaxis": "x15",
         "y": [
          2.0,
          3.0,
          4.0,
          5.0,
          1.0
         ],
         "yaxis": "y15",
         "type": "scatter"
        },
        {
         "error_y": {
          "array": [
           0.8093200850096333,
           1.374711242406928,
           1.435257468191683,
           0.8821513475589096,
           0.7399999999999999,
           0.597721507058262,
           1.2107435731813736,
           0.5903863142045216
          ]
         },
         "marker": {
          "color": "black",
          "line": {
           "width": 2
          },
          "size": 15,
          "symbol": "x-thin"
         },
         "mode": "markers",
         "x": [
          "bKLD(large,unweighted)",
          "bKLD(large,source)",
          "Manual",
          "bKLD(small,target)",
          "VDNA",
          "FID",
          "FED",
          "P2L (w/o samples)"
         ],
         "y": [
          1.751,
          2.513,
          2.994,
          3.197,
          4.72,
          6.473,
          6.89,
          7.462
         ],
         "type": "scatter",
         "xaxis": "x15",
         "yaxis": "y15",
         "showlegend": false
        },
        {
         "hovertemplate": "Algorithm=%{x}<br>Rank=%{y}<br>count=%{marker.size}<extra></extra>",
         "legendgroup": "Manual",
         "marker": {
          "color": "rgb(230, 25, 75)",
          "size": [
           484,
           223,
           116,
           127,
           27,
           16,
           7
          ],
          "sizemode": "area",
          "sizeref": 2.445,
          "symbol": "circle"
         },
         "mode": "markers",
         "name": "Manual",
         "orientation": "v",
         "showlegend": false,
         "x": [
          "Manual",
          "Manual",
          "Manual",
          "Manual",
          "Manual",
          "Manual",
          "Manual"
         ],
         "xaxis": "x16",
         "y": [
          8.0,
          7.0,
          6.0,
          5.0,
          4.0,
          3.0,
          2.0
         ],
         "yaxis": "y16",
         "type": "scatter"
        },
        {
         "hovertemplate": "Algorithm=%{x}<br>Rank=%{y}<br>count=%{marker.size}<extra></extra>",
         "legendgroup": "FED",
         "marker": {
          "color": "rgb(245, 130, 49)",
          "size": [
           2,
           23,
           34,
           97,
           136,
           338,
           370
          ],
          "sizemode": "area",
          "sizeref": 2.445,
          "symbol": "circle"
         },
         "mode": "markers",
         "name": "FED",
         "orientation": "v",
         "showlegend": false,
         "x": [
          "FED",
          "FED",
          "FED",
          "FED",
          "FED",
          "FED",
          "FED"
         ],
         "xaxis": "x16",
         "y": [
          2.0,
          3.0,
          4.0,
          5.0,
          6.0,
          7.0,
          8.0
         ],
         "yaxis": "y16",
         "type": "scatter"
        },
        {
         "hovertemplate": "Algorithm=%{x}<br>Rank=%{y}<br>count=%{marker.size}<extra></extra>",
         "legendgroup": "FID",
         "marker": {
          "color": "rgb(145, 30, 180)",
          "size": [
           236,
           370,
           234,
           67,
           25,
           68
          ],
          "sizemode": "area",
          "sizeref": 2.445,
          "symbol": "circle"
         },
         "mode": "markers",
         "name": "FID",
         "orientation": "v",
         "showlegend": false,
         "x": [
          "FID",
          "FID",
          "FID",
          "FID",
          "FID",
          "FID"
         ],
         "xaxis": "x16",
         "y": [
          7.0,
          6.0,
          5.0,
          4.0,
          3.0,
          8.0
         ],
         "yaxis": "y16",
         "type": "scatter"
        },
        {
         "hovertemplate": "Algorithm=%{x}<br>Rank=%{y}<br>count=%{marker.size}<extra></extra>",
         "legendgroup": "P2L (w/o samples)",
         "marker": {
          "color": "rgb(70, 240, 240)",
          "size": [
           109,
           31,
           254,
           6,
           89,
           140,
           371
          ],
          "sizemode": "area",
          "sizeref": 2.445,
          "symbol": "circle"
         },
         "mode": "markers",
         "name": "P2L (w/o samples)",
         "orientation": "v",
         "showlegend": false,
         "x": [
          "P2L (w/o samples)",
          "P2L (w/o samples)",
          "P2L (w/o samples)",
          "P2L (w/o samples)",
          "P2L (w/o samples)",
          "P2L (w/o samples)",
          "P2L (w/o samples)"
         ],
         "xaxis": "x16",
         "y": [
          7.0,
          8.0,
          6.0,
          2.0,
          4.0,
          3.0,
          5.0
         ],
         "yaxis": "y16",
         "type": "scatter"
        },
        {
         "hovertemplate": "Algorithm=%{x}<br>Rank=%{y}<br>count=%{marker.size}<extra></extra>",
         "legendgroup": "bKLD(large,unweighted)",
         "marker": {
          "color": "rgb(60, 180, 75)",
          "size": [
           313,
           350,
           87,
           74,
           70,
           44,
           61,
           1
          ],
          "sizemode": "area",
          "sizeref": 2.445,
          "symbol": "hexagram"
         },
         "mode": "markers",
         "name": "bKLD(large,unweighted)",
         "orientation": "v",
         "showlegend": false,
         "x": [
          "bKLD(large,unweighted)",
          "bKLD(large,unweighted)",
          "bKLD(large,unweighted)",
          "bKLD(large,unweighted)",
          "bKLD(large,unweighted)",
          "bKLD(large,unweighted)",
          "bKLD(large,unweighted)",
          "bKLD(large,unweighted)"
         ],
         "xaxis": "x16",
         "y": [
          3.0,
          4.0,
          5.0,
          6.0,
          7.0,
          8.0,
          2.0,
          1.0
         ],
         "yaxis": "y16",
         "type": "scatter"
        },
        {
         "hovertemplate": "Algorithm=%{x}<br>Rank=%{y}<br>count=%{marker.size}<extra></extra>",
         "legendgroup": "bKLD(small,target)",
         "marker": {
          "color": "rgb(60, 180, 75)",
          "size": [
           386,
           99,
           64,
           48,
           362,
           16,
           2,
           23
          ],
          "sizemode": "area",
          "sizeref": 2.445,
          "symbol": "circle"
         },
         "mode": "markers",
         "name": "bKLD(small,target)",
         "orientation": "v",
         "showlegend": false,
         "x": [
          "bKLD(small,target)",
          "bKLD(small,target)",
          "bKLD(small,target)",
          "bKLD(small,target)",
          "bKLD(small,target)",
          "bKLD(small,target)",
          "bKLD(small,target)",
          "bKLD(small,target)"
         ],
         "xaxis": "x16",
         "y": [
          3.0,
          4.0,
          5.0,
          6.0,
          2.0,
          1.0,
          8.0,
          7.0
         ],
         "yaxis": "y16",
         "type": "scatter"
        },
        {
         "hovertemplate": "Algorithm=%{x}<br>Rank=%{y}<br>count=%{marker.size}<extra></extra>",
         "legendgroup": "VDNA",
         "marker": {
          "color": "rgb(67, 99, 216)",
          "size": [
           1,
           1,
           2,
           20,
           331,
           83,
           557,
           5
          ],
          "sizemode": "area",
          "sizeref": 2.445,
          "symbol": "circle"
         },
         "mode": "markers",
         "name": "VDNA",
         "orientation": "v",
         "showlegend": false,
         "x": [
          "VDNA",
          "VDNA",
          "VDNA",
          "VDNA",
          "VDNA",
          "VDNA",
          "VDNA",
          "VDNA"
         ],
         "xaxis": "x16",
         "y": [
          8.0,
          7.0,
          6.0,
          5.0,
          4.0,
          3.0,
          2.0,
          1.0
         ],
         "yaxis": "y16",
         "type": "scatter"
        },
        {
         "hovertemplate": "Algorithm=%{x}<br>Rank=%{y}<br>count=%{marker.size}<extra></extra>",
         "legendgroup": "bKLD(large,source)",
         "marker": {
          "color": "rgb(60, 180, 75)",
          "size": [
           14,
           5,
           978,
           3
          ],
          "sizemode": "area",
          "sizeref": 2.445,
          "symbol": "hexagon"
         },
         "mode": "markers",
         "name": "bKLD(large,source)",
         "orientation": "v",
         "showlegend": false,
         "x": [
          "bKLD(large,source)",
          "bKLD(large,source)",
          "bKLD(large,source)",
          "bKLD(large,source)"
         ],
         "xaxis": "x16",
         "y": [
          3.0,
          2.0,
          1.0,
          4.0
         ],
         "yaxis": "y16",
         "type": "scatter"
        },
        {
         "error_y": {
          "array": [
           0.29365966696160367,
           1.0070943352040067,
           1.2746603469159932,
           1.4998369911427043,
           1.280748218815861,
           1.1090351662593931,
           1.2613897098042304,
           1.3332831657228708
          ]
         },
         "marker": {
          "color": "black",
          "line": {
           "width": 2
          },
          "size": 15,
          "symbol": "x-thin"
         },
         "mode": "markers",
         "x": [
          "bKLD(large,source)",
          "VDNA",
          "bKLD(small,target)",
          "bKLD(large,unweighted)",
          "P2L (w/o samples)",
          "FID",
          "FED",
          "Manual"
         ],
         "y": [
          1.042,
          2.819,
          3.079,
          4.183,
          5.178,
          5.929,
          6.836,
          6.934
         ],
         "type": "scatter",
         "xaxis": "x16",
         "yaxis": "y16",
         "showlegend": false
        }
       ],
       "layout": {
        "template": {
         "data": {
          "barpolar": [
           {
            "marker": {
             "line": {
              "color": "#E5ECF6",
              "width": 0.5
             },
             "pattern": {
              "fillmode": "overlay",
              "size": 10,
              "solidity": 0.2
             }
            },
            "type": "barpolar"
           }
          ],
          "bar": [
           {
            "error_x": {
             "color": "#2a3f5f"
            },
            "error_y": {
             "color": "#2a3f5f"
            },
            "marker": {
             "line": {
              "color": "#E5ECF6",
              "width": 0.5
             },
             "pattern": {
              "fillmode": "overlay",
              "size": 10,
              "solidity": 0.2
             }
            },
            "type": "bar"
           }
          ],
          "carpet": [
           {
            "aaxis": {
             "endlinecolor": "#2a3f5f",
             "gridcolor": "white",
             "linecolor": "white",
             "minorgridcolor": "white",
             "startlinecolor": "#2a3f5f"
            },
            "baxis": {
             "endlinecolor": "#2a3f5f",
             "gridcolor": "white",
             "linecolor": "white",
             "minorgridcolor": "white",
             "startlinecolor": "#2a3f5f"
            },
            "type": "carpet"
           }
          ],
          "choropleth": [
           {
            "colorbar": {
             "outlinewidth": 0,
             "ticks": ""
            },
            "type": "choropleth"
           }
          ],
          "contourcarpet": [
           {
            "colorbar": {
             "outlinewidth": 0,
             "ticks": ""
            },
            "type": "contourcarpet"
           }
          ],
          "contour": [
           {
            "colorbar": {
             "outlinewidth": 0,
             "ticks": ""
            },
            "colorscale": [
             [
              0.0,
              "#0d0887"
             ],
             [
              0.1111111111111111,
              "#46039f"
             ],
             [
              0.2222222222222222,
              "#7201a8"
             ],
             [
              0.3333333333333333,
              "#9c179e"
             ],
             [
              0.4444444444444444,
              "#bd3786"
             ],
             [
              0.5555555555555556,
              "#d8576b"
             ],
             [
              0.6666666666666666,
              "#ed7953"
             ],
             [
              0.7777777777777778,
              "#fb9f3a"
             ],
             [
              0.8888888888888888,
              "#fdca26"
             ],
             [
              1.0,
              "#f0f921"
             ]
            ],
            "type": "contour"
           }
          ],
          "heatmapgl": [
           {
            "colorbar": {
             "outlinewidth": 0,
             "ticks": ""
            },
            "colorscale": [
             [
              0.0,
              "#0d0887"
             ],
             [
              0.1111111111111111,
              "#46039f"
             ],
             [
              0.2222222222222222,
              "#7201a8"
             ],
             [
              0.3333333333333333,
              "#9c179e"
             ],
             [
              0.4444444444444444,
              "#bd3786"
             ],
             [
              0.5555555555555556,
              "#d8576b"
             ],
             [
              0.6666666666666666,
              "#ed7953"
             ],
             [
              0.7777777777777778,
              "#fb9f3a"
             ],
             [
              0.8888888888888888,
              "#fdca26"
             ],
             [
              1.0,
              "#f0f921"
             ]
            ],
            "type": "heatmapgl"
           }
          ],
          "heatmap": [
           {
            "colorbar": {
             "outlinewidth": 0,
             "ticks": ""
            },
            "colorscale": [
             [
              0.0,
              "#0d0887"
             ],
             [
              0.1111111111111111,
              "#46039f"
             ],
             [
              0.2222222222222222,
              "#7201a8"
             ],
             [
              0.3333333333333333,
              "#9c179e"
             ],
             [
              0.4444444444444444,
              "#bd3786"
             ],
             [
              0.5555555555555556,
              "#d8576b"
             ],
             [
              0.6666666666666666,
              "#ed7953"
             ],
             [
              0.7777777777777778,
              "#fb9f3a"
             ],
             [
              0.8888888888888888,
              "#fdca26"
             ],
             [
              1.0,
              "#f0f921"
             ]
            ],
            "type": "heatmap"
           }
          ],
          "histogram2dcontour": [
           {
            "colorbar": {
             "outlinewidth": 0,
             "ticks": ""
            },
            "colorscale": [
             [
              0.0,
              "#0d0887"
             ],
             [
              0.1111111111111111,
              "#46039f"
             ],
             [
              0.2222222222222222,
              "#7201a8"
             ],
             [
              0.3333333333333333,
              "#9c179e"
             ],
             [
              0.4444444444444444,
              "#bd3786"
             ],
             [
              0.5555555555555556,
              "#d8576b"
             ],
             [
              0.6666666666666666,
              "#ed7953"
             ],
             [
              0.7777777777777778,
              "#fb9f3a"
             ],
             [
              0.8888888888888888,
              "#fdca26"
             ],
             [
              1.0,
              "#f0f921"
             ]
            ],
            "type": "histogram2dcontour"
           }
          ],
          "histogram2d": [
           {
            "colorbar": {
             "outlinewidth": 0,
             "ticks": ""
            },
            "colorscale": [
             [
              0.0,
              "#0d0887"
             ],
             [
              0.1111111111111111,
              "#46039f"
             ],
             [
              0.2222222222222222,
              "#7201a8"
             ],
             [
              0.3333333333333333,
              "#9c179e"
             ],
             [
              0.4444444444444444,
              "#bd3786"
             ],
             [
              0.5555555555555556,
              "#d8576b"
             ],
             [
              0.6666666666666666,
              "#ed7953"
             ],
             [
              0.7777777777777778,
              "#fb9f3a"
             ],
             [
              0.8888888888888888,
              "#fdca26"
             ],
             [
              1.0,
              "#f0f921"
             ]
            ],
            "type": "histogram2d"
           }
          ],
          "histogram": [
           {
            "marker": {
             "pattern": {
              "fillmode": "overlay",
              "size": 10,
              "solidity": 0.2
             }
            },
            "type": "histogram"
           }
          ],
          "mesh3d": [
           {
            "colorbar": {
             "outlinewidth": 0,
             "ticks": ""
            },
            "type": "mesh3d"
           }
          ],
          "parcoords": [
           {
            "line": {
             "colorbar": {
              "outlinewidth": 0,
              "ticks": ""
             }
            },
            "type": "parcoords"
           }
          ],
          "pie": [
           {
            "automargin": true,
            "type": "pie"
           }
          ],
          "scatter3d": [
           {
            "line": {
             "colorbar": {
              "outlinewidth": 0,
              "ticks": ""
             }
            },
            "marker": {
             "colorbar": {
              "outlinewidth": 0,
              "ticks": ""
             }
            },
            "type": "scatter3d"
           }
          ],
          "scattercarpet": [
           {
            "marker": {
             "colorbar": {
              "outlinewidth": 0,
              "ticks": ""
             }
            },
            "type": "scattercarpet"
           }
          ],
          "scattergeo": [
           {
            "marker": {
             "colorbar": {
              "outlinewidth": 0,
              "ticks": ""
             }
            },
            "type": "scattergeo"
           }
          ],
          "scattergl": [
           {
            "marker": {
             "colorbar": {
              "outlinewidth": 0,
              "ticks": ""
             }
            },
            "type": "scattergl"
           }
          ],
          "scattermapbox": [
           {
            "marker": {
             "colorbar": {
              "outlinewidth": 0,
              "ticks": ""
             }
            },
            "type": "scattermapbox"
           }
          ],
          "scatterpolargl": [
           {
            "marker": {
             "colorbar": {
              "outlinewidth": 0,
              "ticks": ""
             }
            },
            "type": "scatterpolargl"
           }
          ],
          "scatterpolar": [
           {
            "marker": {
             "colorbar": {
              "outlinewidth": 0,
              "ticks": ""
             }
            },
            "type": "scatterpolar"
           }
          ],
          "scatter": [
           {
            "fillpattern": {
             "fillmode": "overlay",
             "size": 10,
             "solidity": 0.2
            },
            "type": "scatter"
           }
          ],
          "scatterternary": [
           {
            "marker": {
             "colorbar": {
              "outlinewidth": 0,
              "ticks": ""
             }
            },
            "type": "scatterternary"
           }
          ],
          "surface": [
           {
            "colorbar": {
             "outlinewidth": 0,
             "ticks": ""
            },
            "colorscale": [
             [
              0.0,
              "#0d0887"
             ],
             [
              0.1111111111111111,
              "#46039f"
             ],
             [
              0.2222222222222222,
              "#7201a8"
             ],
             [
              0.3333333333333333,
              "#9c179e"
             ],
             [
              0.4444444444444444,
              "#bd3786"
             ],
             [
              0.5555555555555556,
              "#d8576b"
             ],
             [
              0.6666666666666666,
              "#ed7953"
             ],
             [
              0.7777777777777778,
              "#fb9f3a"
             ],
             [
              0.8888888888888888,
              "#fdca26"
             ],
             [
              1.0,
              "#f0f921"
             ]
            ],
            "type": "surface"
           }
          ],
          "table": [
           {
            "cells": {
             "fill": {
              "color": "#EBF0F8"
             },
             "line": {
              "color": "white"
             }
            },
            "header": {
             "fill": {
              "color": "#C8D4E3"
             },
             "line": {
              "color": "white"
             }
            },
            "type": "table"
           }
          ]
         },
         "layout": {
          "annotationdefaults": {
           "arrowcolor": "#2a3f5f",
           "arrowhead": 0,
           "arrowwidth": 1
          },
          "autotypenumbers": "strict",
          "coloraxis": {
           "colorbar": {
            "outlinewidth": 0,
            "ticks": ""
           }
          },
          "colorscale": {
           "diverging": [
            [
             0,
             "#8e0152"
            ],
            [
             0.1,
             "#c51b7d"
            ],
            [
             0.2,
             "#de77ae"
            ],
            [
             0.3,
             "#f1b6da"
            ],
            [
             0.4,
             "#fde0ef"
            ],
            [
             0.5,
             "#f7f7f7"
            ],
            [
             0.6,
             "#e6f5d0"
            ],
            [
             0.7,
             "#b8e186"
            ],
            [
             0.8,
             "#7fbc41"
            ],
            [
             0.9,
             "#4d9221"
            ],
            [
             1,
             "#276419"
            ]
           ],
           "sequential": [
            [
             0.0,
             "#0d0887"
            ],
            [
             0.1111111111111111,
             "#46039f"
            ],
            [
             0.2222222222222222,
             "#7201a8"
            ],
            [
             0.3333333333333333,
             "#9c179e"
            ],
            [
             0.4444444444444444,
             "#bd3786"
            ],
            [
             0.5555555555555556,
             "#d8576b"
            ],
            [
             0.6666666666666666,
             "#ed7953"
            ],
            [
             0.7777777777777778,
             "#fb9f3a"
            ],
            [
             0.8888888888888888,
             "#fdca26"
            ],
            [
             1.0,
             "#f0f921"
            ]
           ],
           "sequentialminus": [
            [
             0.0,
             "#0d0887"
            ],
            [
             0.1111111111111111,
             "#46039f"
            ],
            [
             0.2222222222222222,
             "#7201a8"
            ],
            [
             0.3333333333333333,
             "#9c179e"
            ],
            [
             0.4444444444444444,
             "#bd3786"
            ],
            [
             0.5555555555555556,
             "#d8576b"
            ],
            [
             0.6666666666666666,
             "#ed7953"
            ],
            [
             0.7777777777777778,
             "#fb9f3a"
            ],
            [
             0.8888888888888888,
             "#fdca26"
            ],
            [
             1.0,
             "#f0f921"
            ]
           ]
          },
          "colorway": [
           "#636efa",
           "#EF553B",
           "#00cc96",
           "#ab63fa",
           "#FFA15A",
           "#19d3f3",
           "#FF6692",
           "#B6E880",
           "#FF97FF",
           "#FECB52"
          ],
          "font": {
           "color": "#2a3f5f"
          },
          "geo": {
           "bgcolor": "white",
           "lakecolor": "white",
           "landcolor": "#E5ECF6",
           "showlakes": true,
           "showland": true,
           "subunitcolor": "white"
          },
          "hoverlabel": {
           "align": "left"
          },
          "hovermode": "closest",
          "mapbox": {
           "style": "light"
          },
          "paper_bgcolor": "white",
          "plot_bgcolor": "#E5ECF6",
          "polar": {
           "angularaxis": {
            "gridcolor": "white",
            "linecolor": "white",
            "ticks": ""
           },
           "bgcolor": "#E5ECF6",
           "radialaxis": {
            "gridcolor": "white",
            "linecolor": "white",
            "ticks": ""
           }
          },
          "scene": {
           "xaxis": {
            "backgroundcolor": "#E5ECF6",
            "gridcolor": "white",
            "gridwidth": 2,
            "linecolor": "white",
            "showbackground": true,
            "ticks": "",
            "zerolinecolor": "white"
           },
           "yaxis": {
            "backgroundcolor": "#E5ECF6",
            "gridcolor": "white",
            "gridwidth": 2,
            "linecolor": "white",
            "showbackground": true,
            "ticks": "",
            "zerolinecolor": "white"
           },
           "zaxis": {
            "backgroundcolor": "#E5ECF6",
            "gridcolor": "white",
            "gridwidth": 2,
            "linecolor": "white",
            "showbackground": true,
            "ticks": "",
            "zerolinecolor": "white"
           }
          },
          "shapedefaults": {
           "line": {
            "color": "#2a3f5f"
           }
          },
          "ternary": {
           "aaxis": {
            "gridcolor": "white",
            "linecolor": "white",
            "ticks": ""
           },
           "baxis": {
            "gridcolor": "white",
            "linecolor": "white",
            "ticks": ""
           },
           "bgcolor": "#E5ECF6",
           "caxis": {
            "gridcolor": "white",
            "linecolor": "white",
            "ticks": ""
           }
          },
          "title": {
           "x": 0.05
          },
          "xaxis": {
           "automargin": true,
           "gridcolor": "white",
           "linecolor": "white",
           "ticks": "",
           "title": {
            "standoff": 15
           },
           "zerolinecolor": "white",
           "zerolinewidth": 2
          },
          "yaxis": {
           "automargin": true,
           "gridcolor": "white",
           "linecolor": "white",
           "ticks": "",
           "title": {
            "standoff": 15
           },
           "zerolinecolor": "white",
           "zerolinewidth": 2
          }
         }
        },
        "xaxis": {
         "anchor": "y",
         "domain": [
          0.0,
          0.2375
         ],
         "showticklabels": false
        },
        "yaxis": {
         "anchor": "x",
         "domain": [
          0.7575000000000001,
          1.0
         ],
         "tickvals": [
          1,
          2,
          3,
          4,
          5,
          6,
          7,
          8
         ],
         "autorange": "reversed"
        },
        "xaxis2": {
         "anchor": "y2",
         "domain": [
          0.2475,
          0.485
         ],
         "showticklabels": false
        },
        "yaxis2": {
         "anchor": "x2",
         "domain": [
          0.7575000000000001,
          1.0
         ],
         "matches": "y",
         "showticklabels": false,
         "tickvals": [
          1,
          2,
          3,
          4,
          5,
          6,
          7,
          8
         ],
         "autorange": "reversed"
        },
        "xaxis3": {
         "anchor": "y3",
         "domain": [
          0.495,
          0.7324999999999999
         ],
         "showticklabels": false
        },
        "yaxis3": {
         "anchor": "x3",
         "domain": [
          0.7575000000000001,
          1.0
         ],
         "matches": "y",
         "showticklabels": false,
         "tickvals": [
          1,
          2,
          3,
          4,
          5,
          6,
          7,
          8
         ],
         "autorange": "reversed"
        },
        "xaxis4": {
         "anchor": "y4",
         "domain": [
          0.7424999999999999,
          0.98
         ],
         "showticklabels": false
        },
        "yaxis4": {
         "anchor": "x4",
         "domain": [
          0.7575000000000001,
          1.0
         ],
         "matches": "y",
         "showticklabels": false,
         "tickvals": [
          1,
          2,
          3,
          4,
          5,
          6,
          7,
          8
         ],
         "autorange": "reversed"
        },
        "xaxis5": {
         "anchor": "y5",
         "domain": [
          0.0,
          0.2375
         ],
         "showticklabels": false
        },
        "yaxis5": {
         "anchor": "x5",
         "domain": [
          0.505,
          0.7475
         ],
         "tickvals": [
          1,
          2,
          3,
          4,
          5,
          6,
          7,
          8
         ],
         "autorange": "reversed"
        },
        "xaxis6": {
         "anchor": "y6",
         "domain": [
          0.2475,
          0.485
         ],
         "showticklabels": false
        },
        "yaxis6": {
         "anchor": "x6",
         "domain": [
          0.505,
          0.7475
         ],
         "matches": "y5",
         "showticklabels": false,
         "tickvals": [
          1,
          2,
          3,
          4,
          5,
          6,
          7,
          8
         ],
         "autorange": "reversed"
        },
        "xaxis7": {
         "anchor": "y7",
         "domain": [
          0.495,
          0.7324999999999999
         ],
         "showticklabels": false
        },
        "yaxis7": {
         "anchor": "x7",
         "domain": [
          0.505,
          0.7475
         ],
         "matches": "y5",
         "showticklabels": false,
         "tickvals": [
          1,
          2,
          3,
          4,
          5,
          6,
          7,
          8
         ],
         "autorange": "reversed"
        },
        "xaxis8": {
         "anchor": "y8",
         "domain": [
          0.7424999999999999,
          0.98
         ],
         "showticklabels": false
        },
        "yaxis8": {
         "anchor": "x8",
         "domain": [
          0.505,
          0.7475
         ],
         "matches": "y5",
         "showticklabels": false,
         "tickvals": [
          1,
          2,
          3,
          4,
          5,
          6,
          7,
          8
         ],
         "autorange": "reversed"
        },
        "xaxis9": {
         "anchor": "y9",
         "domain": [
          0.0,
          0.2375
         ],
         "showticklabels": false
        },
        "yaxis9": {
         "anchor": "x9",
         "domain": [
          0.2525,
          0.495
         ],
         "tickvals": [
          1,
          2,
          3,
          4,
          5,
          6,
          7,
          8
         ],
         "autorange": "reversed"
        },
        "xaxis10": {
         "anchor": "y10",
         "domain": [
          0.2475,
          0.485
         ],
         "showticklabels": false
        },
        "yaxis10": {
         "anchor": "x10",
         "domain": [
          0.2525,
          0.495
         ],
         "matches": "y9",
         "showticklabels": false,
         "tickvals": [
          1,
          2,
          3,
          4,
          5,
          6,
          7,
          8
         ],
         "autorange": "reversed"
        },
        "xaxis11": {
         "anchor": "y11",
         "domain": [
          0.495,
          0.7324999999999999
         ],
         "showticklabels": false
        },
        "yaxis11": {
         "anchor": "x11",
         "domain": [
          0.2525,
          0.495
         ],
         "matches": "y9",
         "showticklabels": false,
         "tickvals": [
          1,
          2,
          3,
          4,
          5,
          6,
          7,
          8
         ],
         "autorange": "reversed"
        },
        "xaxis12": {
         "anchor": "y12",
         "domain": [
          0.7424999999999999,
          0.98
         ],
         "showticklabels": false
        },
        "yaxis12": {
         "anchor": "x12",
         "domain": [
          0.2525,
          0.495
         ],
         "matches": "y9",
         "showticklabels": false,
         "tickvals": [
          1,
          2,
          3,
          4,
          5,
          6,
          7,
          8
         ],
         "autorange": "reversed"
        },
        "xaxis13": {
         "anchor": "y13",
         "domain": [
          0.0,
          0.2375
         ],
         "showticklabels": false
        },
        "yaxis13": {
         "anchor": "x13",
         "domain": [
          0.0,
          0.2425
         ],
         "tickvals": [
          1,
          2,
          3,
          4,
          5,
          6,
          7,
          8
         ],
         "autorange": "reversed"
        },
        "xaxis14": {
         "anchor": "y14",
         "domain": [
          0.2475,
          0.485
         ],
         "showticklabels": false
        },
        "yaxis14": {
         "anchor": "x14",
         "domain": [
          0.0,
          0.2425
         ],
         "matches": "y13",
         "showticklabels": false,
         "tickvals": [
          1,
          2,
          3,
          4,
          5,
          6,
          7,
          8
         ],
         "autorange": "reversed"
        },
        "xaxis15": {
         "anchor": "y15",
         "domain": [
          0.495,
          0.7324999999999999
         ],
         "showticklabels": false
        },
        "yaxis15": {
         "anchor": "x15",
         "domain": [
          0.0,
          0.2425
         ],
         "matches": "y13",
         "showticklabels": false,
         "tickvals": [
          1,
          2,
          3,
          4,
          5,
          6,
          7,
          8
         ],
         "autorange": "reversed"
        },
        "xaxis16": {
         "anchor": "y16",
         "domain": [
          0.7424999999999999,
          0.98
         ],
         "showticklabels": false
        },
        "yaxis16": {
         "anchor": "x16",
         "domain": [
          0.0,
          0.2425
         ],
         "matches": "y13",
         "showticklabels": false,
         "tickvals": [
          1,
          2,
          3,
          4,
          5,
          6,
          7,
          8
         ],
         "autorange": "reversed"
        },
        "annotations": [
         {
          "font": {
           "size": 20
          },
          "showarrow": false,
          "text": "Regret",
          "x": 0.11875,
          "xanchor": "center",
          "xref": "paper",
          "y": 1.0,
          "yanchor": "bottom",
          "yref": "paper"
         },
         {
          "font": {
           "size": 20
          },
          "showarrow": false,
          "text": "Percentile",
          "x": 0.36624999999999996,
          "xanchor": "center",
          "xref": "paper",
          "y": 1.0,
          "yanchor": "bottom",
          "yref": "paper"
         },
         {
          "font": {
           "size": 20
          },
          "showarrow": false,
          "text": "Improvement",
          "x": 0.61375,
          "xanchor": "center",
          "xref": "paper",
          "y": 1.0,
          "yanchor": "bottom",
          "yref": "paper"
         },
         {
          "font": {
           "size": 20
          },
          "showarrow": false,
          "text": "Weightedtau",
          "x": 0.86125,
          "xanchor": "center",
          "xref": "paper",
          "y": 1.0,
          "yanchor": "bottom",
          "yref": "paper"
         },
         {
          "font": {
           "size": 20
          },
          "showarrow": false,
          "text": "Model<br>Architecture",
          "textangle": 90,
          "x": 0.98,
          "xanchor": "left",
          "xref": "paper",
          "y": 0.87875,
          "yanchor": "middle",
          "yref": "paper"
         },
         {
          "font": {
           "size": 20
          },
          "showarrow": false,
          "text": "Pretraining<br>Data",
          "textangle": 90,
          "x": 0.98,
          "xanchor": "left",
          "xref": "paper",
          "y": 0.62625,
          "yanchor": "middle",
          "yref": "paper"
         },
         {
          "font": {
           "size": 20
          },
          "showarrow": false,
          "text": "Augmentation<br>Policy",
          "textangle": 90,
          "x": 0.98,
          "xanchor": "left",
          "xref": "paper",
          "y": 0.37375,
          "yanchor": "middle",
          "yref": "paper"
         },
         {
          "font": {
           "size": 20
          },
          "showarrow": false,
          "text": "Co-Training<br>Data",
          "textangle": 90,
          "x": 0.98,
          "xanchor": "left",
          "xref": "paper",
          "y": 0.12125,
          "yanchor": "middle",
          "yref": "paper"
         },
         {
          "font": {
           "size": 20
          },
          "showarrow": false,
          "text": "Rank",
          "textangle": -90,
          "x": 0,
          "xanchor": "right",
          "xref": "paper",
          "xshift": -40,
          "y": 0.5,
          "yanchor": "middle",
          "yref": "paper"
         }
        ],
        "font": {
         "size": 20
        },
        "height": 1000,
        "width": 1200,
        "legend": {
         "title": {
          "text": "Task selector"
         },
         "x": 1.08
        }
       },
       "config": {
        "plotlyServerURL": "https://plot.ly"
       }
      },
      "text/html": [
       "<div>                            <div id=\"8bf402bb-5c32-490d-ad26-8b9d4b5f5a63\" class=\"plotly-graph-div\" style=\"height:1000px; width:1200px;\"></div>            <script type=\"text/javascript\">                require([\"plotly\"], function(Plotly) {                    window.PLOTLYENV=window.PLOTLYENV || {};                                    if (document.getElementById(\"8bf402bb-5c32-490d-ad26-8b9d4b5f5a63\")) {                    Plotly.newPlot(                        \"8bf402bb-5c32-490d-ad26-8b9d4b5f5a63\",                        [{\"hovertemplate\":\"Algorithm=%{x}\\u003cbr\\u003eRank=%{y}\\u003cbr\\u003ecount=%{marker.size}\\u003cextra\\u003e\\u003c\\u002fextra\\u003e\",\"legendgroup\":\"bKLD(small,target)\",\"marker\":{\"color\":\"rgb(60, 180, 75)\",\"size\":[457,154,102,54,11,1,221],\"sizemode\":\"area\",\"sizeref\":2.06,\"symbol\":\"circle\"},\"mode\":\"markers\",\"name\":\"bKLD(small,target)\",\"orientation\":\"v\",\"showlegend\":true,\"x\":[\"bKLD(small,target)\",\"bKLD(small,target)\",\"bKLD(small,target)\",\"bKLD(small,target)\",\"bKLD(small,target)\",\"bKLD(small,target)\",\"bKLD(small,target)\"],\"xaxis\":\"x\",\"y\":[8.0,6.0,5.0,4.0,3.0,2.0,7.0],\"yaxis\":\"y\",\"type\":\"scatter\",\"legendrank\":1005},{\"hovertemplate\":\"Algorithm=%{x}\\u003cbr\\u003eRank=%{y}\\u003cbr\\u003ecount=%{marker.size}\\u003cextra\\u003e\\u003c\\u002fextra\\u003e\",\"legendgroup\":\"bKLD(large,unweighted)\",\"marker\":{\"color\":\"rgb(60, 180, 75)\",\"size\":[2,78,130,181,185,317,107],\"sizemode\":\"area\",\"sizeref\":2.06,\"symbol\":\"hexagram\"},\"mode\":\"markers\",\"name\":\"bKLD(large,unweighted)\",\"orientation\":\"v\",\"showlegend\":true,\"x\":[\"bKLD(large,unweighted)\",\"bKLD(large,unweighted)\",\"bKLD(large,unweighted)\",\"bKLD(large,unweighted)\",\"bKLD(large,unweighted)\",\"bKLD(large,unweighted)\",\"bKLD(large,unweighted)\"],\"xaxis\":\"x\",\"y\":[2.0,3.0,4.0,5.0,6.0,7.0,8.0],\"yaxis\":\"y\",\"type\":\"scatter\",\"legendrank\":1007},{\"hovertemplate\":\"Algorithm=%{x}\\u003cbr\\u003eRank=%{y}\\u003cbr\\u003ecount=%{marker.size}\\u003cextra\\u003e\\u003c\\u002fextra\\u003e\",\"legendgroup\":\"P2L (w\\u002fo samples)\",\"marker\":{\"color\":\"rgb(70, 240, 240)\",\"size\":[169,172,238,181,49,3,188],\"sizemode\":\"area\",\"sizeref\":2.06,\"symbol\":\"circle\"},\"mode\":\"markers\",\"name\":\"P2L (w\\u002fo samples)\",\"orientation\":\"v\",\"showlegend\":true,\"x\":[\"P2L (w\\u002fo samples)\",\"P2L (w\\u002fo samples)\",\"P2L (w\\u002fo samples)\",\"P2L (w\\u002fo samples)\",\"P2L (w\\u002fo samples)\",\"P2L (w\\u002fo samples)\",\"P2L (w\\u002fo samples)\"],\"xaxis\":\"x\",\"y\":[8.0,7.0,5.0,4.0,3.0,2.0,6.0],\"yaxis\":\"y\",\"type\":\"scatter\",\"legendrank\":1004},{\"hovertemplate\":\"Algorithm=%{x}\\u003cbr\\u003eRank=%{y}\\u003cbr\\u003ecount=%{marker.size}\\u003cextra\\u003e\\u003c\\u002fextra\\u003e\",\"legendgroup\":\"VDNA\",\"marker\":{\"color\":\"rgb(67, 99, 216)\",\"size\":[165,180,156,201,189,11,98],\"sizemode\":\"area\",\"sizeref\":2.06,\"symbol\":\"circle\"},\"mode\":\"markers\",\"name\":\"VDNA\",\"orientation\":\"v\",\"showlegend\":true,\"x\":[\"VDNA\",\"VDNA\",\"VDNA\",\"VDNA\",\"VDNA\",\"VDNA\",\"VDNA\"],\"xaxis\":\"x\",\"y\":[4.0,8.0,7.0,6.0,5.0,2.0,3.0],\"yaxis\":\"y\",\"type\":\"scatter\",\"legendrank\":1001},{\"hovertemplate\":\"Algorithm=%{x}\\u003cbr\\u003eRank=%{y}\\u003cbr\\u003ecount=%{marker.size}\\u003cextra\\u003e\\u003c\\u002fextra\\u003e\",\"legendgroup\":\"FID\",\"marker\":{\"color\":\"rgb(145, 30, 180)\",\"size\":[128,13,1,201,257,108,76,216],\"sizemode\":\"area\",\"sizeref\":2.06,\"symbol\":\"circle\"},\"mode\":\"markers\",\"name\":\"FID\",\"orientation\":\"v\",\"showlegend\":true,\"x\":[\"FID\",\"FID\",\"FID\",\"FID\",\"FID\",\"FID\",\"FID\",\"FID\"],\"xaxis\":\"x\",\"y\":[3.0,2.0,1.0,5.0,4.0,7.0,8.0,6.0],\"yaxis\":\"y\",\"type\":\"scatter\",\"legendrank\":1003},{\"hovertemplate\":\"Algorithm=%{x}\\u003cbr\\u003eRank=%{y}\\u003cbr\\u003ecount=%{marker.size}\\u003cextra\\u003e\\u003c\\u002fextra\\u003e\",\"legendgroup\":\"FED\",\"marker\":{\"color\":\"rgb(245, 130, 49)\",\"size\":[50,81,24,11,194,553,82,5],\"sizemode\":\"area\",\"sizeref\":2.06,\"symbol\":\"circle\"},\"mode\":\"markers\",\"name\":\"FED\",\"orientation\":\"v\",\"showlegend\":true,\"x\":[\"FED\",\"FED\",\"FED\",\"FED\",\"FED\",\"FED\",\"FED\",\"FED\"],\"xaxis\":\"x\",\"y\":[6.0,5.0,7.0,8.0,4.0,3.0,2.0,1.0],\"yaxis\":\"y\",\"type\":\"scatter\",\"legendrank\":1002},{\"hovertemplate\":\"Algorithm=%{x}\\u003cbr\\u003eRank=%{y}\\u003cbr\\u003ecount=%{marker.size}\\u003cextra\\u003e\\u003c\\u002fextra\\u003e\",\"legendgroup\":\"Manual\",\"marker\":{\"color\":\"rgb(230, 25, 75)\",\"size\":[5,6,170,720,78,19,2],\"sizemode\":\"area\",\"sizeref\":2.06,\"symbol\":\"circle\"},\"mode\":\"markers\",\"name\":\"Manual\",\"orientation\":\"v\",\"showlegend\":true,\"x\":[\"Manual\",\"Manual\",\"Manual\",\"Manual\",\"Manual\",\"Manual\",\"Manual\"],\"xaxis\":\"x\",\"y\":[6.0,5.0,1.0,2.0,3.0,4.0,7.0],\"yaxis\":\"y\",\"type\":\"scatter\",\"legendrank\":1000},{\"hovertemplate\":\"Algorithm=%{x}\\u003cbr\\u003eRank=%{y}\\u003cbr\\u003ecount=%{marker.size}\\u003cextra\\u003e\\u003c\\u002fextra\\u003e\",\"legendgroup\":\"bKLD(large,source)\",\"marker\":{\"color\":\"rgb(60, 180, 75)\",\"size\":[2,5,824,1,168],\"sizemode\":\"area\",\"sizeref\":2.06,\"symbol\":\"hexagon\"},\"mode\":\"markers\",\"name\":\"bKLD(large,source)\",\"orientation\":\"v\",\"showlegend\":true,\"x\":[\"bKLD(large,source)\",\"bKLD(large,source)\",\"bKLD(large,source)\",\"bKLD(large,source)\",\"bKLD(large,source)\"],\"xaxis\":\"x\",\"y\":[5.0,3.0,1.0,6.0,2.0],\"yaxis\":\"y\",\"type\":\"scatter\",\"legendrank\":1006},{\"error_y\":{\"array\":[0.45663880693607284,0.7127159321917815,1.1873394628327656,1.491034540176719,1.6330091855222368,1.4956600549590138,1.4686374637738204,1.301328551903784]},\"marker\":{\"color\":\"black\",\"line\":{\"width\":2},\"size\":15,\"symbol\":\"x-thin\"},\"mode\":\"markers\",\"x\":[\"bKLD(large,source)\",\"Manual\",\"FED\",\"FID\",\"VDNA\",\"P2L (w\\u002fo samples)\",\"bKLD(large,unweighted)\",\"bKLD(small,target)\"],\"y\":[1.191,1.994,3.565,5.104,5.659,5.751,5.848,6.888],\"type\":\"scatter\",\"xaxis\":\"x\",\"yaxis\":\"y\",\"showlegend\":false},{\"hovertemplate\":\"Algorithm=%{x}\\u003cbr\\u003eRank=%{y}\\u003cbr\\u003ecount=%{marker.size}\\u003cextra\\u003e\\u003c\\u002fextra\\u003e\",\"legendgroup\":\"VDNA\",\"marker\":{\"color\":\"rgb(67, 99, 216)\",\"size\":[7,25,72,143,554,199],\"sizemode\":\"area\",\"sizeref\":2.2125,\"symbol\":\"circle\"},\"mode\":\"markers\",\"name\":\"VDNA\",\"orientation\":\"v\",\"showlegend\":false,\"x\":[\"VDNA\",\"VDNA\",\"VDNA\",\"VDNA\",\"VDNA\",\"VDNA\"],\"xaxis\":\"x2\",\"y\":[3.0,4.0,5.0,6.0,8.0,7.0],\"yaxis\":\"y2\",\"type\":\"scatter\"},{\"hovertemplate\":\"Algorithm=%{x}\\u003cbr\\u003eRank=%{y}\\u003cbr\\u003ecount=%{marker.size}\\u003cextra\\u003e\\u003c\\u002fextra\\u003e\",\"legendgroup\":\"FID\",\"marker\":{\"color\":\"rgb(145, 30, 180)\",\"size\":[183,5,56,127,164,203,262],\"sizemode\":\"area\",\"sizeref\":2.2125,\"symbol\":\"circle\"},\"mode\":\"markers\",\"name\":\"FID\",\"orientation\":\"v\",\"showlegend\":false,\"x\":[\"FID\",\"FID\",\"FID\",\"FID\",\"FID\",\"FID\",\"FID\"],\"xaxis\":\"x2\",\"y\":[5.0,2.0,3.0,4.0,8.0,6.0,7.0],\"yaxis\":\"y2\",\"type\":\"scatter\"},{\"hovertemplate\":\"Algorithm=%{x}\\u003cbr\\u003eRank=%{y}\\u003cbr\\u003ecount=%{marker.size}\\u003cextra\\u003e\\u003c\\u002fextra\\u003e\",\"legendgroup\":\"bKLD(small,target)\",\"marker\":{\"color\":\"rgb(60, 180, 75)\",\"size\":[210,156,3,49,188,221,173],\"sizemode\":\"area\",\"sizeref\":2.2125,\"symbol\":\"circle\"},\"mode\":\"markers\",\"name\":\"bKLD(small,target)\",\"orientation\":\"v\",\"showlegend\":false,\"x\":[\"bKLD(small,target)\",\"bKLD(small,target)\",\"bKLD(small,target)\",\"bKLD(small,target)\",\"bKLD(small,target)\",\"bKLD(small,target)\",\"bKLD(small,target)\"],\"xaxis\":\"x2\",\"y\":[7.0,8.0,2.0,3.0,4.0,5.0,6.0],\"yaxis\":\"y2\",\"type\":\"scatter\"},{\"hovertemplate\":\"Algorithm=%{x}\\u003cbr\\u003eRank=%{y}\\u003cbr\\u003ecount=%{marker.size}\\u003cextra\\u003e\\u003c\\u002fextra\\u003e\",\"legendgroup\":\"P2L (w\\u002fo samples)\",\"marker\":{\"color\":\"rgb(70, 240, 240)\",\"size\":[73,175,168,241,232,5,106],\"sizemode\":\"area\",\"sizeref\":2.2125,\"symbol\":\"circle\"},\"mode\":\"markers\",\"name\":\"P2L (w\\u002fo samples)\",\"orientation\":\"v\",\"showlegend\":false,\"x\":[\"P2L (w\\u002fo samples)\",\"P2L (w\\u002fo samples)\",\"P2L (w\\u002fo samples)\",\"P2L (w\\u002fo samples)\",\"P2L (w\\u002fo samples)\",\"P2L (w\\u002fo samples)\",\"P2L (w\\u002fo samples)\"],\"xaxis\":\"x2\",\"y\":[8.0,7.0,5.0,4.0,6.0,2.0,3.0],\"yaxis\":\"y2\",\"type\":\"scatter\"},{\"hovertemplate\":\"Algorithm=%{x}\\u003cbr\\u003eRank=%{y}\\u003cbr\\u003ecount=%{marker.size}\\u003cextra\\u003e\\u003c\\u002fextra\\u003e\",\"legendgroup\":\"bKLD(large,unweighted)\",\"marker\":{\"color\":\"rgb(60, 180, 75)\",\"size\":[40,106,181,206,249,208,9,1],\"sizemode\":\"area\",\"sizeref\":2.2125,\"symbol\":\"hexagram\"},\"mode\":\"markers\",\"name\":\"bKLD(large,unweighted)\",\"orientation\":\"v\",\"showlegend\":false,\"x\":[\"bKLD(large,unweighted)\",\"bKLD(large,unweighted)\",\"bKLD(large,unweighted)\",\"bKLD(large,unweighted)\",\"bKLD(large,unweighted)\",\"bKLD(large,unweighted)\",\"bKLD(large,unweighted)\",\"bKLD(large,unweighted)\"],\"xaxis\":\"x2\",\"y\":[8.0,7.0,6.0,5.0,4.0,3.0,2.0,1.0],\"yaxis\":\"y2\",\"type\":\"scatter\"},{\"hovertemplate\":\"Algorithm=%{x}\\u003cbr\\u003eRank=%{y}\\u003cbr\\u003ecount=%{marker.size}\\u003cextra\\u003e\\u003c\\u002fextra\\u003e\",\"legendgroup\":\"FED\",\"marker\":{\"color\":\"rgb(245, 130, 49)\",\"size\":[1,65,504,156,12,148,66,48],\"sizemode\":\"area\",\"sizeref\":2.2125,\"symbol\":\"circle\"},\"mode\":\"markers\",\"name\":\"FED\",\"orientation\":\"v\",\"showlegend\":false,\"x\":[\"FED\",\"FED\",\"FED\",\"FED\",\"FED\",\"FED\",\"FED\",\"FED\"],\"xaxis\":\"x2\",\"y\":[1.0,2.0,3.0,4.0,8.0,5.0,6.0,7.0],\"yaxis\":\"y2\",\"type\":\"scatter\"},{\"hovertemplate\":\"Algorithm=%{x}\\u003cbr\\u003eRank=%{y}\\u003cbr\\u003ecount=%{marker.size}\\u003cextra\\u003e\\u003c\\u002fextra\\u003e\",\"legendgroup\":\"Manual\",\"marker\":{\"color\":\"rgb(230, 25, 75)\",\"size\":[1,2,2,60,810,113,12],\"sizemode\":\"area\",\"sizeref\":2.2125,\"symbol\":\"circle\"},\"mode\":\"markers\",\"name\":\"Manual\",\"orientation\":\"v\",\"showlegend\":false,\"x\":[\"Manual\",\"Manual\",\"Manual\",\"Manual\",\"Manual\",\"Manual\",\"Manual\"],\"xaxis\":\"x2\",\"y\":[8.0,6.0,5.0,3.0,2.0,1.0,4.0],\"yaxis\":\"y2\",\"type\":\"scatter\"},{\"hovertemplate\":\"Algorithm=%{x}\\u003cbr\\u003eRank=%{y}\\u003cbr\\u003ecount=%{marker.size}\\u003cextra\\u003e\\u003c\\u002fextra\\u003e\",\"legendgroup\":\"bKLD(large,source)\",\"marker\":{\"color\":\"rgb(60, 180, 75)\",\"size\":[2,10,103,885],\"sizemode\":\"area\",\"sizeref\":2.2125,\"symbol\":\"hexagon\"},\"mode\":\"markers\",\"name\":\"bKLD(large,source)\",\"orientation\":\"v\",\"showlegend\":false,\"x\":[\"bKLD(large,source)\",\"bKLD(large,source)\",\"bKLD(large,source)\",\"bKLD(large,source)\"],\"xaxis\":\"x2\",\"y\":[4.0,3.0,2.0,1.0],\"yaxis\":\"y2\",\"type\":\"scatter\"},{\"error_y\":{\"array\":[0.3799460488016687,0.5540027075746111,1.3348314500340481,1.4524155741384766,1.479226487053284,1.4970784882563772,1.48046445414944,1.1380263617333302]},\"marker\":{\"color\":\"black\",\"line\":{\"width\":2},\"size\":15,\"symbol\":\"x-thin\"},\"mode\":\"markers\",\"x\":[\"bKLD(large,source)\",\"Manual\",\"FED\",\"bKLD(large,unweighted)\",\"P2L (w\\u002fo samples)\",\"bKLD(small,target)\",\"FID\",\"VDNA\"],\"y\":[1.129,1.991,3.835,4.817,5.333,5.766,5.965,7.164],\"type\":\"scatter\",\"xaxis\":\"x2\",\"yaxis\":\"y2\",\"showlegend\":false},{\"hovertemplate\":\"Algorithm=%{x}\\u003cbr\\u003eRank=%{y}\\u003cbr\\u003ecount=%{marker.size}\\u003cextra\\u003e\\u003c\\u002fextra\\u003e\",\"legendgroup\":\"bKLD(large,unweighted)\",\"marker\":{\"color\":\"rgb(60, 180, 75)\",\"size\":[45,339,225,136,127,113,15],\"sizemode\":\"area\",\"sizeref\":2.4475,\"symbol\":\"hexagram\"},\"mode\":\"markers\",\"name\":\"bKLD(large,unweighted)\",\"orientation\":\"v\",\"showlegend\":false,\"x\":[\"bKLD(large,unweighted)\",\"bKLD(large,unweighted)\",\"bKLD(large,unweighted)\",\"bKLD(large,unweighted)\",\"bKLD(large,unweighted)\",\"bKLD(large,unweighted)\",\"bKLD(large,unweighted)\"],\"xaxis\":\"x3\",\"y\":[3.0,8.0,7.0,6.0,5.0,4.0,2.0],\"yaxis\":\"y3\",\"type\":\"scatter\"},{\"hovertemplate\":\"Algorithm=%{x}\\u003cbr\\u003eRank=%{y}\\u003cbr\\u003ecount=%{marker.size}\\u003cextra\\u003e\\u003c\\u002fextra\\u003e\",\"legendgroup\":\"VDNA\",\"marker\":{\"color\":\"rgb(67, 99, 216)\",\"size\":[6,45,78,150,270,126,325],\"sizemode\":\"area\",\"sizeref\":2.4475,\"symbol\":\"circle\"},\"mode\":\"markers\",\"name\":\"VDNA\",\"orientation\":\"v\",\"showlegend\":false,\"x\":[\"VDNA\",\"VDNA\",\"VDNA\",\"VDNA\",\"VDNA\",\"VDNA\",\"VDNA\"],\"xaxis\":\"x3\",\"y\":[2.0,3.0,4.0,5.0,6.0,7.0,8.0],\"yaxis\":\"y3\",\"type\":\"scatter\"},{\"hovertemplate\":\"Algorithm=%{x}\\u003cbr\\u003eRank=%{y}\\u003cbr\\u003ecount=%{marker.size}\\u003cextra\\u003e\\u003c\\u002fextra\\u003e\",\"legendgroup\":\"bKLD(small,target)\",\"marker\":{\"color\":\"rgb(60, 180, 75)\",\"size\":[319,70,4,49,118,139,113,188],\"sizemode\":\"area\",\"sizeref\":2.4475,\"symbol\":\"circle\"},\"mode\":\"markers\",\"name\":\"bKLD(small,target)\",\"orientation\":\"v\",\"showlegend\":false,\"x\":[\"bKLD(small,target)\",\"bKLD(small,target)\",\"bKLD(small,target)\",\"bKLD(small,target)\",\"bKLD(small,target)\",\"bKLD(small,target)\",\"bKLD(small,target)\",\"bKLD(small,target)\"],\"xaxis\":\"x3\",\"y\":[7.0,8.0,1.0,2.0,3.0,4.0,5.0,6.0],\"yaxis\":\"y3\",\"type\":\"scatter\"},{\"hovertemplate\":\"Algorithm=%{x}\\u003cbr\\u003eRank=%{y}\\u003cbr\\u003ecount=%{marker.size}\\u003cextra\\u003e\\u003c\\u002fextra\\u003e\",\"legendgroup\":\"P2L (w\\u002fo samples)\",\"marker\":{\"color\":\"rgb(70, 240, 240)\",\"size\":[94,185,186,202,106,25,202],\"sizemode\":\"area\",\"sizeref\":2.4475,\"symbol\":\"circle\"},\"mode\":\"markers\",\"name\":\"P2L (w\\u002fo samples)\",\"orientation\":\"v\",\"showlegend\":false,\"x\":[\"P2L (w\\u002fo samples)\",\"P2L (w\\u002fo samples)\",\"P2L (w\\u002fo samples)\",\"P2L (w\\u002fo samples)\",\"P2L (w\\u002fo samples)\",\"P2L (w\\u002fo samples)\",\"P2L (w\\u002fo samples)\"],\"xaxis\":\"x3\",\"y\":[8.0,7.0,5.0,4.0,6.0,2.0,3.0],\"yaxis\":\"y3\",\"type\":\"scatter\"},{\"hovertemplate\":\"Algorithm=%{x}\\u003cbr\\u003eRank=%{y}\\u003cbr\\u003ecount=%{marker.size}\\u003cextra\\u003e\\u003c\\u002fextra\\u003e\",\"legendgroup\":\"FID\",\"marker\":{\"color\":\"rgb(145, 30, 180)\",\"size\":[228,186,79,1,81,89,180,156],\"sizemode\":\"area\",\"sizeref\":2.4475,\"symbol\":\"circle\"},\"mode\":\"markers\",\"name\":\"FID\",\"orientation\":\"v\",\"showlegend\":false,\"x\":[\"FID\",\"FID\",\"FID\",\"FID\",\"FID\",\"FID\",\"FID\",\"FID\"],\"xaxis\":\"x3\",\"y\":[4.0,3.0,2.0,1.0,7.0,8.0,5.0,6.0],\"yaxis\":\"y3\",\"type\":\"scatter\"},{\"hovertemplate\":\"Algorithm=%{x}\\u003cbr\\u003eRank=%{y}\\u003cbr\\u003ecount=%{marker.size}\\u003cextra\\u003e\\u003c\\u002fextra\\u003e\",\"legendgroup\":\"Manual\",\"marker\":{\"color\":\"rgb(230, 25, 75)\",\"size\":[118,253,153,201,130,60,82,3],\"sizemode\":\"area\",\"sizeref\":2.4475,\"symbol\":\"circle\"},\"mode\":\"markers\",\"name\":\"Manual\",\"orientation\":\"v\",\"showlegend\":false,\"x\":[\"Manual\",\"Manual\",\"Manual\",\"Manual\",\"Manual\",\"Manual\",\"Manual\",\"Manual\"],\"xaxis\":\"x3\",\"y\":[2.0,3.0,4.0,5.0,6.0,7.0,8.0,1.0],\"yaxis\":\"y3\",\"type\":\"scatter\"},{\"hovertemplate\":\"Algorithm=%{x}\\u003cbr\\u003eRank=%{y}\\u003cbr\\u003ecount=%{marker.size}\\u003cextra\\u003e\\u003c\\u002fextra\\u003e\",\"legendgroup\":\"FED\",\"marker\":{\"color\":\"rgb(245, 130, 49)\",\"size\":[694,84,148,43,13,13,1,4],\"sizemode\":\"area\",\"sizeref\":2.4475,\"symbol\":\"circle\"},\"mode\":\"markers\",\"name\":\"FED\",\"orientation\":\"v\",\"showlegend\":false,\"x\":[\"FED\",\"FED\",\"FED\",\"FED\",\"FED\",\"FED\",\"FED\",\"FED\"],\"xaxis\":\"x3\",\"y\":[2.0,4.0,3.0,5.0,6.0,1.0,8.0,7.0],\"yaxis\":\"y3\",\"type\":\"scatter\"},{\"hovertemplate\":\"Algorithm=%{x}\\u003cbr\\u003eRank=%{y}\\u003cbr\\u003ecount=%{marker.size}\\u003cextra\\u003e\\u003c\\u002fextra\\u003e\",\"legendgroup\":\"bKLD(large,source)\",\"marker\":{\"color\":\"rgb(60, 180, 75)\",\"size\":[3,3,14,979,1],\"sizemode\":\"area\",\"sizeref\":2.4475,\"symbol\":\"hexagon\"},\"mode\":\"markers\",\"name\":\"bKLD(large,source)\",\"orientation\":\"v\",\"showlegend\":false,\"x\":[\"bKLD(large,source)\",\"bKLD(large,source)\",\"bKLD(large,source)\",\"bKLD(large,source)\",\"bKLD(large,source)\"],\"xaxis\":\"x3\",\"y\":[4.0,3.0,2.0,1.0,6.0],\"yaxis\":\"y3\",\"type\":\"scatter\"},{\"error_y\":{\"array\":[0.2772075035059477,0.9838190890605854,1.7615785534570974,1.707180131093377,1.7091140980051627,1.7210450313690226,1.5140274105841018,1.6367574652342356]},\"marker\":{\"color\":\"black\",\"line\":{\"width\":2},\"size\":15,\"symbol\":\"x-thin\"},\"mode\":\"markers\",\"x\":[\"bKLD(large,source)\",\"FED\",\"Manual\",\"FID\",\"P2L (w\\u002fo samples)\",\"bKLD(small,target)\",\"VDNA\",\"bKLD(large,unweighted)\"],\"y\":[1.034,2.51,4.471,4.744,5.077,5.498,6.311,6.355],\"type\":\"scatter\",\"xaxis\":\"x3\",\"yaxis\":\"y3\",\"showlegend\":false},{\"hovertemplate\":\"Algorithm=%{x}\\u003cbr\\u003eRank=%{y}\\u003cbr\\u003ecount=%{marker.size}\\u003cextra\\u003e\\u003c\\u002fextra\\u003e\",\"legendgroup\":\"FED\",\"marker\":{\"color\":\"rgb(245, 130, 49)\",\"size\":[4,106,890],\"sizemode\":\"area\",\"sizeref\":2.225,\"symbol\":\"circle\"},\"mode\":\"markers\",\"name\":\"FED\",\"orientation\":\"v\",\"showlegend\":false,\"x\":[\"FED\",\"FED\",\"FED\"],\"xaxis\":\"x4\",\"y\":[6.0,7.0,8.0],\"yaxis\":\"y4\",\"type\":\"scatter\"},{\"hovertemplate\":\"Algorithm=%{x}\\u003cbr\\u003eRank=%{y}\\u003cbr\\u003ecount=%{marker.size}\\u003cextra\\u003e\\u003c\\u002fextra\\u003e\",\"legendgroup\":\"P2L (w\\u002fo samples)\",\"marker\":{\"color\":\"rgb(70, 240, 240)\",\"size\":[834,62,104],\"sizemode\":\"area\",\"sizeref\":2.225,\"symbol\":\"circle\"},\"mode\":\"markers\",\"name\":\"P2L (w\\u002fo samples)\",\"orientation\":\"v\",\"showlegend\":false,\"x\":[\"P2L (w\\u002fo samples)\",\"P2L (w\\u002fo samples)\",\"P2L (w\\u002fo samples)\"],\"xaxis\":\"x4\",\"y\":[7.0,6.0,8.0],\"yaxis\":\"y4\",\"type\":\"scatter\"},{\"hovertemplate\":\"Algorithm=%{x}\\u003cbr\\u003eRank=%{y}\\u003cbr\\u003ecount=%{marker.size}\\u003cextra\\u003e\\u003c\\u002fextra\\u003e\",\"legendgroup\":\"FID\",\"marker\":{\"color\":\"rgb(145, 30, 180)\",\"size\":[26,1,652,36,285],\"sizemode\":\"area\",\"sizeref\":2.225,\"symbol\":\"circle\"},\"mode\":\"markers\",\"name\":\"FID\",\"orientation\":\"v\",\"showlegend\":false,\"x\":[\"FID\",\"FID\",\"FID\",\"FID\",\"FID\"],\"xaxis\":\"x4\",\"y\":[7.0,8.0,6.0,4.0,5.0],\"yaxis\":\"y4\",\"type\":\"scatter\"},{\"hovertemplate\":\"Algorithm=%{x}\\u003cbr\\u003eRank=%{y}\\u003cbr\\u003ecount=%{marker.size}\\u003cextra\\u003e\\u003c\\u002fextra\\u003e\",\"legendgroup\":\"VDNA\",\"marker\":{\"color\":\"rgb(67, 99, 216)\",\"size\":[2,94,398,1,505],\"sizemode\":\"area\",\"sizeref\":2.225,\"symbol\":\"circle\"},\"mode\":\"markers\",\"name\":\"VDNA\",\"orientation\":\"v\",\"showlegend\":false,\"x\":[\"VDNA\",\"VDNA\",\"VDNA\",\"VDNA\",\"VDNA\"],\"xaxis\":\"x4\",\"y\":[7.0,6.0,4.0,2.0,5.0],\"yaxis\":\"y4\",\"type\":\"scatter\"},{\"hovertemplate\":\"Algorithm=%{x}\\u003cbr\\u003eRank=%{y}\\u003cbr\\u003ecount=%{marker.size}\\u003cextra\\u003e\\u003c\\u002fextra\\u003e\",\"legendgroup\":\"Manual\",\"marker\":{\"color\":\"rgb(230, 25, 75)\",\"size\":[32,188,210,562,1,2,5],\"sizemode\":\"area\",\"sizeref\":2.225,\"symbol\":\"circle\"},\"mode\":\"markers\",\"name\":\"Manual\",\"orientation\":\"v\",\"showlegend\":false,\"x\":[\"Manual\",\"Manual\",\"Manual\",\"Manual\",\"Manual\",\"Manual\",\"Manual\"],\"xaxis\":\"x4\",\"y\":[7.0,6.0,5.0,4.0,3.0,2.0,8.0],\"yaxis\":\"y4\",\"type\":\"scatter\"},{\"hovertemplate\":\"Algorithm=%{x}\\u003cbr\\u003eRank=%{y}\\u003cbr\\u003ecount=%{marker.size}\\u003cextra\\u003e\\u003c\\u002fextra\\u003e\",\"legendgroup\":\"bKLD(small,target)\",\"marker\":{\"color\":\"rgb(60, 180, 75)\",\"size\":[354,51,1,594],\"sizemode\":\"area\",\"sizeref\":2.225,\"symbol\":\"circle\"},\"mode\":\"markers\",\"name\":\"bKLD(small,target)\",\"orientation\":\"v\",\"showlegend\":false,\"x\":[\"bKLD(small,target)\",\"bKLD(small,target)\",\"bKLD(small,target)\",\"bKLD(small,target)\"],\"xaxis\":\"x4\",\"y\":[2.0,1.0,4.0,3.0],\"yaxis\":\"y4\",\"type\":\"scatter\"},{\"hovertemplate\":\"Algorithm=%{x}\\u003cbr\\u003eRank=%{y}\\u003cbr\\u003ecount=%{marker.size}\\u003cextra\\u003e\\u003c\\u002fextra\\u003e\",\"legendgroup\":\"bKLD(large,unweighted)\",\"marker\":{\"color\":\"rgb(60, 180, 75)\",\"size\":[74,625,299,2],\"sizemode\":\"area\",\"sizeref\":2.225,\"symbol\":\"hexagram\"},\"mode\":\"markers\",\"name\":\"bKLD(large,unweighted)\",\"orientation\":\"v\",\"showlegend\":false,\"x\":[\"bKLD(large,unweighted)\",\"bKLD(large,unweighted)\",\"bKLD(large,unweighted)\",\"bKLD(large,unweighted)\"],\"xaxis\":\"x4\",\"y\":[1.0,2.0,3.0,4.0],\"yaxis\":\"y4\",\"type\":\"scatter\"},{\"hovertemplate\":\"Algorithm=%{x}\\u003cbr\\u003eRank=%{y}\\u003cbr\\u003ecount=%{marker.size}\\u003cextra\\u003e\\u003c\\u002fextra\\u003e\",\"legendgroup\":\"bKLD(large,source)\",\"marker\":{\"color\":\"rgb(60, 180, 75)\",\"size\":[1,875,18,106],\"sizemode\":\"area\",\"sizeref\":2.225,\"symbol\":\"hexagon\"},\"mode\":\"markers\",\"name\":\"bKLD(large,source)\",\"orientation\":\"v\",\"showlegend\":false,\"x\":[\"bKLD(large,source)\",\"bKLD(large,source)\",\"bKLD(large,source)\",\"bKLD(large,source)\"],\"xaxis\":\"x4\",\"y\":[4.0,1.0,2.0,3.0],\"yaxis\":\"y4\",\"type\":\"scatter\"},{\"error_y\":{\"array\":[0.6298499821386042,0.5732006629444876,0.5932748098478479,0.9236833873140731,0.645903243528007,0.5922491029963658,0.4052604101068842,0.33015753815413634]},\"marker\":{\"color\":\"black\",\"line\":{\"width\":2},\"size\":15,\"symbol\":\"x-thin\"},\"mode\":\"markers\",\"x\":[\"bKLD(large,source)\",\"bKLD(large,unweighted)\",\"bKLD(small,target)\",\"Manual\",\"VDNA\",\"FID\",\"P2L (w\\u002fo samples)\",\"FED\"],\"y\":[1.233,2.229,2.545,4.697,4.697,5.671,7.042,7.886],\"type\":\"scatter\",\"xaxis\":\"x4\",\"yaxis\":\"y4\",\"showlegend\":false},{\"hovertemplate\":\"Algorithm=%{x}\\u003cbr\\u003eRank=%{y}\\u003cbr\\u003ecount=%{marker.size}\\u003cextra\\u003e\\u003c\\u002fextra\\u003e\",\"legendgroup\":\"bKLD(large,source)\",\"marker\":{\"color\":\"rgb(60, 180, 75)\",\"size\":[991,9],\"sizemode\":\"area\",\"sizeref\":2.4775,\"symbol\":\"hexagon\"},\"mode\":\"markers\",\"name\":\"bKLD(large,source)\",\"orientation\":\"v\",\"showlegend\":false,\"x\":[\"bKLD(large,source)\",\"bKLD(large,source)\"],\"xaxis\":\"x5\",\"y\":[8.0,7.0],\"yaxis\":\"y5\",\"type\":\"scatter\"},{\"hovertemplate\":\"Algorithm=%{x}\\u003cbr\\u003eRank=%{y}\\u003cbr\\u003ecount=%{marker.size}\\u003cextra\\u003e\\u003c\\u002fextra\\u003e\",\"legendgroup\":\"Manual\",\"marker\":{\"color\":\"rgb(230, 25, 75)\",\"size\":[991,9],\"sizemode\":\"area\",\"sizeref\":2.4775,\"symbol\":\"circle\"},\"mode\":\"markers\",\"name\":\"Manual\",\"orientation\":\"v\",\"showlegend\":false,\"x\":[\"Manual\",\"Manual\"],\"xaxis\":\"x5\",\"y\":[7.0,8.0],\"yaxis\":\"y5\",\"type\":\"scatter\"},{\"hovertemplate\":\"Algorithm=%{x}\\u003cbr\\u003eRank=%{y}\\u003cbr\\u003ecount=%{marker.size}\\u003cextra\\u003e\\u003c\\u002fextra\\u003e\",\"legendgroup\":\"FED\",\"marker\":{\"color\":\"rgb(245, 130, 49)\",\"size\":[23,54,90,145,204,484],\"sizemode\":\"area\",\"sizeref\":2.4775,\"symbol\":\"circle\"},\"mode\":\"markers\",\"name\":\"FED\",\"orientation\":\"v\",\"showlegend\":false,\"x\":[\"FED\",\"FED\",\"FED\",\"FED\",\"FED\",\"FED\"],\"xaxis\":\"x5\",\"y\":[1.0,2.0,3.0,4.0,5.0,6.0],\"yaxis\":\"y5\",\"type\":\"scatter\"},{\"hovertemplate\":\"Algorithm=%{x}\\u003cbr\\u003eRank=%{y}\\u003cbr\\u003ecount=%{marker.size}\\u003cextra\\u003e\\u003c\\u002fextra\\u003e\",\"legendgroup\":\"P2L (w\\u002fo samples)\",\"marker\":{\"color\":\"rgb(70, 240, 240)\",\"size\":[334,224,106,35,267,34],\"sizemode\":\"area\",\"sizeref\":2.4775,\"symbol\":\"circle\"},\"mode\":\"markers\",\"name\":\"P2L (w\\u002fo samples)\",\"orientation\":\"v\",\"showlegend\":false,\"x\":[\"P2L (w\\u002fo samples)\",\"P2L (w\\u002fo samples)\",\"P2L (w\\u002fo samples)\",\"P2L (w\\u002fo samples)\",\"P2L (w\\u002fo samples)\",\"P2L (w\\u002fo samples)\"],\"xaxis\":\"x5\",\"y\":[5.0,4.0,3.0,2.0,6.0,1.0],\"yaxis\":\"y5\",\"type\":\"scatter\"},{\"hovertemplate\":\"Algorithm=%{x}\\u003cbr\\u003eRank=%{y}\\u003cbr\\u003ecount=%{marker.size}\\u003cextra\\u003e\\u003c\\u002fextra\\u003e\",\"legendgroup\":\"VDNA\",\"marker\":{\"color\":\"rgb(67, 99, 216)\",\"size\":[98,200,65,107,249,281],\"sizemode\":\"area\",\"sizeref\":2.4775,\"symbol\":\"circle\"},\"mode\":\"markers\",\"name\":\"VDNA\",\"orientation\":\"v\",\"showlegend\":false,\"x\":[\"VDNA\",\"VDNA\",\"VDNA\",\"VDNA\",\"VDNA\",\"VDNA\"],\"xaxis\":\"x5\",\"y\":[6.0,5.0,1.0,2.0,3.0,4.0],\"yaxis\":\"y5\",\"type\":\"scatter\"},{\"hovertemplate\":\"Algorithm=%{x}\\u003cbr\\u003eRank=%{y}\\u003cbr\\u003ecount=%{marker.size}\\u003cextra\\u003e\\u003c\\u002fextra\\u003e\",\"legendgroup\":\"FID\",\"marker\":{\"color\":\"rgb(145, 30, 180)\",\"size\":[96,93,132,285,221,173],\"sizemode\":\"area\",\"sizeref\":2.4775,\"symbol\":\"circle\"},\"mode\":\"markers\",\"name\":\"FID\",\"orientation\":\"v\",\"showlegend\":false,\"x\":[\"FID\",\"FID\",\"FID\",\"FID\",\"FID\",\"FID\"],\"xaxis\":\"x5\",\"y\":[6.0,1.0,2.0,3.0,4.0,5.0],\"yaxis\":\"y5\",\"type\":\"scatter\"},{\"hovertemplate\":\"Algorithm=%{x}\\u003cbr\\u003eRank=%{y}\\u003cbr\\u003ecount=%{marker.size}\\u003cextra\\u003e\\u003c\\u002fextra\\u003e\",\"legendgroup\":\"bKLD(large,unweighted)\",\"marker\":{\"color\":\"rgb(60, 180, 75)\",\"size\":[3,535,220,109,78,55],\"sizemode\":\"area\",\"sizeref\":2.4775,\"symbol\":\"hexagram\"},\"mode\":\"markers\",\"name\":\"bKLD(large,unweighted)\",\"orientation\":\"v\",\"showlegend\":false,\"x\":[\"bKLD(large,unweighted)\",\"bKLD(large,unweighted)\",\"bKLD(large,unweighted)\",\"bKLD(large,unweighted)\",\"bKLD(large,unweighted)\",\"bKLD(large,unweighted)\"],\"xaxis\":\"x5\",\"y\":[1.0,2.0,3.0,4.0,5.0,6.0],\"yaxis\":\"y5\",\"type\":\"scatter\"},{\"hovertemplate\":\"Algorithm=%{x}\\u003cbr\\u003eRank=%{y}\\u003cbr\\u003ecount=%{marker.size}\\u003cextra\\u003e\\u003c\\u002fextra\\u003e\",\"legendgroup\":\"bKLD(small,target)\",\"marker\":{\"color\":\"rgb(60, 180, 75)\",\"size\":[782,137,50,20,11],\"sizemode\":\"area\",\"sizeref\":2.4775,\"symbol\":\"circle\"},\"mode\":\"markers\",\"name\":\"bKLD(small,target)\",\"orientation\":\"v\",\"showlegend\":false,\"x\":[\"bKLD(small,target)\",\"bKLD(small,target)\",\"bKLD(small,target)\",\"bKLD(small,target)\",\"bKLD(small,target)\"],\"xaxis\":\"x5\",\"y\":[1.0,2.0,3.0,4.0,5.0],\"yaxis\":\"y5\",\"type\":\"scatter\"},{\"error_y\":{\"array\":[0.7594201735534815,1.2044413642847045,1.41160582316736,1.336172144598143,1.2672410978184063,1.3542433311631998,0.09444045743218316,0.09444045743218316]},\"marker\":{\"color\":\"black\",\"line\":{\"width\":2},\"size\":15,\"symbol\":\"x-thin\"},\"mode\":\"markers\",\"x\":[\"bKLD(small,target)\",\"bKLD(large,unweighted)\",\"FID\",\"VDNA\",\"P2L (w\\u002fo samples)\",\"FED\",\"Manual\",\"bKLD(large,source)\"],\"y\":[1.341,2.889,3.537,3.738,4.59,4.905,7.009,7.991],\"type\":\"scatter\",\"xaxis\":\"x5\",\"yaxis\":\"y5\",\"showlegend\":false},{\"hovertemplate\":\"Algorithm=%{x}\\u003cbr\\u003eRank=%{y}\\u003cbr\\u003ecount=%{marker.size}\\u003cextra\\u003e\\u003c\\u002fextra\\u003e\",\"legendgroup\":\"bKLD(large,source)\",\"marker\":{\"color\":\"rgb(60, 180, 75)\",\"size\":[1000],\"sizemode\":\"area\",\"sizeref\":2.5,\"symbol\":\"hexagon\"},\"mode\":\"markers\",\"name\":\"bKLD(large,source)\",\"orientation\":\"v\",\"showlegend\":false,\"x\":[\"bKLD(large,source)\"],\"xaxis\":\"x6\",\"y\":[8.0],\"yaxis\":\"y6\",\"type\":\"scatter\"},{\"hovertemplate\":\"Algorithm=%{x}\\u003cbr\\u003eRank=%{y}\\u003cbr\\u003ecount=%{marker.size}\\u003cextra\\u003e\\u003c\\u002fextra\\u003e\",\"legendgroup\":\"Manual\",\"marker\":{\"color\":\"rgb(230, 25, 75)\",\"size\":[966,29,4,1],\"sizemode\":\"area\",\"sizeref\":2.5,\"symbol\":\"circle\"},\"mode\":\"markers\",\"name\":\"Manual\",\"orientation\":\"v\",\"showlegend\":false,\"x\":[\"Manual\",\"Manual\",\"Manual\",\"Manual\"],\"xaxis\":\"x6\",\"y\":[7.0,6.0,5.0,4.0],\"yaxis\":\"y6\",\"type\":\"scatter\"},{\"hovertemplate\":\"Algorithm=%{x}\\u003cbr\\u003eRank=%{y}\\u003cbr\\u003ecount=%{marker.size}\\u003cextra\\u003e\\u003c\\u002fextra\\u003e\",\"legendgroup\":\"FID\",\"marker\":{\"color\":\"rgb(145, 30, 180)\",\"size\":[288,20,29,137,526],\"sizemode\":\"area\",\"sizeref\":2.5,\"symbol\":\"circle\"},\"mode\":\"markers\",\"name\":\"FID\",\"orientation\":\"v\",\"showlegend\":false,\"x\":[\"FID\",\"FID\",\"FID\",\"FID\",\"FID\"],\"xaxis\":\"x6\",\"y\":[5.0,7.0,3.0,4.0,6.0],\"yaxis\":\"y6\",\"type\":\"scatter\"},{\"hovertemplate\":\"Algorithm=%{x}\\u003cbr\\u003eRank=%{y}\\u003cbr\\u003ecount=%{marker.size}\\u003cextra\\u003e\\u003c\\u002fextra\\u003e\",\"legendgroup\":\"FED\",\"marker\":{\"color\":\"rgb(245, 130, 49)\",\"size\":[4,13,338,291,226,99,29],\"sizemode\":\"area\",\"sizeref\":2.5,\"symbol\":\"circle\"},\"mode\":\"markers\",\"name\":\"FED\",\"orientation\":\"v\",\"showlegend\":false,\"x\":[\"FED\",\"FED\",\"FED\",\"FED\",\"FED\",\"FED\",\"FED\"],\"xaxis\":\"x6\",\"y\":[1.0,7.0,6.0,5.0,4.0,3.0,2.0],\"yaxis\":\"y6\",\"type\":\"scatter\"},{\"hovertemplate\":\"Algorithm=%{x}\\u003cbr\\u003eRank=%{y}\\u003cbr\\u003ecount=%{marker.size}\\u003cextra\\u003e\\u003c\\u002fextra\\u003e\",\"legendgroup\":\"P2L (w\\u002fo samples)\",\"marker\":{\"color\":\"rgb(70, 240, 240)\",\"size\":[1,84,327,403,144,36,5],\"sizemode\":\"area\",\"sizeref\":2.5,\"symbol\":\"circle\"},\"mode\":\"markers\",\"name\":\"P2L (w\\u002fo samples)\",\"orientation\":\"v\",\"showlegend\":false,\"x\":[\"P2L (w\\u002fo samples)\",\"P2L (w\\u002fo samples)\",\"P2L (w\\u002fo samples)\",\"P2L (w\\u002fo samples)\",\"P2L (w\\u002fo samples)\",\"P2L (w\\u002fo samples)\",\"P2L (w\\u002fo samples)\"],\"xaxis\":\"x6\",\"y\":[7.0,6.0,5.0,4.0,3.0,2.0,1.0],\"yaxis\":\"y6\",\"type\":\"scatter\"},{\"hovertemplate\":\"Algorithm=%{x}\\u003cbr\\u003eRank=%{y}\\u003cbr\\u003ecount=%{marker.size}\\u003cextra\\u003e\\u003c\\u002fextra\\u003e\",\"legendgroup\":\"VDNA\",\"marker\":{\"color\":\"rgb(67, 99, 216)\",\"size\":[63,110,558,172,75,22],\"sizemode\":\"area\",\"sizeref\":2.5,\"symbol\":\"circle\"},\"mode\":\"markers\",\"name\":\"VDNA\",\"orientation\":\"v\",\"showlegend\":false,\"x\":[\"VDNA\",\"VDNA\",\"VDNA\",\"VDNA\",\"VDNA\",\"VDNA\"],\"xaxis\":\"x6\",\"y\":[1.0,2.0,3.0,4.0,5.0,6.0],\"yaxis\":\"y6\",\"type\":\"scatter\"},{\"hovertemplate\":\"Algorithm=%{x}\\u003cbr\\u003eRank=%{y}\\u003cbr\\u003ecount=%{marker.size}\\u003cextra\\u003e\\u003c\\u002fextra\\u003e\",\"legendgroup\":\"bKLD(large,unweighted)\",\"marker\":{\"color\":\"rgb(60, 180, 75)\",\"size\":[1,15,60,15,751,158],\"sizemode\":\"area\",\"sizeref\":2.5,\"symbol\":\"hexagram\"},\"mode\":\"markers\",\"name\":\"bKLD(large,unweighted)\",\"orientation\":\"v\",\"showlegend\":false,\"x\":[\"bKLD(large,unweighted)\",\"bKLD(large,unweighted)\",\"bKLD(large,unweighted)\",\"bKLD(large,unweighted)\",\"bKLD(large,unweighted)\",\"bKLD(large,unweighted)\"],\"xaxis\":\"x6\",\"y\":[6.0,5.0,4.0,1.0,2.0,3.0],\"yaxis\":\"y6\",\"type\":\"scatter\"},{\"hovertemplate\":\"Algorithm=%{x}\\u003cbr\\u003eRank=%{y}\\u003cbr\\u003ecount=%{marker.size}\\u003cextra\\u003e\\u003c\\u002fextra\\u003e\",\"legendgroup\":\"bKLD(small,target)\",\"marker\":{\"color\":\"rgb(60, 180, 75)\",\"size\":[12,913,74,1],\"sizemode\":\"area\",\"sizeref\":2.5,\"symbol\":\"circle\"},\"mode\":\"markers\",\"name\":\"bKLD(small,target)\",\"orientation\":\"v\",\"showlegend\":false,\"x\":[\"bKLD(small,target)\",\"bKLD(small,target)\",\"bKLD(small,target)\",\"bKLD(small,target)\"],\"xaxis\":\"x6\",\"y\":[3.0,1.0,2.0,4.0],\"yaxis\":\"y6\",\"type\":\"scatter\"},{\"error_y\":{\"array\":[0.347561505348334,0.6831222438187765,1.0044381514060483,0.9662872243799976,1.1447405819660628,0.8493285583329928,0.2289104628451919,0.0]},\"marker\":{\"color\":\"black\",\"line\":{\"width\":2},\"size\":15,\"symbol\":\"x-thin\"},\"mode\":\"markers\",\"x\":[\"bKLD(small,target)\",\"bKLD(large,unweighted)\",\"VDNA\",\"P2L (w\\u002fo samples)\",\"FED\",\"FID\",\"Manual\",\"bKLD(large,source)\"],\"y\":[1.101,2.312,3.152,4.267,4.837,5.371,6.96,8.0],\"type\":\"scatter\",\"xaxis\":\"x6\",\"yaxis\":\"y6\",\"showlegend\":false},{\"hovertemplate\":\"Algorithm=%{x}\\u003cbr\\u003eRank=%{y}\\u003cbr\\u003ecount=%{marker.size}\\u003cextra\\u003e\\u003c\\u002fextra\\u003e\",\"legendgroup\":\"bKLD(large,source)\",\"marker\":{\"color\":\"rgb(60, 180, 75)\",\"size\":[768,169,37,15,6,3,2],\"sizemode\":\"area\",\"sizeref\":1.92,\"symbol\":\"hexagon\"},\"mode\":\"markers\",\"name\":\"bKLD(large,source)\",\"orientation\":\"v\",\"showlegend\":false,\"x\":[\"bKLD(large,source)\",\"bKLD(large,source)\",\"bKLD(large,source)\",\"bKLD(large,source)\",\"bKLD(large,source)\",\"bKLD(large,source)\",\"bKLD(large,source)\"],\"xaxis\":\"x7\",\"y\":[8.0,7.0,6.0,5.0,4.0,3.0,2.0],\"yaxis\":\"y7\",\"type\":\"scatter\"},{\"hovertemplate\":\"Algorithm=%{x}\\u003cbr\\u003eRank=%{y}\\u003cbr\\u003ecount=%{marker.size}\\u003cextra\\u003e\\u003c\\u002fextra\\u003e\",\"legendgroup\":\"Manual\",\"marker\":{\"color\":\"rgb(230, 25, 75)\",\"size\":[685,34,52,2,4,223],\"sizemode\":\"area\",\"sizeref\":1.92,\"symbol\":\"circle\"},\"mode\":\"markers\",\"name\":\"Manual\",\"orientation\":\"v\",\"showlegend\":false,\"x\":[\"Manual\",\"Manual\",\"Manual\",\"Manual\",\"Manual\",\"Manual\"],\"xaxis\":\"x7\",\"y\":[7.0,5.0,6.0,4.0,3.0,8.0],\"yaxis\":\"y7\",\"type\":\"scatter\"},{\"hovertemplate\":\"Algorithm=%{x}\\u003cbr\\u003eRank=%{y}\\u003cbr\\u003ecount=%{marker.size}\\u003cextra\\u003e\\u003c\\u002fextra\\u003e\",\"legendgroup\":\"P2L (w\\u002fo samples)\",\"marker\":{\"color\":\"rgb(70, 240, 240)\",\"size\":[36,4,112,119,4,236,78,411],\"sizemode\":\"area\",\"sizeref\":1.92,\"symbol\":\"circle\"},\"mode\":\"markers\",\"name\":\"P2L (w\\u002fo samples)\",\"orientation\":\"v\",\"showlegend\":false,\"x\":[\"P2L (w\\u002fo samples)\",\"P2L (w\\u002fo samples)\",\"P2L (w\\u002fo samples)\",\"P2L (w\\u002fo samples)\",\"P2L (w\\u002fo samples)\",\"P2L (w\\u002fo samples)\",\"P2L (w\\u002fo samples)\",\"P2L (w\\u002fo samples)\"],\"xaxis\":\"x7\",\"y\":[2.0,8.0,3.0,5.0,1.0,4.0,7.0,6.0],\"yaxis\":\"y7\",\"type\":\"scatter\"},{\"hovertemplate\":\"Algorithm=%{x}\\u003cbr\\u003eRank=%{y}\\u003cbr\\u003ecount=%{marker.size}\\u003cextra\\u003e\\u003c\\u002fextra\\u003e\",\"legendgroup\":\"bKLD(large,unweighted)\",\"marker\":{\"color\":\"rgb(60, 180, 75)\",\"size\":[45,253,212,172,144,3,127,44],\"sizemode\":\"area\",\"sizeref\":1.92,\"symbol\":\"hexagram\"},\"mode\":\"markers\",\"name\":\"bKLD(large,unweighted)\",\"orientation\":\"v\",\"showlegend\":false,\"x\":[\"bKLD(large,unweighted)\",\"bKLD(large,unweighted)\",\"bKLD(large,unweighted)\",\"bKLD(large,unweighted)\",\"bKLD(large,unweighted)\",\"bKLD(large,unweighted)\",\"bKLD(large,unweighted)\",\"bKLD(large,unweighted)\"],\"xaxis\":\"x7\",\"y\":[7.0,6.0,5.0,4.0,3.0,8.0,2.0,1.0],\"yaxis\":\"y7\",\"type\":\"scatter\"},{\"hovertemplate\":\"Algorithm=%{x}\\u003cbr\\u003eRank=%{y}\\u003cbr\\u003ecount=%{marker.size}\\u003cextra\\u003e\\u003c\\u002fextra\\u003e\",\"legendgroup\":\"FID\",\"marker\":{\"color\":\"rgb(145, 30, 180)\",\"size\":[3,100,274,171,319,120,13],\"sizemode\":\"area\",\"sizeref\":1.92,\"symbol\":\"circle\"},\"mode\":\"markers\",\"name\":\"FID\",\"orientation\":\"v\",\"showlegend\":false,\"x\":[\"FID\",\"FID\",\"FID\",\"FID\",\"FID\",\"FID\",\"FID\"],\"xaxis\":\"x7\",\"y\":[7.0,6.0,5.0,4.0,3.0,2.0,1.0],\"yaxis\":\"y7\",\"type\":\"scatter\"},{\"hovertemplate\":\"Algorithm=%{x}\\u003cbr\\u003eRank=%{y}\\u003cbr\\u003ecount=%{marker.size}\\u003cextra\\u003e\\u003c\\u002fextra\\u003e\",\"legendgroup\":\"bKLD(small,target)\",\"marker\":{\"color\":\"rgb(60, 180, 75)\",\"size\":[13,106,162,173,177,267,100,2],\"sizemode\":\"area\",\"sizeref\":1.92,\"symbol\":\"circle\"},\"mode\":\"markers\",\"name\":\"bKLD(small,target)\",\"orientation\":\"v\",\"showlegend\":false,\"x\":[\"bKLD(small,target)\",\"bKLD(small,target)\",\"bKLD(small,target)\",\"bKLD(small,target)\",\"bKLD(small,target)\",\"bKLD(small,target)\",\"bKLD(small,target)\",\"bKLD(small,target)\"],\"xaxis\":\"x7\",\"y\":[7.0,1.0,2.0,3.0,4.0,5.0,6.0,8.0],\"yaxis\":\"y7\",\"type\":\"scatter\"},{\"hovertemplate\":\"Algorithm=%{x}\\u003cbr\\u003eRank=%{y}\\u003cbr\\u003ecount=%{marker.size}\\u003cextra\\u003e\\u003c\\u002fextra\\u003e\",\"legendgroup\":\"FED\",\"marker\":{\"color\":\"rgb(245, 130, 49)\",\"size\":[368,6,44,57,141,126,258],\"sizemode\":\"area\",\"sizeref\":1.92,\"symbol\":\"circle\"},\"mode\":\"markers\",\"name\":\"FED\",\"orientation\":\"v\",\"showlegend\":false,\"x\":[\"FED\",\"FED\",\"FED\",\"FED\",\"FED\",\"FED\",\"FED\"],\"xaxis\":\"x7\",\"y\":[1.0,7.0,6.0,5.0,4.0,3.0,2.0],\"yaxis\":\"y7\",\"type\":\"scatter\"},{\"hovertemplate\":\"Algorithm=%{x}\\u003cbr\\u003eRank=%{y}\\u003cbr\\u003ecount=%{marker.size}\\u003cextra\\u003e\\u003c\\u002fextra\\u003e\",\"legendgroup\":\"VDNA\",\"marker\":{\"color\":\"rgb(67, 99, 216)\",\"size\":[3,22,95,119,295,1,465],\"sizemode\":\"area\",\"sizeref\":1.92,\"symbol\":\"circle\"},\"mode\":\"markers\",\"name\":\"VDNA\",\"orientation\":\"v\",\"showlegend\":false,\"x\":[\"VDNA\",\"VDNA\",\"VDNA\",\"VDNA\",\"VDNA\",\"VDNA\",\"VDNA\"],\"xaxis\":\"x7\",\"y\":[6.0,5.0,4.0,3.0,2.0,7.0,1.0],\"yaxis\":\"y7\",\"type\":\"scatter\"},{\"error_y\":{\"array\":[1.1089053160662545,1.500370287629024,1.5812649999288544,1.2664023847103256,1.616408054916827,1.3531352482290895,0.6974517904486303,0.7616291748613625]},\"marker\":{\"color\":\"black\",\"line\":{\"width\":2},\"size\":15,\"symbol\":\"x-thin\"},\"mode\":\"markers\",\"x\":[\"VDNA\",\"FED\",\"bKLD(small,target)\",\"FID\",\"bKLD(large,unweighted)\",\"P2L (w\\u002fo samples)\",\"Manual\",\"bKLD(large,source)\"],\"y\":[1.927,2.417,3.699,3.885,4.335,4.995,7.081,7.661],\"type\":\"scatter\",\"xaxis\":\"x7\",\"yaxis\":\"y7\",\"showlegend\":false},{\"hovertemplate\":\"Algorithm=%{x}\\u003cbr\\u003eRank=%{y}\\u003cbr\\u003ecount=%{marker.size}\\u003cextra\\u003e\\u003c\\u002fextra\\u003e\",\"legendgroup\":\"bKLD(large,source)\",\"marker\":{\"color\":\"rgb(60, 180, 75)\",\"size\":[1000],\"sizemode\":\"area\",\"sizeref\":2.5,\"symbol\":\"hexagon\"},\"mode\":\"markers\",\"name\":\"bKLD(large,source)\",\"orientation\":\"v\",\"showlegend\":false,\"x\":[\"bKLD(large,source)\"],\"xaxis\":\"x8\",\"y\":[8.0],\"yaxis\":\"y8\",\"type\":\"scatter\"},{\"hovertemplate\":\"Algorithm=%{x}\\u003cbr\\u003eRank=%{y}\\u003cbr\\u003ecount=%{marker.size}\\u003cextra\\u003e\\u003c\\u002fextra\\u003e\",\"legendgroup\":\"P2L (w\\u002fo samples)\",\"marker\":{\"color\":\"rgb(70, 240, 240)\",\"size\":[5,460,445,90],\"sizemode\":\"area\",\"sizeref\":2.5,\"symbol\":\"circle\"},\"mode\":\"markers\",\"name\":\"P2L (w\\u002fo samples)\",\"orientation\":\"v\",\"showlegend\":false,\"x\":[\"P2L (w\\u002fo samples)\",\"P2L (w\\u002fo samples)\",\"P2L (w\\u002fo samples)\",\"P2L (w\\u002fo samples)\"],\"xaxis\":\"x8\",\"y\":[4.0,7.0,6.0,5.0],\"yaxis\":\"y8\",\"type\":\"scatter\"},{\"hovertemplate\":\"Algorithm=%{x}\\u003cbr\\u003eRank=%{y}\\u003cbr\\u003ecount=%{marker.size}\\u003cextra\\u003e\\u003c\\u002fextra\\u003e\",\"legendgroup\":\"FED\",\"marker\":{\"color\":\"rgb(245, 130, 49)\",\"size\":[13,356,147,484],\"sizemode\":\"area\",\"sizeref\":2.5,\"symbol\":\"circle\"},\"mode\":\"markers\",\"name\":\"FED\",\"orientation\":\"v\",\"showlegend\":false,\"x\":[\"FED\",\"FED\",\"FED\",\"FED\"],\"xaxis\":\"x8\",\"y\":[4.0,6.0,5.0,7.0],\"yaxis\":\"y8\",\"type\":\"scatter\"},{\"hovertemplate\":\"Algorithm=%{x}\\u003cbr\\u003eRank=%{y}\\u003cbr\\u003ecount=%{marker.size}\\u003cextra\\u003e\\u003c\\u002fextra\\u003e\",\"legendgroup\":\"FID\",\"marker\":{\"color\":\"rgb(145, 30, 180)\",\"size\":[80,1,682,188,49],\"sizemode\":\"area\",\"sizeref\":2.5,\"symbol\":\"circle\"},\"mode\":\"markers\",\"name\":\"FID\",\"orientation\":\"v\",\"showlegend\":false,\"x\":[\"FID\",\"FID\",\"FID\",\"FID\",\"FID\"],\"xaxis\":\"x8\",\"y\":[4.0,3.0,5.0,6.0,7.0],\"yaxis\":\"y8\",\"type\":\"scatter\"},{\"hovertemplate\":\"Algorithm=%{x}\\u003cbr\\u003eRank=%{y}\\u003cbr\\u003ecount=%{marker.size}\\u003cextra\\u003e\\u003c\\u002fextra\\u003e\",\"legendgroup\":\"VDNA\",\"marker\":{\"color\":\"rgb(67, 99, 216)\",\"size\":[274,1,1,15,707,1,1],\"sizemode\":\"area\",\"sizeref\":2.5,\"symbol\":\"circle\"},\"mode\":\"markers\",\"name\":\"VDNA\",\"orientation\":\"v\",\"showlegend\":false,\"x\":[\"VDNA\",\"VDNA\",\"VDNA\",\"VDNA\",\"VDNA\",\"VDNA\",\"VDNA\"],\"xaxis\":\"x8\",\"y\":[3.0,7.0,6.0,5.0,4.0,1.0,2.0],\"yaxis\":\"y8\",\"type\":\"scatter\"},{\"hovertemplate\":\"Algorithm=%{x}\\u003cbr\\u003eRank=%{y}\\u003cbr\\u003ecount=%{marker.size}\\u003cextra\\u003e\\u003c\\u002fextra\\u003e\",\"legendgroup\":\"Manual\",\"marker\":{\"color\":\"rgb(230, 25, 75)\",\"size\":[700,193,9,6,10,66,16],\"sizemode\":\"area\",\"sizeref\":2.5,\"symbol\":\"circle\"},\"mode\":\"markers\",\"name\":\"Manual\",\"orientation\":\"v\",\"showlegend\":false,\"x\":[\"Manual\",\"Manual\",\"Manual\",\"Manual\",\"Manual\",\"Manual\",\"Manual\"],\"xaxis\":\"x8\",\"y\":[3.0,4.0,2.0,7.0,6.0,5.0,1.0],\"yaxis\":\"y8\",\"type\":\"scatter\"},{\"hovertemplate\":\"Algorithm=%{x}\\u003cbr\\u003eRank=%{y}\\u003cbr\\u003ecount=%{marker.size}\\u003cextra\\u003e\\u003c\\u002fextra\\u003e\",\"legendgroup\":\"bKLD(large,unweighted)\",\"marker\":{\"color\":\"rgb(60, 180, 75)\",\"size\":[6,967,25,2],\"sizemode\":\"area\",\"sizeref\":2.5,\"symbol\":\"hexagram\"},\"mode\":\"markers\",\"name\":\"bKLD(large,unweighted)\",\"orientation\":\"v\",\"showlegend\":false,\"x\":[\"bKLD(large,unweighted)\",\"bKLD(large,unweighted)\",\"bKLD(large,unweighted)\",\"bKLD(large,unweighted)\"],\"xaxis\":\"x8\",\"y\":[1.0,2.0,3.0,4.0],\"yaxis\":\"y8\",\"type\":\"scatter\"},{\"hovertemplate\":\"Algorithm=%{x}\\u003cbr\\u003eRank=%{y}\\u003cbr\\u003ecount=%{marker.size}\\u003cextra\\u003e\\u003c\\u002fextra\\u003e\",\"legendgroup\":\"bKLD(small,target)\",\"marker\":{\"color\":\"rgb(60, 180, 75)\",\"size\":[977,23],\"sizemode\":\"area\",\"sizeref\":2.5,\"symbol\":\"circle\"},\"mode\":\"markers\",\"name\":\"bKLD(small,target)\",\"orientation\":\"v\",\"showlegend\":false,\"x\":[\"bKLD(small,target)\",\"bKLD(small,target)\"],\"xaxis\":\"x8\",\"y\":[1.0,2.0],\"yaxis\":\"y8\",\"type\":\"scatter\"},{\"error_y\":{\"array\":[0.14990330216509573,0.196140255939468,0.7757293342397203,0.4979146513208865,0.6529808572998139,0.7656885789927913,0.6636264009214823,0.0]},\"marker\":{\"color\":\"black\",\"line\":{\"width\":2},\"size\":15,\"symbol\":\"x-thin\"},\"mode\":\"markers\",\"x\":[\"bKLD(small,target)\",\"bKLD(large,unweighted)\",\"Manual\",\"VDNA\",\"FID\",\"FED\",\"P2L (w\\u002fo samples)\",\"bKLD(large,source)\"],\"y\":[1.023,2.023,3.338,3.741,5.204,6.311,6.36,8.0],\"type\":\"scatter\",\"xaxis\":\"x8\",\"yaxis\":\"y8\",\"showlegend\":false},{\"hovertemplate\":\"Algorithm=%{x}\\u003cbr\\u003eRank=%{y}\\u003cbr\\u003ecount=%{marker.size}\\u003cextra\\u003e\\u003c\\u002fextra\\u003e\",\"legendgroup\":\"Manual\",\"marker\":{\"color\":\"rgb(230, 25, 75)\",\"size\":[17,983],\"sizemode\":\"area\",\"sizeref\":2.4575,\"symbol\":\"circle\"},\"mode\":\"markers\",\"name\":\"Manual\",\"orientation\":\"v\",\"showlegend\":false,\"x\":[\"Manual\",\"Manual\"],\"xaxis\":\"x9\",\"y\":[7.0,8.0],\"yaxis\":\"y9\",\"type\":\"scatter\"},{\"hovertemplate\":\"Algorithm=%{x}\\u003cbr\\u003eRank=%{y}\\u003cbr\\u003ecount=%{marker.size}\\u003cextra\\u003e\\u003c\\u002fextra\\u003e\",\"legendgroup\":\"FED\",\"marker\":{\"color\":\"rgb(245, 130, 49)\",\"size\":[13,970,17],\"sizemode\":\"area\",\"sizeref\":2.4575,\"symbol\":\"circle\"},\"mode\":\"markers\",\"name\":\"FED\",\"orientation\":\"v\",\"showlegend\":false,\"x\":[\"FED\",\"FED\",\"FED\"],\"xaxis\":\"x9\",\"y\":[6.0,7.0,8.0],\"yaxis\":\"y9\",\"type\":\"scatter\"},{\"hovertemplate\":\"Algorithm=%{x}\\u003cbr\\u003eRank=%{y}\\u003cbr\\u003ecount=%{marker.size}\\u003cextra\\u003e\\u003c\\u002fextra\\u003e\",\"legendgroup\":\"VDNA\",\"marker\":{\"color\":\"rgb(67, 99, 216)\",\"size\":[1,444,116,29,8,1,401],\"sizemode\":\"area\",\"sizeref\":2.4575,\"symbol\":\"circle\"},\"mode\":\"markers\",\"name\":\"VDNA\",\"orientation\":\"v\",\"showlegend\":false,\"x\":[\"VDNA\",\"VDNA\",\"VDNA\",\"VDNA\",\"VDNA\",\"VDNA\",\"VDNA\"],\"xaxis\":\"x9\",\"y\":[7.0,6.0,4.0,3.0,2.0,1.0,5.0],\"yaxis\":\"y9\",\"type\":\"scatter\"},{\"hovertemplate\":\"Algorithm=%{x}\\u003cbr\\u003eRank=%{y}\\u003cbr\\u003ecount=%{marker.size}\\u003cextra\\u003e\\u003c\\u002fextra\\u003e\",\"legendgroup\":\"bKLD(large,source)\",\"marker\":{\"color\":\"rgb(60, 180, 75)\",\"size\":[275,12,367,178,88,46,34],\"sizemode\":\"area\",\"sizeref\":2.4575,\"symbol\":\"hexagon\"},\"mode\":\"markers\",\"name\":\"bKLD(large,source)\",\"orientation\":\"v\",\"showlegend\":false,\"x\":[\"bKLD(large,source)\",\"bKLD(large,source)\",\"bKLD(large,source)\",\"bKLD(large,source)\",\"bKLD(large,source)\",\"bKLD(large,source)\",\"bKLD(large,source)\"],\"xaxis\":\"x9\",\"y\":[4.0,7.0,6.0,5.0,3.0,2.0,1.0],\"yaxis\":\"y9\",\"type\":\"scatter\"},{\"hovertemplate\":\"Algorithm=%{x}\\u003cbr\\u003eRank=%{y}\\u003cbr\\u003ecount=%{marker.size}\\u003cextra\\u003e\\u003c\\u002fextra\\u003e\",\"legendgroup\":\"P2L (w\\u002fo samples)\",\"marker\":{\"color\":\"rgb(70, 240, 240)\",\"size\":[17,58,355,150,352,68],\"sizemode\":\"area\",\"sizeref\":2.4575,\"symbol\":\"circle\"},\"mode\":\"markers\",\"name\":\"P2L (w\\u002fo samples)\",\"orientation\":\"v\",\"showlegend\":false,\"x\":[\"P2L (w\\u002fo samples)\",\"P2L (w\\u002fo samples)\",\"P2L (w\\u002fo samples)\",\"P2L (w\\u002fo samples)\",\"P2L (w\\u002fo samples)\",\"P2L (w\\u002fo samples)\"],\"xaxis\":\"x9\",\"y\":[1.0,2.0,4.0,6.0,5.0,3.0],\"yaxis\":\"y9\",\"type\":\"scatter\"},{\"hovertemplate\":\"Algorithm=%{x}\\u003cbr\\u003eRank=%{y}\\u003cbr\\u003ecount=%{marker.size}\\u003cextra\\u003e\\u003c\\u002fextra\\u003e\",\"legendgroup\":\"bKLD(large,unweighted)\",\"marker\":{\"color\":\"rgb(60, 180, 75)\",\"size\":[21,60,110,315,452,42],\"sizemode\":\"area\",\"sizeref\":2.4575,\"symbol\":\"hexagram\"},\"mode\":\"markers\",\"name\":\"bKLD(large,unweighted)\",\"orientation\":\"v\",\"showlegend\":false,\"x\":[\"bKLD(large,unweighted)\",\"bKLD(large,unweighted)\",\"bKLD(large,unweighted)\",\"bKLD(large,unweighted)\",\"bKLD(large,unweighted)\",\"bKLD(large,unweighted)\"],\"xaxis\":\"x9\",\"y\":[6.0,5.0,4.0,3.0,2.0,1.0],\"yaxis\":\"y9\",\"type\":\"scatter\"},{\"hovertemplate\":\"Algorithm=%{x}\\u003cbr\\u003eRank=%{y}\\u003cbr\\u003ecount=%{marker.size}\\u003cextra\\u003e\\u003c\\u002fextra\\u003e\",\"legendgroup\":\"FID\",\"marker\":{\"color\":\"rgb(145, 30, 180)\",\"size\":[412,1,1,92,317,177],\"sizemode\":\"area\",\"sizeref\":2.4575,\"symbol\":\"circle\"},\"mode\":\"markers\",\"name\":\"FID\",\"orientation\":\"v\",\"showlegend\":false,\"x\":[\"FID\",\"FID\",\"FID\",\"FID\",\"FID\",\"FID\"],\"xaxis\":\"x9\",\"y\":[3.0,6.0,5.0,4.0,1.0,2.0],\"yaxis\":\"y9\",\"type\":\"scatter\"},{\"hovertemplate\":\"Algorithm=%{x}\\u003cbr\\u003eRank=%{y}\\u003cbr\\u003ecount=%{marker.size}\\u003cextra\\u003e\\u003c\\u002fextra\\u003e\",\"legendgroup\":\"bKLD(small,target)\",\"marker\":{\"color\":\"rgb(60, 180, 75)\",\"size\":[52,88,8,589,259,4],\"sizemode\":\"area\",\"sizeref\":2.4575,\"symbol\":\"circle\"},\"mode\":\"markers\",\"name\":\"bKLD(small,target)\",\"orientation\":\"v\",\"showlegend\":false,\"x\":[\"bKLD(small,target)\",\"bKLD(small,target)\",\"bKLD(small,target)\",\"bKLD(small,target)\",\"bKLD(small,target)\",\"bKLD(small,target)\"],\"xaxis\":\"x9\",\"y\":[4.0,3.0,5.0,1.0,2.0,6.0],\"yaxis\":\"y9\",\"type\":\"scatter\"},{\"error_y\":{\"array\":[0.9452782659090392,1.0199039170431692,1.0487854880765657,1.109554415069401,1.3742066802340904,0.8417030355178721,0.1731588865753069,0.12927103310486845]},\"marker\":{\"color\":\"black\",\"line\":{\"width\":2},\"size\":15,\"symbol\":\"x-thin\"},\"mode\":\"markers\",\"x\":[\"bKLD(small,target)\",\"FID\",\"bKLD(large,unweighted)\",\"P2L (w\\u002fo samples)\",\"bKLD(large,source)\",\"VDNA\",\"FED\",\"Manual\"],\"y\":[1.643,2.286,2.757,4.417,4.666,5.244,7.004,7.983],\"type\":\"scatter\",\"xaxis\":\"x9\",\"yaxis\":\"y9\",\"showlegend\":false},{\"hovertemplate\":\"Algorithm=%{x}\\u003cbr\\u003eRank=%{y}\\u003cbr\\u003ecount=%{marker.size}\\u003cextra\\u003e\\u003c\\u002fextra\\u003e\",\"legendgroup\":\"Manual\",\"marker\":{\"color\":\"rgb(230, 25, 75)\",\"size\":[11,906,83],\"sizemode\":\"area\",\"sizeref\":2.265,\"symbol\":\"circle\"},\"mode\":\"markers\",\"name\":\"Manual\",\"orientation\":\"v\",\"showlegend\":false,\"x\":[\"Manual\",\"Manual\",\"Manual\"],\"xaxis\":\"x10\",\"y\":[6.0,8.0,7.0],\"yaxis\":\"y10\",\"type\":\"scatter\"},{\"hovertemplate\":\"Algorithm=%{x}\\u003cbr\\u003eRank=%{y}\\u003cbr\\u003ecount=%{marker.size}\\u003cextra\\u003e\\u003c\\u002fextra\\u003e\",\"legendgroup\":\"bKLD(large,source)\",\"marker\":{\"color\":\"rgb(60, 180, 75)\",\"size\":[2,1,4,83,481,384,28,17],\"sizemode\":\"area\",\"sizeref\":2.265,\"symbol\":\"hexagon\"},\"mode\":\"markers\",\"name\":\"bKLD(large,source)\",\"orientation\":\"v\",\"showlegend\":false,\"x\":[\"bKLD(large,source)\",\"bKLD(large,source)\",\"bKLD(large,source)\",\"bKLD(large,source)\",\"bKLD(large,source)\",\"bKLD(large,source)\",\"bKLD(large,source)\",\"bKLD(large,source)\"],\"xaxis\":\"x10\",\"y\":[1.0,2.0,3.0,8.0,7.0,6.0,5.0,4.0],\"yaxis\":\"y10\",\"type\":\"scatter\"},{\"hovertemplate\":\"Algorithm=%{x}\\u003cbr\\u003eRank=%{y}\\u003cbr\\u003ecount=%{marker.size}\\u003cextra\\u003e\\u003c\\u002fextra\\u003e\",\"legendgroup\":\"FED\",\"marker\":{\"color\":\"rgb(245, 130, 49)\",\"size\":[1,11,433,547,8],\"sizemode\":\"area\",\"sizeref\":2.265,\"symbol\":\"circle\"},\"mode\":\"markers\",\"name\":\"FED\",\"orientation\":\"v\",\"showlegend\":false,\"x\":[\"FED\",\"FED\",\"FED\",\"FED\",\"FED\"],\"xaxis\":\"x10\",\"y\":[4.0,8.0,7.0,6.0,5.0],\"yaxis\":\"y10\",\"type\":\"scatter\"},{\"hovertemplate\":\"Algorithm=%{x}\\u003cbr\\u003eRank=%{y}\\u003cbr\\u003ecount=%{marker.size}\\u003cextra\\u003e\\u003c\\u002fextra\\u003e\",\"legendgroup\":\"VDNA\",\"marker\":{\"color\":\"rgb(67, 99, 216)\",\"size\":[2,28,418,408,31,99,14],\"sizemode\":\"area\",\"sizeref\":2.265,\"symbol\":\"circle\"},\"mode\":\"markers\",\"name\":\"VDNA\",\"orientation\":\"v\",\"showlegend\":false,\"x\":[\"VDNA\",\"VDNA\",\"VDNA\",\"VDNA\",\"VDNA\",\"VDNA\",\"VDNA\"],\"xaxis\":\"x10\",\"y\":[7.0,6.0,5.0,4.0,2.0,3.0,1.0],\"yaxis\":\"y10\",\"type\":\"scatter\"},{\"hovertemplate\":\"Algorithm=%{x}\\u003cbr\\u003eRank=%{y}\\u003cbr\\u003ecount=%{marker.size}\\u003cextra\\u003e\\u003c\\u002fextra\\u003e\",\"legendgroup\":\"P2L (w\\u002fo samples)\",\"marker\":{\"color\":\"rgb(70, 240, 240)\",\"size\":[1,30,445,357,106,46,15],\"sizemode\":\"area\",\"sizeref\":2.265,\"symbol\":\"circle\"},\"mode\":\"markers\",\"name\":\"P2L (w\\u002fo samples)\",\"orientation\":\"v\",\"showlegend\":false,\"x\":[\"P2L (w\\u002fo samples)\",\"P2L (w\\u002fo samples)\",\"P2L (w\\u002fo samples)\",\"P2L (w\\u002fo samples)\",\"P2L (w\\u002fo samples)\",\"P2L (w\\u002fo samples)\",\"P2L (w\\u002fo samples)\"],\"xaxis\":\"x10\",\"y\":[7.0,6.0,5.0,4.0,3.0,2.0,1.0],\"yaxis\":\"y10\",\"type\":\"scatter\"},{\"hovertemplate\":\"Algorithm=%{x}\\u003cbr\\u003eRank=%{y}\\u003cbr\\u003ecount=%{marker.size}\\u003cextra\\u003e\\u003c\\u002fextra\\u003e\",\"legendgroup\":\"bKLD(large,unweighted)\",\"marker\":{\"color\":\"rgb(60, 180, 75)\",\"size\":[91,72,271,545,21],\"sizemode\":\"area\",\"sizeref\":2.265,\"symbol\":\"hexagram\"},\"mode\":\"markers\",\"name\":\"bKLD(large,unweighted)\",\"orientation\":\"v\",\"showlegend\":false,\"x\":[\"bKLD(large,unweighted)\",\"bKLD(large,unweighted)\",\"bKLD(large,unweighted)\",\"bKLD(large,unweighted)\",\"bKLD(large,unweighted)\"],\"xaxis\":\"x10\",\"y\":[4.0,5.0,3.0,2.0,1.0],\"yaxis\":\"y10\",\"type\":\"scatter\"},{\"hovertemplate\":\"Algorithm=%{x}\\u003cbr\\u003eRank=%{y}\\u003cbr\\u003ecount=%{marker.size}\\u003cextra\\u003e\\u003c\\u002fextra\\u003e\",\"legendgroup\":\"FID\",\"marker\":{\"color\":\"rgb(145, 30, 180)\",\"size\":[174,99,470,28,229],\"sizemode\":\"area\",\"sizeref\":2.265,\"symbol\":\"circle\"},\"mode\":\"markers\",\"name\":\"FID\",\"orientation\":\"v\",\"showlegend\":false,\"x\":[\"FID\",\"FID\",\"FID\",\"FID\",\"FID\"],\"xaxis\":\"x10\",\"y\":[2.0,4.0,3.0,5.0,1.0],\"yaxis\":\"y10\",\"type\":\"scatter\"},{\"hovertemplate\":\"Algorithm=%{x}\\u003cbr\\u003eRank=%{y}\\u003cbr\\u003ecount=%{marker.size}\\u003cextra\\u003e\\u003c\\u002fextra\\u003e\",\"legendgroup\":\"bKLD(small,target)\",\"marker\":{\"color\":\"rgb(60, 180, 75)\",\"size\":[50,27,719,203,1],\"sizemode\":\"area\",\"sizeref\":2.265,\"symbol\":\"circle\"},\"mode\":\"markers\",\"name\":\"bKLD(small,target)\",\"orientation\":\"v\",\"showlegend\":false,\"x\":[\"bKLD(small,target)\",\"bKLD(small,target)\",\"bKLD(small,target)\",\"bKLD(small,target)\",\"bKLD(small,target)\"],\"xaxis\":\"x10\",\"y\":[3.0,4.0,1.0,2.0,5.0],\"yaxis\":\"y10\",\"type\":\"scatter\"},{\"error_y\":{\"array\":[0.7151615202176359,1.0360844560169793,0.9402637927730706,0.963729733898462,0.9056881361705034,0.5394209858728153,0.8357744911158751,0.34055102407715643]},\"marker\":{\"color\":\"black\",\"line\":{\"width\":2},\"size\":15,\"symbol\":\"x-thin\"},\"mode\":\"markers\",\"x\":[\"bKLD(small,target)\",\"FID\",\"bKLD(large,unweighted)\",\"P2L (w\\u002fo samples)\",\"VDNA\",\"FED\",\"bKLD(large,source)\",\"Manual\"],\"y\":[1.388,2.523,2.648,4.265,4.277,6.445,6.559,7.895],\"type\":\"scatter\",\"xaxis\":\"x10\",\"yaxis\":\"y10\",\"showlegend\":false},{\"hovertemplate\":\"Algorithm=%{x}\\u003cbr\\u003eRank=%{y}\\u003cbr\\u003ecount=%{marker.size}\\u003cextra\\u003e\\u003c\\u002fextra\\u003e\",\"legendgroup\":\"FED\",\"marker\":{\"color\":\"rgb(245, 130, 49)\",\"size\":[1,6,30,176,787],\"sizemode\":\"area\",\"sizeref\":1.9675,\"symbol\":\"circle\"},\"mode\":\"markers\",\"name\":\"FED\",\"orientation\":\"v\",\"showlegend\":false,\"x\":[\"FED\",\"FED\",\"FED\",\"FED\",\"FED\"],\"xaxis\":\"x11\",\"y\":[4.0,5.0,6.0,7.0,8.0],\"yaxis\":\"y11\",\"type\":\"scatter\"},{\"hovertemplate\":\"Algorithm=%{x}\\u003cbr\\u003eRank=%{y}\\u003cbr\\u003ecount=%{marker.size}\\u003cextra\\u003e\\u003c\\u002fextra\\u003e\",\"legendgroup\":\"Manual\",\"marker\":{\"color\":\"rgb(230, 25, 75)\",\"size\":[68,82,16,4,1,185,519,125],\"sizemode\":\"area\",\"sizeref\":1.9675,\"symbol\":\"circle\"},\"mode\":\"markers\",\"name\":\"Manual\",\"orientation\":\"v\",\"showlegend\":false,\"x\":[\"Manual\",\"Manual\",\"Manual\",\"Manual\",\"Manual\",\"Manual\",\"Manual\",\"Manual\"],\"xaxis\":\"x11\",\"y\":[5.0,4.0,3.0,2.0,1.0,8.0,7.0,6.0],\"yaxis\":\"y11\",\"type\":\"scatter\"},{\"hovertemplate\":\"Algorithm=%{x}\\u003cbr\\u003eRank=%{y}\\u003cbr\\u003ecount=%{marker.size}\\u003cextra\\u003e\\u003c\\u002fextra\\u003e\",\"legendgroup\":\"VDNA\",\"marker\":{\"color\":\"rgb(67, 99, 216)\",\"size\":[154,264,337,149,8,57,31],\"sizemode\":\"area\",\"sizeref\":1.9675,\"symbol\":\"circle\"},\"mode\":\"markers\",\"name\":\"VDNA\",\"orientation\":\"v\",\"showlegend\":false,\"x\":[\"VDNA\",\"VDNA\",\"VDNA\",\"VDNA\",\"VDNA\",\"VDNA\",\"VDNA\"],\"xaxis\":\"x11\",\"y\":[4.0,5.0,6.0,7.0,1.0,3.0,2.0],\"yaxis\":\"y11\",\"type\":\"scatter\"},{\"hovertemplate\":\"Algorithm=%{x}\\u003cbr\\u003eRank=%{y}\\u003cbr\\u003ecount=%{marker.size}\\u003cextra\\u003e\\u003c\\u002fextra\\u003e\",\"legendgroup\":\"FID\",\"marker\":{\"color\":\"rgb(145, 30, 180)\",\"size\":[39,9,40,130,253,328,201],\"sizemode\":\"area\",\"sizeref\":1.9675,\"symbol\":\"circle\"},\"mode\":\"markers\",\"name\":\"FID\",\"orientation\":\"v\",\"showlegend\":false,\"x\":[\"FID\",\"FID\",\"FID\",\"FID\",\"FID\",\"FID\",\"FID\"],\"xaxis\":\"x11\",\"y\":[7.0,1.0,2.0,3.0,4.0,5.0,6.0],\"yaxis\":\"y11\",\"type\":\"scatter\"},{\"hovertemplate\":\"Algorithm=%{x}\\u003cbr\\u003eRank=%{y}\\u003cbr\\u003ecount=%{marker.size}\\u003cextra\\u003e\\u003c\\u002fextra\\u003e\",\"legendgroup\":\"P2L (w\\u002fo samples)\",\"marker\":{\"color\":\"rgb(70, 240, 240)\",\"size\":[70,78,183,331,254,70,14],\"sizemode\":\"area\",\"sizeref\":1.9675,\"symbol\":\"circle\"},\"mode\":\"markers\",\"name\":\"P2L (w\\u002fo samples)\",\"orientation\":\"v\",\"showlegend\":false,\"x\":[\"P2L (w\\u002fo samples)\",\"P2L (w\\u002fo samples)\",\"P2L (w\\u002fo samples)\",\"P2L (w\\u002fo samples)\",\"P2L (w\\u002fo samples)\",\"P2L (w\\u002fo samples)\",\"P2L (w\\u002fo samples)\"],\"xaxis\":\"x11\",\"y\":[1.0,6.0,5.0,4.0,3.0,2.0,7.0],\"yaxis\":\"y11\",\"type\":\"scatter\"},{\"hovertemplate\":\"Algorithm=%{x}\\u003cbr\\u003eRank=%{y}\\u003cbr\\u003ecount=%{marker.size}\\u003cextra\\u003e\\u003c\\u002fextra\\u003e\",\"legendgroup\":\"bKLD(large,source)\",\"marker\":{\"color\":\"rgb(60, 180, 75)\",\"size\":[153,71,11,69,360,57,182,97],\"sizemode\":\"area\",\"sizeref\":1.9675,\"symbol\":\"hexagon\"},\"mode\":\"markers\",\"name\":\"bKLD(large,source)\",\"orientation\":\"v\",\"showlegend\":false,\"x\":[\"bKLD(large,source)\",\"bKLD(large,source)\",\"bKLD(large,source)\",\"bKLD(large,source)\",\"bKLD(large,source)\",\"bKLD(large,source)\",\"bKLD(large,source)\",\"bKLD(large,source)\"],\"xaxis\":\"x11\",\"y\":[6.0,7.0,8.0,5.0,3.0,2.0,1.0,4.0],\"yaxis\":\"y11\",\"type\":\"scatter\"},{\"hovertemplate\":\"Algorithm=%{x}\\u003cbr\\u003eRank=%{y}\\u003cbr\\u003ecount=%{marker.size}\\u003cextra\\u003e\\u003c\\u002fextra\\u003e\",\"legendgroup\":\"bKLD(large,unweighted)\",\"marker\":{\"color\":\"rgb(60, 180, 75)\",\"size\":[17,24,40,59,148,667,1,44],\"sizemode\":\"area\",\"sizeref\":1.9675,\"symbol\":\"hexagram\"},\"mode\":\"markers\",\"name\":\"bKLD(large,unweighted)\",\"orientation\":\"v\",\"showlegend\":false,\"x\":[\"bKLD(large,unweighted)\",\"bKLD(large,unweighted)\",\"bKLD(large,unweighted)\",\"bKLD(large,unweighted)\",\"bKLD(large,unweighted)\",\"bKLD(large,unweighted)\",\"bKLD(large,unweighted)\",\"bKLD(large,unweighted)\"],\"xaxis\":\"x11\",\"y\":[8.0,7.0,5.0,6.0,3.0,2.0,1.0,4.0],\"yaxis\":\"y11\",\"type\":\"scatter\"},{\"hovertemplate\":\"Algorithm=%{x}\\u003cbr\\u003eRank=%{y}\\u003cbr\\u003ecount=%{marker.size}\\u003cextra\\u003e\\u003c\\u002fextra\\u003e\",\"legendgroup\":\"bKLD(small,target)\",\"marker\":{\"color\":\"rgb(60, 180, 75)\",\"size\":[17,729,131,35,38,42,8],\"sizemode\":\"area\",\"sizeref\":1.9675,\"symbol\":\"circle\"},\"mode\":\"markers\",\"name\":\"bKLD(small,target)\",\"orientation\":\"v\",\"showlegend\":false,\"x\":[\"bKLD(small,target)\",\"bKLD(small,target)\",\"bKLD(small,target)\",\"bKLD(small,target)\",\"bKLD(small,target)\",\"bKLD(small,target)\",\"bKLD(small,target)\"],\"xaxis\":\"x11\",\"y\":[6.0,1.0,2.0,3.0,4.0,5.0,7.0],\"yaxis\":\"y11\",\"type\":\"scatter\"},{\"error_y\":{\"array\":[1.27222010674254,1.4764928039106726,1.8898296219500847,1.3172968534085248,1.2173331507849443,1.2897426099807665,1.2418760002512328,0.547207456089553]},\"marker\":{\"color\":\"black\",\"line\":{\"width\":2},\"size\":15,\"symbol\":\"x-thin\"},\"mode\":\"markers\",\"x\":[\"bKLD(small,target)\",\"bKLD(large,unweighted)\",\"bKLD(large,source)\",\"P2L (w\\u002fo samples)\",\"FID\",\"VDNA\",\"Manual\",\"FED\"],\"y\":[1.616,2.813,3.612,3.777,4.61,5.242,6.588,7.742],\"type\":\"scatter\",\"xaxis\":\"x11\",\"yaxis\":\"y11\",\"showlegend\":false},{\"hovertemplate\":\"Algorithm=%{x}\\u003cbr\\u003eRank=%{y}\\u003cbr\\u003ecount=%{marker.size}\\u003cextra\\u003e\\u003c\\u002fextra\\u003e\",\"legendgroup\":\"Manual\",\"marker\":{\"color\":\"rgb(230, 25, 75)\",\"size\":[751,236,13],\"sizemode\":\"area\",\"sizeref\":2.4925,\"symbol\":\"circle\"},\"mode\":\"markers\",\"name\":\"Manual\",\"orientation\":\"v\",\"showlegend\":false,\"x\":[\"Manual\",\"Manual\",\"Manual\"],\"xaxis\":\"x12\",\"y\":[8.0,7.0,6.0],\"yaxis\":\"y12\",\"type\":\"scatter\"},{\"hovertemplate\":\"Algorithm=%{x}\\u003cbr\\u003eRank=%{y}\\u003cbr\\u003ecount=%{marker.size}\\u003cextra\\u003e\\u003c\\u002fextra\\u003e\",\"legendgroup\":\"P2L (w\\u002fo samples)\",\"marker\":{\"color\":\"rgb(70, 240, 240)\",\"size\":[748,248,4],\"sizemode\":\"area\",\"sizeref\":2.4925,\"symbol\":\"circle\"},\"mode\":\"markers\",\"name\":\"P2L (w\\u002fo samples)\",\"orientation\":\"v\",\"showlegend\":false,\"x\":[\"P2L (w\\u002fo samples)\",\"P2L (w\\u002fo samples)\",\"P2L (w\\u002fo samples)\"],\"xaxis\":\"x12\",\"y\":[7.0,8.0,6.0],\"yaxis\":\"y12\",\"type\":\"scatter\"},{\"hovertemplate\":\"Algorithm=%{x}\\u003cbr\\u003eRank=%{y}\\u003cbr\\u003ecount=%{marker.size}\\u003cextra\\u003e\\u003c\\u002fextra\\u003e\",\"legendgroup\":\"FED\",\"marker\":{\"color\":\"rgb(245, 130, 49)\",\"size\":[2,1,16,981],\"sizemode\":\"area\",\"sizeref\":2.4925,\"symbol\":\"circle\"},\"mode\":\"markers\",\"name\":\"FED\",\"orientation\":\"v\",\"showlegend\":false,\"x\":[\"FED\",\"FED\",\"FED\",\"FED\"],\"xaxis\":\"x12\",\"y\":[5.0,8.0,7.0,6.0],\"yaxis\":\"y12\",\"type\":\"scatter\"},{\"hovertemplate\":\"Algorithm=%{x}\\u003cbr\\u003eRank=%{y}\\u003cbr\\u003ecount=%{marker.size}\\u003cextra\\u003e\\u003c\\u002fextra\\u003e\",\"legendgroup\":\"VDNA\",\"marker\":{\"color\":\"rgb(67, 99, 216)\",\"size\":[705,2,1,292],\"sizemode\":\"area\",\"sizeref\":2.4925,\"symbol\":\"circle\"},\"mode\":\"markers\",\"name\":\"VDNA\",\"orientation\":\"v\",\"showlegend\":false,\"x\":[\"VDNA\",\"VDNA\",\"VDNA\",\"VDNA\"],\"xaxis\":\"x12\",\"y\":[5.0,6.0,3.0,4.0],\"yaxis\":\"y12\",\"type\":\"scatter\"},{\"hovertemplate\":\"Algorithm=%{x}\\u003cbr\\u003eRank=%{y}\\u003cbr\\u003ecount=%{marker.size}\\u003cextra\\u003e\\u003c\\u002fextra\\u003e\",\"legendgroup\":\"FID\",\"marker\":{\"color\":\"rgb(145, 30, 180)\",\"size\":[292,706,2],\"sizemode\":\"area\",\"sizeref\":2.4925,\"symbol\":\"circle\"},\"mode\":\"markers\",\"name\":\"FID\",\"orientation\":\"v\",\"showlegend\":false,\"x\":[\"FID\",\"FID\",\"FID\"],\"xaxis\":\"x12\",\"y\":[5.0,4.0,3.0],\"yaxis\":\"y12\",\"type\":\"scatter\"},{\"hovertemplate\":\"Algorithm=%{x}\\u003cbr\\u003eRank=%{y}\\u003cbr\\u003ecount=%{marker.size}\\u003cextra\\u003e\\u003c\\u002fextra\\u003e\",\"legendgroup\":\"bKLD(large,source)\",\"marker\":{\"color\":\"rgb(60, 180, 75)\",\"size\":[997,2,1],\"sizemode\":\"area\",\"sizeref\":2.4925,\"symbol\":\"hexagon\"},\"mode\":\"markers\",\"name\":\"bKLD(large,source)\",\"orientation\":\"v\",\"showlegend\":false,\"x\":[\"bKLD(large,source)\",\"bKLD(large,source)\",\"bKLD(large,source)\"],\"xaxis\":\"x12\",\"y\":[3.0,4.0,5.0],\"yaxis\":\"y12\",\"type\":\"scatter\"},{\"hovertemplate\":\"Algorithm=%{x}\\u003cbr\\u003eRank=%{y}\\u003cbr\\u003ecount=%{marker.size}\\u003cextra\\u003e\\u003c\\u002fextra\\u003e\",\"legendgroup\":\"bKLD(large,unweighted)\",\"marker\":{\"color\":\"rgb(60, 180, 75)\",\"size\":[62,938],\"sizemode\":\"area\",\"sizeref\":2.4925,\"symbol\":\"hexagram\"},\"mode\":\"markers\",\"name\":\"bKLD(large,unweighted)\",\"orientation\":\"v\",\"showlegend\":false,\"x\":[\"bKLD(large,unweighted)\",\"bKLD(large,unweighted)\"],\"xaxis\":\"x12\",\"y\":[1.0,2.0],\"yaxis\":\"y12\",\"type\":\"scatter\"},{\"hovertemplate\":\"Algorithm=%{x}\\u003cbr\\u003eRank=%{y}\\u003cbr\\u003ecount=%{marker.size}\\u003cextra\\u003e\\u003c\\u002fextra\\u003e\",\"legendgroup\":\"bKLD(small,target)\",\"marker\":{\"color\":\"rgb(60, 180, 75)\",\"size\":[938,62],\"sizemode\":\"area\",\"sizeref\":2.4925,\"symbol\":\"circle\"},\"mode\":\"markers\",\"name\":\"bKLD(small,target)\",\"orientation\":\"v\",\"showlegend\":false,\"x\":[\"bKLD(small,target)\",\"bKLD(small,target)\"],\"xaxis\":\"x12\",\"y\":[1.0,2.0],\"yaxis\":\"y12\",\"type\":\"scatter\"},{\"error_y\":{\"array\":[0.2411555514600483,0.2411555514600483,0.07735631842325487,0.4581484475582123,0.4612331297727864,0.1474584687293341,0.43870719164381156,0.468354566541205]},\"marker\":{\"color\":\"black\",\"line\":{\"width\":2},\"size\":15,\"symbol\":\"x-thin\"},\"mode\":\"markers\",\"x\":[\"bKLD(small,target)\",\"bKLD(large,unweighted)\",\"bKLD(large,source)\",\"FID\",\"VDNA\",\"FED\",\"P2L (w\\u002fo samples)\",\"Manual\"],\"y\":[1.062,1.938,3.004,4.29,4.708,6.016,7.244,7.738],\"type\":\"scatter\",\"xaxis\":\"x12\",\"yaxis\":\"y12\",\"showlegend\":false},{\"hovertemplate\":\"Algorithm=%{x}\\u003cbr\\u003eRank=%{y}\\u003cbr\\u003ecount=%{marker.size}\\u003cextra\\u003e\\u003c\\u002fextra\\u003e\",\"legendgroup\":\"FED\",\"marker\":{\"color\":\"rgb(245, 130, 49)\",\"size\":[5,22,52,102,158,195,250,216],\"sizemode\":\"area\",\"sizeref\":2.0175,\"symbol\":\"circle\"},\"mode\":\"markers\",\"name\":\"FED\",\"orientation\":\"v\",\"showlegend\":false,\"x\":[\"FED\",\"FED\",\"FED\",\"FED\",\"FED\",\"FED\",\"FED\",\"FED\"],\"xaxis\":\"x13\",\"y\":[1.0,2.0,3.0,4.0,5.0,6.0,7.0,8.0],\"yaxis\":\"y13\",\"type\":\"scatter\"},{\"hovertemplate\":\"Algorithm=%{x}\\u003cbr\\u003eRank=%{y}\\u003cbr\\u003ecount=%{marker.size}\\u003cextra\\u003e\\u003c\\u002fextra\\u003e\",\"legendgroup\":\"P2L (w\\u002fo samples)\",\"marker\":{\"color\":\"rgb(70, 240, 240)\",\"size\":[188,214,189,145,34,15,3,212],\"sizemode\":\"area\",\"sizeref\":2.0175,\"symbol\":\"circle\"},\"mode\":\"markers\",\"name\":\"P2L (w\\u002fo samples)\",\"orientation\":\"v\",\"showlegend\":false,\"x\":[\"P2L (w\\u002fo samples)\",\"P2L (w\\u002fo samples)\",\"P2L (w\\u002fo samples)\",\"P2L (w\\u002fo samples)\",\"P2L (w\\u002fo samples)\",\"P2L (w\\u002fo samples)\",\"P2L (w\\u002fo samples)\",\"P2L (w\\u002fo samples)\"],\"xaxis\":\"x13\",\"y\":[7.0,6.0,5.0,4.0,3.0,2.0,1.0,8.0],\"yaxis\":\"y13\",\"type\":\"scatter\"},{\"hovertemplate\":\"Algorithm=%{x}\\u003cbr\\u003eRank=%{y}\\u003cbr\\u003ecount=%{marker.size}\\u003cextra\\u003e\\u003c\\u002fextra\\u003e\",\"legendgroup\":\"VDNA\",\"marker\":{\"color\":\"rgb(67, 99, 216)\",\"size\":[143,227,275,196,114,40,3,2],\"sizemode\":\"area\",\"sizeref\":2.0175,\"symbol\":\"circle\"},\"mode\":\"markers\",\"name\":\"VDNA\",\"orientation\":\"v\",\"showlegend\":false,\"x\":[\"VDNA\",\"VDNA\",\"VDNA\",\"VDNA\",\"VDNA\",\"VDNA\",\"VDNA\",\"VDNA\"],\"xaxis\":\"x13\",\"y\":[8.0,7.0,6.0,5.0,4.0,3.0,2.0,1.0],\"yaxis\":\"y13\",\"type\":\"scatter\"},{\"hovertemplate\":\"Algorithm=%{x}\\u003cbr\\u003eRank=%{y}\\u003cbr\\u003ecount=%{marker.size}\\u003cextra\\u003e\\u003c\\u002fextra\\u003e\",\"legendgroup\":\"bKLD(large,source)\",\"marker\":{\"color\":\"rgb(60, 180, 75)\",\"size\":[341,134,109,104,149,116,26,21],\"sizemode\":\"area\",\"sizeref\":2.0175,\"symbol\":\"hexagon\"},\"mode\":\"markers\",\"name\":\"bKLD(large,source)\",\"orientation\":\"v\",\"showlegend\":false,\"x\":[\"bKLD(large,source)\",\"bKLD(large,source)\",\"bKLD(large,source)\",\"bKLD(large,source)\",\"bKLD(large,source)\",\"bKLD(large,source)\",\"bKLD(large,source)\",\"bKLD(large,source)\"],\"xaxis\":\"x13\",\"y\":[8.0,7.0,6.0,5.0,4.0,3.0,2.0,1.0],\"yaxis\":\"y13\",\"type\":\"scatter\"},{\"hovertemplate\":\"Algorithm=%{x}\\u003cbr\\u003eRank=%{y}\\u003cbr\\u003ecount=%{marker.size}\\u003cextra\\u003e\\u003c\\u002fextra\\u003e\",\"legendgroup\":\"Manual\",\"marker\":{\"color\":\"rgb(230, 25, 75)\",\"size\":[56,67,301,183,142,97,105,49],\"sizemode\":\"area\",\"sizeref\":2.0175,\"symbol\":\"circle\"},\"mode\":\"markers\",\"name\":\"Manual\",\"orientation\":\"v\",\"showlegend\":false,\"x\":[\"Manual\",\"Manual\",\"Manual\",\"Manual\",\"Manual\",\"Manual\",\"Manual\",\"Manual\"],\"xaxis\":\"x13\",\"y\":[1.0,2.0,3.0,4.0,5.0,6.0,7.0,8.0],\"yaxis\":\"y13\",\"type\":\"scatter\"},{\"hovertemplate\":\"Algorithm=%{x}\\u003cbr\\u003eRank=%{y}\\u003cbr\\u003ecount=%{marker.size}\\u003cextra\\u003e\\u003c\\u002fextra\\u003e\",\"legendgroup\":\"FID\",\"marker\":{\"color\":\"rgb(145, 30, 180)\",\"size\":[60,30,96,177,217,264,70,86],\"sizemode\":\"area\",\"sizeref\":2.0175,\"symbol\":\"circle\"},\"mode\":\"markers\",\"name\":\"FID\",\"orientation\":\"v\",\"showlegend\":false,\"x\":[\"FID\",\"FID\",\"FID\",\"FID\",\"FID\",\"FID\",\"FID\",\"FID\"],\"xaxis\":\"x13\",\"y\":[1.0,8.0,6.0,5.0,4.0,3.0,2.0,7.0],\"yaxis\":\"y13\",\"type\":\"scatter\"},{\"hovertemplate\":\"Algorithm=%{x}\\u003cbr\\u003eRank=%{y}\\u003cbr\\u003ecount=%{marker.size}\\u003cextra\\u003e\\u003c\\u002fextra\\u003e\",\"legendgroup\":\"bKLD(small,target)\",\"marker\":{\"color\":\"rgb(60, 180, 75)\",\"size\":[13,30,70,163,660,46,9,9],\"sizemode\":\"area\",\"sizeref\":2.0175,\"symbol\":\"circle\"},\"mode\":\"markers\",\"name\":\"bKLD(small,target)\",\"orientation\":\"v\",\"showlegend\":false,\"x\":[\"bKLD(small,target)\",\"bKLD(small,target)\",\"bKLD(small,target)\",\"bKLD(small,target)\",\"bKLD(small,target)\",\"bKLD(small,target)\",\"bKLD(small,target)\",\"bKLD(small,target)\"],\"xaxis\":\"x13\",\"y\":[6.0,5.0,4.0,3.0,2.0,1.0,8.0,7.0],\"yaxis\":\"y13\",\"type\":\"scatter\"},{\"hovertemplate\":\"Algorithm=%{x}\\u003cbr\\u003eRank=%{y}\\u003cbr\\u003ecount=%{marker.size}\\u003cextra\\u003e\\u003c\\u002fextra\\u003e\",\"legendgroup\":\"bKLD(large,unweighted)\",\"marker\":{\"color\":\"rgb(60, 180, 75)\",\"size\":[1,4,30,137,807,1,20],\"sizemode\":\"area\",\"sizeref\":2.0175,\"symbol\":\"hexagram\"},\"mode\":\"markers\",\"name\":\"bKLD(large,unweighted)\",\"orientation\":\"v\",\"showlegend\":false,\"x\":[\"bKLD(large,unweighted)\",\"bKLD(large,unweighted)\",\"bKLD(large,unweighted)\",\"bKLD(large,unweighted)\",\"bKLD(large,unweighted)\",\"bKLD(large,unweighted)\",\"bKLD(large,unweighted)\"],\"xaxis\":\"x13\",\"y\":[6.0,5.0,3.0,2.0,1.0,7.0,4.0],\"yaxis\":\"y13\",\"type\":\"scatter\"},{\"error_y\":{\"array\":[0.6937895934647622,1.1260532847072557,1.694824769703346,1.8089953012653184,2.040233074920608,1.380648760547012,1.5569405897464423,1.619382289640096]},\"marker\":{\"color\":\"black\",\"line\":{\"width\":2},\"size\":15,\"symbol\":\"x-thin\"},\"mode\":\"markers\",\"x\":[\"bKLD(large,unweighted)\",\"bKLD(small,target)\",\"FID\",\"Manual\",\"bKLD(large,source)\",\"VDNA\",\"P2L (w\\u002fo samples)\",\"FED\"],\"y\":[1.284,2.498,4.163,4.244,5.857,5.947,5.956,6.051],\"type\":\"scatter\",\"xaxis\":\"x13\",\"yaxis\":\"y13\",\"showlegend\":false},{\"hovertemplate\":\"Algorithm=%{x}\\u003cbr\\u003eRank=%{y}\\u003cbr\\u003ecount=%{marker.size}\\u003cextra\\u003e\\u003c\\u002fextra\\u003e\",\"legendgroup\":\"VDNA\",\"marker\":{\"color\":\"rgb(67, 99, 216)\",\"size\":[2,1,17,40,125,284,531],\"sizemode\":\"area\",\"sizeref\":1.3275,\"symbol\":\"circle\"},\"mode\":\"markers\",\"name\":\"VDNA\",\"orientation\":\"v\",\"showlegend\":false,\"x\":[\"VDNA\",\"VDNA\",\"VDNA\",\"VDNA\",\"VDNA\",\"VDNA\",\"VDNA\"],\"xaxis\":\"x14\",\"y\":[3.0,2.0,4.0,5.0,6.0,7.0,8.0],\"yaxis\":\"y14\",\"type\":\"scatter\"},{\"hovertemplate\":\"Algorithm=%{x}\\u003cbr\\u003eRank=%{y}\\u003cbr\\u003ecount=%{marker.size}\\u003cextra\\u003e\\u003c\\u002fextra\\u003e\",\"legendgroup\":\"FED\",\"marker\":{\"color\":\"rgb(245, 130, 49)\",\"size\":[4,327,189,103,56,40,22,259],\"sizemode\":\"area\",\"sizeref\":1.3275,\"symbol\":\"circle\"},\"mode\":\"markers\",\"name\":\"FED\",\"orientation\":\"v\",\"showlegend\":false,\"x\":[\"FED\",\"FED\",\"FED\",\"FED\",\"FED\",\"FED\",\"FED\",\"FED\"],\"xaxis\":\"x14\",\"y\":[1.0,7.0,6.0,5.0,4.0,3.0,2.0,8.0],\"yaxis\":\"y14\",\"type\":\"scatter\"},{\"hovertemplate\":\"Algorithm=%{x}\\u003cbr\\u003eRank=%{y}\\u003cbr\\u003ecount=%{marker.size}\\u003cextra\\u003e\\u003c\\u002fextra\\u003e\",\"legendgroup\":\"Manual\",\"marker\":{\"color\":\"rgb(230, 25, 75)\",\"size\":[118,153,170,161,80,115,47,156],\"sizemode\":\"area\",\"sizeref\":1.3275,\"symbol\":\"circle\"},\"mode\":\"markers\",\"name\":\"Manual\",\"orientation\":\"v\",\"showlegend\":false,\"x\":[\"Manual\",\"Manual\",\"Manual\",\"Manual\",\"Manual\",\"Manual\",\"Manual\",\"Manual\"],\"xaxis\":\"x14\",\"y\":[8.0,7.0,6.0,5.0,2.0,3.0,1.0,4.0],\"yaxis\":\"y14\",\"type\":\"scatter\"},{\"hovertemplate\":\"Algorithm=%{x}\\u003cbr\\u003eRank=%{y}\\u003cbr\\u003ecount=%{marker.size}\\u003cextra\\u003e\\u003c\\u002fextra\\u003e\",\"legendgroup\":\"P2L (w\\u002fo samples)\",\"marker\":{\"color\":\"rgb(70, 240, 240)\",\"size\":[107,239,199,175,27,90,132,31],\"sizemode\":\"area\",\"sizeref\":1.3275,\"symbol\":\"circle\"},\"mode\":\"markers\",\"name\":\"P2L (w\\u002fo samples)\",\"orientation\":\"v\",\"showlegend\":false,\"x\":[\"P2L (w\\u002fo samples)\",\"P2L (w\\u002fo samples)\",\"P2L (w\\u002fo samples)\",\"P2L (w\\u002fo samples)\",\"P2L (w\\u002fo samples)\",\"P2L (w\\u002fo samples)\",\"P2L (w\\u002fo samples)\",\"P2L (w\\u002fo samples)\"],\"xaxis\":\"x14\",\"y\":[7.0,5.0,6.0,4.0,8.0,2.0,3.0,1.0],\"yaxis\":\"y14\",\"type\":\"scatter\"},{\"hovertemplate\":\"Algorithm=%{x}\\u003cbr\\u003eRank=%{y}\\u003cbr\\u003ecount=%{marker.size}\\u003cextra\\u003e\\u003c\\u002fextra\\u003e\",\"legendgroup\":\"FID\",\"marker\":{\"color\":\"rgb(145, 30, 180)\",\"size\":[7,32,138,196,244,153,67,163],\"sizemode\":\"area\",\"sizeref\":1.3275,\"symbol\":\"circle\"},\"mode\":\"markers\",\"name\":\"FID\",\"orientation\":\"v\",\"showlegend\":false,\"x\":[\"FID\",\"FID\",\"FID\",\"FID\",\"FID\",\"FID\",\"FID\",\"FID\"],\"xaxis\":\"x14\",\"y\":[8.0,7.0,6.0,5.0,4.0,2.0,1.0,3.0],\"yaxis\":\"y14\",\"type\":\"scatter\"},{\"hovertemplate\":\"Algorithm=%{x}\\u003cbr\\u003eRank=%{y}\\u003cbr\\u003ecount=%{marker.size}\\u003cextra\\u003e\\u003c\\u002fextra\\u003e\",\"legendgroup\":\"bKLD(small,target)\",\"marker\":{\"color\":\"rgb(60, 180, 75)\",\"size\":[104,21,135,185,1,297,186,21,50],\"sizemode\":\"area\",\"sizeref\":1.3275,\"symbol\":\"circle\"},\"mode\":\"markers\",\"name\":\"bKLD(small,target)\",\"orientation\":\"v\",\"showlegend\":false,\"x\":[\"bKLD(small,target)\",\"bKLD(small,target)\",\"bKLD(small,target)\",\"bKLD(small,target)\",\"bKLD(small,target)\",\"bKLD(small,target)\",\"bKLD(small,target)\",\"bKLD(small,target)\",\"bKLD(small,target)\"],\"xaxis\":\"x14\",\"y\":[6.0,1.0,5.0,4.0,3.5,3.0,2.0,8.0,7.0],\"yaxis\":\"y14\",\"type\":\"scatter\"},{\"hovertemplate\":\"Algorithm=%{x}\\u003cbr\\u003eRank=%{y}\\u003cbr\\u003ecount=%{marker.size}\\u003cextra\\u003e\\u003c\\u002fextra\\u003e\",\"legendgroup\":\"bKLD(large,source)\",\"marker\":{\"color\":\"rgb(60, 180, 75)\",\"size\":[52,506,106,104,83,72,37,40],\"sizemode\":\"area\",\"sizeref\":1.3275,\"symbol\":\"hexagon\"},\"mode\":\"markers\",\"name\":\"bKLD(large,source)\",\"orientation\":\"v\",\"showlegend\":false,\"x\":[\"bKLD(large,source)\",\"bKLD(large,source)\",\"bKLD(large,source)\",\"bKLD(large,source)\",\"bKLD(large,source)\",\"bKLD(large,source)\",\"bKLD(large,source)\",\"bKLD(large,source)\"],\"xaxis\":\"x14\",\"y\":[6.0,1.0,2.0,3.0,4.0,5.0,8.0,7.0],\"yaxis\":\"y14\",\"type\":\"scatter\"},{\"hovertemplate\":\"Algorithm=%{x}\\u003cbr\\u003eRank=%{y}\\u003cbr\\u003ecount=%{marker.size}\\u003cextra\\u003e\\u003c\\u002fextra\\u003e\",\"legendgroup\":\"bKLD(large,unweighted)\",\"marker\":{\"color\":\"rgb(60, 180, 75)\",\"size\":[23,54,83,1,146,362,7,324],\"sizemode\":\"area\",\"sizeref\":1.3275,\"symbol\":\"hexagram\"},\"mode\":\"markers\",\"name\":\"bKLD(large,unweighted)\",\"orientation\":\"v\",\"showlegend\":false,\"x\":[\"bKLD(large,unweighted)\",\"bKLD(large,unweighted)\",\"bKLD(large,unweighted)\",\"bKLD(large,unweighted)\",\"bKLD(large,unweighted)\",\"bKLD(large,unweighted)\",\"bKLD(large,unweighted)\",\"bKLD(large,unweighted)\"],\"xaxis\":\"x14\",\"y\":[6.0,5.0,4.0,3.5,3.0,2.0,7.0,1.0],\"yaxis\":\"y14\",\"type\":\"scatter\"},{\"error_y\":{\"array\":[1.3250236790336993,2.0932988319874446,1.5947005204739853,1.5876158225465,1.662551954075421,1.9828625771848136,1.5298352852513242,0.9784457062095985]},\"marker\":{\"color\":\"black\",\"line\":{\"width\":2},\"size\":15,\"symbol\":\"x-thin\"},\"mode\":\"markers\",\"x\":[\"bKLD(large,unweighted)\",\"bKLD(large,source)\",\"bKLD(small,target)\",\"FID\",\"P2L (w\\u002fo samples)\",\"Manual\",\"FED\",\"VDNA\"],\"y\":[2.2785,2.61,3.8445,3.926,4.661,5.016,6.402,7.262],\"type\":\"scatter\",\"xaxis\":\"x14\",\"yaxis\":\"y14\",\"showlegend\":false},{\"hovertemplate\":\"Algorithm=%{x}\\u003cbr\\u003eRank=%{y}\\u003cbr\\u003ecount=%{marker.size}\\u003cextra\\u003e\\u003c\\u002fextra\\u003e\",\"legendgroup\":\"P2L (w\\u002fo samples)\",\"marker\":{\"color\":\"rgb(70, 240, 240)\",\"size\":[512,50,438],\"sizemode\":\"area\",\"sizeref\":1.6425,\"symbol\":\"circle\"},\"mode\":\"markers\",\"name\":\"P2L (w\\u002fo samples)\",\"orientation\":\"v\",\"showlegend\":false,\"x\":[\"P2L (w\\u002fo samples)\",\"P2L (w\\u002fo samples)\",\"P2L (w\\u002fo samples)\"],\"xaxis\":\"x15\",\"y\":[8.0,6.0,7.0],\"yaxis\":\"y15\",\"type\":\"scatter\"},{\"hovertemplate\":\"Algorithm=%{x}\\u003cbr\\u003eRank=%{y}\\u003cbr\\u003ecount=%{marker.size}\\u003cextra\\u003e\\u003c\\u002fextra\\u003e\",\"legendgroup\":\"FED\",\"marker\":{\"color\":\"rgb(245, 130, 49)\",\"size\":[455,133,1,54,25,15,317],\"sizemode\":\"area\",\"sizeref\":1.6425,\"symbol\":\"circle\"},\"mode\":\"markers\",\"name\":\"FED\",\"orientation\":\"v\",\"showlegend\":false,\"x\":[\"FED\",\"FED\",\"FED\",\"FED\",\"FED\",\"FED\",\"FED\"],\"xaxis\":\"x15\",\"y\":[8.0,7.0,2.0,5.0,4.0,3.0,6.0],\"yaxis\":\"y15\",\"type\":\"scatter\"},{\"hovertemplate\":\"Algorithm=%{x}\\u003cbr\\u003eRank=%{y}\\u003cbr\\u003ecount=%{marker.size}\\u003cextra\\u003e\\u003c\\u002fextra\\u003e\",\"legendgroup\":\"FID\",\"marker\":{\"color\":\"rgb(145, 30, 180)\",\"size\":[2,15,524,33,426],\"sizemode\":\"area\",\"sizeref\":1.6425,\"symbol\":\"circle\"},\"mode\":\"markers\",\"name\":\"FID\",\"orientation\":\"v\",\"showlegend\":false,\"x\":[\"FID\",\"FID\",\"FID\",\"FID\",\"FID\"],\"xaxis\":\"x15\",\"y\":[4.0,5.0,6.0,8.0,7.0],\"yaxis\":\"y15\",\"type\":\"scatter\"},{\"hovertemplate\":\"Algorithm=%{x}\\u003cbr\\u003eRank=%{y}\\u003cbr\\u003ecount=%{marker.size}\\u003cextra\\u003e\\u003c\\u002fextra\\u003e\",\"legendgroup\":\"VDNA\",\"marker\":{\"color\":\"rgb(67, 99, 216)\",\"size\":[2,70,657,201,58,1,11],\"sizemode\":\"area\",\"sizeref\":1.6425,\"symbol\":\"circle\"},\"mode\":\"markers\",\"name\":\"VDNA\",\"orientation\":\"v\",\"showlegend\":false,\"x\":[\"VDNA\",\"VDNA\",\"VDNA\",\"VDNA\",\"VDNA\",\"VDNA\",\"VDNA\"],\"xaxis\":\"x15\",\"y\":[7.0,6.0,5.0,4.0,3.0,1.0,2.0],\"yaxis\":\"y15\",\"type\":\"scatter\"},{\"hovertemplate\":\"Algorithm=%{x}\\u003cbr\\u003eRank=%{y}\\u003cbr\\u003ecount=%{marker.size}\\u003cextra\\u003e\\u003c\\u002fextra\\u003e\",\"legendgroup\":\"bKLD(small,target)\",\"marker\":{\"color\":\"rgb(60, 180, 75)\",\"size\":[39,378,316,265,2],\"sizemode\":\"area\",\"sizeref\":1.6425,\"symbol\":\"circle\"},\"mode\":\"markers\",\"name\":\"bKLD(small,target)\",\"orientation\":\"v\",\"showlegend\":false,\"x\":[\"bKLD(small,target)\",\"bKLD(small,target)\",\"bKLD(small,target)\",\"bKLD(small,target)\",\"bKLD(small,target)\"],\"xaxis\":\"x15\",\"y\":[5.0,4.0,3.0,2.0,6.0],\"yaxis\":\"y15\",\"type\":\"scatter\"},{\"hovertemplate\":\"Algorithm=%{x}\\u003cbr\\u003eRank=%{y}\\u003cbr\\u003ecount=%{marker.size}\\u003cextra\\u003e\\u003c\\u002fextra\\u003e\",\"legendgroup\":\"Manual\",\"marker\":{\"color\":\"rgb(230, 25, 75)\",\"size\":[202,145,228,197,201,27],\"sizemode\":\"area\",\"sizeref\":1.6425,\"symbol\":\"circle\"},\"mode\":\"markers\",\"name\":\"Manual\",\"orientation\":\"v\",\"showlegend\":false,\"x\":[\"Manual\",\"Manual\",\"Manual\",\"Manual\",\"Manual\",\"Manual\"],\"xaxis\":\"x15\",\"y\":[1.0,5.0,4.0,3.0,2.0,6.0],\"yaxis\":\"y15\",\"type\":\"scatter\"},{\"hovertemplate\":\"Algorithm=%{x}\\u003cbr\\u003eRank=%{y}\\u003cbr\\u003ecount=%{marker.size}\\u003cextra\\u003e\\u003c\\u002fextra\\u003e\",\"legendgroup\":\"bKLD(large,source)\",\"marker\":{\"color\":\"rgb(60, 180, 75)\",\"size\":[1,10,164,192,225,319,89],\"sizemode\":\"area\",\"sizeref\":1.6425,\"symbol\":\"hexagon\"},\"mode\":\"markers\",\"name\":\"bKLD(large,source)\",\"orientation\":\"v\",\"showlegend\":false,\"x\":[\"bKLD(large,source)\",\"bKLD(large,source)\",\"bKLD(large,source)\",\"bKLD(large,source)\",\"bKLD(large,source)\",\"bKLD(large,source)\",\"bKLD(large,source)\"],\"xaxis\":\"x15\",\"y\":[7.0,6.0,4.0,3.0,2.0,1.0,5.0],\"yaxis\":\"y15\",\"type\":\"scatter\"},{\"hovertemplate\":\"Algorithm=%{x}\\u003cbr\\u003eRank=%{y}\\u003cbr\\u003ecount=%{marker.size}\\u003cextra\\u003e\\u003c\\u002fextra\\u003e\",\"legendgroup\":\"bKLD(large,unweighted)\",\"marker\":{\"color\":\"rgb(60, 180, 75)\",\"size\":[297,222,2,1,478],\"sizemode\":\"area\",\"sizeref\":1.6425,\"symbol\":\"hexagram\"},\"mode\":\"markers\",\"name\":\"bKLD(large,unweighted)\",\"orientation\":\"v\",\"showlegend\":false,\"x\":[\"bKLD(large,unweighted)\",\"bKLD(large,unweighted)\",\"bKLD(large,unweighted)\",\"bKLD(large,unweighted)\",\"bKLD(large,unweighted)\"],\"xaxis\":\"x15\",\"y\":[2.0,3.0,4.0,5.0,1.0],\"yaxis\":\"y15\",\"type\":\"scatter\"},{\"error_y\":{\"array\":[0.8093200850096333,1.374711242406928,1.435257468191683,0.8821513475589096,0.7399999999999999,0.597721507058262,1.2107435731813736,0.5903863142045216]},\"marker\":{\"color\":\"black\",\"line\":{\"width\":2},\"size\":15,\"symbol\":\"x-thin\"},\"mode\":\"markers\",\"x\":[\"bKLD(large,unweighted)\",\"bKLD(large,source)\",\"Manual\",\"bKLD(small,target)\",\"VDNA\",\"FID\",\"FED\",\"P2L (w\\u002fo samples)\"],\"y\":[1.751,2.513,2.994,3.197,4.72,6.473,6.89,7.462],\"type\":\"scatter\",\"xaxis\":\"x15\",\"yaxis\":\"y15\",\"showlegend\":false},{\"hovertemplate\":\"Algorithm=%{x}\\u003cbr\\u003eRank=%{y}\\u003cbr\\u003ecount=%{marker.size}\\u003cextra\\u003e\\u003c\\u002fextra\\u003e\",\"legendgroup\":\"Manual\",\"marker\":{\"color\":\"rgb(230, 25, 75)\",\"size\":[484,223,116,127,27,16,7],\"sizemode\":\"area\",\"sizeref\":2.445,\"symbol\":\"circle\"},\"mode\":\"markers\",\"name\":\"Manual\",\"orientation\":\"v\",\"showlegend\":false,\"x\":[\"Manual\",\"Manual\",\"Manual\",\"Manual\",\"Manual\",\"Manual\",\"Manual\"],\"xaxis\":\"x16\",\"y\":[8.0,7.0,6.0,5.0,4.0,3.0,2.0],\"yaxis\":\"y16\",\"type\":\"scatter\"},{\"hovertemplate\":\"Algorithm=%{x}\\u003cbr\\u003eRank=%{y}\\u003cbr\\u003ecount=%{marker.size}\\u003cextra\\u003e\\u003c\\u002fextra\\u003e\",\"legendgroup\":\"FED\",\"marker\":{\"color\":\"rgb(245, 130, 49)\",\"size\":[2,23,34,97,136,338,370],\"sizemode\":\"area\",\"sizeref\":2.445,\"symbol\":\"circle\"},\"mode\":\"markers\",\"name\":\"FED\",\"orientation\":\"v\",\"showlegend\":false,\"x\":[\"FED\",\"FED\",\"FED\",\"FED\",\"FED\",\"FED\",\"FED\"],\"xaxis\":\"x16\",\"y\":[2.0,3.0,4.0,5.0,6.0,7.0,8.0],\"yaxis\":\"y16\",\"type\":\"scatter\"},{\"hovertemplate\":\"Algorithm=%{x}\\u003cbr\\u003eRank=%{y}\\u003cbr\\u003ecount=%{marker.size}\\u003cextra\\u003e\\u003c\\u002fextra\\u003e\",\"legendgroup\":\"FID\",\"marker\":{\"color\":\"rgb(145, 30, 180)\",\"size\":[236,370,234,67,25,68],\"sizemode\":\"area\",\"sizeref\":2.445,\"symbol\":\"circle\"},\"mode\":\"markers\",\"name\":\"FID\",\"orientation\":\"v\",\"showlegend\":false,\"x\":[\"FID\",\"FID\",\"FID\",\"FID\",\"FID\",\"FID\"],\"xaxis\":\"x16\",\"y\":[7.0,6.0,5.0,4.0,3.0,8.0],\"yaxis\":\"y16\",\"type\":\"scatter\"},{\"hovertemplate\":\"Algorithm=%{x}\\u003cbr\\u003eRank=%{y}\\u003cbr\\u003ecount=%{marker.size}\\u003cextra\\u003e\\u003c\\u002fextra\\u003e\",\"legendgroup\":\"P2L (w\\u002fo samples)\",\"marker\":{\"color\":\"rgb(70, 240, 240)\",\"size\":[109,31,254,6,89,140,371],\"sizemode\":\"area\",\"sizeref\":2.445,\"symbol\":\"circle\"},\"mode\":\"markers\",\"name\":\"P2L (w\\u002fo samples)\",\"orientation\":\"v\",\"showlegend\":false,\"x\":[\"P2L (w\\u002fo samples)\",\"P2L (w\\u002fo samples)\",\"P2L (w\\u002fo samples)\",\"P2L (w\\u002fo samples)\",\"P2L (w\\u002fo samples)\",\"P2L (w\\u002fo samples)\",\"P2L (w\\u002fo samples)\"],\"xaxis\":\"x16\",\"y\":[7.0,8.0,6.0,2.0,4.0,3.0,5.0],\"yaxis\":\"y16\",\"type\":\"scatter\"},{\"hovertemplate\":\"Algorithm=%{x}\\u003cbr\\u003eRank=%{y}\\u003cbr\\u003ecount=%{marker.size}\\u003cextra\\u003e\\u003c\\u002fextra\\u003e\",\"legendgroup\":\"bKLD(large,unweighted)\",\"marker\":{\"color\":\"rgb(60, 180, 75)\",\"size\":[313,350,87,74,70,44,61,1],\"sizemode\":\"area\",\"sizeref\":2.445,\"symbol\":\"hexagram\"},\"mode\":\"markers\",\"name\":\"bKLD(large,unweighted)\",\"orientation\":\"v\",\"showlegend\":false,\"x\":[\"bKLD(large,unweighted)\",\"bKLD(large,unweighted)\",\"bKLD(large,unweighted)\",\"bKLD(large,unweighted)\",\"bKLD(large,unweighted)\",\"bKLD(large,unweighted)\",\"bKLD(large,unweighted)\",\"bKLD(large,unweighted)\"],\"xaxis\":\"x16\",\"y\":[3.0,4.0,5.0,6.0,7.0,8.0,2.0,1.0],\"yaxis\":\"y16\",\"type\":\"scatter\"},{\"hovertemplate\":\"Algorithm=%{x}\\u003cbr\\u003eRank=%{y}\\u003cbr\\u003ecount=%{marker.size}\\u003cextra\\u003e\\u003c\\u002fextra\\u003e\",\"legendgroup\":\"bKLD(small,target)\",\"marker\":{\"color\":\"rgb(60, 180, 75)\",\"size\":[386,99,64,48,362,16,2,23],\"sizemode\":\"area\",\"sizeref\":2.445,\"symbol\":\"circle\"},\"mode\":\"markers\",\"name\":\"bKLD(small,target)\",\"orientation\":\"v\",\"showlegend\":false,\"x\":[\"bKLD(small,target)\",\"bKLD(small,target)\",\"bKLD(small,target)\",\"bKLD(small,target)\",\"bKLD(small,target)\",\"bKLD(small,target)\",\"bKLD(small,target)\",\"bKLD(small,target)\"],\"xaxis\":\"x16\",\"y\":[3.0,4.0,5.0,6.0,2.0,1.0,8.0,7.0],\"yaxis\":\"y16\",\"type\":\"scatter\"},{\"hovertemplate\":\"Algorithm=%{x}\\u003cbr\\u003eRank=%{y}\\u003cbr\\u003ecount=%{marker.size}\\u003cextra\\u003e\\u003c\\u002fextra\\u003e\",\"legendgroup\":\"VDNA\",\"marker\":{\"color\":\"rgb(67, 99, 216)\",\"size\":[1,1,2,20,331,83,557,5],\"sizemode\":\"area\",\"sizeref\":2.445,\"symbol\":\"circle\"},\"mode\":\"markers\",\"name\":\"VDNA\",\"orientation\":\"v\",\"showlegend\":false,\"x\":[\"VDNA\",\"VDNA\",\"VDNA\",\"VDNA\",\"VDNA\",\"VDNA\",\"VDNA\",\"VDNA\"],\"xaxis\":\"x16\",\"y\":[8.0,7.0,6.0,5.0,4.0,3.0,2.0,1.0],\"yaxis\":\"y16\",\"type\":\"scatter\"},{\"hovertemplate\":\"Algorithm=%{x}\\u003cbr\\u003eRank=%{y}\\u003cbr\\u003ecount=%{marker.size}\\u003cextra\\u003e\\u003c\\u002fextra\\u003e\",\"legendgroup\":\"bKLD(large,source)\",\"marker\":{\"color\":\"rgb(60, 180, 75)\",\"size\":[14,5,978,3],\"sizemode\":\"area\",\"sizeref\":2.445,\"symbol\":\"hexagon\"},\"mode\":\"markers\",\"name\":\"bKLD(large,source)\",\"orientation\":\"v\",\"showlegend\":false,\"x\":[\"bKLD(large,source)\",\"bKLD(large,source)\",\"bKLD(large,source)\",\"bKLD(large,source)\"],\"xaxis\":\"x16\",\"y\":[3.0,2.0,1.0,4.0],\"yaxis\":\"y16\",\"type\":\"scatter\"},{\"error_y\":{\"array\":[0.29365966696160367,1.0070943352040067,1.2746603469159932,1.4998369911427043,1.280748218815861,1.1090351662593931,1.2613897098042304,1.3332831657228708]},\"marker\":{\"color\":\"black\",\"line\":{\"width\":2},\"size\":15,\"symbol\":\"x-thin\"},\"mode\":\"markers\",\"x\":[\"bKLD(large,source)\",\"VDNA\",\"bKLD(small,target)\",\"bKLD(large,unweighted)\",\"P2L (w\\u002fo samples)\",\"FID\",\"FED\",\"Manual\"],\"y\":[1.042,2.819,3.079,4.183,5.178,5.929,6.836,6.934],\"type\":\"scatter\",\"xaxis\":\"x16\",\"yaxis\":\"y16\",\"showlegend\":false}],                        {\"template\":{\"data\":{\"barpolar\":[{\"marker\":{\"line\":{\"color\":\"#E5ECF6\",\"width\":0.5},\"pattern\":{\"fillmode\":\"overlay\",\"size\":10,\"solidity\":0.2}},\"type\":\"barpolar\"}],\"bar\":[{\"error_x\":{\"color\":\"#2a3f5f\"},\"error_y\":{\"color\":\"#2a3f5f\"},\"marker\":{\"line\":{\"color\":\"#E5ECF6\",\"width\":0.5},\"pattern\":{\"fillmode\":\"overlay\",\"size\":10,\"solidity\":0.2}},\"type\":\"bar\"}],\"carpet\":[{\"aaxis\":{\"endlinecolor\":\"#2a3f5f\",\"gridcolor\":\"white\",\"linecolor\":\"white\",\"minorgridcolor\":\"white\",\"startlinecolor\":\"#2a3f5f\"},\"baxis\":{\"endlinecolor\":\"#2a3f5f\",\"gridcolor\":\"white\",\"linecolor\":\"white\",\"minorgridcolor\":\"white\",\"startlinecolor\":\"#2a3f5f\"},\"type\":\"carpet\"}],\"choropleth\":[{\"colorbar\":{\"outlinewidth\":0,\"ticks\":\"\"},\"type\":\"choropleth\"}],\"contourcarpet\":[{\"colorbar\":{\"outlinewidth\":0,\"ticks\":\"\"},\"type\":\"contourcarpet\"}],\"contour\":[{\"colorbar\":{\"outlinewidth\":0,\"ticks\":\"\"},\"colorscale\":[[0.0,\"#0d0887\"],[0.1111111111111111,\"#46039f\"],[0.2222222222222222,\"#7201a8\"],[0.3333333333333333,\"#9c179e\"],[0.4444444444444444,\"#bd3786\"],[0.5555555555555556,\"#d8576b\"],[0.6666666666666666,\"#ed7953\"],[0.7777777777777778,\"#fb9f3a\"],[0.8888888888888888,\"#fdca26\"],[1.0,\"#f0f921\"]],\"type\":\"contour\"}],\"heatmapgl\":[{\"colorbar\":{\"outlinewidth\":0,\"ticks\":\"\"},\"colorscale\":[[0.0,\"#0d0887\"],[0.1111111111111111,\"#46039f\"],[0.2222222222222222,\"#7201a8\"],[0.3333333333333333,\"#9c179e\"],[0.4444444444444444,\"#bd3786\"],[0.5555555555555556,\"#d8576b\"],[0.6666666666666666,\"#ed7953\"],[0.7777777777777778,\"#fb9f3a\"],[0.8888888888888888,\"#fdca26\"],[1.0,\"#f0f921\"]],\"type\":\"heatmapgl\"}],\"heatmap\":[{\"colorbar\":{\"outlinewidth\":0,\"ticks\":\"\"},\"colorscale\":[[0.0,\"#0d0887\"],[0.1111111111111111,\"#46039f\"],[0.2222222222222222,\"#7201a8\"],[0.3333333333333333,\"#9c179e\"],[0.4444444444444444,\"#bd3786\"],[0.5555555555555556,\"#d8576b\"],[0.6666666666666666,\"#ed7953\"],[0.7777777777777778,\"#fb9f3a\"],[0.8888888888888888,\"#fdca26\"],[1.0,\"#f0f921\"]],\"type\":\"heatmap\"}],\"histogram2dcontour\":[{\"colorbar\":{\"outlinewidth\":0,\"ticks\":\"\"},\"colorscale\":[[0.0,\"#0d0887\"],[0.1111111111111111,\"#46039f\"],[0.2222222222222222,\"#7201a8\"],[0.3333333333333333,\"#9c179e\"],[0.4444444444444444,\"#bd3786\"],[0.5555555555555556,\"#d8576b\"],[0.6666666666666666,\"#ed7953\"],[0.7777777777777778,\"#fb9f3a\"],[0.8888888888888888,\"#fdca26\"],[1.0,\"#f0f921\"]],\"type\":\"histogram2dcontour\"}],\"histogram2d\":[{\"colorbar\":{\"outlinewidth\":0,\"ticks\":\"\"},\"colorscale\":[[0.0,\"#0d0887\"],[0.1111111111111111,\"#46039f\"],[0.2222222222222222,\"#7201a8\"],[0.3333333333333333,\"#9c179e\"],[0.4444444444444444,\"#bd3786\"],[0.5555555555555556,\"#d8576b\"],[0.6666666666666666,\"#ed7953\"],[0.7777777777777778,\"#fb9f3a\"],[0.8888888888888888,\"#fdca26\"],[1.0,\"#f0f921\"]],\"type\":\"histogram2d\"}],\"histogram\":[{\"marker\":{\"pattern\":{\"fillmode\":\"overlay\",\"size\":10,\"solidity\":0.2}},\"type\":\"histogram\"}],\"mesh3d\":[{\"colorbar\":{\"outlinewidth\":0,\"ticks\":\"\"},\"type\":\"mesh3d\"}],\"parcoords\":[{\"line\":{\"colorbar\":{\"outlinewidth\":0,\"ticks\":\"\"}},\"type\":\"parcoords\"}],\"pie\":[{\"automargin\":true,\"type\":\"pie\"}],\"scatter3d\":[{\"line\":{\"colorbar\":{\"outlinewidth\":0,\"ticks\":\"\"}},\"marker\":{\"colorbar\":{\"outlinewidth\":0,\"ticks\":\"\"}},\"type\":\"scatter3d\"}],\"scattercarpet\":[{\"marker\":{\"colorbar\":{\"outlinewidth\":0,\"ticks\":\"\"}},\"type\":\"scattercarpet\"}],\"scattergeo\":[{\"marker\":{\"colorbar\":{\"outlinewidth\":0,\"ticks\":\"\"}},\"type\":\"scattergeo\"}],\"scattergl\":[{\"marker\":{\"colorbar\":{\"outlinewidth\":0,\"ticks\":\"\"}},\"type\":\"scattergl\"}],\"scattermapbox\":[{\"marker\":{\"colorbar\":{\"outlinewidth\":0,\"ticks\":\"\"}},\"type\":\"scattermapbox\"}],\"scatterpolargl\":[{\"marker\":{\"colorbar\":{\"outlinewidth\":0,\"ticks\":\"\"}},\"type\":\"scatterpolargl\"}],\"scatterpolar\":[{\"marker\":{\"colorbar\":{\"outlinewidth\":0,\"ticks\":\"\"}},\"type\":\"scatterpolar\"}],\"scatter\":[{\"fillpattern\":{\"fillmode\":\"overlay\",\"size\":10,\"solidity\":0.2},\"type\":\"scatter\"}],\"scatterternary\":[{\"marker\":{\"colorbar\":{\"outlinewidth\":0,\"ticks\":\"\"}},\"type\":\"scatterternary\"}],\"surface\":[{\"colorbar\":{\"outlinewidth\":0,\"ticks\":\"\"},\"colorscale\":[[0.0,\"#0d0887\"],[0.1111111111111111,\"#46039f\"],[0.2222222222222222,\"#7201a8\"],[0.3333333333333333,\"#9c179e\"],[0.4444444444444444,\"#bd3786\"],[0.5555555555555556,\"#d8576b\"],[0.6666666666666666,\"#ed7953\"],[0.7777777777777778,\"#fb9f3a\"],[0.8888888888888888,\"#fdca26\"],[1.0,\"#f0f921\"]],\"type\":\"surface\"}],\"table\":[{\"cells\":{\"fill\":{\"color\":\"#EBF0F8\"},\"line\":{\"color\":\"white\"}},\"header\":{\"fill\":{\"color\":\"#C8D4E3\"},\"line\":{\"color\":\"white\"}},\"type\":\"table\"}]},\"layout\":{\"annotationdefaults\":{\"arrowcolor\":\"#2a3f5f\",\"arrowhead\":0,\"arrowwidth\":1},\"autotypenumbers\":\"strict\",\"coloraxis\":{\"colorbar\":{\"outlinewidth\":0,\"ticks\":\"\"}},\"colorscale\":{\"diverging\":[[0,\"#8e0152\"],[0.1,\"#c51b7d\"],[0.2,\"#de77ae\"],[0.3,\"#f1b6da\"],[0.4,\"#fde0ef\"],[0.5,\"#f7f7f7\"],[0.6,\"#e6f5d0\"],[0.7,\"#b8e186\"],[0.8,\"#7fbc41\"],[0.9,\"#4d9221\"],[1,\"#276419\"]],\"sequential\":[[0.0,\"#0d0887\"],[0.1111111111111111,\"#46039f\"],[0.2222222222222222,\"#7201a8\"],[0.3333333333333333,\"#9c179e\"],[0.4444444444444444,\"#bd3786\"],[0.5555555555555556,\"#d8576b\"],[0.6666666666666666,\"#ed7953\"],[0.7777777777777778,\"#fb9f3a\"],[0.8888888888888888,\"#fdca26\"],[1.0,\"#f0f921\"]],\"sequentialminus\":[[0.0,\"#0d0887\"],[0.1111111111111111,\"#46039f\"],[0.2222222222222222,\"#7201a8\"],[0.3333333333333333,\"#9c179e\"],[0.4444444444444444,\"#bd3786\"],[0.5555555555555556,\"#d8576b\"],[0.6666666666666666,\"#ed7953\"],[0.7777777777777778,\"#fb9f3a\"],[0.8888888888888888,\"#fdca26\"],[1.0,\"#f0f921\"]]},\"colorway\":[\"#636efa\",\"#EF553B\",\"#00cc96\",\"#ab63fa\",\"#FFA15A\",\"#19d3f3\",\"#FF6692\",\"#B6E880\",\"#FF97FF\",\"#FECB52\"],\"font\":{\"color\":\"#2a3f5f\"},\"geo\":{\"bgcolor\":\"white\",\"lakecolor\":\"white\",\"landcolor\":\"#E5ECF6\",\"showlakes\":true,\"showland\":true,\"subunitcolor\":\"white\"},\"hoverlabel\":{\"align\":\"left\"},\"hovermode\":\"closest\",\"mapbox\":{\"style\":\"light\"},\"paper_bgcolor\":\"white\",\"plot_bgcolor\":\"#E5ECF6\",\"polar\":{\"angularaxis\":{\"gridcolor\":\"white\",\"linecolor\":\"white\",\"ticks\":\"\"},\"bgcolor\":\"#E5ECF6\",\"radialaxis\":{\"gridcolor\":\"white\",\"linecolor\":\"white\",\"ticks\":\"\"}},\"scene\":{\"xaxis\":{\"backgroundcolor\":\"#E5ECF6\",\"gridcolor\":\"white\",\"gridwidth\":2,\"linecolor\":\"white\",\"showbackground\":true,\"ticks\":\"\",\"zerolinecolor\":\"white\"},\"yaxis\":{\"backgroundcolor\":\"#E5ECF6\",\"gridcolor\":\"white\",\"gridwidth\":2,\"linecolor\":\"white\",\"showbackground\":true,\"ticks\":\"\",\"zerolinecolor\":\"white\"},\"zaxis\":{\"backgroundcolor\":\"#E5ECF6\",\"gridcolor\":\"white\",\"gridwidth\":2,\"linecolor\":\"white\",\"showbackground\":true,\"ticks\":\"\",\"zerolinecolor\":\"white\"}},\"shapedefaults\":{\"line\":{\"color\":\"#2a3f5f\"}},\"ternary\":{\"aaxis\":{\"gridcolor\":\"white\",\"linecolor\":\"white\",\"ticks\":\"\"},\"baxis\":{\"gridcolor\":\"white\",\"linecolor\":\"white\",\"ticks\":\"\"},\"bgcolor\":\"#E5ECF6\",\"caxis\":{\"gridcolor\":\"white\",\"linecolor\":\"white\",\"ticks\":\"\"}},\"title\":{\"x\":0.05},\"xaxis\":{\"automargin\":true,\"gridcolor\":\"white\",\"linecolor\":\"white\",\"ticks\":\"\",\"title\":{\"standoff\":15},\"zerolinecolor\":\"white\",\"zerolinewidth\":2},\"yaxis\":{\"automargin\":true,\"gridcolor\":\"white\",\"linecolor\":\"white\",\"ticks\":\"\",\"title\":{\"standoff\":15},\"zerolinecolor\":\"white\",\"zerolinewidth\":2}}},\"xaxis\":{\"anchor\":\"y\",\"domain\":[0.0,0.2375],\"showticklabels\":false},\"yaxis\":{\"anchor\":\"x\",\"domain\":[0.7575000000000001,1.0],\"tickvals\":[1,2,3,4,5,6,7,8],\"autorange\":\"reversed\"},\"xaxis2\":{\"anchor\":\"y2\",\"domain\":[0.2475,0.485],\"showticklabels\":false},\"yaxis2\":{\"anchor\":\"x2\",\"domain\":[0.7575000000000001,1.0],\"matches\":\"y\",\"showticklabels\":false,\"tickvals\":[1,2,3,4,5,6,7,8],\"autorange\":\"reversed\"},\"xaxis3\":{\"anchor\":\"y3\",\"domain\":[0.495,0.7324999999999999],\"showticklabels\":false},\"yaxis3\":{\"anchor\":\"x3\",\"domain\":[0.7575000000000001,1.0],\"matches\":\"y\",\"showticklabels\":false,\"tickvals\":[1,2,3,4,5,6,7,8],\"autorange\":\"reversed\"},\"xaxis4\":{\"anchor\":\"y4\",\"domain\":[0.7424999999999999,0.98],\"showticklabels\":false},\"yaxis4\":{\"anchor\":\"x4\",\"domain\":[0.7575000000000001,1.0],\"matches\":\"y\",\"showticklabels\":false,\"tickvals\":[1,2,3,4,5,6,7,8],\"autorange\":\"reversed\"},\"xaxis5\":{\"anchor\":\"y5\",\"domain\":[0.0,0.2375],\"showticklabels\":false},\"yaxis5\":{\"anchor\":\"x5\",\"domain\":[0.505,0.7475],\"tickvals\":[1,2,3,4,5,6,7,8],\"autorange\":\"reversed\"},\"xaxis6\":{\"anchor\":\"y6\",\"domain\":[0.2475,0.485],\"showticklabels\":false},\"yaxis6\":{\"anchor\":\"x6\",\"domain\":[0.505,0.7475],\"matches\":\"y5\",\"showticklabels\":false,\"tickvals\":[1,2,3,4,5,6,7,8],\"autorange\":\"reversed\"},\"xaxis7\":{\"anchor\":\"y7\",\"domain\":[0.495,0.7324999999999999],\"showticklabels\":false},\"yaxis7\":{\"anchor\":\"x7\",\"domain\":[0.505,0.7475],\"matches\":\"y5\",\"showticklabels\":false,\"tickvals\":[1,2,3,4,5,6,7,8],\"autorange\":\"reversed\"},\"xaxis8\":{\"anchor\":\"y8\",\"domain\":[0.7424999999999999,0.98],\"showticklabels\":false},\"yaxis8\":{\"anchor\":\"x8\",\"domain\":[0.505,0.7475],\"matches\":\"y5\",\"showticklabels\":false,\"tickvals\":[1,2,3,4,5,6,7,8],\"autorange\":\"reversed\"},\"xaxis9\":{\"anchor\":\"y9\",\"domain\":[0.0,0.2375],\"showticklabels\":false},\"yaxis9\":{\"anchor\":\"x9\",\"domain\":[0.2525,0.495],\"tickvals\":[1,2,3,4,5,6,7,8],\"autorange\":\"reversed\"},\"xaxis10\":{\"anchor\":\"y10\",\"domain\":[0.2475,0.485],\"showticklabels\":false},\"yaxis10\":{\"anchor\":\"x10\",\"domain\":[0.2525,0.495],\"matches\":\"y9\",\"showticklabels\":false,\"tickvals\":[1,2,3,4,5,6,7,8],\"autorange\":\"reversed\"},\"xaxis11\":{\"anchor\":\"y11\",\"domain\":[0.495,0.7324999999999999],\"showticklabels\":false},\"yaxis11\":{\"anchor\":\"x11\",\"domain\":[0.2525,0.495],\"matches\":\"y9\",\"showticklabels\":false,\"tickvals\":[1,2,3,4,5,6,7,8],\"autorange\":\"reversed\"},\"xaxis12\":{\"anchor\":\"y12\",\"domain\":[0.7424999999999999,0.98],\"showticklabels\":false},\"yaxis12\":{\"anchor\":\"x12\",\"domain\":[0.2525,0.495],\"matches\":\"y9\",\"showticklabels\":false,\"tickvals\":[1,2,3,4,5,6,7,8],\"autorange\":\"reversed\"},\"xaxis13\":{\"anchor\":\"y13\",\"domain\":[0.0,0.2375],\"showticklabels\":false},\"yaxis13\":{\"anchor\":\"x13\",\"domain\":[0.0,0.2425],\"tickvals\":[1,2,3,4,5,6,7,8],\"autorange\":\"reversed\"},\"xaxis14\":{\"anchor\":\"y14\",\"domain\":[0.2475,0.485],\"showticklabels\":false},\"yaxis14\":{\"anchor\":\"x14\",\"domain\":[0.0,0.2425],\"matches\":\"y13\",\"showticklabels\":false,\"tickvals\":[1,2,3,4,5,6,7,8],\"autorange\":\"reversed\"},\"xaxis15\":{\"anchor\":\"y15\",\"domain\":[0.495,0.7324999999999999],\"showticklabels\":false},\"yaxis15\":{\"anchor\":\"x15\",\"domain\":[0.0,0.2425],\"matches\":\"y13\",\"showticklabels\":false,\"tickvals\":[1,2,3,4,5,6,7,8],\"autorange\":\"reversed\"},\"xaxis16\":{\"anchor\":\"y16\",\"domain\":[0.7424999999999999,0.98],\"showticklabels\":false},\"yaxis16\":{\"anchor\":\"x16\",\"domain\":[0.0,0.2425],\"matches\":\"y13\",\"showticklabels\":false,\"tickvals\":[1,2,3,4,5,6,7,8],\"autorange\":\"reversed\"},\"annotations\":[{\"font\":{\"size\":20},\"showarrow\":false,\"text\":\"Regret\",\"x\":0.11875,\"xanchor\":\"center\",\"xref\":\"paper\",\"y\":1.0,\"yanchor\":\"bottom\",\"yref\":\"paper\"},{\"font\":{\"size\":20},\"showarrow\":false,\"text\":\"Percentile\",\"x\":0.36624999999999996,\"xanchor\":\"center\",\"xref\":\"paper\",\"y\":1.0,\"yanchor\":\"bottom\",\"yref\":\"paper\"},{\"font\":{\"size\":20},\"showarrow\":false,\"text\":\"Improvement\",\"x\":0.61375,\"xanchor\":\"center\",\"xref\":\"paper\",\"y\":1.0,\"yanchor\":\"bottom\",\"yref\":\"paper\"},{\"font\":{\"size\":20},\"showarrow\":false,\"text\":\"Weightedtau\",\"x\":0.86125,\"xanchor\":\"center\",\"xref\":\"paper\",\"y\":1.0,\"yanchor\":\"bottom\",\"yref\":\"paper\"},{\"font\":{\"size\":20},\"showarrow\":false,\"text\":\"Model\\u003cbr\\u003eArchitecture\",\"textangle\":90,\"x\":0.98,\"xanchor\":\"left\",\"xref\":\"paper\",\"y\":0.87875,\"yanchor\":\"middle\",\"yref\":\"paper\"},{\"font\":{\"size\":20},\"showarrow\":false,\"text\":\"Pretraining\\u003cbr\\u003eData\",\"textangle\":90,\"x\":0.98,\"xanchor\":\"left\",\"xref\":\"paper\",\"y\":0.62625,\"yanchor\":\"middle\",\"yref\":\"paper\"},{\"font\":{\"size\":20},\"showarrow\":false,\"text\":\"Augmentation\\u003cbr\\u003ePolicy\",\"textangle\":90,\"x\":0.98,\"xanchor\":\"left\",\"xref\":\"paper\",\"y\":0.37375,\"yanchor\":\"middle\",\"yref\":\"paper\"},{\"font\":{\"size\":20},\"showarrow\":false,\"text\":\"Co-Training\\u003cbr\\u003eData\",\"textangle\":90,\"x\":0.98,\"xanchor\":\"left\",\"xref\":\"paper\",\"y\":0.12125,\"yanchor\":\"middle\",\"yref\":\"paper\"},{\"font\":{\"size\":20},\"showarrow\":false,\"text\":\"Rank\",\"textangle\":-90,\"x\":0,\"xanchor\":\"right\",\"xref\":\"paper\",\"xshift\":-40,\"y\":0.5,\"yanchor\":\"middle\",\"yref\":\"paper\"}],\"font\":{\"size\":20},\"height\":1000,\"width\":1200,\"legend\":{\"title\":{\"text\":\"Task selector\"},\"x\":1.08}},                        {\"responsive\": true}                    ).then(function(){\n",
       "                            \n",
       "var gd = document.getElementById('8bf402bb-5c32-490d-ad26-8b9d4b5f5a63');\n",
       "var x = new MutationObserver(function (mutations, observer) {{\n",
       "        var display = window.getComputedStyle(gd).display;\n",
       "        if (!display || display === 'none') {{\n",
       "            console.log([gd, 'removed!']);\n",
       "            Plotly.purge(gd);\n",
       "            observer.disconnect();\n",
       "        }}\n",
       "}});\n",
       "\n",
       "// Listen for the removal of the full notebook cells\n",
       "var notebookContainer = gd.closest('#notebook-container');\n",
       "if (notebookContainer) {{\n",
       "    x.observe(notebookContainer, {childList: true});\n",
       "}}\n",
       "\n",
       "// Listen for the clearing of the current output cell\n",
       "var outputEl = gd.closest('.output');\n",
       "if (outputEl) {{\n",
       "    x.observe(outputEl, {childList: true});\n",
       "}}\n",
       "\n",
       "                        })                };                });            </script>        </div>"
      ]
     },
     "metadata": {},
     "output_type": "display_data"
    }
   ],
   "execution_count": 61
  },
  {
   "metadata": {},
   "cell_type": "markdown",
   "source": "Based on the statistics (gathered in `statistics_collector`) we can compute the upper part.",
   "id": "a89e9c08ed351dcd"
  },
  {
   "metadata": {
    "ExecuteTime": {
     "end_time": "2024-10-10T20:04:13.122457Z",
     "start_time": "2024-10-10T20:04:13.107562Z"
    }
   },
   "cell_type": "code",
   "source": [
    "all_rank_series = [frame.set_index('algorithm')['mean_rank'] for frame in statistics_collector]\n",
    "stats_df = pd.DataFrame(all_rank_series)\n",
    "mean_stats_series = stats_df.mean()\n",
    "mean_stats_series.name = 'mean'\n",
    "std_stats_series = stats_df.std()\n",
    "std_stats_series.name = 'std'\n",
    "plot_df = pd.DataFrame([mean_stats_series, std_stats_series])\n",
    "plot_df = plot_df.T.sort_values(by='mean', ascending=False)\n",
    "plot_df.reset_index(inplace=True)"
   ],
   "id": "d5efc11128a238c9",
   "outputs": [],
   "execution_count": 62
  },
  {
   "metadata": {
    "ExecuteTime": {
     "end_time": "2024-10-10T20:07:55.352708Z",
     "start_time": "2024-10-10T20:07:55.188888Z"
    }
   },
   "cell_type": "code",
   "source": [
    "fig = px.scatter(plot_df, x='algorithm', y='mean', error_y='std', color_discrete_map=color_map, color='algorithm',\n",
    "                     symbol='algorithm', symbol_map=symbol_map, size=[7]*len(plot_df), labels={'algorithm': 'Task selector', 'mean': 'Mean rank'}\n",
    "                  )\n",
    "fig.update_layout(template='plotly', font_size=20, width=1200, height=500)\n",
    "fig.for_each_yaxis(lambda a: a.update(tickvals=list(range(1, len(comp_distances) +1)), autorange='reversed' if _inverted else True))\n",
    "fig.update_layout(showlegend=False)  # omit legend\n",
    "fig.update_xaxes({'tickvals': ['']*len(comp_distances)})  # remove labels\n",
    "fig.write_image(FIG_PATH / 'fig_5_top.png', engine='kaleido')\n",
    "fig.write_image(FIG_PATH / 'fig_5_top.pdf', engine='kaleido')\n",
    "fig.show()"
   ],
   "id": "731884d041f98061",
   "outputs": [
    {
     "data": {
      "application/vnd.plotly.v1+json": {
       "data": [
        {
         "error_y": {
          "array": [
           1.736226617313151
          ]
         },
         "hovertemplate": "Task selector=%{x}<br>Mean rank=%{y}<br>size=%{marker.size}<extra></extra>",
         "legendgroup": "FED",
         "marker": {
          "color": "rgb(245, 130, 49)",
          "size": [
           7
          ],
          "sizemode": "area",
          "sizeref": 0.0175,
          "symbol": "circle"
         },
         "mode": "markers",
         "name": "FED",
         "orientation": "v",
         "showlegend": true,
         "x": [
          "FED"
         ],
         "xaxis": "x",
         "y": [
          5.60325
         ],
         "yaxis": "y",
         "type": "scatter"
        },
        {
         "error_y": {
          "array": [
           2.09860244666937
          ]
         },
         "hovertemplate": "Task selector=%{x}<br>Mean rank=%{y}<br>size=%{marker.size}<extra></extra>",
         "legendgroup": "Manual",
         "marker": {
          "color": "rgb(230, 25, 75)",
          "size": [
           7
          ],
          "sizemode": "area",
          "sizeref": 0.0175,
          "symbol": "circle"
         },
         "mode": "markers",
         "name": "Manual",
         "orientation": "v",
         "showlegend": true,
         "x": [
          "Manual"
         ],
         "xaxis": "x",
         "y": [
          5.4333124999999995
         ],
         "yaxis": "y",
         "type": "scatter"
        },
        {
         "error_y": {
          "array": [
           1.1372165416049838
          ]
         },
         "hovertemplate": "Task selector=%{x}<br>Mean rank=%{y}<br>size=%{marker.size}<extra></extra>",
         "legendgroup": "P2L (w/o samples)",
         "marker": {
          "color": "rgb(70, 240, 240)",
          "size": [
           7
          ],
          "sizemode": "area",
          "sizeref": 0.0175,
          "symbol": "circle"
         },
         "mode": "markers",
         "name": "P2L (w/o samples)",
         "orientation": "v",
         "showlegend": true,
         "x": [
          "P2L (w/o samples)"
         ],
         "xaxis": "x",
         "y": [
          5.3984375
         ],
         "yaxis": "y",
         "type": "scatter"
        },
        {
         "error_y": {
          "array": [
           1.501542939778946
          ]
         },
         "hovertemplate": "Task selector=%{x}<br>Mean rank=%{y}<br>size=%{marker.size}<extra></extra>",
         "legendgroup": "VDNA",
         "marker": {
          "color": "rgb(67, 99, 216)",
          "size": [
           7
          ],
          "sizemode": "area",
          "sizeref": 0.0175,
          "symbol": "circle"
         },
         "mode": "markers",
         "name": "VDNA",
         "orientation": "v",
         "showlegend": true,
         "x": [
          "VDNA"
         ],
         "xaxis": "x",
         "y": [
          4.788
         ],
         "yaxis": "y",
         "type": "scatter"
        },
        {
         "error_y": {
          "array": [
           1.1991496692100894
          ]
         },
         "hovertemplate": "Task selector=%{x}<br>Mean rank=%{y}<br>size=%{marker.size}<extra></extra>",
         "legendgroup": "FID",
         "marker": {
          "color": "rgb(145, 30, 180)",
          "size": [
           7
          ],
          "sizemode": "area",
          "sizeref": 0.0175,
          "symbol": "circle"
         },
         "mode": "markers",
         "name": "FID",
         "orientation": "v",
         "showlegend": true,
         "x": [
          "FID"
         ],
         "xaxis": "x",
         "y": [
          4.6050625
         ],
         "yaxis": "y",
         "type": "scatter"
        },
        {
         "error_y": {
          "array": [
           2.8061539248587204
          ]
         },
         "hovertemplate": "Task selector=%{x}<br>Mean rank=%{y}<br>size=%{marker.size}<extra></extra>",
         "legendgroup": "bKLD(large,source)",
         "marker": {
          "color": "rgb(60, 180, 75)",
          "size": [
           7
          ],
          "sizemode": "area",
          "sizeref": 0.0175,
          "symbol": "hexagon"
         },
         "mode": "markers",
         "name": "bKLD(large,source)",
         "orientation": "v",
         "showlegend": true,
         "x": [
          "bKLD(large,source)"
         ],
         "xaxis": "x",
         "y": [
          4.131375
         ],
         "yaxis": "y",
         "type": "scatter"
        },
        {
         "error_y": {
          "array": [
           1.5028322923594413
          ]
         },
         "hovertemplate": "Task selector=%{x}<br>Mean rank=%{y}<br>size=%{marker.size}<extra></extra>",
         "legendgroup": "bKLD(large,unweighted)",
         "marker": {
          "color": "rgb(60, 180, 75)",
          "size": [
           7
          ],
          "sizemode": "area",
          "sizeref": 0.0175,
          "symbol": "hexagram"
         },
         "mode": "markers",
         "name": "bKLD(large,unweighted)",
         "orientation": "v",
         "showlegend": true,
         "x": [
          "bKLD(large,unweighted)"
         ],
         "xaxis": "x",
         "y": [
          3.15378125
         ],
         "yaxis": "y",
         "type": "scatter"
        },
        {
         "error_y": {
          "array": [
           1.84185364030144
          ]
         },
         "hovertemplate": "Task selector=%{x}<br>Mean rank=%{y}<br>size=%{marker.size}<extra></extra>",
         "legendgroup": "bKLD(small,target)",
         "marker": {
          "color": "rgb(60, 180, 75)",
          "size": [
           7
          ],
          "sizemode": "area",
          "sizeref": 0.0175,
          "symbol": "circle"
         },
         "mode": "markers",
         "name": "bKLD(small,target)",
         "orientation": "v",
         "showlegend": true,
         "x": [
          "bKLD(small,target)"
         ],
         "xaxis": "x",
         "y": [
          2.8867812500000003
         ],
         "yaxis": "y",
         "type": "scatter"
        }
       ],
       "layout": {
        "template": {
         "data": {
          "barpolar": [
           {
            "marker": {
             "line": {
              "color": "#E5ECF6",
              "width": 0.5
             },
             "pattern": {
              "fillmode": "overlay",
              "size": 10,
              "solidity": 0.2
             }
            },
            "type": "barpolar"
           }
          ],
          "bar": [
           {
            "error_x": {
             "color": "#2a3f5f"
            },
            "error_y": {
             "color": "#2a3f5f"
            },
            "marker": {
             "line": {
              "color": "#E5ECF6",
              "width": 0.5
             },
             "pattern": {
              "fillmode": "overlay",
              "size": 10,
              "solidity": 0.2
             }
            },
            "type": "bar"
           }
          ],
          "carpet": [
           {
            "aaxis": {
             "endlinecolor": "#2a3f5f",
             "gridcolor": "white",
             "linecolor": "white",
             "minorgridcolor": "white",
             "startlinecolor": "#2a3f5f"
            },
            "baxis": {
             "endlinecolor": "#2a3f5f",
             "gridcolor": "white",
             "linecolor": "white",
             "minorgridcolor": "white",
             "startlinecolor": "#2a3f5f"
            },
            "type": "carpet"
           }
          ],
          "choropleth": [
           {
            "colorbar": {
             "outlinewidth": 0,
             "ticks": ""
            },
            "type": "choropleth"
           }
          ],
          "contourcarpet": [
           {
            "colorbar": {
             "outlinewidth": 0,
             "ticks": ""
            },
            "type": "contourcarpet"
           }
          ],
          "contour": [
           {
            "colorbar": {
             "outlinewidth": 0,
             "ticks": ""
            },
            "colorscale": [
             [
              0.0,
              "#0d0887"
             ],
             [
              0.1111111111111111,
              "#46039f"
             ],
             [
              0.2222222222222222,
              "#7201a8"
             ],
             [
              0.3333333333333333,
              "#9c179e"
             ],
             [
              0.4444444444444444,
              "#bd3786"
             ],
             [
              0.5555555555555556,
              "#d8576b"
             ],
             [
              0.6666666666666666,
              "#ed7953"
             ],
             [
              0.7777777777777778,
              "#fb9f3a"
             ],
             [
              0.8888888888888888,
              "#fdca26"
             ],
             [
              1.0,
              "#f0f921"
             ]
            ],
            "type": "contour"
           }
          ],
          "heatmapgl": [
           {
            "colorbar": {
             "outlinewidth": 0,
             "ticks": ""
            },
            "colorscale": [
             [
              0.0,
              "#0d0887"
             ],
             [
              0.1111111111111111,
              "#46039f"
             ],
             [
              0.2222222222222222,
              "#7201a8"
             ],
             [
              0.3333333333333333,
              "#9c179e"
             ],
             [
              0.4444444444444444,
              "#bd3786"
             ],
             [
              0.5555555555555556,
              "#d8576b"
             ],
             [
              0.6666666666666666,
              "#ed7953"
             ],
             [
              0.7777777777777778,
              "#fb9f3a"
             ],
             [
              0.8888888888888888,
              "#fdca26"
             ],
             [
              1.0,
              "#f0f921"
             ]
            ],
            "type": "heatmapgl"
           }
          ],
          "heatmap": [
           {
            "colorbar": {
             "outlinewidth": 0,
             "ticks": ""
            },
            "colorscale": [
             [
              0.0,
              "#0d0887"
             ],
             [
              0.1111111111111111,
              "#46039f"
             ],
             [
              0.2222222222222222,
              "#7201a8"
             ],
             [
              0.3333333333333333,
              "#9c179e"
             ],
             [
              0.4444444444444444,
              "#bd3786"
             ],
             [
              0.5555555555555556,
              "#d8576b"
             ],
             [
              0.6666666666666666,
              "#ed7953"
             ],
             [
              0.7777777777777778,
              "#fb9f3a"
             ],
             [
              0.8888888888888888,
              "#fdca26"
             ],
             [
              1.0,
              "#f0f921"
             ]
            ],
            "type": "heatmap"
           }
          ],
          "histogram2dcontour": [
           {
            "colorbar": {
             "outlinewidth": 0,
             "ticks": ""
            },
            "colorscale": [
             [
              0.0,
              "#0d0887"
             ],
             [
              0.1111111111111111,
              "#46039f"
             ],
             [
              0.2222222222222222,
              "#7201a8"
             ],
             [
              0.3333333333333333,
              "#9c179e"
             ],
             [
              0.4444444444444444,
              "#bd3786"
             ],
             [
              0.5555555555555556,
              "#d8576b"
             ],
             [
              0.6666666666666666,
              "#ed7953"
             ],
             [
              0.7777777777777778,
              "#fb9f3a"
             ],
             [
              0.8888888888888888,
              "#fdca26"
             ],
             [
              1.0,
              "#f0f921"
             ]
            ],
            "type": "histogram2dcontour"
           }
          ],
          "histogram2d": [
           {
            "colorbar": {
             "outlinewidth": 0,
             "ticks": ""
            },
            "colorscale": [
             [
              0.0,
              "#0d0887"
             ],
             [
              0.1111111111111111,
              "#46039f"
             ],
             [
              0.2222222222222222,
              "#7201a8"
             ],
             [
              0.3333333333333333,
              "#9c179e"
             ],
             [
              0.4444444444444444,
              "#bd3786"
             ],
             [
              0.5555555555555556,
              "#d8576b"
             ],
             [
              0.6666666666666666,
              "#ed7953"
             ],
             [
              0.7777777777777778,
              "#fb9f3a"
             ],
             [
              0.8888888888888888,
              "#fdca26"
             ],
             [
              1.0,
              "#f0f921"
             ]
            ],
            "type": "histogram2d"
           }
          ],
          "histogram": [
           {
            "marker": {
             "pattern": {
              "fillmode": "overlay",
              "size": 10,
              "solidity": 0.2
             }
            },
            "type": "histogram"
           }
          ],
          "mesh3d": [
           {
            "colorbar": {
             "outlinewidth": 0,
             "ticks": ""
            },
            "type": "mesh3d"
           }
          ],
          "parcoords": [
           {
            "line": {
             "colorbar": {
              "outlinewidth": 0,
              "ticks": ""
             }
            },
            "type": "parcoords"
           }
          ],
          "pie": [
           {
            "automargin": true,
            "type": "pie"
           }
          ],
          "scatter3d": [
           {
            "line": {
             "colorbar": {
              "outlinewidth": 0,
              "ticks": ""
             }
            },
            "marker": {
             "colorbar": {
              "outlinewidth": 0,
              "ticks": ""
             }
            },
            "type": "scatter3d"
           }
          ],
          "scattercarpet": [
           {
            "marker": {
             "colorbar": {
              "outlinewidth": 0,
              "ticks": ""
             }
            },
            "type": "scattercarpet"
           }
          ],
          "scattergeo": [
           {
            "marker": {
             "colorbar": {
              "outlinewidth": 0,
              "ticks": ""
             }
            },
            "type": "scattergeo"
           }
          ],
          "scattergl": [
           {
            "marker": {
             "colorbar": {
              "outlinewidth": 0,
              "ticks": ""
             }
            },
            "type": "scattergl"
           }
          ],
          "scattermapbox": [
           {
            "marker": {
             "colorbar": {
              "outlinewidth": 0,
              "ticks": ""
             }
            },
            "type": "scattermapbox"
           }
          ],
          "scatterpolargl": [
           {
            "marker": {
             "colorbar": {
              "outlinewidth": 0,
              "ticks": ""
             }
            },
            "type": "scatterpolargl"
           }
          ],
          "scatterpolar": [
           {
            "marker": {
             "colorbar": {
              "outlinewidth": 0,
              "ticks": ""
             }
            },
            "type": "scatterpolar"
           }
          ],
          "scatter": [
           {
            "fillpattern": {
             "fillmode": "overlay",
             "size": 10,
             "solidity": 0.2
            },
            "type": "scatter"
           }
          ],
          "scatterternary": [
           {
            "marker": {
             "colorbar": {
              "outlinewidth": 0,
              "ticks": ""
             }
            },
            "type": "scatterternary"
           }
          ],
          "surface": [
           {
            "colorbar": {
             "outlinewidth": 0,
             "ticks": ""
            },
            "colorscale": [
             [
              0.0,
              "#0d0887"
             ],
             [
              0.1111111111111111,
              "#46039f"
             ],
             [
              0.2222222222222222,
              "#7201a8"
             ],
             [
              0.3333333333333333,
              "#9c179e"
             ],
             [
              0.4444444444444444,
              "#bd3786"
             ],
             [
              0.5555555555555556,
              "#d8576b"
             ],
             [
              0.6666666666666666,
              "#ed7953"
             ],
             [
              0.7777777777777778,
              "#fb9f3a"
             ],
             [
              0.8888888888888888,
              "#fdca26"
             ],
             [
              1.0,
              "#f0f921"
             ]
            ],
            "type": "surface"
           }
          ],
          "table": [
           {
            "cells": {
             "fill": {
              "color": "#EBF0F8"
             },
             "line": {
              "color": "white"
             }
            },
            "header": {
             "fill": {
              "color": "#C8D4E3"
             },
             "line": {
              "color": "white"
             }
            },
            "type": "table"
           }
          ]
         },
         "layout": {
          "annotationdefaults": {
           "arrowcolor": "#2a3f5f",
           "arrowhead": 0,
           "arrowwidth": 1
          },
          "autotypenumbers": "strict",
          "coloraxis": {
           "colorbar": {
            "outlinewidth": 0,
            "ticks": ""
           }
          },
          "colorscale": {
           "diverging": [
            [
             0,
             "#8e0152"
            ],
            [
             0.1,
             "#c51b7d"
            ],
            [
             0.2,
             "#de77ae"
            ],
            [
             0.3,
             "#f1b6da"
            ],
            [
             0.4,
             "#fde0ef"
            ],
            [
             0.5,
             "#f7f7f7"
            ],
            [
             0.6,
             "#e6f5d0"
            ],
            [
             0.7,
             "#b8e186"
            ],
            [
             0.8,
             "#7fbc41"
            ],
            [
             0.9,
             "#4d9221"
            ],
            [
             1,
             "#276419"
            ]
           ],
           "sequential": [
            [
             0.0,
             "#0d0887"
            ],
            [
             0.1111111111111111,
             "#46039f"
            ],
            [
             0.2222222222222222,
             "#7201a8"
            ],
            [
             0.3333333333333333,
             "#9c179e"
            ],
            [
             0.4444444444444444,
             "#bd3786"
            ],
            [
             0.5555555555555556,
             "#d8576b"
            ],
            [
             0.6666666666666666,
             "#ed7953"
            ],
            [
             0.7777777777777778,
             "#fb9f3a"
            ],
            [
             0.8888888888888888,
             "#fdca26"
            ],
            [
             1.0,
             "#f0f921"
            ]
           ],
           "sequentialminus": [
            [
             0.0,
             "#0d0887"
            ],
            [
             0.1111111111111111,
             "#46039f"
            ],
            [
             0.2222222222222222,
             "#7201a8"
            ],
            [
             0.3333333333333333,
             "#9c179e"
            ],
            [
             0.4444444444444444,
             "#bd3786"
            ],
            [
             0.5555555555555556,
             "#d8576b"
            ],
            [
             0.6666666666666666,
             "#ed7953"
            ],
            [
             0.7777777777777778,
             "#fb9f3a"
            ],
            [
             0.8888888888888888,
             "#fdca26"
            ],
            [
             1.0,
             "#f0f921"
            ]
           ]
          },
          "colorway": [
           "#636efa",
           "#EF553B",
           "#00cc96",
           "#ab63fa",
           "#FFA15A",
           "#19d3f3",
           "#FF6692",
           "#B6E880",
           "#FF97FF",
           "#FECB52"
          ],
          "font": {
           "color": "#2a3f5f"
          },
          "geo": {
           "bgcolor": "white",
           "lakecolor": "white",
           "landcolor": "#E5ECF6",
           "showlakes": true,
           "showland": true,
           "subunitcolor": "white"
          },
          "hoverlabel": {
           "align": "left"
          },
          "hovermode": "closest",
          "mapbox": {
           "style": "light"
          },
          "paper_bgcolor": "white",
          "plot_bgcolor": "#E5ECF6",
          "polar": {
           "angularaxis": {
            "gridcolor": "white",
            "linecolor": "white",
            "ticks": ""
           },
           "bgcolor": "#E5ECF6",
           "radialaxis": {
            "gridcolor": "white",
            "linecolor": "white",
            "ticks": ""
           }
          },
          "scene": {
           "xaxis": {
            "backgroundcolor": "#E5ECF6",
            "gridcolor": "white",
            "gridwidth": 2,
            "linecolor": "white",
            "showbackground": true,
            "ticks": "",
            "zerolinecolor": "white"
           },
           "yaxis": {
            "backgroundcolor": "#E5ECF6",
            "gridcolor": "white",
            "gridwidth": 2,
            "linecolor": "white",
            "showbackground": true,
            "ticks": "",
            "zerolinecolor": "white"
           },
           "zaxis": {
            "backgroundcolor": "#E5ECF6",
            "gridcolor": "white",
            "gridwidth": 2,
            "linecolor": "white",
            "showbackground": true,
            "ticks": "",
            "zerolinecolor": "white"
           }
          },
          "shapedefaults": {
           "line": {
            "color": "#2a3f5f"
           }
          },
          "ternary": {
           "aaxis": {
            "gridcolor": "white",
            "linecolor": "white",
            "ticks": ""
           },
           "baxis": {
            "gridcolor": "white",
            "linecolor": "white",
            "ticks": ""
           },
           "bgcolor": "#E5ECF6",
           "caxis": {
            "gridcolor": "white",
            "linecolor": "white",
            "ticks": ""
           }
          },
          "title": {
           "x": 0.05
          },
          "xaxis": {
           "automargin": true,
           "gridcolor": "white",
           "linecolor": "white",
           "ticks": "",
           "title": {
            "standoff": 15
           },
           "zerolinecolor": "white",
           "zerolinewidth": 2
          },
          "yaxis": {
           "automargin": true,
           "gridcolor": "white",
           "linecolor": "white",
           "ticks": "",
           "title": {
            "standoff": 15
           },
           "zerolinecolor": "white",
           "zerolinewidth": 2
          }
         }
        },
        "xaxis": {
         "anchor": "y",
         "domain": [
          0.0,
          1.0
         ],
         "title": {
          "text": "Task selector"
         },
         "categoryorder": "array",
         "categoryarray": [
          "FED",
          "Manual",
          "P2L (w/o samples)",
          "VDNA",
          "FID",
          "bKLD(large,source)",
          "bKLD(large,unweighted)",
          "bKLD(small,target)"
         ],
         "tickvals": [
          "",
          "",
          "",
          "",
          "",
          "",
          "",
          ""
         ]
        },
        "yaxis": {
         "anchor": "x",
         "domain": [
          0.0,
          1.0
         ],
         "title": {
          "text": "Mean rank"
         },
         "tickvals": [
          1,
          2,
          3,
          4,
          5,
          6,
          7,
          8
         ],
         "autorange": "reversed"
        },
        "legend": {
         "title": {
          "text": "Task selector"
         },
         "tracegroupgap": 0,
         "itemsizing": "constant"
        },
        "margin": {
         "t": 60
        },
        "font": {
         "size": 20
        },
        "width": 1200,
        "height": 500,
        "showlegend": false
       },
       "config": {
        "plotlyServerURL": "https://plot.ly"
       }
      },
      "text/html": [
       "<div>                            <div id=\"cc590a57-43a2-46f8-9116-4f6bd20a5862\" class=\"plotly-graph-div\" style=\"height:500px; width:1200px;\"></div>            <script type=\"text/javascript\">                require([\"plotly\"], function(Plotly) {                    window.PLOTLYENV=window.PLOTLYENV || {};                                    if (document.getElementById(\"cc590a57-43a2-46f8-9116-4f6bd20a5862\")) {                    Plotly.newPlot(                        \"cc590a57-43a2-46f8-9116-4f6bd20a5862\",                        [{\"error_y\":{\"array\":[1.736226617313151]},\"hovertemplate\":\"Task selector=%{x}\\u003cbr\\u003eMean rank=%{y}\\u003cbr\\u003esize=%{marker.size}\\u003cextra\\u003e\\u003c\\u002fextra\\u003e\",\"legendgroup\":\"FED\",\"marker\":{\"color\":\"rgb(245, 130, 49)\",\"size\":[7],\"sizemode\":\"area\",\"sizeref\":0.0175,\"symbol\":\"circle\"},\"mode\":\"markers\",\"name\":\"FED\",\"orientation\":\"v\",\"showlegend\":true,\"x\":[\"FED\"],\"xaxis\":\"x\",\"y\":[5.60325],\"yaxis\":\"y\",\"type\":\"scatter\"},{\"error_y\":{\"array\":[2.09860244666937]},\"hovertemplate\":\"Task selector=%{x}\\u003cbr\\u003eMean rank=%{y}\\u003cbr\\u003esize=%{marker.size}\\u003cextra\\u003e\\u003c\\u002fextra\\u003e\",\"legendgroup\":\"Manual\",\"marker\":{\"color\":\"rgb(230, 25, 75)\",\"size\":[7],\"sizemode\":\"area\",\"sizeref\":0.0175,\"symbol\":\"circle\"},\"mode\":\"markers\",\"name\":\"Manual\",\"orientation\":\"v\",\"showlegend\":true,\"x\":[\"Manual\"],\"xaxis\":\"x\",\"y\":[5.4333124999999995],\"yaxis\":\"y\",\"type\":\"scatter\"},{\"error_y\":{\"array\":[1.1372165416049838]},\"hovertemplate\":\"Task selector=%{x}\\u003cbr\\u003eMean rank=%{y}\\u003cbr\\u003esize=%{marker.size}\\u003cextra\\u003e\\u003c\\u002fextra\\u003e\",\"legendgroup\":\"P2L (w\\u002fo samples)\",\"marker\":{\"color\":\"rgb(70, 240, 240)\",\"size\":[7],\"sizemode\":\"area\",\"sizeref\":0.0175,\"symbol\":\"circle\"},\"mode\":\"markers\",\"name\":\"P2L (w\\u002fo samples)\",\"orientation\":\"v\",\"showlegend\":true,\"x\":[\"P2L (w\\u002fo samples)\"],\"xaxis\":\"x\",\"y\":[5.3984375],\"yaxis\":\"y\",\"type\":\"scatter\"},{\"error_y\":{\"array\":[1.501542939778946]},\"hovertemplate\":\"Task selector=%{x}\\u003cbr\\u003eMean rank=%{y}\\u003cbr\\u003esize=%{marker.size}\\u003cextra\\u003e\\u003c\\u002fextra\\u003e\",\"legendgroup\":\"VDNA\",\"marker\":{\"color\":\"rgb(67, 99, 216)\",\"size\":[7],\"sizemode\":\"area\",\"sizeref\":0.0175,\"symbol\":\"circle\"},\"mode\":\"markers\",\"name\":\"VDNA\",\"orientation\":\"v\",\"showlegend\":true,\"x\":[\"VDNA\"],\"xaxis\":\"x\",\"y\":[4.788],\"yaxis\":\"y\",\"type\":\"scatter\"},{\"error_y\":{\"array\":[1.1991496692100894]},\"hovertemplate\":\"Task selector=%{x}\\u003cbr\\u003eMean rank=%{y}\\u003cbr\\u003esize=%{marker.size}\\u003cextra\\u003e\\u003c\\u002fextra\\u003e\",\"legendgroup\":\"FID\",\"marker\":{\"color\":\"rgb(145, 30, 180)\",\"size\":[7],\"sizemode\":\"area\",\"sizeref\":0.0175,\"symbol\":\"circle\"},\"mode\":\"markers\",\"name\":\"FID\",\"orientation\":\"v\",\"showlegend\":true,\"x\":[\"FID\"],\"xaxis\":\"x\",\"y\":[4.6050625],\"yaxis\":\"y\",\"type\":\"scatter\"},{\"error_y\":{\"array\":[2.8061539248587204]},\"hovertemplate\":\"Task selector=%{x}\\u003cbr\\u003eMean rank=%{y}\\u003cbr\\u003esize=%{marker.size}\\u003cextra\\u003e\\u003c\\u002fextra\\u003e\",\"legendgroup\":\"bKLD(large,source)\",\"marker\":{\"color\":\"rgb(60, 180, 75)\",\"size\":[7],\"sizemode\":\"area\",\"sizeref\":0.0175,\"symbol\":\"hexagon\"},\"mode\":\"markers\",\"name\":\"bKLD(large,source)\",\"orientation\":\"v\",\"showlegend\":true,\"x\":[\"bKLD(large,source)\"],\"xaxis\":\"x\",\"y\":[4.131375],\"yaxis\":\"y\",\"type\":\"scatter\"},{\"error_y\":{\"array\":[1.5028322923594413]},\"hovertemplate\":\"Task selector=%{x}\\u003cbr\\u003eMean rank=%{y}\\u003cbr\\u003esize=%{marker.size}\\u003cextra\\u003e\\u003c\\u002fextra\\u003e\",\"legendgroup\":\"bKLD(large,unweighted)\",\"marker\":{\"color\":\"rgb(60, 180, 75)\",\"size\":[7],\"sizemode\":\"area\",\"sizeref\":0.0175,\"symbol\":\"hexagram\"},\"mode\":\"markers\",\"name\":\"bKLD(large,unweighted)\",\"orientation\":\"v\",\"showlegend\":true,\"x\":[\"bKLD(large,unweighted)\"],\"xaxis\":\"x\",\"y\":[3.15378125],\"yaxis\":\"y\",\"type\":\"scatter\"},{\"error_y\":{\"array\":[1.84185364030144]},\"hovertemplate\":\"Task selector=%{x}\\u003cbr\\u003eMean rank=%{y}\\u003cbr\\u003esize=%{marker.size}\\u003cextra\\u003e\\u003c\\u002fextra\\u003e\",\"legendgroup\":\"bKLD(small,target)\",\"marker\":{\"color\":\"rgb(60, 180, 75)\",\"size\":[7],\"sizemode\":\"area\",\"sizeref\":0.0175,\"symbol\":\"circle\"},\"mode\":\"markers\",\"name\":\"bKLD(small,target)\",\"orientation\":\"v\",\"showlegend\":true,\"x\":[\"bKLD(small,target)\"],\"xaxis\":\"x\",\"y\":[2.8867812500000003],\"yaxis\":\"y\",\"type\":\"scatter\"}],                        {\"template\":{\"data\":{\"barpolar\":[{\"marker\":{\"line\":{\"color\":\"#E5ECF6\",\"width\":0.5},\"pattern\":{\"fillmode\":\"overlay\",\"size\":10,\"solidity\":0.2}},\"type\":\"barpolar\"}],\"bar\":[{\"error_x\":{\"color\":\"#2a3f5f\"},\"error_y\":{\"color\":\"#2a3f5f\"},\"marker\":{\"line\":{\"color\":\"#E5ECF6\",\"width\":0.5},\"pattern\":{\"fillmode\":\"overlay\",\"size\":10,\"solidity\":0.2}},\"type\":\"bar\"}],\"carpet\":[{\"aaxis\":{\"endlinecolor\":\"#2a3f5f\",\"gridcolor\":\"white\",\"linecolor\":\"white\",\"minorgridcolor\":\"white\",\"startlinecolor\":\"#2a3f5f\"},\"baxis\":{\"endlinecolor\":\"#2a3f5f\",\"gridcolor\":\"white\",\"linecolor\":\"white\",\"minorgridcolor\":\"white\",\"startlinecolor\":\"#2a3f5f\"},\"type\":\"carpet\"}],\"choropleth\":[{\"colorbar\":{\"outlinewidth\":0,\"ticks\":\"\"},\"type\":\"choropleth\"}],\"contourcarpet\":[{\"colorbar\":{\"outlinewidth\":0,\"ticks\":\"\"},\"type\":\"contourcarpet\"}],\"contour\":[{\"colorbar\":{\"outlinewidth\":0,\"ticks\":\"\"},\"colorscale\":[[0.0,\"#0d0887\"],[0.1111111111111111,\"#46039f\"],[0.2222222222222222,\"#7201a8\"],[0.3333333333333333,\"#9c179e\"],[0.4444444444444444,\"#bd3786\"],[0.5555555555555556,\"#d8576b\"],[0.6666666666666666,\"#ed7953\"],[0.7777777777777778,\"#fb9f3a\"],[0.8888888888888888,\"#fdca26\"],[1.0,\"#f0f921\"]],\"type\":\"contour\"}],\"heatmapgl\":[{\"colorbar\":{\"outlinewidth\":0,\"ticks\":\"\"},\"colorscale\":[[0.0,\"#0d0887\"],[0.1111111111111111,\"#46039f\"],[0.2222222222222222,\"#7201a8\"],[0.3333333333333333,\"#9c179e\"],[0.4444444444444444,\"#bd3786\"],[0.5555555555555556,\"#d8576b\"],[0.6666666666666666,\"#ed7953\"],[0.7777777777777778,\"#fb9f3a\"],[0.8888888888888888,\"#fdca26\"],[1.0,\"#f0f921\"]],\"type\":\"heatmapgl\"}],\"heatmap\":[{\"colorbar\":{\"outlinewidth\":0,\"ticks\":\"\"},\"colorscale\":[[0.0,\"#0d0887\"],[0.1111111111111111,\"#46039f\"],[0.2222222222222222,\"#7201a8\"],[0.3333333333333333,\"#9c179e\"],[0.4444444444444444,\"#bd3786\"],[0.5555555555555556,\"#d8576b\"],[0.6666666666666666,\"#ed7953\"],[0.7777777777777778,\"#fb9f3a\"],[0.8888888888888888,\"#fdca26\"],[1.0,\"#f0f921\"]],\"type\":\"heatmap\"}],\"histogram2dcontour\":[{\"colorbar\":{\"outlinewidth\":0,\"ticks\":\"\"},\"colorscale\":[[0.0,\"#0d0887\"],[0.1111111111111111,\"#46039f\"],[0.2222222222222222,\"#7201a8\"],[0.3333333333333333,\"#9c179e\"],[0.4444444444444444,\"#bd3786\"],[0.5555555555555556,\"#d8576b\"],[0.6666666666666666,\"#ed7953\"],[0.7777777777777778,\"#fb9f3a\"],[0.8888888888888888,\"#fdca26\"],[1.0,\"#f0f921\"]],\"type\":\"histogram2dcontour\"}],\"histogram2d\":[{\"colorbar\":{\"outlinewidth\":0,\"ticks\":\"\"},\"colorscale\":[[0.0,\"#0d0887\"],[0.1111111111111111,\"#46039f\"],[0.2222222222222222,\"#7201a8\"],[0.3333333333333333,\"#9c179e\"],[0.4444444444444444,\"#bd3786\"],[0.5555555555555556,\"#d8576b\"],[0.6666666666666666,\"#ed7953\"],[0.7777777777777778,\"#fb9f3a\"],[0.8888888888888888,\"#fdca26\"],[1.0,\"#f0f921\"]],\"type\":\"histogram2d\"}],\"histogram\":[{\"marker\":{\"pattern\":{\"fillmode\":\"overlay\",\"size\":10,\"solidity\":0.2}},\"type\":\"histogram\"}],\"mesh3d\":[{\"colorbar\":{\"outlinewidth\":0,\"ticks\":\"\"},\"type\":\"mesh3d\"}],\"parcoords\":[{\"line\":{\"colorbar\":{\"outlinewidth\":0,\"ticks\":\"\"}},\"type\":\"parcoords\"}],\"pie\":[{\"automargin\":true,\"type\":\"pie\"}],\"scatter3d\":[{\"line\":{\"colorbar\":{\"outlinewidth\":0,\"ticks\":\"\"}},\"marker\":{\"colorbar\":{\"outlinewidth\":0,\"ticks\":\"\"}},\"type\":\"scatter3d\"}],\"scattercarpet\":[{\"marker\":{\"colorbar\":{\"outlinewidth\":0,\"ticks\":\"\"}},\"type\":\"scattercarpet\"}],\"scattergeo\":[{\"marker\":{\"colorbar\":{\"outlinewidth\":0,\"ticks\":\"\"}},\"type\":\"scattergeo\"}],\"scattergl\":[{\"marker\":{\"colorbar\":{\"outlinewidth\":0,\"ticks\":\"\"}},\"type\":\"scattergl\"}],\"scattermapbox\":[{\"marker\":{\"colorbar\":{\"outlinewidth\":0,\"ticks\":\"\"}},\"type\":\"scattermapbox\"}],\"scatterpolargl\":[{\"marker\":{\"colorbar\":{\"outlinewidth\":0,\"ticks\":\"\"}},\"type\":\"scatterpolargl\"}],\"scatterpolar\":[{\"marker\":{\"colorbar\":{\"outlinewidth\":0,\"ticks\":\"\"}},\"type\":\"scatterpolar\"}],\"scatter\":[{\"fillpattern\":{\"fillmode\":\"overlay\",\"size\":10,\"solidity\":0.2},\"type\":\"scatter\"}],\"scatterternary\":[{\"marker\":{\"colorbar\":{\"outlinewidth\":0,\"ticks\":\"\"}},\"type\":\"scatterternary\"}],\"surface\":[{\"colorbar\":{\"outlinewidth\":0,\"ticks\":\"\"},\"colorscale\":[[0.0,\"#0d0887\"],[0.1111111111111111,\"#46039f\"],[0.2222222222222222,\"#7201a8\"],[0.3333333333333333,\"#9c179e\"],[0.4444444444444444,\"#bd3786\"],[0.5555555555555556,\"#d8576b\"],[0.6666666666666666,\"#ed7953\"],[0.7777777777777778,\"#fb9f3a\"],[0.8888888888888888,\"#fdca26\"],[1.0,\"#f0f921\"]],\"type\":\"surface\"}],\"table\":[{\"cells\":{\"fill\":{\"color\":\"#EBF0F8\"},\"line\":{\"color\":\"white\"}},\"header\":{\"fill\":{\"color\":\"#C8D4E3\"},\"line\":{\"color\":\"white\"}},\"type\":\"table\"}]},\"layout\":{\"annotationdefaults\":{\"arrowcolor\":\"#2a3f5f\",\"arrowhead\":0,\"arrowwidth\":1},\"autotypenumbers\":\"strict\",\"coloraxis\":{\"colorbar\":{\"outlinewidth\":0,\"ticks\":\"\"}},\"colorscale\":{\"diverging\":[[0,\"#8e0152\"],[0.1,\"#c51b7d\"],[0.2,\"#de77ae\"],[0.3,\"#f1b6da\"],[0.4,\"#fde0ef\"],[0.5,\"#f7f7f7\"],[0.6,\"#e6f5d0\"],[0.7,\"#b8e186\"],[0.8,\"#7fbc41\"],[0.9,\"#4d9221\"],[1,\"#276419\"]],\"sequential\":[[0.0,\"#0d0887\"],[0.1111111111111111,\"#46039f\"],[0.2222222222222222,\"#7201a8\"],[0.3333333333333333,\"#9c179e\"],[0.4444444444444444,\"#bd3786\"],[0.5555555555555556,\"#d8576b\"],[0.6666666666666666,\"#ed7953\"],[0.7777777777777778,\"#fb9f3a\"],[0.8888888888888888,\"#fdca26\"],[1.0,\"#f0f921\"]],\"sequentialminus\":[[0.0,\"#0d0887\"],[0.1111111111111111,\"#46039f\"],[0.2222222222222222,\"#7201a8\"],[0.3333333333333333,\"#9c179e\"],[0.4444444444444444,\"#bd3786\"],[0.5555555555555556,\"#d8576b\"],[0.6666666666666666,\"#ed7953\"],[0.7777777777777778,\"#fb9f3a\"],[0.8888888888888888,\"#fdca26\"],[1.0,\"#f0f921\"]]},\"colorway\":[\"#636efa\",\"#EF553B\",\"#00cc96\",\"#ab63fa\",\"#FFA15A\",\"#19d3f3\",\"#FF6692\",\"#B6E880\",\"#FF97FF\",\"#FECB52\"],\"font\":{\"color\":\"#2a3f5f\"},\"geo\":{\"bgcolor\":\"white\",\"lakecolor\":\"white\",\"landcolor\":\"#E5ECF6\",\"showlakes\":true,\"showland\":true,\"subunitcolor\":\"white\"},\"hoverlabel\":{\"align\":\"left\"},\"hovermode\":\"closest\",\"mapbox\":{\"style\":\"light\"},\"paper_bgcolor\":\"white\",\"plot_bgcolor\":\"#E5ECF6\",\"polar\":{\"angularaxis\":{\"gridcolor\":\"white\",\"linecolor\":\"white\",\"ticks\":\"\"},\"bgcolor\":\"#E5ECF6\",\"radialaxis\":{\"gridcolor\":\"white\",\"linecolor\":\"white\",\"ticks\":\"\"}},\"scene\":{\"xaxis\":{\"backgroundcolor\":\"#E5ECF6\",\"gridcolor\":\"white\",\"gridwidth\":2,\"linecolor\":\"white\",\"showbackground\":true,\"ticks\":\"\",\"zerolinecolor\":\"white\"},\"yaxis\":{\"backgroundcolor\":\"#E5ECF6\",\"gridcolor\":\"white\",\"gridwidth\":2,\"linecolor\":\"white\",\"showbackground\":true,\"ticks\":\"\",\"zerolinecolor\":\"white\"},\"zaxis\":{\"backgroundcolor\":\"#E5ECF6\",\"gridcolor\":\"white\",\"gridwidth\":2,\"linecolor\":\"white\",\"showbackground\":true,\"ticks\":\"\",\"zerolinecolor\":\"white\"}},\"shapedefaults\":{\"line\":{\"color\":\"#2a3f5f\"}},\"ternary\":{\"aaxis\":{\"gridcolor\":\"white\",\"linecolor\":\"white\",\"ticks\":\"\"},\"baxis\":{\"gridcolor\":\"white\",\"linecolor\":\"white\",\"ticks\":\"\"},\"bgcolor\":\"#E5ECF6\",\"caxis\":{\"gridcolor\":\"white\",\"linecolor\":\"white\",\"ticks\":\"\"}},\"title\":{\"x\":0.05},\"xaxis\":{\"automargin\":true,\"gridcolor\":\"white\",\"linecolor\":\"white\",\"ticks\":\"\",\"title\":{\"standoff\":15},\"zerolinecolor\":\"white\",\"zerolinewidth\":2},\"yaxis\":{\"automargin\":true,\"gridcolor\":\"white\",\"linecolor\":\"white\",\"ticks\":\"\",\"title\":{\"standoff\":15},\"zerolinecolor\":\"white\",\"zerolinewidth\":2}}},\"xaxis\":{\"anchor\":\"y\",\"domain\":[0.0,1.0],\"title\":{\"text\":\"Task selector\"},\"categoryorder\":\"array\",\"categoryarray\":[\"FED\",\"Manual\",\"P2L (w\\u002fo samples)\",\"VDNA\",\"FID\",\"bKLD(large,source)\",\"bKLD(large,unweighted)\",\"bKLD(small,target)\"],\"tickvals\":[\"\",\"\",\"\",\"\",\"\",\"\",\"\",\"\"]},\"yaxis\":{\"anchor\":\"x\",\"domain\":[0.0,1.0],\"title\":{\"text\":\"Mean rank\"},\"tickvals\":[1,2,3,4,5,6,7,8],\"autorange\":\"reversed\"},\"legend\":{\"title\":{\"text\":\"Task selector\"},\"tracegroupgap\":0,\"itemsizing\":\"constant\"},\"margin\":{\"t\":60},\"font\":{\"size\":20},\"width\":1200,\"height\":500,\"showlegend\":false},                        {\"responsive\": true}                    ).then(function(){\n",
       "                            \n",
       "var gd = document.getElementById('cc590a57-43a2-46f8-9116-4f6bd20a5862');\n",
       "var x = new MutationObserver(function (mutations, observer) {{\n",
       "        var display = window.getComputedStyle(gd).display;\n",
       "        if (!display || display === 'none') {{\n",
       "            console.log([gd, 'removed!']);\n",
       "            Plotly.purge(gd);\n",
       "            observer.disconnect();\n",
       "        }}\n",
       "}});\n",
       "\n",
       "// Listen for the removal of the full notebook cells\n",
       "var notebookContainer = gd.closest('#notebook-container');\n",
       "if (notebookContainer) {{\n",
       "    x.observe(notebookContainer, {childList: true});\n",
       "}}\n",
       "\n",
       "// Listen for the clearing of the current output cell\n",
       "var outputEl = gd.closest('.output');\n",
       "if (outputEl) {{\n",
       "    x.observe(outputEl, {childList: true});\n",
       "}}\n",
       "\n",
       "                        })                };                });            </script>        </div>"
      ]
     },
     "metadata": {},
     "output_type": "display_data"
    }
   ],
   "execution_count": 65
  },
  {
   "metadata": {},
   "cell_type": "markdown",
   "source": "Finally, we merge the top and lower parts.",
   "id": "719ecae29396b995"
  },
  {
   "metadata": {
    "ExecuteTime": {
     "end_time": "2024-10-10T20:09:24.641470Z",
     "start_time": "2024-10-10T20:09:24.555194Z"
    }
   },
   "cell_type": "code",
   "source": [
    "from PIL import Image\n",
    "OVERLAY = 50\n",
    "img_top = Image.open(FIG_PATH / 'fig_5_top.png')\n",
    "img_bottom = Image.open(FIG_PATH / 'fig_5_bottom.png')\n",
    "merged = Image.new('RGB', size=(img_top.width, img_top.height + img_bottom.height - OVERLAY))\n",
    "merged.paste(im=img_bottom, box=(0, img_top.height - OVERLAY))\n",
    "merged.paste(im=img_top, box=(0, 0))\n",
    "merged.save(FIG_PATH / 'fig_5.png')\n",
    "merged.save(FIG_PATH / 'fig_5.pdf')"
   ],
   "id": "c7cd62619377d4d9",
   "outputs": [],
   "execution_count": 68
  },
  {
   "metadata": {},
   "cell_type": "markdown",
   "source": "### Step 5: Create rankings according to \"rank then mean\" (with bootstrapping)",
   "id": "6b668c284644230b"
  },
  {
   "metadata": {
    "ExecuteTime": {
     "end_time": "2024-10-10T20:23:29.879693Z",
     "start_time": "2024-10-10T20:23:28.059871Z"
    }
   },
   "cell_type": "code",
   "source": [
    "evals = tripled_evaluations if True else single_evaluations\n",
    "results = []\n",
    "rng = np.random.default_rng(seed=42)\n",
    "for meta in ['regret', 'rank', 'delta', 'weightedtau']:\n",
    "    for exp in EXPERIMENTS:\n",
    "        relevant_df = evals[(evals.distances.isin(comp_distances)) & (evals['meta metric'] == meta)].replace(map_dist2printable)\n",
    "        vary_setups = [col for col in relevant_df.columns if col not in ['distances', 'score']]\n",
    "        gbobj = relevant_df[relevant_df['exp'] == exp].groupby(vary_setups)\n",
    "        \n",
    "        bootstrap_indices = rng.integers(low=0, high=len(gbobj.groups), size=(len(gbobj.groups), 1000))\n",
    "        group_mapping = {}\n",
    "        for group_name, group_df in gbobj:\n",
    "            sub_series = group_df.set_index('distances')['score']\n",
    "            group_mapping[group_name] = sub_series.rank(method='average', ascending=False).to_dict()\n",
    "        for dist in relevant_df['distances'].unique().tolist():\n",
    "            values = np.asarray([ranking[dist] for ranking in group_mapping.values()])\n",
    "            aggregated = np.mean(values[bootstrap_indices], axis=0)\n",
    "            results.append({'dist': dist, 'exp': exp, 'mean': np.mean(aggregated), 'std': np.std(aggregated), 'meta': meta})\n",
    "results = pd.DataFrame(results)"
   ],
   "id": "c2be74817eff34e5",
   "outputs": [],
   "execution_count": 76
  },
  {
   "metadata": {
    "ExecuteTime": {
     "end_time": "2024-10-10T20:23:55.993158Z",
     "start_time": "2024-10-10T20:23:55.363498Z"
    }
   },
   "cell_type": "code",
   "source": [
    "\n",
    "_df = results.replace(mm_display_map)\n",
    "fig = px.scatter(_df.iloc[::-1], color='dist', x='mean', y='exp', color_discrete_map=color_map, template='plotly',  error_x='std',  facet_row='meta', size=[5] * len(_df), symbol_map=symbol_map, symbol='dist', labels={'mean': 'Rank', 'exp': 'Scenario'}, category_orders={'dist': [map_dist2printable[d] for d in comp_distances]})\n",
    "fig.update_layout(font_size=20, width=1200, height=1200, showlegend=True, legend_title='Task selector')\n",
    "fig.for_each_annotation(lambda a: a.update(text=a.text.split(\"=\")[1]))\n",
    "fig.write_image(FIG_PATH / 'fig_7.png', engine='kaleido')\n",
    "fig.write_image(FIG_PATH / 'fig_7.pdf', engine='kaleido')\n",
    "fig.show()"
   ],
   "id": "b9c8793b8bb9d99e",
   "outputs": [
    {
     "data": {
      "application/vnd.plotly.v1+json": {
       "data": [
        {
         "error_x": {
          "array": [
           0.14759391562476878,
           0.15067182119248515,
           0.14546785819404243,
           0.16243461383217261
          ]
         },
         "hovertemplate": "dist=Manual<br>meta=Weightedtau<br>Rank=%{x}<br>Scenario=%{y}<br>size=%{marker.size}<extra></extra>",
         "legendgroup": "Manual",
         "marker": {
          "color": "rgb(230, 25, 75)",
          "size": [
           5,
           5,
           5,
           5
          ],
          "sizemode": "area",
          "sizeref": 0.0125,
          "symbol": "circle"
         },
         "mode": "markers",
         "name": "Manual",
         "orientation": "h",
         "showlegend": true,
         "x": [
          4.581841085271318,
          5.286492248062015,
          4.133717054263565,
          4.628476744186046
         ],
         "xaxis": "x4",
         "y": [
          "Co-Training<br>Data",
          "Augmentation<br>Policy",
          "Pretraining<br>Data",
          "Model<br>Architecture"
         ],
         "yaxis": "y4",
         "type": "scatter"
        },
        {
         "error_x": {
          "array": [
           0.14232144716629397,
           0.13839202078672327,
           0.14507921295768023,
           0.14328981345872846
          ]
         },
         "hovertemplate": "dist=Manual<br>meta=Improvement<br>Rank=%{x}<br>Scenario=%{y}<br>size=%{marker.size}<extra></extra>",
         "legendgroup": "Manual",
         "marker": {
          "color": "rgb(230, 25, 75)",
          "size": [
           5,
           5,
           5,
           5
          ],
          "sizemode": "area",
          "sizeref": 0.0125,
          "symbol": "circle"
         },
         "mode": "markers",
         "name": "Manual",
         "orientation": "h",
         "showlegend": false,
         "x": [
          4.56012984496124,
          5.090676356589147,
          4.626125968992248,
          4.369718992248062
         ],
         "xaxis": "x3",
         "y": [
          "Co-Training<br>Data",
          "Augmentation<br>Policy",
          "Pretraining<br>Data",
          "Model<br>Architecture"
         ],
         "yaxis": "y3",
         "type": "scatter"
        },
        {
         "error_x": {
          "array": [
           0.14716899304378223,
           0.14037757547090787,
           0.1432093086197823,
           0.14453982417170794
          ]
         },
         "hovertemplate": "dist=Manual<br>meta=Percentile<br>Rank=%{x}<br>Scenario=%{y}<br>size=%{marker.size}<extra></extra>",
         "legendgroup": "Manual",
         "marker": {
          "color": "rgb(230, 25, 75)",
          "size": [
           5,
           5,
           5,
           5
          ],
          "sizemode": "area",
          "sizeref": 0.0125,
          "symbol": "circle"
         },
         "mode": "markers",
         "name": "Manual",
         "orientation": "h",
         "showlegend": false,
         "x": [
          4.538331395348838,
          5.140825581395349,
          4.704558139534884,
          4.331759689922481
         ],
         "xaxis": "x2",
         "y": [
          "Co-Training<br>Data",
          "Augmentation<br>Policy",
          "Pretraining<br>Data",
          "Model<br>Architecture"
         ],
         "yaxis": "y2",
         "type": "scatter"
        },
        {
         "error_x": {
          "array": [
           0.1372521222409397,
           0.13759126223577278,
           0.14734564807234393,
           0.14377507372580367
          ]
         },
         "hovertemplate": "dist=Manual<br>meta=Regret<br>Rank=%{x}<br>Scenario=%{y}<br>size=%{marker.size}<extra></extra>",
         "legendgroup": "Manual",
         "marker": {
          "color": "rgb(230, 25, 75)",
          "size": [
           5,
           5,
           5,
           5
          ],
          "sizemode": "area",
          "sizeref": 0.0125,
          "symbol": "circle"
         },
         "mode": "markers",
         "name": "Manual",
         "orientation": "h",
         "showlegend": false,
         "x": [
          4.571788759689922,
          5.11045542635659,
          4.631691860465116,
          4.4291802325581395
         ],
         "xaxis": "x",
         "y": [
          "Co-Training<br>Data",
          "Augmentation<br>Policy",
          "Pretraining<br>Data",
          "Model<br>Architecture"
         ],
         "yaxis": "y",
         "type": "scatter"
        },
        {
         "error_x": {
          "array": [
           0.12324304203488085,
           0.1259679692266151,
           0.12494149126454637,
           0.12965420391330276
          ]
         },
         "hovertemplate": "dist=VDNA<br>meta=Weightedtau<br>Rank=%{x}<br>Scenario=%{y}<br>size=%{marker.size}<extra></extra>",
         "legendgroup": "VDNA",
         "marker": {
          "color": "rgb(67, 99, 216)",
          "size": [
           5,
           5,
           5,
           5
          ],
          "sizemode": "area",
          "sizeref": 0.0125,
          "symbol": "circle"
         },
         "mode": "markers",
         "name": "VDNA",
         "orientation": "h",
         "showlegend": true,
         "x": [
          4.348523255813953,
          4.8506434108527134,
          4.535093023255813,
          4.593011627906977
         ],
         "xaxis": "x4",
         "y": [
          "Co-Training<br>Data",
          "Augmentation<br>Policy",
          "Pretraining<br>Data",
          "Model<br>Architecture"
         ],
         "yaxis": "y4",
         "type": "scatter"
        },
        {
         "error_x": {
          "array": [
           0.12201681944207204,
           0.11671399241963604,
           0.11764792319502047,
           0.1221928839186462
          ]
         },
         "hovertemplate": "dist=VDNA<br>meta=Improvement<br>Rank=%{x}<br>Scenario=%{y}<br>size=%{marker.size}<extra></extra>",
         "legendgroup": "VDNA",
         "marker": {
          "color": "rgb(67, 99, 216)",
          "size": [
           5,
           5,
           5,
           5
          ],
          "sizemode": "area",
          "sizeref": 0.0125,
          "symbol": "circle"
         },
         "mode": "markers",
         "name": "VDNA",
         "orientation": "h",
         "showlegend": false,
         "x": [
          4.6257965116279065,
          4.410106589147286,
          4.404527131782945,
          4.706972868217053
         ],
         "xaxis": "x3",
         "y": [
          "Co-Training<br>Data",
          "Augmentation<br>Policy",
          "Pretraining<br>Data",
          "Model<br>Architecture"
         ],
         "yaxis": "y3",
         "type": "scatter"
        },
        {
         "error_x": {
          "array": [
           0.12380523053698825,
           0.12321141878485624,
           0.12267696212935593,
           0.11467982589998738
          ]
         },
         "hovertemplate": "dist=VDNA<br>meta=Percentile<br>Rank=%{x}<br>Scenario=%{y}<br>size=%{marker.size}<extra></extra>",
         "legendgroup": "VDNA",
         "marker": {
          "color": "rgb(67, 99, 216)",
          "size": [
           5,
           5,
           5,
           5
          ],
          "sizemode": "area",
          "sizeref": 0.0125,
          "symbol": "circle"
         },
         "mode": "markers",
         "name": "VDNA",
         "orientation": "h",
         "showlegend": false,
         "x": [
          4.596257751937984,
          4.38756007751938,
          4.360521317829457,
          4.698734496124031
         ],
         "xaxis": "x2",
         "y": [
          "Co-Training<br>Data",
          "Augmentation<br>Policy",
          "Pretraining<br>Data",
          "Model<br>Architecture"
         ],
         "yaxis": "y2",
         "type": "scatter"
        },
        {
         "error_x": {
          "array": [
           0.12125230417089315,
           0.12281270869430379,
           0.11624989679262782,
           0.12395107403379513
          ]
         },
         "hovertemplate": "dist=VDNA<br>meta=Regret<br>Rank=%{x}<br>Scenario=%{y}<br>size=%{marker.size}<extra></extra>",
         "legendgroup": "VDNA",
         "marker": {
          "color": "rgb(67, 99, 216)",
          "size": [
           5,
           5,
           5,
           5
          ],
          "sizemode": "area",
          "sizeref": 0.0125,
          "symbol": "circle"
         },
         "mode": "markers",
         "name": "VDNA",
         "orientation": "h",
         "showlegend": false,
         "x": [
          4.604263565891474,
          4.365978682170542,
          4.361158914728682,
          4.676005813953489
         ],
         "xaxis": "x",
         "y": [
          "Co-Training<br>Data",
          "Augmentation<br>Policy",
          "Pretraining<br>Data",
          "Model<br>Architecture"
         ],
         "yaxis": "y",
         "type": "scatter"
        },
        {
         "error_x": {
          "array": [
           0.140713336305561,
           0.11668346829749202,
           0.11446058110076107,
           0.13680484331828024
          ]
         },
         "hovertemplate": "dist=FED<br>meta=Weightedtau<br>Rank=%{x}<br>Scenario=%{y}<br>size=%{marker.size}<extra></extra>",
         "legendgroup": "FED",
         "marker": {
          "color": "rgb(245, 130, 49)",
          "size": [
           5,
           5,
           5,
           5
          ],
          "sizemode": "area",
          "sizeref": 0.0125,
          "symbol": "circle"
         },
         "mode": "markers",
         "name": "FED",
         "orientation": "h",
         "showlegend": true,
         "x": [
          4.749736434108527,
          5.2775,
          4.817527131782946,
          5.173406976744186
         ],
         "xaxis": "x4",
         "y": [
          "Co-Training<br>Data",
          "Augmentation<br>Policy",
          "Pretraining<br>Data",
          "Model<br>Architecture"
         ],
         "yaxis": "y4",
         "type": "scatter"
        },
        {
         "error_x": {
          "array": [
           0.15240345119659338,
           0.14675974801491584,
           0.138699580098391,
           0.1404810748539955
          ]
         },
         "hovertemplate": "dist=FED<br>meta=Improvement<br>Rank=%{x}<br>Scenario=%{y}<br>size=%{marker.size}<extra></extra>",
         "legendgroup": "FED",
         "marker": {
          "color": "rgb(245, 130, 49)",
          "size": [
           5,
           5,
           5,
           5
          ],
          "sizemode": "area",
          "sizeref": 0.0125,
          "symbol": "circle"
         },
         "mode": "markers",
         "name": "FED",
         "orientation": "h",
         "showlegend": false,
         "x": [
          4.724866279069767,
          4.80896511627907,
          4.417587209302325,
          4.3140096899224805
         ],
         "xaxis": "x3",
         "y": [
          "Co-Training<br>Data",
          "Augmentation<br>Policy",
          "Pretraining<br>Data",
          "Model<br>Architecture"
         ],
         "yaxis": "y3",
         "type": "scatter"
        },
        {
         "error_x": {
          "array": [
           0.14802354545836788,
           0.1473826559777843,
           0.14668114956886524,
           0.14278981200644453
          ]
         },
         "hovertemplate": "dist=FED<br>meta=Percentile<br>Rank=%{x}<br>Scenario=%{y}<br>size=%{marker.size}<extra></extra>",
         "legendgroup": "FED",
         "marker": {
          "color": "rgb(245, 130, 49)",
          "size": [
           5,
           5,
           5,
           5
          ],
          "sizemode": "area",
          "sizeref": 0.0125,
          "symbol": "circle"
         },
         "mode": "markers",
         "name": "FED",
         "orientation": "h",
         "showlegend": false,
         "x": [
          4.717804263565891,
          4.763098837209302,
          4.4155,
          4.306612403100774
         ],
         "xaxis": "x2",
         "y": [
          "Co-Training<br>Data",
          "Augmentation<br>Policy",
          "Pretraining<br>Data",
          "Model<br>Architecture"
         ],
         "yaxis": "y2",
         "type": "scatter"
        },
        {
         "error_x": {
          "array": [
           0.14952993725769395,
           0.14170933978818806,
           0.14020200000442246,
           0.1346951255338796
          ]
         },
         "hovertemplate": "dist=FED<br>meta=Regret<br>Rank=%{x}<br>Scenario=%{y}<br>size=%{marker.size}<extra></extra>",
         "legendgroup": "FED",
         "marker": {
          "color": "rgb(245, 130, 49)",
          "size": [
           5,
           5,
           5,
           5
          ],
          "sizemode": "area",
          "sizeref": 0.0125,
          "symbol": "circle"
         },
         "mode": "markers",
         "name": "FED",
         "orientation": "h",
         "showlegend": false,
         "x": [
          4.743848837209302,
          4.826583333333333,
          4.410007751937985,
          4.289346899224805
         ],
         "xaxis": "x",
         "y": [
          "Co-Training<br>Data",
          "Augmentation<br>Policy",
          "Pretraining<br>Data",
          "Model<br>Architecture"
         ],
         "yaxis": "y",
         "type": "scatter"
        },
        {
         "error_x": {
          "array": [
           0.11146466719517308,
           0.09467533578275068,
           0.11814299313083232,
           0.11471731009006798
          ]
         },
         "hovertemplate": "dist=FID<br>meta=Weightedtau<br>Rank=%{x}<br>Scenario=%{y}<br>size=%{marker.size}<extra></extra>",
         "legendgroup": "FID",
         "marker": {
          "color": "rgb(145, 30, 180)",
          "size": [
           5,
           5,
           5,
           5
          ],
          "sizemode": "area",
          "sizeref": 0.0125,
          "symbol": "circle"
         },
         "mode": "markers",
         "name": "FID",
         "orientation": "h",
         "showlegend": true,
         "x": [
          4.8263178294573645,
          4.874643410852713,
          4.839934108527132,
          4.653790697674418
         ],
         "xaxis": "x4",
         "y": [
          "Co-Training<br>Data",
          "Augmentation<br>Policy",
          "Pretraining<br>Data",
          "Model<br>Architecture"
         ],
         "yaxis": "y4",
         "type": "scatter"
        },
        {
         "error_x": {
          "array": [
           0.12444582136086142,
           0.11144109880333128,
           0.12335483541291122,
           0.12086539641306412
          ]
         },
         "hovertemplate": "dist=FID<br>meta=Improvement<br>Rank=%{x}<br>Scenario=%{y}<br>size=%{marker.size}<extra></extra>",
         "legendgroup": "FID",
         "marker": {
          "color": "rgb(145, 30, 180)",
          "size": [
           5,
           5,
           5,
           5
          ],
          "sizemode": "area",
          "sizeref": 0.0125,
          "symbol": "circle"
         },
         "mode": "markers",
         "name": "FID",
         "orientation": "h",
         "showlegend": false,
         "x": [
          4.589193798449613,
          4.203348837209303,
          4.598961240310078,
          4.610928294573644
         ],
         "xaxis": "x3",
         "y": [
          "Co-Training<br>Data",
          "Augmentation<br>Policy",
          "Pretraining<br>Data",
          "Model<br>Architecture"
         ],
         "yaxis": "y3",
         "type": "scatter"
        },
        {
         "error_x": {
          "array": [
           0.12457011374477875,
           0.11877946128456511,
           0.1310146671349315,
           0.12397360438843824
          ]
         },
         "hovertemplate": "dist=FID<br>meta=Percentile<br>Rank=%{x}<br>Scenario=%{y}<br>size=%{marker.size}<extra></extra>",
         "legendgroup": "FID",
         "marker": {
          "color": "rgb(145, 30, 180)",
          "size": [
           5,
           5,
           5,
           5
          ],
          "sizemode": "area",
          "sizeref": 0.0125,
          "symbol": "circle"
         },
         "mode": "markers",
         "name": "FID",
         "orientation": "h",
         "showlegend": false,
         "x": [
          4.56315503875969,
          4.202627906976744,
          4.6083701550387595,
          4.624127906976744
         ],
         "xaxis": "x2",
         "y": [
          "Co-Training<br>Data",
          "Augmentation<br>Policy",
          "Pretraining<br>Data",
          "Model<br>Architecture"
         ],
         "yaxis": "y2",
         "type": "scatter"
        },
        {
         "error_x": {
          "array": [
           0.12316626297768098,
           0.12129931571096188,
           0.12341110007376557,
           0.11978605621321373
          ]
         },
         "hovertemplate": "dist=FID<br>meta=Regret<br>Rank=%{x}<br>Scenario=%{y}<br>size=%{marker.size}<extra></extra>",
         "legendgroup": "FID",
         "marker": {
          "color": "rgb(145, 30, 180)",
          "size": [
           5,
           5,
           5,
           5
          ],
          "sizemode": "area",
          "sizeref": 0.0125,
          "symbol": "circle"
         },
         "mode": "markers",
         "name": "FID",
         "orientation": "h",
         "showlegend": false,
         "x": [
          4.598680232558141,
          4.192569767441861,
          4.599201550387598,
          4.601207364341085
         ],
         "xaxis": "x",
         "y": [
          "Co-Training<br>Data",
          "Augmentation<br>Policy",
          "Pretraining<br>Data",
          "Model<br>Architecture"
         ],
         "yaxis": "y",
         "type": "scatter"
        },
        {
         "error_x": {
          "array": [
           0.12186350174728085,
           0.11412986501865911,
           0.12847126963008243,
           0.12563297916550092
          ]
         },
         "hovertemplate": "dist=P2L (w/o samples)<br>meta=Weightedtau<br>Rank=%{x}<br>Scenario=%{y}<br>size=%{marker.size}<extra></extra>",
         "legendgroup": "P2L (w/o samples)",
         "marker": {
          "color": "rgb(70, 240, 240)",
          "size": [
           5,
           5,
           5,
           5
          ],
          "sizemode": "area",
          "sizeref": 0.0125,
          "symbol": "circle"
         },
         "mode": "markers",
         "name": "P2L (w/o samples)",
         "orientation": "h",
         "showlegend": true,
         "x": [
          4.486217054263566,
          5.5919186046511635,
          4.686414728682171,
          4.964604651162791
         ],
         "xaxis": "x4",
         "y": [
          "Co-Training<br>Data",
          "Augmentation<br>Policy",
          "Pretraining<br>Data",
          "Model<br>Architecture"
         ],
         "yaxis": "y4",
         "type": "scatter"
        },
        {
         "error_x": {
          "array": [
           0.12705279426895177,
           0.12639720895583498,
           0.12341418759615133,
           0.12581836251988288
          ]
         },
         "hovertemplate": "dist=P2L (w/o samples)<br>meta=Improvement<br>Rank=%{x}<br>Scenario=%{y}<br>size=%{marker.size}<extra></extra>",
         "legendgroup": "P2L (w/o samples)",
         "marker": {
          "color": "rgb(70, 240, 240)",
          "size": [
           5,
           5,
           5,
           5
          ],
          "sizemode": "area",
          "sizeref": 0.0125,
          "symbol": "circle"
         },
         "mode": "markers",
         "name": "P2L (w/o samples)",
         "orientation": "h",
         "showlegend": false,
         "x": [
          4.610362403100774,
          4.447131782945736,
          4.434678294573643,
          4.592343023255814
         ],
         "xaxis": "x3",
         "y": [
          "Co-Training<br>Data",
          "Augmentation<br>Policy",
          "Pretraining<br>Data",
          "Model<br>Architecture"
         ],
         "yaxis": "y3",
         "type": "scatter"
        },
        {
         "error_x": {
          "array": [
           0.12404801965153003,
           0.12295544790671827,
           0.11636519523611862,
           0.13283808306627132
          ]
         },
         "hovertemplate": "dist=P2L (w/o samples)<br>meta=Percentile<br>Rank=%{x}<br>Scenario=%{y}<br>size=%{marker.size}<extra></extra>",
         "legendgroup": "P2L (w/o samples)",
         "marker": {
          "color": "rgb(70, 240, 240)",
          "size": [
           5,
           5,
           5,
           5
          ],
          "sizemode": "area",
          "sizeref": 0.0125,
          "symbol": "circle"
         },
         "mode": "markers",
         "name": "P2L (w/o samples)",
         "orientation": "h",
         "showlegend": false,
         "x": [
          4.5569554263565895,
          4.447205426356589,
          4.4342170542635655,
          4.597837209302325
         ],
         "xaxis": "x2",
         "y": [
          "Co-Training<br>Data",
          "Augmentation<br>Policy",
          "Pretraining<br>Data",
          "Model<br>Architecture"
         ],
         "yaxis": "y2",
         "type": "scatter"
        },
        {
         "error_x": {
          "array": [
           0.12095464366765812,
           0.12181746133286393,
           0.12043653572347177,
           0.12840970136798208
          ]
         },
         "hovertemplate": "dist=P2L (w/o samples)<br>meta=Regret<br>Rank=%{x}<br>Scenario=%{y}<br>size=%{marker.size}<extra></extra>",
         "legendgroup": "P2L (w/o samples)",
         "marker": {
          "color": "rgb(70, 240, 240)",
          "size": [
           5,
           5,
           5,
           5
          ],
          "sizemode": "area",
          "sizeref": 0.0125,
          "symbol": "circle"
         },
         "mode": "markers",
         "name": "P2L (w/o samples)",
         "orientation": "h",
         "showlegend": false,
         "x": [
          4.5454224806201555,
          4.464817829457364,
          4.4363565891472865,
          4.555955426356589
         ],
         "xaxis": "x",
         "y": [
          "Co-Training<br>Data",
          "Augmentation<br>Policy",
          "Pretraining<br>Data",
          "Model<br>Architecture"
         ],
         "yaxis": "y",
         "type": "scatter"
        },
        {
         "error_x": {
          "array": [
           0.14672831500966474,
           0.13357938807126246,
           0.14423052155405786,
           0.14259647248830462
          ]
         },
         "hovertemplate": "dist=bKLD(small,target)<br>meta=Weightedtau<br>Rank=%{x}<br>Scenario=%{y}<br>size=%{marker.size}<extra></extra>",
         "legendgroup": "bKLD(small,target)",
         "marker": {
          "color": "rgb(60, 180, 75)",
          "size": [
           5,
           5,
           5,
           5
          ],
          "sizemode": "area",
          "sizeref": 0.0125,
          "symbol": "circle"
         },
         "mode": "markers",
         "name": "bKLD(small,target)",
         "orientation": "h",
         "showlegend": true,
         "x": [
          4.4523488372093025,
          2.9446511627906977,
          3.8038023255813953,
          4.062988372093024
         ],
         "xaxis": "x4",
         "y": [
          "Co-Training<br>Data",
          "Augmentation<br>Policy",
          "Pretraining<br>Data",
          "Model<br>Architecture"
         ],
         "yaxis": "y4",
         "type": "scatter"
        },
        {
         "error_x": {
          "array": [
           0.1258445028125493,
           0.12081495294207491,
           0.12434359296655466,
           0.11741357758039891
          ]
         },
         "hovertemplate": "dist=bKLD(small,target)<br>meta=Improvement<br>Rank=%{x}<br>Scenario=%{y}<br>size=%{marker.size}<extra></extra>",
         "legendgroup": "bKLD(small,target)",
         "marker": {
          "color": "rgb(60, 180, 75)",
          "size": [
           5,
           5,
           5,
           5
          ],
          "sizemode": "area",
          "sizeref": 0.0125,
          "symbol": "circle"
         },
         "mode": "markers",
         "name": "bKLD(small,target)",
         "orientation": "h",
         "showlegend": false,
         "x": [
          4.349079457364342,
          4.2114534883720935,
          3.9882441860465114,
          4.636674418604651
         ],
         "xaxis": "x3",
         "y": [
          "Co-Training<br>Data",
          "Augmentation<br>Policy",
          "Pretraining<br>Data",
          "Model<br>Architecture"
         ],
         "yaxis": "y3",
         "type": "scatter"
        },
        {
         "error_x": {
          "array": [
           0.129106789624775,
           0.12760081251593303,
           0.12010382402825963,
           0.12052641966689331
          ]
         },
         "hovertemplate": "dist=bKLD(small,target)<br>meta=Percentile<br>Rank=%{x}<br>Scenario=%{y}<br>size=%{marker.size}<extra></extra>",
         "legendgroup": "bKLD(small,target)",
         "marker": {
          "color": "rgb(60, 180, 75)",
          "size": [
           5,
           5,
           5,
           5
          ],
          "sizemode": "area",
          "sizeref": 0.0125,
          "symbol": "circle"
         },
         "mode": "markers",
         "name": "bKLD(small,target)",
         "orientation": "h",
         "showlegend": false,
         "x": [
          4.365147286821706,
          4.228779069767442,
          3.9182848837209305,
          4.683567829457364
         ],
         "xaxis": "x2",
         "y": [
          "Co-Training<br>Data",
          "Augmentation<br>Policy",
          "Pretraining<br>Data",
          "Model<br>Architecture"
         ],
         "yaxis": "y2",
         "type": "scatter"
        },
        {
         "error_x": {
          "array": [
           0.12646535030051914,
           0.12441729138805573,
           0.11674570290201247,
           0.11488059493963405
          ]
         },
         "hovertemplate": "dist=bKLD(small,target)<br>meta=Regret<br>Rank=%{x}<br>Scenario=%{y}<br>size=%{marker.size}<extra></extra>",
         "legendgroup": "bKLD(small,target)",
         "marker": {
          "color": "rgb(60, 180, 75)",
          "size": [
           5,
           5,
           5,
           5
          ],
          "sizemode": "area",
          "sizeref": 0.0125,
          "symbol": "circle"
         },
         "mode": "markers",
         "name": "bKLD(small,target)",
         "orientation": "h",
         "showlegend": false,
         "x": [
          4.352612403100776,
          4.2117306201550395,
          3.9362596899224807,
          4.662003875968993
         ],
         "xaxis": "x",
         "y": [
          "Co-Training<br>Data",
          "Augmentation<br>Policy",
          "Pretraining<br>Data",
          "Model<br>Architecture"
         ],
         "yaxis": "y",
         "type": "scatter"
        },
        {
         "error_x": {
          "array": [
           0.1720515139110848,
           0.16037824742046008,
           0.1795732409638479,
           0.17016518444616194
          ]
         },
         "hovertemplate": "dist=bKLD(large,source)<br>meta=Weightedtau<br>Rank=%{x}<br>Scenario=%{y}<br>size=%{marker.size}<extra></extra>",
         "legendgroup": "bKLD(large,source)",
         "marker": {
          "color": "rgb(60, 180, 75)",
          "size": [
           5,
           5,
           5,
           5
          ],
          "sizemode": "area",
          "sizeref": 0.0125,
          "symbol": "hexagon"
         },
         "mode": "markers",
         "name": "bKLD(large,source)",
         "orientation": "h",
         "showlegend": true,
         "x": [
          4.066437984496124,
          4.076220930232558,
          5.198406976744186,
          3.861484496124031
         ],
         "xaxis": "x4",
         "y": [
          "Co-Training<br>Data",
          "Augmentation<br>Policy",
          "Pretraining<br>Data",
          "Model<br>Architecture"
         ],
         "yaxis": "y4",
         "type": "scatter"
        },
        {
         "error_x": {
          "array": [
           0.18449115946678574,
           0.18137245664865265,
           0.18323978532552984,
           0.177178111668631
          ]
         },
         "hovertemplate": "dist=bKLD(large,source)<br>meta=Improvement<br>Rank=%{x}<br>Scenario=%{y}<br>size=%{marker.size}<extra></extra>",
         "legendgroup": "bKLD(large,source)",
         "marker": {
          "color": "rgb(60, 180, 75)",
          "size": [
           5,
           5,
           5,
           5
          ],
          "sizemode": "area",
          "sizeref": 0.0125,
          "symbol": "hexagon"
         },
         "mode": "markers",
         "name": "bKLD(large,source)",
         "orientation": "h",
         "showlegend": false,
         "x": [
          4.250798449612403,
          4.524333333333334,
          5.391182170542636,
          4.162420542635658
         ],
         "xaxis": "x3",
         "y": [
          "Co-Training<br>Data",
          "Augmentation<br>Policy",
          "Pretraining<br>Data",
          "Model<br>Architecture"
         ],
         "yaxis": "y3",
         "type": "scatter"
        },
        {
         "error_x": {
          "array": [
           0.18335893169658435,
           0.18776834288267794,
           0.18423549019843308,
           0.17628002853025154
          ]
         },
         "hovertemplate": "dist=bKLD(large,source)<br>meta=Percentile<br>Rank=%{x}<br>Scenario=%{y}<br>size=%{marker.size}<extra></extra>",
         "legendgroup": "bKLD(large,source)",
         "marker": {
          "color": "rgb(60, 180, 75)",
          "size": [
           5,
           5,
           5,
           5
          ],
          "sizemode": "area",
          "sizeref": 0.0125,
          "symbol": "hexagon"
         },
         "mode": "markers",
         "name": "bKLD(large,source)",
         "orientation": "h",
         "showlegend": false,
         "x": [
          4.3227267441860455,
          4.541779069767442,
          5.486323643410853,
          4.1137984496124025
         ],
         "xaxis": "x2",
         "y": [
          "Co-Training<br>Data",
          "Augmentation<br>Policy",
          "Pretraining<br>Data",
          "Model<br>Architecture"
         ],
         "yaxis": "y2",
         "type": "scatter"
        },
        {
         "error_x": {
          "array": [
           0.17884590598530645,
           0.18336481001399715,
           0.17433107553962995,
           0.1789098130781879
          ]
         },
         "hovertemplate": "dist=bKLD(large,source)<br>meta=Regret<br>Rank=%{x}<br>Scenario=%{y}<br>size=%{marker.size}<extra></extra>",
         "legendgroup": "bKLD(large,source)",
         "marker": {
          "color": "rgb(60, 180, 75)",
          "size": [
           5,
           5,
           5,
           5
          ],
          "sizemode": "area",
          "sizeref": 0.0125,
          "symbol": "hexagon"
         },
         "mode": "markers",
         "name": "bKLD(large,source)",
         "orientation": "h",
         "showlegend": false,
         "x": [
          4.252494186046511,
          4.547996124031008,
          5.529829457364341,
          4.144151162790697
         ],
         "xaxis": "x",
         "y": [
          "Co-Training<br>Data",
          "Augmentation<br>Policy",
          "Pretraining<br>Data",
          "Model<br>Architecture"
         ],
         "yaxis": "y",
         "type": "scatter"
        },
        {
         "error_x": {
          "array": [
           0.16910094430316147,
           0.1348905841165806,
           0.15076704064163865,
           0.14227223201497857
          ]
         },
         "hovertemplate": "dist=bKLD(large,unweighted)<br>meta=Weightedtau<br>Rank=%{x}<br>Scenario=%{y}<br>size=%{marker.size}<extra></extra>",
         "legendgroup": "bKLD(large,unweighted)",
         "marker": {
          "color": "rgb(60, 180, 75)",
          "size": [
           5,
           5,
           5,
           5
          ],
          "sizemode": "area",
          "sizeref": 0.0125,
          "symbol": "hexagram"
         },
         "mode": "markers",
         "name": "bKLD(large,unweighted)",
         "orientation": "h",
         "showlegend": true,
         "x": [
          4.488577519379844,
          3.0979302325581393,
          3.985104651162791,
          4.062236434108526
         ],
         "xaxis": "x4",
         "y": [
          "Co-Training<br>Data",
          "Augmentation<br>Policy",
          "Pretraining<br>Data",
          "Model<br>Architecture"
         ],
         "yaxis": "y4",
         "type": "scatter"
        },
        {
         "error_x": {
          "array": [
           0.1244342021997679,
           0.1217072665638788,
           0.12326799650924666,
           0.11699620060978039
          ]
         },
         "hovertemplate": "dist=bKLD(large,unweighted)<br>meta=Improvement<br>Rank=%{x}<br>Scenario=%{y}<br>size=%{marker.size}<extra></extra>",
         "legendgroup": "bKLD(large,unweighted)",
         "marker": {
          "color": "rgb(60, 180, 75)",
          "size": [
           5,
           5,
           5,
           5
          ],
          "sizemode": "area",
          "sizeref": 0.0125,
          "symbol": "hexagram"
         },
         "mode": "markers",
         "name": "bKLD(large,unweighted)",
         "orientation": "h",
         "showlegend": false,
         "x": [
          4.289773255813954,
          4.3039844961240314,
          4.138693798449612,
          4.606932170542636
         ],
         "xaxis": "x3",
         "y": [
          "Co-Training<br>Data",
          "Augmentation<br>Policy",
          "Pretraining<br>Data",
          "Model<br>Architecture"
         ],
         "yaxis": "y3",
         "type": "scatter"
        },
        {
         "error_x": {
          "array": [
           0.1252591055183754,
           0.12862323554689772,
           0.1255412262294906,
           0.11611603421767279
          ]
         },
         "hovertemplate": "dist=bKLD(large,unweighted)<br>meta=Percentile<br>Rank=%{x}<br>Scenario=%{y}<br>size=%{marker.size}<extra></extra>",
         "legendgroup": "bKLD(large,unweighted)",
         "marker": {
          "color": "rgb(60, 180, 75)",
          "size": [
           5,
           5,
           5,
           5
          ],
          "sizemode": "area",
          "sizeref": 0.0125,
          "symbol": "hexagram"
         },
         "mode": "markers",
         "name": "bKLD(large,unweighted)",
         "orientation": "h",
         "showlegend": false,
         "x": [
          4.339622093023256,
          4.288124031007752,
          4.07222480620155,
          4.643562015503876
         ],
         "xaxis": "x2",
         "y": [
          "Co-Training<br>Data",
          "Augmentation<br>Policy",
          "Pretraining<br>Data",
          "Model<br>Architecture"
         ],
         "yaxis": "y2",
         "type": "scatter"
        },
        {
         "error_x": {
          "array": [
           0.1254845017958156,
           0.12440366521431305,
           0.11999372415571831,
           0.11541932156587874
          ]
         },
         "hovertemplate": "dist=bKLD(large,unweighted)<br>meta=Regret<br>Rank=%{x}<br>Scenario=%{y}<br>size=%{marker.size}<extra></extra>",
         "legendgroup": "bKLD(large,unweighted)",
         "marker": {
          "color": "rgb(60, 180, 75)",
          "size": [
           5,
           5,
           5,
           5
          ],
          "sizemode": "area",
          "sizeref": 0.0125,
          "symbol": "hexagram"
         },
         "mode": "markers",
         "name": "bKLD(large,unweighted)",
         "orientation": "h",
         "showlegend": false,
         "x": [
          4.33088953488372,
          4.279868217054263,
          4.095494186046511,
          4.642149224806202
         ],
         "xaxis": "x",
         "y": [
          "Co-Training<br>Data",
          "Augmentation<br>Policy",
          "Pretraining<br>Data",
          "Model<br>Architecture"
         ],
         "yaxis": "y",
         "type": "scatter"
        }
       ],
       "layout": {
        "template": {
         "data": {
          "barpolar": [
           {
            "marker": {
             "line": {
              "color": "#E5ECF6",
              "width": 0.5
             },
             "pattern": {
              "fillmode": "overlay",
              "size": 10,
              "solidity": 0.2
             }
            },
            "type": "barpolar"
           }
          ],
          "bar": [
           {
            "error_x": {
             "color": "#2a3f5f"
            },
            "error_y": {
             "color": "#2a3f5f"
            },
            "marker": {
             "line": {
              "color": "#E5ECF6",
              "width": 0.5
             },
             "pattern": {
              "fillmode": "overlay",
              "size": 10,
              "solidity": 0.2
             }
            },
            "type": "bar"
           }
          ],
          "carpet": [
           {
            "aaxis": {
             "endlinecolor": "#2a3f5f",
             "gridcolor": "white",
             "linecolor": "white",
             "minorgridcolor": "white",
             "startlinecolor": "#2a3f5f"
            },
            "baxis": {
             "endlinecolor": "#2a3f5f",
             "gridcolor": "white",
             "linecolor": "white",
             "minorgridcolor": "white",
             "startlinecolor": "#2a3f5f"
            },
            "type": "carpet"
           }
          ],
          "choropleth": [
           {
            "colorbar": {
             "outlinewidth": 0,
             "ticks": ""
            },
            "type": "choropleth"
           }
          ],
          "contourcarpet": [
           {
            "colorbar": {
             "outlinewidth": 0,
             "ticks": ""
            },
            "type": "contourcarpet"
           }
          ],
          "contour": [
           {
            "colorbar": {
             "outlinewidth": 0,
             "ticks": ""
            },
            "colorscale": [
             [
              0.0,
              "#0d0887"
             ],
             [
              0.1111111111111111,
              "#46039f"
             ],
             [
              0.2222222222222222,
              "#7201a8"
             ],
             [
              0.3333333333333333,
              "#9c179e"
             ],
             [
              0.4444444444444444,
              "#bd3786"
             ],
             [
              0.5555555555555556,
              "#d8576b"
             ],
             [
              0.6666666666666666,
              "#ed7953"
             ],
             [
              0.7777777777777778,
              "#fb9f3a"
             ],
             [
              0.8888888888888888,
              "#fdca26"
             ],
             [
              1.0,
              "#f0f921"
             ]
            ],
            "type": "contour"
           }
          ],
          "heatmapgl": [
           {
            "colorbar": {
             "outlinewidth": 0,
             "ticks": ""
            },
            "colorscale": [
             [
              0.0,
              "#0d0887"
             ],
             [
              0.1111111111111111,
              "#46039f"
             ],
             [
              0.2222222222222222,
              "#7201a8"
             ],
             [
              0.3333333333333333,
              "#9c179e"
             ],
             [
              0.4444444444444444,
              "#bd3786"
             ],
             [
              0.5555555555555556,
              "#d8576b"
             ],
             [
              0.6666666666666666,
              "#ed7953"
             ],
             [
              0.7777777777777778,
              "#fb9f3a"
             ],
             [
              0.8888888888888888,
              "#fdca26"
             ],
             [
              1.0,
              "#f0f921"
             ]
            ],
            "type": "heatmapgl"
           }
          ],
          "heatmap": [
           {
            "colorbar": {
             "outlinewidth": 0,
             "ticks": ""
            },
            "colorscale": [
             [
              0.0,
              "#0d0887"
             ],
             [
              0.1111111111111111,
              "#46039f"
             ],
             [
              0.2222222222222222,
              "#7201a8"
             ],
             [
              0.3333333333333333,
              "#9c179e"
             ],
             [
              0.4444444444444444,
              "#bd3786"
             ],
             [
              0.5555555555555556,
              "#d8576b"
             ],
             [
              0.6666666666666666,
              "#ed7953"
             ],
             [
              0.7777777777777778,
              "#fb9f3a"
             ],
             [
              0.8888888888888888,
              "#fdca26"
             ],
             [
              1.0,
              "#f0f921"
             ]
            ],
            "type": "heatmap"
           }
          ],
          "histogram2dcontour": [
           {
            "colorbar": {
             "outlinewidth": 0,
             "ticks": ""
            },
            "colorscale": [
             [
              0.0,
              "#0d0887"
             ],
             [
              0.1111111111111111,
              "#46039f"
             ],
             [
              0.2222222222222222,
              "#7201a8"
             ],
             [
              0.3333333333333333,
              "#9c179e"
             ],
             [
              0.4444444444444444,
              "#bd3786"
             ],
             [
              0.5555555555555556,
              "#d8576b"
             ],
             [
              0.6666666666666666,
              "#ed7953"
             ],
             [
              0.7777777777777778,
              "#fb9f3a"
             ],
             [
              0.8888888888888888,
              "#fdca26"
             ],
             [
              1.0,
              "#f0f921"
             ]
            ],
            "type": "histogram2dcontour"
           }
          ],
          "histogram2d": [
           {
            "colorbar": {
             "outlinewidth": 0,
             "ticks": ""
            },
            "colorscale": [
             [
              0.0,
              "#0d0887"
             ],
             [
              0.1111111111111111,
              "#46039f"
             ],
             [
              0.2222222222222222,
              "#7201a8"
             ],
             [
              0.3333333333333333,
              "#9c179e"
             ],
             [
              0.4444444444444444,
              "#bd3786"
             ],
             [
              0.5555555555555556,
              "#d8576b"
             ],
             [
              0.6666666666666666,
              "#ed7953"
             ],
             [
              0.7777777777777778,
              "#fb9f3a"
             ],
             [
              0.8888888888888888,
              "#fdca26"
             ],
             [
              1.0,
              "#f0f921"
             ]
            ],
            "type": "histogram2d"
           }
          ],
          "histogram": [
           {
            "marker": {
             "pattern": {
              "fillmode": "overlay",
              "size": 10,
              "solidity": 0.2
             }
            },
            "type": "histogram"
           }
          ],
          "mesh3d": [
           {
            "colorbar": {
             "outlinewidth": 0,
             "ticks": ""
            },
            "type": "mesh3d"
           }
          ],
          "parcoords": [
           {
            "line": {
             "colorbar": {
              "outlinewidth": 0,
              "ticks": ""
             }
            },
            "type": "parcoords"
           }
          ],
          "pie": [
           {
            "automargin": true,
            "type": "pie"
           }
          ],
          "scatter3d": [
           {
            "line": {
             "colorbar": {
              "outlinewidth": 0,
              "ticks": ""
             }
            },
            "marker": {
             "colorbar": {
              "outlinewidth": 0,
              "ticks": ""
             }
            },
            "type": "scatter3d"
           }
          ],
          "scattercarpet": [
           {
            "marker": {
             "colorbar": {
              "outlinewidth": 0,
              "ticks": ""
             }
            },
            "type": "scattercarpet"
           }
          ],
          "scattergeo": [
           {
            "marker": {
             "colorbar": {
              "outlinewidth": 0,
              "ticks": ""
             }
            },
            "type": "scattergeo"
           }
          ],
          "scattergl": [
           {
            "marker": {
             "colorbar": {
              "outlinewidth": 0,
              "ticks": ""
             }
            },
            "type": "scattergl"
           }
          ],
          "scattermapbox": [
           {
            "marker": {
             "colorbar": {
              "outlinewidth": 0,
              "ticks": ""
             }
            },
            "type": "scattermapbox"
           }
          ],
          "scatterpolargl": [
           {
            "marker": {
             "colorbar": {
              "outlinewidth": 0,
              "ticks": ""
             }
            },
            "type": "scatterpolargl"
           }
          ],
          "scatterpolar": [
           {
            "marker": {
             "colorbar": {
              "outlinewidth": 0,
              "ticks": ""
             }
            },
            "type": "scatterpolar"
           }
          ],
          "scatter": [
           {
            "fillpattern": {
             "fillmode": "overlay",
             "size": 10,
             "solidity": 0.2
            },
            "type": "scatter"
           }
          ],
          "scatterternary": [
           {
            "marker": {
             "colorbar": {
              "outlinewidth": 0,
              "ticks": ""
             }
            },
            "type": "scatterternary"
           }
          ],
          "surface": [
           {
            "colorbar": {
             "outlinewidth": 0,
             "ticks": ""
            },
            "colorscale": [
             [
              0.0,
              "#0d0887"
             ],
             [
              0.1111111111111111,
              "#46039f"
             ],
             [
              0.2222222222222222,
              "#7201a8"
             ],
             [
              0.3333333333333333,
              "#9c179e"
             ],
             [
              0.4444444444444444,
              "#bd3786"
             ],
             [
              0.5555555555555556,
              "#d8576b"
             ],
             [
              0.6666666666666666,
              "#ed7953"
             ],
             [
              0.7777777777777778,
              "#fb9f3a"
             ],
             [
              0.8888888888888888,
              "#fdca26"
             ],
             [
              1.0,
              "#f0f921"
             ]
            ],
            "type": "surface"
           }
          ],
          "table": [
           {
            "cells": {
             "fill": {
              "color": "#EBF0F8"
             },
             "line": {
              "color": "white"
             }
            },
            "header": {
             "fill": {
              "color": "#C8D4E3"
             },
             "line": {
              "color": "white"
             }
            },
            "type": "table"
           }
          ]
         },
         "layout": {
          "annotationdefaults": {
           "arrowcolor": "#2a3f5f",
           "arrowhead": 0,
           "arrowwidth": 1
          },
          "autotypenumbers": "strict",
          "coloraxis": {
           "colorbar": {
            "outlinewidth": 0,
            "ticks": ""
           }
          },
          "colorscale": {
           "diverging": [
            [
             0,
             "#8e0152"
            ],
            [
             0.1,
             "#c51b7d"
            ],
            [
             0.2,
             "#de77ae"
            ],
            [
             0.3,
             "#f1b6da"
            ],
            [
             0.4,
             "#fde0ef"
            ],
            [
             0.5,
             "#f7f7f7"
            ],
            [
             0.6,
             "#e6f5d0"
            ],
            [
             0.7,
             "#b8e186"
            ],
            [
             0.8,
             "#7fbc41"
            ],
            [
             0.9,
             "#4d9221"
            ],
            [
             1,
             "#276419"
            ]
           ],
           "sequential": [
            [
             0.0,
             "#0d0887"
            ],
            [
             0.1111111111111111,
             "#46039f"
            ],
            [
             0.2222222222222222,
             "#7201a8"
            ],
            [
             0.3333333333333333,
             "#9c179e"
            ],
            [
             0.4444444444444444,
             "#bd3786"
            ],
            [
             0.5555555555555556,
             "#d8576b"
            ],
            [
             0.6666666666666666,
             "#ed7953"
            ],
            [
             0.7777777777777778,
             "#fb9f3a"
            ],
            [
             0.8888888888888888,
             "#fdca26"
            ],
            [
             1.0,
             "#f0f921"
            ]
           ],
           "sequentialminus": [
            [
             0.0,
             "#0d0887"
            ],
            [
             0.1111111111111111,
             "#46039f"
            ],
            [
             0.2222222222222222,
             "#7201a8"
            ],
            [
             0.3333333333333333,
             "#9c179e"
            ],
            [
             0.4444444444444444,
             "#bd3786"
            ],
            [
             0.5555555555555556,
             "#d8576b"
            ],
            [
             0.6666666666666666,
             "#ed7953"
            ],
            [
             0.7777777777777778,
             "#fb9f3a"
            ],
            [
             0.8888888888888888,
             "#fdca26"
            ],
            [
             1.0,
             "#f0f921"
            ]
           ]
          },
          "colorway": [
           "#636efa",
           "#EF553B",
           "#00cc96",
           "#ab63fa",
           "#FFA15A",
           "#19d3f3",
           "#FF6692",
           "#B6E880",
           "#FF97FF",
           "#FECB52"
          ],
          "font": {
           "color": "#2a3f5f"
          },
          "geo": {
           "bgcolor": "white",
           "lakecolor": "white",
           "landcolor": "#E5ECF6",
           "showlakes": true,
           "showland": true,
           "subunitcolor": "white"
          },
          "hoverlabel": {
           "align": "left"
          },
          "hovermode": "closest",
          "mapbox": {
           "style": "light"
          },
          "paper_bgcolor": "white",
          "plot_bgcolor": "#E5ECF6",
          "polar": {
           "angularaxis": {
            "gridcolor": "white",
            "linecolor": "white",
            "ticks": ""
           },
           "bgcolor": "#E5ECF6",
           "radialaxis": {
            "gridcolor": "white",
            "linecolor": "white",
            "ticks": ""
           }
          },
          "scene": {
           "xaxis": {
            "backgroundcolor": "#E5ECF6",
            "gridcolor": "white",
            "gridwidth": 2,
            "linecolor": "white",
            "showbackground": true,
            "ticks": "",
            "zerolinecolor": "white"
           },
           "yaxis": {
            "backgroundcolor": "#E5ECF6",
            "gridcolor": "white",
            "gridwidth": 2,
            "linecolor": "white",
            "showbackground": true,
            "ticks": "",
            "zerolinecolor": "white"
           },
           "zaxis": {
            "backgroundcolor": "#E5ECF6",
            "gridcolor": "white",
            "gridwidth": 2,
            "linecolor": "white",
            "showbackground": true,
            "ticks": "",
            "zerolinecolor": "white"
           }
          },
          "shapedefaults": {
           "line": {
            "color": "#2a3f5f"
           }
          },
          "ternary": {
           "aaxis": {
            "gridcolor": "white",
            "linecolor": "white",
            "ticks": ""
           },
           "baxis": {
            "gridcolor": "white",
            "linecolor": "white",
            "ticks": ""
           },
           "bgcolor": "#E5ECF6",
           "caxis": {
            "gridcolor": "white",
            "linecolor": "white",
            "ticks": ""
           }
          },
          "title": {
           "x": 0.05
          },
          "xaxis": {
           "automargin": true,
           "gridcolor": "white",
           "linecolor": "white",
           "ticks": "",
           "title": {
            "standoff": 15
           },
           "zerolinecolor": "white",
           "zerolinewidth": 2
          },
          "yaxis": {
           "automargin": true,
           "gridcolor": "white",
           "linecolor": "white",
           "ticks": "",
           "title": {
            "standoff": 15
           },
           "zerolinecolor": "white",
           "zerolinewidth": 2
          }
         }
        },
        "xaxis": {
         "anchor": "y",
         "domain": [
          0.0,
          0.98
         ],
         "title": {
          "text": "Rank"
         }
        },
        "yaxis": {
         "anchor": "x",
         "domain": [
          0.0,
          0.2275
         ],
         "title": {
          "text": "Scenario"
         }
        },
        "xaxis2": {
         "anchor": "y2",
         "domain": [
          0.0,
          0.98
         ],
         "matches": "x",
         "showticklabels": false
        },
        "yaxis2": {
         "anchor": "x2",
         "domain": [
          0.2575,
          0.485
         ],
         "matches": "y",
         "title": {
          "text": "Scenario"
         }
        },
        "xaxis3": {
         "anchor": "y3",
         "domain": [
          0.0,
          0.98
         ],
         "matches": "x",
         "showticklabels": false
        },
        "yaxis3": {
         "anchor": "x3",
         "domain": [
          0.515,
          0.7425
         ],
         "matches": "y",
         "title": {
          "text": "Scenario"
         }
        },
        "xaxis4": {
         "anchor": "y4",
         "domain": [
          0.0,
          0.98
         ],
         "matches": "x",
         "showticklabels": false
        },
        "yaxis4": {
         "anchor": "x4",
         "domain": [
          0.7725,
          1.0
         ],
         "matches": "y",
         "title": {
          "text": "Scenario"
         }
        },
        "annotations": [
         {
          "font": {},
          "showarrow": false,
          "text": "Regret",
          "textangle": 90,
          "x": 0.98,
          "xanchor": "left",
          "xref": "paper",
          "y": 0.11375,
          "yanchor": "middle",
          "yref": "paper"
         },
         {
          "font": {},
          "showarrow": false,
          "text": "Percentile",
          "textangle": 90,
          "x": 0.98,
          "xanchor": "left",
          "xref": "paper",
          "y": 0.37124999999999997,
          "yanchor": "middle",
          "yref": "paper"
         },
         {
          "font": {},
          "showarrow": false,
          "text": "Improvement",
          "textangle": 90,
          "x": 0.98,
          "xanchor": "left",
          "xref": "paper",
          "y": 0.62875,
          "yanchor": "middle",
          "yref": "paper"
         },
         {
          "font": {},
          "showarrow": false,
          "text": "Weightedtau",
          "textangle": 90,
          "x": 0.98,
          "xanchor": "left",
          "xref": "paper",
          "y": 0.88625,
          "yanchor": "middle",
          "yref": "paper"
         }
        ],
        "legend": {
         "title": {
          "text": "Task selector"
         },
         "tracegroupgap": 0,
         "itemsizing": "constant"
        },
        "margin": {
         "t": 60
        },
        "font": {
         "size": 20
        },
        "width": 1200,
        "height": 1200,
        "showlegend": true
       },
       "config": {
        "plotlyServerURL": "https://plot.ly"
       }
      },
      "text/html": [
       "<div>                            <div id=\"66bf7fb1-7656-428d-8b09-fa82fbbf2a87\" class=\"plotly-graph-div\" style=\"height:1200px; width:1200px;\"></div>            <script type=\"text/javascript\">                require([\"plotly\"], function(Plotly) {                    window.PLOTLYENV=window.PLOTLYENV || {};                                    if (document.getElementById(\"66bf7fb1-7656-428d-8b09-fa82fbbf2a87\")) {                    Plotly.newPlot(                        \"66bf7fb1-7656-428d-8b09-fa82fbbf2a87\",                        [{\"error_x\":{\"array\":[0.14759391562476878,0.15067182119248515,0.14546785819404243,0.16243461383217261]},\"hovertemplate\":\"dist=Manual\\u003cbr\\u003emeta=Weightedtau\\u003cbr\\u003eRank=%{x}\\u003cbr\\u003eScenario=%{y}\\u003cbr\\u003esize=%{marker.size}\\u003cextra\\u003e\\u003c\\u002fextra\\u003e\",\"legendgroup\":\"Manual\",\"marker\":{\"color\":\"rgb(230, 25, 75)\",\"size\":[5,5,5,5],\"sizemode\":\"area\",\"sizeref\":0.0125,\"symbol\":\"circle\"},\"mode\":\"markers\",\"name\":\"Manual\",\"orientation\":\"h\",\"showlegend\":true,\"x\":[4.581841085271318,5.286492248062015,4.133717054263565,4.628476744186046],\"xaxis\":\"x4\",\"y\":[\"Co-Training\\u003cbr\\u003eData\",\"Augmentation\\u003cbr\\u003ePolicy\",\"Pretraining\\u003cbr\\u003eData\",\"Model\\u003cbr\\u003eArchitecture\"],\"yaxis\":\"y4\",\"type\":\"scatter\"},{\"error_x\":{\"array\":[0.14232144716629397,0.13839202078672327,0.14507921295768023,0.14328981345872846]},\"hovertemplate\":\"dist=Manual\\u003cbr\\u003emeta=Improvement\\u003cbr\\u003eRank=%{x}\\u003cbr\\u003eScenario=%{y}\\u003cbr\\u003esize=%{marker.size}\\u003cextra\\u003e\\u003c\\u002fextra\\u003e\",\"legendgroup\":\"Manual\",\"marker\":{\"color\":\"rgb(230, 25, 75)\",\"size\":[5,5,5,5],\"sizemode\":\"area\",\"sizeref\":0.0125,\"symbol\":\"circle\"},\"mode\":\"markers\",\"name\":\"Manual\",\"orientation\":\"h\",\"showlegend\":false,\"x\":[4.56012984496124,5.090676356589147,4.626125968992248,4.369718992248062],\"xaxis\":\"x3\",\"y\":[\"Co-Training\\u003cbr\\u003eData\",\"Augmentation\\u003cbr\\u003ePolicy\",\"Pretraining\\u003cbr\\u003eData\",\"Model\\u003cbr\\u003eArchitecture\"],\"yaxis\":\"y3\",\"type\":\"scatter\"},{\"error_x\":{\"array\":[0.14716899304378223,0.14037757547090787,0.1432093086197823,0.14453982417170794]},\"hovertemplate\":\"dist=Manual\\u003cbr\\u003emeta=Percentile\\u003cbr\\u003eRank=%{x}\\u003cbr\\u003eScenario=%{y}\\u003cbr\\u003esize=%{marker.size}\\u003cextra\\u003e\\u003c\\u002fextra\\u003e\",\"legendgroup\":\"Manual\",\"marker\":{\"color\":\"rgb(230, 25, 75)\",\"size\":[5,5,5,5],\"sizemode\":\"area\",\"sizeref\":0.0125,\"symbol\":\"circle\"},\"mode\":\"markers\",\"name\":\"Manual\",\"orientation\":\"h\",\"showlegend\":false,\"x\":[4.538331395348838,5.140825581395349,4.704558139534884,4.331759689922481],\"xaxis\":\"x2\",\"y\":[\"Co-Training\\u003cbr\\u003eData\",\"Augmentation\\u003cbr\\u003ePolicy\",\"Pretraining\\u003cbr\\u003eData\",\"Model\\u003cbr\\u003eArchitecture\"],\"yaxis\":\"y2\",\"type\":\"scatter\"},{\"error_x\":{\"array\":[0.1372521222409397,0.13759126223577278,0.14734564807234393,0.14377507372580367]},\"hovertemplate\":\"dist=Manual\\u003cbr\\u003emeta=Regret\\u003cbr\\u003eRank=%{x}\\u003cbr\\u003eScenario=%{y}\\u003cbr\\u003esize=%{marker.size}\\u003cextra\\u003e\\u003c\\u002fextra\\u003e\",\"legendgroup\":\"Manual\",\"marker\":{\"color\":\"rgb(230, 25, 75)\",\"size\":[5,5,5,5],\"sizemode\":\"area\",\"sizeref\":0.0125,\"symbol\":\"circle\"},\"mode\":\"markers\",\"name\":\"Manual\",\"orientation\":\"h\",\"showlegend\":false,\"x\":[4.571788759689922,5.11045542635659,4.631691860465116,4.4291802325581395],\"xaxis\":\"x\",\"y\":[\"Co-Training\\u003cbr\\u003eData\",\"Augmentation\\u003cbr\\u003ePolicy\",\"Pretraining\\u003cbr\\u003eData\",\"Model\\u003cbr\\u003eArchitecture\"],\"yaxis\":\"y\",\"type\":\"scatter\"},{\"error_x\":{\"array\":[0.12324304203488085,0.1259679692266151,0.12494149126454637,0.12965420391330276]},\"hovertemplate\":\"dist=VDNA\\u003cbr\\u003emeta=Weightedtau\\u003cbr\\u003eRank=%{x}\\u003cbr\\u003eScenario=%{y}\\u003cbr\\u003esize=%{marker.size}\\u003cextra\\u003e\\u003c\\u002fextra\\u003e\",\"legendgroup\":\"VDNA\",\"marker\":{\"color\":\"rgb(67, 99, 216)\",\"size\":[5,5,5,5],\"sizemode\":\"area\",\"sizeref\":0.0125,\"symbol\":\"circle\"},\"mode\":\"markers\",\"name\":\"VDNA\",\"orientation\":\"h\",\"showlegend\":true,\"x\":[4.348523255813953,4.8506434108527134,4.535093023255813,4.593011627906977],\"xaxis\":\"x4\",\"y\":[\"Co-Training\\u003cbr\\u003eData\",\"Augmentation\\u003cbr\\u003ePolicy\",\"Pretraining\\u003cbr\\u003eData\",\"Model\\u003cbr\\u003eArchitecture\"],\"yaxis\":\"y4\",\"type\":\"scatter\"},{\"error_x\":{\"array\":[0.12201681944207204,0.11671399241963604,0.11764792319502047,0.1221928839186462]},\"hovertemplate\":\"dist=VDNA\\u003cbr\\u003emeta=Improvement\\u003cbr\\u003eRank=%{x}\\u003cbr\\u003eScenario=%{y}\\u003cbr\\u003esize=%{marker.size}\\u003cextra\\u003e\\u003c\\u002fextra\\u003e\",\"legendgroup\":\"VDNA\",\"marker\":{\"color\":\"rgb(67, 99, 216)\",\"size\":[5,5,5,5],\"sizemode\":\"area\",\"sizeref\":0.0125,\"symbol\":\"circle\"},\"mode\":\"markers\",\"name\":\"VDNA\",\"orientation\":\"h\",\"showlegend\":false,\"x\":[4.6257965116279065,4.410106589147286,4.404527131782945,4.706972868217053],\"xaxis\":\"x3\",\"y\":[\"Co-Training\\u003cbr\\u003eData\",\"Augmentation\\u003cbr\\u003ePolicy\",\"Pretraining\\u003cbr\\u003eData\",\"Model\\u003cbr\\u003eArchitecture\"],\"yaxis\":\"y3\",\"type\":\"scatter\"},{\"error_x\":{\"array\":[0.12380523053698825,0.12321141878485624,0.12267696212935593,0.11467982589998738]},\"hovertemplate\":\"dist=VDNA\\u003cbr\\u003emeta=Percentile\\u003cbr\\u003eRank=%{x}\\u003cbr\\u003eScenario=%{y}\\u003cbr\\u003esize=%{marker.size}\\u003cextra\\u003e\\u003c\\u002fextra\\u003e\",\"legendgroup\":\"VDNA\",\"marker\":{\"color\":\"rgb(67, 99, 216)\",\"size\":[5,5,5,5],\"sizemode\":\"area\",\"sizeref\":0.0125,\"symbol\":\"circle\"},\"mode\":\"markers\",\"name\":\"VDNA\",\"orientation\":\"h\",\"showlegend\":false,\"x\":[4.596257751937984,4.38756007751938,4.360521317829457,4.698734496124031],\"xaxis\":\"x2\",\"y\":[\"Co-Training\\u003cbr\\u003eData\",\"Augmentation\\u003cbr\\u003ePolicy\",\"Pretraining\\u003cbr\\u003eData\",\"Model\\u003cbr\\u003eArchitecture\"],\"yaxis\":\"y2\",\"type\":\"scatter\"},{\"error_x\":{\"array\":[0.12125230417089315,0.12281270869430379,0.11624989679262782,0.12395107403379513]},\"hovertemplate\":\"dist=VDNA\\u003cbr\\u003emeta=Regret\\u003cbr\\u003eRank=%{x}\\u003cbr\\u003eScenario=%{y}\\u003cbr\\u003esize=%{marker.size}\\u003cextra\\u003e\\u003c\\u002fextra\\u003e\",\"legendgroup\":\"VDNA\",\"marker\":{\"color\":\"rgb(67, 99, 216)\",\"size\":[5,5,5,5],\"sizemode\":\"area\",\"sizeref\":0.0125,\"symbol\":\"circle\"},\"mode\":\"markers\",\"name\":\"VDNA\",\"orientation\":\"h\",\"showlegend\":false,\"x\":[4.604263565891474,4.365978682170542,4.361158914728682,4.676005813953489],\"xaxis\":\"x\",\"y\":[\"Co-Training\\u003cbr\\u003eData\",\"Augmentation\\u003cbr\\u003ePolicy\",\"Pretraining\\u003cbr\\u003eData\",\"Model\\u003cbr\\u003eArchitecture\"],\"yaxis\":\"y\",\"type\":\"scatter\"},{\"error_x\":{\"array\":[0.140713336305561,0.11668346829749202,0.11446058110076107,0.13680484331828024]},\"hovertemplate\":\"dist=FED\\u003cbr\\u003emeta=Weightedtau\\u003cbr\\u003eRank=%{x}\\u003cbr\\u003eScenario=%{y}\\u003cbr\\u003esize=%{marker.size}\\u003cextra\\u003e\\u003c\\u002fextra\\u003e\",\"legendgroup\":\"FED\",\"marker\":{\"color\":\"rgb(245, 130, 49)\",\"size\":[5,5,5,5],\"sizemode\":\"area\",\"sizeref\":0.0125,\"symbol\":\"circle\"},\"mode\":\"markers\",\"name\":\"FED\",\"orientation\":\"h\",\"showlegend\":true,\"x\":[4.749736434108527,5.2775,4.817527131782946,5.173406976744186],\"xaxis\":\"x4\",\"y\":[\"Co-Training\\u003cbr\\u003eData\",\"Augmentation\\u003cbr\\u003ePolicy\",\"Pretraining\\u003cbr\\u003eData\",\"Model\\u003cbr\\u003eArchitecture\"],\"yaxis\":\"y4\",\"type\":\"scatter\"},{\"error_x\":{\"array\":[0.15240345119659338,0.14675974801491584,0.138699580098391,0.1404810748539955]},\"hovertemplate\":\"dist=FED\\u003cbr\\u003emeta=Improvement\\u003cbr\\u003eRank=%{x}\\u003cbr\\u003eScenario=%{y}\\u003cbr\\u003esize=%{marker.size}\\u003cextra\\u003e\\u003c\\u002fextra\\u003e\",\"legendgroup\":\"FED\",\"marker\":{\"color\":\"rgb(245, 130, 49)\",\"size\":[5,5,5,5],\"sizemode\":\"area\",\"sizeref\":0.0125,\"symbol\":\"circle\"},\"mode\":\"markers\",\"name\":\"FED\",\"orientation\":\"h\",\"showlegend\":false,\"x\":[4.724866279069767,4.80896511627907,4.417587209302325,4.3140096899224805],\"xaxis\":\"x3\",\"y\":[\"Co-Training\\u003cbr\\u003eData\",\"Augmentation\\u003cbr\\u003ePolicy\",\"Pretraining\\u003cbr\\u003eData\",\"Model\\u003cbr\\u003eArchitecture\"],\"yaxis\":\"y3\",\"type\":\"scatter\"},{\"error_x\":{\"array\":[0.14802354545836788,0.1473826559777843,0.14668114956886524,0.14278981200644453]},\"hovertemplate\":\"dist=FED\\u003cbr\\u003emeta=Percentile\\u003cbr\\u003eRank=%{x}\\u003cbr\\u003eScenario=%{y}\\u003cbr\\u003esize=%{marker.size}\\u003cextra\\u003e\\u003c\\u002fextra\\u003e\",\"legendgroup\":\"FED\",\"marker\":{\"color\":\"rgb(245, 130, 49)\",\"size\":[5,5,5,5],\"sizemode\":\"area\",\"sizeref\":0.0125,\"symbol\":\"circle\"},\"mode\":\"markers\",\"name\":\"FED\",\"orientation\":\"h\",\"showlegend\":false,\"x\":[4.717804263565891,4.763098837209302,4.4155,4.306612403100774],\"xaxis\":\"x2\",\"y\":[\"Co-Training\\u003cbr\\u003eData\",\"Augmentation\\u003cbr\\u003ePolicy\",\"Pretraining\\u003cbr\\u003eData\",\"Model\\u003cbr\\u003eArchitecture\"],\"yaxis\":\"y2\",\"type\":\"scatter\"},{\"error_x\":{\"array\":[0.14952993725769395,0.14170933978818806,0.14020200000442246,0.1346951255338796]},\"hovertemplate\":\"dist=FED\\u003cbr\\u003emeta=Regret\\u003cbr\\u003eRank=%{x}\\u003cbr\\u003eScenario=%{y}\\u003cbr\\u003esize=%{marker.size}\\u003cextra\\u003e\\u003c\\u002fextra\\u003e\",\"legendgroup\":\"FED\",\"marker\":{\"color\":\"rgb(245, 130, 49)\",\"size\":[5,5,5,5],\"sizemode\":\"area\",\"sizeref\":0.0125,\"symbol\":\"circle\"},\"mode\":\"markers\",\"name\":\"FED\",\"orientation\":\"h\",\"showlegend\":false,\"x\":[4.743848837209302,4.826583333333333,4.410007751937985,4.289346899224805],\"xaxis\":\"x\",\"y\":[\"Co-Training\\u003cbr\\u003eData\",\"Augmentation\\u003cbr\\u003ePolicy\",\"Pretraining\\u003cbr\\u003eData\",\"Model\\u003cbr\\u003eArchitecture\"],\"yaxis\":\"y\",\"type\":\"scatter\"},{\"error_x\":{\"array\":[0.11146466719517308,0.09467533578275068,0.11814299313083232,0.11471731009006798]},\"hovertemplate\":\"dist=FID\\u003cbr\\u003emeta=Weightedtau\\u003cbr\\u003eRank=%{x}\\u003cbr\\u003eScenario=%{y}\\u003cbr\\u003esize=%{marker.size}\\u003cextra\\u003e\\u003c\\u002fextra\\u003e\",\"legendgroup\":\"FID\",\"marker\":{\"color\":\"rgb(145, 30, 180)\",\"size\":[5,5,5,5],\"sizemode\":\"area\",\"sizeref\":0.0125,\"symbol\":\"circle\"},\"mode\":\"markers\",\"name\":\"FID\",\"orientation\":\"h\",\"showlegend\":true,\"x\":[4.8263178294573645,4.874643410852713,4.839934108527132,4.653790697674418],\"xaxis\":\"x4\",\"y\":[\"Co-Training\\u003cbr\\u003eData\",\"Augmentation\\u003cbr\\u003ePolicy\",\"Pretraining\\u003cbr\\u003eData\",\"Model\\u003cbr\\u003eArchitecture\"],\"yaxis\":\"y4\",\"type\":\"scatter\"},{\"error_x\":{\"array\":[0.12444582136086142,0.11144109880333128,0.12335483541291122,0.12086539641306412]},\"hovertemplate\":\"dist=FID\\u003cbr\\u003emeta=Improvement\\u003cbr\\u003eRank=%{x}\\u003cbr\\u003eScenario=%{y}\\u003cbr\\u003esize=%{marker.size}\\u003cextra\\u003e\\u003c\\u002fextra\\u003e\",\"legendgroup\":\"FID\",\"marker\":{\"color\":\"rgb(145, 30, 180)\",\"size\":[5,5,5,5],\"sizemode\":\"area\",\"sizeref\":0.0125,\"symbol\":\"circle\"},\"mode\":\"markers\",\"name\":\"FID\",\"orientation\":\"h\",\"showlegend\":false,\"x\":[4.589193798449613,4.203348837209303,4.598961240310078,4.610928294573644],\"xaxis\":\"x3\",\"y\":[\"Co-Training\\u003cbr\\u003eData\",\"Augmentation\\u003cbr\\u003ePolicy\",\"Pretraining\\u003cbr\\u003eData\",\"Model\\u003cbr\\u003eArchitecture\"],\"yaxis\":\"y3\",\"type\":\"scatter\"},{\"error_x\":{\"array\":[0.12457011374477875,0.11877946128456511,0.1310146671349315,0.12397360438843824]},\"hovertemplate\":\"dist=FID\\u003cbr\\u003emeta=Percentile\\u003cbr\\u003eRank=%{x}\\u003cbr\\u003eScenario=%{y}\\u003cbr\\u003esize=%{marker.size}\\u003cextra\\u003e\\u003c\\u002fextra\\u003e\",\"legendgroup\":\"FID\",\"marker\":{\"color\":\"rgb(145, 30, 180)\",\"size\":[5,5,5,5],\"sizemode\":\"area\",\"sizeref\":0.0125,\"symbol\":\"circle\"},\"mode\":\"markers\",\"name\":\"FID\",\"orientation\":\"h\",\"showlegend\":false,\"x\":[4.56315503875969,4.202627906976744,4.6083701550387595,4.624127906976744],\"xaxis\":\"x2\",\"y\":[\"Co-Training\\u003cbr\\u003eData\",\"Augmentation\\u003cbr\\u003ePolicy\",\"Pretraining\\u003cbr\\u003eData\",\"Model\\u003cbr\\u003eArchitecture\"],\"yaxis\":\"y2\",\"type\":\"scatter\"},{\"error_x\":{\"array\":[0.12316626297768098,0.12129931571096188,0.12341110007376557,0.11978605621321373]},\"hovertemplate\":\"dist=FID\\u003cbr\\u003emeta=Regret\\u003cbr\\u003eRank=%{x}\\u003cbr\\u003eScenario=%{y}\\u003cbr\\u003esize=%{marker.size}\\u003cextra\\u003e\\u003c\\u002fextra\\u003e\",\"legendgroup\":\"FID\",\"marker\":{\"color\":\"rgb(145, 30, 180)\",\"size\":[5,5,5,5],\"sizemode\":\"area\",\"sizeref\":0.0125,\"symbol\":\"circle\"},\"mode\":\"markers\",\"name\":\"FID\",\"orientation\":\"h\",\"showlegend\":false,\"x\":[4.598680232558141,4.192569767441861,4.599201550387598,4.601207364341085],\"xaxis\":\"x\",\"y\":[\"Co-Training\\u003cbr\\u003eData\",\"Augmentation\\u003cbr\\u003ePolicy\",\"Pretraining\\u003cbr\\u003eData\",\"Model\\u003cbr\\u003eArchitecture\"],\"yaxis\":\"y\",\"type\":\"scatter\"},{\"error_x\":{\"array\":[0.12186350174728085,0.11412986501865911,0.12847126963008243,0.12563297916550092]},\"hovertemplate\":\"dist=P2L (w\\u002fo samples)\\u003cbr\\u003emeta=Weightedtau\\u003cbr\\u003eRank=%{x}\\u003cbr\\u003eScenario=%{y}\\u003cbr\\u003esize=%{marker.size}\\u003cextra\\u003e\\u003c\\u002fextra\\u003e\",\"legendgroup\":\"P2L (w\\u002fo samples)\",\"marker\":{\"color\":\"rgb(70, 240, 240)\",\"size\":[5,5,5,5],\"sizemode\":\"area\",\"sizeref\":0.0125,\"symbol\":\"circle\"},\"mode\":\"markers\",\"name\":\"P2L (w\\u002fo samples)\",\"orientation\":\"h\",\"showlegend\":true,\"x\":[4.486217054263566,5.5919186046511635,4.686414728682171,4.964604651162791],\"xaxis\":\"x4\",\"y\":[\"Co-Training\\u003cbr\\u003eData\",\"Augmentation\\u003cbr\\u003ePolicy\",\"Pretraining\\u003cbr\\u003eData\",\"Model\\u003cbr\\u003eArchitecture\"],\"yaxis\":\"y4\",\"type\":\"scatter\"},{\"error_x\":{\"array\":[0.12705279426895177,0.12639720895583498,0.12341418759615133,0.12581836251988288]},\"hovertemplate\":\"dist=P2L (w\\u002fo samples)\\u003cbr\\u003emeta=Improvement\\u003cbr\\u003eRank=%{x}\\u003cbr\\u003eScenario=%{y}\\u003cbr\\u003esize=%{marker.size}\\u003cextra\\u003e\\u003c\\u002fextra\\u003e\",\"legendgroup\":\"P2L (w\\u002fo samples)\",\"marker\":{\"color\":\"rgb(70, 240, 240)\",\"size\":[5,5,5,5],\"sizemode\":\"area\",\"sizeref\":0.0125,\"symbol\":\"circle\"},\"mode\":\"markers\",\"name\":\"P2L (w\\u002fo samples)\",\"orientation\":\"h\",\"showlegend\":false,\"x\":[4.610362403100774,4.447131782945736,4.434678294573643,4.592343023255814],\"xaxis\":\"x3\",\"y\":[\"Co-Training\\u003cbr\\u003eData\",\"Augmentation\\u003cbr\\u003ePolicy\",\"Pretraining\\u003cbr\\u003eData\",\"Model\\u003cbr\\u003eArchitecture\"],\"yaxis\":\"y3\",\"type\":\"scatter\"},{\"error_x\":{\"array\":[0.12404801965153003,0.12295544790671827,0.11636519523611862,0.13283808306627132]},\"hovertemplate\":\"dist=P2L (w\\u002fo samples)\\u003cbr\\u003emeta=Percentile\\u003cbr\\u003eRank=%{x}\\u003cbr\\u003eScenario=%{y}\\u003cbr\\u003esize=%{marker.size}\\u003cextra\\u003e\\u003c\\u002fextra\\u003e\",\"legendgroup\":\"P2L (w\\u002fo samples)\",\"marker\":{\"color\":\"rgb(70, 240, 240)\",\"size\":[5,5,5,5],\"sizemode\":\"area\",\"sizeref\":0.0125,\"symbol\":\"circle\"},\"mode\":\"markers\",\"name\":\"P2L (w\\u002fo samples)\",\"orientation\":\"h\",\"showlegend\":false,\"x\":[4.5569554263565895,4.447205426356589,4.4342170542635655,4.597837209302325],\"xaxis\":\"x2\",\"y\":[\"Co-Training\\u003cbr\\u003eData\",\"Augmentation\\u003cbr\\u003ePolicy\",\"Pretraining\\u003cbr\\u003eData\",\"Model\\u003cbr\\u003eArchitecture\"],\"yaxis\":\"y2\",\"type\":\"scatter\"},{\"error_x\":{\"array\":[0.12095464366765812,0.12181746133286393,0.12043653572347177,0.12840970136798208]},\"hovertemplate\":\"dist=P2L (w\\u002fo samples)\\u003cbr\\u003emeta=Regret\\u003cbr\\u003eRank=%{x}\\u003cbr\\u003eScenario=%{y}\\u003cbr\\u003esize=%{marker.size}\\u003cextra\\u003e\\u003c\\u002fextra\\u003e\",\"legendgroup\":\"P2L (w\\u002fo samples)\",\"marker\":{\"color\":\"rgb(70, 240, 240)\",\"size\":[5,5,5,5],\"sizemode\":\"area\",\"sizeref\":0.0125,\"symbol\":\"circle\"},\"mode\":\"markers\",\"name\":\"P2L (w\\u002fo samples)\",\"orientation\":\"h\",\"showlegend\":false,\"x\":[4.5454224806201555,4.464817829457364,4.4363565891472865,4.555955426356589],\"xaxis\":\"x\",\"y\":[\"Co-Training\\u003cbr\\u003eData\",\"Augmentation\\u003cbr\\u003ePolicy\",\"Pretraining\\u003cbr\\u003eData\",\"Model\\u003cbr\\u003eArchitecture\"],\"yaxis\":\"y\",\"type\":\"scatter\"},{\"error_x\":{\"array\":[0.14672831500966474,0.13357938807126246,0.14423052155405786,0.14259647248830462]},\"hovertemplate\":\"dist=bKLD(small,target)\\u003cbr\\u003emeta=Weightedtau\\u003cbr\\u003eRank=%{x}\\u003cbr\\u003eScenario=%{y}\\u003cbr\\u003esize=%{marker.size}\\u003cextra\\u003e\\u003c\\u002fextra\\u003e\",\"legendgroup\":\"bKLD(small,target)\",\"marker\":{\"color\":\"rgb(60, 180, 75)\",\"size\":[5,5,5,5],\"sizemode\":\"area\",\"sizeref\":0.0125,\"symbol\":\"circle\"},\"mode\":\"markers\",\"name\":\"bKLD(small,target)\",\"orientation\":\"h\",\"showlegend\":true,\"x\":[4.4523488372093025,2.9446511627906977,3.8038023255813953,4.062988372093024],\"xaxis\":\"x4\",\"y\":[\"Co-Training\\u003cbr\\u003eData\",\"Augmentation\\u003cbr\\u003ePolicy\",\"Pretraining\\u003cbr\\u003eData\",\"Model\\u003cbr\\u003eArchitecture\"],\"yaxis\":\"y4\",\"type\":\"scatter\"},{\"error_x\":{\"array\":[0.1258445028125493,0.12081495294207491,0.12434359296655466,0.11741357758039891]},\"hovertemplate\":\"dist=bKLD(small,target)\\u003cbr\\u003emeta=Improvement\\u003cbr\\u003eRank=%{x}\\u003cbr\\u003eScenario=%{y}\\u003cbr\\u003esize=%{marker.size}\\u003cextra\\u003e\\u003c\\u002fextra\\u003e\",\"legendgroup\":\"bKLD(small,target)\",\"marker\":{\"color\":\"rgb(60, 180, 75)\",\"size\":[5,5,5,5],\"sizemode\":\"area\",\"sizeref\":0.0125,\"symbol\":\"circle\"},\"mode\":\"markers\",\"name\":\"bKLD(small,target)\",\"orientation\":\"h\",\"showlegend\":false,\"x\":[4.349079457364342,4.2114534883720935,3.9882441860465114,4.636674418604651],\"xaxis\":\"x3\",\"y\":[\"Co-Training\\u003cbr\\u003eData\",\"Augmentation\\u003cbr\\u003ePolicy\",\"Pretraining\\u003cbr\\u003eData\",\"Model\\u003cbr\\u003eArchitecture\"],\"yaxis\":\"y3\",\"type\":\"scatter\"},{\"error_x\":{\"array\":[0.129106789624775,0.12760081251593303,0.12010382402825963,0.12052641966689331]},\"hovertemplate\":\"dist=bKLD(small,target)\\u003cbr\\u003emeta=Percentile\\u003cbr\\u003eRank=%{x}\\u003cbr\\u003eScenario=%{y}\\u003cbr\\u003esize=%{marker.size}\\u003cextra\\u003e\\u003c\\u002fextra\\u003e\",\"legendgroup\":\"bKLD(small,target)\",\"marker\":{\"color\":\"rgb(60, 180, 75)\",\"size\":[5,5,5,5],\"sizemode\":\"area\",\"sizeref\":0.0125,\"symbol\":\"circle\"},\"mode\":\"markers\",\"name\":\"bKLD(small,target)\",\"orientation\":\"h\",\"showlegend\":false,\"x\":[4.365147286821706,4.228779069767442,3.9182848837209305,4.683567829457364],\"xaxis\":\"x2\",\"y\":[\"Co-Training\\u003cbr\\u003eData\",\"Augmentation\\u003cbr\\u003ePolicy\",\"Pretraining\\u003cbr\\u003eData\",\"Model\\u003cbr\\u003eArchitecture\"],\"yaxis\":\"y2\",\"type\":\"scatter\"},{\"error_x\":{\"array\":[0.12646535030051914,0.12441729138805573,0.11674570290201247,0.11488059493963405]},\"hovertemplate\":\"dist=bKLD(small,target)\\u003cbr\\u003emeta=Regret\\u003cbr\\u003eRank=%{x}\\u003cbr\\u003eScenario=%{y}\\u003cbr\\u003esize=%{marker.size}\\u003cextra\\u003e\\u003c\\u002fextra\\u003e\",\"legendgroup\":\"bKLD(small,target)\",\"marker\":{\"color\":\"rgb(60, 180, 75)\",\"size\":[5,5,5,5],\"sizemode\":\"area\",\"sizeref\":0.0125,\"symbol\":\"circle\"},\"mode\":\"markers\",\"name\":\"bKLD(small,target)\",\"orientation\":\"h\",\"showlegend\":false,\"x\":[4.352612403100776,4.2117306201550395,3.9362596899224807,4.662003875968993],\"xaxis\":\"x\",\"y\":[\"Co-Training\\u003cbr\\u003eData\",\"Augmentation\\u003cbr\\u003ePolicy\",\"Pretraining\\u003cbr\\u003eData\",\"Model\\u003cbr\\u003eArchitecture\"],\"yaxis\":\"y\",\"type\":\"scatter\"},{\"error_x\":{\"array\":[0.1720515139110848,0.16037824742046008,0.1795732409638479,0.17016518444616194]},\"hovertemplate\":\"dist=bKLD(large,source)\\u003cbr\\u003emeta=Weightedtau\\u003cbr\\u003eRank=%{x}\\u003cbr\\u003eScenario=%{y}\\u003cbr\\u003esize=%{marker.size}\\u003cextra\\u003e\\u003c\\u002fextra\\u003e\",\"legendgroup\":\"bKLD(large,source)\",\"marker\":{\"color\":\"rgb(60, 180, 75)\",\"size\":[5,5,5,5],\"sizemode\":\"area\",\"sizeref\":0.0125,\"symbol\":\"hexagon\"},\"mode\":\"markers\",\"name\":\"bKLD(large,source)\",\"orientation\":\"h\",\"showlegend\":true,\"x\":[4.066437984496124,4.076220930232558,5.198406976744186,3.861484496124031],\"xaxis\":\"x4\",\"y\":[\"Co-Training\\u003cbr\\u003eData\",\"Augmentation\\u003cbr\\u003ePolicy\",\"Pretraining\\u003cbr\\u003eData\",\"Model\\u003cbr\\u003eArchitecture\"],\"yaxis\":\"y4\",\"type\":\"scatter\"},{\"error_x\":{\"array\":[0.18449115946678574,0.18137245664865265,0.18323978532552984,0.177178111668631]},\"hovertemplate\":\"dist=bKLD(large,source)\\u003cbr\\u003emeta=Improvement\\u003cbr\\u003eRank=%{x}\\u003cbr\\u003eScenario=%{y}\\u003cbr\\u003esize=%{marker.size}\\u003cextra\\u003e\\u003c\\u002fextra\\u003e\",\"legendgroup\":\"bKLD(large,source)\",\"marker\":{\"color\":\"rgb(60, 180, 75)\",\"size\":[5,5,5,5],\"sizemode\":\"area\",\"sizeref\":0.0125,\"symbol\":\"hexagon\"},\"mode\":\"markers\",\"name\":\"bKLD(large,source)\",\"orientation\":\"h\",\"showlegend\":false,\"x\":[4.250798449612403,4.524333333333334,5.391182170542636,4.162420542635658],\"xaxis\":\"x3\",\"y\":[\"Co-Training\\u003cbr\\u003eData\",\"Augmentation\\u003cbr\\u003ePolicy\",\"Pretraining\\u003cbr\\u003eData\",\"Model\\u003cbr\\u003eArchitecture\"],\"yaxis\":\"y3\",\"type\":\"scatter\"},{\"error_x\":{\"array\":[0.18335893169658435,0.18776834288267794,0.18423549019843308,0.17628002853025154]},\"hovertemplate\":\"dist=bKLD(large,source)\\u003cbr\\u003emeta=Percentile\\u003cbr\\u003eRank=%{x}\\u003cbr\\u003eScenario=%{y}\\u003cbr\\u003esize=%{marker.size}\\u003cextra\\u003e\\u003c\\u002fextra\\u003e\",\"legendgroup\":\"bKLD(large,source)\",\"marker\":{\"color\":\"rgb(60, 180, 75)\",\"size\":[5,5,5,5],\"sizemode\":\"area\",\"sizeref\":0.0125,\"symbol\":\"hexagon\"},\"mode\":\"markers\",\"name\":\"bKLD(large,source)\",\"orientation\":\"h\",\"showlegend\":false,\"x\":[4.3227267441860455,4.541779069767442,5.486323643410853,4.1137984496124025],\"xaxis\":\"x2\",\"y\":[\"Co-Training\\u003cbr\\u003eData\",\"Augmentation\\u003cbr\\u003ePolicy\",\"Pretraining\\u003cbr\\u003eData\",\"Model\\u003cbr\\u003eArchitecture\"],\"yaxis\":\"y2\",\"type\":\"scatter\"},{\"error_x\":{\"array\":[0.17884590598530645,0.18336481001399715,0.17433107553962995,0.1789098130781879]},\"hovertemplate\":\"dist=bKLD(large,source)\\u003cbr\\u003emeta=Regret\\u003cbr\\u003eRank=%{x}\\u003cbr\\u003eScenario=%{y}\\u003cbr\\u003esize=%{marker.size}\\u003cextra\\u003e\\u003c\\u002fextra\\u003e\",\"legendgroup\":\"bKLD(large,source)\",\"marker\":{\"color\":\"rgb(60, 180, 75)\",\"size\":[5,5,5,5],\"sizemode\":\"area\",\"sizeref\":0.0125,\"symbol\":\"hexagon\"},\"mode\":\"markers\",\"name\":\"bKLD(large,source)\",\"orientation\":\"h\",\"showlegend\":false,\"x\":[4.252494186046511,4.547996124031008,5.529829457364341,4.144151162790697],\"xaxis\":\"x\",\"y\":[\"Co-Training\\u003cbr\\u003eData\",\"Augmentation\\u003cbr\\u003ePolicy\",\"Pretraining\\u003cbr\\u003eData\",\"Model\\u003cbr\\u003eArchitecture\"],\"yaxis\":\"y\",\"type\":\"scatter\"},{\"error_x\":{\"array\":[0.16910094430316147,0.1348905841165806,0.15076704064163865,0.14227223201497857]},\"hovertemplate\":\"dist=bKLD(large,unweighted)\\u003cbr\\u003emeta=Weightedtau\\u003cbr\\u003eRank=%{x}\\u003cbr\\u003eScenario=%{y}\\u003cbr\\u003esize=%{marker.size}\\u003cextra\\u003e\\u003c\\u002fextra\\u003e\",\"legendgroup\":\"bKLD(large,unweighted)\",\"marker\":{\"color\":\"rgb(60, 180, 75)\",\"size\":[5,5,5,5],\"sizemode\":\"area\",\"sizeref\":0.0125,\"symbol\":\"hexagram\"},\"mode\":\"markers\",\"name\":\"bKLD(large,unweighted)\",\"orientation\":\"h\",\"showlegend\":true,\"x\":[4.488577519379844,3.0979302325581393,3.985104651162791,4.062236434108526],\"xaxis\":\"x4\",\"y\":[\"Co-Training\\u003cbr\\u003eData\",\"Augmentation\\u003cbr\\u003ePolicy\",\"Pretraining\\u003cbr\\u003eData\",\"Model\\u003cbr\\u003eArchitecture\"],\"yaxis\":\"y4\",\"type\":\"scatter\"},{\"error_x\":{\"array\":[0.1244342021997679,0.1217072665638788,0.12326799650924666,0.11699620060978039]},\"hovertemplate\":\"dist=bKLD(large,unweighted)\\u003cbr\\u003emeta=Improvement\\u003cbr\\u003eRank=%{x}\\u003cbr\\u003eScenario=%{y}\\u003cbr\\u003esize=%{marker.size}\\u003cextra\\u003e\\u003c\\u002fextra\\u003e\",\"legendgroup\":\"bKLD(large,unweighted)\",\"marker\":{\"color\":\"rgb(60, 180, 75)\",\"size\":[5,5,5,5],\"sizemode\":\"area\",\"sizeref\":0.0125,\"symbol\":\"hexagram\"},\"mode\":\"markers\",\"name\":\"bKLD(large,unweighted)\",\"orientation\":\"h\",\"showlegend\":false,\"x\":[4.289773255813954,4.3039844961240314,4.138693798449612,4.606932170542636],\"xaxis\":\"x3\",\"y\":[\"Co-Training\\u003cbr\\u003eData\",\"Augmentation\\u003cbr\\u003ePolicy\",\"Pretraining\\u003cbr\\u003eData\",\"Model\\u003cbr\\u003eArchitecture\"],\"yaxis\":\"y3\",\"type\":\"scatter\"},{\"error_x\":{\"array\":[0.1252591055183754,0.12862323554689772,0.1255412262294906,0.11611603421767279]},\"hovertemplate\":\"dist=bKLD(large,unweighted)\\u003cbr\\u003emeta=Percentile\\u003cbr\\u003eRank=%{x}\\u003cbr\\u003eScenario=%{y}\\u003cbr\\u003esize=%{marker.size}\\u003cextra\\u003e\\u003c\\u002fextra\\u003e\",\"legendgroup\":\"bKLD(large,unweighted)\",\"marker\":{\"color\":\"rgb(60, 180, 75)\",\"size\":[5,5,5,5],\"sizemode\":\"area\",\"sizeref\":0.0125,\"symbol\":\"hexagram\"},\"mode\":\"markers\",\"name\":\"bKLD(large,unweighted)\",\"orientation\":\"h\",\"showlegend\":false,\"x\":[4.339622093023256,4.288124031007752,4.07222480620155,4.643562015503876],\"xaxis\":\"x2\",\"y\":[\"Co-Training\\u003cbr\\u003eData\",\"Augmentation\\u003cbr\\u003ePolicy\",\"Pretraining\\u003cbr\\u003eData\",\"Model\\u003cbr\\u003eArchitecture\"],\"yaxis\":\"y2\",\"type\":\"scatter\"},{\"error_x\":{\"array\":[0.1254845017958156,0.12440366521431305,0.11999372415571831,0.11541932156587874]},\"hovertemplate\":\"dist=bKLD(large,unweighted)\\u003cbr\\u003emeta=Regret\\u003cbr\\u003eRank=%{x}\\u003cbr\\u003eScenario=%{y}\\u003cbr\\u003esize=%{marker.size}\\u003cextra\\u003e\\u003c\\u002fextra\\u003e\",\"legendgroup\":\"bKLD(large,unweighted)\",\"marker\":{\"color\":\"rgb(60, 180, 75)\",\"size\":[5,5,5,5],\"sizemode\":\"area\",\"sizeref\":0.0125,\"symbol\":\"hexagram\"},\"mode\":\"markers\",\"name\":\"bKLD(large,unweighted)\",\"orientation\":\"h\",\"showlegend\":false,\"x\":[4.33088953488372,4.279868217054263,4.095494186046511,4.642149224806202],\"xaxis\":\"x\",\"y\":[\"Co-Training\\u003cbr\\u003eData\",\"Augmentation\\u003cbr\\u003ePolicy\",\"Pretraining\\u003cbr\\u003eData\",\"Model\\u003cbr\\u003eArchitecture\"],\"yaxis\":\"y\",\"type\":\"scatter\"}],                        {\"template\":{\"data\":{\"barpolar\":[{\"marker\":{\"line\":{\"color\":\"#E5ECF6\",\"width\":0.5},\"pattern\":{\"fillmode\":\"overlay\",\"size\":10,\"solidity\":0.2}},\"type\":\"barpolar\"}],\"bar\":[{\"error_x\":{\"color\":\"#2a3f5f\"},\"error_y\":{\"color\":\"#2a3f5f\"},\"marker\":{\"line\":{\"color\":\"#E5ECF6\",\"width\":0.5},\"pattern\":{\"fillmode\":\"overlay\",\"size\":10,\"solidity\":0.2}},\"type\":\"bar\"}],\"carpet\":[{\"aaxis\":{\"endlinecolor\":\"#2a3f5f\",\"gridcolor\":\"white\",\"linecolor\":\"white\",\"minorgridcolor\":\"white\",\"startlinecolor\":\"#2a3f5f\"},\"baxis\":{\"endlinecolor\":\"#2a3f5f\",\"gridcolor\":\"white\",\"linecolor\":\"white\",\"minorgridcolor\":\"white\",\"startlinecolor\":\"#2a3f5f\"},\"type\":\"carpet\"}],\"choropleth\":[{\"colorbar\":{\"outlinewidth\":0,\"ticks\":\"\"},\"type\":\"choropleth\"}],\"contourcarpet\":[{\"colorbar\":{\"outlinewidth\":0,\"ticks\":\"\"},\"type\":\"contourcarpet\"}],\"contour\":[{\"colorbar\":{\"outlinewidth\":0,\"ticks\":\"\"},\"colorscale\":[[0.0,\"#0d0887\"],[0.1111111111111111,\"#46039f\"],[0.2222222222222222,\"#7201a8\"],[0.3333333333333333,\"#9c179e\"],[0.4444444444444444,\"#bd3786\"],[0.5555555555555556,\"#d8576b\"],[0.6666666666666666,\"#ed7953\"],[0.7777777777777778,\"#fb9f3a\"],[0.8888888888888888,\"#fdca26\"],[1.0,\"#f0f921\"]],\"type\":\"contour\"}],\"heatmapgl\":[{\"colorbar\":{\"outlinewidth\":0,\"ticks\":\"\"},\"colorscale\":[[0.0,\"#0d0887\"],[0.1111111111111111,\"#46039f\"],[0.2222222222222222,\"#7201a8\"],[0.3333333333333333,\"#9c179e\"],[0.4444444444444444,\"#bd3786\"],[0.5555555555555556,\"#d8576b\"],[0.6666666666666666,\"#ed7953\"],[0.7777777777777778,\"#fb9f3a\"],[0.8888888888888888,\"#fdca26\"],[1.0,\"#f0f921\"]],\"type\":\"heatmapgl\"}],\"heatmap\":[{\"colorbar\":{\"outlinewidth\":0,\"ticks\":\"\"},\"colorscale\":[[0.0,\"#0d0887\"],[0.1111111111111111,\"#46039f\"],[0.2222222222222222,\"#7201a8\"],[0.3333333333333333,\"#9c179e\"],[0.4444444444444444,\"#bd3786\"],[0.5555555555555556,\"#d8576b\"],[0.6666666666666666,\"#ed7953\"],[0.7777777777777778,\"#fb9f3a\"],[0.8888888888888888,\"#fdca26\"],[1.0,\"#f0f921\"]],\"type\":\"heatmap\"}],\"histogram2dcontour\":[{\"colorbar\":{\"outlinewidth\":0,\"ticks\":\"\"},\"colorscale\":[[0.0,\"#0d0887\"],[0.1111111111111111,\"#46039f\"],[0.2222222222222222,\"#7201a8\"],[0.3333333333333333,\"#9c179e\"],[0.4444444444444444,\"#bd3786\"],[0.5555555555555556,\"#d8576b\"],[0.6666666666666666,\"#ed7953\"],[0.7777777777777778,\"#fb9f3a\"],[0.8888888888888888,\"#fdca26\"],[1.0,\"#f0f921\"]],\"type\":\"histogram2dcontour\"}],\"histogram2d\":[{\"colorbar\":{\"outlinewidth\":0,\"ticks\":\"\"},\"colorscale\":[[0.0,\"#0d0887\"],[0.1111111111111111,\"#46039f\"],[0.2222222222222222,\"#7201a8\"],[0.3333333333333333,\"#9c179e\"],[0.4444444444444444,\"#bd3786\"],[0.5555555555555556,\"#d8576b\"],[0.6666666666666666,\"#ed7953\"],[0.7777777777777778,\"#fb9f3a\"],[0.8888888888888888,\"#fdca26\"],[1.0,\"#f0f921\"]],\"type\":\"histogram2d\"}],\"histogram\":[{\"marker\":{\"pattern\":{\"fillmode\":\"overlay\",\"size\":10,\"solidity\":0.2}},\"type\":\"histogram\"}],\"mesh3d\":[{\"colorbar\":{\"outlinewidth\":0,\"ticks\":\"\"},\"type\":\"mesh3d\"}],\"parcoords\":[{\"line\":{\"colorbar\":{\"outlinewidth\":0,\"ticks\":\"\"}},\"type\":\"parcoords\"}],\"pie\":[{\"automargin\":true,\"type\":\"pie\"}],\"scatter3d\":[{\"line\":{\"colorbar\":{\"outlinewidth\":0,\"ticks\":\"\"}},\"marker\":{\"colorbar\":{\"outlinewidth\":0,\"ticks\":\"\"}},\"type\":\"scatter3d\"}],\"scattercarpet\":[{\"marker\":{\"colorbar\":{\"outlinewidth\":0,\"ticks\":\"\"}},\"type\":\"scattercarpet\"}],\"scattergeo\":[{\"marker\":{\"colorbar\":{\"outlinewidth\":0,\"ticks\":\"\"}},\"type\":\"scattergeo\"}],\"scattergl\":[{\"marker\":{\"colorbar\":{\"outlinewidth\":0,\"ticks\":\"\"}},\"type\":\"scattergl\"}],\"scattermapbox\":[{\"marker\":{\"colorbar\":{\"outlinewidth\":0,\"ticks\":\"\"}},\"type\":\"scattermapbox\"}],\"scatterpolargl\":[{\"marker\":{\"colorbar\":{\"outlinewidth\":0,\"ticks\":\"\"}},\"type\":\"scatterpolargl\"}],\"scatterpolar\":[{\"marker\":{\"colorbar\":{\"outlinewidth\":0,\"ticks\":\"\"}},\"type\":\"scatterpolar\"}],\"scatter\":[{\"fillpattern\":{\"fillmode\":\"overlay\",\"size\":10,\"solidity\":0.2},\"type\":\"scatter\"}],\"scatterternary\":[{\"marker\":{\"colorbar\":{\"outlinewidth\":0,\"ticks\":\"\"}},\"type\":\"scatterternary\"}],\"surface\":[{\"colorbar\":{\"outlinewidth\":0,\"ticks\":\"\"},\"colorscale\":[[0.0,\"#0d0887\"],[0.1111111111111111,\"#46039f\"],[0.2222222222222222,\"#7201a8\"],[0.3333333333333333,\"#9c179e\"],[0.4444444444444444,\"#bd3786\"],[0.5555555555555556,\"#d8576b\"],[0.6666666666666666,\"#ed7953\"],[0.7777777777777778,\"#fb9f3a\"],[0.8888888888888888,\"#fdca26\"],[1.0,\"#f0f921\"]],\"type\":\"surface\"}],\"table\":[{\"cells\":{\"fill\":{\"color\":\"#EBF0F8\"},\"line\":{\"color\":\"white\"}},\"header\":{\"fill\":{\"color\":\"#C8D4E3\"},\"line\":{\"color\":\"white\"}},\"type\":\"table\"}]},\"layout\":{\"annotationdefaults\":{\"arrowcolor\":\"#2a3f5f\",\"arrowhead\":0,\"arrowwidth\":1},\"autotypenumbers\":\"strict\",\"coloraxis\":{\"colorbar\":{\"outlinewidth\":0,\"ticks\":\"\"}},\"colorscale\":{\"diverging\":[[0,\"#8e0152\"],[0.1,\"#c51b7d\"],[0.2,\"#de77ae\"],[0.3,\"#f1b6da\"],[0.4,\"#fde0ef\"],[0.5,\"#f7f7f7\"],[0.6,\"#e6f5d0\"],[0.7,\"#b8e186\"],[0.8,\"#7fbc41\"],[0.9,\"#4d9221\"],[1,\"#276419\"]],\"sequential\":[[0.0,\"#0d0887\"],[0.1111111111111111,\"#46039f\"],[0.2222222222222222,\"#7201a8\"],[0.3333333333333333,\"#9c179e\"],[0.4444444444444444,\"#bd3786\"],[0.5555555555555556,\"#d8576b\"],[0.6666666666666666,\"#ed7953\"],[0.7777777777777778,\"#fb9f3a\"],[0.8888888888888888,\"#fdca26\"],[1.0,\"#f0f921\"]],\"sequentialminus\":[[0.0,\"#0d0887\"],[0.1111111111111111,\"#46039f\"],[0.2222222222222222,\"#7201a8\"],[0.3333333333333333,\"#9c179e\"],[0.4444444444444444,\"#bd3786\"],[0.5555555555555556,\"#d8576b\"],[0.6666666666666666,\"#ed7953\"],[0.7777777777777778,\"#fb9f3a\"],[0.8888888888888888,\"#fdca26\"],[1.0,\"#f0f921\"]]},\"colorway\":[\"#636efa\",\"#EF553B\",\"#00cc96\",\"#ab63fa\",\"#FFA15A\",\"#19d3f3\",\"#FF6692\",\"#B6E880\",\"#FF97FF\",\"#FECB52\"],\"font\":{\"color\":\"#2a3f5f\"},\"geo\":{\"bgcolor\":\"white\",\"lakecolor\":\"white\",\"landcolor\":\"#E5ECF6\",\"showlakes\":true,\"showland\":true,\"subunitcolor\":\"white\"},\"hoverlabel\":{\"align\":\"left\"},\"hovermode\":\"closest\",\"mapbox\":{\"style\":\"light\"},\"paper_bgcolor\":\"white\",\"plot_bgcolor\":\"#E5ECF6\",\"polar\":{\"angularaxis\":{\"gridcolor\":\"white\",\"linecolor\":\"white\",\"ticks\":\"\"},\"bgcolor\":\"#E5ECF6\",\"radialaxis\":{\"gridcolor\":\"white\",\"linecolor\":\"white\",\"ticks\":\"\"}},\"scene\":{\"xaxis\":{\"backgroundcolor\":\"#E5ECF6\",\"gridcolor\":\"white\",\"gridwidth\":2,\"linecolor\":\"white\",\"showbackground\":true,\"ticks\":\"\",\"zerolinecolor\":\"white\"},\"yaxis\":{\"backgroundcolor\":\"#E5ECF6\",\"gridcolor\":\"white\",\"gridwidth\":2,\"linecolor\":\"white\",\"showbackground\":true,\"ticks\":\"\",\"zerolinecolor\":\"white\"},\"zaxis\":{\"backgroundcolor\":\"#E5ECF6\",\"gridcolor\":\"white\",\"gridwidth\":2,\"linecolor\":\"white\",\"showbackground\":true,\"ticks\":\"\",\"zerolinecolor\":\"white\"}},\"shapedefaults\":{\"line\":{\"color\":\"#2a3f5f\"}},\"ternary\":{\"aaxis\":{\"gridcolor\":\"white\",\"linecolor\":\"white\",\"ticks\":\"\"},\"baxis\":{\"gridcolor\":\"white\",\"linecolor\":\"white\",\"ticks\":\"\"},\"bgcolor\":\"#E5ECF6\",\"caxis\":{\"gridcolor\":\"white\",\"linecolor\":\"white\",\"ticks\":\"\"}},\"title\":{\"x\":0.05},\"xaxis\":{\"automargin\":true,\"gridcolor\":\"white\",\"linecolor\":\"white\",\"ticks\":\"\",\"title\":{\"standoff\":15},\"zerolinecolor\":\"white\",\"zerolinewidth\":2},\"yaxis\":{\"automargin\":true,\"gridcolor\":\"white\",\"linecolor\":\"white\",\"ticks\":\"\",\"title\":{\"standoff\":15},\"zerolinecolor\":\"white\",\"zerolinewidth\":2}}},\"xaxis\":{\"anchor\":\"y\",\"domain\":[0.0,0.98],\"title\":{\"text\":\"Rank\"}},\"yaxis\":{\"anchor\":\"x\",\"domain\":[0.0,0.2275],\"title\":{\"text\":\"Scenario\"}},\"xaxis2\":{\"anchor\":\"y2\",\"domain\":[0.0,0.98],\"matches\":\"x\",\"showticklabels\":false},\"yaxis2\":{\"anchor\":\"x2\",\"domain\":[0.2575,0.485],\"matches\":\"y\",\"title\":{\"text\":\"Scenario\"}},\"xaxis3\":{\"anchor\":\"y3\",\"domain\":[0.0,0.98],\"matches\":\"x\",\"showticklabels\":false},\"yaxis3\":{\"anchor\":\"x3\",\"domain\":[0.515,0.7425],\"matches\":\"y\",\"title\":{\"text\":\"Scenario\"}},\"xaxis4\":{\"anchor\":\"y4\",\"domain\":[0.0,0.98],\"matches\":\"x\",\"showticklabels\":false},\"yaxis4\":{\"anchor\":\"x4\",\"domain\":[0.7725,1.0],\"matches\":\"y\",\"title\":{\"text\":\"Scenario\"}},\"annotations\":[{\"font\":{},\"showarrow\":false,\"text\":\"Regret\",\"textangle\":90,\"x\":0.98,\"xanchor\":\"left\",\"xref\":\"paper\",\"y\":0.11375,\"yanchor\":\"middle\",\"yref\":\"paper\"},{\"font\":{},\"showarrow\":false,\"text\":\"Percentile\",\"textangle\":90,\"x\":0.98,\"xanchor\":\"left\",\"xref\":\"paper\",\"y\":0.37124999999999997,\"yanchor\":\"middle\",\"yref\":\"paper\"},{\"font\":{},\"showarrow\":false,\"text\":\"Improvement\",\"textangle\":90,\"x\":0.98,\"xanchor\":\"left\",\"xref\":\"paper\",\"y\":0.62875,\"yanchor\":\"middle\",\"yref\":\"paper\"},{\"font\":{},\"showarrow\":false,\"text\":\"Weightedtau\",\"textangle\":90,\"x\":0.98,\"xanchor\":\"left\",\"xref\":\"paper\",\"y\":0.88625,\"yanchor\":\"middle\",\"yref\":\"paper\"}],\"legend\":{\"title\":{\"text\":\"Task selector\"},\"tracegroupgap\":0,\"itemsizing\":\"constant\"},\"margin\":{\"t\":60},\"font\":{\"size\":20},\"width\":1200,\"height\":1200,\"showlegend\":true},                        {\"responsive\": true}                    ).then(function(){\n",
       "                            \n",
       "var gd = document.getElementById('66bf7fb1-7656-428d-8b09-fa82fbbf2a87');\n",
       "var x = new MutationObserver(function (mutations, observer) {{\n",
       "        var display = window.getComputedStyle(gd).display;\n",
       "        if (!display || display === 'none') {{\n",
       "            console.log([gd, 'removed!']);\n",
       "            Plotly.purge(gd);\n",
       "            observer.disconnect();\n",
       "        }}\n",
       "}});\n",
       "\n",
       "// Listen for the removal of the full notebook cells\n",
       "var notebookContainer = gd.closest('#notebook-container');\n",
       "if (notebookContainer) {{\n",
       "    x.observe(notebookContainer, {childList: true});\n",
       "}}\n",
       "\n",
       "// Listen for the clearing of the current output cell\n",
       "var outputEl = gd.closest('.output');\n",
       "if (outputEl) {{\n",
       "    x.observe(outputEl, {childList: true});\n",
       "}}\n",
       "\n",
       "                        })                };                });            </script>        </div>"
      ]
     },
     "metadata": {},
     "output_type": "display_data"
    }
   ],
   "execution_count": 78
  }
 ],
 "metadata": {
  "kernelspec": {
   "display_name": "Python 3",
   "language": "python",
   "name": "python3"
  },
  "language_info": {
   "codemirror_mode": {
    "name": "ipython",
    "version": 2
   },
   "file_extension": ".py",
   "mimetype": "text/x-python",
   "name": "python",
   "nbconvert_exporter": "python",
   "pygments_lexer": "ipython2",
   "version": "2.7.6"
  }
 },
 "nbformat": 4,
 "nbformat_minor": 5
}
