{
 "cells": [
  {
   "metadata": {},
   "cell_type": "markdown",
   "source": [
    "## Fill cache\n",
    "\n",
    "This notebook extracts the results from the transfer experiments (the results must be stored according to `MML` configuration) and computes the task distances (based on the features extracted and placed inside the `data` folder). The extracted results and computed distances are placed inside the `cache` folder and shared with this repository. All following transferability evaluations are only based on the `cache`. The extraction process will also aggregate the GPU time."
   ],
   "id": "ffa4a55207d21117"
  },
  {
   "metadata": {
    "collapsed": true,
    "ExecuteTime": {
     "end_time": "2024-10-25T11:24:50.009764Z",
     "start_time": "2024-10-25T11:24:25.828590Z"
    }
   },
   "cell_type": "code",
   "source": [
    "import mml.interactive\n",
    "mml.interactive.init()\n",
    "\n",
    "from mml_tf.experiments import load_arch_experiment, load_augmentation_experiment, load_baseline_experiment, \\\n",
    "    load_multi_task_experiment, load_pretrain_experiment, GPU_TIME, METRICS, EXPERIMENTS\n",
    "from mml_tf.aggregate import AggregateStrategy\n",
    "import copy\n",
    "from rich.progress import track\n",
    "import numpy as np"
   ],
   "id": "initial_id",
   "outputs": [
    {
     "name": "stderr",
     "output_type": "stream",
     "text": [
      "/home/scholzpa/Documents/development/gitlab/mml/src/mml/interactive/__init__.py:49: UserWarning: Did not provide a \"env_path\", neither found set \"MML_ENV_PATH\" variable, you might need to provide \"env_path\" to \"init\" in order to use \"mml\" interactively in a jupyter/ipython setting.\n",
      "  warnings.warn(\n",
      "/home/scholzpa/miniconda3/envs/mml/lib/python3.8/site-packages/kornia/feature/lightglue.py:44: FutureWarning: `torch.cuda.amp.custom_fwd(args...)` is deprecated. Please use `torch.amp.custom_fwd(args..., device_type='cuda')` instead.\n",
      "  @torch.cuda.amp.custom_fwd(cast_inputs=torch.float32)\n"
     ]
    },
    {
     "name": "stdout",
     "output_type": "stream",
     "text": [
      " _____ ______   _____ ______   ___\n",
      "|\\   _ \\  _   \\|\\   _ \\  _   \\|\\  \\\n",
      "\\ \\  \\\\\\__\\ \\  \\ \\  \\\\\\__\\ \\  \\ \\  \\\n",
      " \\ \\  \\\\|__| \\  \\ \\  \\\\|__| \\  \\ \\  \\\n",
      "  \\ \\  \\    \\ \\  \\ \\  \\    \\ \\  \\ \\  \\____\n",
      "   \\ \\__\\    \\ \\__\\ \\__\\    \\ \\__\\ \\_______\\\n",
      "    \\|__|     \\|__|\\|__|     \\|__|\\|_______|\n",
      "         ____  _  _    __  _  _  ____  _  _\n",
      "        (  _ \\( \\/ )  (  )( \\/ )/ ___)( \\/ )\n",
      "         ) _ ( )  /    )( / \\/ \\\\___ \\ )  /\n",
      "        (____/(__/    (__)\\_)(_/(____/(__/\n",
      "Interactive MML API initialized.\n"
     ]
    }
   ],
   "execution_count": 1
  },
  {
   "cell_type": "markdown",
   "source": [
    "## Fill experiments cache"
   ],
   "metadata": {
    "collapsed": false
   },
   "id": "e3376758ec9a4a4b"
  },
  {
   "cell_type": "code",
   "source": [
    "# baselines \n",
    "for metric in METRICS:\n",
    "    for validation in [True, False]:\n",
    "        for shrunk in [True, False]:\n",
    "            load_baseline_experiment(metric=metric, shrunk=shrunk, validation=validation)  "
   ],
   "metadata": {
    "collapsed": false,
    "ExecuteTime": {
     "end_time": "2024-10-08T10:22:58.713401Z",
     "start_time": "2024-10-08T10:22:52.686215Z"
    }
   },
   "id": "d51ab6cf5dcec4e0",
   "outputs": [
    {
     "name": "stdout",
     "output_type": "stream",
     "text": [
      "Loading ...\n",
      "Extracting ...\n",
      "Total GPU time for baseline_shrunk was 84076.05636731617s.\n",
      "Loading ...\n",
      "Extracting ...\n",
      "Total GPU time for baseline_full was 195163.2805851912s.\n",
      "Loading ...\n",
      "Extracting ...\n",
      "Loading ...\n",
      "Extracting ...\n",
      "Loading ...\n",
      "Extracting ...\n",
      "Loading ...\n",
      "Extracting ...\n",
      "Loading ...\n",
      "Extracting ...\n",
      "Loading ...\n",
      "Extracting ...\n"
     ]
    }
   ],
   "execution_count": 2
  },
  {
   "cell_type": "code",
   "source": [
    "# exp 1\n",
    "for metric in METRICS:\n",
    "    for validation in [True, False]:\n",
    "        for shrunk in [True, False]:\n",
    "            load_arch_experiment(metric=metric, shrunk=shrunk, validation=validation)  "
   ],
   "metadata": {
    "collapsed": false,
    "ExecuteTime": {
     "end_time": "2024-10-08T10:26:40.562611Z",
     "start_time": "2024-10-08T10:22:58.755604Z"
    }
   },
   "id": "bfcb151e678f5124",
   "outputs": [
    {
     "name": "stdout",
     "output_type": "stream",
     "text": [
      "Loading ...\n",
      "Loading shrunk ...\n",
      "Extracting ...\n",
      "Total GPU time for full_arch_val was 5712678.932425539s.\n",
      "Extracting ...\n",
      "Total GPU time for shrunk_arch_val was 1511126.9422990251s.\n",
      "metric='BA' arch_report={'tf_efficientnet_b2': 4, 'tf_efficientnet_b2_ap': 13, 'tf_efficientnet_b2_ns': 7, 'tf_efficientnet_cc_b0_4e': 2, 'swsl_resnet50': 7, 'ssl_resnext50_32x4d': 24, 'regnetx_032': 19, 'regnety_032': 23, 'rexnet_100': 8, 'ecaresnet50d': 11, 'cspdarknet53': 18, 'mixnet_l': 9, 'cspresnext50': 14, 'cspresnet50': 8, 'ese_vovnet39b': 5, 'resnest50d': 12, 'hrnet_w18': 12, 'skresnet34': 3, 'mobilenetv3_large_100': 3, 'res2net50_26w_4s': 11}\n",
      "Loading ...\n",
      "Extracting ...\n",
      "metric='BA' arch_report={'tf_efficientnet_b2': 4, 'tf_efficientnet_b2_ap': 13, 'tf_efficientnet_b2_ns': 7, 'tf_efficientnet_cc_b0_4e': 2, 'swsl_resnet50': 7, 'ssl_resnext50_32x4d': 24, 'regnetx_032': 19, 'regnety_032': 23, 'rexnet_100': 8, 'ecaresnet50d': 11, 'cspdarknet53': 18, 'mixnet_l': 9, 'cspresnext50': 14, 'cspresnet50': 8, 'ese_vovnet39b': 5, 'resnest50d': 12, 'hrnet_w18': 12, 'skresnet34': 3, 'mobilenetv3_large_100': 3, 'res2net50_26w_4s': 11}\n",
      "Loading ...\n",
      "Loading shrunk ...\n",
      "Extracting ...\n",
      "Total GPU time for full_arch_dev was 3169203.220552845s.\n",
      "Extracting ...\n",
      "Total GPU time for shrunk_arch_dev was 1292431.9319945425s.\n",
      "metric='BA' arch_report={'tf_efficientnet_b2': 2, 'tf_efficientnet_b2_ap': 3, 'tf_efficientnet_b2_ns': 3, 'tf_efficientnet_cc_b0_4e': 6, 'swsl_resnet50': 4, 'ssl_resnext50_32x4d': 12, 'regnetx_032': 1, 'regnety_032': 16, 'rexnet_100': 2, 'ecaresnet50d': 3, 'cspdarknet53': 1, 'mixnet_l': 6, 'cspresnext50': 4, 'cspresnet50': 5, 'ese_vovnet39b': 2, 'resnest50d': 0, 'hrnet_w18': 4, 'skresnet34': 1, 'mobilenetv3_large_100': 3, 'res2net50_26w_4s': 6}\n",
      "Loading ...\n",
      "Extracting ...\n",
      "metric='BA' arch_report={'tf_efficientnet_b2': 2, 'tf_efficientnet_b2_ap': 3, 'tf_efficientnet_b2_ns': 3, 'tf_efficientnet_cc_b0_4e': 6, 'swsl_resnet50': 4, 'ssl_resnext50_32x4d': 12, 'regnetx_032': 1, 'regnety_032': 16, 'rexnet_100': 2, 'ecaresnet50d': 3, 'cspdarknet53': 1, 'mixnet_l': 6, 'cspresnext50': 4, 'cspresnet50': 5, 'ese_vovnet39b': 2, 'resnest50d': 0, 'hrnet_w18': 4, 'skresnet34': 1, 'mobilenetv3_large_100': 3, 'res2net50_26w_4s': 6}\n",
      "Loading ...\n",
      "Loading shrunk ...\n",
      "Extracting ...\n",
      "Extracting ...\n",
      "metric='AUROC' arch_report={'tf_efficientnet_b2': 9, 'tf_efficientnet_b2_ap': 7, 'tf_efficientnet_b2_ns': 12, 'tf_efficientnet_cc_b0_4e': 4, 'swsl_resnet50': 9, 'ssl_resnext50_32x4d': 23, 'regnetx_032': 19, 'regnety_032': 25, 'rexnet_100': 7, 'ecaresnet50d': 10, 'cspdarknet53': 14, 'mixnet_l': 12, 'cspresnext50': 9, 'cspresnet50': 2, 'ese_vovnet39b': 5, 'resnest50d': 20, 'hrnet_w18': 6, 'skresnet34': 2, 'mobilenetv3_large_100': 10, 'res2net50_26w_4s': 8}\n",
      "Loading ...\n",
      "Extracting ...\n",
      "metric='AUROC' arch_report={'tf_efficientnet_b2': 9, 'tf_efficientnet_b2_ap': 7, 'tf_efficientnet_b2_ns': 12, 'tf_efficientnet_cc_b0_4e': 4, 'swsl_resnet50': 9, 'ssl_resnext50_32x4d': 23, 'regnetx_032': 19, 'regnety_032': 25, 'rexnet_100': 7, 'ecaresnet50d': 10, 'cspdarknet53': 14, 'mixnet_l': 12, 'cspresnext50': 9, 'cspresnet50': 2, 'ese_vovnet39b': 5, 'resnest50d': 20, 'hrnet_w18': 6, 'skresnet34': 2, 'mobilenetv3_large_100': 10, 'res2net50_26w_4s': 8}\n",
      "Loading ...\n",
      "Loading shrunk ...\n",
      "Extracting ...\n",
      "Extracting ...\n",
      "metric='AUROC' arch_report={'tf_efficientnet_b2': 3, 'tf_efficientnet_b2_ap': 3, 'tf_efficientnet_b2_ns': 2, 'tf_efficientnet_cc_b0_4e': 5, 'swsl_resnet50': 6, 'ssl_resnext50_32x4d': 9, 'regnetx_032': 5, 'regnety_032': 16, 'rexnet_100': 2, 'ecaresnet50d': 2, 'cspdarknet53': 6, 'mixnet_l': 1, 'cspresnext50': 3, 'cspresnet50': 1, 'ese_vovnet39b': 3, 'resnest50d': 6, 'hrnet_w18': 3, 'skresnet34': 1, 'mobilenetv3_large_100': 2, 'res2net50_26w_4s': 5}\n",
      "Loading ...\n",
      "Extracting ...\n",
      "metric='AUROC' arch_report={'tf_efficientnet_b2': 3, 'tf_efficientnet_b2_ap': 3, 'tf_efficientnet_b2_ns': 2, 'tf_efficientnet_cc_b0_4e': 5, 'swsl_resnet50': 6, 'ssl_resnext50_32x4d': 9, 'regnetx_032': 5, 'regnety_032': 16, 'rexnet_100': 2, 'ecaresnet50d': 2, 'cspdarknet53': 6, 'mixnet_l': 1, 'cspresnext50': 3, 'cspresnet50': 1, 'ese_vovnet39b': 3, 'resnest50d': 6, 'hrnet_w18': 3, 'skresnet34': 1, 'mobilenetv3_large_100': 2, 'res2net50_26w_4s': 5}\n"
     ]
    }
   ],
   "execution_count": 3
  },
  {
   "metadata": {},
   "cell_type": "markdown",
   "source": [
    "The arch reports document our claim that each architecture is preferable in at least some cases. The first report corresponds to the `BA` validation on shrunk targets as in our paper:\n",
    "\n",
    "### BA\n",
    "{'tf_efficientnet_b2': 4, 'tf_efficientnet_b2_ap': 13, 'tf_efficientnet_b2_ns': 7, 'tf_efficientnet_cc_b0_4e': 2, 'swsl_resnet50': 7, 'ssl_resnext50_32x4d': 24, 'regnetx_032': 19, 'regnety_032': 23, 'rexnet_100': 8, 'ecaresnet50d': 11, 'cspdarknet53': 18, 'mixnet_l': 9, 'cspresnext50': 14, 'cspresnet50': 8, 'ese_vovnet39b': 5, 'resnest50d': 12, 'hrnet_w18': 12, 'skresnet34': 3, 'mobilenetv3_large_100': 3, 'res2net50_26w_4s': 11}\n",
    "\n",
    "Same for the first AUROC report:\n",
    "\n",
    "### AUROC\n",
    "{'tf_efficientnet_b2': 9, 'tf_efficientnet_b2_ap': 7, 'tf_efficientnet_b2_ns': 12, 'tf_efficientnet_cc_b0_4e': 4, 'swsl_resnet50': 9, 'ssl_resnext50_32x4d': 23, 'regnetx_032': 19, 'regnety_032': 25, 'rexnet_100': 7, 'ecaresnet50d': 10, 'cspdarknet53': 14, 'mixnet_l': 12, 'cspresnext50': 9, 'cspresnet50': 2, 'ese_vovnet39b': 5, 'resnest50d': 20, 'hrnet_w18': 6, 'skresnet34': 2, 'mobilenetv3_large_100': 10, 'res2net50_26w_4s': 8}"
   ],
   "id": "eb446403bd29af79"
  },
  {
   "cell_type": "code",
   "source": [
    "# exp 2\n",
    "for metric in METRICS:\n",
    "    for validation in [True, False]:\n",
    "        load_pretrain_experiment(metric=metric, validation=validation)"
   ],
   "metadata": {
    "collapsed": false,
    "ExecuteTime": {
     "end_time": "2024-10-08T10:30:06.587011Z",
     "start_time": "2024-10-08T10:26:40.575647Z"
    }
   },
   "id": "cc2bed269bcd64c8",
   "outputs": [
    {
     "name": "stdout",
     "output_type": "stream",
     "text": [
      "Loading ...\n",
      "Extracting ...\n",
      "Total GPU time for pretraining_val was 5044369.5314246295s.\n",
      "Loading ...\n",
      "Extracting ...\n",
      "Total GPU time for pretraining_dev was 1445569.1672105892s.\n",
      "Loading ...\n",
      "Extracting ...\n",
      "Loading ...\n",
      "Extracting ...\n"
     ]
    }
   ],
   "execution_count": 4
  },
  {
   "cell_type": "code",
   "source": [
    "# exp 3\n",
    "for metric in METRICS:\n",
    "    for validation in [True, False]:\n",
    "        load_augmentation_experiment(metric=metric, validation=validation)"
   ],
   "metadata": {
    "collapsed": false,
    "ExecuteTime": {
     "end_time": "2024-10-08T10:32:26.487519Z",
     "start_time": "2024-10-08T10:30:06.599932Z"
    }
   },
   "id": "e8b46a15d1111802",
   "outputs": [
    {
     "name": "stdout",
     "output_type": "stream",
     "text": [
      "Loading ...\n",
      "Extracting ...\n",
      "Total GPU time for augmentations_val was 1481139.1226490608s.\n",
      "Loading ...\n",
      "Extracting ...\n",
      "Total GPU time for augmentations_dev was 1286579.7905641198s.\n",
      "Loading ...\n",
      "Extracting ...\n",
      "Loading ...\n",
      "Extracting ...\n"
     ]
    }
   ],
   "execution_count": 5
  },
  {
   "cell_type": "code",
   "source": [
    "# exp 4\n",
    "for metric in METRICS:\n",
    "    for validation in [True, False]:\n",
    "        for shrunk in [True, False]:\n",
    "            load_multi_task_experiment(metric=metric, shrunk=shrunk, validation=validation)"
   ],
   "metadata": {
    "collapsed": false,
    "ExecuteTime": {
     "end_time": "2024-10-08T10:38:46.435290Z",
     "start_time": "2024-10-08T10:32:26.618751Z"
    }
   },
   "id": "84b7ff404ac53559",
   "outputs": [
    {
     "name": "stdout",
     "output_type": "stream",
     "text": [
      "Loading ...\n",
      "Loading shrunk ...\n",
      "Extracting ...\n",
      "Total GPU time for full_multi_val was 9048212.029108422s.\n",
      "Extracting ...\n",
      "Total GPU time for shrunk_multi_val was 1609227.1599052493s.\n",
      "Loading ...\n",
      "Extracting ...\n",
      "Loading ...\n",
      "Loading shrunk ...\n",
      "Extracting ...\n",
      "Total GPU time for full_multi_dev was 5072083.557222832s.\n",
      "Extracting ...\n",
      "Total GPU time for shrunk_multi_dev was 1471259.682063573s.\n",
      "Loading ...\n",
      "Extracting ...\n",
      "Loading ...\n",
      "Loading shrunk ...\n",
      "Extracting ...\n",
      "Extracting ...\n",
      "Loading ...\n",
      "Extracting ...\n"
     ]
    }
   ],
   "execution_count": 6
  },
  {
   "cell_type": "code",
   "source": [
    "# 10673 total GPU hours for the development and validation phase\n",
    "print(sum(GPU_TIME.values()) / 3600)"
   ],
   "metadata": {
    "collapsed": false,
    "ExecuteTime": {
     "end_time": "2024-10-08T10:38:46.444160Z",
     "start_time": "2024-10-08T10:38:46.441784Z"
    }
   },
   "id": "b580e0578345d471",
   "outputs": [
    {
     "name": "stdout",
     "output_type": "stream",
     "text": [
      "10673.089001214705\n"
     ]
    }
   ],
   "execution_count": 7
  },
  {
   "cell_type": "markdown",
   "source": "## Fill distances cache",
   "metadata": {
    "collapsed": false
   },
   "id": "414b2b46148146b"
  },
  {
   "cell_type": "code",
   "source": [
    "from mml_tf.representations import FullFeatureRepresentations, AveragedFeatureRepresentations, \\\n",
    "    MeanAndCovarianceRepresentations, TagBasedRepresentations, \\\n",
    "    FisherEmbeddingRepresentations, BinnedFeatureRepresentations"
   ],
   "metadata": {
    "collapsed": false,
    "ExecuteTime": {
     "end_time": "2024-10-08T10:42:08.577852Z",
     "start_time": "2024-10-08T10:42:08.571672Z"
    }
   },
   "id": "93e1b9cc644f85bb",
   "outputs": [],
   "execution_count": 8
  },
  {
   "cell_type": "code",
   "source": [
    "# full and averaged representations\n",
    "full_rep = FullFeatureRepresentations()\n",
    "full_rep.load_representations()\n",
    "avg_rep = AveragedFeatureRepresentations(full_features=full_rep)\n",
    "avg_rep.load_representations()"
   ],
   "metadata": {
    "collapsed": false,
    "ExecuteTime": {
     "end_time": "2024-10-08T10:42:13.620866Z",
     "start_time": "2024-10-08T10:42:11.863285Z"
    }
   },
   "id": "f9427ce9f4a0fb7c",
   "outputs": [],
   "execution_count": 9
  },
  {
   "cell_type": "code",
   "source": [
    "# further standard representations\n",
    "mean_cov_rep = MeanAndCovarianceRepresentations(full_features=full_rep)\n",
    "mean_cov_rep.load_representations()\n",
    "tag_rep = TagBasedRepresentations()\n",
    "tag_rep.load_representations()\n",
    "few_bins_rep = BinnedFeatureRepresentations(full_features=full_rep, n_bins=100)\n",
    "few_bins_rep.load_representations()\n",
    "lot_bins_rep = BinnedFeatureRepresentations(full_features=full_rep, n_bins=1000)\n",
    "lot_bins_rep.load_representations()\n",
    "fisher_rep = FisherEmbeddingRepresentations()\n",
    "fisher_rep.load_representations()\n",
    "tiny_bins_rep = BinnedFeatureRepresentations(full_features=full_rep, n_bins=5, min_q=0., max_q=0.9)\n",
    "tiny_bins_rep.load_representations()"
   ],
   "metadata": {
    "collapsed": false
   },
   "id": "9187287815b8609",
   "outputs": [],
   "execution_count": null
  },
  {
   "cell_type": "code",
   "source": [
    "from mml_tf.distances import SemanticDistances, EMDDistances, KLDDistances, JSDistances, COSDistances, LNormDistances, \\\n",
    "    FIDDistances, LoadMMLComputedDistances, LogDistances, ExpDistances, MMDDistances, GenericFEDDistances, OptimalDistances"
   ],
   "metadata": {
    "collapsed": false,
    "ExecuteTime": {
     "end_time": "2024-10-08T10:46:01.625357Z",
     "start_time": "2024-10-08T10:46:01.610171Z"
    }
   },
   "id": "66d62adfa38b5eb8",
   "outputs": [],
   "execution_count": 11
  },
  {
   "metadata": {
    "ExecuteTime": {
     "end_time": "2024-10-08T10:47:43.808081Z",
     "start_time": "2024-10-08T10:47:43.805161Z"
    }
   },
   "cell_type": "code",
   "source": [
    "# this list will hold all names of task distances for optimisation on the develop split of tasks (`tf/mml_tf/variants.py`) holds the list for later reuse\n",
    "all_variants = []"
   ],
   "id": "b81d48d8fdef60bc",
   "outputs": [],
   "execution_count": 12
  },
  {
   "cell_type": "code",
   "source": [
    "# calc manual baseline\n",
    "all_variants.append(SemanticDistances(representations=tag_rep).name)"
   ],
   "metadata": {
    "collapsed": false,
    "ExecuteTime": {
     "end_time": "2024-10-08T10:48:01.772819Z",
     "start_time": "2024-10-08T10:48:01.622974Z"
    }
   },
   "id": "47faaeab89b94892",
   "outputs": [],
   "execution_count": 13
  },
  {
   "cell_type": "code",
   "source": [
    "# calc various variants for Kullback-Leibler divergences\n",
    "for w_by in ['source', 'target', 'both', None]:\n",
    "    for rep in [avg_rep, few_bins_rep, lot_bins_rep, tiny_bins_rep]:\n",
    "        for w_pp in ['norm', 'soft', 'wo']:\n",
    "            for s_pp in ['norm', 'soft']:\n",
    "                for t_pp in ['norm', 'soft']:\n",
    "                    for inverted in [True, False]:\n",
    "                        if isinstance(rep, BinnedFeatureRepresentations) and ((s_pp == 'norm' and not inverted) or (inverted and t_pp == 'norm')):\n",
    "                            clip = True\n",
    "                        else:\n",
    "                            clip = False\n",
    "                        _ = KLDDistances(representations=rep, source_pp=s_pp, target_pp=t_pp, invert=inverted, weighing_by=w_by, weights_rep=avg_rep, weights_pp=w_pp, clip=clip)\n",
    "                        print(f'done {_.name}')\n",
    "                        all_variants.append(_.name)"
   ],
   "metadata": {
    "collapsed": false
   },
   "id": "ca352ac8071ef60a",
   "outputs": [],
   "execution_count": null
  },
  {
   "metadata": {},
   "cell_type": "code",
   "source": [
    "# plus some additional ones that use symmetric uniform smoothing \n",
    "for w_by in ['source', 'target', 'both', None]:\n",
    "    for rep in [avg_rep, few_bins_rep, lot_bins_rep, tiny_bins_rep]:\n",
    "        for w_pp in ['norm', 'soft', 'wo', 'uniform']:\n",
    "            for alpha in [0.1, 0.01, 0.001]:\n",
    "                _ = KLDDistances(representations=rep, source_pp='uniform', target_pp='uniform', weighing_by=w_by, alpha=alpha, weights_rep=avg_rep, weights_pp=w_pp)\n",
    "                print(f'done {_.name}')\n",
    "                all_variants.append(_.name)"
   ],
   "id": "4f099af142269eaa",
   "outputs": [],
   "execution_count": null
  },
  {
   "metadata": {},
   "cell_type": "code",
   "source": [
    "# calc various Jensen–Shannon divergence variants\n",
    "for w_by in ['source', 'target', 'both', None]:\n",
    "    for rep in [avg_rep, few_bins_rep, lot_bins_rep, tiny_bins_rep]:\n",
    "        for w_pp in ['norm', 'soft', 'wo', 'uniform']:\n",
    "            for alpha in [0.1, 0.01, 0.001]:\n",
    "                _ = JSDistances(representations=rep, weighing_by=w_by, alpha=alpha, weights_rep=avg_rep, weights_pp=w_pp)\n",
    "                print(f'done {_.name}')\n",
    "                all_variants.append(_.name)"
   ],
   "id": "eeba248b89fc6db4",
   "outputs": [],
   "execution_count": null
  },
  {
   "metadata": {},
   "cell_type": "code",
   "source": [
    "# calc Earth-Mover's distances\n",
    "for w_by in ['source', 'target', 'both', None]:\n",
    "    for rep in [avg_rep, few_bins_rep, lot_bins_rep, tiny_bins_rep]:\n",
    "        for w_pp in ['norm', 'soft']:\n",
    "            for do_soft in [True, False]:\n",
    "                _ = EMDDistances(representations=rep, soft_features=do_soft, weighing_by=w_by, weights_rep=avg_rep, weights_pp=w_pp)\n",
    "                print(f'done {_.name}')\n",
    "                all_variants.append(_.name)"
   ],
   "id": "e28ad05049606297",
   "outputs": [],
   "execution_count": null
  },
  {
   "metadata": {},
   "cell_type": "code",
   "source": [
    "# calc Cosine Similarity Distances\n",
    "for rep in [avg_rep, few_bins_rep, lot_bins_rep, tiny_bins_rep]:\n",
    "    for do_soft in [True, False]:\n",
    "        _ = COSDistances(representations=rep, soft_features=do_soft)\n",
    "        print(f'done {_.name}')\n",
    "        all_variants.append(_.name)"
   ],
   "id": "3f5c1b8460ca5073",
   "outputs": [],
   "execution_count": null
  },
  {
   "metadata": {},
   "cell_type": "code",
   "source": [
    "# calc distances based on L-Norm\n",
    "for w_by in ['source', 'target', None]:\n",
    "    for rep in [avg_rep, few_bins_rep, lot_bins_rep, tiny_bins_rep]:\n",
    "        for w_pp in ['norm', 'soft']:\n",
    "            for do_soft in [True, False]:\n",
    "                for p in range(1, 4):\n",
    "                    _ = LNormDistances(representations=rep, p=p, soft_features=do_soft, weighing_by=w_by, weights_rep=avg_rep, weights_pp=w_pp)\n",
    "                    print(f'done {_.name}')\n",
    "                    all_variants.append(_.name)"
   ],
   "id": "384fc20b2f4df742",
   "outputs": [],
   "execution_count": null
  },
  {
   "metadata": {},
   "cell_type": "code",
   "source": [
    "for s_w in range(5):\n",
    "    for t_w in range(5):\n",
    "        x = LogDistances(representations=avg_rep, w_t=t_w, w_s=s_w)\n",
    "        print(f'done {x.name}')\n",
    "        y = ExpDistances(representations=avg_rep, w_t=t_w, w_s=s_w)\n",
    "        print(f'done {y.name}')\n",
    "        all_variants.extend([x.name, y.name])"
   ],
   "id": "a4feb1d17838ef7e",
   "outputs": [],
   "execution_count": null
  },
  {
   "cell_type": "code",
   "source": [
    "# calc fid distance\n",
    "all_variants.append(FIDDistances(representations=mean_cov_rep).name)"
   ],
   "metadata": {
    "collapsed": false,
    "ExecuteTime": {
     "end_time": "2024-10-08T16:03:41.729705Z",
     "start_time": "2024-10-08T15:31:06.634372Z"
    }
   },
   "id": "d22a08ace62c6c17",
   "outputs": [],
   "execution_count": 35
  },
  {
   "metadata": {
    "ExecuteTime": {
     "end_time": "2024-10-08T19:07:12.270166Z",
     "start_time": "2024-10-08T19:07:12.265739Z"
    }
   },
   "cell_type": "code",
   "source": [
    "from mml_tf.variants import variants as stored_variants\n",
    "assert sorted(list(set(all_variants))) == stored_variants"
   ],
   "id": "b8dcd6e9334f202",
   "outputs": [],
   "execution_count": 37
  },
  {
   "metadata": {},
   "cell_type": "markdown",
   "source": "## additional baselines",
   "id": "7e42110893fdd53c"
  },
  {
   "metadata": {
    "ExecuteTime": {
     "end_time": "2024-10-08T11:34:53.621257Z",
     "start_time": "2024-10-08T11:30:58.518882Z"
    }
   },
   "cell_type": "code",
   "source": [
    "# maximum mean discrepancy\n",
    "_ = MMDDistances(representations=full_rep)"
   ],
   "id": "2ff75f3b7e1cba1",
   "outputs": [],
   "execution_count": 22
  },
  {
   "metadata": {
    "ExecuteTime": {
     "end_time": "2024-10-08T11:34:54.996955Z",
     "start_time": "2024-10-08T11:34:53.625136Z"
    }
   },
   "cell_type": "code",
   "source": [
    "# fisher embedding distance\n",
    "layers = list(fisher_rep.mapping['lapgyn4_surgical_actions'].keys())\n",
    "layers = layers[int(0.4*len(layers)):]\n",
    "_ = GenericFEDDistances(representations=fisher_rep, layers=layers, name='FED')"
   ],
   "id": "d01cc614208458a4",
   "outputs": [],
   "execution_count": 23
  },
  {
   "metadata": {},
   "cell_type": "code",
   "source": [
    "# \"Optimal\" distances are a tool to mimic the actually measured performances, these distances may be used for analysis purposes\n",
    "optimal_variants = []\n",
    "for exp in EXPERIMENTS:\n",
    "    for agg in [AggregateStrategy.FIRST, AggregateStrategy.SECOND, AggregateStrategy.THIRD]:\n",
    "        for metric in METRICS:\n",
    "            x = OptimalDistances(metric=metric, agg=agg, exp=exp)\n",
    "            optimal_variants.append(x.name)"
   ],
   "id": "f542dcdc7bc977f",
   "outputs": [],
   "execution_count": null
  },
  {
   "metadata": {
    "ExecuteTime": {
     "end_time": "2024-10-08T19:08:11.078360Z",
     "start_time": "2024-10-08T19:08:11.073941Z"
    }
   },
   "cell_type": "code",
   "source": [
    "from mml_tf.variants import optimal_variants as stored_optimal_variants\n",
    "assert optimal_variants == stored_optimal_variants"
   ],
   "id": "6a901169cf21dff8",
   "outputs": [],
   "execution_count": 38
  },
  {
   "metadata": {},
   "cell_type": "markdown",
   "source": "## vary bins experiments",
   "id": "6caf0081d4323b0c"
  },
  {
   "metadata": {
    "ExecuteTime": {
     "end_time": "2024-10-08T11:36:52.598511Z",
     "start_time": "2024-10-08T11:34:55.782436Z"
    }
   },
   "cell_type": "code",
   "source": [
    "# additional variants by bin size of the chosen three variants of bKLD\n",
    "bin_range = [10, 25, 50, 75, 100, 250, 500, 750, 1000]\n",
    "binned_reps = []\n",
    "for n_bins in bin_range:\n",
    "    tmp = BinnedFeatureRepresentations(n_bins=n_bins, full_features=full_rep)\n",
    "    tmp.load_representations()\n",
    "    binned_reps.append(tmp)"
   ],
   "id": "e0121ed24855e281",
   "outputs": [],
   "execution_count": 26
  },
  {
   "metadata": {
    "ExecuteTime": {
     "end_time": "2024-10-08T11:37:34.351660Z",
     "start_time": "2024-10-08T11:36:52.605854Z"
    }
   },
   "cell_type": "code",
   "source": [
    "for rep in binned_reps:\n",
    "    _ = KLDDistances(representations=rep, weighing_by='target', weights_pp='soft', weights_rep=avg_rep)\n",
    "    _ = KLDDistances(representations=rep, weighing_by=None)\n",
    "    _ = KLDDistances(representations=rep, weighing_by='source', weights_pp='norm', weights_rep=avg_rep)"
   ],
   "id": "a502218e69431a5f",
   "outputs": [],
   "execution_count": 27
  },
  {
   "metadata": {},
   "cell_type": "markdown",
   "source": "## vary sample size experiments",
   "id": "d8efaae019adc61e"
  },
  {
   "metadata": {},
   "cell_type": "code",
   "source": [
    "# additional experiments by variation of the number of samples used to determine bKLD fingerprints\n",
    "n_reps = 10\n",
    "for n_samples in track([10, 100, 1000]):\n",
    "    for rep_idx in range(n_reps):\n",
    "        tmp_rep = copy.deepcopy(full_rep)\n",
    "        idxs = np.random.randint(tmp_rep.n_samples, size=n_samples)\n",
    "        # adapt samples\n",
    "        tmp_rep.mapping = {k: v[idxs, :] for k, v in tmp_rep.mapping.items()}\n",
    "        # avg for weighing\n",
    "        tmp_avg_rep = AveragedFeatureRepresentations(full_features=tmp_rep)\n",
    "        tmp_avg_rep.load_representations()\n",
    "        # bin to fingerprint (small and large)\n",
    "        rep_small = BinnedFeatureRepresentations(full_features=tmp_rep, n_bins=100)\n",
    "        rep_small.load_representations()\n",
    "        rep_large = BinnedFeatureRepresentations(full_features=tmp_rep, n_bins=1000)\n",
    "        rep_large.load_representations()\n",
    "        _ = KLDDistances(representations=rep_small, weights_rep=tmp_avg_rep, weights_pp='soft', weighing_by='target', seed=rep_idx)\n",
    "        _ = KLDDistances(representations=rep_large, weights_rep=tmp_avg_rep, weights_pp='norm', weighing_by='source', seed=rep_idx)\n",
    "        _ = KLDDistances(representations=rep_large, weighing_by=None, seed=rep_idx)"
   ],
   "id": "543be542dcc6e68c",
   "outputs": [],
   "execution_count": null
  }
 ],
 "metadata": {
  "kernelspec": {
   "display_name": "Python 3",
   "language": "python",
   "name": "python3"
  },
  "language_info": {
   "codemirror_mode": {
    "name": "ipython",
    "version": 2
   },
   "file_extension": ".py",
   "mimetype": "text/x-python",
   "name": "python",
   "nbconvert_exporter": "python",
   "pygments_lexer": "ipython2",
   "version": "2.7.6"
  }
 },
 "nbformat": 4,
 "nbformat_minor": 5
}
