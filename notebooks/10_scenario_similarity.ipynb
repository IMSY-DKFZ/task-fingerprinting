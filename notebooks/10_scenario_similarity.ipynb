{
 "cells": [
  {
   "metadata": {},
   "cell_type": "markdown",
   "source": [
    "## Correlation of scenarios\n",
    "\n",
    "This notebook produces Tab. 3 of the Extended Data. It investigates how much the MEASURED rankings of different transfer scenarios correlate with each other."
   ],
   "id": "6a0d9e9d24685f3b"
  },
  {
   "cell_type": "code",
   "id": "initial_id",
   "metadata": {
    "collapsed": true,
    "ExecuteTime": {
     "end_time": "2024-10-15T11:00:54.327693Z",
     "start_time": "2024-10-15T11:00:32.951950Z"
    }
   },
   "source": [
    "import mml.interactive\n",
    "from pathlib import Path\n",
    "mml.interactive.init(Path('~/.config/mml.env').expanduser())\n",
    "from mml_tf.experiments import load_experiment, EXPERIMENTS, METRICS\n",
    "from mml_tf.aggregate import AggregateStrategy, aggregate_observations\n",
    "from mml_tf.tasks import get_valid_sources, test_tasks\n",
    "from itertools import product\n",
    "import pandas as pd\n",
    "import numpy as np\n",
    "import scipy.stats"
   ],
   "outputs": [
    {
     "name": "stderr",
     "output_type": "stream",
     "text": [
      "/home/scholzpa/Documents/development/gitlab/mml/src/mml/interactive/__init__.py:49: UserWarning: Did not provide a \"env_path\", neither found set \"MML_ENV_PATH\" variable, you might need to provide \"env_path\" to \"init\" in order to use \"mml\" interactively in a jupyter/ipython setting.\n",
      "  warnings.warn(\n",
      "/home/scholzpa/miniconda3/envs/mml/lib/python3.8/site-packages/kornia/feature/lightglue.py:44: FutureWarning: `torch.cuda.amp.custom_fwd(args...)` is deprecated. Please use `torch.amp.custom_fwd(args..., device_type='cuda')` instead.\n",
      "  @torch.cuda.amp.custom_fwd(cast_inputs=torch.float32)\n"
     ]
    },
    {
     "name": "stdout",
     "output_type": "stream",
     "text": [
      " _____ ______   _____ ______   ___\n",
      "|\\   _ \\  _   \\|\\   _ \\  _   \\|\\  \\\n",
      "\\ \\  \\\\\\__\\ \\  \\ \\  \\\\\\__\\ \\  \\ \\  \\\n",
      " \\ \\  \\\\|__| \\  \\ \\  \\\\|__| \\  \\ \\  \\\n",
      "  \\ \\  \\    \\ \\  \\ \\  \\    \\ \\  \\ \\  \\____\n",
      "   \\ \\__\\    \\ \\__\\ \\__\\    \\ \\__\\ \\_______\\\n",
      "    \\|__|     \\|__|\\|__|     \\|__|\\|_______|\n",
      "         ____  _  _    __  _  _  ____  _  _\n",
      "        (  _ \\( \\/ )  (  )( \\/ )/ ___)( \\/ )\n",
      "         ) _ ( )  /    )( / \\/ \\\\___ \\ )  /\n",
      "        (____/(__/    (__)\\_)(_/(____/(__/\n",
      "Interactive MML API initialized.\n"
     ]
    }
   ],
   "execution_count": 1
  },
  {
   "metadata": {
    "ExecuteTime": {
     "end_time": "2024-10-15T11:01:29.732810Z",
     "start_time": "2024-10-15T11:01:25.779759Z"
    }
   },
   "cell_type": "code",
   "source": [
    "corr_df = pd.DataFrame(columns=EXPERIMENTS, index=EXPERIMENTS)\n",
    "for exp_1, exp_2 in product(EXPERIMENTS, repeat=2):\n",
    "    _sims = []\n",
    "    for metric in METRICS:\n",
    "        for agg in [AggregateStrategy.FIRST, AggregateStrategy.SECOND, AggregateStrategy.THIRD]:\n",
    "            exp_1_df = aggregate_observations(load_experiment(experiment_name=exp_1, metric=metric), strat=agg)\n",
    "            exp_2_df = aggregate_observations(load_experiment(experiment_name=exp_2, metric=metric), strat=agg)\n",
    "            for target in test_tasks:\n",
    "                sources = get_valid_sources(target)\n",
    "                _sims.append(exp_1_df[target].loc[sources].corr(exp_2_df[target].loc[sources], method= lambda x, y: scipy.stats.weightedtau(x, y)[0]))\n",
    "    corr_df.at[exp_1, exp_2] = f'{np.mean(_sims):.3f} ± {np.std(_sims):.3f}'\n",
    "corr_df"
   ],
   "id": "7e010c832aeca44a",
   "outputs": [
    {
     "data": {
      "text/plain": [
       "                       Model<br>Architecture Pretraining<br>Data  \\\n",
       "Model<br>Architecture          1.000 ± 0.000       0.084 ± 0.147   \n",
       "Pretraining<br>Data            0.084 ± 0.147       1.000 ± 0.000   \n",
       "Augmentation<br>Policy         0.078 ± 0.141       0.037 ± 0.164   \n",
       "Co-Training<br>Data            0.052 ± 0.137       0.038 ± 0.136   \n",
       "\n",
       "                       Augmentation<br>Policy Co-Training<br>Data  \n",
       "Model<br>Architecture           0.078 ± 0.141       0.052 ± 0.137  \n",
       "Pretraining<br>Data             0.037 ± 0.164       0.038 ± 0.136  \n",
       "Augmentation<br>Policy          1.000 ± 0.000      -0.002 ± 0.140  \n",
       "Co-Training<br>Data            -0.002 ± 0.140       1.000 ± 0.000  "
      ],
      "text/html": [
       "<div>\n",
       "<style scoped>\n",
       "    .dataframe tbody tr th:only-of-type {\n",
       "        vertical-align: middle;\n",
       "    }\n",
       "\n",
       "    .dataframe tbody tr th {\n",
       "        vertical-align: top;\n",
       "    }\n",
       "\n",
       "    .dataframe thead th {\n",
       "        text-align: right;\n",
       "    }\n",
       "</style>\n",
       "<table border=\"1\" class=\"dataframe\">\n",
       "  <thead>\n",
       "    <tr style=\"text-align: right;\">\n",
       "      <th></th>\n",
       "      <th>Model&lt;br&gt;Architecture</th>\n",
       "      <th>Pretraining&lt;br&gt;Data</th>\n",
       "      <th>Augmentation&lt;br&gt;Policy</th>\n",
       "      <th>Co-Training&lt;br&gt;Data</th>\n",
       "    </tr>\n",
       "  </thead>\n",
       "  <tbody>\n",
       "    <tr>\n",
       "      <th>Model&lt;br&gt;Architecture</th>\n",
       "      <td>1.000 ± 0.000</td>\n",
       "      <td>0.084 ± 0.147</td>\n",
       "      <td>0.078 ± 0.141</td>\n",
       "      <td>0.052 ± 0.137</td>\n",
       "    </tr>\n",
       "    <tr>\n",
       "      <th>Pretraining&lt;br&gt;Data</th>\n",
       "      <td>0.084 ± 0.147</td>\n",
       "      <td>1.000 ± 0.000</td>\n",
       "      <td>0.037 ± 0.164</td>\n",
       "      <td>0.038 ± 0.136</td>\n",
       "    </tr>\n",
       "    <tr>\n",
       "      <th>Augmentation&lt;br&gt;Policy</th>\n",
       "      <td>0.078 ± 0.141</td>\n",
       "      <td>0.037 ± 0.164</td>\n",
       "      <td>1.000 ± 0.000</td>\n",
       "      <td>-0.002 ± 0.140</td>\n",
       "    </tr>\n",
       "    <tr>\n",
       "      <th>Co-Training&lt;br&gt;Data</th>\n",
       "      <td>0.052 ± 0.137</td>\n",
       "      <td>0.038 ± 0.136</td>\n",
       "      <td>-0.002 ± 0.140</td>\n",
       "      <td>1.000 ± 0.000</td>\n",
       "    </tr>\n",
       "  </tbody>\n",
       "</table>\n",
       "</div>"
      ]
     },
     "execution_count": 2,
     "metadata": {},
     "output_type": "execute_result"
    }
   ],
   "execution_count": 2
  }
 ],
 "metadata": {
  "kernelspec": {
   "display_name": "Python 3",
   "language": "python",
   "name": "python3"
  },
  "language_info": {
   "codemirror_mode": {
    "name": "ipython",
    "version": 2
   },
   "file_extension": ".py",
   "mimetype": "text/x-python",
   "name": "python",
   "nbconvert_exporter": "python",
   "pygments_lexer": "ipython2",
   "version": "2.7.6"
  }
 },
 "nbformat": 4,
 "nbformat_minor": 5
}
